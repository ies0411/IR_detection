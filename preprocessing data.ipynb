{
 "cells": [
  {
   "cell_type": "code",
   "execution_count": 8,
   "id": "d2b38712",
   "metadata": {},
   "outputs": [],
   "source": [
    "\n",
    "import os\n",
    "import json\n",
    "from PIL import Image\n",
    "import numpy as np\n",
    "\n",
    "os.environ[\"CUDA_VISIBLE_DEVICES\"]=\"2\""
   ]
  },
  {
   "cell_type": "code",
   "execution_count": 9,
   "id": "8e660346",
   "metadata": {},
   "outputs": [],
   "source": [
    "with open('./radar/datasets/anno/train.json', 'r') as file:\n",
    "    data = json.load(file)"
   ]
  },
  {
   "cell_type": "code",
   "execution_count": 10,
   "id": "fe0d2a2b",
   "metadata": {},
   "outputs": [
    {
     "data": {
      "text/plain": [
       "dict_keys(['images', 'annotations', 'categories'])"
      ]
     },
     "execution_count": 10,
     "metadata": {},
     "output_type": "execute_result"
    }
   ],
   "source": [
    "data.keys()"
   ]
  },
  {
   "cell_type": "code",
   "execution_count": 19,
   "id": "0f7bd6c1",
   "metadata": {},
   "outputs": [
    {
     "name": "stdout",
     "output_type": "stream",
     "text": [
      "{'id': 33429, 'image_id': 'train_4620', 'bbox': [622, 246, 20, 47], 'area': 940, 'category_id': 7, 'segmentation': [], 'iscrowd': 0}\n",
      "{'id': 33845, 'image_id': 'train_4688', 'bbox': [617, 256, 25, 25], 'area': 625, 'category_id': 7, 'segmentation': [], 'iscrowd': 0}\n",
      "{'id': 33846, 'image_id': 'train_4688', 'bbox': [-1, 196, 68, 90], 'area': 6120, 'category_id': 1, 'segmentation': [], 'iscrowd': 0}\n",
      "{'id': 42896, 'image_id': 'train_5912', 'bbox': [-1, 101, 59, 182], 'area': 10738, 'category_id': 0, 'segmentation': [], 'iscrowd': 0}\n"
     ]
    }
   ],
   "source": [
    "##label 이상치 확인 -> albumentation에서 에러발생\n",
    "for info in data[\"annotations\"]:\n",
    "    bbox = info[\"bbox\"]\n",
    "    if bbox[0]<0 or bbox[1]<0 or bbox[0]+bbox[2]>640 or bbox[1]+bbox[3] >480:\n",
    "        print(info)\n",
    "   \n",
    "# img_scale = (640, 480)\n"
   ]
  },
  {
   "cell_type": "code",
   "execution_count": 19,
   "id": "d986a935",
   "metadata": {},
   "outputs": [],
   "source": [
    "### class 분포확인\n",
    "\n",
    "label_num={0:0,1:0,2:0,3:0,4:0,5:0,6:0,7:0}\n",
    "\n",
    "for data_info in data[\"annotations\"]:\n",
    "    label_num[data_info[\"category_id\"]]+=1\n",
    "    "
   ]
  },
  {
   "cell_type": "code",
   "execution_count": 20,
   "id": "ba18c87d",
   "metadata": {},
   "outputs": [
    {
     "data": {
      "text/plain": [
       "{0: 13684, 1: 27754, 2: 2341, 3: 1232, 4: 427, 5: 1172, 6: 29, 7: 3708}"
      ]
     },
     "execution_count": 20,
     "metadata": {},
     "output_type": "execute_result"
    }
   ],
   "source": [
    "label_num"
   ]
  },
  {
   "cell_type": "code",
   "execution_count": 2,
   "id": "42228d40",
   "metadata": {
    "scrolled": true
   },
   "outputs": [],
   "source": [
    "\n",
    "train_dir_prefix = \"./radar/datasets/train/\"\n",
    "images = os.listdir(train_dir_prefix)\n"
   ]
  },
  {
   "cell_type": "code",
   "execution_count": 4,
   "id": "d18c7783",
   "metadata": {},
   "outputs": [
    {
     "data": {
      "text/plain": [
       "7019"
      ]
     },
     "execution_count": 4,
     "metadata": {},
     "output_type": "execute_result"
    }
   ],
   "source": [
    "len(images)"
   ]
  },
  {
   "cell_type": "code",
   "execution_count": 5,
   "id": "19fb382d",
   "metadata": {},
   "outputs": [],
   "source": [
    "all_pixels = []\n",
    "\n",
    "for idx,image in enumerate(images):\n",
    "    if idx % 10 == 0:\n",
    "        image_path = os.path.join(train_dir_prefix,image)\n",
    "        image = Image.open(image_path).convert('L')\n",
    "        image_array = np.array(image)\n",
    "        all_pixels.append(image_array.flatten())\n",
    "all_pixels = np.hstack(all_pixels)\n",
    "\n",
    "# 평균 및 표준 편차 계산\n",
    "mean = all_pixels.mean()\n",
    "std = all_pixels.std()\n",
    "    "
   ]
  },
  {
   "cell_type": "code",
   "execution_count": 6,
   "id": "9f083e32",
   "metadata": {},
   "outputs": [
    {
     "data": {
      "text/plain": [
       "139.4229080324816"
      ]
     },
     "execution_count": 6,
     "metadata": {},
     "output_type": "execute_result"
    }
   ],
   "source": [
    "mean"
   ]
  },
  {
   "cell_type": "code",
   "execution_count": 7,
   "id": "e8416482",
   "metadata": {},
   "outputs": [
    {
     "data": {
      "text/plain": [
       "56.34895042201581"
      ]
     },
     "execution_count": 7,
     "metadata": {},
     "output_type": "execute_result"
    }
   ],
   "source": [
    "std"
   ]
  },
  {
   "cell_type": "code",
   "execution_count": 3,
   "id": "8fd1fe62",
   "metadata": {},
   "outputs": [
    {
     "name": "stdout",
     "output_type": "stream",
     "text": [
      "Loads checkpoint by local backend from path: ./work_dirs/co_dino_5scale_swin_l_16xb1_16e_custom/epoch_5.pth\n",
      "08/29 13:16:27 - mmengine - INFO - \n",
      "rpn_conv.weight - torch.Size([256, 256, 3, 3]): \n",
      "NormalInit: mean=0, std=0.01, bias=0 \n",
      " \n",
      "08/29 13:16:27 - mmengine - INFO - \n",
      "rpn_conv.bias - torch.Size([256]): \n",
      "NormalInit: mean=0, std=0.01, bias=0 \n",
      " \n",
      "08/29 13:16:27 - mmengine - INFO - \n",
      "rpn_cls.weight - torch.Size([9, 256, 1, 1]): \n",
      "NormalInit: mean=0, std=0.01, bias=0 \n",
      " \n",
      "08/29 13:16:27 - mmengine - INFO - \n",
      "rpn_cls.bias - torch.Size([9]): \n",
      "NormalInit: mean=0, std=0.01, bias=0 \n",
      " \n",
      "08/29 13:16:27 - mmengine - INFO - \n",
      "rpn_reg.weight - torch.Size([36, 256, 1, 1]): \n",
      "NormalInit: mean=0, std=0.01, bias=0 \n",
      " \n",
      "08/29 13:16:27 - mmengine - INFO - \n",
      "rpn_reg.bias - torch.Size([36]): \n",
      "NormalInit: mean=0, std=0.01, bias=0 \n",
      " \n",
      "08/29 13:16:28 - mmengine - INFO - \n",
      "bbox_head.fc_cls.weight - torch.Size([81, 1024]): \n",
      "NormalInit: mean=0, std=0.01, bias=0 \n",
      " \n",
      "08/29 13:16:28 - mmengine - INFO - \n",
      "bbox_head.fc_cls.bias - torch.Size([81]): \n",
      "NormalInit: mean=0, std=0.01, bias=0 \n",
      " \n",
      "08/29 13:16:28 - mmengine - INFO - \n",
      "bbox_head.fc_reg.weight - torch.Size([320, 1024]): \n",
      "NormalInit: mean=0, std=0.001, bias=0 \n",
      " \n",
      "08/29 13:16:28 - mmengine - INFO - \n",
      "bbox_head.fc_reg.bias - torch.Size([320]): \n",
      "NormalInit: mean=0, std=0.001, bias=0 \n",
      " \n",
      "08/29 13:16:28 - mmengine - INFO - \n",
      "bbox_head.shared_fcs.0.weight - torch.Size([1024, 12544]): \n",
      "XavierInit: gain=1, distribution=uniform, bias=0 \n",
      " \n",
      "08/29 13:16:28 - mmengine - INFO - \n",
      "bbox_head.shared_fcs.0.bias - torch.Size([1024]): \n",
      "XavierInit: gain=1, distribution=uniform, bias=0 \n",
      " \n",
      "08/29 13:16:28 - mmengine - INFO - \n",
      "bbox_head.shared_fcs.1.weight - torch.Size([1024, 1024]): \n",
      "XavierInit: gain=1, distribution=uniform, bias=0 \n",
      " \n",
      "08/29 13:16:28 - mmengine - INFO - \n",
      "bbox_head.shared_fcs.1.bias - torch.Size([1024]): \n",
      "XavierInit: gain=1, distribution=uniform, bias=0 \n",
      " \n",
      "08/29 13:16:28 - mmengine - INFO - \n",
      "cls_convs.0.conv.weight - torch.Size([256, 256, 3, 3]): \n",
      "NormalInit: mean=0, std=0.01, bias=0 \n",
      " \n",
      "08/29 13:16:28 - mmengine - INFO - \n",
      "cls_convs.0.gn.weight - torch.Size([256]): \n",
      "The value is the same before and after calling `init_weights` of CoATSSHead  \n",
      " \n",
      "08/29 13:16:28 - mmengine - INFO - \n",
      "cls_convs.0.gn.bias - torch.Size([256]): \n",
      "The value is the same before and after calling `init_weights` of CoATSSHead  \n",
      " \n",
      "08/29 13:16:28 - mmengine - INFO - \n",
      "reg_convs.0.conv.weight - torch.Size([256, 256, 3, 3]): \n",
      "NormalInit: mean=0, std=0.01, bias=0 \n",
      " \n",
      "08/29 13:16:28 - mmengine - INFO - \n",
      "reg_convs.0.gn.weight - torch.Size([256]): \n",
      "The value is the same before and after calling `init_weights` of CoATSSHead  \n",
      " \n",
      "08/29 13:16:28 - mmengine - INFO - \n",
      "reg_convs.0.gn.bias - torch.Size([256]): \n",
      "The value is the same before and after calling `init_weights` of CoATSSHead  \n",
      " \n",
      "08/29 13:16:28 - mmengine - INFO - \n",
      "atss_cls.weight - torch.Size([80, 256, 3, 3]): \n",
      "NormalInit: mean=0, std=0.01, bias=-4.59511985013459 \n",
      " \n",
      "08/29 13:16:28 - mmengine - INFO - \n",
      "atss_cls.bias - torch.Size([80]): \n",
      "NormalInit: mean=0, std=0.01, bias=-4.59511985013459 \n",
      " \n",
      "08/29 13:16:28 - mmengine - INFO - \n",
      "atss_reg.weight - torch.Size([4, 256, 3, 3]): \n",
      "NormalInit: mean=0, std=0.01, bias=0 \n",
      " \n",
      "08/29 13:16:28 - mmengine - INFO - \n",
      "atss_reg.bias - torch.Size([4]): \n",
      "NormalInit: mean=0, std=0.01, bias=0 \n",
      " \n",
      "08/29 13:16:28 - mmengine - INFO - \n",
      "atss_centerness.weight - torch.Size([1, 256, 3, 3]): \n",
      "NormalInit: mean=0, std=0.01, bias=0 \n",
      " \n",
      "08/29 13:16:28 - mmengine - INFO - \n",
      "atss_centerness.bias - torch.Size([1]): \n",
      "NormalInit: mean=0, std=0.01, bias=0 \n",
      " \n",
      "08/29 13:16:28 - mmengine - INFO - \n",
      "scales.0.scale - torch.Size([]): \n",
      "The value is the same before and after calling `init_weights` of CoATSSHead  \n",
      " \n",
      "08/29 13:16:28 - mmengine - INFO - \n",
      "scales.1.scale - torch.Size([]): \n",
      "The value is the same before and after calling `init_weights` of CoATSSHead  \n",
      " \n",
      "08/29 13:16:28 - mmengine - INFO - \n",
      "scales.2.scale - torch.Size([]): \n",
      "The value is the same before and after calling `init_weights` of CoATSSHead  \n",
      " \n",
      "08/29 13:16:28 - mmengine - INFO - \n",
      "scales.3.scale - torch.Size([]): \n",
      "The value is the same before and after calling `init_weights` of CoATSSHead  \n",
      " \n",
      "08/29 13:16:28 - mmengine - INFO - \n",
      "scales.4.scale - torch.Size([]): \n",
      "The value is the same before and after calling `init_weights` of CoATSSHead  \n",
      " \n",
      "08/29 13:16:28 - mmengine - INFO - \n",
      "scales.5.scale - torch.Size([]): \n",
      "The value is the same before and after calling `init_weights` of CoATSSHead  \n",
      " \n"
     ]
    },
    {
     "name": "stderr",
     "output_type": "stream",
     "text": [
      "/mnt/nas2/users/eslim/workspace/comp/mmdetection/mmdet/models/dense_heads/anchor_head.py:108: UserWarning: DeprecationWarning: `num_anchors` is deprecated, for consistency or also use `num_base_priors` instead\n",
      "  warnings.warn('DeprecationWarning: `num_anchors` is deprecated, '\n"
     ]
    },
    {
     "name": "stdout",
     "output_type": "stream",
     "text": [
      "08/29 13:16:32 - mmengine - WARNING - Failed to search registry with scope \"mmdet\" in the \"function\" registry tree. As a workaround, the current \"function\" registry in \"mmengine\" is used to build instance. This may cause unexpected failure when running the built modules. Please check whether \"mmdet\" is a correct scope, or whether the registry is initialized.\n",
      "08/29 13:16:32 - mmengine - WARNING - `Visualizer` backend is not initialized because save_dir is None.\n"
     ]
    },
    {
     "data": {
      "application/vnd.jupyter.widget-view+json": {
       "model_id": "641451f98d1f4162b5786123feb64857",
       "version_major": 2,
       "version_minor": 0
      },
      "text/plain": [
       "Output()"
      ]
     },
     "metadata": {},
     "output_type": "display_data"
    },
    {
     "data": {
      "text/html": [
       "<pre style=\"white-space:pre;overflow-x:auto;line-height:normal;font-family:Menlo,'DejaVu Sans Mono',consolas,'Courier New',monospace\">/opt/conda/lib/python3.7/site-packages/torch/_tensor.py:575: UserWarning: floor_divide is deprecated, and will be \n",
       "removed in a future version of pytorch. It currently rounds toward 0 (like the 'trunc' function NOT 'floor'). This \n",
       "results in incorrect rounding for negative values.\n",
       "To keep the current behavior, use torch.div(a, b, rounding_mode='trunc'), or for actual floor division, use \n",
       "torch.div(a, b, rounding_mode='floor'). (Triggered internally at  \n",
       "/opt/conda/conda-bld/pytorch_1623448265233/work/aten/src/ATen/native/BinaryOps.cpp:467.)\n",
       "  return torch.floor_divide(self, other)\n",
       "</pre>\n"
      ],
      "text/plain": [
       "/opt/conda/lib/python3.7/site-packages/torch/_tensor.py:575: UserWarning: floor_divide is deprecated, and will be \n",
       "removed in a future version of pytorch. It currently rounds toward 0 (like the 'trunc' function NOT 'floor'). This \n",
       "results in incorrect rounding for negative values.\n",
       "To keep the current behavior, use torch.div(a, b, rounding_mode='trunc'), or for actual floor division, use \n",
       "torch.div(a, b, rounding_mode='floor'). (Triggered internally at  \n",
       "/opt/conda/conda-bld/pytorch_1623448265233/work/aten/src/ATen/native/BinaryOps.cpp:467.)\n",
       "  return torch.floor_divide(self, other)\n"
      ]
     },
     "metadata": {},
     "output_type": "display_data"
    },
    {
     "data": {
      "text/html": [
       "<pre style=\"white-space:pre;overflow-x:auto;line-height:normal;font-family:Menlo,'DejaVu Sans Mono',consolas,'Courier New',monospace\"></pre>\n"
      ],
      "text/plain": []
     },
     "metadata": {},
     "output_type": "display_data"
    }
   ],
   "source": [
    "from mmdet.apis import DetInferencer\n",
    "\n",
    "# Choose to use a config\n",
    "# model_name = 'rtmdet_tiny_8xb32-300e_coco'\n",
    "model_name = './projects/CO-DETR/configs/codino/co_dino_5scale_swin_l_16xb1_16e_custom.py'\n",
    "\n",
    "# Setup a checkpoint file to load\n",
    "# checkpoint = './checkpoints/co_dino_5scale_swin_large_16e_o365tococo-614254c9.pth'\n",
    "checkpoint = \"./work_dirs/co_dino_5scale_swin_l_16xb1_16e_custom/epoch_5.pth\"\n",
    "\n",
    "# Set the device to be used for evaluation\n",
    "device = 'cuda:0'\n",
    "\n",
    "# Initialize the DetInferencer\n",
    "inferencer = DetInferencer(model_name, checkpoint, device)\n",
    "\n",
    "# Use the detector to do inference\n",
    "img = './demo/demo.jpg'\n",
    "result = inferencer(img, out_dir='./output')"
   ]
  },
  {
   "cell_type": "code",
   "execution_count": 4,
   "id": "13746ae0",
   "metadata": {},
   "outputs": [
    {
     "data": {
      "text/plain": [
       "[295.40911865234375,\n",
       " 115.19164276123047,\n",
       " 378.32366943359375,\n",
       " 149.26853942871094]"
      ]
     },
     "execution_count": 4,
     "metadata": {},
     "output_type": "execute_result"
    }
   ],
   "source": [
    "result.keys()\n",
    "len(result['predictions'])\n",
    "result['predictions'][0].keys()\n",
    "result['predictions'][0][\"bboxes\"]\n",
    "result['predictions'][0][\"scores\"]\n",
    "result['predictions'][0][\"labels\"]\n",
    "result['predictions'][0][\"bboxes\"][0]"
   ]
  },
  {
   "cell_type": "code",
   "execution_count": 7,
   "id": "c8980f95",
   "metadata": {},
   "outputs": [
    {
     "data": {
      "application/vnd.jupyter.widget-view+json": {
       "model_id": "e13c767ecc144ad98b5b6e0345d6178b",
       "version_major": 2,
       "version_minor": 0
      },
      "text/plain": [
       "Output()"
      ]
     },
     "metadata": {},
     "output_type": "display_data"
    },
    {
     "data": {
      "text/html": [
       "<pre style=\"white-space:pre;overflow-x:auto;line-height:normal;font-family:Menlo,'DejaVu Sans Mono',consolas,'Courier New',monospace\"></pre>\n"
      ],
      "text/plain": []
     },
     "metadata": {},
     "output_type": "display_data"
    }
   ],
   "source": [
    "img = '../radar/datasets/test/test_open_0.png'\n",
    "result = inferencer(img, out_dir='./output')"
   ]
  }
 ],
 "metadata": {
  "kernelspec": {
   "display_name": "Python 3 (ipykernel)",
   "language": "python",
   "name": "python3"
  },
  "language_info": {
   "codemirror_mode": {
    "name": "ipython",
    "version": 3
   },
   "file_extension": ".py",
   "mimetype": "text/x-python",
   "name": "python",
   "nbconvert_exporter": "python",
   "pygments_lexer": "ipython3",
   "version": "3.7.10"
  }
 },
 "nbformat": 4,
 "nbformat_minor": 5
}
