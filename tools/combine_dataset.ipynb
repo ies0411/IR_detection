{
 "cells": [
  {
   "cell_type": "code",
   "execution_count": 1,
   "id": "8e660346",
   "metadata": {},
   "outputs": [],
   "source": [
    "#### combine train, val dataset #####\n",
    "\n",
    "import json\n",
    "import copy\n",
    "import matplotlib.pyplot as plt\n",
    "from PIL import Image, ImageDraw\n",
    "\n",
    "with open('../datasets/anno/train.json', 'r') as file:\n",
    "    train_data = json.load(file)\n",
    "\n",
    "with open('../datasets/anno/val.json', 'r') as file:\n",
    "    val_data = json.load(file)\n"
   ]
  },
  {
   "cell_type": "code",
   "execution_count": 2,
   "id": "87f505e9",
   "metadata": {},
   "outputs": [
    {
     "data": {
      "text/plain": [
       "{'id': 50347,\n",
       " 'image_id': 'train_7017',\n",
       " 'bbox': [286, 238, 34, 59],\n",
       " 'area': 2006,\n",
       " 'category_id': 7,\n",
       " 'segmentation': [],\n",
       " 'iscrowd': 0}"
      ]
     },
     "execution_count": 2,
     "metadata": {},
     "output_type": "execute_result"
    }
   ],
   "source": [
    "train_data[\"annotations\"][-1]"
   ]
  },
  {
   "cell_type": "code",
   "execution_count": 3,
   "id": "a076a747",
   "metadata": {},
   "outputs": [],
   "source": [
    "total_data = {}\n",
    "total_data[\"images\"] = copy.deepcopy(train_data[\"images\"])\n",
    "total_data[\"images\"].extend(val_data[\"images\"])\n",
    "total_data[\"annotations\"] = copy.deepcopy(train_data[\"annotations\"])\n",
    "\n",
    "for anno in val_data[\"annotations\"]:\n",
    "    anno[\"id\"] += 50347\n",
    "    total_data[\"annotations\"].append(anno)\n",
    "\n",
    "total_data[\"categories\"] = copy.deepcopy(train_data[\"categories\"])"
   ]
  },
  {
   "cell_type": "code",
   "execution_count": 4,
   "id": "4a6cf962",
   "metadata": {},
   "outputs": [
    {
     "data": {
      "text/plain": [
       "54814"
      ]
     },
     "execution_count": 4,
     "metadata": {},
     "output_type": "execute_result"
    }
   ],
   "source": [
    "total_data[\"annotations\"][-1][\"id\"]\n",
    "# 54814\n"
   ]
  },
  {
   "cell_type": "code",
   "execution_count": 5,
   "id": "a86a37ba",
   "metadata": {},
   "outputs": [],
   "source": [
    "with open(\"../datasets/anno/total.json\", \"w\") as file:\n",
    "    json.dump(total_data, file, indent=4)"
   ]
  },
  {
   "cell_type": "code",
   "execution_count": null,
   "id": "051896e5",
   "metadata": {},
   "outputs": [],
   "source": [
    "################################################################################\n",
    "# combine extra data1"
   ]
  },
  {
   "cell_type": "code",
   "execution_count": 9,
   "id": "588f4787",
   "metadata": {},
   "outputs": [],
   "source": [
    "import json\n",
    "import copy\n",
    "with open('../datasets/extra_data_1/train/_annotations.coco.json', 'r') as file:\n",
    "    ext_train_data = json.load(file)\n",
    "\n",
    "with open('../datasets/extra_data_1/valid/_annotations.coco.json', 'r') as file:\n",
    "    ext_val_data = json.load(file)"
   ]
  },
  {
   "cell_type": "code",
   "execution_count": 10,
   "id": "901b3b76",
   "metadata": {},
   "outputs": [],
   "source": [
    "__MAP__ = {\n",
    "    1:4,\n",
    "    2:1,\n",
    "    3:0,\n",
    "\n",
    "}\n",
    "\n"
   ]
  },
  {
   "cell_type": "code",
   "execution_count": 11,
   "id": "7050d682",
   "metadata": {},
   "outputs": [
    {
     "data": {
      "text/plain": [
       "{'id': 67604,\n",
       " 'image_id': 8859,\n",
       " 'category_id': 2,\n",
       " 'bbox': [386, 190, 29, 26],\n",
       " 'area': 754,\n",
       " 'segmentation': [],\n",
       " 'iscrowd': 0}"
      ]
     },
     "execution_count": 11,
     "metadata": {},
     "output_type": "execute_result"
    }
   ],
   "source": [
    "ext_train_data[\"annotations\"][-1]"
   ]
  },
  {
   "cell_type": "code",
   "execution_count": 13,
   "id": "421c2f91",
   "metadata": {},
   "outputs": [],
   "source": [
    "for info in ext_train_data[\"images\"]:\n",
    "    total_data[\"images\"].append({'file_name': info[\"file_name\"], 'height': info[\"height\"], 'width':  info[\"width\"], 'id': \"ext_t_\"+str(info[\"id\"])})\n",
    "\n",
    "\n",
    "\n",
    "for info in ext_val_data[\"images\"]:\n",
    "    total_data[\"images\"].append({'file_name': info[\"file_name\"], 'height': info[\"height\"], 'width':  info[\"width\"], 'id': \"ext_v_\"+str(info[\"id\"])})\n"
   ]
  },
  {
   "cell_type": "code",
   "execution_count": 14,
   "id": "861a8762",
   "metadata": {},
   "outputs": [],
   "source": [
    "for idx,info in enumerate(ext_train_data[\"annotations\"]):\n",
    "    if info[\"category_id\"] in __MAP__.keys():\n",
    "        try:\n",
    "            total_data[\"annotations\"].append({'id': 54814+info[\"id\"]+1,\n",
    "              'image_id': \"ext_t_\"+str(info[\"image_id\"]),\n",
    "              'bbox': info[\"bbox\"],\n",
    "              'area': info[\"area\"],\n",
    "              'category_id': __MAP__[info[\"category_id\"]],\n",
    "              'segmentation': [],\n",
    "              'iscrowd': 0})\n",
    "        except:\n",
    "            print(idx)"
   ]
  },
  {
   "cell_type": "code",
   "execution_count": null,
   "id": "4f714c7f",
   "metadata": {},
   "outputs": [],
   "source": []
  },
  {
   "cell_type": "code",
   "execution_count": 15,
   "id": "cc8d6865",
   "metadata": {},
   "outputs": [
    {
     "data": {
      "text/plain": [
       "122419"
      ]
     },
     "execution_count": 15,
     "metadata": {},
     "output_type": "execute_result"
    }
   ],
   "source": [
    "total_data[\"annotations\"][-1][\"id\"]\n",
    "\n",
    "# 122419"
   ]
  },
  {
   "cell_type": "code",
   "execution_count": 16,
   "id": "56966494",
   "metadata": {},
   "outputs": [],
   "source": [
    "for idx,info in enumerate(ext_val_data[\"annotations\"]):\n",
    "    if info[\"category_id\"] in __MAP__.keys():\n",
    "        try:\n",
    "            total_data[\"annotations\"].append({'id': 122419+info[\"id\"]+1,\n",
    "              'image_id': \"ext_v_\"+str(info[\"image_id\"]),\n",
    "              'bbox': info[\"bbox\"],\n",
    "              'area': info[\"area\"],\n",
    "              'category_id': __MAP__[info[\"category_id\"]],\n",
    "              'segmentation': [],\n",
    "              'iscrowd': 0})\n",
    "        except:\n",
    "            print(idx)"
   ]
  },
  {
   "cell_type": "code",
   "execution_count": 17,
   "id": "3e17a0c3",
   "metadata": {},
   "outputs": [
    {
     "data": {
      "text/plain": [
       "134096"
      ]
     },
     "execution_count": 17,
     "metadata": {},
     "output_type": "execute_result"
    }
   ],
   "source": [
    "total_data[\"annotations\"][-1][\"id\"]\n"
   ]
  },
  {
   "cell_type": "code",
   "execution_count": 28,
   "id": "5a4e89a4",
   "metadata": {},
   "outputs": [],
   "source": [
    "# with open(\"/home/eslim/workspace/comp/all_dataset/total_extra.json\", \"w\") as file:\n",
    "#     json.dump(total_data, file, indent=4)"
   ]
  },
  {
   "cell_type": "code",
   "execution_count": null,
   "id": "f599dc2e",
   "metadata": {},
   "outputs": [],
   "source": [
    "# combine extra data2"
   ]
  },
  {
   "cell_type": "code",
   "execution_count": 19,
   "id": "30ab8f88",
   "metadata": {},
   "outputs": [],
   "source": [
    "import json\n",
    "import copy\n",
    "with open('../datasets/extra_data_2/train/_annotations.coco.json', 'r') as file:\n",
    "    ext2_train_data = json.load(file)\n",
    "\n",
    "with open('../datasets/extra_data_2/valid/_annotations.coco.json', 'r') as file:\n",
    "    ext2_val_data = json.load(file)"
   ]
  },
  {
   "cell_type": "code",
   "execution_count": 20,
   "id": "579b0613",
   "metadata": {},
   "outputs": [],
   "source": [
    "__MAP__ = {\n",
    "    1:4,\n",
    "    2:1,\n",
    "    3:7,\n",
    "    4:0,\n",
    "}\n"
   ]
  },
  {
   "cell_type": "code",
   "execution_count": 21,
   "id": "0aa546c1",
   "metadata": {},
   "outputs": [],
   "source": [
    "for info in ext_train_data[\"images\"]:\n",
    "    total_data[\"images\"].append({'file_name': info[\"file_name\"], 'height': info[\"height\"], 'width':  info[\"width\"], 'id': \"ext2_t_\"+str(info[\"id\"])})\n",
    "\n",
    "\n",
    "\n",
    "for info in ext_val_data[\"images\"]:\n",
    "    total_data[\"images\"].append({'file_name': info[\"file_name\"], 'height': info[\"height\"], 'width':  info[\"width\"], 'id': \"ext2_v_\"+str(info[\"id\"])})\n"
   ]
  },
  {
   "cell_type": "code",
   "execution_count": 22,
   "id": "5c42ee43",
   "metadata": {},
   "outputs": [
    {
     "data": {
      "text/plain": [
       "134096"
      ]
     },
     "execution_count": 22,
     "metadata": {},
     "output_type": "execute_result"
    }
   ],
   "source": [
    "total_data[\"annotations\"][-1][\"id\"]\n"
   ]
  },
  {
   "cell_type": "code",
   "execution_count": 23,
   "id": "0cd8eb83",
   "metadata": {},
   "outputs": [],
   "source": [
    "for idx,info in enumerate(ext_train_data[\"annotations\"]):\n",
    "    if info[\"category_id\"] in __MAP__.keys():\n",
    "        try:\n",
    "            total_data[\"annotations\"].append({'id': 134096+info[\"id\"]+1,\n",
    "              'image_id': \"ext2_t_\"+str(info[\"image_id\"]),\n",
    "              'bbox': info[\"bbox\"],\n",
    "              'area': info[\"area\"],\n",
    "              'category_id': __MAP__[info[\"category_id\"]],\n",
    "              'segmentation': [],\n",
    "              'iscrowd': 0})\n",
    "        except:\n",
    "            print(idx)"
   ]
  },
  {
   "cell_type": "code",
   "execution_count": 24,
   "id": "414ec64b",
   "metadata": {},
   "outputs": [
    {
     "data": {
      "text/plain": [
       "201701"
      ]
     },
     "execution_count": 24,
     "metadata": {},
     "output_type": "execute_result"
    }
   ],
   "source": [
    "total_data[\"annotations\"][-1][\"id\"]"
   ]
  },
  {
   "cell_type": "code",
   "execution_count": 25,
   "id": "3d6344ca",
   "metadata": {},
   "outputs": [],
   "source": [
    "for idx,info in enumerate(ext_val_data[\"annotations\"]):\n",
    "    if info[\"category_id\"] in __MAP__.keys():\n",
    "        try:\n",
    "            total_data[\"annotations\"].append({'id': 201701+info[\"id\"]+1,\n",
    "              'image_id': \"ext2_v_\"+str(info[\"image_id\"]),\n",
    "              'bbox': info[\"bbox\"],\n",
    "              'area': info[\"area\"],\n",
    "              'category_id': __MAP__[info[\"category_id\"]],\n",
    "              'segmentation': [],\n",
    "              'iscrowd': 0})\n",
    "        except:\n",
    "            print(idx)"
   ]
  },
  {
   "cell_type": "code",
   "execution_count": 26,
   "id": "ab6f4c3b",
   "metadata": {},
   "outputs": [
    {
     "data": {
      "text/plain": [
       "213378"
      ]
     },
     "execution_count": 26,
     "metadata": {},
     "output_type": "execute_result"
    }
   ],
   "source": [
    "total_data[\"annotations\"][-1][\"id\"]"
   ]
  },
  {
   "cell_type": "code",
   "execution_count": 27,
   "id": "e57f82dc",
   "metadata": {},
   "outputs": [],
   "source": [
    "with open(\"../datasets/anno/extra_data.json\", \"w\") as file:\n",
    "    json.dump(total_data, file, indent=4)"
   ]
  },
  {
   "cell_type": "code",
   "execution_count": null,
   "id": "d7a30604",
   "metadata": {},
   "outputs": [],
   "source": []
  }
 ],
 "metadata": {
  "kernelspec": {
   "display_name": "Python 3 (ipykernel)",
   "language": "python",
   "name": "python3"
  },
  "language_info": {
   "codemirror_mode": {
    "name": "ipython",
    "version": 3
   },
   "file_extension": ".py",
   "mimetype": "text/x-python",
   "name": "python",
   "nbconvert_exporter": "python",
   "pygments_lexer": "ipython3",
   "version": "3.10.10"
  }
 },
 "nbformat": 4,
 "nbformat_minor": 5
}
