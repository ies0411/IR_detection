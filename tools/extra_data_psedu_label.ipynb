{
 "cells": [
  {
   "cell_type": "code",
   "execution_count": null,
   "id": "8e660346",
   "metadata": {},
   "outputs": [],
   "source": [
    "%cd mmdetectionㅇㅇ"
   ]
  },
  {
   "cell_type": "code",
   "execution_count": null,
   "id": "d2b38712",
   "metadata": {},
   "outputs": [],
   "source": [
    "\n",
    "import os\n",
    "import json\n",
    "\n",
    "\n",
    "from mmdet.apis import DetInferencer\n",
    "from mmengine.config import Config\n",
    "\n",
    "\n",
    "device = 'cuda:0'\n",
    "config_path = \"\"\n",
    "checkpoint = \"\"\n",
    "cfg = Config.fromfile(config_path)\n",
    "\n",
    "image_path_prefix = \"../datasets/extra_data_1/train/\"\n",
    "save_prefix = \"../datasets/anno/\"\n",
    "\n",
    "extra_image_num = 500\n",
    "pseudo_thres = 0.65"
   ]
  },
  {
   "cell_type": "code",
   "execution_count": null,
   "id": "f19c1d95",
   "metadata": {},
   "outputs": [],
   "source": [
    "inferencer = DetInferencer(cfg, checkpoint, device)\n"
   ]
  },
  {
   "cell_type": "code",
   "execution_count": null,
   "id": "468699e4",
   "metadata": {},
   "outputs": [],
   "source": [
    "\n",
    "with open('../datasets/extra_data_1/train/_annotations.coco.json', 'r') as file:\n",
    "    ext_train_data = json.load(file)"
   ]
  },
  {
   "cell_type": "code",
   "execution_count": null,
   "id": "c5d9a09e",
   "metadata": {
    "scrolled": true
   },
   "outputs": [],
   "source": [
    "total_num=0\n",
    "ret_list=[]\n",
    "for idx,info in enumerate(ext_train_data[\"annotations\"]):\n",
    "    file_name = ext_train_data[\"images\"][info[\"image_id\"]][\"file_name\"]\n",
    "    image_path = os.path.join(image_path_prefix,file_name)\n",
    "    results = inferencer(image_path)\n",
    "\n",
    "    if total_num>extra_image_num:\n",
    "        break\n",
    "    total_num+=1\n",
    "    print(f\"total_num : {total_num}\")\n",
    "    for ret_idx,bbox in enumerate(results[\"predictions\"][0][\"bboxes\"]):\n",
    "        if results['predictions'][0][\"scores\"][ret_idx] > pseudo_thres:\n",
    "            min_x, min_y, max_x, max_y = bbox\n",
    "            ret = {\n",
    "                    \"image_id\" : file_name,\n",
    "                    \"category_id\" : results['predictions'][0][\"labels\"][ret_idx],\n",
    "                    \"bbox\":[\n",
    "                        min_x,\n",
    "                        min_y,\n",
    "                        max_x-min_x,\n",
    "                        max_y-min_y\n",
    "                    ],\n",
    "                    \"score\":results['predictions'][0][\"scores\"][ret_idx],\n",
    "                }\n",
    "            ret_list.append(ret)\n",
    "\n",
    "\n"
   ]
  },
  {
   "cell_type": "code",
   "execution_count": null,
   "id": "7861f846",
   "metadata": {},
   "outputs": [],
   "source": [
    "with open(os.path.join(save_prefix,\"extra_pseudo_ann.txt\"), \"w\") as file:\n",
    "    json.dump(ret_list, file, indent=4)"
   ]
  },
  {
   "cell_type": "code",
   "execution_count": null,
   "id": "01817e6d",
   "metadata": {},
   "outputs": [],
   "source": []
  }
 ],
 "metadata": {
  "kernelspec": {
   "display_name": "Python 3 (ipykernel)",
   "language": "python",
   "name": "python3"
  },
  "language_info": {
   "codemirror_mode": {
    "name": "ipython",
    "version": 3
   },
   "file_extension": ".py",
   "mimetype": "text/x-python",
   "name": "python",
   "nbconvert_exporter": "python",
   "pygments_lexer": "ipython3",
   "version": "3.7.10"
  }
 },
 "nbformat": 4,
 "nbformat_minor": 5
}
