{
 "cells": [
  {
   "cell_type": "code",
   "execution_count": 8,
   "id": "d2b38712",
   "metadata": {},
   "outputs": [],
   "source": [
    "\n",
    "import os\n",
    "import json\n",
    "from PIL import Image\n",
    "import numpy as np\n",
    "\n",
    "train_anno_path = \"../datasets/anno/train.json\"\n",
    "train_dir_prefix = \"../datasets/train/\"\n"
   ]
  },
  {
   "cell_type": "code",
   "execution_count": 9,
   "id": "8e660346",
   "metadata": {},
   "outputs": [],
   "source": [
    "with open(train_anno_path, 'r') as file:\n",
    "    data = json.load(file)"
   ]
  },
  {
   "cell_type": "code",
   "execution_count": 19,
   "id": "0f7bd6c1",
   "metadata": {},
   "outputs": [
    {
     "name": "stdout",
     "output_type": "stream",
     "text": [
      "{'id': 33429, 'image_id': 'train_4620', 'bbox': [622, 246, 20, 47], 'area': 940, 'category_id': 7, 'segmentation': [], 'iscrowd': 0}\n",
      "{'id': 33845, 'image_id': 'train_4688', 'bbox': [617, 256, 25, 25], 'area': 625, 'category_id': 7, 'segmentation': [], 'iscrowd': 0}\n",
      "{'id': 33846, 'image_id': 'train_4688', 'bbox': [-1, 196, 68, 90], 'area': 6120, 'category_id': 1, 'segmentation': [], 'iscrowd': 0}\n",
      "{'id': 42896, 'image_id': 'train_5912', 'bbox': [-1, 101, 59, 182], 'area': 10738, 'category_id': 0, 'segmentation': [], 'iscrowd': 0}\n"
     ]
    }
   ],
   "source": [
    "##label 이상치 확인 -> albumentation에서 에러발생\n",
    "for info in data[\"annotations\"]:\n",
    "    bbox = info[\"bbox\"]\n",
    "    if bbox[0]<0 or bbox[1]<0 or bbox[0]+bbox[2]>640 or bbox[1]+bbox[3] >480:\n",
    "        print(info)\n",
    "\n",
    "\n",
    "# {'id': 33429, 'image_id': 'train_4620', 'bbox': [622, 246, 20, 47], 'area': 940, 'category_id': 7, 'segmentation': [], 'iscrowd': 0}\n",
    "# {'id': 33845, 'image_id': 'train_4688', 'bbox': [617, 256, 25, 25], 'area': 625, 'category_id': 7, 'segmentation': [], 'iscrowd': 0}\n",
    "# {'id': 33846, 'image_id': 'train_4688', 'bbox': [-1, 196, 68, 90], 'area': 6120, 'category_id': 1, 'segmentation': [], 'iscrowd': 0}\n",
    "# {'id': 42896, 'image_id': 'train_5912', 'bbox': [-1, 101, 59, 182], 'area': 10738, 'category_id': 0, 'segmentation': [], 'iscrowd': 0}"
   ]
  },
  {
   "cell_type": "code",
   "execution_count": 19,
   "id": "d986a935",
   "metadata": {},
   "outputs": [],
   "source": [
    "### class 분포확인\n",
    "\n",
    "label_num={0:0,1:0,2:0,3:0,4:0,5:0,6:0,7:0}\n",
    "\n",
    "for data_info in data[\"annotations\"]:\n",
    "    label_num[data_info[\"category_id\"]]+=1\n",
    "\n"
   ]
  },
  {
   "cell_type": "code",
   "execution_count": 20,
   "id": "ba18c87d",
   "metadata": {},
   "outputs": [
    {
     "data": {
      "text/plain": [
       "{0: 13684, 1: 27754, 2: 2341, 3: 1232, 4: 427, 5: 1172, 6: 29, 7: 3708}"
      ]
     },
     "execution_count": 20,
     "metadata": {},
     "output_type": "execute_result"
    }
   ],
   "source": [
    "label_num\n",
    "# {0: 13684, 1: 27754, 2: 2341, 3: 1232, 4: 427, 5: 1172, 6: 29, 7: 3708}\n"
   ]
  },
  {
   "cell_type": "code",
   "execution_count": null,
   "id": "42228d40",
   "metadata": {
    "scrolled": true
   },
   "outputs": [],
   "source": [
    "\n",
    "images = os.listdir(train_dir_prefix)\n",
    "len(images)\n",
    "#7019"
   ]
  },
  {
   "cell_type": "code",
   "execution_count": null,
   "id": "19fb382d",
   "metadata": {},
   "outputs": [],
   "source": [
    "## image 픽셀값들의 평균 및 표준편차 계산\n",
    "all_pixels = []\n",
    "\n",
    "for idx,image in enumerate(images):\n",
    "    if idx % 10 == 0:\n",
    "        image_path = os.path.join(train_dir_prefix,image)\n",
    "        image = Image.open(image_path).convert('L')\n",
    "        image_array = np.array(image)\n",
    "        all_pixels.append(image_array.flatten())\n",
    "all_pixels = np.hstack(all_pixels)\n",
    "\n",
    "# 평균 및 표준 편차 계산\n",
    "mean = all_pixels.mean()\n",
    "std = all_pixels.std()\n",
    "\n",
    "# 139.4229080324816\n",
    "# 56.34895042201581\n"
   ]
  }
 ],
 "metadata": {
  "kernelspec": {
   "display_name": "Python 3 (ipykernel)",
   "language": "python",
   "name": "python3"
  },
  "language_info": {
   "codemirror_mode": {
    "name": "ipython",
    "version": 3
   },
   "file_extension": ".py",
   "mimetype": "text/x-python",
   "name": "python",
   "nbconvert_exporter": "python",
   "pygments_lexer": "ipython3",
   "version": "3.7.10"
  }
 },
 "nbformat": 4,
 "nbformat_minor": 5
}
