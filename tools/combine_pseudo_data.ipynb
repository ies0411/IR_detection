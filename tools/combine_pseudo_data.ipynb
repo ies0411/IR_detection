{
 "cells": [
  {
   "cell_type": "code",
   "execution_count": 2,
   "id": "8e660346",
   "metadata": {},
   "outputs": [],
   "source": [
    "import json\n",
    "import copy\n",
    "\n",
    "with open('../datasets/anno/train.json', 'r') as file:\n",
    "    train_data = json.load(file)\n",
    "\n",
    "with open('../datasets/anno/val.json', 'r') as file:\n",
    "    val_data = json.load(file)\n"
   ]
  },
  {
   "cell_type": "code",
   "execution_count": 3,
   "id": "a076a747",
   "metadata": {},
   "outputs": [],
   "source": [
    "total_data = {}\n",
    "total_data[\"images\"] = copy.deepcopy(train_data[\"images\"])\n",
    "total_data[\"images\"].extend(val_data[\"images\"])\n",
    "total_data[\"annotations\"] = copy.deepcopy(train_data[\"annotations\"])\n",
    "\n",
    "for anno in val_data[\"annotations\"]:\n",
    "    anno[\"id\"] += 50347\n",
    "    total_data[\"annotations\"].append(anno)\n",
    "\n",
    "total_data[\"categories\"] = copy.deepcopy(train_data[\"categories\"])"
   ]
  },
  {
   "cell_type": "code",
   "execution_count": 4,
   "id": "4a6cf962",
   "metadata": {},
   "outputs": [
    {
     "data": {
      "text/plain": [
       "54814"
      ]
     },
     "execution_count": 4,
     "metadata": {},
     "output_type": "execute_result"
    }
   ],
   "source": [
    "total_data[\"annotations\"][-1][\"id\"]"
   ]
  },
  {
   "cell_type": "code",
   "execution_count": 5,
   "id": "12ce99eb",
   "metadata": {},
   "outputs": [],
   "source": [
    "\n",
    "with open('../datasets/anno/extra_pseudo_ann.txt', 'r') as file:\n",
    "    ext_anno = json.load(file)\n",
    "\n",
    "# ext_anno\n"
   ]
  },
  {
   "cell_type": "code",
   "execution_count": 6,
   "id": "ed91ffb6",
   "metadata": {},
   "outputs": [],
   "source": [
    "for info in ext_anno:\n",
    "    total_data[\"images\"].append({'file_name': info[\"image_id\"], 'height': 416, 'width':  416, 'id': info[\"image_id\"].split(\".\")[-2]})\n",
    "\n"
   ]
  },
  {
   "cell_type": "code",
   "execution_count": 7,
   "id": "e659d2dd",
   "metadata": {},
   "outputs": [],
   "source": [
    "for idx,info in enumerate(ext_anno):\n",
    "    try:\n",
    "        total_data[\"annotations\"].append({'id': 54814+idx+1,\n",
    "          'image_id': info[\"image_id\"].split(\".\")[-2],\n",
    "          'bbox': info[\"bbox\"],\n",
    "          'area': info[\"bbox\"][2]*info[\"bbox\"][3],\n",
    "          'category_id': info[\"category_id\"],\n",
    "          'segmentation': [],\n",
    "          'iscrowd': 0})\n",
    "    except:\n",
    "        print(idx)"
   ]
  },
  {
   "cell_type": "code",
   "execution_count": 8,
   "id": "ec7df0c5",
   "metadata": {},
   "outputs": [],
   "source": [
    "with open(\"../datasets/anno/total_pseudo.json\", \"w\") as file:\n",
    "    json.dump(total_data, file, indent=4)\n"
   ]
  },
  {
   "cell_type": "code",
   "execution_count": null,
   "id": "157ab7d6",
   "metadata": {},
   "outputs": [],
   "source": []
  }
 ],
 "metadata": {
  "kernelspec": {
   "display_name": "Python 3 (ipykernel)",
   "language": "python",
   "name": "python3"
  },
  "language_info": {
   "codemirror_mode": {
    "name": "ipython",
    "version": 3
   },
   "file_extension": ".py",
   "mimetype": "text/x-python",
   "name": "python",
   "nbconvert_exporter": "python",
   "pygments_lexer": "ipython3",
   "version": "3.7.10"
  }
 },
 "nbformat": 4,
 "nbformat_minor": 5
}
