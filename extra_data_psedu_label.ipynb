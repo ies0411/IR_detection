{
 "cells": [
  {
   "cell_type": "code",
   "execution_count": 9,
   "id": "8e660346",
   "metadata": {},
   "outputs": [
    {
     "name": "stdout",
     "output_type": "stream",
     "text": [
      "[Errno 2] No such file or directory: 'mmdetection'\n",
      "/mnt/nas2/users/eslim/workspace/comp/mmdetection\n"
     ]
    }
   ],
   "source": [
    "%cd mmdetection"
   ]
  },
  {
   "cell_type": "code",
   "execution_count": 10,
   "id": "d2b38712",
   "metadata": {},
   "outputs": [],
   "source": [
    "\n",
    "import os\n",
    "from natsort import natsorted\n",
    "from mmdet.apis import DetInferencer\n",
    "from PIL import Image\n",
    "import json\n",
    "from mmengine import ConfigDict\n",
    "from mmengine.config import Config, DictAction\n",
    "import copy\n",
    "\n",
    "\n",
    "os.environ[\"CUDA_VISIBLE_DEVICES\"]=\"2\"\n",
    "\n",
    "device = 'cuda:0'\n",
    "config_path = \"projects/CO-DETR/configs/codino/co_dino_5scale_r50_lsj_8xb2_1x_resnet101.py\"\n",
    "checkpoint = \"./work_dirs/resnet101/refine/iter_118000.pth\"\n",
    "cfg = Config.fromfile(config_path)\n",
    "\n",
    "image_path_prefix = \"./data/all_dataset/roboflow_data/train/\"\n",
    "save_prefix = \"./data/all_dataset/anno/\"\n",
    "\n",
    "extra_image_num = 500\n",
    "pseudo_thres = 0.65"
   ]
  },
  {
   "cell_type": "code",
   "execution_count": 11,
   "id": "f19c1d95",
   "metadata": {},
   "outputs": [
    {
     "name": "stdout",
     "output_type": "stream",
     "text": [
      "Loads checkpoint by local backend from path: ./work_dirs/resnet101/refine/iter_118000.pth\n"
     ]
    },
    {
     "name": "stderr",
     "output_type": "stream",
     "text": [
      "/mnt/nas2/users/eslim/workspace/comp/mmdetection/projects/CO-DETR/codetr/transformer.py:1327: UserWarning: If you want to reduce GPU memory usage,                               please install fairscale by executing the                               following command: pip install fairscale.\n",
      "  following command: pip install fairscale.')\n"
     ]
    },
    {
     "name": "stdout",
     "output_type": "stream",
     "text": [
      "09/17 01:30:09 - mmengine - INFO - \n",
      "rpn_conv.weight - torch.Size([256, 256, 3, 3]): \n",
      "NormalInit: mean=0, std=0.01, bias=0 \n",
      " \n",
      "09/17 01:30:09 - mmengine - INFO - \n",
      "rpn_conv.bias - torch.Size([256]): \n",
      "NormalInit: mean=0, std=0.01, bias=0 \n",
      " \n",
      "09/17 01:30:09 - mmengine - INFO - \n",
      "rpn_cls.weight - torch.Size([9, 256, 1, 1]): \n",
      "NormalInit: mean=0, std=0.01, bias=0 \n",
      " \n",
      "09/17 01:30:09 - mmengine - INFO - \n",
      "rpn_cls.bias - torch.Size([9]): \n",
      "NormalInit: mean=0, std=0.01, bias=0 \n",
      " \n",
      "09/17 01:30:09 - mmengine - INFO - \n",
      "rpn_reg.weight - torch.Size([36, 256, 1, 1]): \n",
      "NormalInit: mean=0, std=0.01, bias=0 \n",
      " \n",
      "09/17 01:30:09 - mmengine - INFO - \n",
      "rpn_reg.bias - torch.Size([36]): \n",
      "NormalInit: mean=0, std=0.01, bias=0 \n",
      " \n",
      "09/17 01:30:09 - mmengine - INFO - \n",
      "bbox_head.fc_cls.weight - torch.Size([9, 1024]): \n",
      "NormalInit: mean=0, std=0.01, bias=0 \n",
      " \n",
      "09/17 01:30:09 - mmengine - INFO - \n",
      "bbox_head.fc_cls.bias - torch.Size([9]): \n",
      "NormalInit: mean=0, std=0.01, bias=0 \n",
      " \n",
      "09/17 01:30:09 - mmengine - INFO - \n",
      "bbox_head.fc_reg.weight - torch.Size([32, 1024]): \n",
      "NormalInit: mean=0, std=0.001, bias=0 \n",
      " \n",
      "09/17 01:30:09 - mmengine - INFO - \n",
      "bbox_head.fc_reg.bias - torch.Size([32]): \n",
      "NormalInit: mean=0, std=0.001, bias=0 \n",
      " \n",
      "09/17 01:30:09 - mmengine - INFO - \n",
      "bbox_head.shared_fcs.0.weight - torch.Size([1024, 12544]): \n",
      "XavierInit: gain=1, distribution=uniform, bias=0 \n",
      " \n",
      "09/17 01:30:09 - mmengine - INFO - \n",
      "bbox_head.shared_fcs.0.bias - torch.Size([1024]): \n",
      "XavierInit: gain=1, distribution=uniform, bias=0 \n",
      " \n",
      "09/17 01:30:09 - mmengine - INFO - \n",
      "bbox_head.shared_fcs.1.weight - torch.Size([1024, 1024]): \n",
      "XavierInit: gain=1, distribution=uniform, bias=0 \n",
      " \n",
      "09/17 01:30:09 - mmengine - INFO - \n",
      "bbox_head.shared_fcs.1.bias - torch.Size([1024]): \n",
      "XavierInit: gain=1, distribution=uniform, bias=0 \n",
      " \n",
      "09/17 01:30:09 - mmengine - INFO - \n",
      "cls_convs.0.conv.weight - torch.Size([256, 256, 3, 3]): \n",
      "NormalInit: mean=0, std=0.01, bias=0 \n",
      " \n",
      "09/17 01:30:09 - mmengine - INFO - \n",
      "cls_convs.0.gn.weight - torch.Size([256]): \n",
      "The value is the same before and after calling `init_weights` of CoATSSHead  \n",
      " \n",
      "09/17 01:30:09 - mmengine - INFO - \n",
      "cls_convs.0.gn.bias - torch.Size([256]): \n",
      "The value is the same before and after calling `init_weights` of CoATSSHead  \n",
      " \n",
      "09/17 01:30:09 - mmengine - INFO - \n",
      "reg_convs.0.conv.weight - torch.Size([256, 256, 3, 3]): \n",
      "NormalInit: mean=0, std=0.01, bias=0 \n",
      " \n",
      "09/17 01:30:09 - mmengine - INFO - \n",
      "reg_convs.0.gn.weight - torch.Size([256]): \n",
      "The value is the same before and after calling `init_weights` of CoATSSHead  \n",
      " \n",
      "09/17 01:30:09 - mmengine - INFO - \n",
      "reg_convs.0.gn.bias - torch.Size([256]): \n",
      "The value is the same before and after calling `init_weights` of CoATSSHead  \n",
      " \n",
      "09/17 01:30:09 - mmengine - INFO - \n",
      "atss_cls.weight - torch.Size([8, 256, 3, 3]): \n",
      "NormalInit: mean=0, std=0.01, bias=-4.59511985013459 \n",
      " \n",
      "09/17 01:30:09 - mmengine - INFO - \n",
      "atss_cls.bias - torch.Size([8]): \n",
      "NormalInit: mean=0, std=0.01, bias=-4.59511985013459 \n",
      " \n",
      "09/17 01:30:09 - mmengine - INFO - \n",
      "atss_reg.weight - torch.Size([4, 256, 3, 3]): \n",
      "NormalInit: mean=0, std=0.01, bias=0 \n",
      " \n",
      "09/17 01:30:09 - mmengine - INFO - \n",
      "atss_reg.bias - torch.Size([4]): \n",
      "NormalInit: mean=0, std=0.01, bias=0 \n",
      " \n",
      "09/17 01:30:09 - mmengine - INFO - \n",
      "atss_centerness.weight - torch.Size([1, 256, 3, 3]): \n",
      "NormalInit: mean=0, std=0.01, bias=0 \n",
      " \n",
      "09/17 01:30:09 - mmengine - INFO - \n",
      "atss_centerness.bias - torch.Size([1]): \n",
      "NormalInit: mean=0, std=0.01, bias=0 \n",
      " \n",
      "09/17 01:30:09 - mmengine - INFO - \n",
      "scales.0.scale - torch.Size([]): \n",
      "The value is the same before and after calling `init_weights` of CoATSSHead  \n",
      " \n",
      "09/17 01:30:09 - mmengine - INFO - \n",
      "scales.1.scale - torch.Size([]): \n",
      "The value is the same before and after calling `init_weights` of CoATSSHead  \n",
      " \n",
      "09/17 01:30:09 - mmengine - INFO - \n",
      "scales.2.scale - torch.Size([]): \n",
      "The value is the same before and after calling `init_weights` of CoATSSHead  \n",
      " \n",
      "09/17 01:30:09 - mmengine - INFO - \n",
      "scales.3.scale - torch.Size([]): \n",
      "The value is the same before and after calling `init_weights` of CoATSSHead  \n",
      " \n",
      "09/17 01:30:09 - mmengine - INFO - \n",
      "scales.4.scale - torch.Size([]): \n",
      "The value is the same before and after calling `init_weights` of CoATSSHead  \n",
      " \n",
      "09/17 01:30:09 - mmengine - INFO - \n",
      "scales.5.scale - torch.Size([]): \n",
      "The value is the same before and after calling `init_weights` of CoATSSHead  \n",
      " \n"
     ]
    },
    {
     "name": "stderr",
     "output_type": "stream",
     "text": [
      "/mnt/nas2/users/eslim/workspace/comp/mmdetection/mmdet/models/dense_heads/anchor_head.py:108: UserWarning: DeprecationWarning: `num_anchors` is deprecated, for consistency or also use `num_base_priors` instead\n",
      "  warnings.warn('DeprecationWarning: `num_anchors` is deprecated, '\n",
      "/opt/conda/lib/python3.7/site-packages/mmengine/visualization/visualizer.py:196: UserWarning: Failed to add <class 'mmengine.visualization.vis_backend.LocalVisBackend'>, please provide the `save_dir` argument.\n",
      "  warnings.warn(f'Failed to add {vis_backend.__class__}, '\n"
     ]
    }
   ],
   "source": [
    "inferencer = DetInferencer(cfg, checkpoint, device)\n"
   ]
  },
  {
   "cell_type": "code",
   "execution_count": 12,
   "id": "468699e4",
   "metadata": {},
   "outputs": [],
   "source": [
    "\n",
    "with open('./data/all_dataset/roboflow_data/train/_annotations.coco.json', 'r') as file:\n",
    "    ext_train_data = json.load(file)\n",
    "\n"
   ]
  },
  {
   "cell_type": "code",
   "execution_count": 13,
   "id": "31058432",
   "metadata": {},
   "outputs": [
    {
     "data": {
      "text/plain": [
       "{'id': 7500,\n",
       " 'license': 1,\n",
       " 'file_name': 'FLIR_08894_jpeg.rf.dd97a2a8830185002b78ff8d7b653681.jpg',\n",
       " 'height': 640,\n",
       " 'width': 640,\n",
       " 'date_captured': '2024-09-03T13:23:20+00:00'}"
      ]
     },
     "execution_count": 13,
     "metadata": {},
     "output_type": "execute_result"
    }
   ],
   "source": [
    "len(ext_train_data)\n",
    "ext_train_data[\"images\"][-1]"
   ]
  },
  {
   "cell_type": "code",
   "execution_count": 14,
   "id": "77a055aa",
   "metadata": {},
   "outputs": [
    {
     "data": {
      "text/plain": [
       "dict_keys(['info', 'licenses', 'categories', 'images', 'annotations'])"
      ]
     },
     "execution_count": 14,
     "metadata": {},
     "output_type": "execute_result"
    }
   ],
   "source": [
    "ext_train_data.keys()\n"
   ]
  },
  {
   "cell_type": "code",
   "execution_count": 15,
   "id": "90ab222e",
   "metadata": {},
   "outputs": [
    {
     "data": {
      "text/plain": [
       "[{'id': 0,\n",
       "  'image_id': 0,\n",
       "  'category_id': 2,\n",
       "  'bbox': [178, 281, 25, 30],\n",
       "  'area': 750,\n",
       "  'segmentation': [[203,\n",
       "    311.25,\n",
       "    203,\n",
       "    281.25,\n",
       "    178,\n",
       "    281.25,\n",
       "    178,\n",
       "    311.25,\n",
       "    203,\n",
       "    311.25]],\n",
       "  'iscrowd': 0},\n",
       " {'id': 1,\n",
       "  'image_id': 0,\n",
       "  'category_id': 2,\n",
       "  'bbox': [254, 276, 40, 18.75],\n",
       "  'area': 750,\n",
       "  'segmentation': [[294, 295, 294, 276.25, 254, 276.25, 254, 295, 294, 295]],\n",
       "  'iscrowd': 0},\n",
       " {'id': 2,\n",
       "  'image_id': 0,\n",
       "  'category_id': 2,\n",
       "  'bbox': [217, 276, 37, 22.5],\n",
       "  'area': 832.5,\n",
       "  'segmentation': [[254,\n",
       "    298.75,\n",
       "    254,\n",
       "    276.25,\n",
       "    217,\n",
       "    276.25,\n",
       "    217,\n",
       "    298.75,\n",
       "    254,\n",
       "    298.75]],\n",
       "  'iscrowd': 0},\n",
       " {'id': 3,\n",
       "  'image_id': 1,\n",
       "  'category_id': 1,\n",
       "  'bbox': [148, 335, 60, 67.5],\n",
       "  'area': 4050,\n",
       "  'segmentation': [[208, 402.5, 208, 335, 148, 335, 148, 402.5, 208, 402.5]],\n",
       "  'iscrowd': 0},\n",
       " {'id': 4,\n",
       "  'image_id': 1,\n",
       "  'category_id': 4,\n",
       "  'bbox': [155, 283, 49, 113.75],\n",
       "  'area': 5573.75,\n",
       "  'segmentation': [[204,\n",
       "    396.25,\n",
       "    204,\n",
       "    282.5,\n",
       "    155,\n",
       "    282.5,\n",
       "    155,\n",
       "    396.25,\n",
       "    204,\n",
       "    396.25]],\n",
       "  'iscrowd': 0},\n",
       " {'id': 5,\n",
       "  'image_id': 1,\n",
       "  'category_id': 2,\n",
       "  'bbox': [574, 256, 51, 45],\n",
       "  'area': 2295,\n",
       "  'segmentation': [[625,\n",
       "    301.25,\n",
       "    625,\n",
       "    256.25,\n",
       "    574,\n",
       "    256.25,\n",
       "    574,\n",
       "    301.25,\n",
       "    625,\n",
       "    301.25]],\n",
       "  'iscrowd': 0},\n",
       " {'id': 6,\n",
       "  'image_id': 1,\n",
       "  'category_id': 2,\n",
       "  'bbox': [536, 256, 29, 48.75],\n",
       "  'area': 1413.75,\n",
       "  'segmentation': [[565, 305, 565, 256.25, 536, 256.25, 536, 305, 565, 305]],\n",
       "  'iscrowd': 0},\n",
       " {'id': 7,\n",
       "  'image_id': 1,\n",
       "  'category_id': 4,\n",
       "  'bbox': [382, 255, 15, 30],\n",
       "  'area': 450,\n",
       "  'segmentation': [[397, 285, 397, 255, 382, 255, 382, 285, 397, 285]],\n",
       "  'iscrowd': 0},\n",
       " {'id': 8,\n",
       "  'image_id': 1,\n",
       "  'category_id': 2,\n",
       "  'bbox': [363, 263, 15, 16.25],\n",
       "  'area': 243.75,\n",
       "  'segmentation': [[378,\n",
       "    278.75,\n",
       "    378,\n",
       "    262.5,\n",
       "    363,\n",
       "    262.5,\n",
       "    363,\n",
       "    278.75,\n",
       "    378,\n",
       "    278.75]],\n",
       "  'iscrowd': 0},\n",
       " {'id': 9,\n",
       "  'image_id': 1,\n",
       "  'category_id': 2,\n",
       "  'bbox': [397, 265, 13, 17.5],\n",
       "  'area': 227.5,\n",
       "  'segmentation': [[410, 282.5, 410, 265, 397, 265, 397, 282.5, 410, 282.5]],\n",
       "  'iscrowd': 0},\n",
       " {'id': 10,\n",
       "  'image_id': 2,\n",
       "  'category_id': 2,\n",
       "  'bbox': [324, 303, 31, 30],\n",
       "  'area': 930,\n",
       "  'segmentation': [[355,\n",
       "    332.5,\n",
       "    355,\n",
       "    302.5,\n",
       "    324,\n",
       "    302.5,\n",
       "    324,\n",
       "    332.5,\n",
       "    355,\n",
       "    332.5]],\n",
       "  'iscrowd': 0},\n",
       " {'id': 11,\n",
       "  'image_id': 2,\n",
       "  'category_id': 2,\n",
       "  'bbox': [353, 290, 31, 62.5],\n",
       "  'area': 1937.5,\n",
       "  'segmentation': [[384, 352.5, 384, 290, 353, 290, 353, 352.5, 384, 352.5]],\n",
       "  'iscrowd': 0},\n",
       " {'id': 12,\n",
       "  'image_id': 2,\n",
       "  'category_id': 2,\n",
       "  'bbox': [368, 285, 75, 82.5],\n",
       "  'area': 6187.5,\n",
       "  'segmentation': [[443, 367.5, 443, 285, 368, 285, 368, 367.5, 443, 367.5]],\n",
       "  'iscrowd': 0},\n",
       " {'id': 13,\n",
       "  'image_id': 2,\n",
       "  'category_id': 2,\n",
       "  'bbox': [406, 294, 117, 96.25],\n",
       "  'area': 11261.25,\n",
       "  'segmentation': [[523, 390, 523, 293.75, 406, 293.75, 406, 390, 523, 390]],\n",
       "  'iscrowd': 0},\n",
       " {'id': 14,\n",
       "  'image_id': 2,\n",
       "  'category_id': 2,\n",
       "  'bbox': [0, 295, 58, 65],\n",
       "  'area': 3770,\n",
       "  'segmentation': [[0, 360, 58, 360, 58, 295, 0, 295, 0, 360]],\n",
       "  'iscrowd': 0},\n",
       " {'id': 15,\n",
       "  'image_id': 2,\n",
       "  'category_id': 2,\n",
       "  'bbox': [121, 308, 34, 27.5],\n",
       "  'area': 935,\n",
       "  'segmentation': [[155, 335, 155, 307.5, 121, 307.5, 121, 335, 155, 335]],\n",
       "  'iscrowd': 0},\n",
       " {'id': 16,\n",
       "  'image_id': 2,\n",
       "  'category_id': 2,\n",
       "  'bbox': [309, 301, 21, 28.75],\n",
       "  'area': 603.75,\n",
       "  'segmentation': [[330, 330, 330, 301.25, 309, 301.25, 309, 330, 330, 330]],\n",
       "  'iscrowd': 0},\n",
       " {'id': 17,\n",
       "  'image_id': 2,\n",
       "  'category_id': 2,\n",
       "  'bbox': [296, 303, 17, 18.75],\n",
       "  'area': 318.75,\n",
       "  'segmentation': [[313,\n",
       "    321.25,\n",
       "    313,\n",
       "    302.5,\n",
       "    296,\n",
       "    302.5,\n",
       "    296,\n",
       "    321.25,\n",
       "    313,\n",
       "    321.25]],\n",
       "  'iscrowd': 0},\n",
       " {'id': 18,\n",
       "  'image_id': 3,\n",
       "  'category_id': 2,\n",
       "  'bbox': [569, 274, 70, 172.5],\n",
       "  'area': 12075,\n",
       "  'segmentation': [[639,\n",
       "    446.25,\n",
       "    639,\n",
       "    273.75,\n",
       "    569,\n",
       "    273.75,\n",
       "    569,\n",
       "    446.25,\n",
       "    639,\n",
       "    446.25]],\n",
       "  'iscrowd': 0},\n",
       " {'id': 19,\n",
       "  'image_id': 3,\n",
       "  'category_id': 2,\n",
       "  'bbox': [384, 293, 63, 57.5],\n",
       "  'area': 3622.5,\n",
       "  'segmentation': [[447, 350, 447, 292.5, 384, 292.5, 384, 350, 447, 350]],\n",
       "  'iscrowd': 0},\n",
       " {'id': 20,\n",
       "  'image_id': 3,\n",
       "  'category_id': 2,\n",
       "  'bbox': [360, 281, 48, 45],\n",
       "  'area': 2160,\n",
       "  'segmentation': [[408,\n",
       "    326.25,\n",
       "    408,\n",
       "    281.25,\n",
       "    360,\n",
       "    281.25,\n",
       "    360,\n",
       "    326.25,\n",
       "    408,\n",
       "    326.25]],\n",
       "  'iscrowd': 0},\n",
       " {'id': 21,\n",
       "  'image_id': 3,\n",
       "  'category_id': 2,\n",
       "  'bbox': [178, 265, 188, 193.75],\n",
       "  'area': 36425,\n",
       "  'segmentation': [[366,\n",
       "    458.75,\n",
       "    366,\n",
       "    265,\n",
       "    178,\n",
       "    265,\n",
       "    178,\n",
       "    458.75,\n",
       "    366,\n",
       "    458.75]],\n",
       "  'iscrowd': 0},\n",
       " {'id': 22,\n",
       "  'image_id': 6,\n",
       "  'category_id': 4,\n",
       "  'bbox': [129, 248, 65, 152.5],\n",
       "  'area': 9912.5,\n",
       "  'segmentation': [[194, 400, 194, 247.5, 129, 247.5, 129, 400, 194, 400]],\n",
       "  'iscrowd': 0},\n",
       " {'id': 23,\n",
       "  'image_id': 6,\n",
       "  'category_id': 1,\n",
       "  'bbox': [106, 313, 126, 101.25],\n",
       "  'area': 12757.5,\n",
       "  'segmentation': [[232,\n",
       "    413.75,\n",
       "    232,\n",
       "    312.5,\n",
       "    106,\n",
       "    312.5,\n",
       "    106,\n",
       "    413.75,\n",
       "    232,\n",
       "    413.75]],\n",
       "  'iscrowd': 0},\n",
       " {'id': 24,\n",
       "  'image_id': 7,\n",
       "  'category_id': 4,\n",
       "  'bbox': [344, 300, 32, 108.75],\n",
       "  'area': 3480,\n",
       "  'segmentation': [[376,\n",
       "    408.75,\n",
       "    376,\n",
       "    300,\n",
       "    344,\n",
       "    300,\n",
       "    344,\n",
       "    408.75,\n",
       "    376,\n",
       "    408.75]],\n",
       "  'iscrowd': 0},\n",
       " {'id': 25,\n",
       "  'image_id': 7,\n",
       "  'category_id': 4,\n",
       "  'bbox': [616, 288, 17, 55],\n",
       "  'area': 935,\n",
       "  'segmentation': [[633,\n",
       "    342.5,\n",
       "    633,\n",
       "    287.5,\n",
       "    616,\n",
       "    287.5,\n",
       "    616,\n",
       "    342.5,\n",
       "    633,\n",
       "    342.5]],\n",
       "  'iscrowd': 0},\n",
       " {'id': 26,\n",
       "  'image_id': 7,\n",
       "  'category_id': 4,\n",
       "  'bbox': [605, 276, 17, 60],\n",
       "  'area': 1020,\n",
       "  'segmentation': [[622,\n",
       "    336.25,\n",
       "    622,\n",
       "    276.25,\n",
       "    605,\n",
       "    276.25,\n",
       "    605,\n",
       "    336.25,\n",
       "    622,\n",
       "    336.25]],\n",
       "  'iscrowd': 0},\n",
       " {'id': 27,\n",
       "  'image_id': 7,\n",
       "  'category_id': 1,\n",
       "  'bbox': [586, 318, 50, 56.25],\n",
       "  'area': 2812.5,\n",
       "  'segmentation': [[636,\n",
       "    373.75,\n",
       "    636,\n",
       "    317.5,\n",
       "    586,\n",
       "    317.5,\n",
       "    586,\n",
       "    373.75,\n",
       "    636,\n",
       "    373.75]],\n",
       "  'iscrowd': 0},\n",
       " {'id': 28,\n",
       "  'image_id': 7,\n",
       "  'category_id': 1,\n",
       "  'bbox': [563, 318, 37, 52.5],\n",
       "  'area': 1942.5,\n",
       "  'segmentation': [[600, 370, 600, 317.5, 563, 317.5, 563, 370, 600, 370]],\n",
       "  'iscrowd': 0},\n",
       " {'id': 29,\n",
       "  'image_id': 7,\n",
       "  'category_id': 1,\n",
       "  'bbox': [200, 305, 18, 53.75],\n",
       "  'area': 967.5,\n",
       "  'segmentation': [[218,\n",
       "    358.75,\n",
       "    218,\n",
       "    305,\n",
       "    200,\n",
       "    305,\n",
       "    200,\n",
       "    358.75,\n",
       "    218,\n",
       "    358.75]],\n",
       "  'iscrowd': 0},\n",
       " {'id': 30,\n",
       "  'image_id': 7,\n",
       "  'category_id': 4,\n",
       "  'bbox': [203, 276, 19, 55],\n",
       "  'area': 1045,\n",
       "  'segmentation': [[222,\n",
       "    331.25,\n",
       "    222,\n",
       "    276.25,\n",
       "    203,\n",
       "    276.25,\n",
       "    203,\n",
       "    331.25,\n",
       "    222,\n",
       "    331.25]],\n",
       "  'iscrowd': 0},\n",
       " {'id': 31,\n",
       "  'image_id': 7,\n",
       "  'category_id': 4,\n",
       "  'bbox': [181, 278, 16, 37.5],\n",
       "  'area': 600,\n",
       "  'segmentation': [[197, 315, 197, 277.5, 181, 277.5, 181, 315, 197, 315]],\n",
       "  'iscrowd': 0},\n",
       " {'id': 32,\n",
       "  'image_id': 7,\n",
       "  'category_id': 4,\n",
       "  'bbox': [136, 273, 20, 23.75],\n",
       "  'area': 475,\n",
       "  'segmentation': [[156,\n",
       "    296.25,\n",
       "    156,\n",
       "    272.5,\n",
       "    136,\n",
       "    272.5,\n",
       "    136,\n",
       "    296.25,\n",
       "    156,\n",
       "    296.25]],\n",
       "  'iscrowd': 0},\n",
       " {'id': 33,\n",
       "  'image_id': 7,\n",
       "  'category_id': 2,\n",
       "  'bbox': [94, 294, 74, 45],\n",
       "  'area': 3330,\n",
       "  'segmentation': [[168,\n",
       "    338.75,\n",
       "    168,\n",
       "    293.75,\n",
       "    94,\n",
       "    293.75,\n",
       "    94,\n",
       "    338.75,\n",
       "    168,\n",
       "    338.75]],\n",
       "  'iscrowd': 0},\n",
       " {'id': 34,\n",
       "  'image_id': 7,\n",
       "  'category_id': 2,\n",
       "  'bbox': [35, 288, 63, 42.5],\n",
       "  'area': 2677.5,\n",
       "  'segmentation': [[98, 330, 98, 287.5, 35, 287.5, 35, 330, 98, 330]],\n",
       "  'iscrowd': 0},\n",
       " {'id': 35,\n",
       "  'image_id': 7,\n",
       "  'category_id': 2,\n",
       "  'bbox': [0, 281, 43, 40],\n",
       "  'area': 1720,\n",
       "  'segmentation': [[0, 321.25, 43, 321.25, 43, 281.25, 0, 281.25, 0, 321.25]],\n",
       "  'iscrowd': 0},\n",
       " {'id': 36,\n",
       "  'image_id': 7,\n",
       "  'category_id': 1,\n",
       "  'bbox': [155, 320, 13, 26.25],\n",
       "  'area': 341.25,\n",
       "  'segmentation': [[168,\n",
       "    346.25,\n",
       "    168,\n",
       "    320,\n",
       "    155,\n",
       "    320,\n",
       "    155,\n",
       "    346.25,\n",
       "    168,\n",
       "    346.25]],\n",
       "  'iscrowd': 0},\n",
       " {'id': 37,\n",
       "  'image_id': 7,\n",
       "  'category_id': 1,\n",
       "  'bbox': [170, 331, 13, 25],\n",
       "  'area': 325,\n",
       "  'segmentation': [[183,\n",
       "    356.25,\n",
       "    183,\n",
       "    331.25,\n",
       "    170,\n",
       "    331.25,\n",
       "    170,\n",
       "    356.25,\n",
       "    183,\n",
       "    356.25]],\n",
       "  'iscrowd': 0},\n",
       " {'id': 38,\n",
       "  'image_id': 7,\n",
       "  'category_id': 1,\n",
       "  'bbox': [180, 333, 14, 30],\n",
       "  'area': 420,\n",
       "  'segmentation': [[194,\n",
       "    362.5,\n",
       "    194,\n",
       "    332.5,\n",
       "    180,\n",
       "    332.5,\n",
       "    180,\n",
       "    362.5,\n",
       "    194,\n",
       "    362.5]],\n",
       "  'iscrowd': 0},\n",
       " {'id': 39,\n",
       "  'image_id': 8,\n",
       "  'category_id': 2,\n",
       "  'bbox': [1, 291, 54, 97.5],\n",
       "  'area': 5265,\n",
       "  'segmentation': [[55, 388.75, 55, 291.25, 1, 291.25, 1, 388.75, 55, 388.75]],\n",
       "  'iscrowd': 0},\n",
       " {'id': 40,\n",
       "  'image_id': 8,\n",
       "  'category_id': 2,\n",
       "  'bbox': [52, 295, 66, 67.5],\n",
       "  'area': 4455,\n",
       "  'segmentation': [[118, 362.5, 118, 295, 52, 295, 52, 362.5, 118, 362.5]],\n",
       "  'iscrowd': 0},\n",
       " {'id': 41,\n",
       "  'image_id': 8,\n",
       "  'category_id': 2,\n",
       "  'bbox': [115, 295, 28, 58.75],\n",
       "  'area': 1645,\n",
       "  'segmentation': [[143,\n",
       "    353.75,\n",
       "    143,\n",
       "    295,\n",
       "    115,\n",
       "    295,\n",
       "    115,\n",
       "    353.75,\n",
       "    143,\n",
       "    353.75]],\n",
       "  'iscrowd': 0},\n",
       " {'id': 42,\n",
       "  'image_id': 8,\n",
       "  'category_id': 4,\n",
       "  'bbox': [136, 296, 20, 52.5],\n",
       "  'area': 1050,\n",
       "  'segmentation': [[156,\n",
       "    348.75,\n",
       "    156,\n",
       "    296.25,\n",
       "    136,\n",
       "    296.25,\n",
       "    136,\n",
       "    348.75,\n",
       "    156,\n",
       "    348.75]],\n",
       "  'iscrowd': 0},\n",
       " {'id': 43,\n",
       "  'image_id': 8,\n",
       "  'category_id': 2,\n",
       "  'bbox': [146, 294, 47, 50],\n",
       "  'area': 2350,\n",
       "  'segmentation': [[193,\n",
       "    343.75,\n",
       "    193,\n",
       "    293.75,\n",
       "    146,\n",
       "    293.75,\n",
       "    146,\n",
       "    343.75,\n",
       "    193,\n",
       "    343.75]],\n",
       "  'iscrowd': 0},\n",
       " {'id': 44,\n",
       "  'image_id': 8,\n",
       "  'category_id': 2,\n",
       "  'bbox': [280, 305, 61, 67.5],\n",
       "  'area': 4117.5,\n",
       "  'segmentation': [[341, 372.5, 341, 305, 280, 305, 280, 372.5, 341, 372.5]],\n",
       "  'iscrowd': 0},\n",
       " {'id': 45,\n",
       "  'image_id': 8,\n",
       "  'category_id': 4,\n",
       "  'bbox': [396, 331, 23, 41.25],\n",
       "  'area': 948.75,\n",
       "  'segmentation': [[419,\n",
       "    372.5,\n",
       "    419,\n",
       "    331.25,\n",
       "    396,\n",
       "    331.25,\n",
       "    396,\n",
       "    372.5,\n",
       "    419,\n",
       "    372.5]],\n",
       "  'iscrowd': 0},\n",
       " {'id': 46,\n",
       "  'image_id': 8,\n",
       "  'category_id': 4,\n",
       "  'bbox': [365, 306, 14, 36.25],\n",
       "  'area': 507.5,\n",
       "  'segmentation': [[379,\n",
       "    342.5,\n",
       "    379,\n",
       "    306.25,\n",
       "    365,\n",
       "    306.25,\n",
       "    365,\n",
       "    342.5,\n",
       "    379,\n",
       "    342.5]],\n",
       "  'iscrowd': 0},\n",
       " {'id': 47,\n",
       "  'image_id': 8,\n",
       "  'category_id': 4,\n",
       "  'bbox': [203, 299, 8, 20],\n",
       "  'area': 160,\n",
       "  'segmentation': [[211,\n",
       "    318.75,\n",
       "    211,\n",
       "    298.75,\n",
       "    203,\n",
       "    298.75,\n",
       "    203,\n",
       "    318.75,\n",
       "    211,\n",
       "    318.75]],\n",
       "  'iscrowd': 0},\n",
       " {'id': 48,\n",
       "  'image_id': 8,\n",
       "  'category_id': 4,\n",
       "  'bbox': [209, 299, 9, 30],\n",
       "  'area': 270,\n",
       "  'segmentation': [[218,\n",
       "    328.75,\n",
       "    218,\n",
       "    298.75,\n",
       "    209,\n",
       "    298.75,\n",
       "    209,\n",
       "    328.75,\n",
       "    218,\n",
       "    328.75]],\n",
       "  'iscrowd': 0},\n",
       " {'id': 49,\n",
       "  'image_id': 9,\n",
       "  'category_id': 2,\n",
       "  'bbox': [241, 290, 48, 46.25],\n",
       "  'area': 2220,\n",
       "  'segmentation': [[289,\n",
       "    336.25,\n",
       "    289,\n",
       "    290,\n",
       "    241,\n",
       "    290,\n",
       "    241,\n",
       "    336.25,\n",
       "    289,\n",
       "    336.25]],\n",
       "  'iscrowd': 0},\n",
       " {'id': 50,\n",
       "  'image_id': 9,\n",
       "  'category_id': 2,\n",
       "  'bbox': [233, 276, 40, 46.25],\n",
       "  'area': 1850,\n",
       "  'segmentation': [[273,\n",
       "    322.5,\n",
       "    273,\n",
       "    276.25,\n",
       "    233,\n",
       "    276.25,\n",
       "    233,\n",
       "    322.5,\n",
       "    273,\n",
       "    322.5]],\n",
       "  'iscrowd': 0},\n",
       " {'id': 51,\n",
       "  'image_id': 9,\n",
       "  'category_id': 2,\n",
       "  'bbox': [89, 278, 37, 37.5],\n",
       "  'area': 1387.5,\n",
       "  'segmentation': [[126, 315, 126, 277.5, 89, 277.5, 89, 315, 126, 315]],\n",
       "  'iscrowd': 0},\n",
       " {'id': 52,\n",
       "  'image_id': 9,\n",
       "  'category_id': 2,\n",
       "  'bbox': [59, 288, 46, 45],\n",
       "  'area': 2070,\n",
       "  'segmentation': [[105, 332.5, 105, 287.5, 59, 287.5, 59, 332.5, 105, 332.5]],\n",
       "  'iscrowd': 0},\n",
       " {'id': 53,\n",
       "  'image_id': 9,\n",
       "  'category_id': 4,\n",
       "  'bbox': [485, 294, 34, 63.75],\n",
       "  'area': 2167.5,\n",
       "  'segmentation': [[519,\n",
       "    357.5,\n",
       "    519,\n",
       "    293.75,\n",
       "    485,\n",
       "    293.75,\n",
       "    485,\n",
       "    357.5,\n",
       "    519,\n",
       "    357.5]],\n",
       "  'iscrowd': 0},\n",
       " {'id': 54,\n",
       "  'image_id': 9,\n",
       "  'category_id': 3,\n",
       "  'bbox': [459, 333, 20, 22.5],\n",
       "  'area': 450,\n",
       "  'segmentation': [[479, 355, 479, 332.5, 459, 332.5, 459, 355, 479, 355]],\n",
       "  'iscrowd': 0},\n",
       " {'id': 55,\n",
       "  'image_id': 9,\n",
       "  'category_id': 3,\n",
       "  'bbox': [425, 338, 22, 18.75],\n",
       "  'area': 412.5,\n",
       "  'segmentation': [[447,\n",
       "    356.25,\n",
       "    447,\n",
       "    337.5,\n",
       "    425,\n",
       "    337.5,\n",
       "    425,\n",
       "    356.25,\n",
       "    447,\n",
       "    356.25]],\n",
       "  'iscrowd': 0},\n",
       " {'id': 56,\n",
       "  'image_id': 9,\n",
       "  'category_id': 4,\n",
       "  'bbox': [416, 288, 24, 60],\n",
       "  'area': 1440,\n",
       "  'segmentation': [[440,\n",
       "    347.5,\n",
       "    440,\n",
       "    287.5,\n",
       "    416,\n",
       "    287.5,\n",
       "    416,\n",
       "    347.5,\n",
       "    440,\n",
       "    347.5]],\n",
       "  'iscrowd': 0},\n",
       " {'id': 57,\n",
       "  'image_id': 9,\n",
       "  'category_id': 4,\n",
       "  'bbox': [171, 270, 13, 33.75],\n",
       "  'area': 438.75,\n",
       "  'segmentation': [[184,\n",
       "    303.75,\n",
       "    184,\n",
       "    270,\n",
       "    171,\n",
       "    270,\n",
       "    171,\n",
       "    303.75,\n",
       "    184,\n",
       "    303.75]],\n",
       "  'iscrowd': 0},\n",
       " {'id': 58,\n",
       "  'image_id': 9,\n",
       "  'category_id': 4,\n",
       "  'bbox': [147, 274, 13, 38.75],\n",
       "  'area': 503.75,\n",
       "  'segmentation': [[160,\n",
       "    312.5,\n",
       "    160,\n",
       "    273.75,\n",
       "    147,\n",
       "    273.75,\n",
       "    147,\n",
       "    312.5,\n",
       "    160,\n",
       "    312.5]],\n",
       "  'iscrowd': 0},\n",
       " {'id': 59,\n",
       "  'image_id': 9,\n",
       "  'category_id': 4,\n",
       "  'bbox': [136, 273, 12, 40],\n",
       "  'area': 480,\n",
       "  'segmentation': [[148,\n",
       "    312.5,\n",
       "    148,\n",
       "    272.5,\n",
       "    136,\n",
       "    272.5,\n",
       "    136,\n",
       "    312.5,\n",
       "    148,\n",
       "    312.5]],\n",
       "  'iscrowd': 0},\n",
       " {'id': 60,\n",
       "  'image_id': 9,\n",
       "  'category_id': 2,\n",
       "  'bbox': [608, 285, 31, 72.5],\n",
       "  'area': 2247.5,\n",
       "  'segmentation': [[639, 357.5, 639, 285, 608, 285, 608, 357.5, 639, 357.5]],\n",
       "  'iscrowd': 0},\n",
       " {'id': 61,\n",
       "  'image_id': 9,\n",
       "  'category_id': 2,\n",
       "  'bbox': [43, 274, 14, 36.25],\n",
       "  'area': 507.5,\n",
       "  'segmentation': [[57, 310, 57, 273.75, 43, 273.75, 43, 310, 57, 310]],\n",
       "  'iscrowd': 0},\n",
       " {'id': 62,\n",
       "  'image_id': 9,\n",
       "  'category_id': 2,\n",
       "  'bbox': [29, 274, 13, 37.5],\n",
       "  'area': 487.5,\n",
       "  'segmentation': [[42,\n",
       "    311.25,\n",
       "    42,\n",
       "    273.75,\n",
       "    29,\n",
       "    273.75,\n",
       "    29,\n",
       "    311.25,\n",
       "    42,\n",
       "    311.25]],\n",
       "  'iscrowd': 0},\n",
       " {'id': 63,\n",
       "  'image_id': 9,\n",
       "  'category_id': 2,\n",
       "  'bbox': [0, 276, 37, 42.5],\n",
       "  'area': 1572.5,\n",
       "  'segmentation': [[0, 318.75, 37, 318.75, 37, 276.25, 0, 276.25, 0, 318.75]],\n",
       "  'iscrowd': 0},\n",
       " {'id': 64,\n",
       "  'image_id': 9,\n",
       "  'category_id': 2,\n",
       "  'bbox': [219, 281, 19, 26.25],\n",
       "  'area': 498.75,\n",
       "  'segmentation': [[238,\n",
       "    307.5,\n",
       "    238,\n",
       "    281.25,\n",
       "    219,\n",
       "    281.25,\n",
       "    219,\n",
       "    307.5,\n",
       "    238,\n",
       "    307.5]],\n",
       "  'iscrowd': 0},\n",
       " {'id': 65,\n",
       "  'image_id': 9,\n",
       "  'category_id': 2,\n",
       "  'bbox': [224, 283, 15, 32.5],\n",
       "  'area': 487.5,\n",
       "  'segmentation': [[239, 315, 239, 282.5, 224, 282.5, 224, 315, 239, 315]],\n",
       "  'iscrowd': 0},\n",
       " {'id': 66,\n",
       "  'image_id': 10,\n",
       "  'category_id': 4,\n",
       "  'bbox': [334, 270, 14, 52.5],\n",
       "  'area': 735,\n",
       "  'segmentation': [[348, 322.5, 348, 270, 334, 270, 334, 322.5, 348, 322.5]],\n",
       "  'iscrowd': 0},\n",
       " {'id': 67,\n",
       "  'image_id': 10,\n",
       "  'category_id': 4,\n",
       "  'bbox': [326, 270, 12, 32.5],\n",
       "  'area': 390,\n",
       "  'segmentation': [[338, 302.5, 338, 270, 326, 270, 326, 302.5, 338, 302.5]],\n",
       "  'iscrowd': 0},\n",
       " {'id': 68,\n",
       "  'image_id': 10,\n",
       "  'category_id': 2,\n",
       "  'bbox': [522, 300, 38, 82.5],\n",
       "  'area': 3135,\n",
       "  'segmentation': [[560, 382.5, 560, 300, 522, 300, 522, 382.5, 560, 382.5]],\n",
       "  'iscrowd': 0},\n",
       " {'id': 69,\n",
       "  'image_id': 10,\n",
       "  'category_id': 2,\n",
       "  'bbox': [412, 278, 31, 36.25],\n",
       "  'area': 1123.75,\n",
       "  'segmentation': [[443,\n",
       "    313.75,\n",
       "    443,\n",
       "    277.5,\n",
       "    412,\n",
       "    277.5,\n",
       "    412,\n",
       "    313.75,\n",
       "    443,\n",
       "    313.75]],\n",
       "  'iscrowd': 0},\n",
       " {'id': 70,\n",
       "  'image_id': 10,\n",
       "  'category_id': 2,\n",
       "  'bbox': [307, 266, 22, 25],\n",
       "  'area': 550,\n",
       "  'segmentation': [[329,\n",
       "    291.25,\n",
       "    329,\n",
       "    266.25,\n",
       "    307,\n",
       "    266.25,\n",
       "    307,\n",
       "    291.25,\n",
       "    329,\n",
       "    291.25]],\n",
       "  'iscrowd': 0},\n",
       " {'id': 71,\n",
       "  'image_id': 10,\n",
       "  'category_id': 2,\n",
       "  'bbox': [10, 290, 82, 46.25],\n",
       "  'area': 3792.5,\n",
       "  'segmentation': [[92, 336.25, 92, 290, 10, 290, 10, 336.25, 92, 336.25]],\n",
       "  'iscrowd': 0},\n",
       " {'id': 72,\n",
       "  'image_id': 10,\n",
       "  'category_id': 2,\n",
       "  'bbox': [194, 283, 28, 38.75],\n",
       "  'area': 1085,\n",
       "  'segmentation': [[222,\n",
       "    321.25,\n",
       "    222,\n",
       "    282.5,\n",
       "    194,\n",
       "    282.5,\n",
       "    194,\n",
       "    321.25,\n",
       "    222,\n",
       "    321.25]],\n",
       "  'iscrowd': 0},\n",
       " {'id': 73,\n",
       "  'image_id': 10,\n",
       "  'category_id': 2,\n",
       "  'bbox': [162, 290, 52, 47.5],\n",
       "  'area': 2470,\n",
       "  'segmentation': [[214, 337.5, 214, 290, 162, 290, 162, 337.5, 214, 337.5]],\n",
       "  'iscrowd': 0},\n",
       " {'id': 74,\n",
       "  'image_id': 10,\n",
       "  'category_id': 2,\n",
       "  'bbox': [57, 300, 100, 82.5],\n",
       "  'area': 8250,\n",
       "  'segmentation': [[157, 382.5, 157, 300, 57, 300, 57, 382.5, 157, 382.5]],\n",
       "  'iscrowd': 0},\n",
       " {'id': 75,\n",
       "  'image_id': 10,\n",
       "  'category_id': 2,\n",
       "  'bbox': [580, 290, 59, 88.75],\n",
       "  'area': 5236.25,\n",
       "  'segmentation': [[639,\n",
       "    378.75,\n",
       "    639,\n",
       "    290,\n",
       "    580,\n",
       "    290,\n",
       "    580,\n",
       "    378.75,\n",
       "    639,\n",
       "    378.75]],\n",
       "  'iscrowd': 0},\n",
       " {'id': 76,\n",
       "  'image_id': 10,\n",
       "  'category_id': 2,\n",
       "  'bbox': [443, 278, 63, 61.25],\n",
       "  'area': 3858.75,\n",
       "  'segmentation': [[506,\n",
       "    338.75,\n",
       "    506,\n",
       "    277.5,\n",
       "    443,\n",
       "    277.5,\n",
       "    443,\n",
       "    338.75,\n",
       "    506,\n",
       "    338.75]],\n",
       "  'iscrowd': 0},\n",
       " {'id': 77,\n",
       "  'image_id': 10,\n",
       "  'category_id': 2,\n",
       "  'bbox': [232, 274, 22, 30],\n",
       "  'area': 660,\n",
       "  'segmentation': [[254,\n",
       "    303.75,\n",
       "    254,\n",
       "    273.75,\n",
       "    232,\n",
       "    273.75,\n",
       "    232,\n",
       "    303.75,\n",
       "    254,\n",
       "    303.75]],\n",
       "  'iscrowd': 0},\n",
       " {'id': 78,\n",
       "  'image_id': 10,\n",
       "  'category_id': 2,\n",
       "  'bbox': [249, 266, 16, 23.75],\n",
       "  'area': 380,\n",
       "  'segmentation': [[265, 290, 265, 266.25, 249, 266.25, 249, 290, 265, 290]],\n",
       "  'iscrowd': 0},\n",
       " {'id': 79,\n",
       "  'image_id': 12,\n",
       "  'category_id': 1,\n",
       "  'bbox': [0, 310, 194, 263.75],\n",
       "  'area': 51167.5,\n",
       "  'segmentation': [[0, 573.75, 194, 573.75, 194, 310, 0, 310, 0, 573.75]],\n",
       "  'iscrowd': 0},\n",
       " {'id': 80,\n",
       "  'image_id': 12,\n",
       "  'category_id': 4,\n",
       "  'bbox': [0, 168, 60, 373.75],\n",
       "  'area': 22425,\n",
       "  'segmentation': [[0, 541.25, 60, 541.25, 60, 167.5, 0, 167.5, 0, 541.25]],\n",
       "  'iscrowd': 0},\n",
       " {'id': 81,\n",
       "  'image_id': 12,\n",
       "  'category_id': 4,\n",
       "  'bbox': [585, 244, 54, 290],\n",
       "  'area': 15660,\n",
       "  'segmentation': [[639,\n",
       "    533.75,\n",
       "    639,\n",
       "    243.75,\n",
       "    585,\n",
       "    243.75,\n",
       "    585,\n",
       "    533.75,\n",
       "    639,\n",
       "    533.75]],\n",
       "  'iscrowd': 0},\n",
       " {'id': 82,\n",
       "  'image_id': 12,\n",
       "  'category_id': 4,\n",
       "  'bbox': [368, 280, 29, 52.5],\n",
       "  'area': 1522.5,\n",
       "  'segmentation': [[397, 332.5, 397, 280, 368, 280, 368, 332.5, 397, 332.5]],\n",
       "  'iscrowd': 0},\n",
       " {'id': 83,\n",
       "  'image_id': 12,\n",
       "  'category_id': 4,\n",
       "  'bbox': [508, 286, 18, 43.75],\n",
       "  'area': 787.5,\n",
       "  'segmentation': [[526, 330, 526, 286.25, 508, 286.25, 508, 330, 526, 330]],\n",
       "  'iscrowd': 0},\n",
       " {'id': 84,\n",
       "  'image_id': 12,\n",
       "  'category_id': 4,\n",
       "  'bbox': [527, 286, 15, 43.75],\n",
       "  'area': 656.25,\n",
       "  'segmentation': [[542, 330, 542, 286.25, 527, 286.25, 527, 330, 542, 330]],\n",
       "  'iscrowd': 0},\n",
       " {'id': 85,\n",
       "  'image_id': 12,\n",
       "  'category_id': 2,\n",
       "  'bbox': [394, 273, 109, 106.25],\n",
       "  'area': 11581.25,\n",
       "  'segmentation': [[503,\n",
       "    378.75,\n",
       "    503,\n",
       "    272.5,\n",
       "    394,\n",
       "    272.5,\n",
       "    394,\n",
       "    378.75,\n",
       "    503,\n",
       "    378.75]],\n",
       "  'iscrowd': 0},\n",
       " {'id': 86,\n",
       "  'image_id': 12,\n",
       "  'category_id': 4,\n",
       "  'bbox': [573, 275, 15, 52.5],\n",
       "  'area': 787.5,\n",
       "  'segmentation': [[588, 327.5, 588, 275, 573, 275, 573, 327.5, 588, 327.5]],\n",
       "  'iscrowd': 0},\n",
       " {'id': 87,\n",
       "  'image_id': 12,\n",
       "  'category_id': 4,\n",
       "  'bbox': [86, 264, 15, 33.75],\n",
       "  'area': 506.25,\n",
       "  'segmentation': [[101,\n",
       "    297.5,\n",
       "    101,\n",
       "    263.75,\n",
       "    86,\n",
       "    263.75,\n",
       "    86,\n",
       "    297.5,\n",
       "    101,\n",
       "    297.5]],\n",
       "  'iscrowd': 0},\n",
       " {'id': 88,\n",
       "  'image_id': 13,\n",
       "  'category_id': 2,\n",
       "  'bbox': [303, 273, 27, 26.25],\n",
       "  'area': 708.75,\n",
       "  'segmentation': [[330,\n",
       "    298.75,\n",
       "    330,\n",
       "    272.5,\n",
       "    303,\n",
       "    272.5,\n",
       "    303,\n",
       "    298.75,\n",
       "    330,\n",
       "    298.75]],\n",
       "  'iscrowd': 0},\n",
       " {'id': 89,\n",
       "  'image_id': 13,\n",
       "  'category_id': 2,\n",
       "  'bbox': [277, 266, 15, 17.5],\n",
       "  'area': 262.5,\n",
       "  'segmentation': [[292,\n",
       "    283.75,\n",
       "    292,\n",
       "    266.25,\n",
       "    277,\n",
       "    266.25,\n",
       "    277,\n",
       "    283.75,\n",
       "    292,\n",
       "    283.75]],\n",
       "  'iscrowd': 0},\n",
       " {'id': 90,\n",
       "  'image_id': 13,\n",
       "  'category_id': 2,\n",
       "  'bbox': [260, 268, 17, 17.5],\n",
       "  'area': 297.5,\n",
       "  'segmentation': [[277, 285, 277, 267.5, 260, 267.5, 260, 285, 277, 285]],\n",
       "  'iscrowd': 0},\n",
       " {'id': 91,\n",
       "  'image_id': 13,\n",
       "  'category_id': 2,\n",
       "  'bbox': [246, 271, 24, 25],\n",
       "  'area': 600,\n",
       "  'segmentation': [[270,\n",
       "    296.25,\n",
       "    270,\n",
       "    271.25,\n",
       "    246,\n",
       "    271.25,\n",
       "    246,\n",
       "    296.25,\n",
       "    270,\n",
       "    296.25]],\n",
       "  'iscrowd': 0},\n",
       " {'id': 92,\n",
       "  'image_id': 13,\n",
       "  'category_id': 2,\n",
       "  'bbox': [111, 266, 83, 83.75],\n",
       "  'area': 6951.25,\n",
       "  'segmentation': [[194, 350, 194, 266.25, 111, 266.25, 111, 350, 194, 350]],\n",
       "  'iscrowd': 0},\n",
       " {'id': 93,\n",
       "  'image_id': 14,\n",
       "  'category_id': 4,\n",
       "  'bbox': [431, 254, 21, 88.75],\n",
       "  'area': 1863.75,\n",
       "  'segmentation': [[452,\n",
       "    342.5,\n",
       "    452,\n",
       "    253.75,\n",
       "    431,\n",
       "    253.75,\n",
       "    431,\n",
       "    342.5,\n",
       "    452,\n",
       "    342.5]],\n",
       "  'iscrowd': 0},\n",
       " {'id': 94,\n",
       "  'image_id': 15,\n",
       "  'category_id': 2,\n",
       "  'bbox': [70, 296, 98, 90],\n",
       "  'area': 8820,\n",
       "  'segmentation': [[168,\n",
       "    386.25,\n",
       "    168,\n",
       "    296.25,\n",
       "    70,\n",
       "    296.25,\n",
       "    70,\n",
       "    386.25,\n",
       "    168,\n",
       "    386.25]],\n",
       "  'iscrowd': 0},\n",
       " {'id': 95,\n",
       "  'image_id': 15,\n",
       "  'category_id': 2,\n",
       "  'bbox': [154, 288, 45, 62.5],\n",
       "  'area': 2812.5,\n",
       "  'segmentation': [[199, 350, 199, 287.5, 154, 287.5, 154, 350, 199, 350]],\n",
       "  'iscrowd': 0},\n",
       " {'id': 96,\n",
       "  'image_id': 15,\n",
       "  'category_id': 2,\n",
       "  'bbox': [200, 286, 30, 36.25],\n",
       "  'area': 1087.5,\n",
       "  'segmentation': [[230,\n",
       "    322.5,\n",
       "    230,\n",
       "    286.25,\n",
       "    200,\n",
       "    286.25,\n",
       "    200,\n",
       "    322.5,\n",
       "    230,\n",
       "    322.5]],\n",
       "  'iscrowd': 0},\n",
       " {'id': 97,\n",
       "  'image_id': 15,\n",
       "  'category_id': 2,\n",
       "  'bbox': [278, 280, 24, 22.5],\n",
       "  'area': 540,\n",
       "  'segmentation': [[302, 302.5, 302, 280, 278, 280, 278, 302.5, 302, 302.5]],\n",
       "  'iscrowd': 0},\n",
       " {'id': 98,\n",
       "  'image_id': 15,\n",
       "  'category_id': 2,\n",
       "  'bbox': [383, 318, 116, 123.75],\n",
       "  'area': 14355,\n",
       "  'segmentation': [[499,\n",
       "    441.25,\n",
       "    499,\n",
       "    317.5,\n",
       "    383,\n",
       "    317.5,\n",
       "    383,\n",
       "    441.25,\n",
       "    499,\n",
       "    441.25]],\n",
       "  'iscrowd': 0},\n",
       " {'id': 99,\n",
       "  'image_id': 15,\n",
       "  'category_id': 2,\n",
       "  'bbox': [435, 340, 202, 190],\n",
       "  'area': 38380,\n",
       "  'segmentation': [[637, 530, 637, 340, 435, 340, 435, 530, 637, 530]],\n",
       "  'iscrowd': 0},\n",
       " {'id': 100,\n",
       "  'image_id': 15,\n",
       "  'category_id': 2,\n",
       "  'bbox': [587, 518, 52, 121.25],\n",
       "  'area': 6305,\n",
       "  'segmentation': [[639,\n",
       "    638.75,\n",
       "    639,\n",
       "    517.5,\n",
       "    587,\n",
       "    517.5,\n",
       "    587,\n",
       "    638.75,\n",
       "    639,\n",
       "    638.75]],\n",
       "  'iscrowd': 0},\n",
       " {'id': 101,\n",
       "  'image_id': 15,\n",
       "  'category_id': 2,\n",
       "  'bbox': [356, 276, 92, 108.75],\n",
       "  'area': 10005,\n",
       "  'segmentation': [[448, 385, 448, 276.25, 356, 276.25, 356, 385, 448, 385]],\n",
       "  'iscrowd': 0},\n",
       " {'id': 102,\n",
       "  'image_id': 15,\n",
       "  'category_id': 2,\n",
       "  'bbox': [302, 274, 18, 21.25],\n",
       "  'area': 382.5,\n",
       "  'segmentation': [[320, 295, 320, 273.75, 302, 273.75, 302, 295, 320, 295]],\n",
       "  'iscrowd': 0},\n",
       " {'id': 103,\n",
       "  'image_id': 15,\n",
       "  'category_id': 4,\n",
       "  'bbox': [315, 280, 13, 28.75],\n",
       "  'area': 373.75,\n",
       "  'segmentation': [[328,\n",
       "    308.75,\n",
       "    328,\n",
       "    280,\n",
       "    315,\n",
       "    280,\n",
       "    315,\n",
       "    308.75,\n",
       "    328,\n",
       "    308.75]],\n",
       "  'iscrowd': 0},\n",
       " {'id': 104,\n",
       "  'image_id': 15,\n",
       "  'category_id': 4,\n",
       "  'bbox': [550, 261, 12, 18.75],\n",
       "  'area': 225,\n",
       "  'segmentation': [[562, 280, 562, 261.25, 550, 261.25, 550, 280, 562, 280]],\n",
       "  'iscrowd': 0},\n",
       " {'id': 105,\n",
       "  'image_id': 15,\n",
       "  'category_id': 4,\n",
       "  'bbox': [544, 260, 8, 18.75],\n",
       "  'area': 150,\n",
       "  'segmentation': [[552,\n",
       "    278.75,\n",
       "    552,\n",
       "    260,\n",
       "    544,\n",
       "    260,\n",
       "    544,\n",
       "    278.75,\n",
       "    552,\n",
       "    278.75]],\n",
       "  'iscrowd': 0},\n",
       " {'id': 106,\n",
       "  'image_id': 15,\n",
       "  'category_id': 2,\n",
       "  'bbox': [194, 294, 18, 40],\n",
       "  'area': 720,\n",
       "  'segmentation': [[212,\n",
       "    333.75,\n",
       "    212,\n",
       "    293.75,\n",
       "    194,\n",
       "    293.75,\n",
       "    194,\n",
       "    333.75,\n",
       "    212,\n",
       "    333.75]],\n",
       "  'iscrowd': 0},\n",
       " {'id': 107,\n",
       "  'image_id': 15,\n",
       "  'category_id': 2,\n",
       "  'bbox': [226, 286, 19, 27.5],\n",
       "  'area': 522.5,\n",
       "  'segmentation': [[245,\n",
       "    313.75,\n",
       "    245,\n",
       "    286.25,\n",
       "    226,\n",
       "    286.25,\n",
       "    226,\n",
       "    313.75,\n",
       "    245,\n",
       "    313.75]],\n",
       "  'iscrowd': 0},\n",
       " {'id': 108,\n",
       "  'image_id': 15,\n",
       "  'category_id': 2,\n",
       "  'bbox': [236, 284, 17, 26.25],\n",
       "  'area': 446.25,\n",
       "  'segmentation': [[253, 310, 253, 283.75, 236, 283.75, 236, 310, 253, 310]],\n",
       "  'iscrowd': 0},\n",
       " {'id': 109,\n",
       "  'image_id': 15,\n",
       "  'category_id': 2,\n",
       "  'bbox': [330, 280, 14, 30],\n",
       "  'area': 420,\n",
       "  'segmentation': [[344, 310, 344, 280, 330, 280, 330, 310, 344, 310]],\n",
       "  'iscrowd': 0},\n",
       " {'id': 110,\n",
       "  'image_id': 15,\n",
       "  'category_id': 2,\n",
       "  'bbox': [344, 291, 19, 36.25],\n",
       "  'area': 688.75,\n",
       "  'segmentation': [[363,\n",
       "    327.5,\n",
       "    363,\n",
       "    291.25,\n",
       "    344,\n",
       "    291.25,\n",
       "    344,\n",
       "    327.5,\n",
       "    363,\n",
       "    327.5]],\n",
       "  'iscrowd': 0},\n",
       " {'id': 111,\n",
       "  'image_id': 15,\n",
       "  'category_id': 2,\n",
       "  'bbox': [353, 291, 22, 42.5],\n",
       "  'area': 935,\n",
       "  'segmentation': [[375,\n",
       "    333.75,\n",
       "    375,\n",
       "    291.25,\n",
       "    353,\n",
       "    291.25,\n",
       "    353,\n",
       "    333.75,\n",
       "    375,\n",
       "    333.75]],\n",
       "  'iscrowd': 0},\n",
       " {'id': 112,\n",
       "  'image_id': 16,\n",
       "  'category_id': 2,\n",
       "  'bbox': [2, 225, 104, 161.25],\n",
       "  'area': 16770,\n",
       "  'segmentation': [[106, 386.25, 106, 225, 2, 225, 2, 386.25, 106, 386.25]],\n",
       "  'iscrowd': 0},\n",
       " {'id': 113,\n",
       "  'image_id': 16,\n",
       "  'category_id': 2,\n",
       "  'bbox': [0, 256, 35, 167.5],\n",
       "  'area': 5862.5,\n",
       "  'segmentation': [[0, 423.75, 35, 423.75, 35, 256.25, 0, 256.25, 0, 423.75]],\n",
       "  'iscrowd': 0},\n",
       " {'id': 114,\n",
       "  'image_id': 16,\n",
       "  'category_id': 2,\n",
       "  'bbox': [100, 285, 26, 56.25],\n",
       "  'area': 1462.5,\n",
       "  'segmentation': [[126,\n",
       "    341.25,\n",
       "    126,\n",
       "    285,\n",
       "    100,\n",
       "    285,\n",
       "    100,\n",
       "    341.25,\n",
       "    126,\n",
       "    341.25]],\n",
       "  'iscrowd': 0},\n",
       " {'id': 115,\n",
       "  'image_id': 16,\n",
       "  'category_id': 2,\n",
       "  'bbox': [91, 259, 56, 42.5],\n",
       "  'area': 2380,\n",
       "  'segmentation': [[147,\n",
       "    301.25,\n",
       "    147,\n",
       "    258.75,\n",
       "    91,\n",
       "    258.75,\n",
       "    91,\n",
       "    301.25,\n",
       "    147,\n",
       "    301.25]],\n",
       "  'iscrowd': 0},\n",
       " {'id': 116,\n",
       "  'image_id': 16,\n",
       "  'category_id': 2,\n",
       "  'bbox': [108, 259, 197, 200],\n",
       "  'area': 39400,\n",
       "  'segmentation': [[305,\n",
       "    458.75,\n",
       "    305,\n",
       "    258.75,\n",
       "    108,\n",
       "    258.75,\n",
       "    108,\n",
       "    458.75,\n",
       "    305,\n",
       "    458.75]],\n",
       "  'iscrowd': 0},\n",
       " {'id': 117,\n",
       "  'image_id': 16,\n",
       "  'category_id': 2,\n",
       "  'bbox': [520, 240, 119, 173.75],\n",
       "  'area': 20676.25,\n",
       "  'segmentation': [[639,\n",
       "    413.75,\n",
       "    639,\n",
       "    240,\n",
       "    520,\n",
       "    240,\n",
       "    520,\n",
       "    413.75,\n",
       "    639,\n",
       "    413.75]],\n",
       "  'iscrowd': 0},\n",
       " {'id': 118,\n",
       "  'image_id': 16,\n",
       "  'category_id': 4,\n",
       "  'bbox': [483, 240, 52, 197.5],\n",
       "  'area': 10270,\n",
       "  'segmentation': [[535, 437.5, 535, 240, 483, 240, 483, 437.5, 535, 437.5]],\n",
       "  'iscrowd': 0},\n",
       " {'id': 119,\n",
       "  'image_id': 16,\n",
       "  'category_id': 4,\n",
       "  'bbox': [410, 254, 81, 173.75],\n",
       "  'area': 14073.75,\n",
       "  'segmentation': [[491,\n",
       "    427.5,\n",
       "    491,\n",
       "    253.75,\n",
       "    410,\n",
       "    253.75,\n",
       "    410,\n",
       "    427.5,\n",
       "    491,\n",
       "    427.5]],\n",
       "  'iscrowd': 0},\n",
       " {'id': 120,\n",
       "  'image_id': 16,\n",
       "  'category_id': 4,\n",
       "  'bbox': [356, 271, 23, 78.75],\n",
       "  'area': 1811.25,\n",
       "  'segmentation': [[379, 350, 379, 271.25, 356, 271.25, 356, 350, 379, 350]],\n",
       "  'iscrowd': 0},\n",
       " {'id': 121,\n",
       "  'image_id': 16,\n",
       "  'category_id': 4,\n",
       "  'bbox': [395, 265, 26, 83.75],\n",
       "  'area': 2177.5,\n",
       "  'segmentation': [[421,\n",
       "    348.75,\n",
       "    421,\n",
       "    265,\n",
       "    395,\n",
       "    265,\n",
       "    395,\n",
       "    348.75,\n",
       "    421,\n",
       "    348.75]],\n",
       "  'iscrowd': 0},\n",
       " {'id': 122,\n",
       "  'image_id': 16,\n",
       "  'category_id': 4,\n",
       "  'bbox': [329, 263, 21, 78.75],\n",
       "  'area': 1653.75,\n",
       "  'segmentation': [[350,\n",
       "    341.25,\n",
       "    350,\n",
       "    262.5,\n",
       "    329,\n",
       "    262.5,\n",
       "    329,\n",
       "    341.25,\n",
       "    350,\n",
       "    341.25]],\n",
       "  'iscrowd': 0},\n",
       " {'id': 123,\n",
       "  'image_id': 16,\n",
       "  'category_id': 4,\n",
       "  'bbox': [337, 270, 22, 75],\n",
       "  'area': 1650,\n",
       "  'segmentation': [[359, 345, 359, 270, 337, 270, 337, 345, 359, 345]],\n",
       "  'iscrowd': 0},\n",
       " {'id': 124,\n",
       "  'image_id': 16,\n",
       "  'category_id': 4,\n",
       "  'bbox': [293, 265, 18, 52.5],\n",
       "  'area': 945,\n",
       "  'segmentation': [[311, 317.5, 311, 265, 293, 265, 293, 317.5, 311, 317.5]],\n",
       "  'iscrowd': 0},\n",
       " {'id': 125,\n",
       "  'image_id': 16,\n",
       "  'category_id': 4,\n",
       "  'bbox': [319, 268, 13, 42.5],\n",
       "  'area': 552.5,\n",
       "  'segmentation': [[332, 310, 332, 267.5, 319, 267.5, 319, 310, 332, 310]],\n",
       "  'iscrowd': 0},\n",
       " {'id': 126,\n",
       "  'image_id': 16,\n",
       "  'category_id': 2,\n",
       "  'bbox': [271, 276, 19, 35],\n",
       "  'area': 665,\n",
       "  'segmentation': [[290,\n",
       "    311.25,\n",
       "    290,\n",
       "    276.25,\n",
       "    271,\n",
       "    276.25,\n",
       "    271,\n",
       "    311.25,\n",
       "    290,\n",
       "    311.25]],\n",
       "  'iscrowd': 0},\n",
       " {'id': 127,\n",
       "  'image_id': 17,\n",
       "  'category_id': 4,\n",
       "  'bbox': [581, 296, 23, 96.25],\n",
       "  'area': 2213.75,\n",
       "  'segmentation': [[604,\n",
       "    392.5,\n",
       "    604,\n",
       "    296.25,\n",
       "    581,\n",
       "    296.25,\n",
       "    581,\n",
       "    392.5,\n",
       "    604,\n",
       "    392.5]],\n",
       "  'iscrowd': 0},\n",
       " {'id': 128,\n",
       "  'image_id': 17,\n",
       "  'category_id': 4,\n",
       "  'bbox': [607, 296, 27, 95],\n",
       "  'area': 2565,\n",
       "  'segmentation': [[634,\n",
       "    391.25,\n",
       "    634,\n",
       "    296.25,\n",
       "    607,\n",
       "    296.25,\n",
       "    607,\n",
       "    391.25,\n",
       "    634,\n",
       "    391.25]],\n",
       "  'iscrowd': 0},\n",
       " {'id': 129,\n",
       "  'image_id': 17,\n",
       "  'category_id': 4,\n",
       "  'bbox': [528, 304, 20, 61.25],\n",
       "  'area': 1225,\n",
       "  'segmentation': [[548, 365, 548, 303.75, 528, 303.75, 528, 365, 548, 365]],\n",
       "  'iscrowd': 0},\n",
       " {'id': 130,\n",
       "  'image_id': 17,\n",
       "  'category_id': 4,\n",
       "  'bbox': [507, 308, 14, 57.5],\n",
       "  'area': 805,\n",
       "  'segmentation': [[521, 365, 521, 307.5, 507, 307.5, 507, 365, 521, 365]],\n",
       "  'iscrowd': 0},\n",
       " {'id': 131,\n",
       "  'image_id': 17,\n",
       "  'category_id': 4,\n",
       "  'bbox': [492, 303, 15, 56.25],\n",
       "  'area': 843.75,\n",
       "  'segmentation': [[507,\n",
       "    358.75,\n",
       "    507,\n",
       "    302.5,\n",
       "    492,\n",
       "    302.5,\n",
       "    492,\n",
       "    358.75,\n",
       "    507,\n",
       "    358.75]],\n",
       "  'iscrowd': 0},\n",
       " {'id': 132,\n",
       "  'image_id': 17,\n",
       "  'category_id': 4,\n",
       "  'bbox': [477, 306, 17, 52.5],\n",
       "  'area': 892.5,\n",
       "  'segmentation': [[494,\n",
       "    358.75,\n",
       "    494,\n",
       "    306.25,\n",
       "    477,\n",
       "    306.25,\n",
       "    477,\n",
       "    358.75,\n",
       "    494,\n",
       "    358.75]],\n",
       "  'iscrowd': 0},\n",
       " {'id': 133,\n",
       "  'image_id': 17,\n",
       "  'category_id': 4,\n",
       "  'bbox': [545, 301, 18, 63.75],\n",
       "  'area': 1147.5,\n",
       "  'segmentation': [[563, 365, 563, 301.25, 545, 301.25, 545, 365, 563, 365]],\n",
       "  'iscrowd': 0},\n",
       " {'id': 134,\n",
       "  'image_id': 17,\n",
       "  'category_id': 4,\n",
       "  'bbox': [448, 296, 21, 56.25],\n",
       "  'area': 1181.25,\n",
       "  'segmentation': [[469,\n",
       "    352.5,\n",
       "    469,\n",
       "    296.25,\n",
       "    448,\n",
       "    296.25,\n",
       "    448,\n",
       "    352.5,\n",
       "    469,\n",
       "    352.5]],\n",
       "  'iscrowd': 0},\n",
       " {'id': 135,\n",
       "  'image_id': 17,\n",
       "  'category_id': 4,\n",
       "  'bbox': [425, 298, 20, 56.25],\n",
       "  'area': 1125,\n",
       "  'segmentation': [[445,\n",
       "    353.75,\n",
       "    445,\n",
       "    297.5,\n",
       "    425,\n",
       "    297.5,\n",
       "    425,\n",
       "    353.75,\n",
       "    445,\n",
       "    353.75]],\n",
       "  'iscrowd': 0},\n",
       " {'id': 136,\n",
       "  'image_id': 17,\n",
       "  'category_id': 4,\n",
       "  'bbox': [353, 300, 20, 43.75],\n",
       "  'area': 875,\n",
       "  'segmentation': [[373,\n",
       "    343.75,\n",
       "    373,\n",
       "    300,\n",
       "    353,\n",
       "    300,\n",
       "    353,\n",
       "    343.75,\n",
       "    373,\n",
       "    343.75]],\n",
       "  'iscrowd': 0},\n",
       " {'id': 137,\n",
       "  'image_id': 17,\n",
       "  'category_id': 4,\n",
       "  'bbox': [216, 301, 14, 35],\n",
       "  'area': 490,\n",
       "  'segmentation': [[230,\n",
       "    336.25,\n",
       "    230,\n",
       "    301.25,\n",
       "    216,\n",
       "    301.25,\n",
       "    216,\n",
       "    336.25,\n",
       "    230,\n",
       "    336.25]],\n",
       "  'iscrowd': 0},\n",
       " {'id': 138,\n",
       "  'image_id': 17,\n",
       "  'category_id': 2,\n",
       "  'bbox': [261, 313, 96, 93.75],\n",
       "  'area': 9000,\n",
       "  'segmentation': [[357,\n",
       "    406.25,\n",
       "    357,\n",
       "    312.5,\n",
       "    261,\n",
       "    312.5,\n",
       "    261,\n",
       "    406.25,\n",
       "    357,\n",
       "    406.25]],\n",
       "  'iscrowd': 0},\n",
       " {'id': 139,\n",
       "  'image_id': 18,\n",
       "  'category_id': 4,\n",
       "  'bbox': [444, 271, 18, 75],\n",
       "  'area': 1350,\n",
       "  'segmentation': [[462,\n",
       "    346.25,\n",
       "    462,\n",
       "    271.25,\n",
       "    444,\n",
       "    271.25,\n",
       "    444,\n",
       "    346.25,\n",
       "    462,\n",
       "    346.25]],\n",
       "  'iscrowd': 0},\n",
       " {'id': 140,\n",
       "  'image_id': 18,\n",
       "  'category_id': 4,\n",
       "  'bbox': [416, 271, 23, 90],\n",
       "  'area': 2070,\n",
       "  'segmentation': [[439,\n",
       "    361.25,\n",
       "    439,\n",
       "    271.25,\n",
       "    416,\n",
       "    271.25,\n",
       "    416,\n",
       "    361.25,\n",
       "    439,\n",
       "    361.25]],\n",
       "  'iscrowd': 0},\n",
       " {'id': 141,\n",
       "  'image_id': 18,\n",
       "  'category_id': 4,\n",
       "  'bbox': [603, 284, 24, 38.75],\n",
       "  'area': 930,\n",
       "  'segmentation': [[627,\n",
       "    322.5,\n",
       "    627,\n",
       "    283.75,\n",
       "    603,\n",
       "    283.75,\n",
       "    603,\n",
       "    322.5,\n",
       "    627,\n",
       "    322.5]],\n",
       "  'iscrowd': 0},\n",
       " {'id': 142,\n",
       "  'image_id': 18,\n",
       "  'category_id': 2,\n",
       "  'bbox': [463, 268, 104, 42.5],\n",
       "  'area': 4420,\n",
       "  'segmentation': [[567, 310, 567, 267.5, 463, 267.5, 463, 310, 567, 310]],\n",
       "  'iscrowd': 0},\n",
       " {'id': 143,\n",
       "  'image_id': 18,\n",
       "  'category_id': 4,\n",
       "  'bbox': [351, 273, 18, 60],\n",
       "  'area': 1080,\n",
       "  'segmentation': [[369,\n",
       "    332.5,\n",
       "    369,\n",
       "    272.5,\n",
       "    351,\n",
       "    272.5,\n",
       "    351,\n",
       "    332.5,\n",
       "    369,\n",
       "    332.5]],\n",
       "  'iscrowd': 0},\n",
       " {'id': 144,\n",
       "  'image_id': 18,\n",
       "  'category_id': 2,\n",
       "  'bbox': [305, 286, 23, 27.5],\n",
       "  'area': 632.5,\n",
       "  'segmentation': [[328,\n",
       "    313.75,\n",
       "    328,\n",
       "    286.25,\n",
       "    305,\n",
       "    286.25,\n",
       "    305,\n",
       "    313.75,\n",
       "    328,\n",
       "    313.75]],\n",
       "  'iscrowd': 0},\n",
       " {'id': 145,\n",
       "  'image_id': 18,\n",
       "  'category_id': 4,\n",
       "  'bbox': [291, 280, 13, 36.25],\n",
       "  'area': 471.25,\n",
       "  'segmentation': [[304,\n",
       "    316.25,\n",
       "    304,\n",
       "    280,\n",
       "    291,\n",
       "    280,\n",
       "    291,\n",
       "    316.25,\n",
       "    304,\n",
       "    316.25]],\n",
       "  'iscrowd': 0},\n",
       " {'id': 146,\n",
       "  'image_id': 18,\n",
       "  'category_id': 2,\n",
       "  'bbox': [244, 285, 21, 23.75],\n",
       "  'area': 498.75,\n",
       "  'segmentation': [[265,\n",
       "    308.75,\n",
       "    265,\n",
       "    285,\n",
       "    244,\n",
       "    285,\n",
       "    244,\n",
       "    308.75,\n",
       "    265,\n",
       "    308.75]],\n",
       "  'iscrowd': 0},\n",
       " {'id': 147,\n",
       "  'image_id': 18,\n",
       "  'category_id': 4,\n",
       "  'bbox': [212, 288, 12, 33.75],\n",
       "  'area': 405,\n",
       "  'segmentation': [[224,\n",
       "    321.25,\n",
       "    224,\n",
       "    287.5,\n",
       "    212,\n",
       "    287.5,\n",
       "    212,\n",
       "    321.25,\n",
       "    224,\n",
       "    321.25]],\n",
       "  'iscrowd': 0},\n",
       " {'id': 148,\n",
       "  'image_id': 18,\n",
       "  'category_id': 4,\n",
       "  'bbox': [195, 278, 12, 40],\n",
       "  'area': 480,\n",
       "  'segmentation': [[207,\n",
       "    317.5,\n",
       "    207,\n",
       "    277.5,\n",
       "    195,\n",
       "    277.5,\n",
       "    195,\n",
       "    317.5,\n",
       "    207,\n",
       "    317.5]],\n",
       "  'iscrowd': 0},\n",
       " {'id': 149,\n",
       "  'image_id': 18,\n",
       "  'category_id': 2,\n",
       "  'bbox': [138, 278, 30, 25],\n",
       "  'area': 750,\n",
       "  'segmentation': [[168,\n",
       "    302.5,\n",
       "    168,\n",
       "    277.5,\n",
       "    138,\n",
       "    277.5,\n",
       "    138,\n",
       "    302.5,\n",
       "    168,\n",
       "    302.5]],\n",
       "  'iscrowd': 0},\n",
       " {'id': 150,\n",
       "  'image_id': 18,\n",
       "  'category_id': 2,\n",
       "  'bbox': [125, 280, 13, 20],\n",
       "  'area': 260,\n",
       "  'segmentation': [[138, 300, 138, 280, 125, 280, 125, 300, 138, 300]],\n",
       "  'iscrowd': 0},\n",
       " {'id': 151,\n",
       "  'image_id': 18,\n",
       "  'category_id': 2,\n",
       "  'bbox': [82, 279, 28, 17.5],\n",
       "  'area': 490,\n",
       "  'segmentation': [[110,\n",
       "    296.25,\n",
       "    110,\n",
       "    278.75,\n",
       "    82,\n",
       "    278.75,\n",
       "    82,\n",
       "    296.25,\n",
       "    110,\n",
       "    296.25]],\n",
       "  'iscrowd': 0},\n",
       " {'id': 152,\n",
       "  'image_id': 18,\n",
       "  'category_id': 2,\n",
       "  'bbox': [58, 278, 22, 21.25],\n",
       "  'area': 467.5,\n",
       "  'segmentation': [[80, 298.75, 80, 277.5, 58, 277.5, 58, 298.75, 80, 298.75]],\n",
       "  'iscrowd': 0},\n",
       " {'id': 153,\n",
       "  'image_id': 18,\n",
       "  'category_id': 2,\n",
       "  'bbox': [45, 283, 18, 17.5],\n",
       "  'area': 315,\n",
       "  'segmentation': [[63, 300, 63, 282.5, 45, 282.5, 45, 300, 63, 300]],\n",
       "  'iscrowd': 0},\n",
       " {'id': 154,\n",
       "  'image_id': 18,\n",
       "  'category_id': 2,\n",
       "  'bbox': [0, 260, 66, 188.75],\n",
       "  'area': 12457.5,\n",
       "  'segmentation': [[0, 448.75, 66, 448.75, 66, 260, 0, 260, 0, 448.75]],\n",
       "  'iscrowd': 0},\n",
       " {'id': 155,\n",
       "  'image_id': 18,\n",
       "  'category_id': 2,\n",
       "  'bbox': [23, 273, 18, 20],\n",
       "  'area': 360,\n",
       "  'segmentation': [[41, 292.5, 41, 272.5, 23, 272.5, 23, 292.5, 41, 292.5]],\n",
       "  'iscrowd': 0},\n",
       " {'id': 156,\n",
       "  'image_id': 19,\n",
       "  'category_id': 2,\n",
       "  'bbox': [250, 291, 50, 56.25],\n",
       "  'area': 2812.5,\n",
       "  'segmentation': [[300,\n",
       "    347.5,\n",
       "    300,\n",
       "    291.25,\n",
       "    250,\n",
       "    291.25,\n",
       "    250,\n",
       "    347.5,\n",
       "    300,\n",
       "    347.5]],\n",
       "  'iscrowd': 0},\n",
       " {'id': 157,\n",
       "  'image_id': 19,\n",
       "  'category_id': 2,\n",
       "  'bbox': [312, 290, 28, 32.5],\n",
       "  'area': 910,\n",
       "  'segmentation': [[340, 322.5, 340, 290, 312, 290, 312, 322.5, 340, 322.5]],\n",
       "  'iscrowd': 0},\n",
       " {'id': 158,\n",
       "  'image_id': 19,\n",
       "  'category_id': 2,\n",
       "  'bbox': [410, 288, 16, 12.5],\n",
       "  'area': 200,\n",
       "  'segmentation': [[426, 300, 426, 287.5, 410, 287.5, 410, 300, 426, 300]],\n",
       "  'iscrowd': 0},\n",
       " {'id': 159,\n",
       "  'image_id': 19,\n",
       "  'category_id': 2,\n",
       "  'bbox': [390, 280, 10, 13.75],\n",
       "  'area': 137.5,\n",
       "  'segmentation': [[400,\n",
       "    293.75,\n",
       "    400,\n",
       "    280,\n",
       "    390,\n",
       "    280,\n",
       "    390,\n",
       "    293.75,\n",
       "    400,\n",
       "    293.75]],\n",
       "  'iscrowd': 0},\n",
       " {'id': 160,\n",
       "  'image_id': 19,\n",
       "  'category_id': 2,\n",
       "  'bbox': [325, 281, 13, 15],\n",
       "  'area': 195,\n",
       "  'segmentation': [[338,\n",
       "    296.25,\n",
       "    338,\n",
       "    281.25,\n",
       "    325,\n",
       "    281.25,\n",
       "    325,\n",
       "    296.25,\n",
       "    338,\n",
       "    296.25]],\n",
       "  'iscrowd': 0},\n",
       " {'id': 161,\n",
       "  'image_id': 20,\n",
       "  'category_id': 2,\n",
       "  'bbox': [92, 286, 91, 92.5],\n",
       "  'area': 8417.5,\n",
       "  'segmentation': [[183,\n",
       "    378.75,\n",
       "    183,\n",
       "    286.25,\n",
       "    92,\n",
       "    286.25,\n",
       "    92,\n",
       "    378.75,\n",
       "    183,\n",
       "    378.75]],\n",
       "  'iscrowd': 0},\n",
       " {'id': 162,\n",
       "  'image_id': 20,\n",
       "  'category_id': 2,\n",
       "  'bbox': [172, 296, 42, 57.5],\n",
       "  'area': 2415,\n",
       "  'segmentation': [[214,\n",
       "    353.75,\n",
       "    214,\n",
       "    296.25,\n",
       "    172,\n",
       "    296.25,\n",
       "    172,\n",
       "    353.75,\n",
       "    214,\n",
       "    353.75]],\n",
       "  'iscrowd': 0},\n",
       " {'id': 163,\n",
       "  'image_id': 20,\n",
       "  'category_id': 2,\n",
       "  'bbox': [180, 283, 45, 47.5],\n",
       "  'area': 2137.5,\n",
       "  'segmentation': [[225, 330, 225, 282.5, 180, 282.5, 180, 330, 225, 330]],\n",
       "  'iscrowd': 0},\n",
       " {'id': 164,\n",
       "  'image_id': 20,\n",
       "  'category_id': 2,\n",
       "  'bbox': [207, 286, 30, 33.75],\n",
       "  'area': 1012.5,\n",
       "  'segmentation': [[237, 320, 237, 286.25, 207, 286.25, 207, 320, 237, 320]],\n",
       "  'iscrowd': 0},\n",
       " {'id': 165,\n",
       "  'image_id': 20,\n",
       "  'category_id': 2,\n",
       "  'bbox': [249, 274, 27, 32.5],\n",
       "  'area': 877.5,\n",
       "  'segmentation': [[276,\n",
       "    306.25,\n",
       "    276,\n",
       "    273.75,\n",
       "    249,\n",
       "    273.75,\n",
       "    249,\n",
       "    306.25,\n",
       "    276,\n",
       "    306.25]],\n",
       "  'iscrowd': 0},\n",
       " {'id': 166,\n",
       "  'image_id': 20,\n",
       "  'category_id': 2,\n",
       "  'bbox': [320, 260, 16, 17.5],\n",
       "  'area': 280,\n",
       "  'segmentation': [[336, 277.5, 336, 260, 320, 260, 320, 277.5, 336, 277.5]],\n",
       "  'iscrowd': 0},\n",
       " {'id': 167,\n",
       "  'image_id': 20,\n",
       "  'category_id': 2,\n",
       "  'bbox': [537, 280, 102, 72.5],\n",
       "  'area': 7395,\n",
       "  'segmentation': [[639, 352.5, 639, 280, 537, 280, 537, 352.5, 639, 352.5]],\n",
       "  'iscrowd': 0},\n",
       " {'id': 168,\n",
       "  'image_id': 20,\n",
       "  'category_id': 2,\n",
       "  'bbox': [477, 335, 160, 168.75],\n",
       "  'area': 27000,\n",
       "  'segmentation': [[637,\n",
       "    503.75,\n",
       "    637,\n",
       "    335,\n",
       "    477,\n",
       "    335,\n",
       "    477,\n",
       "    503.75,\n",
       "    637,\n",
       "    503.75]],\n",
       "  'iscrowd': 0},\n",
       " {'id': 169,\n",
       "  'image_id': 20,\n",
       "  'category_id': 2,\n",
       "  'bbox': [427, 285, 20, 32.5],\n",
       "  'area': 650,\n",
       "  'segmentation': [[447, 317.5, 447, 285, 427, 285, 427, 317.5, 447, 317.5]],\n",
       "  'iscrowd': 0},\n",
       " {'id': 170,\n",
       "  'image_id': 20,\n",
       "  'category_id': 2,\n",
       "  'bbox': [411, 278, 39, 30],\n",
       "  'area': 1170,\n",
       "  'segmentation': [[450,\n",
       "    307.5,\n",
       "    450,\n",
       "    277.5,\n",
       "    411,\n",
       "    277.5,\n",
       "    411,\n",
       "    307.5,\n",
       "    450,\n",
       "    307.5]],\n",
       "  'iscrowd': 0},\n",
       " {'id': 171,\n",
       "  'image_id': 20,\n",
       "  'category_id': 4,\n",
       "  'bbox': [444, 283, 13, 56.25],\n",
       "  'area': 731.25,\n",
       "  'segmentation': [[457,\n",
       "    338.75,\n",
       "    457,\n",
       "    282.5,\n",
       "    444,\n",
       "    282.5,\n",
       "    444,\n",
       "    338.75,\n",
       "    457,\n",
       "    338.75]],\n",
       "  'iscrowd': 0},\n",
       " {'id': 172,\n",
       "  'image_id': 20,\n",
       "  'category_id': 2,\n",
       "  'bbox': [0, 296, 16, 63.75],\n",
       "  'area': 1020,\n",
       "  'segmentation': [[0, 360, 16, 360, 16, 296.25, 0, 296.25, 0, 360]],\n",
       "  'iscrowd': 0},\n",
       " {'id': 173,\n",
       "  'image_id': 20,\n",
       "  'category_id': 2,\n",
       "  'bbox': [22, 300, 21, 42.5],\n",
       "  'area': 892.5,\n",
       "  'segmentation': [[43, 342.5, 43, 300, 22, 300, 22, 342.5, 43, 342.5]],\n",
       "  'iscrowd': 0},\n",
       " {'id': 174,\n",
       "  'image_id': 20,\n",
       "  'category_id': 2,\n",
       "  'bbox': [466, 268, 53, 58.75],\n",
       "  'area': 3113.75,\n",
       "  'segmentation': [[519,\n",
       "    326.25,\n",
       "    519,\n",
       "    267.5,\n",
       "    466,\n",
       "    267.5,\n",
       "    466,\n",
       "    326.25,\n",
       "    519,\n",
       "    326.25]],\n",
       "  'iscrowd': 0},\n",
       " {'id': 175,\n",
       "  'image_id': 21,\n",
       "  'category_id': 2,\n",
       "  'bbox': [403, 300, 38, 60],\n",
       "  'area': 2280,\n",
       "  'segmentation': [[441, 360, 441, 300, 403, 300, 403, 360, 441, 360]],\n",
       "  'iscrowd': 0},\n",
       " {'id': 176,\n",
       "  'image_id': 21,\n",
       "  'category_id': 2,\n",
       "  'bbox': [419, 301, 68, 88.75],\n",
       "  'area': 6035,\n",
       "  'segmentation': [[487, 390, 487, 301.25, 419, 301.25, 419, 390, 487, 390]],\n",
       "  'iscrowd': 0},\n",
       " {'id': 177,\n",
       "  'image_id': 21,\n",
       "  'category_id': 2,\n",
       "  'bbox': [433, 304, 136, 132.5],\n",
       "  'area': 18020,\n",
       "  'segmentation': [[569,\n",
       "    436.25,\n",
       "    569,\n",
       "    303.75,\n",
       "    433,\n",
       "    303.75,\n",
       "    433,\n",
       "    436.25,\n",
       "    569,\n",
       "    436.25]],\n",
       "  'iscrowd': 0},\n",
       " {'id': 178,\n",
       "  'image_id': 21,\n",
       "  'category_id': 2,\n",
       "  'bbox': [208, 299, 35, 47.5],\n",
       "  'area': 1662.5,\n",
       "  'segmentation': [[243,\n",
       "    346.25,\n",
       "    243,\n",
       "    298.75,\n",
       "    208,\n",
       "    298.75,\n",
       "    208,\n",
       "    346.25,\n",
       "    243,\n",
       "    346.25]],\n",
       "  'iscrowd': 0},\n",
       " {'id': 179,\n",
       "  'image_id': 21,\n",
       "  'category_id': 2,\n",
       "  'bbox': [180, 299, 35, 61.25],\n",
       "  'area': 2143.75,\n",
       "  'segmentation': [[215, 360, 215, 298.75, 180, 298.75, 180, 360, 215, 360]],\n",
       "  'iscrowd': 0},\n",
       " {'id': 180,\n",
       "  'image_id': 21,\n",
       "  'category_id': 2,\n",
       "  'bbox': [110, 288, 77, 86.25],\n",
       "  'area': 6641.25,\n",
       "  'segmentation': [[187,\n",
       "    373.75,\n",
       "    187,\n",
       "    287.5,\n",
       "    110,\n",
       "    287.5,\n",
       "    110,\n",
       "    373.75,\n",
       "    187,\n",
       "    373.75]],\n",
       "  'iscrowd': 0},\n",
       " {'id': 181,\n",
       "  'image_id': 21,\n",
       "  'category_id': 2,\n",
       "  'bbox': [1, 299, 139, 105],\n",
       "  'area': 14595,\n",
       "  'segmentation': [[140,\n",
       "    403.75,\n",
       "    140,\n",
       "    298.75,\n",
       "    1,\n",
       "    298.75,\n",
       "    1,\n",
       "    403.75,\n",
       "    140,\n",
       "    403.75]],\n",
       "  'iscrowd': 0},\n",
       " {'id': 182,\n",
       "  'image_id': 21,\n",
       "  'category_id': 4,\n",
       "  'bbox': [246, 294, 13, 45],\n",
       "  'area': 585,\n",
       "  'segmentation': [[259,\n",
       "    338.75,\n",
       "    259,\n",
       "    293.75,\n",
       "    246,\n",
       "    293.75,\n",
       "    246,\n",
       "    338.75,\n",
       "    259,\n",
       "    338.75]],\n",
       "  'iscrowd': 0},\n",
       " {'id': 183,\n",
       "  'image_id': 21,\n",
       "  'category_id': 4,\n",
       "  'bbox': [256, 294, 17, 46.25],\n",
       "  'area': 786.25,\n",
       "  'segmentation': [[273, 340, 273, 293.75, 256, 293.75, 256, 340, 273, 340]],\n",
       "  'iscrowd': 0},\n",
       " {'id': 184,\n",
       "  'image_id': 21,\n",
       "  'category_id': 4,\n",
       "  'bbox': [364, 285, 21, 68.75],\n",
       "  'area': 1443.75,\n",
       "  'segmentation': [[385,\n",
       "    353.75,\n",
       "    385,\n",
       "    285,\n",
       "    364,\n",
       "    285,\n",
       "    364,\n",
       "    353.75,\n",
       "    385,\n",
       "    353.75]],\n",
       "  'iscrowd': 0},\n",
       " {'id': 185,\n",
       "  'image_id': 21,\n",
       "  'category_id': 4,\n",
       "  'bbox': [378, 291, 32, 107.5],\n",
       "  'area': 3440,\n",
       "  'segmentation': [[410,\n",
       "    398.75,\n",
       "    410,\n",
       "    291.25,\n",
       "    378,\n",
       "    291.25,\n",
       "    378,\n",
       "    398.75,\n",
       "    410,\n",
       "    398.75]],\n",
       "  'iscrowd': 0},\n",
       " {'id': 186,\n",
       "  'image_id': 21,\n",
       "  'category_id': 2,\n",
       "  'bbox': [326, 296, 26, 21.25],\n",
       "  'area': 552.5,\n",
       "  'segmentation': [[352,\n",
       "    317.5,\n",
       "    352,\n",
       "    296.25,\n",
       "    326,\n",
       "    296.25,\n",
       "    326,\n",
       "    317.5,\n",
       "    352,\n",
       "    317.5]],\n",
       "  'iscrowd': 0},\n",
       " {'id': 187,\n",
       "  'image_id': 21,\n",
       "  'category_id': 2,\n",
       "  'bbox': [264, 290, 27, 27.5],\n",
       "  'area': 742.5,\n",
       "  'segmentation': [[291, 317.5, 291, 290, 264, 290, 264, 317.5, 291, 317.5]],\n",
       "  'iscrowd': 0},\n",
       " {'id': 188,\n",
       "  'image_id': 21,\n",
       "  'category_id': 2,\n",
       "  'bbox': [580, 311, 37, 52.5],\n",
       "  'area': 1942.5,\n",
       "  'segmentation': [[617,\n",
       "    363.75,\n",
       "    617,\n",
       "    311.25,\n",
       "    580,\n",
       "    311.25,\n",
       "    580,\n",
       "    363.75,\n",
       "    617,\n",
       "    363.75]],\n",
       "  'iscrowd': 0},\n",
       " {'id': 189,\n",
       "  'image_id': 21,\n",
       "  'category_id': 2,\n",
       "  'bbox': [347, 298, 13, 18.75],\n",
       "  'area': 243.75,\n",
       "  'segmentation': [[360,\n",
       "    316.25,\n",
       "    360,\n",
       "    297.5,\n",
       "    347,\n",
       "    297.5,\n",
       "    347,\n",
       "    316.25,\n",
       "    360,\n",
       "    316.25]],\n",
       "  'iscrowd': 0},\n",
       " {'id': 190,\n",
       "  'image_id': 22,\n",
       "  'category_id': 2,\n",
       "  'bbox': [1, 295, 118, 98.75],\n",
       "  'area': 11652.5,\n",
       "  'segmentation': [[119, 393.75, 119, 295, 1, 295, 1, 393.75, 119, 393.75]],\n",
       "  'iscrowd': 0},\n",
       " {'id': 191,\n",
       "  'image_id': 22,\n",
       "  'category_id': 2,\n",
       "  'bbox': [110, 290, 68, 72.5],\n",
       "  'area': 4930,\n",
       "  'segmentation': [[178, 362.5, 178, 290, 110, 290, 110, 362.5, 178, 362.5]],\n",
       "  'iscrowd': 0},\n",
       " {'id': 192,\n",
       "  'image_id': 22,\n",
       "  'category_id': 2,\n",
       "  'bbox': [363, 280, 21, 22.5],\n",
       "  'area': 472.5,\n",
       "  'segmentation': [[384, 302.5, 384, 280, 363, 280, 363, 302.5, 384, 302.5]],\n",
       "  'iscrowd': 0},\n",
       " {'id': 193,\n",
       "  'image_id': 22,\n",
       "  'category_id': 4,\n",
       "  'bbox': [460, 303, 21, 53.75],\n",
       "  'area': 1128.75,\n",
       "  'segmentation': [[481,\n",
       "    356.25,\n",
       "    481,\n",
       "    302.5,\n",
       "    460,\n",
       "    302.5,\n",
       "    460,\n",
       "    356.25,\n",
       "    481,\n",
       "    356.25]],\n",
       "  'iscrowd': 0},\n",
       " {'id': 194,\n",
       "  'image_id': 22,\n",
       "  'category_id': 1,\n",
       "  'bbox': [464, 330, 13, 35],\n",
       "  'area': 455,\n",
       "  'segmentation': [[477, 365, 477, 330, 464, 330, 464, 365, 477, 365]],\n",
       "  'iscrowd': 0},\n",
       " {'id': 195,\n",
       "  'image_id': 22,\n",
       "  'category_id': 4,\n",
       "  'bbox': [81, 280, 15, 17.5],\n",
       "  'area': 262.5,\n",
       "  'segmentation': [[96, 297.5, 96, 280, 81, 280, 81, 297.5, 96, 297.5]],\n",
       "  'iscrowd': 0},\n",
       " {'id': 196,\n",
       "  'image_id': 23,\n",
       "  'category_id': 2,\n",
       "  'bbox': [606, 246, 33, 120],\n",
       "  'area': 3960,\n",
       "  'segmentation': [[639,\n",
       "    366.25,\n",
       "    639,\n",
       "    246.25,\n",
       "    606,\n",
       "    246.25,\n",
       "    606,\n",
       "    366.25,\n",
       "    639,\n",
       "    366.25]],\n",
       "  'iscrowd': 0},\n",
       " {'id': 197,\n",
       "  'image_id': 23,\n",
       "  'category_id': 2,\n",
       "  'bbox': [399, 268, 87, 28.75],\n",
       "  'area': 2501.25,\n",
       "  'segmentation': [[486,\n",
       "    296.25,\n",
       "    486,\n",
       "    267.5,\n",
       "    399,\n",
       "    267.5,\n",
       "    399,\n",
       "    296.25,\n",
       "    486,\n",
       "    296.25]],\n",
       "  'iscrowd': 0},\n",
       " {'id': 198,\n",
       "  'image_id': 23,\n",
       "  'category_id': 2,\n",
       "  'bbox': [384, 278, 15, 28.75],\n",
       "  'area': 431.25,\n",
       "  'segmentation': [[399,\n",
       "    306.25,\n",
       "    399,\n",
       "    277.5,\n",
       "    384,\n",
       "    277.5,\n",
       "    384,\n",
       "    306.25,\n",
       "    399,\n",
       "    306.25]],\n",
       "  'iscrowd': 0},\n",
       " {'id': 199,\n",
       "  'image_id': 23,\n",
       "  'category_id': 2,\n",
       "  'bbox': [348, 268, 29, 36.25],\n",
       "  'area': 1051.25,\n",
       "  'segmentation': [[377,\n",
       "    303.75,\n",
       "    377,\n",
       "    267.5,\n",
       "    348,\n",
       "    267.5,\n",
       "    348,\n",
       "    303.75,\n",
       "    377,\n",
       "    303.75]],\n",
       "  'iscrowd': 0},\n",
       " {'id': 200,\n",
       "  'image_id': 23,\n",
       "  'category_id': 2,\n",
       "  'bbox': [302, 275, 45, 47.5],\n",
       "  'area': 2137.5,\n",
       "  'segmentation': [[347, 322.5, 347, 275, 302, 275, 302, 322.5, 347, 322.5]],\n",
       "  'iscrowd': 0},\n",
       " {'id': 201,\n",
       "  'image_id': 23,\n",
       "  'category_id': 2,\n",
       "  'bbox': [289, 276, 14, 36.25],\n",
       "  'area': 507.5,\n",
       "  'segmentation': [[303,\n",
       "    312.5,\n",
       "    303,\n",
       "    276.25,\n",
       "    289,\n",
       "    276.25,\n",
       "    289,\n",
       "    312.5,\n",
       "    303,\n",
       "    312.5]],\n",
       "  'iscrowd': 0},\n",
       " {'id': 202,\n",
       "  'image_id': 23,\n",
       "  'category_id': 2,\n",
       "  'bbox': [268, 280, 22, 36.25],\n",
       "  'area': 797.5,\n",
       "  'segmentation': [[290,\n",
       "    316.25,\n",
       "    290,\n",
       "    280,\n",
       "    268,\n",
       "    280,\n",
       "    268,\n",
       "    316.25,\n",
       "    290,\n",
       "    316.25]],\n",
       "  'iscrowd': 0},\n",
       " {'id': 203,\n",
       "  'image_id': 23,\n",
       "  'category_id': 4,\n",
       "  'bbox': [171, 271, 16, 32.5],\n",
       "  'area': 520,\n",
       "  'segmentation': [[187,\n",
       "    303.75,\n",
       "    187,\n",
       "    271.25,\n",
       "    171,\n",
       "    271.25,\n",
       "    171,\n",
       "    303.75,\n",
       "    187,\n",
       "    303.75]],\n",
       "  'iscrowd': 0},\n",
       " {'id': 204,\n",
       "  'image_id': 23,\n",
       "  'category_id': 4,\n",
       "  'bbox': [148, 271, 17, 53.75],\n",
       "  'area': 913.75,\n",
       "  'segmentation': [[165, 325, 165, 271.25, 148, 271.25, 148, 325, 165, 325]],\n",
       "  'iscrowd': 0},\n",
       " {'id': 205,\n",
       "  'image_id': 23,\n",
       "  'category_id': 4,\n",
       "  'bbox': [511, 244, 15, 57.5],\n",
       "  'area': 862.5,\n",
       "  'segmentation': [[526,\n",
       "    301.25,\n",
       "    526,\n",
       "    243.75,\n",
       "    511,\n",
       "    243.75,\n",
       "    511,\n",
       "    301.25,\n",
       "    526,\n",
       "    301.25]],\n",
       "  'iscrowd': 0},\n",
       " {'id': 206,\n",
       "  'image_id': 24,\n",
       "  'category_id': 4,\n",
       "  'bbox': [419, 261, 13, 37.5],\n",
       "  'area': 487.5,\n",
       "  'segmentation': [[432,\n",
       "    298.75,\n",
       "    432,\n",
       "    261.25,\n",
       "    419,\n",
       "    261.25,\n",
       "    419,\n",
       "    298.75,\n",
       "    432,\n",
       "    298.75]],\n",
       "  'iscrowd': 0},\n",
       " {'id': 207,\n",
       "  'image_id': 24,\n",
       "  'category_id': 4,\n",
       "  'bbox': [406, 264, 10, 36.25],\n",
       "  'area': 362.5,\n",
       "  'segmentation': [[416, 300, 416, 263.75, 406, 263.75, 406, 300, 416, 300]],\n",
       "  'iscrowd': 0},\n",
       " {'id': 208,\n",
       "  'image_id': 24,\n",
       "  'category_id': 4,\n",
       "  'bbox': [392, 261, 12, 38.75],\n",
       "  'area': 465,\n",
       "  'segmentation': [[404, 300, 404, 261.25, 392, 261.25, 392, 300, 404, 300]],\n",
       "  'iscrowd': 0},\n",
       " {'id': 209,\n",
       "  'image_id': 24,\n",
       "  'category_id': 4,\n",
       "  'bbox': [381, 265, 10, 35],\n",
       "  'area': 350,\n",
       "  'segmentation': [[391, 300, 391, 265, 381, 265, 381, 300, 391, 300]],\n",
       "  'iscrowd': 0},\n",
       " {'id': 210,\n",
       "  'image_id': 24,\n",
       "  'category_id': 2,\n",
       "  'bbox': [292, 274, 18, 22.5],\n",
       "  'area': 405,\n",
       "  'segmentation': [[310,\n",
       "    296.25,\n",
       "    310,\n",
       "    273.75,\n",
       "    292,\n",
       "    273.75,\n",
       "    292,\n",
       "    296.25,\n",
       "    310,\n",
       "    296.25]],\n",
       "  'iscrowd': 0},\n",
       " {'id': 211,\n",
       "  'image_id': 24,\n",
       "  'category_id': 2,\n",
       "  'bbox': [260, 278, 21, 25],\n",
       "  'area': 525,\n",
       "  'segmentation': [[281,\n",
       "    302.5,\n",
       "    281,\n",
       "    277.5,\n",
       "    260,\n",
       "    277.5,\n",
       "    260,\n",
       "    302.5,\n",
       "    281,\n",
       "    302.5]],\n",
       "  'iscrowd': 0},\n",
       " {'id': 212,\n",
       "  'image_id': 24,\n",
       "  'category_id': 2,\n",
       "  'bbox': [219, 271, 44, 42.5],\n",
       "  'area': 1870,\n",
       "  'segmentation': [[263,\n",
       "    313.75,\n",
       "    263,\n",
       "    271.25,\n",
       "    219,\n",
       "    271.25,\n",
       "    219,\n",
       "    313.75,\n",
       "    263,\n",
       "    313.75]],\n",
       "  'iscrowd': 0},\n",
       " {'id': 213,\n",
       "  'image_id': 24,\n",
       "  'category_id': 2,\n",
       "  'bbox': [143, 263, 85, 78.75],\n",
       "  'area': 6693.75,\n",
       "  'segmentation': [[228,\n",
       "    341.25,\n",
       "    228,\n",
       "    262.5,\n",
       "    143,\n",
       "    262.5,\n",
       "    143,\n",
       "    341.25,\n",
       "    228,\n",
       "    341.25]],\n",
       "  'iscrowd': 0},\n",
       " {'id': 214,\n",
       "  'image_id': 24,\n",
       "  'category_id': 2,\n",
       "  'bbox': [130, 279, 22, 26.25],\n",
       "  'area': 577.5,\n",
       "  'segmentation': [[152, 305, 152, 278.75, 130, 278.75, 130, 305, 152, 305]],\n",
       "  'iscrowd': 0},\n",
       " {'id': 215,\n",
       "  'image_id': 24,\n",
       "  'category_id': 2,\n",
       "  'bbox': [88, 276, 38, 36.25],\n",
       "  'area': 1377.5,\n",
       "  'segmentation': [[126,\n",
       "    312.5,\n",
       "    126,\n",
       "    276.25,\n",
       "    88,\n",
       "    276.25,\n",
       "    88,\n",
       "    312.5,\n",
       "    126,\n",
       "    312.5]],\n",
       "  'iscrowd': 0},\n",
       " {'id': 216,\n",
       "  'image_id': 24,\n",
       "  'category_id': 2,\n",
       "  'bbox': [0, 290, 22, 41.25],\n",
       "  'area': 907.5,\n",
       "  'segmentation': [[0, 331.25, 22, 331.25, 22, 290, 0, 290, 0, 331.25]],\n",
       "  'iscrowd': 0},\n",
       " {'id': 217,\n",
       "  'image_id': 25,\n",
       "  'category_id': 2,\n",
       "  'bbox': [226, 286, 36, 35],\n",
       "  'area': 1260,\n",
       "  'segmentation': [[262,\n",
       "    321.25,\n",
       "    262,\n",
       "    286.25,\n",
       "    226,\n",
       "    286.25,\n",
       "    226,\n",
       "    321.25,\n",
       "    262,\n",
       "    321.25]],\n",
       "  'iscrowd': 0},\n",
       " {'id': 218,\n",
       "  'image_id': 25,\n",
       "  'category_id': 2,\n",
       "  'bbox': [373, 285, 25, 25],\n",
       "  'area': 625,\n",
       "  'segmentation': [[398, 310, 398, 285, 373, 285, 373, 310, 398, 310]],\n",
       "  'iscrowd': 0},\n",
       " {'id': 219,\n",
       "  'image_id': 26,\n",
       "  'category_id': 2,\n",
       "  'bbox': [369, 271, 54, 56.25],\n",
       "  'area': 3037.5,\n",
       "  'segmentation': [[423,\n",
       "    327.5,\n",
       "    423,\n",
       "    271.25,\n",
       "    369,\n",
       "    271.25,\n",
       "    369,\n",
       "    327.5,\n",
       "    423,\n",
       "    327.5]],\n",
       "  'iscrowd': 0},\n",
       " {'id': 220,\n",
       "  'image_id': 26,\n",
       "  'category_id': 2,\n",
       "  'bbox': [350, 270, 26, 42.5],\n",
       "  'area': 1105,\n",
       "  'segmentation': [[376, 312.5, 376, 270, 350, 270, 350, 312.5, 376, 312.5]],\n",
       "  'iscrowd': 0},\n",
       " {'id': 221,\n",
       "  'image_id': 26,\n",
       "  'category_id': 2,\n",
       "  'bbox': [339, 275, 13, 28.75],\n",
       "  'area': 373.75,\n",
       "  'segmentation': [[352,\n",
       "    303.75,\n",
       "    352,\n",
       "    275,\n",
       "    339,\n",
       "    275,\n",
       "    339,\n",
       "    303.75,\n",
       "    352,\n",
       "    303.75]],\n",
       "  'iscrowd': 0},\n",
       " {'id': 222,\n",
       "  'image_id': 26,\n",
       "  'category_id': 2,\n",
       "  'bbox': [329, 274, 16, 23.75],\n",
       "  'area': 380,\n",
       "  'segmentation': [[345,\n",
       "    297.5,\n",
       "    345,\n",
       "    273.75,\n",
       "    329,\n",
       "    273.75,\n",
       "    329,\n",
       "    297.5,\n",
       "    345,\n",
       "    297.5]],\n",
       "  'iscrowd': 0},\n",
       " {'id': 223,\n",
       "  'image_id': 26,\n",
       "  'category_id': 2,\n",
       "  'bbox': [320, 274, 13, 21.25],\n",
       "  'area': 276.25,\n",
       "  'segmentation': [[333, 295, 333, 273.75, 320, 273.75, 320, 295, 333, 295]],\n",
       "  'iscrowd': 0},\n",
       " {'id': 224,\n",
       "  'image_id': 26,\n",
       "  'category_id': 2,\n",
       "  'bbox': [310, 279, 10, 11.25],\n",
       "  'area': 112.5,\n",
       "  'segmentation': [[320, 290, 320, 278.75, 310, 278.75, 310, 290, 320, 290]],\n",
       "  'iscrowd': 0},\n",
       " {'id': 225,\n",
       "  'image_id': 26,\n",
       "  'category_id': 2,\n",
       "  'bbox': [288, 275, 17, 18.75],\n",
       "  'area': 318.75,\n",
       "  'segmentation': [[305,\n",
       "    293.75,\n",
       "    305,\n",
       "    275,\n",
       "    288,\n",
       "    275,\n",
       "    288,\n",
       "    293.75,\n",
       "    305,\n",
       "    293.75]],\n",
       "  'iscrowd': 0},\n",
       " {'id': 226,\n",
       "  'image_id': 26,\n",
       "  'category_id': 2,\n",
       "  'bbox': [280, 279, 12, 11.25],\n",
       "  'area': 135,\n",
       "  'segmentation': [[292, 290, 292, 278.75, 280, 278.75, 280, 290, 292, 290]],\n",
       "  'iscrowd': 0},\n",
       " {'id': 227,\n",
       "  'image_id': 26,\n",
       "  'category_id': 2,\n",
       "  'bbox': [201, 273, 36, 47.5],\n",
       "  'area': 1710,\n",
       "  'segmentation': [[237, 320, 237, 272.5, 201, 272.5, 201, 320, 237, 320]],\n",
       "  'iscrowd': 0},\n",
       " {'id': 228,\n",
       "  'image_id': 26,\n",
       "  'category_id': 2,\n",
       "  'bbox': [146, 271, 64, 58.75],\n",
       "  'area': 3760,\n",
       "  'segmentation': [[210, 330, 210, 271.25, 146, 271.25, 146, 330, 210, 330]],\n",
       "  'iscrowd': 0},\n",
       " {'id': 229,\n",
       "  'image_id': 26,\n",
       "  'category_id': 4,\n",
       "  'bbox': [65, 256, 22, 88.75],\n",
       "  'area': 1952.5,\n",
       "  'segmentation': [[87, 345, 87, 256.25, 65, 256.25, 65, 345, 87, 345]],\n",
       "  'iscrowd': 0},\n",
       " {'id': 230,\n",
       "  'image_id': 26,\n",
       "  'category_id': 1,\n",
       "  'bbox': [89, 304, 26, 43.75],\n",
       "  'area': 1137.5,\n",
       "  'segmentation': [[115,\n",
       "    347.5,\n",
       "    115,\n",
       "    303.75,\n",
       "    89,\n",
       "    303.75,\n",
       "    89,\n",
       "    347.5,\n",
       "    115,\n",
       "    347.5]],\n",
       "  'iscrowd': 0},\n",
       " {'id': 231,\n",
       "  'image_id': 26,\n",
       "  'category_id': 1,\n",
       "  'bbox': [38, 305, 28, 40],\n",
       "  'area': 1120,\n",
       "  'segmentation': [[66, 345, 66, 305, 38, 305, 38, 345, 66, 345]],\n",
       "  'iscrowd': 0},\n",
       " {'id': 232,\n",
       "  'image_id': 27,\n",
       "  'category_id': 2,\n",
       "  'bbox': [0, 268, 91, 98.75],\n",
       "  'area': 8986.25,\n",
       "  'segmentation': [[0, 366.25, 91, 366.25, 91, 267.5, 0, 267.5, 0, 366.25]],\n",
       "  'iscrowd': 0},\n",
       " {'id': 233,\n",
       "  'image_id': 27,\n",
       "  'category_id': 2,\n",
       "  'bbox': [134, 290, 30, 47.5],\n",
       "  'area': 1425,\n",
       "  'segmentation': [[164, 337.5, 164, 290, 134, 290, 134, 337.5, 164, 337.5]],\n",
       "  'iscrowd': 0},\n",
       " {'id': 234,\n",
       "  'image_id': 27,\n",
       "  'category_id': 2,\n",
       "  'bbox': [229, 286, 27, 22.5],\n",
       "  'area': 607.5,\n",
       "  'segmentation': [[256,\n",
       "    308.75,\n",
       "    256,\n",
       "    286.25,\n",
       "    229,\n",
       "    286.25,\n",
       "    229,\n",
       "    308.75,\n",
       "    256,\n",
       "    308.75]],\n",
       "  'iscrowd': 0},\n",
       " {'id': 235,\n",
       "  'image_id': 27,\n",
       "  'category_id': 2,\n",
       "  'bbox': [249, 284, 21, 21.25],\n",
       "  'area': 446.25,\n",
       "  'segmentation': [[270, 305, 270, 283.75, 249, 283.75, 249, 305, 270, 305]],\n",
       "  'iscrowd': 0},\n",
       " {'id': 236,\n",
       "  'image_id': 27,\n",
       "  'category_id': 2,\n",
       "  'bbox': [82, 283, 58, 65],\n",
       "  'area': 3770,\n",
       "  'segmentation': [[140, 347.5, 140, 282.5, 82, 282.5, 82, 347.5, 140, 347.5]],\n",
       "  'iscrowd': 0},\n",
       " {'id': 237,\n",
       "  'image_id': 27,\n",
       "  'category_id': 2,\n",
       "  'bbox': [266, 284, 15, 18.75],\n",
       "  'area': 281.25,\n",
       "  'segmentation': [[281,\n",
       "    302.5,\n",
       "    281,\n",
       "    283.75,\n",
       "    266,\n",
       "    283.75,\n",
       "    266,\n",
       "    302.5,\n",
       "    281,\n",
       "    302.5]],\n",
       "  'iscrowd': 0},\n",
       " {'id': 238,\n",
       "  'image_id': 27,\n",
       "  'category_id': 2,\n",
       "  'bbox': [285, 284, 13, 15],\n",
       "  'area': 195,\n",
       "  'segmentation': [[298,\n",
       "    298.75,\n",
       "    298,\n",
       "    283.75,\n",
       "    285,\n",
       "    283.75,\n",
       "    285,\n",
       "    298.75,\n",
       "    298,\n",
       "    298.75]],\n",
       "  'iscrowd': 0},\n",
       " {'id': 239,\n",
       "  'image_id': 27,\n",
       "  'category_id': 4,\n",
       "  'bbox': [390, 280, 11, 26.25],\n",
       "  'area': 288.75,\n",
       "  'segmentation': [[401,\n",
       "    306.25,\n",
       "    401,\n",
       "    280,\n",
       "    390,\n",
       "    280,\n",
       "    390,\n",
       "    306.25,\n",
       "    401,\n",
       "    306.25]],\n",
       "  'iscrowd': 0},\n",
       " {'id': 240,\n",
       "  'image_id': 27,\n",
       "  'category_id': 4,\n",
       "  'bbox': [376, 285, 15, 27.5],\n",
       "  'area': 412.5,\n",
       "  'segmentation': [[391, 312.5, 391, 285, 376, 285, 376, 312.5, 391, 312.5]],\n",
       "  'iscrowd': 0},\n",
       " {'id': 241,\n",
       "  'image_id': 27,\n",
       "  'category_id': 2,\n",
       "  'bbox': [544, 295, 28, 25],\n",
       "  'area': 700,\n",
       "  'segmentation': [[572, 320, 572, 295, 544, 295, 544, 320, 572, 320]],\n",
       "  'iscrowd': 0},\n",
       " {'id': 242,\n",
       "  'image_id': 28,\n",
       "  'category_id': 2,\n",
       "  'bbox': [74, 294, 85, 58.75],\n",
       "  'area': 4993.75,\n",
       "  'segmentation': [[159,\n",
       "    352.5,\n",
       "    159,\n",
       "    293.75,\n",
       "    74,\n",
       "    293.75,\n",
       "    74,\n",
       "    352.5,\n",
       "    159,\n",
       "    352.5]],\n",
       "  'iscrowd': 0},\n",
       " {'id': 243,\n",
       "  'image_id': 28,\n",
       "  'category_id': 2,\n",
       "  'bbox': [142, 295, 43, 43.75],\n",
       "  'area': 1881.25,\n",
       "  'segmentation': [[185,\n",
       "    338.75,\n",
       "    185,\n",
       "    295,\n",
       "    142,\n",
       "    295,\n",
       "    142,\n",
       "    338.75,\n",
       "    185,\n",
       "    338.75]],\n",
       "  'iscrowd': 0},\n",
       " {'id': 244,\n",
       "  'image_id': 28,\n",
       "  'category_id': 2,\n",
       "  'bbox': [179, 295, 34, 30],\n",
       "  'area': 1020,\n",
       "  'segmentation': [[213, 325, 213, 295, 179, 295, 179, 325, 213, 325]],\n",
       "  'iscrowd': 0},\n",
       " {'id': 245,\n",
       "  'image_id': 28,\n",
       "  'category_id': 2,\n",
       "  'bbox': [194, 281, 36, 40],\n",
       "  'area': 1440,\n",
       "  'segmentation': [[230,\n",
       "    321.25,\n",
       "    230,\n",
       "    281.25,\n",
       "    194,\n",
       "    281.25,\n",
       "    194,\n",
       "    321.25,\n",
       "    230,\n",
       "    321.25]],\n",
       "  'iscrowd': 0},\n",
       " {'id': 246,\n",
       "  'image_id': 28,\n",
       "  'category_id': 2,\n",
       "  'bbox': [260, 290, 19, 18.75],\n",
       "  'area': 356.25,\n",
       "  'segmentation': [[279,\n",
       "    308.75,\n",
       "    279,\n",
       "    290,\n",
       "    260,\n",
       "    290,\n",
       "    260,\n",
       "    308.75,\n",
       "    279,\n",
       "    308.75]],\n",
       "  'iscrowd': 0},\n",
       " {'id': 247,\n",
       "  'image_id': 28,\n",
       "  'category_id': 2,\n",
       "  'bbox': [226, 286, 17, 32.5],\n",
       "  'area': 552.5,\n",
       "  'segmentation': [[243,\n",
       "    318.75,\n",
       "    243,\n",
       "    286.25,\n",
       "    226,\n",
       "    286.25,\n",
       "    226,\n",
       "    318.75,\n",
       "    243,\n",
       "    318.75]],\n",
       "  'iscrowd': 0},\n",
       " {'id': 248,\n",
       "  'image_id': 28,\n",
       "  'category_id': 2,\n",
       "  'bbox': [272, 286, 14, 20],\n",
       "  'area': 280,\n",
       "  'segmentation': [[286,\n",
       "    306.25,\n",
       "    286,\n",
       "    286.25,\n",
       "    272,\n",
       "    286.25,\n",
       "    272,\n",
       "    306.25,\n",
       "    286,\n",
       "    306.25]],\n",
       "  'iscrowd': 0},\n",
       " {'id': 249,\n",
       "  'image_id': 28,\n",
       "  'category_id': 2,\n",
       "  'bbox': [290, 288, 15, 15],\n",
       "  'area': 225,\n",
       "  'segmentation': [[305,\n",
       "    302.5,\n",
       "    305,\n",
       "    287.5,\n",
       "    290,\n",
       "    287.5,\n",
       "    290,\n",
       "    302.5,\n",
       "    305,\n",
       "    302.5]],\n",
       "  'iscrowd': 0},\n",
       " {'id': 250,\n",
       "  'image_id': 28,\n",
       "  'category_id': 4,\n",
       "  'bbox': [385, 294, 15, 25],\n",
       "  'area': 375,\n",
       "  'segmentation': [[400,\n",
       "    318.75,\n",
       "    400,\n",
       "    293.75,\n",
       "    385,\n",
       "    293.75,\n",
       "    385,\n",
       "    318.75,\n",
       "    400,\n",
       "    318.75]],\n",
       "  'iscrowd': 0},\n",
       " {'id': 251,\n",
       "  'image_id': 28,\n",
       "  'category_id': 4,\n",
       "  'bbox': [372, 290, 9, 18.75],\n",
       "  'area': 168.75,\n",
       "  'segmentation': [[381,\n",
       "    308.75,\n",
       "    381,\n",
       "    290,\n",
       "    372,\n",
       "    290,\n",
       "    372,\n",
       "    308.75,\n",
       "    381,\n",
       "    308.75]],\n",
       "  'iscrowd': 0},\n",
       " {'id': 252,\n",
       "  'image_id': 29,\n",
       "  'category_id': 2,\n",
       "  'bbox': [369, 268, 53, 56.25],\n",
       "  'area': 2981.25,\n",
       "  'segmentation': [[422,\n",
       "    323.75,\n",
       "    422,\n",
       "    267.5,\n",
       "    369,\n",
       "    267.5,\n",
       "    369,\n",
       "    323.75,\n",
       "    422,\n",
       "    323.75]],\n",
       "  'iscrowd': 0},\n",
       " {'id': 253,\n",
       "  'image_id': 29,\n",
       "  'category_id': 2,\n",
       "  'bbox': [348, 265, 29, 45],\n",
       "  'area': 1305,\n",
       "  'segmentation': [[377, 310, 377, 265, 348, 265, 348, 310, 377, 310]],\n",
       "  'iscrowd': 0},\n",
       " {'id': 254,\n",
       "  'image_id': 29,\n",
       "  'category_id': 2,\n",
       "  'bbox': [330, 274, 23, 26.25],\n",
       "  'area': 603.75,\n",
       "  'segmentation': [[353, 300, 353, 273.75, 330, 273.75, 330, 300, 353, 300]],\n",
       "  'iscrowd': 0},\n",
       " {'id': 255,\n",
       "  'image_id': 29,\n",
       "  'category_id': 2,\n",
       "  'bbox': [318, 276, 17, 16.25],\n",
       "  'area': 276.25,\n",
       "  'segmentation': [[335,\n",
       "    292.5,\n",
       "    335,\n",
       "    276.25,\n",
       "    318,\n",
       "    276.25,\n",
       "    318,\n",
       "    292.5,\n",
       "    335,\n",
       "    292.5]],\n",
       "  'iscrowd': 0},\n",
       " {'id': 256,\n",
       "  'image_id': 29,\n",
       "  'category_id': 2,\n",
       "  'bbox': [308, 275, 13, 15],\n",
       "  'area': 195,\n",
       "  'segmentation': [[321, 290, 321, 275, 308, 275, 308, 290, 321, 290]],\n",
       "  'iscrowd': 0},\n",
       " {'id': 257,\n",
       "  'image_id': 29,\n",
       "  'category_id': 2,\n",
       "  'bbox': [292, 276, 14, 15],\n",
       "  'area': 210,\n",
       "  'segmentation': [[306,\n",
       "    291.25,\n",
       "    306,\n",
       "    276.25,\n",
       "    292,\n",
       "    276.25,\n",
       "    292,\n",
       "    291.25,\n",
       "    306,\n",
       "    291.25]],\n",
       "  'iscrowd': 0},\n",
       " {'id': 258,\n",
       "  'image_id': 29,\n",
       "  'category_id': 2,\n",
       "  'bbox': [281, 276, 9, 12.5],\n",
       "  'area': 112.5,\n",
       "  'segmentation': [[290,\n",
       "    288.75,\n",
       "    290,\n",
       "    276.25,\n",
       "    281,\n",
       "    276.25,\n",
       "    281,\n",
       "    288.75,\n",
       "    290,\n",
       "    288.75]],\n",
       "  'iscrowd': 0},\n",
       " {'id': 259,\n",
       "  'image_id': 29,\n",
       "  'category_id': 2,\n",
       "  'bbox': [203, 271, 34, 47.5],\n",
       "  'area': 1615,\n",
       "  'segmentation': [[237,\n",
       "    318.75,\n",
       "    237,\n",
       "    271.25,\n",
       "    203,\n",
       "    271.25,\n",
       "    203,\n",
       "    318.75,\n",
       "    237,\n",
       "    318.75]],\n",
       "  'iscrowd': 0},\n",
       " {'id': 260,\n",
       "  'image_id': 29,\n",
       "  'category_id': 2,\n",
       "  'bbox': [192, 274, 17, 53.75],\n",
       "  'area': 913.75,\n",
       "  'segmentation': [[209,\n",
       "    327.5,\n",
       "    209,\n",
       "    273.75,\n",
       "    192,\n",
       "    273.75,\n",
       "    192,\n",
       "    327.5,\n",
       "    209,\n",
       "    327.5]],\n",
       "  'iscrowd': 0},\n",
       " {'id': 261,\n",
       "  'image_id': 29,\n",
       "  'category_id': 4,\n",
       "  'bbox': [171, 249, 21, 102.5],\n",
       "  'area': 2152.5,\n",
       "  'segmentation': [[192,\n",
       "    351.25,\n",
       "    192,\n",
       "    248.75,\n",
       "    171,\n",
       "    248.75,\n",
       "    171,\n",
       "    351.25,\n",
       "    192,\n",
       "    351.25]],\n",
       "  'iscrowd': 0},\n",
       " {'id': 262,\n",
       "  'image_id': 29,\n",
       "  'category_id': 2,\n",
       "  'bbox': [144, 275, 27, 56.25],\n",
       "  'area': 1518.75,\n",
       "  'segmentation': [[171,\n",
       "    331.25,\n",
       "    171,\n",
       "    275,\n",
       "    144,\n",
       "    275,\n",
       "    144,\n",
       "    331.25,\n",
       "    171,\n",
       "    331.25]],\n",
       "  'iscrowd': 0},\n",
       " {'id': 263,\n",
       "  'image_id': 30,\n",
       "  'category_id': 2,\n",
       "  'bbox': [524, 345, 115, 127.5],\n",
       "  'area': 14662.5,\n",
       "  'segmentation': [[639, 472.5, 639, 345, 524, 345, 524, 472.5, 639, 472.5]],\n",
       "  'iscrowd': 0},\n",
       " {'id': 264,\n",
       "  'image_id': 30,\n",
       "  'category_id': 2,\n",
       "  'bbox': [392, 291, 44, 38.75],\n",
       "  'area': 1705,\n",
       "  'segmentation': [[436, 330, 436, 291.25, 392, 291.25, 392, 330, 436, 330]],\n",
       "  'iscrowd': 0},\n",
       " {'id': 265,\n",
       "  'image_id': 30,\n",
       "  'category_id': 2,\n",
       "  'bbox': [337, 279, 22, 22.5],\n",
       "  'area': 495,\n",
       "  'segmentation': [[359,\n",
       "    301.25,\n",
       "    359,\n",
       "    278.75,\n",
       "    337,\n",
       "    278.75,\n",
       "    337,\n",
       "    301.25,\n",
       "    359,\n",
       "    301.25]],\n",
       "  'iscrowd': 0},\n",
       " {'id': 266,\n",
       "  'image_id': 30,\n",
       "  'category_id': 2,\n",
       "  'bbox': [266, 281, 29, 36.25],\n",
       "  'area': 1051.25,\n",
       "  'segmentation': [[295,\n",
       "    317.5,\n",
       "    295,\n",
       "    281.25,\n",
       "    266,\n",
       "    281.25,\n",
       "    266,\n",
       "    317.5,\n",
       "    295,\n",
       "    317.5]],\n",
       "  'iscrowd': 0},\n",
       " {'id': 267,\n",
       "  'image_id': 30,\n",
       "  'category_id': 2,\n",
       "  'bbox': [293, 285, 15, 23.75],\n",
       "  'area': 356.25,\n",
       "  'segmentation': [[308,\n",
       "    308.75,\n",
       "    308,\n",
       "    285,\n",
       "    293,\n",
       "    285,\n",
       "    293,\n",
       "    308.75,\n",
       "    308,\n",
       "    308.75]],\n",
       "  'iscrowd': 0},\n",
       " {'id': 268,\n",
       "  'image_id': 30,\n",
       "  'category_id': 2,\n",
       "  'bbox': [217, 293, 54, 52.5],\n",
       "  'area': 2835,\n",
       "  'segmentation': [[271, 345, 271, 292.5, 217, 292.5, 217, 345, 271, 345]],\n",
       "  'iscrowd': 0},\n",
       " {'id': 269,\n",
       "  'image_id': 30,\n",
       "  'category_id': 2,\n",
       "  'bbox': [2, 290, 54, 63.75],\n",
       "  'area': 3442.5,\n",
       "  'segmentation': [[56, 353.75, 56, 290, 2, 290, 2, 353.75, 56, 353.75]],\n",
       "  'iscrowd': 0},\n",
       " {'id': 270,\n",
       "  'image_id': 30,\n",
       "  'category_id': 2,\n",
       "  'bbox': [37, 295, 149, 166.25],\n",
       "  'area': 24771.25,\n",
       "  'segmentation': [[186, 461.25, 186, 295, 37, 295, 37, 461.25, 186, 461.25]],\n",
       "  'iscrowd': 0},\n",
       " {'id': 271,\n",
       "  'image_id': 30,\n",
       "  'category_id': 2,\n",
       "  'bbox': [0, 354, 70, 137.5],\n",
       "  'area': 9625,\n",
       "  'segmentation': [[0, 491.25, 70, 491.25, 70, 353.75, 0, 353.75, 0, 491.25]],\n",
       "  'iscrowd': 0},\n",
       " {'id': 272,\n",
       "  'image_id': 30,\n",
       "  'category_id': 2,\n",
       "  'bbox': [46, 268, 56, 40],\n",
       "  'area': 2240,\n",
       "  'segmentation': [[102, 307.5, 102, 267.5, 46, 267.5, 46, 307.5, 102, 307.5]],\n",
       "  'iscrowd': 0},\n",
       " {'id': 273,\n",
       "  'image_id': 30,\n",
       "  'category_id': 2,\n",
       "  'bbox': [1, 264, 34, 22.5],\n",
       "  'area': 765,\n",
       "  'segmentation': [[35, 286.25, 35, 263.75, 1, 263.75, 1, 286.25, 35, 286.25]],\n",
       "  'iscrowd': 0},\n",
       " {'id': 274,\n",
       "  'image_id': 30,\n",
       "  'category_id': 2,\n",
       "  'bbox': [376, 281, 22, 28.75],\n",
       "  'area': 632.5,\n",
       "  'segmentation': [[398, 310, 398, 281.25, 376, 281.25, 376, 310, 398, 310]],\n",
       "  'iscrowd': 0},\n",
       " {'id': 275,\n",
       "  'image_id': 30,\n",
       "  'category_id': 2,\n",
       "  'bbox': [114, 281, 62, 37.5],\n",
       "  'area': 2325,\n",
       "  'segmentation': [[176,\n",
       "    318.75,\n",
       "    176,\n",
       "    281.25,\n",
       "    114,\n",
       "    281.25,\n",
       "    114,\n",
       "    318.75,\n",
       "    176,\n",
       "    318.75]],\n",
       "  'iscrowd': 0},\n",
       " {'id': 276,\n",
       "  'image_id': 31,\n",
       "  'category_id': 4,\n",
       "  'bbox': [533, 328, 37, 66.25],\n",
       "  'area': 2451.25,\n",
       "  'segmentation': [[570,\n",
       "    393.75,\n",
       "    570,\n",
       "    327.5,\n",
       "    533,\n",
       "    327.5,\n",
       "    533,\n",
       "    393.75,\n",
       "    570,\n",
       "    393.75]],\n",
       "  'iscrowd': 0},\n",
       " {'id': 277,\n",
       "  'image_id': 31,\n",
       "  'category_id': 1,\n",
       "  'bbox': [509, 353, 35, 40],\n",
       "  'area': 1400,\n",
       "  'segmentation': [[544,\n",
       "    392.5,\n",
       "    544,\n",
       "    352.5,\n",
       "    509,\n",
       "    352.5,\n",
       "    509,\n",
       "    392.5,\n",
       "    544,\n",
       "    392.5]],\n",
       "  'iscrowd': 0},\n",
       " {'id': 278,\n",
       "  'image_id': 31,\n",
       "  'category_id': 2,\n",
       "  'bbox': [100, 316, 111, 63.75],\n",
       "  'area': 7076.25,\n",
       "  'segmentation': [[211, 380, 211, 316.25, 100, 316.25, 100, 380, 211, 380]],\n",
       "  'iscrowd': 0},\n",
       " {'id': 279,\n",
       "  'image_id': 31,\n",
       "  'category_id': 2,\n",
       "  'bbox': [62, 335, 32, 35],\n",
       "  'area': 1120,\n",
       "  'segmentation': [[94, 370, 94, 335, 62, 335, 62, 370, 94, 370]],\n",
       "  'iscrowd': 0},\n",
       " {'id': 280,\n",
       "  'image_id': 32,\n",
       "  'category_id': 4,\n",
       "  'bbox': [616, 265, 23, 92.5],\n",
       "  'area': 2127.5,\n",
       "  'segmentation': [[639, 357.5, 639, 265, 616, 265, 616, 357.5, 639, 357.5]],\n",
       "  'iscrowd': 0},\n",
       " {'id': 281,\n",
       "  'image_id': 32,\n",
       "  'category_id': 4,\n",
       "  'bbox': [509, 276, 13, 35],\n",
       "  'area': 455,\n",
       "  'segmentation': [[522,\n",
       "    311.25,\n",
       "    522,\n",
       "    276.25,\n",
       "    509,\n",
       "    276.25,\n",
       "    509,\n",
       "    311.25,\n",
       "    522,\n",
       "    311.25]],\n",
       "  'iscrowd': 0},\n",
       " {'id': 282,\n",
       "  'image_id': 32,\n",
       "  'category_id': 2,\n",
       "  'bbox': [524, 284, 90, 73.75],\n",
       "  'area': 6637.5,\n",
       "  'segmentation': [[614,\n",
       "    357.5,\n",
       "    614,\n",
       "    283.75,\n",
       "    524,\n",
       "    283.75,\n",
       "    524,\n",
       "    357.5,\n",
       "    614,\n",
       "    357.5]],\n",
       "  'iscrowd': 0},\n",
       " {'id': 283,\n",
       "  'image_id': 32,\n",
       "  'category_id': 2,\n",
       "  'bbox': [481, 313, 44, 46.25],\n",
       "  'area': 2035,\n",
       "  'segmentation': [[525,\n",
       "    358.75,\n",
       "    525,\n",
       "    312.5,\n",
       "    481,\n",
       "    312.5,\n",
       "    481,\n",
       "    358.75,\n",
       "    525,\n",
       "    358.75]],\n",
       "  'iscrowd': 0},\n",
       " {'id': 284,\n",
       "  'image_id': 32,\n",
       "  'category_id': 2,\n",
       "  'bbox': [148, 290, 43, 33.75],\n",
       "  'area': 1451.25,\n",
       "  'segmentation': [[191,\n",
       "    323.75,\n",
       "    191,\n",
       "    290,\n",
       "    148,\n",
       "    290,\n",
       "    148,\n",
       "    323.75,\n",
       "    191,\n",
       "    323.75]],\n",
       "  'iscrowd': 0},\n",
       " {'id': 285,\n",
       "  'image_id': 32,\n",
       "  'category_id': 2,\n",
       "  'bbox': [193, 285, 18, 17.5],\n",
       "  'area': 315,\n",
       "  'segmentation': [[211, 302.5, 211, 285, 193, 285, 193, 302.5, 211, 302.5]],\n",
       "  'iscrowd': 0},\n",
       " {'id': 286,\n",
       "  'image_id': 32,\n",
       "  'category_id': 2,\n",
       "  'bbox': [131, 288, 19, 22.5],\n",
       "  'area': 427.5,\n",
       "  'segmentation': [[150, 310, 150, 287.5, 131, 287.5, 131, 310, 150, 310]],\n",
       "  'iscrowd': 0},\n",
       " {'id': 287,\n",
       "  'image_id': 32,\n",
       "  'category_id': 2,\n",
       "  'bbox': [115, 293, 24, 23.75],\n",
       "  'area': 570,\n",
       "  'segmentation': [[139,\n",
       "    316.25,\n",
       "    139,\n",
       "    292.5,\n",
       "    115,\n",
       "    292.5,\n",
       "    115,\n",
       "    316.25,\n",
       "    139,\n",
       "    316.25]],\n",
       "  'iscrowd': 0},\n",
       " {'id': 288,\n",
       "  'image_id': 32,\n",
       "  'category_id': 2,\n",
       "  'bbox': [94, 293, 31, 26.25],\n",
       "  'area': 813.75,\n",
       "  'segmentation': [[125,\n",
       "    318.75,\n",
       "    125,\n",
       "    292.5,\n",
       "    94,\n",
       "    292.5,\n",
       "    94,\n",
       "    318.75,\n",
       "    125,\n",
       "    318.75]],\n",
       "  'iscrowd': 0},\n",
       " {'id': 289,\n",
       "  'image_id': 32,\n",
       "  'category_id': 2,\n",
       "  'bbox': [0, 274, 96, 86.25],\n",
       "  'area': 8280,\n",
       "  'segmentation': [[0, 360, 96, 360, 96, 273.75, 0, 273.75, 0, 360]],\n",
       "  'iscrowd': 0},\n",
       " {'id': 290,\n",
       "  'image_id': 32,\n",
       "  'category_id': 2,\n",
       "  'bbox': [187, 261, 195, 162.5],\n",
       "  'area': 31687.5,\n",
       "  'segmentation': [[382,\n",
       "    423.75,\n",
       "    382,\n",
       "    261.25,\n",
       "    187,\n",
       "    261.25,\n",
       "    187,\n",
       "    423.75,\n",
       "    382,\n",
       "    423.75]],\n",
       "  'iscrowd': 0},\n",
       " {'id': 291,\n",
       "  'image_id': 33,\n",
       "  'category_id': 2,\n",
       "  'bbox': [0, 274, 137, 138.75],\n",
       "  'area': 19008.75,\n",
       "  'segmentation': [[0, 412.5, 137, 412.5, 137, 273.75, 0, 273.75, 0, 412.5]],\n",
       "  'iscrowd': 0},\n",
       " {'id': 292,\n",
       "  'image_id': 33,\n",
       "  'category_id': 2,\n",
       "  'bbox': [170, 284, 51, 52.5],\n",
       "  'area': 2677.5,\n",
       "  'segmentation': [[221,\n",
       "    336.25,\n",
       "    221,\n",
       "    283.75,\n",
       "    170,\n",
       "    283.75,\n",
       "    170,\n",
       "    336.25,\n",
       "    221,\n",
       "    336.25]],\n",
       "  'iscrowd': 0},\n",
       " {'id': 293,\n",
       "  'image_id': 33,\n",
       "  'category_id': 2,\n",
       "  'bbox': [216, 291, 22, 30],\n",
       "  'area': 660,\n",
       "  'segmentation': [[238,\n",
       "    321.25,\n",
       "    238,\n",
       "    291.25,\n",
       "    216,\n",
       "    291.25,\n",
       "    216,\n",
       "    321.25,\n",
       "    238,\n",
       "    321.25]],\n",
       "  'iscrowd': 0},\n",
       " {'id': 294,\n",
       "  'image_id': 33,\n",
       "  'category_id': 2,\n",
       "  'bbox': [248, 263, 84, 90],\n",
       "  'area': 7560,\n",
       "  'segmentation': [[332,\n",
       "    352.5,\n",
       "    332,\n",
       "    262.5,\n",
       "    248,\n",
       "    262.5,\n",
       "    248,\n",
       "    352.5,\n",
       "    332,\n",
       "    352.5]],\n",
       "  'iscrowd': 0},\n",
       " {'id': 295,\n",
       "  'image_id': 33,\n",
       "  'category_id': 4,\n",
       "  'bbox': [555, 266, 16, 33.75],\n",
       "  'area': 540,\n",
       "  'segmentation': [[571, 300, 571, 266.25, 555, 266.25, 555, 300, 571, 300]],\n",
       "  'iscrowd': 0},\n",
       " {'id': 296,\n",
       "  'image_id': 34,\n",
       "  'category_id': 1,\n",
       "  'bbox': [8, 358, 94, 93.75],\n",
       "  'area': 8812.5,\n",
       "  'segmentation': [[102,\n",
       "    451.25,\n",
       "    102,\n",
       "    357.5,\n",
       "    8,\n",
       "    357.5,\n",
       "    8,\n",
       "    451.25,\n",
       "    102,\n",
       "    451.25]],\n",
       "  'iscrowd': 0},\n",
       " {'id': 297,\n",
       "  'image_id': 34,\n",
       "  'category_id': 4,\n",
       "  'bbox': [1, 238, 56, 210],\n",
       "  'area': 11760,\n",
       "  'segmentation': [[57, 447.5, 57, 237.5, 1, 237.5, 1, 447.5, 57, 447.5]],\n",
       "  'iscrowd': 0},\n",
       " {'id': 298,\n",
       "  'image_id': 34,\n",
       "  'category_id': 4,\n",
       "  'bbox': [206, 271, 21, 68.75],\n",
       "  'area': 1443.75,\n",
       "  'segmentation': [[227, 340, 227, 271.25, 206, 271.25, 206, 340, 227, 340]],\n",
       "  'iscrowd': 0},\n",
       " {'id': 299,\n",
       "  'image_id': 34,\n",
       "  'category_id': 4,\n",
       "  'bbox': [192, 266, 18, 72.5],\n",
       "  'area': 1305,\n",
       "  'segmentation': [[210,\n",
       "    338.75,\n",
       "    210,\n",
       "    266.25,\n",
       "    192,\n",
       "    266.25,\n",
       "    192,\n",
       "    338.75,\n",
       "    210,\n",
       "    338.75]],\n",
       "  'iscrowd': 0},\n",
       " {'id': 300,\n",
       "  'image_id': 34,\n",
       "  'category_id': 4,\n",
       "  'bbox': [106, 264, 18, 76.25],\n",
       "  'area': 1372.5,\n",
       "  'segmentation': [[124, 340, 124, 263.75, 106, 263.75, 106, 340, 124, 340]],\n",
       "  'iscrowd': 0},\n",
       " {'id': 301,\n",
       "  'image_id': 34,\n",
       "  'category_id': 4,\n",
       "  'bbox': [336, 270, 17, 48.75],\n",
       "  'area': 828.75,\n",
       "  'segmentation': [[353,\n",
       "    318.75,\n",
       "    353,\n",
       "    270,\n",
       "    336,\n",
       "    270,\n",
       "    336,\n",
       "    318.75,\n",
       "    353,\n",
       "    318.75]],\n",
       "  'iscrowd': 0},\n",
       " {'id': 302,\n",
       "  'image_id': 34,\n",
       "  'category_id': 4,\n",
       "  'bbox': [357, 261, 13, 57.5],\n",
       "  'area': 747.5,\n",
       "  'segmentation': [[370,\n",
       "    318.75,\n",
       "    370,\n",
       "    261.25,\n",
       "    357,\n",
       "    261.25,\n",
       "    357,\n",
       "    318.75,\n",
       "    370,\n",
       "    318.75]],\n",
       "  'iscrowd': 0},\n",
       " {'id': 303,\n",
       "  'image_id': 34,\n",
       "  'category_id': 4,\n",
       "  'bbox': [371, 260, 20, 60],\n",
       "  'area': 1200,\n",
       "  'segmentation': [[391, 320, 391, 260, 371, 260, 371, 320, 391, 320]],\n",
       "  'iscrowd': 0},\n",
       " {'id': 304,\n",
       "  'image_id': 34,\n",
       "  'category_id': 2,\n",
       "  'bbox': [397, 241, 242, 153.75],\n",
       "  'area': 37207.5,\n",
       "  'segmentation': [[639, 395, 639, 241.25, 397, 241.25, 397, 395, 639, 395]],\n",
       "  'iscrowd': 0},\n",
       " {'id': 305,\n",
       "  'image_id': 34,\n",
       "  'category_id': 2,\n",
       "  'bbox': [283, 280, 38, 36.25],\n",
       "  'area': 1377.5,\n",
       "  'segmentation': [[321,\n",
       "    316.25,\n",
       "    321,\n",
       "    280,\n",
       "    283,\n",
       "    280,\n",
       "    283,\n",
       "    316.25,\n",
       "    321,\n",
       "    316.25]],\n",
       "  'iscrowd': 0},\n",
       " {'id': 306,\n",
       "  'image_id': 34,\n",
       "  'category_id': 4,\n",
       "  'bbox': [80, 268, 15, 63.75],\n",
       "  'area': 956.25,\n",
       "  'segmentation': [[95, 331.25, 95, 267.5, 80, 267.5, 80, 331.25, 95, 331.25]],\n",
       "  'iscrowd': 0},\n",
       " {'id': 307,\n",
       "  'image_id': 34,\n",
       "  'category_id': 4,\n",
       "  'bbox': [98, 266, 13, 66.25],\n",
       "  'area': 861.25,\n",
       "  'segmentation': [[111,\n",
       "    332.5,\n",
       "    111,\n",
       "    266.25,\n",
       "    98,\n",
       "    266.25,\n",
       "    98,\n",
       "    332.5,\n",
       "    111,\n",
       "    332.5]],\n",
       "  'iscrowd': 0},\n",
       " {'id': 308,\n",
       "  'image_id': 35,\n",
       "  'category_id': 4,\n",
       "  'bbox': [390, 270, 12, 58.75],\n",
       "  'area': 705,\n",
       "  'segmentation': [[402,\n",
       "    328.75,\n",
       "    402,\n",
       "    270,\n",
       "    390,\n",
       "    270,\n",
       "    390,\n",
       "    328.75,\n",
       "    402,\n",
       "    328.75]],\n",
       "  'iscrowd': 0},\n",
       " {'id': 309,\n",
       "  'image_id': 35,\n",
       "  'category_id': 4,\n",
       "  'bbox': [377, 271, 14, 58.75],\n",
       "  'area': 822.5,\n",
       "  'segmentation': [[391, 330, 391, 271.25, 377, 271.25, 377, 330, 391, 330]],\n",
       "  'iscrowd': 0},\n",
       " {'id': 310,\n",
       "  'image_id': 35,\n",
       "  'category_id': 2,\n",
       "  'bbox': [249, 285, 19, 20],\n",
       "  'area': 380,\n",
       "  'segmentation': [[268, 305, 268, 285, 249, 285, 249, 305, 268, 305]],\n",
       "  'iscrowd': 0},\n",
       " {'id': 311,\n",
       "  'image_id': 35,\n",
       "  'category_id': 4,\n",
       "  'bbox': [97, 236, 26, 152.5],\n",
       "  'area': 3965,\n",
       "  'segmentation': [[123,\n",
       "    388.75,\n",
       "    123,\n",
       "    236.25,\n",
       "    97,\n",
       "    236.25,\n",
       "    97,\n",
       "    388.75,\n",
       "    123,\n",
       "    388.75]],\n",
       "  'iscrowd': 0},\n",
       " {'id': 312,\n",
       "  'image_id': 35,\n",
       "  'category_id': 4,\n",
       "  'bbox': [85, 248, 18, 136.25],\n",
       "  'area': 2452.5,\n",
       "  'segmentation': [[103,\n",
       "    383.75,\n",
       "    103,\n",
       "    247.5,\n",
       "    85,\n",
       "    247.5,\n",
       "    85,\n",
       "    383.75,\n",
       "    103,\n",
       "    383.75]],\n",
       "  'iscrowd': 0},\n",
       " {'id': 313,\n",
       "  'image_id': 35,\n",
       "  'category_id': 2,\n",
       "  'bbox': [68, 280, 12, 15],\n",
       "  'area': 180,\n",
       "  'segmentation': [[80, 295, 80, 280, 68, 280, 68, 295, 80, 295]],\n",
       "  'iscrowd': 0},\n",
       " {'id': 314,\n",
       "  'image_id': 35,\n",
       "  'category_id': 2,\n",
       "  'bbox': [49, 278, 13, 16.25],\n",
       "  'area': 211.25,\n",
       "  'segmentation': [[62, 293.75, 62, 277.5, 49, 277.5, 49, 293.75, 62, 293.75]],\n",
       "  'iscrowd': 0},\n",
       " {'id': 315,\n",
       "  'image_id': 35,\n",
       "  'category_id': 2,\n",
       "  'bbox': [30, 281, 15, 15],\n",
       "  'area': 225,\n",
       "  'segmentation': [[45,\n",
       "    296.25,\n",
       "    45,\n",
       "    281.25,\n",
       "    30,\n",
       "    281.25,\n",
       "    30,\n",
       "    296.25,\n",
       "    45,\n",
       "    296.25]],\n",
       "  'iscrowd': 0},\n",
       " {'id': 316,\n",
       "  'image_id': 35,\n",
       "  'category_id': 2,\n",
       "  'bbox': [173, 288, 14, 15],\n",
       "  'area': 210,\n",
       "  'segmentation': [[187,\n",
       "    302.5,\n",
       "    187,\n",
       "    287.5,\n",
       "    173,\n",
       "    287.5,\n",
       "    173,\n",
       "    302.5,\n",
       "    187,\n",
       "    302.5]],\n",
       "  'iscrowd': 0},\n",
       " {'id': 317,\n",
       "  'image_id': 35,\n",
       "  'category_id': 4,\n",
       "  'bbox': [577, 284, 15, 53.75],\n",
       "  'area': 806.25,\n",
       "  'segmentation': [[592,\n",
       "    337.5,\n",
       "    592,\n",
       "    283.75,\n",
       "    577,\n",
       "    283.75,\n",
       "    577,\n",
       "    337.5,\n",
       "    592,\n",
       "    337.5]],\n",
       "  'iscrowd': 0},\n",
       " {'id': 318,\n",
       "  'image_id': 36,\n",
       "  'category_id': 2,\n",
       "  'bbox': [276, 296, 50, 52.5],\n",
       "  'area': 2625,\n",
       "  'segmentation': [[326,\n",
       "    348.75,\n",
       "    326,\n",
       "    296.25,\n",
       "    276,\n",
       "    296.25,\n",
       "    276,\n",
       "    348.75,\n",
       "    326,\n",
       "    348.75]],\n",
       "  'iscrowd': 0},\n",
       " {'id': 319,\n",
       "  'image_id': 36,\n",
       "  'category_id': 2,\n",
       "  'bbox': [20, 293, 90, 71.25],\n",
       "  'area': 6412.5,\n",
       "  'segmentation': [[110,\n",
       "    363.75,\n",
       "    110,\n",
       "    292.5,\n",
       "    20,\n",
       "    292.5,\n",
       "    20,\n",
       "    363.75,\n",
       "    110,\n",
       "    363.75]],\n",
       "  'iscrowd': 0},\n",
       " {'id': 320,\n",
       "  'image_id': 36,\n",
       "  'category_id': 2,\n",
       "  'bbox': [264, 285, 15, 15],\n",
       "  'area': 225,\n",
       "  'segmentation': [[279, 300, 279, 285, 264, 285, 264, 300, 279, 300]],\n",
       "  'iscrowd': 0},\n",
       " {'id': 321,\n",
       "  'image_id': 36,\n",
       "  'category_id': 2,\n",
       "  'bbox': [307, 286, 20, 20],\n",
       "  'area': 400,\n",
       "  'segmentation': [[327,\n",
       "    306.25,\n",
       "    327,\n",
       "    286.25,\n",
       "    307,\n",
       "    286.25,\n",
       "    307,\n",
       "    306.25,\n",
       "    327,\n",
       "    306.25]],\n",
       "  'iscrowd': 0},\n",
       " {'id': 322,\n",
       "  'image_id': 37,\n",
       "  'category_id': 2,\n",
       "  'bbox': [385, 321, 126, 52.5],\n",
       "  'area': 6615,\n",
       "  'segmentation': [[511,\n",
       "    373.75,\n",
       "    511,\n",
       "    321.25,\n",
       "    385,\n",
       "    321.25,\n",
       "    385,\n",
       "    373.75,\n",
       "    511,\n",
       "    373.75]],\n",
       "  'iscrowd': 0},\n",
       " {'id': 323,\n",
       "  'image_id': 37,\n",
       "  'category_id': 2,\n",
       "  'bbox': [159, 314, 79, 65],\n",
       "  'area': 5135,\n",
       "  'segmentation': [[238,\n",
       "    378.75,\n",
       "    238,\n",
       "    313.75,\n",
       "    159,\n",
       "    313.75,\n",
       "    159,\n",
       "    378.75,\n",
       "    238,\n",
       "    378.75]],\n",
       "  'iscrowd': 0},\n",
       " {'id': 324,\n",
       "  'image_id': 37,\n",
       "  'category_id': 4,\n",
       "  'bbox': [242, 303, 14, 38.75],\n",
       "  'area': 542.5,\n",
       "  'segmentation': [[256,\n",
       "    341.25,\n",
       "    256,\n",
       "    302.5,\n",
       "    242,\n",
       "    302.5,\n",
       "    242,\n",
       "    341.25,\n",
       "    256,\n",
       "    341.25]],\n",
       "  'iscrowd': 0},\n",
       " {'id': 325,\n",
       "  'image_id': 37,\n",
       "  'category_id': 2,\n",
       "  'bbox': [259, 296, 84, 88.75],\n",
       "  'area': 7455,\n",
       "  'segmentation': [[343, 385, 343, 296.25, 259, 296.25, 259, 385, 343, 385]],\n",
       "  'iscrowd': 0},\n",
       " {'id': 326,\n",
       "  'image_id': 38,\n",
       "  'category_id': 4,\n",
       "  'bbox': [307, 248, 40, 142.5],\n",
       "  'area': 5700,\n",
       "  'segmentation': [[347, 390, 347, 247.5, 307, 247.5, 307, 390, 347, 390]],\n",
       "  'iscrowd': 0},\n",
       " {'id': 327,\n",
       "  'image_id': 38,\n",
       "  'category_id': 2,\n",
       "  'bbox': [515, 220, 123, 225],\n",
       "  'area': 27675,\n",
       "  'segmentation': [[638, 445, 638, 220, 515, 220, 515, 445, 638, 445]],\n",
       "  'iscrowd': 0},\n",
       " {'id': 328,\n",
       "  'image_id': 38,\n",
       "  'category_id': 2,\n",
       "  'bbox': [161, 258, 137, 66.25],\n",
       "  'area': 9076.25,\n",
       "  'segmentation': [[298,\n",
       "    323.75,\n",
       "    298,\n",
       "    257.5,\n",
       "    161,\n",
       "    257.5,\n",
       "    161,\n",
       "    323.75,\n",
       "    298,\n",
       "    323.75]],\n",
       "  'iscrowd': 0},\n",
       " {'id': 329,\n",
       "  'image_id': 39,\n",
       "  'category_id': 4,\n",
       "  'bbox': [449, 253, 18, 47.5],\n",
       "  'area': 855,\n",
       "  'segmentation': [[467, 300, 467, 252.5, 449, 252.5, 449, 300, 467, 300]],\n",
       "  'iscrowd': 0},\n",
       " {'id': 330,\n",
       "  'image_id': 39,\n",
       "  'category_id': 4,\n",
       "  'bbox': [434, 261, 11, 40],\n",
       "  'area': 440,\n",
       "  'segmentation': [[445,\n",
       "    301.25,\n",
       "    445,\n",
       "    261.25,\n",
       "    434,\n",
       "    261.25,\n",
       "    434,\n",
       "    301.25,\n",
       "    445,\n",
       "    301.25]],\n",
       "  'iscrowd': 0},\n",
       " {'id': 331,\n",
       "  'image_id': 40,\n",
       "  'category_id': 2,\n",
       "  'bbox': [15, 273, 62, 45],\n",
       "  'area': 2790,\n",
       "  'segmentation': [[77, 317.5, 77, 272.5, 15, 272.5, 15, 317.5, 77, 317.5]],\n",
       "  'iscrowd': 0},\n",
       " {'id': 332,\n",
       "  'image_id': 40,\n",
       "  'category_id': 4,\n",
       "  'bbox': [452, 235, 39, 123.75],\n",
       "  'area': 4826.25,\n",
       "  'segmentation': [[491,\n",
       "    358.75,\n",
       "    491,\n",
       "    235,\n",
       "    452,\n",
       "    235,\n",
       "    452,\n",
       "    358.75,\n",
       "    491,\n",
       "    358.75]],\n",
       "  'iscrowd': 0},\n",
       " {'id': 333,\n",
       "  'image_id': 40,\n",
       "  'category_id': 4,\n",
       "  'bbox': [425, 255, 19, 65],\n",
       "  'area': 1235,\n",
       "  'segmentation': [[444, 320, 444, 255, 425, 255, 425, 320, 444, 320]],\n",
       "  'iscrowd': 0},\n",
       " {'id': 334,\n",
       "  'image_id': 40,\n",
       "  'category_id': 4,\n",
       "  'bbox': [304, 255, 22, 68.75],\n",
       "  'area': 1512.5,\n",
       "  'segmentation': [[326,\n",
       "    323.75,\n",
       "    326,\n",
       "    255,\n",
       "    304,\n",
       "    255,\n",
       "    304,\n",
       "    323.75,\n",
       "    326,\n",
       "    323.75]],\n",
       "  'iscrowd': 0},\n",
       " {'id': 335,\n",
       "  'image_id': 40,\n",
       "  'category_id': 4,\n",
       "  'bbox': [259, 258, 27, 73.75],\n",
       "  'area': 1991.25,\n",
       "  'segmentation': [[286,\n",
       "    331.25,\n",
       "    286,\n",
       "    257.5,\n",
       "    259,\n",
       "    257.5,\n",
       "    259,\n",
       "    331.25,\n",
       "    286,\n",
       "    331.25]],\n",
       "  'iscrowd': 0},\n",
       " {'id': 336,\n",
       "  'image_id': 40,\n",
       "  'category_id': 4,\n",
       "  'bbox': [233, 256, 27, 81.25],\n",
       "  'area': 2193.75,\n",
       "  'segmentation': [[260,\n",
       "    337.5,\n",
       "    260,\n",
       "    256.25,\n",
       "    233,\n",
       "    256.25,\n",
       "    233,\n",
       "    337.5,\n",
       "    260,\n",
       "    337.5]],\n",
       "  'iscrowd': 0},\n",
       " {'id': 337,\n",
       "  'image_id': 40,\n",
       "  'category_id': 4,\n",
       "  'bbox': [478, 246, 19, 70],\n",
       "  'area': 1330,\n",
       "  'segmentation': [[497,\n",
       "    316.25,\n",
       "    497,\n",
       "    246.25,\n",
       "    478,\n",
       "    246.25,\n",
       "    478,\n",
       "    316.25,\n",
       "    497,\n",
       "    316.25]],\n",
       "  'iscrowd': 0},\n",
       " {'id': 338,\n",
       "  'image_id': 41,\n",
       "  'category_id': 4,\n",
       "  'bbox': [389, 270, 21, 86.25],\n",
       "  'area': 1811.25,\n",
       "  'segmentation': [[410,\n",
       "    356.25,\n",
       "    410,\n",
       "    270,\n",
       "    389,\n",
       "    270,\n",
       "    389,\n",
       "    356.25,\n",
       "    410,\n",
       "    356.25]],\n",
       "  'iscrowd': 0},\n",
       " {'id': 339,\n",
       "  'image_id': 41,\n",
       "  'category_id': 4,\n",
       "  'bbox': [355, 273, 28, 77.5],\n",
       "  'area': 2170,\n",
       "  'segmentation': [[383, 350, 383, 272.5, 355, 272.5, 355, 350, 383, 350]],\n",
       "  'iscrowd': 0},\n",
       " {'id': 340,\n",
       "  'image_id': 41,\n",
       "  'category_id': 1,\n",
       "  'bbox': [371, 308, 19, 45],\n",
       "  'area': 855,\n",
       "  'segmentation': [[390,\n",
       "    352.5,\n",
       "    390,\n",
       "    307.5,\n",
       "    371,\n",
       "    307.5,\n",
       "    371,\n",
       "    352.5,\n",
       "    390,\n",
       "    352.5]],\n",
       "  'iscrowd': 0},\n",
       " {'id': 341,\n",
       "  'image_id': 41,\n",
       "  'category_id': 1,\n",
       "  'bbox': [402, 310, 26, 40],\n",
       "  'area': 1040,\n",
       "  'segmentation': [[428, 350, 428, 310, 402, 310, 402, 350, 428, 350]],\n",
       "  'iscrowd': 0},\n",
       " {'id': 342,\n",
       "  'image_id': 41,\n",
       "  'category_id': 2,\n",
       "  'bbox': [479, 274, 64, 65],\n",
       "  'area': 4160,\n",
       "  'segmentation': [[543,\n",
       "    338.75,\n",
       "    543,\n",
       "    273.75,\n",
       "    479,\n",
       "    273.75,\n",
       "    479,\n",
       "    338.75,\n",
       "    543,\n",
       "    338.75]],\n",
       "  'iscrowd': 0},\n",
       " {'id': 343,\n",
       "  'image_id': 41,\n",
       "  'category_id': 2,\n",
       "  'bbox': [501, 284, 118, 81.25],\n",
       "  'area': 9587.5,\n",
       "  'segmentation': [[619, 365, 619, 283.75, 501, 283.75, 501, 365, 619, 365]],\n",
       "  'iscrowd': 0},\n",
       " {'id': 344,\n",
       "  'image_id': 42,\n",
       "  'category_id': 2,\n",
       "  'bbox': [302, 315, 20, 18.75],\n",
       "  'area': 375,\n",
       "  'segmentation': [[322,\n",
       "    333.75,\n",
       "    322,\n",
       "    315,\n",
       "    302,\n",
       "    315,\n",
       "    302,\n",
       "    333.75,\n",
       "    322,\n",
       "    333.75]],\n",
       "  'iscrowd': 0},\n",
       " {'id': 345,\n",
       "  'image_id': 42,\n",
       "  'category_id': 4,\n",
       "  'bbox': [2, 301, 42, 153.75],\n",
       "  'area': 6457.5,\n",
       "  'segmentation': [[44, 455, 44, 301.25, 2, 301.25, 2, 455, 44, 455]],\n",
       "  'iscrowd': 0},\n",
       " {'id': 346,\n",
       "  'image_id': 42,\n",
       "  'category_id': 4,\n",
       "  'bbox': [13, 301, 79, 200],\n",
       "  'area': 15800,\n",
       "  'segmentation': [[92,\n",
       "    501.25,\n",
       "    92,\n",
       "    301.25,\n",
       "    13,\n",
       "    301.25,\n",
       "    13,\n",
       "    501.25,\n",
       "    92,\n",
       "    501.25]],\n",
       "  'iscrowd': 0},\n",
       " {'id': 347,\n",
       "  'image_id': 42,\n",
       "  'category_id': 2,\n",
       "  'bbox': [418, 314, 39, 41.25],\n",
       "  'area': 1608.75,\n",
       "  'segmentation': [[457, 355, 457, 313.75, 418, 313.75, 418, 355, 457, 355]],\n",
       "  'iscrowd': 0},\n",
       " {'id': 348,\n",
       "  'image_id': 42,\n",
       "  'category_id': 2,\n",
       "  'bbox': [383, 313, 32, 30],\n",
       "  'area': 960,\n",
       "  'segmentation': [[415,\n",
       "    342.5,\n",
       "    415,\n",
       "    312.5,\n",
       "    383,\n",
       "    312.5,\n",
       "    383,\n",
       "    342.5,\n",
       "    415,\n",
       "    342.5]],\n",
       "  'iscrowd': 0},\n",
       " {'id': 349,\n",
       "  'image_id': 42,\n",
       "  'category_id': 2,\n",
       "  'bbox': [326, 315, 19, 18.75],\n",
       "  'area': 356.25,\n",
       "  'segmentation': [[345,\n",
       "    333.75,\n",
       "    345,\n",
       "    315,\n",
       "    326,\n",
       "    315,\n",
       "    326,\n",
       "    333.75,\n",
       "    345,\n",
       "    333.75]],\n",
       "  'iscrowd': 0},\n",
       " {'id': 350,\n",
       "  'image_id': 42,\n",
       "  'category_id': 2,\n",
       "  'bbox': [336, 310, 15, 18.75],\n",
       "  'area': 281.25,\n",
       "  'segmentation': [[351,\n",
       "    328.75,\n",
       "    351,\n",
       "    310,\n",
       "    336,\n",
       "    310,\n",
       "    336,\n",
       "    328.75,\n",
       "    351,\n",
       "    328.75]],\n",
       "  'iscrowd': 0},\n",
       " {'id': 351,\n",
       "  'image_id': 42,\n",
       "  'category_id': 2,\n",
       "  'bbox': [288, 316, 16, 15],\n",
       "  'area': 240,\n",
       "  'segmentation': [[304,\n",
       "    331.25,\n",
       "    304,\n",
       "    316.25,\n",
       "    288,\n",
       "    316.25,\n",
       "    288,\n",
       "    331.25,\n",
       "    304,\n",
       "    331.25]],\n",
       "  'iscrowd': 0},\n",
       " {'id': 352,\n",
       "  'image_id': 42,\n",
       "  'category_id': 2,\n",
       "  'bbox': [236, 273, 55, 80],\n",
       "  'area': 4400,\n",
       "  'segmentation': [[291,\n",
       "    352.5,\n",
       "    291,\n",
       "    272.5,\n",
       "    236,\n",
       "    272.5,\n",
       "    236,\n",
       "    352.5,\n",
       "    291,\n",
       "    352.5]],\n",
       "  'iscrowd': 0},\n",
       " {'id': 353,\n",
       "  'image_id': 43,\n",
       "  'category_id': 2,\n",
       "  'bbox': [131, 290, 92, 76.25],\n",
       "  'area': 7015,\n",
       "  'segmentation': [[223,\n",
       "    366.25,\n",
       "    223,\n",
       "    290,\n",
       "    131,\n",
       "    290,\n",
       "    131,\n",
       "    366.25,\n",
       "    223,\n",
       "    366.25]],\n",
       "  'iscrowd': 0},\n",
       " {'id': 354,\n",
       "  'image_id': 43,\n",
       "  'category_id': 2,\n",
       "  'bbox': [267, 283, 31, 32.5],\n",
       "  'area': 1007.5,\n",
       "  'segmentation': [[298, 315, 298, 282.5, 267, 282.5, 267, 315, 298, 315]],\n",
       "  'iscrowd': 0},\n",
       " {'id': 355,\n",
       "  'image_id': 43,\n",
       "  'category_id': 2,\n",
       "  'bbox': [552, 240, 84, 96.25],\n",
       "  'area': 8085,\n",
       "  'segmentation': [[636,\n",
       "    336.25,\n",
       "    636,\n",
       "    240,\n",
       "    552,\n",
       "    240,\n",
       "    552,\n",
       "    336.25,\n",
       "    636,\n",
       "    336.25]],\n",
       "  'iscrowd': 0},\n",
       " {'id': 356,\n",
       "  'image_id': 43,\n",
       "  'category_id': 2,\n",
       "  'bbox': [580, 270, 59, 81.25],\n",
       "  'area': 4793.75,\n",
       "  'segmentation': [[639,\n",
       "    351.25,\n",
       "    639,\n",
       "    270,\n",
       "    580,\n",
       "    270,\n",
       "    580,\n",
       "    351.25,\n",
       "    639,\n",
       "    351.25]],\n",
       "  'iscrowd': 0},\n",
       " {'id': 357,\n",
       "  'image_id': 43,\n",
       "  'category_id': 4,\n",
       "  'bbox': [529, 256, 32, 116.25],\n",
       "  'area': 3720,\n",
       "  'segmentation': [[561,\n",
       "    372.5,\n",
       "    561,\n",
       "    256.25,\n",
       "    529,\n",
       "    256.25,\n",
       "    529,\n",
       "    372.5,\n",
       "    561,\n",
       "    372.5]],\n",
       "  'iscrowd': 0},\n",
       " {'id': 358,\n",
       "  'image_id': 43,\n",
       "  'category_id': 4,\n",
       "  'bbox': [498, 251, 31, 125],\n",
       "  'area': 3875,\n",
       "  'segmentation': [[529,\n",
       "    376.25,\n",
       "    529,\n",
       "    251.25,\n",
       "    498,\n",
       "    251.25,\n",
       "    498,\n",
       "    376.25,\n",
       "    529,\n",
       "    376.25]],\n",
       "  'iscrowd': 0},\n",
       " {'id': 359,\n",
       "  'image_id': 43,\n",
       "  'category_id': 4,\n",
       "  'bbox': [469, 256, 23, 92.5],\n",
       "  'area': 2127.5,\n",
       "  'segmentation': [[492,\n",
       "    348.75,\n",
       "    492,\n",
       "    256.25,\n",
       "    469,\n",
       "    256.25,\n",
       "    469,\n",
       "    348.75,\n",
       "    492,\n",
       "    348.75]],\n",
       "  'iscrowd': 0},\n",
       " {'id': 360,\n",
       "  'image_id': 43,\n",
       "  'category_id': 4,\n",
       "  'bbox': [443, 266, 22, 81.25],\n",
       "  'area': 1787.5,\n",
       "  'segmentation': [[465,\n",
       "    347.5,\n",
       "    465,\n",
       "    266.25,\n",
       "    443,\n",
       "    266.25,\n",
       "    443,\n",
       "    347.5,\n",
       "    465,\n",
       "    347.5]],\n",
       "  'iscrowd': 0},\n",
       " {'id': 361,\n",
       "  'image_id': 43,\n",
       "  'category_id': 4,\n",
       "  'bbox': [384, 274, 17, 46.25],\n",
       "  'area': 786.25,\n",
       "  'segmentation': [[401, 320, 401, 273.75, 384, 273.75, 384, 320, 401, 320]],\n",
       "  'iscrowd': 0},\n",
       " {'id': 362,\n",
       "  'image_id': 43,\n",
       "  'category_id': 4,\n",
       "  'bbox': [372, 279, 16, 45],\n",
       "  'area': 720,\n",
       "  'segmentation': [[388,\n",
       "    323.75,\n",
       "    388,\n",
       "    278.75,\n",
       "    372,\n",
       "    278.75,\n",
       "    372,\n",
       "    323.75,\n",
       "    388,\n",
       "    323.75]],\n",
       "  'iscrowd': 0},\n",
       " {'id': 363,\n",
       "  'image_id': 43,\n",
       "  'category_id': 4,\n",
       "  'bbox': [0, 294, 18, 62.5],\n",
       "  'area': 1125,\n",
       "  'segmentation': [[0, 356.25, 18, 356.25, 18, 293.75, 0, 293.75, 0, 356.25]],\n",
       "  'iscrowd': 0},\n",
       " {'id': 364,\n",
       "  'image_id': 43,\n",
       "  'category_id': 4,\n",
       "  'bbox': [348, 280, 9, 30],\n",
       "  'area': 270,\n",
       "  'segmentation': [[357, 310, 357, 280, 348, 280, 348, 310, 357, 310]],\n",
       "  'iscrowd': 0},\n",
       " {'id': 365,\n",
       "  'image_id': 43,\n",
       "  'category_id': 2,\n",
       "  'bbox': [404, 279, 15, 20],\n",
       "  'area': 300,\n",
       "  'segmentation': [[419,\n",
       "    298.75,\n",
       "    419,\n",
       "    278.75,\n",
       "    404,\n",
       "    278.75,\n",
       "    404,\n",
       "    298.75,\n",
       "    419,\n",
       "    298.75]],\n",
       "  'iscrowd': 0},\n",
       " {'id': 366,\n",
       "  'image_id': 43,\n",
       "  'category_id': 4,\n",
       "  'bbox': [416, 276, 13, 25],\n",
       "  'area': 325,\n",
       "  'segmentation': [[429,\n",
       "    301.25,\n",
       "    429,\n",
       "    276.25,\n",
       "    416,\n",
       "    276.25,\n",
       "    416,\n",
       "    301.25,\n",
       "    429,\n",
       "    301.25]],\n",
       "  'iscrowd': 0},\n",
       " {'id': 367,\n",
       "  'image_id': 43,\n",
       "  'category_id': 4,\n",
       "  'bbox': [100, 294, 12, 27.5],\n",
       "  'area': 330,\n",
       "  'segmentation': [[112,\n",
       "    321.25,\n",
       "    112,\n",
       "    293.75,\n",
       "    100,\n",
       "    293.75,\n",
       "    100,\n",
       "    321.25,\n",
       "    112,\n",
       "    321.25]],\n",
       "  'iscrowd': 0},\n",
       " {'id': 368,\n",
       "  'image_id': 43,\n",
       "  'category_id': 4,\n",
       "  'bbox': [75, 303, 13, 21.25],\n",
       "  'area': 276.25,\n",
       "  'segmentation': [[88, 323.75, 88, 302.5, 75, 302.5, 75, 323.75, 88, 323.75]],\n",
       "  'iscrowd': 0},\n",
       " {'id': 369,\n",
       "  'image_id': 43,\n",
       "  'category_id': 4,\n",
       "  'bbox': [232, 286, 6, 20],\n",
       "  'area': 120,\n",
       "  'segmentation': [[238,\n",
       "    306.25,\n",
       "    238,\n",
       "    286.25,\n",
       "    232,\n",
       "    286.25,\n",
       "    232,\n",
       "    306.25,\n",
       "    238,\n",
       "    306.25]],\n",
       "  'iscrowd': 0},\n",
       " {'id': 370,\n",
       "  'image_id': 43,\n",
       "  'category_id': 4,\n",
       "  'bbox': [236, 291, 7, 15],\n",
       "  'area': 105,\n",
       "  'segmentation': [[243,\n",
       "    306.25,\n",
       "    243,\n",
       "    291.25,\n",
       "    236,\n",
       "    291.25,\n",
       "    236,\n",
       "    306.25,\n",
       "    243,\n",
       "    306.25]],\n",
       "  'iscrowd': 0},\n",
       " {'id': 371,\n",
       "  'image_id': 43,\n",
       "  'category_id': 4,\n",
       "  'bbox': [240, 285, 7, 20],\n",
       "  'area': 140,\n",
       "  'segmentation': [[247, 305, 247, 285, 240, 285, 240, 305, 247, 305]],\n",
       "  'iscrowd': 0},\n",
       " {'id': 372,\n",
       "  'image_id': 44,\n",
       "  'category_id': 2,\n",
       "  'bbox': [417, 244, 222, 135],\n",
       "  'area': 29970,\n",
       "  'segmentation': [[639,\n",
       "    378.75,\n",
       "    639,\n",
       "    243.75,\n",
       "    417,\n",
       "    243.75,\n",
       "    417,\n",
       "    378.75,\n",
       "    639,\n",
       "    378.75]],\n",
       "  'iscrowd': 0},\n",
       " {'id': 373,\n",
       "  'image_id': 44,\n",
       "  'category_id': 2,\n",
       "  'bbox': [346, 243, 69, 60],\n",
       "  'area': 4140,\n",
       "  'segmentation': [[415,\n",
       "    302.5,\n",
       "    415,\n",
       "    242.5,\n",
       "    346,\n",
       "    242.5,\n",
       "    346,\n",
       "    302.5,\n",
       "    415,\n",
       "    302.5]],\n",
       "  'iscrowd': 0},\n",
       " {'id': 374,\n",
       "  'image_id': 44,\n",
       "  'category_id': 2,\n",
       "  'bbox': [0, 221, 441, 256.25],\n",
       "  'area': 113006.25,\n",
       "  'segmentation': [[0, 477.5, 441, 477.5, 441, 221.25, 0, 221.25, 0, 477.5]],\n",
       "  'iscrowd': 0},\n",
       " {'id': 375,\n",
       "  'image_id': 45,\n",
       "  'category_id': 2,\n",
       "  'bbox': [593, 294, 46, 65],\n",
       "  'area': 2990,\n",
       "  'segmentation': [[639,\n",
       "    358.75,\n",
       "    639,\n",
       "    293.75,\n",
       "    593,\n",
       "    293.75,\n",
       "    593,\n",
       "    358.75,\n",
       "    639,\n",
       "    358.75]],\n",
       "  'iscrowd': 0},\n",
       " {'id': 376,\n",
       "  'image_id': 45,\n",
       "  'category_id': 2,\n",
       "  'bbox': [223, 313, 12, 11.25],\n",
       "  'area': 135,\n",
       "  'segmentation': [[235,\n",
       "    323.75,\n",
       "    235,\n",
       "    312.5,\n",
       "    223,\n",
       "    312.5,\n",
       "    223,\n",
       "    323.75,\n",
       "    235,\n",
       "    323.75]],\n",
       "  'iscrowd': 0},\n",
       " {'id': 377,\n",
       "  'image_id': 45,\n",
       "  'category_id': 2,\n",
       "  'bbox': [187, 306, 26, 22.5],\n",
       "  'area': 585,\n",
       "  'segmentation': [[213,\n",
       "    328.75,\n",
       "    213,\n",
       "    306.25,\n",
       "    187,\n",
       "    306.25,\n",
       "    187,\n",
       "    328.75,\n",
       "    213,\n",
       "    328.75]],\n",
       "  'iscrowd': 0},\n",
       " {'id': 378,\n",
       "  'image_id': 45,\n",
       "  'category_id': 4,\n",
       "  'bbox': [112, 303, 8, 25],\n",
       "  'area': 200,\n",
       "  'segmentation': [[120,\n",
       "    327.5,\n",
       "    120,\n",
       "    302.5,\n",
       "    112,\n",
       "    302.5,\n",
       "    112,\n",
       "    327.5,\n",
       "    120,\n",
       "    327.5]],\n",
       "  'iscrowd': 0},\n",
       " {'id': 379,\n",
       "  'image_id': 45,\n",
       "  'category_id': 4,\n",
       "  'bbox': [99, 303, 7, 15],\n",
       "  'area': 105,\n",
       "  'segmentation': [[106, 317.5, 106, 302.5, 99, 302.5, 99, 317.5, 106, 317.5]],\n",
       "  'iscrowd': 0},\n",
       " {'id': 380,\n",
       "  'image_id': 45,\n",
       "  'category_id': 4,\n",
       "  'bbox': [93, 303, 8, 27.5],\n",
       "  'area': 220,\n",
       "  'segmentation': [[101, 330, 101, 302.5, 93, 302.5, 93, 330, 101, 330]],\n",
       "  'iscrowd': 0},\n",
       " {'id': 381,\n",
       "  'image_id': 45,\n",
       "  'category_id': 4,\n",
       "  'bbox': [65, 298, 10, 32.5],\n",
       "  'area': 325,\n",
       "  'segmentation': [[75, 330, 75, 297.5, 65, 297.5, 65, 330, 75, 330]],\n",
       "  'iscrowd': 0},\n",
       " {'id': 382,\n",
       "  'image_id': 45,\n",
       "  'category_id': 4,\n",
       "  'bbox': [56, 296, 11, 38.75],\n",
       "  'area': 426.25,\n",
       "  'segmentation': [[67, 335, 67, 296.25, 56, 296.25, 56, 335, 67, 335]],\n",
       "  'iscrowd': 0},\n",
       " {'id': 383,\n",
       "  'image_id': 45,\n",
       "  'category_id': 4,\n",
       "  'bbox': [46, 301, 7, 30],\n",
       "  'area': 210,\n",
       "  'segmentation': [[53,\n",
       "    331.25,\n",
       "    53,\n",
       "    301.25,\n",
       "    46,\n",
       "    301.25,\n",
       "    46,\n",
       "    331.25,\n",
       "    53,\n",
       "    331.25]],\n",
       "  'iscrowd': 0},\n",
       " {'id': 384,\n",
       "  'image_id': 45,\n",
       "  'category_id': 2,\n",
       "  'bbox': [0, 276, 46, 170],\n",
       "  'area': 7820,\n",
       "  'segmentation': [[0, 446.25, 46, 446.25, 46, 276.25, 0, 276.25, 0, 446.25]],\n",
       "  'iscrowd': 0},\n",
       " {'id': 385,\n",
       "  'image_id': 46,\n",
       "  'category_id': 2,\n",
       "  'bbox': [312, 288, 20, 20],\n",
       "  'area': 400,\n",
       "  'segmentation': [[332,\n",
       "    307.5,\n",
       "    332,\n",
       "    287.5,\n",
       "    312,\n",
       "    287.5,\n",
       "    312,\n",
       "    307.5,\n",
       "    332,\n",
       "    307.5]],\n",
       "  'iscrowd': 0},\n",
       " {'id': 386,\n",
       "  'image_id': 46,\n",
       "  'category_id': 2,\n",
       "  'bbox': [364, 279, 12, 13.75],\n",
       "  'area': 165,\n",
       "  'segmentation': [[376,\n",
       "    292.5,\n",
       "    376,\n",
       "    278.75,\n",
       "    364,\n",
       "    278.75,\n",
       "    364,\n",
       "    292.5,\n",
       "    376,\n",
       "    292.5]],\n",
       "  'iscrowd': 0},\n",
       " {'id': 387,\n",
       "  'image_id': 46,\n",
       "  'category_id': 4,\n",
       "  'bbox': [585, 281, 19, 37.5],\n",
       "  'area': 712.5,\n",
       "  'segmentation': [[604,\n",
       "    318.75,\n",
       "    604,\n",
       "    281.25,\n",
       "    585,\n",
       "    281.25,\n",
       "    585,\n",
       "    318.75,\n",
       "    604,\n",
       "    318.75]],\n",
       "  'iscrowd': 0},\n",
       " {'id': 388,\n",
       "  'image_id': 46,\n",
       "  'category_id': 4,\n",
       "  'bbox': [139, 291, 13, 32.5],\n",
       "  'area': 422.5,\n",
       "  'segmentation': [[152,\n",
       "    323.75,\n",
       "    152,\n",
       "    291.25,\n",
       "    139,\n",
       "    291.25,\n",
       "    139,\n",
       "    323.75,\n",
       "    152,\n",
       "    323.75]],\n",
       "  'iscrowd': 0},\n",
       " {'id': 389,\n",
       "  'image_id': 46,\n",
       "  'category_id': 4,\n",
       "  'bbox': [468, 276, 9, 22.5],\n",
       "  'area': 202.5,\n",
       "  'segmentation': [[477,\n",
       "    298.75,\n",
       "    477,\n",
       "    276.25,\n",
       "    468,\n",
       "    276.25,\n",
       "    468,\n",
       "    298.75,\n",
       "    477,\n",
       "    298.75]],\n",
       "  'iscrowd': 0},\n",
       " {'id': 390,\n",
       "  'image_id': 47,\n",
       "  'category_id': 2,\n",
       "  'bbox': [460, 299, 23, 26.25],\n",
       "  'area': 603.75,\n",
       "  'segmentation': [[483, 325, 483, 298.75, 460, 298.75, 460, 325, 483, 325]],\n",
       "  'iscrowd': 0},\n",
       " {'id': 391,\n",
       "  'image_id': 47,\n",
       "  'category_id': 2,\n",
       "  'bbox': [460, 299, 23, 26.25],\n",
       "  'area': 603.75,\n",
       "  'segmentation': [[483, 325, 483, 298.75, 460, 298.75, 460, 325, 483, 325]],\n",
       "  'iscrowd': 0},\n",
       " {'id': 392,\n",
       "  'image_id': 47,\n",
       "  'category_id': 2,\n",
       "  'bbox': [489, 290, 13, 18.75],\n",
       "  'area': 243.75,\n",
       "  'segmentation': [[502,\n",
       "    308.75,\n",
       "    502,\n",
       "    290,\n",
       "    489,\n",
       "    290,\n",
       "    489,\n",
       "    308.75,\n",
       "    502,\n",
       "    308.75]],\n",
       "  'iscrowd': 0},\n",
       " {'id': 393,\n",
       "  'image_id': 47,\n",
       "  'category_id': 4,\n",
       "  'bbox': [403, 291, 12, 30],\n",
       "  'area': 360,\n",
       "  'segmentation': [[415,\n",
       "    321.25,\n",
       "    415,\n",
       "    291.25,\n",
       "    403,\n",
       "    291.25,\n",
       "    403,\n",
       "    321.25,\n",
       "    415,\n",
       "    321.25]],\n",
       "  'iscrowd': 0},\n",
       " {'id': 394,\n",
       "  'image_id': 48,\n",
       "  'category_id': 2,\n",
       "  'bbox': [500, 276, 36, 41.25],\n",
       "  'area': 1485,\n",
       "  'segmentation': [[536,\n",
       "    317.5,\n",
       "    536,\n",
       "    276.25,\n",
       "    500,\n",
       "    276.25,\n",
       "    500,\n",
       "    317.5,\n",
       "    536,\n",
       "    317.5]],\n",
       "  'iscrowd': 0},\n",
       " {'id': 395,\n",
       "  'image_id': 48,\n",
       "  'category_id': 2,\n",
       "  'bbox': [545, 243, 94, 87.5],\n",
       "  'area': 8225,\n",
       "  'segmentation': [[639, 330, 639, 242.5, 545, 242.5, 545, 330, 639, 330]],\n",
       "  'iscrowd': 0},\n",
       " {'id': 396,\n",
       "  'image_id': 48,\n",
       "  'category_id': 2,\n",
       "  'bbox': [580, 276, 59, 76.25],\n",
       "  'area': 4498.75,\n",
       "  'segmentation': [[639,\n",
       "    352.5,\n",
       "    639,\n",
       "    276.25,\n",
       "    580,\n",
       "    276.25,\n",
       "    580,\n",
       "    352.5,\n",
       "    639,\n",
       "    352.5]],\n",
       "  'iscrowd': 0},\n",
       " {'id': 397,\n",
       "  'image_id': 48,\n",
       "  'category_id': 4,\n",
       "  'bbox': [442, 273, 21, 67.5],\n",
       "  'area': 1417.5,\n",
       "  'segmentation': [[463, 340, 463, 272.5, 442, 272.5, 442, 340, 463, 340]],\n",
       "  'iscrowd': 0},\n",
       " {'id': 398,\n",
       "  'image_id': 48,\n",
       "  'category_id': 4,\n",
       "  'bbox': [428, 265, 18, 73.75],\n",
       "  'area': 1327.5,\n",
       "  'segmentation': [[446,\n",
       "    338.75,\n",
       "    446,\n",
       "    265,\n",
       "    428,\n",
       "    265,\n",
       "    428,\n",
       "    338.75,\n",
       "    446,\n",
       "    338.75]],\n",
       "  'iscrowd': 0},\n",
       " {'id': 399,\n",
       "  'image_id': 48,\n",
       "  'category_id': 4,\n",
       "  'bbox': [411, 273, 15, 55],\n",
       "  'area': 825,\n",
       "  'segmentation': [[426,\n",
       "    327.5,\n",
       "    426,\n",
       "    272.5,\n",
       "    411,\n",
       "    272.5,\n",
       "    411,\n",
       "    327.5,\n",
       "    426,\n",
       "    327.5]],\n",
       "  'iscrowd': 0},\n",
       " {'id': 400,\n",
       "  'image_id': 48,\n",
       "  'category_id': 4,\n",
       "  'bbox': [399, 273, 15, 56.25],\n",
       "  'area': 843.75,\n",
       "  'segmentation': [[414,\n",
       "    328.75,\n",
       "    414,\n",
       "    272.5,\n",
       "    399,\n",
       "    272.5,\n",
       "    399,\n",
       "    328.75,\n",
       "    414,\n",
       "    328.75]],\n",
       "  'iscrowd': 0},\n",
       " {'id': 401,\n",
       "  'image_id': 48,\n",
       "  'category_id': 2,\n",
       "  'bbox': [275, 290, 23, 25],\n",
       "  'area': 575,\n",
       "  'segmentation': [[298, 315, 298, 290, 275, 290, 275, 315, 298, 315]],\n",
       "  'iscrowd': 0},\n",
       " {'id': 402,\n",
       "  'image_id': 48,\n",
       "  'category_id': 4,\n",
       "  'bbox': [347, 279, 9, 30],\n",
       "  'area': 270,\n",
       "  'segmentation': [[356,\n",
       "    308.75,\n",
       "    356,\n",
       "    278.75,\n",
       "    347,\n",
       "    278.75,\n",
       "    347,\n",
       "    308.75,\n",
       "    356,\n",
       "    308.75]],\n",
       "  'iscrowd': 0},\n",
       " {'id': 403,\n",
       "  'image_id': 48,\n",
       "  'category_id': 4,\n",
       "  'bbox': [363, 279, 16, 36.25],\n",
       "  'area': 580,\n",
       "  'segmentation': [[379, 315, 379, 278.75, 363, 278.75, 363, 315, 379, 315]],\n",
       "  'iscrowd': 0},\n",
       " {'id': 404,\n",
       "  'image_id': 48,\n",
       "  'category_id': 4,\n",
       "  'bbox': [377, 274, 16, 38.75],\n",
       "  'area': 620,\n",
       "  'segmentation': [[393,\n",
       "    312.5,\n",
       "    393,\n",
       "    273.75,\n",
       "    377,\n",
       "    273.75,\n",
       "    377,\n",
       "    312.5,\n",
       "    393,\n",
       "    312.5]],\n",
       "  'iscrowd': 0},\n",
       " {'id': 405,\n",
       "  'image_id': 48,\n",
       "  'category_id': 4,\n",
       "  'bbox': [102, 294, 12, 27.5],\n",
       "  'area': 330,\n",
       "  'segmentation': [[114,\n",
       "    321.25,\n",
       "    114,\n",
       "    293.75,\n",
       "    102,\n",
       "    293.75,\n",
       "    102,\n",
       "    321.25,\n",
       "    114,\n",
       "    321.25]],\n",
       "  'iscrowd': 0},\n",
       " {'id': 406,\n",
       "  'image_id': 48,\n",
       "  'category_id': 4,\n",
       "  'bbox': [75, 301, 12, 22.5],\n",
       "  'area': 270,\n",
       "  'segmentation': [[87,\n",
       "    323.75,\n",
       "    87,\n",
       "    301.25,\n",
       "    75,\n",
       "    301.25,\n",
       "    75,\n",
       "    323.75,\n",
       "    87,\n",
       "    323.75]],\n",
       "  'iscrowd': 0},\n",
       " {'id': 407,\n",
       "  'image_id': 48,\n",
       "  'category_id': 4,\n",
       "  'bbox': [65, 299, 13, 30],\n",
       "  'area': 390,\n",
       "  'segmentation': [[78,\n",
       "    328.75,\n",
       "    78,\n",
       "    298.75,\n",
       "    65,\n",
       "    298.75,\n",
       "    65,\n",
       "    328.75,\n",
       "    78,\n",
       "    328.75]],\n",
       "  'iscrowd': 0},\n",
       " {'id': 408,\n",
       "  'image_id': 48,\n",
       "  'category_id': 4,\n",
       "  'bbox': [228, 288, 8, 17.5],\n",
       "  'area': 140,\n",
       "  'segmentation': [[236, 305, 236, 287.5, 228, 287.5, 228, 305, 236, 305]],\n",
       "  'iscrowd': 0},\n",
       " {'id': 409,\n",
       "  'image_id': 48,\n",
       "  'category_id': 4,\n",
       "  'bbox': [236, 286, 6, 17.5],\n",
       "  'area': 105,\n",
       "  'segmentation': [[242,\n",
       "    303.75,\n",
       "    242,\n",
       "    286.25,\n",
       "    236,\n",
       "    286.25,\n",
       "    236,\n",
       "    303.75,\n",
       "    242,\n",
       "    303.75]],\n",
       "  'iscrowd': 0},\n",
       " {'id': 410,\n",
       "  'image_id': 48,\n",
       "  'category_id': 4,\n",
       "  'bbox': [240, 286, 6, 16.25],\n",
       "  'area': 97.5,\n",
       "  'segmentation': [[246,\n",
       "    302.5,\n",
       "    246,\n",
       "    286.25,\n",
       "    240,\n",
       "    286.25,\n",
       "    240,\n",
       "    302.5,\n",
       "    246,\n",
       "    302.5]],\n",
       "  'iscrowd': 0},\n",
       " {'id': 411,\n",
       "  'image_id': 49,\n",
       "  'category_id': 2,\n",
       "  'bbox': [291, 284, 23, 21.25],\n",
       "  'area': 488.75,\n",
       "  'segmentation': [[314, 305, 314, 283.75, 291, 283.75, 291, 305, 314, 305]],\n",
       "  'iscrowd': 0},\n",
       " {'id': 412,\n",
       "  'image_id': 49,\n",
       "  'category_id': 2,\n",
       "  'bbox': [0, 245, 130, 172.5],\n",
       "  'area': 22425,\n",
       "  'segmentation': [[0, 417.5, 130, 417.5, 130, 245, 0, 245, 0, 417.5]],\n",
       "  'iscrowd': 0},\n",
       " {'id': 413,\n",
       "  'image_id': 49,\n",
       "  'category_id': 2,\n",
       "  'bbox': [270, 286, 13, 16.25],\n",
       "  'area': 211.25,\n",
       "  'segmentation': [[283,\n",
       "    302.5,\n",
       "    283,\n",
       "    286.25,\n",
       "    270,\n",
       "    286.25,\n",
       "    270,\n",
       "    302.5,\n",
       "    283,\n",
       "    302.5]],\n",
       "  'iscrowd': 0},\n",
       " {'id': 414,\n",
       "  'image_id': 49,\n",
       "  'category_id': 4,\n",
       "  'bbox': [499, 273, 21, 22.5],\n",
       "  'area': 472.5,\n",
       "  'segmentation': [[520, 295, 520, 272.5, 499, 272.5, 499, 295, 520, 295]],\n",
       "  'iscrowd': 0},\n",
       " {'id': 415,\n",
       "  'image_id': 50,\n",
       "  'category_id': 4,\n",
       "  'bbox': [331, 286, 19, 28.75],\n",
       "  'area': 546.25,\n",
       "  'segmentation': [[350, 315, 350, 286.25, 331, 286.25, 331, 315, 350, 315]],\n",
       "  'iscrowd': 0},\n",
       " {'id': 416,\n",
       "  'image_id': 50,\n",
       "  'category_id': 2,\n",
       "  'bbox': [498, 341, 140, 165],\n",
       "  'area': 23100,\n",
       "  'segmentation': [[638,\n",
       "    506.25,\n",
       "    638,\n",
       "    341.25,\n",
       "    498,\n",
       "    341.25,\n",
       "    498,\n",
       "    506.25,\n",
       "    638,\n",
       "    506.25]],\n",
       "  'iscrowd': 0},\n",
       " {'id': 417,\n",
       "  'image_id': 50,\n",
       "  'category_id': 2,\n",
       "  'bbox': [384, 298, 158, 125],\n",
       "  'area': 19750,\n",
       "  'segmentation': [[542,\n",
       "    422.5,\n",
       "    542,\n",
       "    297.5,\n",
       "    384,\n",
       "    297.5,\n",
       "    384,\n",
       "    422.5,\n",
       "    542,\n",
       "    422.5]],\n",
       "  'iscrowd': 0},\n",
       " {'id': 418,\n",
       "  'image_id': 50,\n",
       "  'category_id': 2,\n",
       "  'bbox': [325, 299, 93, 81.25],\n",
       "  'area': 7556.25,\n",
       "  'segmentation': [[418, 380, 418, 298.75, 325, 298.75, 325, 380, 418, 380]],\n",
       "  'iscrowd': 0},\n",
       " {'id': 419,\n",
       "  'image_id': 50,\n",
       "  'category_id': 2,\n",
       "  'bbox': [267, 301, 82, 57.5],\n",
       "  'area': 4715,\n",
       "  'segmentation': [[349,\n",
       "    358.75,\n",
       "    349,\n",
       "    301.25,\n",
       "    267,\n",
       "    301.25,\n",
       "    267,\n",
       "    358.75,\n",
       "    349,\n",
       "    358.75]],\n",
       "  'iscrowd': 0},\n",
       " {'id': 420,\n",
       "  'image_id': 50,\n",
       "  'category_id': 2,\n",
       "  'bbox': [224, 295, 67, 52.5],\n",
       "  'area': 3517.5,\n",
       "  'segmentation': [[291, 347.5, 291, 295, 224, 295, 224, 347.5, 291, 347.5]],\n",
       "  'iscrowd': 0},\n",
       " {'id': 421,\n",
       "  'image_id': 50,\n",
       "  'category_id': 2,\n",
       "  'bbox': [189, 288, 61, 46.25],\n",
       "  'area': 2821.25,\n",
       "  'segmentation': [[250,\n",
       "    333.75,\n",
       "    250,\n",
       "    287.5,\n",
       "    189,\n",
       "    287.5,\n",
       "    189,\n",
       "    333.75,\n",
       "    250,\n",
       "    333.75]],\n",
       "  'iscrowd': 0},\n",
       " {'id': 422,\n",
       "  'image_id': 50,\n",
       "  'category_id': 2,\n",
       "  'bbox': [82, 283, 50, 41.25],\n",
       "  'area': 2062.5,\n",
       "  'segmentation': [[132,\n",
       "    323.75,\n",
       "    132,\n",
       "    282.5,\n",
       "    82,\n",
       "    282.5,\n",
       "    82,\n",
       "    323.75,\n",
       "    132,\n",
       "    323.75]],\n",
       "  'iscrowd': 0},\n",
       " {'id': 423,\n",
       "  'image_id': 50,\n",
       "  'category_id': 4,\n",
       "  'bbox': [592, 290, 15, 22.5],\n",
       "  'area': 337.5,\n",
       "  'segmentation': [[607, 312.5, 607, 290, 592, 290, 592, 312.5, 607, 312.5]],\n",
       "  'iscrowd': 0},\n",
       " {'id': 424,\n",
       "  'image_id': 50,\n",
       "  'category_id': 4,\n",
       "  'bbox': [29, 275, 12, 33.75],\n",
       "  'area': 405,\n",
       "  'segmentation': [[41, 308.75, 41, 275, 29, 275, 29, 308.75, 41, 308.75]],\n",
       "  'iscrowd': 0},\n",
       " {'id': 425,\n",
       "  'image_id': 51,\n",
       "  'category_id': 2,\n",
       "  'bbox': [291, 265, 57, 70],\n",
       "  'area': 3990,\n",
       "  'segmentation': [[348, 335, 348, 265, 291, 265, 291, 335, 348, 335]],\n",
       "  'iscrowd': 0},\n",
       " {'id': 426,\n",
       "  'image_id': 52,\n",
       "  'category_id': 2,\n",
       "  'bbox': [0, 299, 46, 38.75],\n",
       "  'area': 1782.5,\n",
       "  'segmentation': [[0, 337.5, 46, 337.5, 46, 298.75, 0, 298.75, 0, 337.5]],\n",
       "  'iscrowd': 0},\n",
       " {'id': 427,\n",
       "  'image_id': 52,\n",
       "  'category_id': 2,\n",
       "  'bbox': [146, 305, 75, 35],\n",
       "  'area': 2625,\n",
       "  'segmentation': [[221, 340, 221, 305, 146, 305, 146, 340, 221, 340]],\n",
       "  'iscrowd': 0},\n",
       " {'id': 428,\n",
       "  'image_id': 52,\n",
       "  'category_id': 2,\n",
       "  'bbox': [195, 308, 36, 27.5],\n",
       "  'area': 990,\n",
       "  'segmentation': [[231, 335, 231, 307.5, 195, 307.5, 195, 335, 231, 335]],\n",
       "  'iscrowd': 0},\n",
       " {'id': 429,\n",
       "  'image_id': 52,\n",
       "  'category_id': 2,\n",
       "  'bbox': [267, 308, 22, 27.5],\n",
       "  'area': 605,\n",
       "  'segmentation': [[289, 335, 289, 307.5, 267, 307.5, 267, 335, 289, 335]],\n",
       "  'iscrowd': 0},\n",
       " {'id': 430,\n",
       "  'image_id': 52,\n",
       "  'category_id': 2,\n",
       "  'bbox': [298, 316, 17, 17.5],\n",
       "  'area': 297.5,\n",
       "  'segmentation': [[315,\n",
       "    333.75,\n",
       "    315,\n",
       "    316.25,\n",
       "    298,\n",
       "    316.25,\n",
       "    298,\n",
       "    333.75,\n",
       "    315,\n",
       "    333.75]],\n",
       "  'iscrowd': 0},\n",
       " {'id': 431,\n",
       "  'image_id': 52,\n",
       "  'category_id': 4,\n",
       "  'bbox': [239, 306, 10, 22.5],\n",
       "  'area': 225,\n",
       "  'segmentation': [[249,\n",
       "    328.75,\n",
       "    249,\n",
       "    306.25,\n",
       "    239,\n",
       "    306.25,\n",
       "    239,\n",
       "    328.75,\n",
       "    249,\n",
       "    328.75]],\n",
       "  'iscrowd': 0},\n",
       " {'id': 432,\n",
       "  'image_id': 53,\n",
       "  'category_id': 2,\n",
       "  'bbox': [265, 283, 29, 30],\n",
       "  'area': 870,\n",
       "  'segmentation': [[294,\n",
       "    312.5,\n",
       "    294,\n",
       "    282.5,\n",
       "    265,\n",
       "    282.5,\n",
       "    265,\n",
       "    312.5,\n",
       "    294,\n",
       "    312.5]],\n",
       "  'iscrowd': 0},\n",
       " {'id': 433,\n",
       "  'image_id': 53,\n",
       "  'category_id': 2,\n",
       "  'bbox': [0, 321, 20, 116.25],\n",
       "  'area': 2325,\n",
       "  'segmentation': [[0, 437.5, 20, 437.5, 20, 321.25, 0, 321.25, 0, 437.5]],\n",
       "  'iscrowd': 0},\n",
       " {'id': 434,\n",
       "  'image_id': 53,\n",
       "  'category_id': 2,\n",
       "  'bbox': [143, 285, 23, 21.25],\n",
       "  'area': 488.75,\n",
       "  'segmentation': [[166,\n",
       "    306.25,\n",
       "    166,\n",
       "    285,\n",
       "    143,\n",
       "    285,\n",
       "    143,\n",
       "    306.25,\n",
       "    166,\n",
       "    306.25]],\n",
       "  'iscrowd': 0},\n",
       " {'id': 435,\n",
       "  'image_id': 54,\n",
       "  'category_id': 4,\n",
       "  'bbox': [540, 265, 15, 82.5],\n",
       "  'area': 1237.5,\n",
       "  'segmentation': [[555, 347.5, 555, 265, 540, 265, 540, 347.5, 555, 347.5]],\n",
       "  'iscrowd': 0},\n",
       " {'id': 436,\n",
       "  'image_id': 54,\n",
       "  'category_id': 4,\n",
       "  'bbox': [596, 270, 27, 85],\n",
       "  'area': 2295,\n",
       "  'segmentation': [[623, 355, 623, 270, 596, 270, 596, 355, 623, 355]],\n",
       "  'iscrowd': 0},\n",
       " {'id': 437,\n",
       "  'image_id': 54,\n",
       "  'category_id': 4,\n",
       "  'bbox': [614, 273, 25, 95],\n",
       "  'area': 2375,\n",
       "  'segmentation': [[639,\n",
       "    367.5,\n",
       "    639,\n",
       "    272.5,\n",
       "    614,\n",
       "    272.5,\n",
       "    614,\n",
       "    367.5,\n",
       "    639,\n",
       "    367.5]],\n",
       "  'iscrowd': 0},\n",
       " {'id': 438,\n",
       "  'image_id': 54,\n",
       "  'category_id': 4,\n",
       "  'bbox': [511, 279, 15, 57.5],\n",
       "  'area': 862.5,\n",
       "  'segmentation': [[526,\n",
       "    336.25,\n",
       "    526,\n",
       "    278.75,\n",
       "    511,\n",
       "    278.75,\n",
       "    511,\n",
       "    336.25,\n",
       "    526,\n",
       "    336.25]],\n",
       "  'iscrowd': 0},\n",
       " {'id': 439,\n",
       "  'image_id': 54,\n",
       "  'category_id': 4,\n",
       "  'bbox': [475, 278, 18, 61.25],\n",
       "  'area': 1102.5,\n",
       "  'segmentation': [[493,\n",
       "    338.75,\n",
       "    493,\n",
       "    277.5,\n",
       "    475,\n",
       "    277.5,\n",
       "    475,\n",
       "    338.75,\n",
       "    493,\n",
       "    338.75]],\n",
       "  'iscrowd': 0},\n",
       " {'id': 440,\n",
       "  'image_id': 54,\n",
       "  'category_id': 4,\n",
       "  'bbox': [210, 275, 27, 57.5],\n",
       "  'area': 1552.5,\n",
       "  'segmentation': [[237, 332.5, 237, 275, 210, 275, 210, 332.5, 237, 332.5]],\n",
       "  'iscrowd': 0},\n",
       " {'id': 441,\n",
       "  'image_id': 54,\n",
       "  'category_id': 4,\n",
       "  'bbox': [184, 271, 23, 56.25],\n",
       "  'area': 1293.75,\n",
       "  'segmentation': [[207,\n",
       "    327.5,\n",
       "    207,\n",
       "    271.25,\n",
       "    184,\n",
       "    271.25,\n",
       "    184,\n",
       "    327.5,\n",
       "    207,\n",
       "    327.5]],\n",
       "  'iscrowd': 0},\n",
       " {'id': 442,\n",
       "  'image_id': 54,\n",
       "  'category_id': 4,\n",
       "  'bbox': [48, 261, 20, 63.75],\n",
       "  'area': 1275,\n",
       "  'segmentation': [[68, 325, 68, 261.25, 48, 261.25, 48, 325, 68, 325]],\n",
       "  'iscrowd': 0},\n",
       " {'id': 443,\n",
       "  'image_id': 54,\n",
       "  'category_id': 4,\n",
       "  'bbox': [70, 263, 14, 55],\n",
       "  'area': 770,\n",
       "  'segmentation': [[84, 317.5, 84, 262.5, 70, 262.5, 70, 317.5, 84, 317.5]],\n",
       "  'iscrowd': 0},\n",
       " {'id': 444,\n",
       "  'image_id': 54,\n",
       "  'category_id': 2,\n",
       "  'bbox': [152, 279, 33, 32.5],\n",
       "  'area': 1072.5,\n",
       "  'segmentation': [[185,\n",
       "    311.25,\n",
       "    185,\n",
       "    278.75,\n",
       "    152,\n",
       "    278.75,\n",
       "    152,\n",
       "    311.25,\n",
       "    185,\n",
       "    311.25]],\n",
       "  'iscrowd': 0},\n",
       " {'id': 445,\n",
       "  'image_id': 54,\n",
       "  'category_id': 4,\n",
       "  'bbox': [291, 276, 12, 30],\n",
       "  'area': 360,\n",
       "  'segmentation': [[303,\n",
       "    306.25,\n",
       "    303,\n",
       "    276.25,\n",
       "    291,\n",
       "    276.25,\n",
       "    291,\n",
       "    306.25,\n",
       "    303,\n",
       "    306.25]],\n",
       "  'iscrowd': 0},\n",
       " {'id': 446,\n",
       "  'image_id': 54,\n",
       "  'category_id': 4,\n",
       "  'bbox': [281, 278, 13, 27.5],\n",
       "  'area': 357.5,\n",
       "  'segmentation': [[294, 305, 294, 277.5, 281, 277.5, 281, 305, 294, 305]],\n",
       "  'iscrowd': 0},\n",
       " {'id': 447,\n",
       "  'image_id': 54,\n",
       "  'category_id': 4,\n",
       "  'bbox': [378, 278, 12, 30],\n",
       "  'area': 360,\n",
       "  'segmentation': [[390,\n",
       "    307.5,\n",
       "    390,\n",
       "    277.5,\n",
       "    378,\n",
       "    277.5,\n",
       "    378,\n",
       "    307.5,\n",
       "    390,\n",
       "    307.5]],\n",
       "  'iscrowd': 0},\n",
       " {'id': 448,\n",
       "  'image_id': 54,\n",
       "  'category_id': 4,\n",
       "  'bbox': [306, 279, 11, 23.75],\n",
       "  'area': 261.25,\n",
       "  'segmentation': [[317,\n",
       "    302.5,\n",
       "    317,\n",
       "    278.75,\n",
       "    306,\n",
       "    278.75,\n",
       "    306,\n",
       "    302.5,\n",
       "    317,\n",
       "    302.5]],\n",
       "  'iscrowd': 0},\n",
       " {'id': 449,\n",
       "  'image_id': 54,\n",
       "  'category_id': 2,\n",
       "  'bbox': [337, 284, 14, 15],\n",
       "  'area': 210,\n",
       "  'segmentation': [[351,\n",
       "    298.75,\n",
       "    351,\n",
       "    283.75,\n",
       "    337,\n",
       "    283.75,\n",
       "    337,\n",
       "    298.75,\n",
       "    351,\n",
       "    298.75]],\n",
       "  'iscrowd': 0},\n",
       " {'id': 450,\n",
       "  'image_id': 54,\n",
       "  'category_id': 4,\n",
       "  'bbox': [554, 279, 18, 43.75],\n",
       "  'area': 787.5,\n",
       "  'segmentation': [[572,\n",
       "    322.5,\n",
       "    572,\n",
       "    278.75,\n",
       "    554,\n",
       "    278.75,\n",
       "    554,\n",
       "    322.5,\n",
       "    572,\n",
       "    322.5]],\n",
       "  'iscrowd': 0},\n",
       " {'id': 451,\n",
       "  'image_id': 54,\n",
       "  'category_id': 1,\n",
       "  'bbox': [481, 345, 31, 53.75],\n",
       "  'area': 1666.25,\n",
       "  'segmentation': [[512,\n",
       "    398.75,\n",
       "    512,\n",
       "    345,\n",
       "    481,\n",
       "    345,\n",
       "    481,\n",
       "    398.75,\n",
       "    512,\n",
       "    398.75]],\n",
       "  'iscrowd': 0},\n",
       " {'id': 452,\n",
       "  'image_id': 54,\n",
       "  'category_id': 1,\n",
       "  'bbox': [600, 363, 38, 65],\n",
       "  'area': 2470,\n",
       "  'segmentation': [[638,\n",
       "    427.5,\n",
       "    638,\n",
       "    362.5,\n",
       "    600,\n",
       "    362.5,\n",
       "    600,\n",
       "    427.5,\n",
       "    638,\n",
       "    427.5]],\n",
       "  'iscrowd': 0},\n",
       " {'id': 453,\n",
       "  'image_id': 54,\n",
       "  'category_id': 4,\n",
       "  'bbox': [424, 285, 14, 16.25],\n",
       "  'area': 227.5,\n",
       "  'segmentation': [[438,\n",
       "    301.25,\n",
       "    438,\n",
       "    285,\n",
       "    424,\n",
       "    285,\n",
       "    424,\n",
       "    301.25,\n",
       "    438,\n",
       "    301.25]],\n",
       "  'iscrowd': 0},\n",
       " {'id': 454,\n",
       "  'image_id': 54,\n",
       "  'category_id': 4,\n",
       "  'bbox': [252, 276, 12, 21.25],\n",
       "  'area': 255,\n",
       "  'segmentation': [[264,\n",
       "    297.5,\n",
       "    264,\n",
       "    276.25,\n",
       "    252,\n",
       "    276.25,\n",
       "    252,\n",
       "    297.5,\n",
       "    264,\n",
       "    297.5]],\n",
       "  'iscrowd': 0},\n",
       " {'id': 455,\n",
       "  'image_id': 55,\n",
       "  'category_id': 2,\n",
       "  'bbox': [224, 268, 17, 16.25],\n",
       "  'area': 276.25,\n",
       "  'segmentation': [[241,\n",
       "    283.75,\n",
       "    241,\n",
       "    267.5,\n",
       "    224,\n",
       "    267.5,\n",
       "    224,\n",
       "    283.75,\n",
       "    241,\n",
       "    283.75]],\n",
       "  'iscrowd': 0},\n",
       " {'id': 456,\n",
       "  'image_id': 55,\n",
       "  'category_id': 4,\n",
       "  'bbox': [68, 271, 10, 35],\n",
       "  'area': 350,\n",
       "  'segmentation': [[78,\n",
       "    306.25,\n",
       "    78,\n",
       "    271.25,\n",
       "    68,\n",
       "    271.25,\n",
       "    68,\n",
       "    306.25,\n",
       "    78,\n",
       "    306.25]],\n",
       "  'iscrowd': 0},\n",
       " {'id': 457,\n",
       "  'image_id': 55,\n",
       "  'category_id': 4,\n",
       "  'bbox': [62, 275, 6, 30],\n",
       "  'area': 180,\n",
       "  'segmentation': [[68, 305, 68, 275, 62, 275, 62, 305, 68, 305]],\n",
       "  'iscrowd': 0},\n",
       " {'id': 458,\n",
       "  'image_id': 55,\n",
       "  'category_id': 4,\n",
       "  'bbox': [50, 274, 11, 35],\n",
       "  'area': 385,\n",
       "  'segmentation': [[61,\n",
       "    308.75,\n",
       "    61,\n",
       "    273.75,\n",
       "    50,\n",
       "    273.75,\n",
       "    50,\n",
       "    308.75,\n",
       "    61,\n",
       "    308.75]],\n",
       "  'iscrowd': 0},\n",
       " {'id': 459,\n",
       "  'image_id': 56,\n",
       "  'category_id': 4,\n",
       "  'bbox': [515, 261, 22, 83.75],\n",
       "  'area': 1842.5,\n",
       "  'segmentation': [[537, 345, 537, 261.25, 515, 261.25, 515, 345, 537, 345]],\n",
       "  'iscrowd': 0},\n",
       " {'id': 460,\n",
       "  'image_id': 56,\n",
       "  'category_id': 4,\n",
       "  'bbox': [456, 265, 17, 72.5],\n",
       "  'area': 1232.5,\n",
       "  'segmentation': [[473, 337.5, 473, 265, 456, 265, 456, 337.5, 473, 337.5]],\n",
       "  'iscrowd': 0},\n",
       " {'id': 461,\n",
       "  'image_id': 56,\n",
       "  'category_id': 4,\n",
       "  'bbox': [442, 263, 17, 75],\n",
       "  'area': 1275,\n",
       "  'segmentation': [[459,\n",
       "    337.5,\n",
       "    459,\n",
       "    262.5,\n",
       "    442,\n",
       "    262.5,\n",
       "    442,\n",
       "    337.5,\n",
       "    459,\n",
       "    337.5]],\n",
       "  'iscrowd': 0},\n",
       " {'id': 462,\n",
       "  'image_id': 56,\n",
       "  'category_id': 4,\n",
       "  'bbox': [418, 264, 17, 66.25],\n",
       "  'area': 1126.25,\n",
       "  'segmentation': [[435, 330, 435, 263.75, 418, 263.75, 418, 330, 435, 330]],\n",
       "  'iscrowd': 0},\n",
       " {'id': 463,\n",
       "  'image_id': 56,\n",
       "  'category_id': 2,\n",
       "  'bbox': [528, 274, 22, 23.75],\n",
       "  'area': 522.5,\n",
       "  'segmentation': [[550,\n",
       "    297.5,\n",
       "    550,\n",
       "    273.75,\n",
       "    528,\n",
       "    273.75,\n",
       "    528,\n",
       "    297.5,\n",
       "    550,\n",
       "    297.5]],\n",
       "  'iscrowd': 0},\n",
       " {'id': 464,\n",
       "  'image_id': 56,\n",
       "  'category_id': 2,\n",
       "  'bbox': [476, 275, 39, 25],\n",
       "  'area': 975,\n",
       "  'segmentation': [[515, 300, 515, 275, 476, 275, 476, 300, 515, 300]],\n",
       "  'iscrowd': 0},\n",
       " {'id': 465,\n",
       "  'image_id': 57,\n",
       "  'category_id': 2,\n",
       "  'bbox': [2, 283, 116, 105],\n",
       "  'area': 12180,\n",
       "  'segmentation': [[118, 387.5, 118, 282.5, 2, 282.5, 2, 387.5, 118, 387.5]],\n",
       "  'iscrowd': 0},\n",
       " {'id': 466,\n",
       "  'image_id': 57,\n",
       "  'category_id': 4,\n",
       "  'bbox': [121, 273, 38, 126.25],\n",
       "  'area': 4797.5,\n",
       "  'segmentation': [[159,\n",
       "    398.75,\n",
       "    159,\n",
       "    272.5,\n",
       "    121,\n",
       "    272.5,\n",
       "    121,\n",
       "    398.75,\n",
       "    159,\n",
       "    398.75]],\n",
       "  'iscrowd': 0},\n",
       " {'id': 467,\n",
       "  'image_id': 57,\n",
       "  'category_id': 4,\n",
       "  'bbox': [549, 279, 12, 32.5],\n",
       "  'area': 390,\n",
       "  'segmentation': [[561,\n",
       "    311.25,\n",
       "    561,\n",
       "    278.75,\n",
       "    549,\n",
       "    278.75,\n",
       "    549,\n",
       "    311.25,\n",
       "    561,\n",
       "    311.25]],\n",
       "  'iscrowd': 0},\n",
       " {'id': 468,\n",
       "  'image_id': 57,\n",
       "  'category_id': 4,\n",
       "  'bbox': [620, 285, 17, 28.75],\n",
       "  'area': 488.75,\n",
       "  'segmentation': [[637,\n",
       "    313.75,\n",
       "    637,\n",
       "    285,\n",
       "    620,\n",
       "    285,\n",
       "    620,\n",
       "    313.75,\n",
       "    637,\n",
       "    313.75]],\n",
       "  'iscrowd': 0},\n",
       " {'id': 469,\n",
       "  'image_id': 57,\n",
       "  'category_id': 4,\n",
       "  'bbox': [420, 276, 27, 55],\n",
       "  'area': 1485,\n",
       "  'segmentation': [[447,\n",
       "    331.25,\n",
       "    447,\n",
       "    276.25,\n",
       "    420,\n",
       "    276.25,\n",
       "    420,\n",
       "    331.25,\n",
       "    447,\n",
       "    331.25]],\n",
       "  'iscrowd': 0},\n",
       " {'id': 470,\n",
       "  'image_id': 57,\n",
       "  'category_id': 2,\n",
       "  'bbox': [329, 285, 23, 22.5],\n",
       "  'area': 517.5,\n",
       "  'segmentation': [[352, 307.5, 352, 285, 329, 285, 329, 307.5, 352, 307.5]],\n",
       "  'iscrowd': 0},\n",
       " {'id': 471,\n",
       "  'image_id': 57,\n",
       "  'category_id': 2,\n",
       "  'bbox': [389, 291, 16, 22.5],\n",
       "  'area': 360,\n",
       "  'segmentation': [[405,\n",
       "    313.75,\n",
       "    405,\n",
       "    291.25,\n",
       "    389,\n",
       "    291.25,\n",
       "    389,\n",
       "    313.75,\n",
       "    405,\n",
       "    313.75]],\n",
       "  'iscrowd': 0},\n",
       " {'id': 472,\n",
       "  'image_id': 57,\n",
       "  'category_id': 2,\n",
       "  'bbox': [400, 274, 38, 50],\n",
       "  'area': 1900,\n",
       "  'segmentation': [[438,\n",
       "    323.75,\n",
       "    438,\n",
       "    273.75,\n",
       "    400,\n",
       "    273.75,\n",
       "    400,\n",
       "    323.75,\n",
       "    438,\n",
       "    323.75]],\n",
       "  'iscrowd': 0},\n",
       " {'id': 473,\n",
       "  'image_id': 57,\n",
       "  'category_id': 2,\n",
       "  'bbox': [460, 286, 18, 16.25],\n",
       "  'area': 292.5,\n",
       "  'segmentation': [[478,\n",
       "    302.5,\n",
       "    478,\n",
       "    286.25,\n",
       "    460,\n",
       "    286.25,\n",
       "    460,\n",
       "    302.5,\n",
       "    478,\n",
       "    302.5]],\n",
       "  'iscrowd': 0},\n",
       " {'id': 474,\n",
       "  'image_id': 57,\n",
       "  'category_id': 2,\n",
       "  'bbox': [479, 283, 19, 20],\n",
       "  'area': 380,\n",
       "  'segmentation': [[498,\n",
       "    302.5,\n",
       "    498,\n",
       "    282.5,\n",
       "    479,\n",
       "    282.5,\n",
       "    479,\n",
       "    302.5,\n",
       "    498,\n",
       "    302.5]],\n",
       "  'iscrowd': 0},\n",
       " {'id': 475,\n",
       "  'image_id': 57,\n",
       "  'category_id': 4,\n",
       "  'bbox': [377, 283, 12, 23.75],\n",
       "  'area': 285,\n",
       "  'segmentation': [[389,\n",
       "    306.25,\n",
       "    389,\n",
       "    282.5,\n",
       "    377,\n",
       "    282.5,\n",
       "    377,\n",
       "    306.25,\n",
       "    389,\n",
       "    306.25]],\n",
       "  'iscrowd': 0},\n",
       " {'id': 476,\n",
       "  'image_id': 58,\n",
       "  'category_id': 2,\n",
       "  'bbox': [90, 290, 72, 60],\n",
       "  'area': 4320,\n",
       "  'segmentation': [[162, 350, 162, 290, 90, 290, 90, 350, 162, 350]],\n",
       "  'iscrowd': 0},\n",
       " {'id': 477,\n",
       "  'image_id': 59,\n",
       "  'category_id': 2,\n",
       "  'bbox': [273, 291, 19, 18.75],\n",
       "  'area': 356.25,\n",
       "  'segmentation': [[292, 310, 292, 291.25, 273, 291.25, 273, 310, 292, 310]],\n",
       "  'iscrowd': 0},\n",
       " {'id': 478,\n",
       "  'image_id': 59,\n",
       "  'category_id': 2,\n",
       "  'bbox': [213, 294, 19, 18.75],\n",
       "  'area': 356.25,\n",
       "  'segmentation': [[232,\n",
       "    312.5,\n",
       "    232,\n",
       "    293.75,\n",
       "    213,\n",
       "    293.75,\n",
       "    213,\n",
       "    312.5,\n",
       "    232,\n",
       "    312.5]],\n",
       "  'iscrowd': 0},\n",
       " {'id': 479,\n",
       "  'image_id': 59,\n",
       "  'category_id': 2,\n",
       "  'bbox': [0, 380, 59, 160],\n",
       "  'area': 9440,\n",
       "  'segmentation': [[0, 540, 59, 540, 59, 380, 0, 380, 0, 540]],\n",
       "  'iscrowd': 0},\n",
       " {'id': 480,\n",
       "  'image_id': 60,\n",
       "  'category_id': 2,\n",
       "  'bbox': [344, 256, 83, 75],\n",
       "  'area': 6225,\n",
       "  'segmentation': [[427,\n",
       "    331.25,\n",
       "    427,\n",
       "    256.25,\n",
       "    344,\n",
       "    256.25,\n",
       "    344,\n",
       "    331.25,\n",
       "    427,\n",
       "    331.25]],\n",
       "  'iscrowd': 0},\n",
       " {'id': 481,\n",
       "  'image_id': 60,\n",
       "  'category_id': 2,\n",
       "  'bbox': [426, 266, 50, 68.75],\n",
       "  'area': 3437.5,\n",
       "  'segmentation': [[476, 335, 476, 266.25, 426, 266.25, 426, 335, 476, 335]],\n",
       "  'iscrowd': 0},\n",
       " {'id': 482,\n",
       "  'image_id': 60,\n",
       "  'category_id': 2,\n",
       "  'bbox': [586, 301, 53, 65],\n",
       "  'area': 3445,\n",
       "  'segmentation': [[639,\n",
       "    366.25,\n",
       "    639,\n",
       "    301.25,\n",
       "    586,\n",
       "    301.25,\n",
       "    586,\n",
       "    366.25,\n",
       "    639,\n",
       "    366.25]],\n",
       "  'iscrowd': 0},\n",
       " {'id': 483,\n",
       "  'image_id': 60,\n",
       "  'category_id': 2,\n",
       "  'bbox': [190, 275, 35, 45],\n",
       "  'area': 1575,\n",
       "  'segmentation': [[225, 320, 225, 275, 190, 275, 190, 320, 225, 320]],\n",
       "  'iscrowd': 0},\n",
       " {'id': 484,\n",
       "  'image_id': 60,\n",
       "  'category_id': 4,\n",
       "  'bbox': [214, 243, 37, 101.25],\n",
       "  'area': 3746.25,\n",
       "  'segmentation': [[251,\n",
       "    343.75,\n",
       "    251,\n",
       "    242.5,\n",
       "    214,\n",
       "    242.5,\n",
       "    214,\n",
       "    343.75,\n",
       "    251,\n",
       "    343.75]],\n",
       "  'iscrowd': 0},\n",
       " {'id': 485,\n",
       "  'image_id': 60,\n",
       "  'category_id': 4,\n",
       "  'bbox': [152, 256, 33, 82.5],\n",
       "  'area': 2722.5,\n",
       "  'segmentation': [[185,\n",
       "    338.75,\n",
       "    185,\n",
       "    256.25,\n",
       "    152,\n",
       "    256.25,\n",
       "    152,\n",
       "    338.75,\n",
       "    185,\n",
       "    338.75]],\n",
       "  'iscrowd': 0},\n",
       " {'id': 486,\n",
       "  'image_id': 60,\n",
       "  'category_id': 4,\n",
       "  'bbox': [118, 254, 38, 85],\n",
       "  'area': 3230,\n",
       "  'segmentation': [[156,\n",
       "    338.75,\n",
       "    156,\n",
       "    253.75,\n",
       "    118,\n",
       "    253.75,\n",
       "    118,\n",
       "    338.75,\n",
       "    156,\n",
       "    338.75]],\n",
       "  'iscrowd': 0},\n",
       " {'id': 487,\n",
       "  'image_id': 60,\n",
       "  'category_id': 4,\n",
       "  'bbox': [50, 239, 24, 77.5],\n",
       "  'area': 1860,\n",
       "  'segmentation': [[74,\n",
       "    316.25,\n",
       "    74,\n",
       "    238.75,\n",
       "    50,\n",
       "    238.75,\n",
       "    50,\n",
       "    316.25,\n",
       "    74,\n",
       "    316.25]],\n",
       "  'iscrowd': 0},\n",
       " {'id': 488,\n",
       "  'image_id': 60,\n",
       "  'category_id': 4,\n",
       "  'bbox': [31, 233, 24, 87.5],\n",
       "  'area': 2100,\n",
       "  'segmentation': [[55, 320, 55, 232.5, 31, 232.5, 31, 320, 55, 320]],\n",
       "  'iscrowd': 0},\n",
       " {'id': 489,\n",
       "  'image_id': 60,\n",
       "  'category_id': 2,\n",
       "  'bbox': [307, 285, 36, 23.75],\n",
       "  'area': 855,\n",
       "  'segmentation': [[343,\n",
       "    308.75,\n",
       "    343,\n",
       "    285,\n",
       "    307,\n",
       "    285,\n",
       "    307,\n",
       "    308.75,\n",
       "    343,\n",
       "    308.75]],\n",
       "  'iscrowd': 0},\n",
       " {'id': 490,\n",
       "  'image_id': 62,\n",
       "  'category_id': 2,\n",
       "  'bbox': [344, 261, 40, 50],\n",
       "  'area': 2000,\n",
       "  'segmentation': [[384,\n",
       "    311.25,\n",
       "    384,\n",
       "    261.25,\n",
       "    344,\n",
       "    261.25,\n",
       "    344,\n",
       "    311.25,\n",
       "    384,\n",
       "    311.25]],\n",
       "  'iscrowd': 0},\n",
       " {'id': 491,\n",
       "  'image_id': 62,\n",
       "  'category_id': 2,\n",
       "  'bbox': [360, 279, 29, 41.25],\n",
       "  'area': 1196.25,\n",
       "  'segmentation': [[389, 320, 389, 278.75, 360, 278.75, 360, 320, 389, 320]],\n",
       "  'iscrowd': 0},\n",
       " {'id': 492,\n",
       "  'image_id': 62,\n",
       "  'category_id': 2,\n",
       "  'bbox': [421, 254, 49, 62.5],\n",
       "  'area': 3062.5,\n",
       "  'segmentation': [[470,\n",
       "    316.25,\n",
       "    470,\n",
       "    253.75,\n",
       "    421,\n",
       "    253.75,\n",
       "    421,\n",
       "    316.25,\n",
       "    470,\n",
       "    316.25]],\n",
       "  'iscrowd': 0},\n",
       " {'id': 493,\n",
       "  'image_id': 62,\n",
       "  'category_id': 4,\n",
       "  'bbox': [328, 260, 17, 73.75],\n",
       "  'area': 1253.75,\n",
       "  'segmentation': [[345,\n",
       "    333.75,\n",
       "    345,\n",
       "    260,\n",
       "    328,\n",
       "    260,\n",
       "    328,\n",
       "    333.75,\n",
       "    345,\n",
       "    333.75]],\n",
       "  'iscrowd': 0},\n",
       " {'id': 494,\n",
       "  'image_id': 62,\n",
       "  'category_id': 4,\n",
       "  'bbox': [280, 261, 18, 75],\n",
       "  'area': 1350,\n",
       "  'segmentation': [[298,\n",
       "    336.25,\n",
       "    298,\n",
       "    261.25,\n",
       "    280,\n",
       "    261.25,\n",
       "    280,\n",
       "    336.25,\n",
       "    298,\n",
       "    336.25]],\n",
       "  'iscrowd': 0},\n",
       " {'id': 495,\n",
       "  'image_id': 62,\n",
       "  'category_id': 4,\n",
       "  'bbox': [253, 263, 27, 75],\n",
       "  'area': 2025,\n",
       "  'segmentation': [[280,\n",
       "    337.5,\n",
       "    280,\n",
       "    262.5,\n",
       "    253,\n",
       "    262.5,\n",
       "    253,\n",
       "    337.5,\n",
       "    280,\n",
       "    337.5]],\n",
       "  'iscrowd': 0},\n",
       " {'id': 496,\n",
       "  'image_id': 62,\n",
       "  'category_id': 4,\n",
       "  'bbox': [464, 223, 47, 195],\n",
       "  'area': 9165,\n",
       "  'segmentation': [[511,\n",
       "    417.5,\n",
       "    511,\n",
       "    222.5,\n",
       "    464,\n",
       "    222.5,\n",
       "    464,\n",
       "    417.5,\n",
       "    511,\n",
       "    417.5]],\n",
       "  'iscrowd': 0},\n",
       " {'id': 497,\n",
       "  'image_id': 62,\n",
       "  'category_id': 4,\n",
       "  'bbox': [504, 215, 26, 88.75],\n",
       "  'area': 2307.5,\n",
       "  'segmentation': [[530,\n",
       "    303.75,\n",
       "    530,\n",
       "    215,\n",
       "    504,\n",
       "    215,\n",
       "    504,\n",
       "    303.75,\n",
       "    530,\n",
       "    303.75]],\n",
       "  'iscrowd': 0},\n",
       " {'id': 498,\n",
       "  'image_id': 62,\n",
       "  'category_id': 4,\n",
       "  'bbox': [578, 231, 30, 182.5],\n",
       "  'area': 5475,\n",
       "  'segmentation': [[608,\n",
       "    413.75,\n",
       "    608,\n",
       "    231.25,\n",
       "    578,\n",
       "    231.25,\n",
       "    578,\n",
       "    413.75,\n",
       "    608,\n",
       "    413.75]],\n",
       "  'iscrowd': 0},\n",
       " {'id': 499,\n",
       "  'image_id': 62,\n",
       "  'category_id': 4,\n",
       "  'bbox': [557, 215, 31, 155],\n",
       "  'area': 4805,\n",
       "  'segmentation': [[588, 370, 588, 215, 557, 215, 557, 370, 588, 370]],\n",
       "  'iscrowd': 0},\n",
       " {'id': 500,\n",
       "  'image_id': 62,\n",
       "  'category_id': 4,\n",
       "  'bbox': [495, 205, 118, 336.25],\n",
       "  'area': 39677.5,\n",
       "  'segmentation': [[613,\n",
       "    541.25,\n",
       "    613,\n",
       "    205,\n",
       "    495,\n",
       "    205,\n",
       "    495,\n",
       "    541.25,\n",
       "    613,\n",
       "    541.25]],\n",
       "  'iscrowd': 0},\n",
       " {'id': 501,\n",
       "  'image_id': 62,\n",
       "  'category_id': 2,\n",
       "  'bbox': [180, 280, 55, 55],\n",
       "  'area': 3025,\n",
       "  'segmentation': [[235, 335, 235, 280, 180, 280, 180, 335, 235, 335]],\n",
       "  'iscrowd': 0},\n",
       " {'id': 502,\n",
       "  'image_id': 62,\n",
       "  'category_id': 4,\n",
       "  'bbox': [88, 279, 12, 25],\n",
       "  'area': 300,\n",
       "  'segmentation': [[100,\n",
       "    303.75,\n",
       "    100,\n",
       "    278.75,\n",
       "    88,\n",
       "    278.75,\n",
       "    88,\n",
       "    303.75,\n",
       "    100,\n",
       "    303.75]],\n",
       "  'iscrowd': 0},\n",
       " {'id': 503,\n",
       "  'image_id': 63,\n",
       "  'category_id': 2,\n",
       "  'bbox': [469, 220, 170, 80],\n",
       "  'area': 13600,\n",
       "  'segmentation': [[639, 300, 639, 220, 469, 220, 469, 300, 639, 300]],\n",
       "  'iscrowd': 0},\n",
       " {'id': 504,\n",
       "  'image_id': 63,\n",
       "  'category_id': 4,\n",
       "  'bbox': [403, 275, 18, 27.5],\n",
       "  'area': 495,\n",
       "  'segmentation': [[421, 302.5, 421, 275, 403, 275, 403, 302.5, 421, 302.5]],\n",
       "  'iscrowd': 0},\n",
       " {'id': 505,\n",
       "  'image_id': 63,\n",
       "  'category_id': 2,\n",
       "  'bbox': [266, 265, 16, 18.75],\n",
       "  'area': 300,\n",
       "  'segmentation': [[282,\n",
       "    283.75,\n",
       "    282,\n",
       "    265,\n",
       "    266,\n",
       "    265,\n",
       "    266,\n",
       "    283.75,\n",
       "    282,\n",
       "    283.75]],\n",
       "  'iscrowd': 0},\n",
       " {'id': 506,\n",
       "  'image_id': 63,\n",
       "  'category_id': 2,\n",
       "  'bbox': [605, 254, 34, 40],\n",
       "  'area': 1360,\n",
       "  'segmentation': [[639,\n",
       "    293.75,\n",
       "    639,\n",
       "    253.75,\n",
       "    605,\n",
       "    253.75,\n",
       "    605,\n",
       "    293.75,\n",
       "    639,\n",
       "    293.75]],\n",
       "  'iscrowd': 0},\n",
       " {'id': 507,\n",
       "  'image_id': 64,\n",
       "  'category_id': 2,\n",
       "  'bbox': [348, 263, 47, 57.5],\n",
       "  'area': 2702.5,\n",
       "  'segmentation': [[395, 320, 395, 262.5, 348, 262.5, 348, 320, 395, 320]],\n",
       "  'iscrowd': 0},\n",
       " {'id': 508,\n",
       "  'image_id': 64,\n",
       "  'category_id': 2,\n",
       "  'bbox': [0, 278, 67, 156.25],\n",
       "  'area': 10468.75,\n",
       "  'segmentation': [[0, 433.75, 67, 433.75, 67, 277.5, 0, 277.5, 0, 433.75]],\n",
       "  'iscrowd': 0},\n",
       " {'id': 509,\n",
       "  'image_id': 65,\n",
       "  'category_id': 2,\n",
       "  'bbox': [478, 281, 161, 171.25],\n",
       "  'area': 27571.25,\n",
       "  'segmentation': [[639,\n",
       "    452.5,\n",
       "    639,\n",
       "    281.25,\n",
       "    478,\n",
       "    281.25,\n",
       "    478,\n",
       "    452.5,\n",
       "    639,\n",
       "    452.5]],\n",
       "  'iscrowd': 0},\n",
       " {'id': 510,\n",
       "  'image_id': 65,\n",
       "  'category_id': 2,\n",
       "  'bbox': [25, 283, 93, 78.75],\n",
       "  'area': 7323.75,\n",
       "  'segmentation': [[118,\n",
       "    361.25,\n",
       "    118,\n",
       "    282.5,\n",
       "    25,\n",
       "    282.5,\n",
       "    25,\n",
       "    361.25,\n",
       "    118,\n",
       "    361.25]],\n",
       "  'iscrowd': 0},\n",
       " {'id': 511,\n",
       "  'image_id': 65,\n",
       "  'category_id': 2,\n",
       "  'bbox': [341, 290, 56, 51.25],\n",
       "  'area': 2870,\n",
       "  'segmentation': [[397,\n",
       "    341.25,\n",
       "    397,\n",
       "    290,\n",
       "    341,\n",
       "    290,\n",
       "    341,\n",
       "    341.25,\n",
       "    397,\n",
       "    341.25]],\n",
       "  'iscrowd': 0},\n",
       " {'id': 512,\n",
       "  'image_id': 65,\n",
       "  'category_id': 2,\n",
       "  'bbox': [197, 291, 27, 28.75],\n",
       "  'area': 776.25,\n",
       "  'segmentation': [[224, 320, 224, 291.25, 197, 291.25, 197, 320, 224, 320]],\n",
       "  'iscrowd': 0},\n",
       " {'id': 513,\n",
       "  'image_id': 65,\n",
       "  'category_id': 2,\n",
       "  'bbox': [389, 288, 29, 28.75],\n",
       "  'area': 833.75,\n",
       "  'segmentation': [[418,\n",
       "    316.25,\n",
       "    418,\n",
       "    287.5,\n",
       "    389,\n",
       "    287.5,\n",
       "    389,\n",
       "    316.25,\n",
       "    418,\n",
       "    316.25]],\n",
       "  'iscrowd': 0},\n",
       " {'id': 514,\n",
       "  'image_id': 65,\n",
       "  'category_id': 2,\n",
       "  'bbox': [326, 294, 25, 31.25],\n",
       "  'area': 781.25,\n",
       "  'segmentation': [[351, 325, 351, 293.75, 326, 293.75, 326, 325, 351, 325]],\n",
       "  'iscrowd': 0},\n",
       " {'id': 515,\n",
       "  'image_id': 65,\n",
       "  'category_id': 2,\n",
       "  'bbox': [304, 293, 18, 18.75],\n",
       "  'area': 337.5,\n",
       "  'segmentation': [[322,\n",
       "    311.25,\n",
       "    322,\n",
       "    292.5,\n",
       "    304,\n",
       "    292.5,\n",
       "    304,\n",
       "    311.25,\n",
       "    322,\n",
       "    311.25]],\n",
       "  'iscrowd': 0},\n",
       " {'id': 516,\n",
       "  'image_id': 65,\n",
       "  'category_id': 2,\n",
       "  'bbox': [282, 295, 17, 17.5],\n",
       "  'area': 297.5,\n",
       "  'segmentation': [[299, 312.5, 299, 295, 282, 295, 282, 312.5, 299, 312.5]],\n",
       "  'iscrowd': 0},\n",
       " {'id': 517,\n",
       "  'image_id': 65,\n",
       "  'category_id': 2,\n",
       "  'bbox': [230, 295, 17, 17.5],\n",
       "  'area': 297.5,\n",
       "  'segmentation': [[247, 312.5, 247, 295, 230, 295, 230, 312.5, 247, 312.5]],\n",
       "  'iscrowd': 0},\n",
       " {'id': 518,\n",
       "  'image_id': 66,\n",
       "  'category_id': 4,\n",
       "  'bbox': [236, 296, 14, 42.5],\n",
       "  'area': 595,\n",
       "  'segmentation': [[250,\n",
       "    338.75,\n",
       "    250,\n",
       "    296.25,\n",
       "    236,\n",
       "    296.25,\n",
       "    236,\n",
       "    338.75,\n",
       "    250,\n",
       "    338.75]],\n",
       "  'iscrowd': 0},\n",
       " {'id': 519,\n",
       "  'image_id': 66,\n",
       "  'category_id': 4,\n",
       "  'bbox': [221, 294, 17, 47.5],\n",
       "  'area': 807.5,\n",
       "  'segmentation': [[238,\n",
       "    341.25,\n",
       "    238,\n",
       "    293.75,\n",
       "    221,\n",
       "    293.75,\n",
       "    221,\n",
       "    341.25,\n",
       "    238,\n",
       "    341.25]],\n",
       "  'iscrowd': 0},\n",
       " {'id': 520,\n",
       "  'image_id': 66,\n",
       "  'category_id': 2,\n",
       "  'bbox': [324, 304, 15, 18.75],\n",
       "  'area': 281.25,\n",
       "  'segmentation': [[339,\n",
       "    322.5,\n",
       "    339,\n",
       "    303.75,\n",
       "    324,\n",
       "    303.75,\n",
       "    324,\n",
       "    322.5,\n",
       "    339,\n",
       "    322.5]],\n",
       "  'iscrowd': 0},\n",
       " {'id': 521,\n",
       "  'image_id': 66,\n",
       "  'category_id': 4,\n",
       "  'bbox': [285, 300, 9, 18.75],\n",
       "  'area': 168.75,\n",
       "  'segmentation': [[294,\n",
       "    318.75,\n",
       "    294,\n",
       "    300,\n",
       "    285,\n",
       "    300,\n",
       "    285,\n",
       "    318.75,\n",
       "    294,\n",
       "    318.75]],\n",
       "  'iscrowd': 0},\n",
       " {'id': 522,\n",
       "  'image_id': 66,\n",
       "  'category_id': 4,\n",
       "  'bbox': [279, 300, 9, 22.5],\n",
       "  'area': 202.5,\n",
       "  'segmentation': [[288, 322.5, 288, 300, 279, 300, 279, 322.5, 288, 322.5]],\n",
       "  'iscrowd': 0},\n",
       " {'id': 523,\n",
       "  'image_id': 67,\n",
       "  'category_id': 4,\n",
       "  'bbox': [477, 256, 12, 33.75],\n",
       "  'area': 405,\n",
       "  'segmentation': [[489, 290, 489, 256.25, 477, 256.25, 477, 290, 489, 290]],\n",
       "  'iscrowd': 0},\n",
       " {'id': 524,\n",
       "  'image_id': 67,\n",
       "  'category_id': 4,\n",
       "  'bbox': [464, 258, 12, 33.75],\n",
       "  'area': 405,\n",
       "  'segmentation': [[476,\n",
       "    291.25,\n",
       "    476,\n",
       "    257.5,\n",
       "    464,\n",
       "    257.5,\n",
       "    464,\n",
       "    291.25,\n",
       "    476,\n",
       "    291.25]],\n",
       "  'iscrowd': 0},\n",
       " {'id': 525,\n",
       "  'image_id': 67,\n",
       "  'category_id': 2,\n",
       "  'bbox': [452, 230, 187, 247.5],\n",
       "  'area': 46282.5,\n",
       "  'segmentation': [[639, 477.5, 639, 230, 452, 230, 452, 477.5, 639, 477.5]],\n",
       "  'iscrowd': 0},\n",
       " {'id': 526,\n",
       "  'image_id': 67,\n",
       "  'category_id': 2,\n",
       "  'bbox': [269, 259, 14, 17.5],\n",
       "  'area': 245,\n",
       "  'segmentation': [[283,\n",
       "    276.25,\n",
       "    283,\n",
       "    258.75,\n",
       "    269,\n",
       "    258.75,\n",
       "    269,\n",
       "    276.25,\n",
       "    283,\n",
       "    276.25]],\n",
       "  'iscrowd': 0},\n",
       " {'id': 527,\n",
       "  'image_id': 67,\n",
       "  'category_id': 2,\n",
       "  'bbox': [255, 268, 23, 27.5],\n",
       "  'area': 632.5,\n",
       "  'segmentation': [[278, 295, 278, 267.5, 255, 267.5, 255, 295, 278, 295]],\n",
       "  'iscrowd': 0},\n",
       " {'id': 528,\n",
       "  'image_id': 67,\n",
       "  'category_id': 2,\n",
       "  'bbox': [237, 258, 15, 18.75],\n",
       "  'area': 281.25,\n",
       "  'segmentation': [[252,\n",
       "    276.25,\n",
       "    252,\n",
       "    257.5,\n",
       "    237,\n",
       "    257.5,\n",
       "    237,\n",
       "    276.25,\n",
       "    252,\n",
       "    276.25]],\n",
       "  'iscrowd': 0},\n",
       " {'id': 529,\n",
       "  'image_id': 67,\n",
       "  'category_id': 2,\n",
       "  'bbox': [228, 263, 13, 18.75],\n",
       "  'area': 243.75,\n",
       "  'segmentation': [[241,\n",
       "    281.25,\n",
       "    241,\n",
       "    262.5,\n",
       "    228,\n",
       "    262.5,\n",
       "    228,\n",
       "    281.25,\n",
       "    241,\n",
       "    281.25]],\n",
       "  'iscrowd': 0},\n",
       " {'id': 530,\n",
       "  'image_id': 67,\n",
       "  'category_id': 2,\n",
       "  'bbox': [214, 256, 12, 20],\n",
       "  'area': 240,\n",
       "  'segmentation': [[226,\n",
       "    276.25,\n",
       "    226,\n",
       "    256.25,\n",
       "    214,\n",
       "    256.25,\n",
       "    214,\n",
       "    276.25,\n",
       "    226,\n",
       "    276.25]],\n",
       "  'iscrowd': 0},\n",
       " {'id': 531,\n",
       "  'image_id': 67,\n",
       "  'category_id': 4,\n",
       "  'bbox': [62, 268, 15, 50],\n",
       "  'area': 750,\n",
       "  'segmentation': [[77, 317.5, 77, 267.5, 62, 267.5, 62, 317.5, 77, 317.5]],\n",
       "  'iscrowd': 0},\n",
       " {'id': 532,\n",
       "  'image_id': 68,\n",
       "  'category_id': 2,\n",
       "  'bbox': [80, 256, 61, 65],\n",
       "  'area': 3965,\n",
       "  'segmentation': [[141,\n",
       "    321.25,\n",
       "    141,\n",
       "    256.25,\n",
       "    80,\n",
       "    256.25,\n",
       "    80,\n",
       "    321.25,\n",
       "    141,\n",
       "    321.25]],\n",
       "  'iscrowd': 0},\n",
       " {'id': 533,\n",
       "  'image_id': 68,\n",
       "  'category_id': 2,\n",
       "  'bbox': [140, 260, 94, 86.25],\n",
       "  'area': 8107.5,\n",
       "  'segmentation': [[234,\n",
       "    346.25,\n",
       "    234,\n",
       "    260,\n",
       "    140,\n",
       "    260,\n",
       "    140,\n",
       "    346.25,\n",
       "    234,\n",
       "    346.25]],\n",
       "  'iscrowd': 0},\n",
       " {'id': 534,\n",
       "  'image_id': 68,\n",
       "  'category_id': 2,\n",
       "  'bbox': [274, 236, 45, 48.75],\n",
       "  'area': 2193.75,\n",
       "  'segmentation': [[319, 285, 319, 236.25, 274, 236.25, 274, 285, 319, 285]],\n",
       "  'iscrowd': 0},\n",
       " {'id': 535,\n",
       "  'image_id': 68,\n",
       "  'category_id': 4,\n",
       "  'bbox': [585, 188, 43, 136.25],\n",
       "  'area': 5858.75,\n",
       "  'segmentation': [[628,\n",
       "    323.75,\n",
       "    628,\n",
       "    187.5,\n",
       "    585,\n",
       "    187.5,\n",
       "    585,\n",
       "    323.75,\n",
       "    628,\n",
       "    323.75]],\n",
       "  'iscrowd': 0},\n",
       " {'id': 536,\n",
       "  'image_id': 68,\n",
       "  'category_id': 4,\n",
       "  'bbox': [542, 211, 35, 108.75],\n",
       "  'area': 3806.25,\n",
       "  'segmentation': [[577, 320, 577, 211.25, 542, 211.25, 542, 320, 577, 320]],\n",
       "  'iscrowd': 0},\n",
       " {'id': 537,\n",
       "  'image_id': 68,\n",
       "  'category_id': 2,\n",
       "  'bbox': [204, 245, 32, 27.5],\n",
       "  'area': 880,\n",
       "  'segmentation': [[236, 272.5, 236, 245, 204, 245, 204, 272.5, 236, 272.5]],\n",
       "  'iscrowd': 0},\n",
       " {'id': 538,\n",
       "  'image_id': 68,\n",
       "  'category_id': 2,\n",
       "  'bbox': [233, 246, 20, 17.5],\n",
       "  'area': 350,\n",
       "  'segmentation': [[253,\n",
       "    263.75,\n",
       "    253,\n",
       "    246.25,\n",
       "    233,\n",
       "    246.25,\n",
       "    233,\n",
       "    263.75,\n",
       "    253,\n",
       "    263.75]],\n",
       "  'iscrowd': 0},\n",
       " {'id': 539,\n",
       "  'image_id': 69,\n",
       "  'category_id': 2,\n",
       "  'bbox': [0, 261, 66, 62.5],\n",
       "  'area': 4125,\n",
       "  'segmentation': [[0, 323.75, 66, 323.75, 66, 261.25, 0, 261.25, 0, 323.75]],\n",
       "  'iscrowd': 0},\n",
       " {'id': 540,\n",
       "  'image_id': 69,\n",
       "  'category_id': 2,\n",
       "  'bbox': [74, 269, 28, 32.5],\n",
       "  'area': 910,\n",
       "  'segmentation': [[102,\n",
       "    301.25,\n",
       "    102,\n",
       "    268.75,\n",
       "    74,\n",
       "    268.75,\n",
       "    74,\n",
       "    301.25,\n",
       "    102,\n",
       "    301.25]],\n",
       "  'iscrowd': 0},\n",
       " {'id': 541,\n",
       "  'image_id': 69,\n",
       "  'category_id': 2,\n",
       "  'bbox': [194, 264, 40, 30],\n",
       "  'area': 1200,\n",
       "  'segmentation': [[234,\n",
       "    293.75,\n",
       "    234,\n",
       "    263.75,\n",
       "    194,\n",
       "    263.75,\n",
       "    194,\n",
       "    293.75,\n",
       "    234,\n",
       "    293.75]],\n",
       "  'iscrowd': 0},\n",
       " {'id': 542,\n",
       "  'image_id': 69,\n",
       "  'category_id': 2,\n",
       "  'bbox': [136, 271, 36, 15],\n",
       "  'area': 540,\n",
       "  'segmentation': [[172,\n",
       "    286.25,\n",
       "    172,\n",
       "    271.25,\n",
       "    136,\n",
       "    271.25,\n",
       "    136,\n",
       "    286.25,\n",
       "    172,\n",
       "    286.25]],\n",
       "  'iscrowd': 0},\n",
       " {'id': 543,\n",
       "  'image_id': 70,\n",
       "  'category_id': 4,\n",
       "  'bbox': [93, 274, 18, 48.75],\n",
       "  'area': 877.5,\n",
       "  'segmentation': [[111,\n",
       "    322.5,\n",
       "    111,\n",
       "    273.75,\n",
       "    93,\n",
       "    273.75,\n",
       "    93,\n",
       "    322.5,\n",
       "    111,\n",
       "    322.5]],\n",
       "  'iscrowd': 0},\n",
       " {'id': 544,\n",
       "  'image_id': 70,\n",
       "  'category_id': 4,\n",
       "  'bbox': [110, 273, 16, 32.5],\n",
       "  'area': 520,\n",
       "  'segmentation': [[126, 305, 126, 272.5, 110, 272.5, 110, 305, 126, 305]],\n",
       "  'iscrowd': 0},\n",
       " {'id': 545,\n",
       "  'image_id': 70,\n",
       "  'category_id': 4,\n",
       "  'bbox': [130, 279, 24, 83.75],\n",
       "  'area': 2010,\n",
       "  'segmentation': [[154,\n",
       "    362.5,\n",
       "    154,\n",
       "    278.75,\n",
       "    130,\n",
       "    278.75,\n",
       "    130,\n",
       "    362.5,\n",
       "    154,\n",
       "    362.5]],\n",
       "  'iscrowd': 0},\n",
       " {'id': 546,\n",
       "  'image_id': 70,\n",
       "  'category_id': 4,\n",
       "  'bbox': [619, 259, 20, 83.75],\n",
       "  'area': 1675,\n",
       "  'segmentation': [[639,\n",
       "    342.5,\n",
       "    639,\n",
       "    258.75,\n",
       "    619,\n",
       "    258.75,\n",
       "    619,\n",
       "    342.5,\n",
       "    639,\n",
       "    342.5]],\n",
       "  'iscrowd': 0},\n",
       " {'id': 547,\n",
       "  'image_id': 70,\n",
       "  'category_id': 2,\n",
       "  'bbox': [513, 261, 60, 65],\n",
       "  'area': 3900,\n",
       "  'segmentation': [[573,\n",
       "    326.25,\n",
       "    573,\n",
       "    261.25,\n",
       "    513,\n",
       "    261.25,\n",
       "    513,\n",
       "    326.25,\n",
       "    573,\n",
       "    326.25]],\n",
       "  'iscrowd': 0},\n",
       " {'id': 548,\n",
       "  'image_id': 70,\n",
       "  'category_id': 2,\n",
       "  'bbox': [470, 271, 34, 41.25],\n",
       "  'area': 1402.5,\n",
       "  'segmentation': [[504,\n",
       "    312.5,\n",
       "    504,\n",
       "    271.25,\n",
       "    470,\n",
       "    271.25,\n",
       "    470,\n",
       "    312.5,\n",
       "    504,\n",
       "    312.5]],\n",
       "  'iscrowd': 0},\n",
       " {'id': 549,\n",
       "  'image_id': 70,\n",
       "  'category_id': 2,\n",
       "  'bbox': [185, 240, 336, 313.75],\n",
       "  'area': 105420,\n",
       "  'segmentation': [[521,\n",
       "    553.75,\n",
       "    521,\n",
       "    240,\n",
       "    185,\n",
       "    240,\n",
       "    185,\n",
       "    553.75,\n",
       "    521,\n",
       "    553.75]],\n",
       "  'iscrowd': 0},\n",
       " {'id': 550,\n",
       "  'image_id': 70,\n",
       "  'category_id': 2,\n",
       "  'bbox': [146, 280, 70, 46.25],\n",
       "  'area': 3237.5,\n",
       "  'segmentation': [[216,\n",
       "    326.25,\n",
       "    216,\n",
       "    280,\n",
       "    146,\n",
       "    280,\n",
       "    146,\n",
       "    326.25,\n",
       "    216,\n",
       "    326.25]],\n",
       "  'iscrowd': 0},\n",
       " {'id': 551,\n",
       "  'image_id': 70,\n",
       "  'category_id': 2,\n",
       "  'bbox': [0, 324, 17, 78.75],\n",
       "  'area': 1338.75,\n",
       "  'segmentation': [[0, 402.5, 17, 402.5, 17, 323.75, 0, 323.75, 0, 402.5]],\n",
       "  'iscrowd': 0},\n",
       " {'id': 552,\n",
       "  'image_id': 70,\n",
       "  'category_id': 2,\n",
       "  'bbox': [618, 394, 20, 152.5],\n",
       "  'area': 3050,\n",
       "  'segmentation': [[638,\n",
       "    546.25,\n",
       "    638,\n",
       "    393.75,\n",
       "    618,\n",
       "    393.75,\n",
       "    618,\n",
       "    546.25,\n",
       "    638,\n",
       "    546.25]],\n",
       "  'iscrowd': 0},\n",
       " {'id': 553,\n",
       "  'image_id': 70,\n",
       "  'category_id': 4,\n",
       "  'bbox': [21, 288, 18, 40],\n",
       "  'area': 720,\n",
       "  'segmentation': [[39, 327.5, 39, 287.5, 21, 287.5, 21, 327.5, 39, 327.5]],\n",
       "  'iscrowd': 0},\n",
       " {'id': 554,\n",
       "  'image_id': 71,\n",
       "  'category_id': 4,\n",
       "  'bbox': [406, 261, 5, 23.75],\n",
       "  'area': 118.75,\n",
       "  'segmentation': [[411, 285, 411, 261.25, 406, 261.25, 406, 285, 411, 285]],\n",
       "  'iscrowd': 0},\n",
       " {'id': 555,\n",
       "  'image_id': 71,\n",
       "  'category_id': 4,\n",
       "  'bbox': [400, 260, 6, 28.75],\n",
       "  'area': 172.5,\n",
       "  'segmentation': [[406,\n",
       "    288.75,\n",
       "    406,\n",
       "    260,\n",
       "    400,\n",
       "    260,\n",
       "    400,\n",
       "    288.75,\n",
       "    406,\n",
       "    288.75]],\n",
       "  'iscrowd': 0},\n",
       " {'id': 556,\n",
       "  'image_id': 71,\n",
       "  'category_id': 4,\n",
       "  'bbox': [515, 260, 6, 23.75],\n",
       "  'area': 142.5,\n",
       "  'segmentation': [[521,\n",
       "    283.75,\n",
       "    521,\n",
       "    260,\n",
       "    515,\n",
       "    260,\n",
       "    515,\n",
       "    283.75,\n",
       "    521,\n",
       "    283.75]],\n",
       "  'iscrowd': 0},\n",
       " {'id': 557,\n",
       "  'image_id': 72,\n",
       "  'category_id': 4,\n",
       "  'bbox': [182, 260, 40, 108.75],\n",
       "  'area': 4350,\n",
       "  'segmentation': [[222,\n",
       "    368.75,\n",
       "    222,\n",
       "    260,\n",
       "    182,\n",
       "    260,\n",
       "    182,\n",
       "    368.75,\n",
       "    222,\n",
       "    368.75]],\n",
       "  'iscrowd': 0},\n",
       " {'id': 558,\n",
       "  'image_id': 72,\n",
       "  'category_id': 2,\n",
       "  'bbox': [382, 276, 88, 60],\n",
       "  'area': 5280,\n",
       "  'segmentation': [[470,\n",
       "    336.25,\n",
       "    470,\n",
       "    276.25,\n",
       "    382,\n",
       "    276.25,\n",
       "    382,\n",
       "    336.25,\n",
       "    470,\n",
       "    336.25]],\n",
       "  'iscrowd': 0},\n",
       " {'id': 559,\n",
       "  'image_id': 72,\n",
       "  'category_id': 2,\n",
       "  'bbox': [209, 221, 187, 212.5],\n",
       "  'area': 39737.5,\n",
       "  'segmentation': [[396,\n",
       "    433.75,\n",
       "    396,\n",
       "    221.25,\n",
       "    209,\n",
       "    221.25,\n",
       "    209,\n",
       "    433.75,\n",
       "    396,\n",
       "    433.75]],\n",
       "  'iscrowd': 0},\n",
       " {'id': 560,\n",
       "  'image_id': 72,\n",
       "  'category_id': 2,\n",
       "  'bbox': [187, 298, 19, 32.5],\n",
       "  'area': 617.5,\n",
       "  'segmentation': [[206, 330, 206, 297.5, 187, 297.5, 187, 330, 206, 330]],\n",
       "  'iscrowd': 0},\n",
       " {'id': 561,\n",
       "  'image_id': 73,\n",
       "  'category_id': 4,\n",
       "  'bbox': [250, 308, 12, 32.5],\n",
       "  'area': 390,\n",
       "  'segmentation': [[262, 340, 262, 307.5, 250, 307.5, 250, 340, 262, 340]],\n",
       "  'iscrowd': 0},\n",
       " {'id': 562,\n",
       "  'image_id': 73,\n",
       "  'category_id': 2,\n",
       "  'bbox': [175, 306, 60, 35],\n",
       "  'area': 2100,\n",
       "  'segmentation': [[235,\n",
       "    341.25,\n",
       "    235,\n",
       "    306.25,\n",
       "    175,\n",
       "    306.25,\n",
       "    175,\n",
       "    341.25,\n",
       "    235,\n",
       "    341.25]],\n",
       "  'iscrowd': 0},\n",
       " {'id': 563,\n",
       "  'image_id': 73,\n",
       "  'category_id': 2,\n",
       "  'bbox': [0, 299, 76, 116.25],\n",
       "  'area': 8835,\n",
       "  'segmentation': [[0, 415, 76, 415, 76, 298.75, 0, 298.75, 0, 415]],\n",
       "  'iscrowd': 0},\n",
       " {'id': 564,\n",
       "  'image_id': 74,\n",
       "  'category_id': 2,\n",
       "  'bbox': [24, 338, 107, 90],\n",
       "  'area': 9630,\n",
       "  'segmentation': [[131, 427.5, 131, 337.5, 24, 337.5, 24, 427.5, 131, 427.5]],\n",
       "  'iscrowd': 0},\n",
       " {'id': 565,\n",
       "  'image_id': 74,\n",
       "  'category_id': 2,\n",
       "  'bbox': [133, 324, 61, 53.75],\n",
       "  'area': 3278.75,\n",
       "  'segmentation': [[194,\n",
       "    377.5,\n",
       "    194,\n",
       "    323.75,\n",
       "    133,\n",
       "    323.75,\n",
       "    133,\n",
       "    377.5,\n",
       "    194,\n",
       "    377.5]],\n",
       "  'iscrowd': 0},\n",
       " {'id': 566,\n",
       "  'image_id': 74,\n",
       "  'category_id': 2,\n",
       "  'bbox': [201, 306, 38, 42.5],\n",
       "  'area': 1615,\n",
       "  'segmentation': [[239,\n",
       "    348.75,\n",
       "    239,\n",
       "    306.25,\n",
       "    201,\n",
       "    306.25,\n",
       "    201,\n",
       "    348.75,\n",
       "    239,\n",
       "    348.75]],\n",
       "  'iscrowd': 0},\n",
       " {'id': 567,\n",
       "  'image_id': 74,\n",
       "  'category_id': 2,\n",
       "  'bbox': [56, 314, 51, 32.5],\n",
       "  'area': 1657.5,\n",
       "  'segmentation': [[107,\n",
       "    346.25,\n",
       "    107,\n",
       "    313.75,\n",
       "    56,\n",
       "    313.75,\n",
       "    56,\n",
       "    346.25,\n",
       "    107,\n",
       "    346.25]],\n",
       "  'iscrowd': 0},\n",
       " {'id': 568,\n",
       "  'image_id': 74,\n",
       "  'category_id': 2,\n",
       "  'bbox': [355, 323, 68, 67.5],\n",
       "  'area': 4590,\n",
       "  'segmentation': [[423, 390, 423, 322.5, 355, 322.5, 355, 390, 423, 390]],\n",
       "  'iscrowd': 0},\n",
       " {'id': 569,\n",
       "  'image_id': 74,\n",
       "  'category_id': 2,\n",
       "  'bbox': [368, 336, 96, 98.75],\n",
       "  'area': 9480,\n",
       "  'segmentation': [[464, 435, 464, 336.25, 368, 336.25, 368, 435, 464, 435]],\n",
       "  'iscrowd': 0},\n",
       " {'id': 570,\n",
       "  'image_id': 74,\n",
       "  'category_id': 4,\n",
       "  'bbox': [554, 328, 32, 140],\n",
       "  'area': 4480,\n",
       "  'segmentation': [[586,\n",
       "    467.5,\n",
       "    586,\n",
       "    327.5,\n",
       "    554,\n",
       "    327.5,\n",
       "    554,\n",
       "    467.5,\n",
       "    586,\n",
       "    467.5]],\n",
       "  'iscrowd': 0},\n",
       " {'id': 571,\n",
       "  'image_id': 74,\n",
       "  'category_id': 2,\n",
       "  'bbox': [2, 319, 55, 53.75],\n",
       "  'area': 2956.25,\n",
       "  'segmentation': [[57, 372.5, 57, 318.75, 2, 318.75, 2, 372.5, 57, 372.5]],\n",
       "  'iscrowd': 0},\n",
       " {'id': 572,\n",
       "  'image_id': 74,\n",
       "  'category_id': 2,\n",
       "  'bbox': [160, 315, 49, 50],\n",
       "  'area': 2450,\n",
       "  'segmentation': [[209, 365, 209, 315, 160, 315, 160, 365, 209, 365]],\n",
       "  'iscrowd': 0},\n",
       " {'id': 573,\n",
       "  'image_id': 74,\n",
       "  'category_id': 2,\n",
       "  'bbox': [232, 315, 16, 26.25],\n",
       "  'area': 420,\n",
       "  'segmentation': [[248,\n",
       "    341.25,\n",
       "    248,\n",
       "    315,\n",
       "    232,\n",
       "    315,\n",
       "    232,\n",
       "    341.25,\n",
       "    248,\n",
       "    341.25]],\n",
       "  'iscrowd': 0},\n",
       " {'id': 574,\n",
       "  'image_id': 74,\n",
       "  'category_id': 2,\n",
       "  'bbox': [238, 311, 18, 26.25],\n",
       "  'area': 472.5,\n",
       "  'segmentation': [[256,\n",
       "    337.5,\n",
       "    256,\n",
       "    311.25,\n",
       "    238,\n",
       "    311.25,\n",
       "    238,\n",
       "    337.5,\n",
       "    256,\n",
       "    337.5]],\n",
       "  'iscrowd': 0},\n",
       " {'id': 575,\n",
       "  'image_id': 74,\n",
       "  'category_id': 2,\n",
       "  'bbox': [332, 315, 22, 26.25],\n",
       "  'area': 577.5,\n",
       "  'segmentation': [[354,\n",
       "    341.25,\n",
       "    354,\n",
       "    315,\n",
       "    332,\n",
       "    315,\n",
       "    332,\n",
       "    341.25,\n",
       "    354,\n",
       "    341.25]],\n",
       "  'iscrowd': 0},\n",
       " {'id': 576,\n",
       "  'image_id': 74,\n",
       "  'category_id': 2,\n",
       "  'bbox': [341, 323, 26, 41.25],\n",
       "  'area': 1072.5,\n",
       "  'segmentation': [[367,\n",
       "    363.75,\n",
       "    367,\n",
       "    322.5,\n",
       "    341,\n",
       "    322.5,\n",
       "    341,\n",
       "    363.75,\n",
       "    367,\n",
       "    363.75]],\n",
       "  'iscrowd': 0},\n",
       " {'id': 577,\n",
       "  'image_id': 74,\n",
       "  'category_id': 4,\n",
       "  'bbox': [264, 306, 12, 25],\n",
       "  'area': 300,\n",
       "  'segmentation': [[276,\n",
       "    331.25,\n",
       "    276,\n",
       "    306.25,\n",
       "    264,\n",
       "    306.25,\n",
       "    264,\n",
       "    331.25,\n",
       "    276,\n",
       "    331.25]],\n",
       "  'iscrowd': 0},\n",
       " {'id': 578,\n",
       "  'image_id': 75,\n",
       "  'category_id': 1,\n",
       "  'bbox': [74, 315, 17, 42.5],\n",
       "  'area': 722.5,\n",
       "  'segmentation': [[91, 357.5, 91, 315, 74, 315, 74, 357.5, 91, 357.5]],\n",
       "  'iscrowd': 0},\n",
       " {'id': 579,\n",
       "  'image_id': 75,\n",
       "  'category_id': 1,\n",
       "  'bbox': [25, 324, 28, 41.25],\n",
       "  'area': 1155,\n",
       "  'segmentation': [[53, 365, 53, 323.75, 25, 323.75, 25, 365, 53, 365]],\n",
       "  'iscrowd': 0},\n",
       " {'id': 580,\n",
       "  'image_id': 75,\n",
       "  'category_id': 4,\n",
       "  'bbox': [18, 266, 36, 85],\n",
       "  'area': 3060,\n",
       "  'segmentation': [[54,\n",
       "    351.25,\n",
       "    54,\n",
       "    266.25,\n",
       "    18,\n",
       "    266.25,\n",
       "    18,\n",
       "    351.25,\n",
       "    54,\n",
       "    351.25]],\n",
       "  'iscrowd': 0},\n",
       " {'id': 581,\n",
       "  'image_id': 75,\n",
       "  'category_id': 4,\n",
       "  'bbox': [64, 271, 31, 76.25],\n",
       "  'area': 2363.75,\n",
       "  'segmentation': [[95, 347.5, 95, 271.25, 64, 271.25, 64, 347.5, 95, 347.5]],\n",
       "  'iscrowd': 0},\n",
       " {'id': 582,\n",
       "  'image_id': 75,\n",
       "  'category_id': 2,\n",
       "  'bbox': [203, 294, 35, 41.25],\n",
       "  'area': 1443.75,\n",
       "  'segmentation': [[238, 335, 238, 293.75, 203, 293.75, 203, 335, 238, 335]],\n",
       "  'iscrowd': 0},\n",
       " {'id': 583,\n",
       "  'image_id': 75,\n",
       "  'category_id': 2,\n",
       "  'bbox': [166, 285, 40, 61.25],\n",
       "  'area': 2450,\n",
       "  'segmentation': [[206,\n",
       "    346.25,\n",
       "    206,\n",
       "    285,\n",
       "    166,\n",
       "    285,\n",
       "    166,\n",
       "    346.25,\n",
       "    206,\n",
       "    346.25]],\n",
       "  'iscrowd': 0},\n",
       " {'id': 584,\n",
       "  'image_id': 75,\n",
       "  'category_id': 2,\n",
       "  'bbox': [92, 285, 94, 85],\n",
       "  'area': 7990,\n",
       "  'segmentation': [[186, 370, 186, 285, 92, 285, 92, 370, 186, 370]],\n",
       "  'iscrowd': 0},\n",
       " {'id': 585,\n",
       "  'image_id': 75,\n",
       "  'category_id': 2,\n",
       "  'bbox': [243, 265, 90, 100],\n",
       "  'area': 9000,\n",
       "  'segmentation': [[333, 365, 333, 265, 243, 265, 243, 365, 333, 365]],\n",
       "  'iscrowd': 0},\n",
       " {'id': 586,\n",
       "  'image_id': 75,\n",
       "  'category_id': 4,\n",
       "  'bbox': [613, 264, 19, 68.75],\n",
       "  'area': 1306.25,\n",
       "  'segmentation': [[632,\n",
       "    332.5,\n",
       "    632,\n",
       "    263.75,\n",
       "    613,\n",
       "    263.75,\n",
       "    613,\n",
       "    332.5,\n",
       "    632,\n",
       "    332.5]],\n",
       "  'iscrowd': 0},\n",
       " {'id': 587,\n",
       "  'image_id': 76,\n",
       "  'category_id': 4,\n",
       "  'bbox': [393, 274, 16, 53.75],\n",
       "  'area': 860,\n",
       "  'segmentation': [[409,\n",
       "    327.5,\n",
       "    409,\n",
       "    273.75,\n",
       "    393,\n",
       "    273.75,\n",
       "    393,\n",
       "    327.5,\n",
       "    409,\n",
       "    327.5]],\n",
       "  'iscrowd': 0},\n",
       " {'id': 588,\n",
       "  'image_id': 76,\n",
       "  'category_id': 4,\n",
       "  'bbox': [501, 253, 37, 127.5],\n",
       "  'area': 4717.5,\n",
       "  'segmentation': [[538, 380, 538, 252.5, 501, 252.5, 501, 380, 538, 380]],\n",
       "  'iscrowd': 0},\n",
       " {'id': 589,\n",
       "  'image_id': 76,\n",
       "  'category_id': 4,\n",
       "  'bbox': [545, 251, 37, 117.5],\n",
       "  'area': 4347.5,\n",
       "  'segmentation': [[582,\n",
       "    368.75,\n",
       "    582,\n",
       "    251.25,\n",
       "    545,\n",
       "    251.25,\n",
       "    545,\n",
       "    368.75,\n",
       "    582,\n",
       "    368.75]],\n",
       "  'iscrowd': 0},\n",
       " {'id': 590,\n",
       "  'image_id': 76,\n",
       "  'category_id': 2,\n",
       "  'bbox': [575, 241, 63, 48.75],\n",
       "  'area': 3071.25,\n",
       "  'segmentation': [[638, 290, 638, 241.25, 575, 241.25, 575, 290, 638, 290]],\n",
       "  'iscrowd': 0},\n",
       " {'id': 591,\n",
       "  'image_id': 76,\n",
       "  'category_id': 2,\n",
       "  'bbox': [577, 273, 62, 78.75],\n",
       "  'area': 4882.5,\n",
       "  'segmentation': [[639,\n",
       "    351.25,\n",
       "    639,\n",
       "    272.5,\n",
       "    577,\n",
       "    272.5,\n",
       "    577,\n",
       "    351.25,\n",
       "    639,\n",
       "    351.25]],\n",
       "  'iscrowd': 0},\n",
       " {'id': 592,\n",
       "  'image_id': 76,\n",
       "  'category_id': 2,\n",
       "  'bbox': [274, 288, 90, 88.75],\n",
       "  'area': 7987.5,\n",
       "  'segmentation': [[364,\n",
       "    376.25,\n",
       "    364,\n",
       "    287.5,\n",
       "    274,\n",
       "    287.5,\n",
       "    274,\n",
       "    376.25,\n",
       "    364,\n",
       "    376.25]],\n",
       "  'iscrowd': 0},\n",
       " {'id': 593,\n",
       "  'image_id': 76,\n",
       "  'category_id': 2,\n",
       "  'bbox': [189, 295, 40, 20],\n",
       "  'area': 800,\n",
       "  'segmentation': [[229, 315, 229, 295, 189, 295, 189, 315, 229, 315]],\n",
       "  'iscrowd': 0},\n",
       " {'id': 594,\n",
       "  'image_id': 76,\n",
       "  'category_id': 4,\n",
       "  'bbox': [72, 301, 15, 21.25],\n",
       "  'area': 318.75,\n",
       "  'segmentation': [[87, 322.5, 87, 301.25, 72, 301.25, 72, 322.5, 87, 322.5]],\n",
       "  'iscrowd': 0},\n",
       " {'id': 595,\n",
       "  'image_id': 76,\n",
       "  'category_id': 4,\n",
       "  'bbox': [380, 280, 12, 33.75],\n",
       "  'area': 405,\n",
       "  'segmentation': [[392,\n",
       "    313.75,\n",
       "    392,\n",
       "    280,\n",
       "    380,\n",
       "    280,\n",
       "    380,\n",
       "    313.75,\n",
       "    392,\n",
       "    313.75]],\n",
       "  'iscrowd': 0},\n",
       " {'id': 596,\n",
       "  'image_id': 76,\n",
       "  'category_id': 4,\n",
       "  'bbox': [371, 280, 12, 32.5],\n",
       "  'area': 390,\n",
       "  'segmentation': [[383, 312.5, 383, 280, 371, 280, 371, 312.5, 383, 312.5]],\n",
       "  'iscrowd': 0},\n",
       " {'id': 597,\n",
       "  'image_id': 76,\n",
       "  'category_id': 4,\n",
       "  'bbox': [352, 279, 12, 25],\n",
       "  'area': 300,\n",
       "  'segmentation': [[364,\n",
       "    303.75,\n",
       "    364,\n",
       "    278.75,\n",
       "    352,\n",
       "    278.75,\n",
       "    352,\n",
       "    303.75,\n",
       "    364,\n",
       "    303.75]],\n",
       "  'iscrowd': 0},\n",
       " {'id': 598,\n",
       "  'image_id': 76,\n",
       "  'category_id': 4,\n",
       "  'bbox': [346, 279, 8, 25],\n",
       "  'area': 200,\n",
       "  'segmentation': [[354,\n",
       "    303.75,\n",
       "    354,\n",
       "    278.75,\n",
       "    346,\n",
       "    278.75,\n",
       "    346,\n",
       "    303.75,\n",
       "    354,\n",
       "    303.75]],\n",
       "  'iscrowd': 0},\n",
       " {'id': 599,\n",
       "  'image_id': 77,\n",
       "  'category_id': 2,\n",
       "  'bbox': [209, 288, 29, 22.5],\n",
       "  'area': 652.5,\n",
       "  'segmentation': [[238, 310, 238, 287.5, 209, 287.5, 209, 310, 238, 310]],\n",
       "  'iscrowd': 0},\n",
       " {'id': 600,\n",
       "  'image_id': 77,\n",
       "  'category_id': 4,\n",
       "  'bbox': [413, 259, 20, 33.75],\n",
       "  'area': 675,\n",
       "  'segmentation': [[433,\n",
       "    292.5,\n",
       "    433,\n",
       "    258.75,\n",
       "    413,\n",
       "    258.75,\n",
       "    413,\n",
       "    292.5,\n",
       "    433,\n",
       "    292.5]],\n",
       "  'iscrowd': 0},\n",
       " {'id': 601,\n",
       "  'image_id': 77,\n",
       "  'category_id': 4,\n",
       "  'bbox': [393, 268, 12, 46.25],\n",
       "  'area': 555,\n",
       "  'segmentation': [[405,\n",
       "    313.75,\n",
       "    405,\n",
       "    267.5,\n",
       "    393,\n",
       "    267.5,\n",
       "    393,\n",
       "    313.75,\n",
       "    405,\n",
       "    313.75]],\n",
       "  'iscrowd': 0},\n",
       " {'id': 602,\n",
       "  'image_id': 77,\n",
       "  'category_id': 4,\n",
       "  'bbox': [369, 268, 15, 50],\n",
       "  'area': 750,\n",
       "  'segmentation': [[384,\n",
       "    317.5,\n",
       "    384,\n",
       "    267.5,\n",
       "    369,\n",
       "    267.5,\n",
       "    369,\n",
       "    317.5,\n",
       "    384,\n",
       "    317.5]],\n",
       "  'iscrowd': 0},\n",
       " {'id': 603,\n",
       "  'image_id': 77,\n",
       "  'category_id': 4,\n",
       "  'bbox': [469, 225, 54, 152.5],\n",
       "  'area': 8235,\n",
       "  'segmentation': [[523, 377.5, 523, 225, 469, 225, 469, 377.5, 523, 377.5]],\n",
       "  'iscrowd': 0},\n",
       " {'id': 604,\n",
       "  'image_id': 77,\n",
       "  'category_id': 4,\n",
       "  'bbox': [609, 218, 30, 153.75],\n",
       "  'area': 4612.5,\n",
       "  'segmentation': [[639,\n",
       "    371.25,\n",
       "    639,\n",
       "    217.5,\n",
       "    609,\n",
       "    217.5,\n",
       "    609,\n",
       "    371.25,\n",
       "    639,\n",
       "    371.25]],\n",
       "  'iscrowd': 0},\n",
       " {'id': 605,\n",
       "  'image_id': 77,\n",
       "  'category_id': 4,\n",
       "  'bbox': [64, 271, 14, 46.25],\n",
       "  'area': 647.5,\n",
       "  'segmentation': [[78, 317.5, 78, 271.25, 64, 271.25, 64, 317.5, 78, 317.5]],\n",
       "  'iscrowd': 0},\n",
       " {'id': 606,\n",
       "  'image_id': 77,\n",
       "  'category_id': 4,\n",
       "  'bbox': [27, 279, 14, 28.75],\n",
       "  'area': 402.5,\n",
       "  'segmentation': [[41, 307.5, 41, 278.75, 27, 278.75, 27, 307.5, 41, 307.5]],\n",
       "  'iscrowd': 0},\n",
       " {'id': 607,\n",
       "  'image_id': 77,\n",
       "  'category_id': 4,\n",
       "  'bbox': [17, 276, 13, 32.5],\n",
       "  'area': 422.5,\n",
       "  'segmentation': [[30,\n",
       "    308.75,\n",
       "    30,\n",
       "    276.25,\n",
       "    17,\n",
       "    276.25,\n",
       "    17,\n",
       "    308.75,\n",
       "    30,\n",
       "    308.75]],\n",
       "  'iscrowd': 0},\n",
       " {'id': 608,\n",
       "  'image_id': 78,\n",
       "  'category_id': 4,\n",
       "  'bbox': [435, 271, 14, 55],\n",
       "  'area': 770,\n",
       "  'segmentation': [[449,\n",
       "    326.25,\n",
       "    449,\n",
       "    271.25,\n",
       "    435,\n",
       "    271.25,\n",
       "    435,\n",
       "    326.25,\n",
       "    449,\n",
       "    326.25]],\n",
       "  'iscrowd': 0},\n",
       " {'id': 609,\n",
       "  'image_id': 78,\n",
       "  'category_id': 4,\n",
       "  'bbox': [374, 270, 19, 57.5],\n",
       "  'area': 1092.5,\n",
       "  'segmentation': [[393, 327.5, 393, 270, 374, 270, 374, 327.5, 393, 327.5]],\n",
       "  'iscrowd': 0},\n",
       " {'id': 610,\n",
       "  'image_id': 78,\n",
       "  'category_id': 4,\n",
       "  'bbox': [394, 273, 15, 57.5],\n",
       "  'area': 862.5,\n",
       "  'segmentation': [[409, 330, 409, 272.5, 394, 272.5, 394, 330, 409, 330]],\n",
       "  'iscrowd': 0},\n",
       " {'id': 611,\n",
       "  'image_id': 78,\n",
       "  'category_id': 4,\n",
       "  'bbox': [406, 274, 13, 57.5],\n",
       "  'area': 747.5,\n",
       "  'segmentation': [[419,\n",
       "    331.25,\n",
       "    419,\n",
       "    273.75,\n",
       "    406,\n",
       "    273.75,\n",
       "    406,\n",
       "    331.25,\n",
       "    419,\n",
       "    331.25]],\n",
       "  'iscrowd': 0},\n",
       " {'id': 612,\n",
       "  'image_id': 78,\n",
       "  'category_id': 2,\n",
       "  'bbox': [472, 271, 72, 35],\n",
       "  'area': 2520,\n",
       "  'segmentation': [[544,\n",
       "    306.25,\n",
       "    544,\n",
       "    271.25,\n",
       "    472,\n",
       "    271.25,\n",
       "    472,\n",
       "    306.25,\n",
       "    544,\n",
       "    306.25]],\n",
       "  'iscrowd': 0},\n",
       " {'id': 613,\n",
       "  'image_id': 78,\n",
       "  'category_id': 2,\n",
       "  'bbox': [475, 268, 34, 21.25],\n",
       "  'area': 722.5,\n",
       "  'segmentation': [[509,\n",
       "    288.75,\n",
       "    509,\n",
       "    267.5,\n",
       "    475,\n",
       "    267.5,\n",
       "    475,\n",
       "    288.75,\n",
       "    509,\n",
       "    288.75]],\n",
       "  'iscrowd': 0},\n",
       " {'id': 614,\n",
       "  'image_id': 79,\n",
       "  'category_id': 2,\n",
       "  'bbox': [367, 233, 64, 75],\n",
       "  'area': 4800,\n",
       "  'segmentation': [[431,\n",
       "    307.5,\n",
       "    431,\n",
       "    232.5,\n",
       "    367,\n",
       "    232.5,\n",
       "    367,\n",
       "    307.5,\n",
       "    431,\n",
       "    307.5]],\n",
       "  'iscrowd': 0},\n",
       " {'id': 615,\n",
       "  'image_id': 80,\n",
       "  'category_id': 4,\n",
       "  'bbox': [323, 240, 15, 46.25],\n",
       "  'area': 693.75,\n",
       "  'segmentation': [[338,\n",
       "    286.25,\n",
       "    338,\n",
       "    240,\n",
       "    323,\n",
       "    240,\n",
       "    323,\n",
       "    286.25,\n",
       "    338,\n",
       "    286.25]],\n",
       "  'iscrowd': 0},\n",
       " {'id': 616,\n",
       "  'image_id': 80,\n",
       "  'category_id': 4,\n",
       "  'bbox': [277, 236, 18, 50],\n",
       "  'area': 900,\n",
       "  'segmentation': [[295,\n",
       "    286.25,\n",
       "    295,\n",
       "    236.25,\n",
       "    277,\n",
       "    236.25,\n",
       "    277,\n",
       "    286.25,\n",
       "    295,\n",
       "    286.25]],\n",
       "  'iscrowd': 0},\n",
       " {'id': 617,\n",
       "  'image_id': 80,\n",
       "  'category_id': 2,\n",
       "  'bbox': [376, 248, 93, 97.5],\n",
       "  'area': 9067.5,\n",
       "  'segmentation': [[469, 345, 469, 247.5, 376, 247.5, 376, 345, 469, 345]],\n",
       "  'iscrowd': 0},\n",
       " {'id': 618,\n",
       "  'image_id': 80,\n",
       "  'category_id': 2,\n",
       "  'bbox': [140, 245, 59, 53.75],\n",
       "  'area': 3171.25,\n",
       "  'segmentation': [[199,\n",
       "    298.75,\n",
       "    199,\n",
       "    245,\n",
       "    140,\n",
       "    245,\n",
       "    140,\n",
       "    298.75,\n",
       "    199,\n",
       "    298.75]],\n",
       "  'iscrowd': 0},\n",
       " {'id': 619,\n",
       "  'image_id': 80,\n",
       "  'category_id': 2,\n",
       "  'bbox': [191, 246, 26, 38.75],\n",
       "  'area': 1007.5,\n",
       "  'segmentation': [[217, 285, 217, 246.25, 191, 246.25, 191, 285, 217, 285]],\n",
       "  'iscrowd': 0},\n",
       " {'id': 620,\n",
       "  'image_id': 80,\n",
       "  'category_id': 2,\n",
       "  'bbox': [354, 241, 35, 61.25],\n",
       "  'area': 2143.75,\n",
       "  'segmentation': [[389,\n",
       "    302.5,\n",
       "    389,\n",
       "    241.25,\n",
       "    354,\n",
       "    241.25,\n",
       "    354,\n",
       "    302.5,\n",
       "    389,\n",
       "    302.5]],\n",
       "  'iscrowd': 0},\n",
       " {'id': 621,\n",
       "  'image_id': 80,\n",
       "  'category_id': 2,\n",
       "  'bbox': [364, 243, 65, 72.5],\n",
       "  'area': 4712.5,\n",
       "  'segmentation': [[429, 315, 429, 242.5, 364, 242.5, 364, 315, 429, 315]],\n",
       "  'iscrowd': 0},\n",
       " {'id': 622,\n",
       "  'image_id': 80,\n",
       "  'category_id': 2,\n",
       "  'bbox': [209, 245, 23, 32.5],\n",
       "  'area': 747.5,\n",
       "  'segmentation': [[232, 277.5, 232, 245, 209, 245, 209, 277.5, 232, 277.5]],\n",
       "  'iscrowd': 0},\n",
       " {'id': 623,\n",
       "  'image_id': 80,\n",
       "  'category_id': 2,\n",
       "  'bbox': [222, 243, 20, 28.75],\n",
       "  'area': 575,\n",
       "  'segmentation': [[242,\n",
       "    271.25,\n",
       "    242,\n",
       "    242.5,\n",
       "    222,\n",
       "    242.5,\n",
       "    222,\n",
       "    271.25,\n",
       "    242,\n",
       "    271.25]],\n",
       "  'iscrowd': 0},\n",
       " {'id': 624,\n",
       "  'image_id': 80,\n",
       "  'category_id': 2,\n",
       "  'bbox': [239, 248, 12, 21.25],\n",
       "  'area': 255,\n",
       "  'segmentation': [[251,\n",
       "    268.75,\n",
       "    251,\n",
       "    247.5,\n",
       "    239,\n",
       "    247.5,\n",
       "    239,\n",
       "    268.75,\n",
       "    251,\n",
       "    268.75]],\n",
       "  'iscrowd': 0},\n",
       " {'id': 625,\n",
       "  'image_id': 80,\n",
       "  'category_id': 2,\n",
       "  'bbox': [241, 244, 17, 22.5],\n",
       "  'area': 382.5,\n",
       "  'segmentation': [[258,\n",
       "    266.25,\n",
       "    258,\n",
       "    243.75,\n",
       "    241,\n",
       "    243.75,\n",
       "    241,\n",
       "    266.25,\n",
       "    258,\n",
       "    266.25]],\n",
       "  'iscrowd': 0},\n",
       " {'id': 626,\n",
       "  'image_id': 80,\n",
       "  'category_id': 1,\n",
       "  'bbox': [324, 263, 13, 28.75],\n",
       "  'area': 373.75,\n",
       "  'segmentation': [[337,\n",
       "    291.25,\n",
       "    337,\n",
       "    262.5,\n",
       "    324,\n",
       "    262.5,\n",
       "    324,\n",
       "    291.25,\n",
       "    337,\n",
       "    291.25]],\n",
       "  'iscrowd': 0},\n",
       " {'id': 627,\n",
       "  'image_id': 80,\n",
       "  'category_id': 1,\n",
       "  'bbox': [282, 259, 12, 32.5],\n",
       "  'area': 390,\n",
       "  'segmentation': [[294,\n",
       "    291.25,\n",
       "    294,\n",
       "    258.75,\n",
       "    282,\n",
       "    258.75,\n",
       "    282,\n",
       "    291.25,\n",
       "    294,\n",
       "    291.25]],\n",
       "  'iscrowd': 0},\n",
       " {'id': 628,\n",
       "  'image_id': 80,\n",
       "  'category_id': 2,\n",
       "  'bbox': [340, 254, 21, 33.75],\n",
       "  'area': 708.75,\n",
       "  'segmentation': [[361,\n",
       "    287.5,\n",
       "    361,\n",
       "    253.75,\n",
       "    340,\n",
       "    253.75,\n",
       "    340,\n",
       "    287.5,\n",
       "    361,\n",
       "    287.5]],\n",
       "  'iscrowd': 0},\n",
       " {'id': 629,\n",
       "  'image_id': 81,\n",
       "  'category_id': 4,\n",
       "  'bbox': [249, 274, 32, 83.75],\n",
       "  'area': 2680,\n",
       "  'segmentation': [[281,\n",
       "    357.5,\n",
       "    281,\n",
       "    273.75,\n",
       "    249,\n",
       "    273.75,\n",
       "    249,\n",
       "    357.5,\n",
       "    281,\n",
       "    357.5]],\n",
       "  'iscrowd': 0},\n",
       " {'id': 630,\n",
       "  'image_id': 81,\n",
       "  'category_id': 4,\n",
       "  'bbox': [459, 286, 17, 58.75],\n",
       "  'area': 998.75,\n",
       "  'segmentation': [[476, 345, 476, 286.25, 459, 286.25, 459, 345, 476, 345]],\n",
       "  'iscrowd': 0},\n",
       " {'id': 631,\n",
       "  'image_id': 81,\n",
       "  'category_id': 4,\n",
       "  'bbox': [444, 284, 14, 61.25],\n",
       "  'area': 857.5,\n",
       "  'segmentation': [[458, 345, 458, 283.75, 444, 283.75, 444, 345, 458, 345]],\n",
       "  'iscrowd': 0},\n",
       " {'id': 632,\n",
       "  'image_id': 81,\n",
       "  'category_id': 4,\n",
       "  'bbox': [13, 285, 22, 68.75],\n",
       "  'area': 1512.5,\n",
       "  'segmentation': [[35, 353.75, 35, 285, 13, 285, 13, 353.75, 35, 353.75]],\n",
       "  'iscrowd': 0},\n",
       " {'id': 633,\n",
       "  'image_id': 81,\n",
       "  'category_id': 2,\n",
       "  'bbox': [158, 295, 35, 32.5],\n",
       "  'area': 1137.5,\n",
       "  'segmentation': [[193, 327.5, 193, 295, 158, 295, 158, 327.5, 193, 327.5]],\n",
       "  'iscrowd': 0},\n",
       " {'id': 634,\n",
       "  'image_id': 81,\n",
       "  'category_id': 2,\n",
       "  'bbox': [195, 294, 23, 23.75],\n",
       "  'area': 546.25,\n",
       "  'segmentation': [[218,\n",
       "    317.5,\n",
       "    218,\n",
       "    293.75,\n",
       "    195,\n",
       "    293.75,\n",
       "    195,\n",
       "    317.5,\n",
       "    218,\n",
       "    317.5]],\n",
       "  'iscrowd': 0},\n",
       " {'id': 635,\n",
       "  'image_id': 81,\n",
       "  'category_id': 2,\n",
       "  'bbox': [223, 291, 19, 25],\n",
       "  'area': 475,\n",
       "  'segmentation': [[242,\n",
       "    316.25,\n",
       "    242,\n",
       "    291.25,\n",
       "    223,\n",
       "    291.25,\n",
       "    223,\n",
       "    316.25,\n",
       "    242,\n",
       "    316.25]],\n",
       "  'iscrowd': 0},\n",
       " {'id': 636,\n",
       "  'image_id': 81,\n",
       "  'category_id': 2,\n",
       "  'bbox': [317, 294, 30, 35],\n",
       "  'area': 1050,\n",
       "  'segmentation': [[347,\n",
       "    328.75,\n",
       "    347,\n",
       "    293.75,\n",
       "    317,\n",
       "    293.75,\n",
       "    317,\n",
       "    328.75,\n",
       "    347,\n",
       "    328.75]],\n",
       "  'iscrowd': 0},\n",
       " {'id': 637,\n",
       "  'image_id': 82,\n",
       "  'category_id': 4,\n",
       "  'bbox': [429, 263, 23, 62.5],\n",
       "  'area': 1437.5,\n",
       "  'segmentation': [[452, 325, 452, 262.5, 429, 262.5, 429, 325, 452, 325]],\n",
       "  'iscrowd': 0},\n",
       " {'id': 638,\n",
       "  'image_id': 82,\n",
       "  'category_id': 1,\n",
       "  'bbox': [365, 279, 15, 22.5],\n",
       "  'area': 337.5,\n",
       "  'segmentation': [[380,\n",
       "    301.25,\n",
       "    380,\n",
       "    278.75,\n",
       "    365,\n",
       "    278.75,\n",
       "    365,\n",
       "    301.25,\n",
       "    380,\n",
       "    301.25]],\n",
       "  'iscrowd': 0},\n",
       " {'id': 639,\n",
       "  'image_id': 82,\n",
       "  'category_id': 1,\n",
       "  'bbox': [352, 279, 12, 17.5],\n",
       "  'area': 210,\n",
       "  'segmentation': [[364,\n",
       "    296.25,\n",
       "    364,\n",
       "    278.75,\n",
       "    352,\n",
       "    278.75,\n",
       "    352,\n",
       "    296.25,\n",
       "    364,\n",
       "    296.25]],\n",
       "  'iscrowd': 0},\n",
       " {'id': 640,\n",
       "  'image_id': 82,\n",
       "  'category_id': 2,\n",
       "  'bbox': [252, 261, 14, 16.25],\n",
       "  'area': 227.5,\n",
       "  'segmentation': [[266,\n",
       "    277.5,\n",
       "    266,\n",
       "    261.25,\n",
       "    252,\n",
       "    261.25,\n",
       "    252,\n",
       "    277.5,\n",
       "    266,\n",
       "    277.5]],\n",
       "  'iscrowd': 0},\n",
       " {'id': 641,\n",
       "  'image_id': 82,\n",
       "  'category_id': 2,\n",
       "  'bbox': [240, 261, 14, 21.25],\n",
       "  'area': 297.5,\n",
       "  'segmentation': [[254,\n",
       "    282.5,\n",
       "    254,\n",
       "    261.25,\n",
       "    240,\n",
       "    261.25,\n",
       "    240,\n",
       "    282.5,\n",
       "    254,\n",
       "    282.5]],\n",
       "  'iscrowd': 0},\n",
       " {'id': 642,\n",
       "  'image_id': 82,\n",
       "  'category_id': 2,\n",
       "  'bbox': [212, 264, 30, 26.25],\n",
       "  'area': 787.5,\n",
       "  'segmentation': [[242, 290, 242, 263.75, 212, 263.75, 212, 290, 242, 290]],\n",
       "  'iscrowd': 0},\n",
       " {'id': 643,\n",
       "  'image_id': 82,\n",
       "  'category_id': 2,\n",
       "  'bbox': [0, 273, 81, 152.5],\n",
       "  'area': 12352.5,\n",
       "  'segmentation': [[0, 425, 81, 425, 81, 272.5, 0, 272.5, 0, 425]],\n",
       "  'iscrowd': 0},\n",
       " {'id': 644,\n",
       "  'image_id': 83,\n",
       "  'category_id': 4,\n",
       "  'bbox': [512, 259, 27, 82.5],\n",
       "  'area': 2227.5,\n",
       "  'segmentation': [[539,\n",
       "    341.25,\n",
       "    539,\n",
       "    258.75,\n",
       "    512,\n",
       "    258.75,\n",
       "    512,\n",
       "    341.25,\n",
       "    539,\n",
       "    341.25]],\n",
       "  'iscrowd': 0},\n",
       " {'id': 645,\n",
       "  'image_id': 83,\n",
       "  'category_id': 1,\n",
       "  'bbox': [514, 306, 22, 58.75],\n",
       "  'area': 1292.5,\n",
       "  'segmentation': [[536, 365, 536, 306.25, 514, 306.25, 514, 365, 536, 365]],\n",
       "  'iscrowd': 0},\n",
       " {'id': 646,\n",
       "  'image_id': 83,\n",
       "  'category_id': 4,\n",
       "  'bbox': [378, 268, 9, 16.25],\n",
       "  'area': 146.25,\n",
       "  'segmentation': [[387,\n",
       "    283.75,\n",
       "    387,\n",
       "    267.5,\n",
       "    378,\n",
       "    267.5,\n",
       "    378,\n",
       "    283.75,\n",
       "    387,\n",
       "    283.75]],\n",
       "  'iscrowd': 0},\n",
       " {'id': 647,\n",
       "  'image_id': 83,\n",
       "  'category_id': 2,\n",
       "  'bbox': [258, 278, 46, 45],\n",
       "  'area': 2070,\n",
       "  'segmentation': [[304,\n",
       "    322.5,\n",
       "    304,\n",
       "    277.5,\n",
       "    258,\n",
       "    277.5,\n",
       "    258,\n",
       "    322.5,\n",
       "    304,\n",
       "    322.5]],\n",
       "  'iscrowd': 0},\n",
       " {'id': 648,\n",
       "  'image_id': 83,\n",
       "  'category_id': 2,\n",
       "  'bbox': [236, 275, 14, 27.5],\n",
       "  'area': 385,\n",
       "  'segmentation': [[250, 302.5, 250, 275, 236, 275, 236, 302.5, 250, 302.5]],\n",
       "  'iscrowd': 0},\n",
       " {'id': 649,\n",
       "  'image_id': 83,\n",
       "  'category_id': 2,\n",
       "  'bbox': [228, 278, 13, 30],\n",
       "  'area': 390,\n",
       "  'segmentation': [[241,\n",
       "    307.5,\n",
       "    241,\n",
       "    277.5,\n",
       "    228,\n",
       "    277.5,\n",
       "    228,\n",
       "    307.5,\n",
       "    241,\n",
       "    307.5]],\n",
       "  'iscrowd': 0},\n",
       " {'id': 650,\n",
       "  'image_id': 83,\n",
       "  'category_id': 2,\n",
       "  'bbox': [189, 273, 44, 41.25],\n",
       "  'area': 1815,\n",
       "  'segmentation': [[233,\n",
       "    313.75,\n",
       "    233,\n",
       "    272.5,\n",
       "    189,\n",
       "    272.5,\n",
       "    189,\n",
       "    313.75,\n",
       "    233,\n",
       "    313.75]],\n",
       "  'iscrowd': 0},\n",
       " {'id': 651,\n",
       "  'image_id': 84,\n",
       "  'category_id': 4,\n",
       "  'bbox': [597, 253, 8, 31.25],\n",
       "  'area': 250,\n",
       "  'segmentation': [[605,\n",
       "    283.75,\n",
       "    605,\n",
       "    252.5,\n",
       "    597,\n",
       "    252.5,\n",
       "    597,\n",
       "    283.75,\n",
       "    605,\n",
       "    283.75]],\n",
       "  'iscrowd': 0},\n",
       " {'id': 652,\n",
       "  'image_id': 84,\n",
       "  'category_id': 4,\n",
       "  'bbox': [564, 255, 10, 27.5],\n",
       "  'area': 275,\n",
       "  'segmentation': [[574, 282.5, 574, 255, 564, 255, 564, 282.5, 574, 282.5]],\n",
       "  'iscrowd': 0},\n",
       " {'id': 653,\n",
       "  'image_id': 85,\n",
       "  'category_id': 2,\n",
       "  'bbox': [604, 246, 35, 72.5],\n",
       "  'area': 2537.5,\n",
       "  'segmentation': [[639,\n",
       "    318.75,\n",
       "    639,\n",
       "    246.25,\n",
       "    604,\n",
       "    246.25,\n",
       "    604,\n",
       "    318.75,\n",
       "    639,\n",
       "    318.75]],\n",
       "  'iscrowd': 0},\n",
       " {'id': 654,\n",
       "  'image_id': 85,\n",
       "  'category_id': 2,\n",
       "  'bbox': [546, 246, 57, 70],\n",
       "  'area': 3990,\n",
       "  'segmentation': [[603,\n",
       "    316.25,\n",
       "    603,\n",
       "    246.25,\n",
       "    546,\n",
       "    246.25,\n",
       "    546,\n",
       "    316.25,\n",
       "    603,\n",
       "    316.25]],\n",
       "  'iscrowd': 0},\n",
       " {'id': 655,\n",
       "  'image_id': 85,\n",
       "  'category_id': 2,\n",
       "  'bbox': [338, 283, 39, 43.75],\n",
       "  'area': 1706.25,\n",
       "  'segmentation': [[377,\n",
       "    326.25,\n",
       "    377,\n",
       "    282.5,\n",
       "    338,\n",
       "    282.5,\n",
       "    338,\n",
       "    326.25,\n",
       "    377,\n",
       "    326.25]],\n",
       "  'iscrowd': 0},\n",
       " {'id': 656,\n",
       "  'image_id': 85,\n",
       "  'category_id': 2,\n",
       "  'bbox': [270, 283, 13, 16.25],\n",
       "  'area': 211.25,\n",
       "  'segmentation': [[283,\n",
       "    298.75,\n",
       "    283,\n",
       "    282.5,\n",
       "    270,\n",
       "    282.5,\n",
       "    270,\n",
       "    298.75,\n",
       "    283,\n",
       "    298.75]],\n",
       "  'iscrowd': 0},\n",
       " {'id': 657,\n",
       "  'image_id': 85,\n",
       "  'category_id': 2,\n",
       "  'bbox': [253, 284, 15, 16.25],\n",
       "  'area': 243.75,\n",
       "  'segmentation': [[268, 300, 268, 283.75, 253, 283.75, 253, 300, 268, 300]],\n",
       "  'iscrowd': 0},\n",
       " {'id': 658,\n",
       "  'image_id': 85,\n",
       "  'category_id': 2,\n",
       "  'bbox': [169, 278, 62, 57.5],\n",
       "  'area': 3565,\n",
       "  'segmentation': [[231, 335, 231, 277.5, 169, 277.5, 169, 335, 231, 335]],\n",
       "  'iscrowd': 0},\n",
       " {'id': 659,\n",
       "  'image_id': 85,\n",
       "  'category_id': 2,\n",
       "  'bbox': [90, 281, 68, 58.75],\n",
       "  'area': 3995,\n",
       "  'segmentation': [[158, 340, 158, 281.25, 90, 281.25, 90, 340, 158, 340]],\n",
       "  'iscrowd': 0},\n",
       " {'id': 660,\n",
       "  'image_id': 86,\n",
       "  'category_id': 2,\n",
       "  'bbox': [345, 305, 21, 22.5],\n",
       "  'area': 472.5,\n",
       "  'segmentation': [[366, 327.5, 366, 305, 345, 305, 345, 327.5, 366, 327.5]],\n",
       "  'iscrowd': 0},\n",
       " {'id': 661,\n",
       "  'image_id': 86,\n",
       "  'category_id': 2,\n",
       "  'bbox': [270, 306, 27, 21.25],\n",
       "  'area': 573.75,\n",
       "  'segmentation': [[297,\n",
       "    327.5,\n",
       "    297,\n",
       "    306.25,\n",
       "    270,\n",
       "    306.25,\n",
       "    270,\n",
       "    327.5,\n",
       "    297,\n",
       "    327.5]],\n",
       "  'iscrowd': 0},\n",
       " {'id': 662,\n",
       "  'image_id': 86,\n",
       "  'category_id': 2,\n",
       "  'bbox': [313, 301, 16, 16.25],\n",
       "  'area': 260,\n",
       "  'segmentation': [[329,\n",
       "    317.5,\n",
       "    329,\n",
       "    301.25,\n",
       "    313,\n",
       "    301.25,\n",
       "    313,\n",
       "    317.5,\n",
       "    329,\n",
       "    317.5]],\n",
       "  'iscrowd': 0},\n",
       " {'id': 663,\n",
       "  'image_id': 86,\n",
       "  'category_id': 4,\n",
       "  'bbox': [585, 290, 19, 82.5],\n",
       "  'area': 1567.5,\n",
       "  'segmentation': [[604, 372.5, 604, 290, 585, 290, 585, 372.5, 604, 372.5]],\n",
       "  'iscrowd': 0},\n",
       " {'id': 664,\n",
       "  'image_id': 86,\n",
       "  'category_id': 4,\n",
       "  'bbox': [25, 294, 19, 40],\n",
       "  'area': 760,\n",
       "  'segmentation': [[44,\n",
       "    333.75,\n",
       "    44,\n",
       "    293.75,\n",
       "    25,\n",
       "    293.75,\n",
       "    25,\n",
       "    333.75,\n",
       "    44,\n",
       "    333.75]],\n",
       "  'iscrowd': 0},\n",
       " {'id': 665,\n",
       "  'image_id': 86,\n",
       "  'category_id': 4,\n",
       "  'bbox': [1, 285, 14, 56.25],\n",
       "  'area': 787.5,\n",
       "  'segmentation': [[15, 341.25, 15, 285, 1, 285, 1, 341.25, 15, 341.25]],\n",
       "  'iscrowd': 0},\n",
       " {'id': 666,\n",
       "  'image_id': 86,\n",
       "  'category_id': 2,\n",
       "  'bbox': [331, 303, 14, 18.75],\n",
       "  'area': 262.5,\n",
       "  'segmentation': [[345,\n",
       "    321.25,\n",
       "    345,\n",
       "    302.5,\n",
       "    331,\n",
       "    302.5,\n",
       "    331,\n",
       "    321.25,\n",
       "    345,\n",
       "    321.25]],\n",
       "  'iscrowd': 0},\n",
       " {'id': 667,\n",
       "  'image_id': 86,\n",
       "  'category_id': 4,\n",
       "  'bbox': [414, 296, 12, 30],\n",
       "  'area': 360,\n",
       "  'segmentation': [[426,\n",
       "    326.25,\n",
       "    426,\n",
       "    296.25,\n",
       "    414,\n",
       "    296.25,\n",
       "    414,\n",
       "    326.25,\n",
       "    426,\n",
       "    326.25]],\n",
       "  'iscrowd': 0},\n",
       " {'id': 668,\n",
       "  'image_id': 87,\n",
       "  'category_id': 4,\n",
       "  'bbox': [97, 291, 39, 83.75],\n",
       "  'area': 3266.25,\n",
       "  'segmentation': [[136, 375, 136, 291.25, 97, 291.25, 97, 375, 136, 375]],\n",
       "  'iscrowd': 0},\n",
       " {'id': 669,\n",
       "  'image_id': 87,\n",
       "  'category_id': 4,\n",
       "  'bbox': [136, 271, 13, 37.5],\n",
       "  'area': 487.5,\n",
       "  'segmentation': [[149,\n",
       "    308.75,\n",
       "    149,\n",
       "    271.25,\n",
       "    136,\n",
       "    271.25,\n",
       "    136,\n",
       "    308.75,\n",
       "    149,\n",
       "    308.75]],\n",
       "  'iscrowd': 0},\n",
       " {'id': 670,\n",
       "  'image_id': 87,\n",
       "  'category_id': 1,\n",
       "  'bbox': [93, 336, 24, 45],\n",
       "  'area': 1080,\n",
       "  'segmentation': [[117,\n",
       "    381.25,\n",
       "    117,\n",
       "    336.25,\n",
       "    93,\n",
       "    336.25,\n",
       "    93,\n",
       "    381.25,\n",
       "    117,\n",
       "    381.25]],\n",
       "  'iscrowd': 0},\n",
       " {'id': 671,\n",
       "  'image_id': 87,\n",
       "  'category_id': 1,\n",
       "  'bbox': [120, 323, 29, 55],\n",
       "  'area': 1595,\n",
       "  'segmentation': [[149,\n",
       "    377.5,\n",
       "    149,\n",
       "    322.5,\n",
       "    120,\n",
       "    322.5,\n",
       "    120,\n",
       "    377.5,\n",
       "    149,\n",
       "    377.5]],\n",
       "  'iscrowd': 0},\n",
       " {'id': 672,\n",
       "  'image_id': 87,\n",
       "  'category_id': 2,\n",
       "  'bbox': [344, 278, 42, 38.75],\n",
       "  'area': 1627.5,\n",
       "  'segmentation': [[386,\n",
       "    316.25,\n",
       "    386,\n",
       "    277.5,\n",
       "    344,\n",
       "    277.5,\n",
       "    344,\n",
       "    316.25,\n",
       "    386,\n",
       "    316.25]],\n",
       "  'iscrowd': 0},\n",
       " {'id': 673,\n",
       "  'image_id': 87,\n",
       "  'category_id': 2,\n",
       "  'bbox': [321, 270, 21, 18.75],\n",
       "  'area': 393.75,\n",
       "  'segmentation': [[342,\n",
       "    288.75,\n",
       "    342,\n",
       "    270,\n",
       "    321,\n",
       "    270,\n",
       "    321,\n",
       "    288.75,\n",
       "    342,\n",
       "    288.75]],\n",
       "  'iscrowd': 0},\n",
       " {'id': 674,\n",
       "  'image_id': 87,\n",
       "  'category_id': 2,\n",
       "  'bbox': [274, 266, 17, 17.5],\n",
       "  'area': 297.5,\n",
       "  'segmentation': [[291,\n",
       "    283.75,\n",
       "    291,\n",
       "    266.25,\n",
       "    274,\n",
       "    266.25,\n",
       "    274,\n",
       "    283.75,\n",
       "    291,\n",
       "    283.75]],\n",
       "  'iscrowd': 0},\n",
       " {'id': 675,\n",
       "  'image_id': 87,\n",
       "  'category_id': 2,\n",
       "  'bbox': [305, 328, 267, 306.25],\n",
       "  'area': 81768.75,\n",
       "  'segmentation': [[572,\n",
       "    633.75,\n",
       "    572,\n",
       "    327.5,\n",
       "    305,\n",
       "    327.5,\n",
       "    305,\n",
       "    633.75,\n",
       "    572,\n",
       "    633.75]],\n",
       "  'iscrowd': 0},\n",
       " {'id': 676,\n",
       "  'image_id': 87,\n",
       "  'category_id': 4,\n",
       "  'bbox': [461, 271, 17, 58.75],\n",
       "  'area': 998.75,\n",
       "  'segmentation': [[478, 330, 478, 271.25, 461, 271.25, 461, 330, 478, 330]],\n",
       "  'iscrowd': 0},\n",
       " {'id': 677,\n",
       "  'image_id': 87,\n",
       "  'category_id': 4,\n",
       "  'bbox': [484, 274, 16, 25],\n",
       "  'area': 400,\n",
       "  'segmentation': [[500,\n",
       "    298.75,\n",
       "    500,\n",
       "    273.75,\n",
       "    484,\n",
       "    273.75,\n",
       "    484,\n",
       "    298.75,\n",
       "    500,\n",
       "    298.75]],\n",
       "  'iscrowd': 0},\n",
       " {'id': 678,\n",
       "  'image_id': 87,\n",
       "  'category_id': 4,\n",
       "  'bbox': [500, 274, 14, 27.5],\n",
       "  'area': 385,\n",
       "  'segmentation': [[514,\n",
       "    301.25,\n",
       "    514,\n",
       "    273.75,\n",
       "    500,\n",
       "    273.75,\n",
       "    500,\n",
       "    301.25,\n",
       "    514,\n",
       "    301.25]],\n",
       "  'iscrowd': 0},\n",
       " {'id': 679,\n",
       "  'image_id': 87,\n",
       "  'category_id': 4,\n",
       "  'bbox': [625, 279, 13, 60],\n",
       "  'area': 780,\n",
       "  'segmentation': [[638,\n",
       "    338.75,\n",
       "    638,\n",
       "    278.75,\n",
       "    625,\n",
       "    278.75,\n",
       "    625,\n",
       "    338.75,\n",
       "    638,\n",
       "    338.75]],\n",
       "  'iscrowd': 0},\n",
       " {'id': 680,\n",
       "  'image_id': 87,\n",
       "  'category_id': 4,\n",
       "  'bbox': [414, 276, 18, 23.75],\n",
       "  'area': 427.5,\n",
       "  'segmentation': [[432, 300, 432, 276.25, 414, 276.25, 414, 300, 432, 300]],\n",
       "  'iscrowd': 0},\n",
       " {'id': 681,\n",
       "  'image_id': 87,\n",
       "  'category_id': 4,\n",
       "  'bbox': [522, 288, 14, 15],\n",
       "  'area': 210,\n",
       "  'segmentation': [[536,\n",
       "    302.5,\n",
       "    536,\n",
       "    287.5,\n",
       "    522,\n",
       "    287.5,\n",
       "    522,\n",
       "    302.5,\n",
       "    536,\n",
       "    302.5]],\n",
       "  'iscrowd': 0},\n",
       " {'id': 682,\n",
       "  'image_id': 87,\n",
       "  'category_id': 2,\n",
       "  'bbox': [337, 278, 18, 28.75],\n",
       "  'area': 517.5,\n",
       "  'segmentation': [[355,\n",
       "    306.25,\n",
       "    355,\n",
       "    277.5,\n",
       "    337,\n",
       "    277.5,\n",
       "    337,\n",
       "    306.25,\n",
       "    355,\n",
       "    306.25]],\n",
       "  'iscrowd': 0},\n",
       " {'id': 683,\n",
       "  'image_id': 87,\n",
       "  'category_id': 4,\n",
       "  'bbox': [243, 265, 12, 26.25],\n",
       "  'area': 315,\n",
       "  'segmentation': [[255,\n",
       "    291.25,\n",
       "    255,\n",
       "    265,\n",
       "    243,\n",
       "    265,\n",
       "    243,\n",
       "    291.25,\n",
       "    255,\n",
       "    291.25]],\n",
       "  'iscrowd': 0},\n",
       " {'id': 684,\n",
       "  'image_id': 88,\n",
       "  'category_id': 4,\n",
       "  'bbox': [575, 251, 20, 23.75],\n",
       "  'area': 475,\n",
       "  'segmentation': [[595, 275, 595, 251.25, 575, 251.25, 575, 275, 595, 275]],\n",
       "  'iscrowd': 0},\n",
       " {'id': 685,\n",
       "  'image_id': 88,\n",
       "  'category_id': 4,\n",
       "  'bbox': [551, 250, 8, 37.5],\n",
       "  'area': 300,\n",
       "  'segmentation': [[559, 287.5, 559, 250, 551, 250, 551, 287.5, 559, 287.5]],\n",
       "  'iscrowd': 0},\n",
       " {'id': 686,\n",
       "  'image_id': 88,\n",
       "  'category_id': 4,\n",
       "  'bbox': [495, 253, 11, 43.75],\n",
       "  'area': 481.25,\n",
       "  'segmentation': [[506,\n",
       "    296.25,\n",
       "    506,\n",
       "    252.5,\n",
       "    495,\n",
       "    252.5,\n",
       "    495,\n",
       "    296.25,\n",
       "    506,\n",
       "    296.25]],\n",
       "  'iscrowd': 0},\n",
       " {'id': 687,\n",
       "  'image_id': 88,\n",
       "  'category_id': 4,\n",
       "  'bbox': [401, 258, 7, 23.75],\n",
       "  'area': 166.25,\n",
       "  'segmentation': [[408,\n",
       "    281.25,\n",
       "    408,\n",
       "    257.5,\n",
       "    401,\n",
       "    257.5,\n",
       "    401,\n",
       "    281.25,\n",
       "    408,\n",
       "    281.25]],\n",
       "  'iscrowd': 0},\n",
       " {'id': 688,\n",
       "  'image_id': 88,\n",
       "  'category_id': 4,\n",
       "  'bbox': [396, 256, 5, 16.25],\n",
       "  'area': 81.25,\n",
       "  'segmentation': [[401,\n",
       "    272.5,\n",
       "    401,\n",
       "    256.25,\n",
       "    396,\n",
       "    256.25,\n",
       "    396,\n",
       "    272.5,\n",
       "    401,\n",
       "    272.5]],\n",
       "  'iscrowd': 0},\n",
       " {'id': 689,\n",
       "  'image_id': 88,\n",
       "  'category_id': 4,\n",
       "  'bbox': [387, 255, 5, 16.25],\n",
       "  'area': 81.25,\n",
       "  'segmentation': [[392,\n",
       "    271.25,\n",
       "    392,\n",
       "    255,\n",
       "    387,\n",
       "    255,\n",
       "    387,\n",
       "    271.25,\n",
       "    392,\n",
       "    271.25]],\n",
       "  'iscrowd': 0},\n",
       " {'id': 690,\n",
       "  'image_id': 88,\n",
       "  'category_id': 2,\n",
       "  'bbox': [280, 260, 10, 12.5],\n",
       "  'area': 125,\n",
       "  'segmentation': [[290, 272.5, 290, 260, 280, 260, 280, 272.5, 290, 272.5]],\n",
       "  'iscrowd': 0},\n",
       " {'id': 691,\n",
       "  'image_id': 88,\n",
       "  'category_id': 4,\n",
       "  'bbox': [33, 263, 14, 35],\n",
       "  'area': 490,\n",
       "  'segmentation': [[47, 297.5, 47, 262.5, 33, 262.5, 33, 297.5, 47, 297.5]],\n",
       "  'iscrowd': 0},\n",
       " {'id': 692,\n",
       "  'image_id': 90,\n",
       "  'category_id': 4,\n",
       "  'bbox': [454, 271, 22, 70],\n",
       "  'area': 1540,\n",
       "  'segmentation': [[476,\n",
       "    341.25,\n",
       "    476,\n",
       "    271.25,\n",
       "    454,\n",
       "    271.25,\n",
       "    454,\n",
       "    341.25,\n",
       "    476,\n",
       "    341.25]],\n",
       "  'iscrowd': 0},\n",
       " {'id': 693,\n",
       "  'image_id': 90,\n",
       "  'category_id': 4,\n",
       "  'bbox': [474, 281, 14, 62.5],\n",
       "  'area': 875,\n",
       "  'segmentation': [[488,\n",
       "    343.75,\n",
       "    488,\n",
       "    281.25,\n",
       "    474,\n",
       "    281.25,\n",
       "    474,\n",
       "    343.75,\n",
       "    488,\n",
       "    343.75]],\n",
       "  'iscrowd': 0},\n",
       " {'id': 694,\n",
       "  'image_id': 90,\n",
       "  'category_id': 2,\n",
       "  'bbox': [284, 288, 31, 27.5],\n",
       "  'area': 852.5,\n",
       "  'segmentation': [[315, 315, 315, 287.5, 284, 287.5, 284, 315, 315, 315]],\n",
       "  'iscrowd': 0},\n",
       " {'id': 695,\n",
       "  'image_id': 90,\n",
       "  'category_id': 2,\n",
       "  'bbox': [215, 286, 38, 43.75],\n",
       "  'area': 1662.5,\n",
       "  'segmentation': [[253, 330, 253, 286.25, 215, 286.25, 215, 330, 253, 330]],\n",
       "  'iscrowd': 0},\n",
       " {'id': 696,\n",
       "  'image_id': 90,\n",
       "  'category_id': 2,\n",
       "  'bbox': [101, 284, 93, 71.25],\n",
       "  'area': 6626.25,\n",
       "  'segmentation': [[194, 355, 194, 283.75, 101, 283.75, 101, 355, 194, 355]],\n",
       "  'iscrowd': 0},\n",
       " {'id': 697,\n",
       "  'image_id': 90,\n",
       "  'category_id': 1,\n",
       "  'bbox': [256, 305, 6, 17.5],\n",
       "  'area': 105,\n",
       "  'segmentation': [[262, 322.5, 262, 305, 256, 305, 256, 322.5, 262, 322.5]],\n",
       "  'iscrowd': 0},\n",
       " {'id': 698,\n",
       "  'image_id': 90,\n",
       "  'category_id': 2,\n",
       "  'bbox': [389, 291, 13, 22.5],\n",
       "  'area': 292.5,\n",
       "  'segmentation': [[402,\n",
       "    313.75,\n",
       "    402,\n",
       "    291.25,\n",
       "    389,\n",
       "    291.25,\n",
       "    389,\n",
       "    313.75,\n",
       "    402,\n",
       "    313.75]],\n",
       "  'iscrowd': 0},\n",
       " {'id': 699,\n",
       "  'image_id': 90,\n",
       "  'category_id': 2,\n",
       "  'bbox': [347, 295, 43, 26.25],\n",
       "  'area': 1128.75,\n",
       "  'segmentation': [[390,\n",
       "    321.25,\n",
       "    390,\n",
       "    295,\n",
       "    347,\n",
       "    295,\n",
       "    347,\n",
       "    321.25,\n",
       "    390,\n",
       "    321.25]],\n",
       "  'iscrowd': 0},\n",
       " {'id': 700,\n",
       "  'image_id': 90,\n",
       "  'category_id': 4,\n",
       "  'bbox': [255, 285, 10, 20],\n",
       "  'area': 200,\n",
       "  'segmentation': [[265, 305, 265, 285, 255, 285, 255, 305, 265, 305]],\n",
       "  'iscrowd': 0},\n",
       " {'id': 701,\n",
       "  'image_id': 91,\n",
       "  'category_id': 4,\n",
       "  'bbox': [456, 265, 8, 30],\n",
       "  'area': 240,\n",
       "  'segmentation': [[464, 295, 464, 265, 456, 265, 456, 295, 464, 295]],\n",
       "  'iscrowd': 0},\n",
       " {'id': 702,\n",
       "  'image_id': 91,\n",
       "  'category_id': 2,\n",
       "  'bbox': [372, 274, 35, 30],\n",
       "  'area': 1050,\n",
       "  'segmentation': [[407,\n",
       "    303.75,\n",
       "    407,\n",
       "    273.75,\n",
       "    372,\n",
       "    273.75,\n",
       "    372,\n",
       "    303.75,\n",
       "    407,\n",
       "    303.75]],\n",
       "  'iscrowd': 0},\n",
       " {'id': 703,\n",
       "  'image_id': 91,\n",
       "  'category_id': 4,\n",
       "  'bbox': [400, 268, 7, 16.25],\n",
       "  'area': 113.75,\n",
       "  'segmentation': [[407,\n",
       "    283.75,\n",
       "    407,\n",
       "    267.5,\n",
       "    400,\n",
       "    267.5,\n",
       "    400,\n",
       "    283.75,\n",
       "    407,\n",
       "    283.75]],\n",
       "  'iscrowd': 0},\n",
       " {'id': 704,\n",
       "  'image_id': 91,\n",
       "  'category_id': 2,\n",
       "  'bbox': [266, 273, 9, 15],\n",
       "  'area': 135,\n",
       "  'segmentation': [[275,\n",
       "    287.5,\n",
       "    275,\n",
       "    272.5,\n",
       "    266,\n",
       "    272.5,\n",
       "    266,\n",
       "    287.5,\n",
       "    275,\n",
       "    287.5]],\n",
       "  'iscrowd': 0},\n",
       " {'id': 705,\n",
       "  'image_id': 91,\n",
       "  'category_id': 2,\n",
       "  'bbox': [254, 274, 10, 15],\n",
       "  'area': 150,\n",
       "  'segmentation': [[264,\n",
       "    288.75,\n",
       "    264,\n",
       "    273.75,\n",
       "    254,\n",
       "    273.75,\n",
       "    254,\n",
       "    288.75,\n",
       "    264,\n",
       "    288.75]],\n",
       "  'iscrowd': 0},\n",
       " {'id': 706,\n",
       "  'image_id': 91,\n",
       "  'category_id': 2,\n",
       "  'bbox': [192, 271, 53, 51.25],\n",
       "  'area': 2716.25,\n",
       "  'segmentation': [[245,\n",
       "    322.5,\n",
       "    245,\n",
       "    271.25,\n",
       "    192,\n",
       "    271.25,\n",
       "    192,\n",
       "    322.5,\n",
       "    245,\n",
       "    322.5]],\n",
       "  'iscrowd': 0},\n",
       " {'id': 707,\n",
       "  'image_id': 91,\n",
       "  'category_id': 4,\n",
       "  'bbox': [139, 264, 6, 33.75],\n",
       "  'area': 202.5,\n",
       "  'segmentation': [[145,\n",
       "    297.5,\n",
       "    145,\n",
       "    263.75,\n",
       "    139,\n",
       "    263.75,\n",
       "    139,\n",
       "    297.5,\n",
       "    145,\n",
       "    297.5]],\n",
       "  'iscrowd': 0},\n",
       " {'id': 708,\n",
       "  'image_id': 93,\n",
       "  'category_id': 4,\n",
       "  'bbox': [409, 266, 15, 46.25],\n",
       "  'area': 693.75,\n",
       "  'segmentation': [[424,\n",
       "    312.5,\n",
       "    424,\n",
       "    266.25,\n",
       "    409,\n",
       "    266.25,\n",
       "    409,\n",
       "    312.5,\n",
       "    424,\n",
       "    312.5]],\n",
       "  'iscrowd': 0},\n",
       " {'id': 709,\n",
       "  'image_id': 93,\n",
       "  'category_id': 4,\n",
       "  'bbox': [371, 273, 14, 45],\n",
       "  'area': 630,\n",
       "  'segmentation': [[385,\n",
       "    317.5,\n",
       "    385,\n",
       "    272.5,\n",
       "    371,\n",
       "    272.5,\n",
       "    371,\n",
       "    317.5,\n",
       "    385,\n",
       "    317.5]],\n",
       "  'iscrowd': 0},\n",
       " {'id': 710,\n",
       "  'image_id': 93,\n",
       "  'category_id': 4,\n",
       "  'bbox': [363, 280, 12, 35],\n",
       "  'area': 420,\n",
       "  'segmentation': [[375, 315, 375, 280, 363, 280, 363, 315, 375, 315]],\n",
       "  'iscrowd': 0},\n",
       " {'id': 711,\n",
       "  'image_id': 93,\n",
       "  'category_id': 4,\n",
       "  'bbox': [351, 276, 13, 41.25],\n",
       "  'area': 536.25,\n",
       "  'segmentation': [[364,\n",
       "    317.5,\n",
       "    364,\n",
       "    276.25,\n",
       "    351,\n",
       "    276.25,\n",
       "    351,\n",
       "    317.5,\n",
       "    364,\n",
       "    317.5]],\n",
       "  'iscrowd': 0},\n",
       " {'id': 712,\n",
       "  'image_id': 93,\n",
       "  'category_id': 2,\n",
       "  'bbox': [238, 291, 19, 21.25],\n",
       "  'area': 403.75,\n",
       "  'segmentation': [[257,\n",
       "    312.5,\n",
       "    257,\n",
       "    291.25,\n",
       "    238,\n",
       "    291.25,\n",
       "    238,\n",
       "    312.5,\n",
       "    257,\n",
       "    312.5]],\n",
       "  'iscrowd': 0},\n",
       " {'id': 713,\n",
       "  'image_id': 93,\n",
       "  'category_id': 2,\n",
       "  'bbox': [178, 290, 22, 32.5],\n",
       "  'area': 715,\n",
       "  'segmentation': [[200, 322.5, 200, 290, 178, 290, 178, 322.5, 200, 322.5]],\n",
       "  'iscrowd': 0},\n",
       " {'id': 714,\n",
       "  'image_id': 93,\n",
       "  'category_id': 2,\n",
       "  'bbox': [132, 290, 43, 36.25],\n",
       "  'area': 1558.75,\n",
       "  'segmentation': [[175,\n",
       "    326.25,\n",
       "    175,\n",
       "    290,\n",
       "    132,\n",
       "    290,\n",
       "    132,\n",
       "    326.25,\n",
       "    175,\n",
       "    326.25]],\n",
       "  'iscrowd': 0},\n",
       " {'id': 715,\n",
       "  'image_id': 93,\n",
       "  'category_id': 2,\n",
       "  'bbox': [53, 284, 68, 61.25],\n",
       "  'area': 4165,\n",
       "  'segmentation': [[121, 345, 121, 283.75, 53, 283.75, 53, 345, 121, 345]],\n",
       "  'iscrowd': 0},\n",
       " {'id': 716,\n",
       "  'image_id': 93,\n",
       "  'category_id': 2,\n",
       "  'bbox': [0, 275, 43, 88.75],\n",
       "  'area': 3816.25,\n",
       "  'segmentation': [[0, 363.75, 43, 363.75, 43, 275, 0, 275, 0, 363.75]],\n",
       "  'iscrowd': 0},\n",
       " {'id': 717,\n",
       "  'image_id': 93,\n",
       "  'category_id': 2,\n",
       "  'bbox': [201, 293, 18, 22.5],\n",
       "  'area': 405,\n",
       "  'segmentation': [[219, 315, 219, 292.5, 201, 292.5, 201, 315, 219, 315]],\n",
       "  'iscrowd': 0},\n",
       " {'id': 718,\n",
       "  'image_id': 93,\n",
       "  'category_id': 2,\n",
       "  'bbox': [208, 290, 16, 21.25],\n",
       "  'area': 340,\n",
       "  'segmentation': [[224,\n",
       "    311.25,\n",
       "    224,\n",
       "    290,\n",
       "    208,\n",
       "    290,\n",
       "    208,\n",
       "    311.25,\n",
       "    224,\n",
       "    311.25]],\n",
       "  'iscrowd': 0},\n",
       " {'id': 719,\n",
       "  'image_id': 93,\n",
       "  'category_id': 4,\n",
       "  'bbox': [342, 279, 12, 21.25],\n",
       "  'area': 255,\n",
       "  'segmentation': [[354, 300, 354, 278.75, 342, 278.75, 342, 300, 354, 300]],\n",
       "  'iscrowd': 0},\n",
       " {'id': 720,\n",
       "  'image_id': 94,\n",
       "  'category_id': 1,\n",
       "  'bbox': [187, 400, 44, 95],\n",
       "  'area': 4180,\n",
       "  'segmentation': [[231, 495, 231, 400, 187, 400, 187, 495, 231, 495]],\n",
       "  'iscrowd': 0},\n",
       " {'id': 721,\n",
       "  'image_id': 94,\n",
       "  'category_id': 4,\n",
       "  'bbox': [550, 321, 87, 293.75],\n",
       "  'area': 25556.25,\n",
       "  'segmentation': [[637, 615, 637, 321.25, 550, 321.25, 550, 615, 637, 615]],\n",
       "  'iscrowd': 0},\n",
       " {'id': 722,\n",
       "  'image_id': 94,\n",
       "  'category_id': 2,\n",
       "  'bbox': [510, 336, 65, 175],\n",
       "  'area': 11375,\n",
       "  'segmentation': [[575,\n",
       "    511.25,\n",
       "    575,\n",
       "    336.25,\n",
       "    510,\n",
       "    336.25,\n",
       "    510,\n",
       "    511.25,\n",
       "    575,\n",
       "    511.25]],\n",
       "  'iscrowd': 0},\n",
       " {'id': 723,\n",
       "  'image_id': 94,\n",
       "  'category_id': 2,\n",
       "  'bbox': [429, 308, 79, 73.75],\n",
       "  'area': 5826.25,\n",
       "  'segmentation': [[508,\n",
       "    381.25,\n",
       "    508,\n",
       "    307.5,\n",
       "    429,\n",
       "    307.5,\n",
       "    429,\n",
       "    381.25,\n",
       "    508,\n",
       "    381.25]],\n",
       "  'iscrowd': 0},\n",
       " {'id': 724,\n",
       "  'image_id': 94,\n",
       "  'category_id': 2,\n",
       "  'bbox': [403, 303, 38, 57.5],\n",
       "  'area': 2185,\n",
       "  'segmentation': [[441, 360, 441, 302.5, 403, 302.5, 403, 360, 441, 360]],\n",
       "  'iscrowd': 0},\n",
       " {'id': 725,\n",
       "  'image_id': 94,\n",
       "  'category_id': 2,\n",
       "  'bbox': [368, 274, 26, 28.75],\n",
       "  'area': 747.5,\n",
       "  'segmentation': [[394,\n",
       "    302.5,\n",
       "    394,\n",
       "    273.75,\n",
       "    368,\n",
       "    273.75,\n",
       "    368,\n",
       "    302.5,\n",
       "    394,\n",
       "    302.5]],\n",
       "  'iscrowd': 0},\n",
       " {'id': 726,\n",
       "  'image_id': 94,\n",
       "  'category_id': 2,\n",
       "  'bbox': [288, 273, 26, 27.5],\n",
       "  'area': 715,\n",
       "  'segmentation': [[314, 300, 314, 272.5, 288, 272.5, 288, 300, 314, 300]],\n",
       "  'iscrowd': 0},\n",
       " {'id': 727,\n",
       "  'image_id': 94,\n",
       "  'category_id': 2,\n",
       "  'bbox': [273, 283, 18, 33.75],\n",
       "  'area': 607.5,\n",
       "  'segmentation': [[291,\n",
       "    316.25,\n",
       "    291,\n",
       "    282.5,\n",
       "    273,\n",
       "    282.5,\n",
       "    273,\n",
       "    316.25,\n",
       "    291,\n",
       "    316.25]],\n",
       "  'iscrowd': 0},\n",
       " {'id': 728,\n",
       "  'image_id': 94,\n",
       "  'category_id': 2,\n",
       "  'bbox': [242, 275, 33, 47.5],\n",
       "  'area': 1567.5,\n",
       "  'segmentation': [[275, 322.5, 275, 275, 242, 275, 242, 322.5, 275, 322.5]],\n",
       "  'iscrowd': 0},\n",
       " {'id': 729,\n",
       "  'image_id': 94,\n",
       "  'category_id': 2,\n",
       "  'bbox': [240, 284, 24, 41.25],\n",
       "  'area': 990,\n",
       "  'segmentation': [[264, 325, 264, 283.75, 240, 283.75, 240, 325, 264, 325]],\n",
       "  'iscrowd': 0},\n",
       " {'id': 730,\n",
       "  'image_id': 94,\n",
       "  'category_id': 2,\n",
       "  'bbox': [211, 281, 39, 57.5],\n",
       "  'area': 2242.5,\n",
       "  'segmentation': [[250,\n",
       "    338.75,\n",
       "    250,\n",
       "    281.25,\n",
       "    211,\n",
       "    281.25,\n",
       "    211,\n",
       "    338.75,\n",
       "    250,\n",
       "    338.75]],\n",
       "  'iscrowd': 0},\n",
       " {'id': 731,\n",
       "  'image_id': 94,\n",
       "  'category_id': 2,\n",
       "  'bbox': [181, 286, 59, 60],\n",
       "  'area': 3540,\n",
       "  'segmentation': [[240,\n",
       "    346.25,\n",
       "    240,\n",
       "    286.25,\n",
       "    181,\n",
       "    286.25,\n",
       "    181,\n",
       "    346.25,\n",
       "    240,\n",
       "    346.25]],\n",
       "  'iscrowd': 0},\n",
       " {'id': 732,\n",
       "  'image_id': 94,\n",
       "  'category_id': 4,\n",
       "  'bbox': [178, 311, 67, 110],\n",
       "  'area': 7370,\n",
       "  'segmentation': [[245,\n",
       "    421.25,\n",
       "    245,\n",
       "    311.25,\n",
       "    178,\n",
       "    311.25,\n",
       "    178,\n",
       "    421.25,\n",
       "    245,\n",
       "    421.25]],\n",
       "  'iscrowd': 0},\n",
       " {'id': 733,\n",
       "  'image_id': 94,\n",
       "  'category_id': 2,\n",
       "  'bbox': [69, 310, 100, 107.5],\n",
       "  'area': 10750,\n",
       "  'segmentation': [[169, 417.5, 169, 310, 69, 310, 69, 417.5, 169, 417.5]],\n",
       "  'iscrowd': 0},\n",
       " {'id': 734,\n",
       "  'image_id': 94,\n",
       "  'category_id': 2,\n",
       "  'bbox': [1, 330, 103, 166.25],\n",
       "  'area': 17123.75,\n",
       "  'segmentation': [[104, 496.25, 104, 330, 1, 330, 1, 496.25, 104, 496.25]],\n",
       "  'iscrowd': 0},\n",
       " {'id': 735,\n",
       "  'image_id': 94,\n",
       "  'category_id': 2,\n",
       "  'bbox': [444, 270, 40, 21.25],\n",
       "  'area': 850,\n",
       "  'segmentation': [[484,\n",
       "    291.25,\n",
       "    484,\n",
       "    270,\n",
       "    444,\n",
       "    270,\n",
       "    444,\n",
       "    291.25,\n",
       "    484,\n",
       "    291.25]],\n",
       "  'iscrowd': 0},\n",
       " {'id': 736,\n",
       "  'image_id': 94,\n",
       "  'category_id': 2,\n",
       "  'bbox': [428, 270, 16, 22.5],\n",
       "  'area': 360,\n",
       "  'segmentation': [[444, 292.5, 444, 270, 428, 270, 428, 292.5, 444, 292.5]],\n",
       "  'iscrowd': 0},\n",
       " {'id': 737,\n",
       "  'image_id': 94,\n",
       "  'category_id': 2,\n",
       "  'bbox': [315, 273, 15, 20],\n",
       "  'area': 300,\n",
       "  'segmentation': [[330,\n",
       "    292.5,\n",
       "    330,\n",
       "    272.5,\n",
       "    315,\n",
       "    272.5,\n",
       "    315,\n",
       "    292.5,\n",
       "    330,\n",
       "    292.5]],\n",
       "  'iscrowd': 0},\n",
       " {'id': 738,\n",
       "  'image_id': 94,\n",
       "  'category_id': 2,\n",
       "  'bbox': [330, 274, 15, 16.25],\n",
       "  'area': 243.75,\n",
       "  'segmentation': [[345, 290, 345, 273.75, 330, 273.75, 330, 290, 345, 290]],\n",
       "  'iscrowd': 0},\n",
       " {'id': 739,\n",
       "  'image_id': 95,\n",
       "  'category_id': 2,\n",
       "  'bbox': [0, 291, 109, 113.75],\n",
       "  'area': 12398.75,\n",
       "  'segmentation': [[0, 405, 109, 405, 109, 291.25, 0, 291.25, 0, 405]],\n",
       "  'iscrowd': 0},\n",
       " {'id': 740,\n",
       "  'image_id': 95,\n",
       "  'category_id': 2,\n",
       "  'bbox': [76, 279, 88, 92.5],\n",
       "  'area': 8140,\n",
       "  'segmentation': [[164,\n",
       "    371.25,\n",
       "    164,\n",
       "    278.75,\n",
       "    76,\n",
       "    278.75,\n",
       "    76,\n",
       "    371.25,\n",
       "    164,\n",
       "    371.25]],\n",
       "  'iscrowd': 0},\n",
       " {'id': 741,\n",
       "  'image_id': 95,\n",
       "  'category_id': 2,\n",
       "  'bbox': [158, 288, 52, 60],\n",
       "  'area': 3120,\n",
       "  'segmentation': [[210,\n",
       "    347.5,\n",
       "    210,\n",
       "    287.5,\n",
       "    158,\n",
       "    287.5,\n",
       "    158,\n",
       "    347.5,\n",
       "    210,\n",
       "    347.5]],\n",
       "  'iscrowd': 0},\n",
       " {'id': 742,\n",
       "  'image_id': 95,\n",
       "  'category_id': 2,\n",
       "  'bbox': [229, 285, 27, 23.75],\n",
       "  'area': 641.25,\n",
       "  'segmentation': [[256,\n",
       "    308.75,\n",
       "    256,\n",
       "    285,\n",
       "    229,\n",
       "    285,\n",
       "    229,\n",
       "    308.75,\n",
       "    256,\n",
       "    308.75]],\n",
       "  'iscrowd': 0},\n",
       " {'id': 743,\n",
       "  'image_id': 95,\n",
       "  'category_id': 2,\n",
       "  'bbox': [332, 288, 32, 32.5],\n",
       "  'area': 1040,\n",
       "  'segmentation': [[364, 320, 364, 287.5, 332, 287.5, 332, 320, 364, 320]],\n",
       "  'iscrowd': 0},\n",
       " {'id': 744,\n",
       "  'image_id': 95,\n",
       "  'category_id': 2,\n",
       "  'bbox': [401, 293, 70, 72.5],\n",
       "  'area': 5075,\n",
       "  'segmentation': [[471, 365, 471, 292.5, 401, 292.5, 401, 365, 471, 365]],\n",
       "  'iscrowd': 0},\n",
       " {'id': 745,\n",
       "  'image_id': 95,\n",
       "  'category_id': 2,\n",
       "  'bbox': [445, 305, 143, 126.25],\n",
       "  'area': 18053.75,\n",
       "  'segmentation': [[588,\n",
       "    431.25,\n",
       "    588,\n",
       "    305,\n",
       "    445,\n",
       "    305,\n",
       "    445,\n",
       "    431.25,\n",
       "    588,\n",
       "    431.25]],\n",
       "  'iscrowd': 0},\n",
       " {'id': 746,\n",
       "  'image_id': 95,\n",
       "  'category_id': 1,\n",
       "  'bbox': [568, 325, 71, 62.5],\n",
       "  'area': 4437.5,\n",
       "  'segmentation': [[639, 387.5, 639, 325, 568, 325, 568, 387.5, 639, 387.5]],\n",
       "  'iscrowd': 0},\n",
       " {'id': 747,\n",
       "  'image_id': 95,\n",
       "  'category_id': 4,\n",
       "  'bbox': [586, 274, 19, 63.75],\n",
       "  'area': 1211.25,\n",
       "  'segmentation': [[605,\n",
       "    337.5,\n",
       "    605,\n",
       "    273.75,\n",
       "    586,\n",
       "    273.75,\n",
       "    586,\n",
       "    337.5,\n",
       "    605,\n",
       "    337.5]],\n",
       "  'iscrowd': 0},\n",
       " {'id': 748,\n",
       "  'image_id': 95,\n",
       "  'category_id': 4,\n",
       "  'bbox': [308, 288, 13, 33.75],\n",
       "  'area': 438.75,\n",
       "  'segmentation': [[321,\n",
       "    321.25,\n",
       "    321,\n",
       "    287.5,\n",
       "    308,\n",
       "    287.5,\n",
       "    308,\n",
       "    321.25,\n",
       "    321,\n",
       "    321.25]],\n",
       "  'iscrowd': 0},\n",
       " {'id': 749,\n",
       "  'image_id': 95,\n",
       "  'category_id': 4,\n",
       "  'bbox': [289, 286, 14, 30],\n",
       "  'area': 420,\n",
       "  'segmentation': [[303,\n",
       "    316.25,\n",
       "    303,\n",
       "    286.25,\n",
       "    289,\n",
       "    286.25,\n",
       "    289,\n",
       "    316.25,\n",
       "    303,\n",
       "    316.25]],\n",
       "  'iscrowd': 0},\n",
       " {'id': 750,\n",
       "  'image_id': 95,\n",
       "  'category_id': 2,\n",
       "  'bbox': [588, 400, 51, 163.75],\n",
       "  'area': 8351.25,\n",
       "  'segmentation': [[639,\n",
       "    563.75,\n",
       "    639,\n",
       "    400,\n",
       "    588,\n",
       "    400,\n",
       "    588,\n",
       "    563.75,\n",
       "    639,\n",
       "    563.75]],\n",
       "  'iscrowd': 0},\n",
       " {'id': 751,\n",
       "  'image_id': 95,\n",
       "  'category_id': 2,\n",
       "  'bbox': [325, 284, 17, 27.5],\n",
       "  'area': 467.5,\n",
       "  'segmentation': [[342,\n",
       "    311.25,\n",
       "    342,\n",
       "    283.75,\n",
       "    325,\n",
       "    283.75,\n",
       "    325,\n",
       "    311.25,\n",
       "    342,\n",
       "    311.25]],\n",
       "  'iscrowd': 0},\n",
       " {'id': 752,\n",
       "  'image_id': 97,\n",
       "  'category_id': 4,\n",
       "  'bbox': [99, 299, 21, 70],\n",
       "  'area': 1470,\n",
       "  'segmentation': [[120,\n",
       "    368.75,\n",
       "    120,\n",
       "    298.75,\n",
       "    99,\n",
       "    298.75,\n",
       "    99,\n",
       "    368.75,\n",
       "    120,\n",
       "    368.75]],\n",
       "  'iscrowd': 0},\n",
       " {'id': 753,\n",
       "  'image_id': 97,\n",
       "  'category_id': 2,\n",
       "  'bbox': [32, 293, 65, 42.5],\n",
       "  'area': 2762.5,\n",
       "  'segmentation': [[97, 335, 97, 292.5, 32, 292.5, 32, 335, 97, 335]],\n",
       "  'iscrowd': 0},\n",
       " {'id': 754,\n",
       "  'image_id': 97,\n",
       "  'category_id': 2,\n",
       "  'bbox': [314, 271, 19, 20],\n",
       "  'area': 380,\n",
       "  'segmentation': [[333,\n",
       "    291.25,\n",
       "    333,\n",
       "    271.25,\n",
       "    314,\n",
       "    271.25,\n",
       "    314,\n",
       "    291.25,\n",
       "    333,\n",
       "    291.25]],\n",
       "  'iscrowd': 0},\n",
       " {'id': 755,\n",
       "  'image_id': 97,\n",
       "  'category_id': 2,\n",
       "  'bbox': [369, 285, 36, 36.25],\n",
       "  'area': 1305,\n",
       "  'segmentation': [[405,\n",
       "    321.25,\n",
       "    405,\n",
       "    285,\n",
       "    369,\n",
       "    285,\n",
       "    369,\n",
       "    321.25,\n",
       "    405,\n",
       "    321.25]],\n",
       "  'iscrowd': 0},\n",
       " {'id': 756,\n",
       "  'image_id': 97,\n",
       "  'category_id': 2,\n",
       "  'bbox': [373, 294, 51, 42.5],\n",
       "  'area': 2167.5,\n",
       "  'segmentation': [[424,\n",
       "    336.25,\n",
       "    424,\n",
       "    293.75,\n",
       "    373,\n",
       "    293.75,\n",
       "    373,\n",
       "    336.25,\n",
       "    424,\n",
       "    336.25]],\n",
       "  'iscrowd': 0},\n",
       " {'id': 757,\n",
       "  'image_id': 97,\n",
       "  'category_id': 2,\n",
       "  'bbox': [424, 303, 149, 128.75],\n",
       "  'area': 19183.75,\n",
       "  'segmentation': [[573,\n",
       "    431.25,\n",
       "    573,\n",
       "    302.5,\n",
       "    424,\n",
       "    302.5,\n",
       "    424,\n",
       "    431.25,\n",
       "    573,\n",
       "    431.25]],\n",
       "  'iscrowd': 0},\n",
       " {'id': 758,\n",
       "  'image_id': 97,\n",
       "  'category_id': 2,\n",
       "  'bbox': [488, 371, 151, 267.5],\n",
       "  'area': 40392.5,\n",
       "  'segmentation': [[639,\n",
       "    638.75,\n",
       "    639,\n",
       "    371.25,\n",
       "    488,\n",
       "    371.25,\n",
       "    488,\n",
       "    638.75,\n",
       "    639,\n",
       "    638.75]],\n",
       "  'iscrowd': 0},\n",
       " {'id': 759,\n",
       "  'image_id': 97,\n",
       "  'category_id': 2,\n",
       "  'bbox': [98, 279, 48, 45],\n",
       "  'area': 2160,\n",
       "  'segmentation': [[146,\n",
       "    323.75,\n",
       "    146,\n",
       "    278.75,\n",
       "    98,\n",
       "    278.75,\n",
       "    98,\n",
       "    323.75,\n",
       "    146,\n",
       "    323.75]],\n",
       "  'iscrowd': 0},\n",
       " {'id': 760,\n",
       "  'image_id': 97,\n",
       "  'category_id': 2,\n",
       "  'bbox': [154, 278, 30, 28.75],\n",
       "  'area': 862.5,\n",
       "  'segmentation': [[184,\n",
       "    306.25,\n",
       "    184,\n",
       "    277.5,\n",
       "    154,\n",
       "    277.5,\n",
       "    154,\n",
       "    306.25,\n",
       "    184,\n",
       "    306.25]],\n",
       "  'iscrowd': 0},\n",
       " {'id': 761,\n",
       "  'image_id': 97,\n",
       "  'category_id': 2,\n",
       "  'bbox': [170, 283, 58, 28.75],\n",
       "  'area': 1667.5,\n",
       "  'segmentation': [[228,\n",
       "    311.25,\n",
       "    228,\n",
       "    282.5,\n",
       "    170,\n",
       "    282.5,\n",
       "    170,\n",
       "    311.25,\n",
       "    228,\n",
       "    311.25]],\n",
       "  'iscrowd': 0},\n",
       " {'id': 762,\n",
       "  'image_id': 97,\n",
       "  'category_id': 2,\n",
       "  'bbox': [276, 280, 16, 17.5],\n",
       "  'area': 280,\n",
       "  'segmentation': [[292, 297.5, 292, 280, 276, 280, 276, 297.5, 292, 297.5]],\n",
       "  'iscrowd': 0},\n",
       " {'id': 763,\n",
       "  'image_id': 97,\n",
       "  'category_id': 2,\n",
       "  'bbox': [288, 278, 13, 15],\n",
       "  'area': 195,\n",
       "  'segmentation': [[301,\n",
       "    292.5,\n",
       "    301,\n",
       "    277.5,\n",
       "    288,\n",
       "    277.5,\n",
       "    288,\n",
       "    292.5,\n",
       "    301,\n",
       "    292.5]],\n",
       "  'iscrowd': 0},\n",
       " {'id': 764,\n",
       "  'image_id': 97,\n",
       "  'category_id': 2,\n",
       "  'bbox': [355, 284, 22, 32.5],\n",
       "  'area': 715,\n",
       "  'segmentation': [[377,\n",
       "    316.25,\n",
       "    377,\n",
       "    283.75,\n",
       "    355,\n",
       "    283.75,\n",
       "    355,\n",
       "    316.25,\n",
       "    377,\n",
       "    316.25]],\n",
       "  'iscrowd': 0},\n",
       " {'id': 765,\n",
       "  'image_id': 98,\n",
       "  'category_id': 4,\n",
       "  'bbox': [398, 261, 31, 135],\n",
       "  'area': 4185,\n",
       "  'segmentation': [[429,\n",
       "    396.25,\n",
       "    429,\n",
       "    261.25,\n",
       "    398,\n",
       "    261.25,\n",
       "    398,\n",
       "    396.25,\n",
       "    429,\n",
       "    396.25]],\n",
       "  'iscrowd': 0},\n",
       " {'id': 766,\n",
       "  'image_id': 98,\n",
       "  'category_id': 2,\n",
       "  'bbox': [214, 294, 28, 28.75],\n",
       "  'area': 805,\n",
       "  'segmentation': [[242,\n",
       "    322.5,\n",
       "    242,\n",
       "    293.75,\n",
       "    214,\n",
       "    293.75,\n",
       "    214,\n",
       "    322.5,\n",
       "    242,\n",
       "    322.5]],\n",
       "  'iscrowd': 0},\n",
       " {'id': 767,\n",
       "  'image_id': 98,\n",
       "  'category_id': 2,\n",
       "  'bbox': [138, 298, 26, 21.25],\n",
       "  'area': 552.5,\n",
       "  'segmentation': [[164,\n",
       "    318.75,\n",
       "    164,\n",
       "    297.5,\n",
       "    138,\n",
       "    297.5,\n",
       "    138,\n",
       "    318.75,\n",
       "    164,\n",
       "    318.75]],\n",
       "  'iscrowd': 0},\n",
       " {'id': 768,\n",
       "  'image_id': 98,\n",
       "  'category_id': 2,\n",
       "  'bbox': [115, 296, 31, 23.75],\n",
       "  'area': 736.25,\n",
       "  'segmentation': [[146, 320, 146, 296.25, 115, 296.25, 115, 320, 146, 320]],\n",
       "  'iscrowd': 0},\n",
       " {'id': 769,\n",
       "  'image_id': 98,\n",
       "  'category_id': 2,\n",
       "  'bbox': [101, 298, 14, 18.75],\n",
       "  'area': 262.5,\n",
       "  'segmentation': [[115,\n",
       "    316.25,\n",
       "    115,\n",
       "    297.5,\n",
       "    101,\n",
       "    297.5,\n",
       "    101,\n",
       "    316.25,\n",
       "    115,\n",
       "    316.25]],\n",
       "  'iscrowd': 0},\n",
       " {'id': 770,\n",
       "  'image_id': 98,\n",
       "  'category_id': 2,\n",
       "  'bbox': [83, 296, 13, 27.5],\n",
       "  'area': 357.5,\n",
       "  'segmentation': [[96,\n",
       "    323.75,\n",
       "    96,\n",
       "    296.25,\n",
       "    83,\n",
       "    296.25,\n",
       "    83,\n",
       "    323.75,\n",
       "    96,\n",
       "    323.75]],\n",
       "  'iscrowd': 0},\n",
       " {'id': 771,\n",
       "  'image_id': 98,\n",
       "  'category_id': 2,\n",
       "  'bbox': [66, 294, 14, 18.75],\n",
       "  'area': 262.5,\n",
       "  'segmentation': [[80, 312.5, 80, 293.75, 66, 293.75, 66, 312.5, 80, 312.5]],\n",
       "  'iscrowd': 0},\n",
       " {'id': 772,\n",
       "  'image_id': 98,\n",
       "  'category_id': 2,\n",
       "  'bbox': [17, 294, 39, 32.5],\n",
       "  'area': 1267.5,\n",
       "  'segmentation': [[56,\n",
       "    326.25,\n",
       "    56,\n",
       "    293.75,\n",
       "    17,\n",
       "    293.75,\n",
       "    17,\n",
       "    326.25,\n",
       "    56,\n",
       "    326.25]],\n",
       "  'iscrowd': 0},\n",
       " {'id': 773,\n",
       "  'image_id': 98,\n",
       "  'category_id': 2,\n",
       "  'bbox': [271, 295, 19, 22.5],\n",
       "  'area': 427.5,\n",
       "  'segmentation': [[290, 317.5, 290, 295, 271, 295, 271, 317.5, 290, 317.5]],\n",
       "  'iscrowd': 0},\n",
       " {'id': 774,\n",
       "  'image_id': 99,\n",
       "  'category_id': 4,\n",
       "  'bbox': [615, 303, 19, 57.5],\n",
       "  'area': 1092.5,\n",
       "  'segmentation': [[634, 360, 634, 302.5, 615, 302.5, 615, 360, 634, 360]],\n",
       "  'iscrowd': 0},\n",
       " {'id': 775,\n",
       "  'image_id': 99,\n",
       "  'category_id': 2,\n",
       "  'bbox': [0, 311, 191, 227.5],\n",
       "  'area': 43452.5,\n",
       "  'segmentation': [[0,\n",
       "    538.75,\n",
       "    191,\n",
       "    538.75,\n",
       "    191,\n",
       "    311.25,\n",
       "    0,\n",
       "    311.25,\n",
       "    0,\n",
       "    538.75]],\n",
       "  'iscrowd': 0},\n",
       " {'id': 776,\n",
       "  'image_id': 99,\n",
       "  'category_id': 2,\n",
       "  'bbox': [100, 285, 31, 13.75],\n",
       "  'area': 426.25,\n",
       "  'segmentation': [[131,\n",
       "    298.75,\n",
       "    131,\n",
       "    285,\n",
       "    100,\n",
       "    285,\n",
       "    100,\n",
       "    298.75,\n",
       "    131,\n",
       "    298.75]],\n",
       "  'iscrowd': 0},\n",
       " {'id': 777,\n",
       "  'image_id': 99,\n",
       "  'category_id': 2,\n",
       "  'bbox': [298, 294, 45, 45],\n",
       "  'area': 2025,\n",
       "  'segmentation': [[343,\n",
       "    338.75,\n",
       "    343,\n",
       "    293.75,\n",
       "    298,\n",
       "    293.75,\n",
       "    298,\n",
       "    338.75,\n",
       "    343,\n",
       "    338.75]],\n",
       "  'iscrowd': 0},\n",
       " {'id': 778,\n",
       "  'image_id': 99,\n",
       "  'category_id': 2,\n",
       "  'bbox': [398, 286, 37, 23.75],\n",
       "  'area': 878.75,\n",
       "  'segmentation': [[435, 310, 435, 286.25, 398, 286.25, 398, 310, 435, 310]],\n",
       "  'iscrowd': 0},\n",
       " {'id': 779,\n",
       "  'image_id': 99,\n",
       "  'category_id': 2,\n",
       "  'bbox': [434, 295, 18, 15],\n",
       "  'area': 270,\n",
       "  'segmentation': [[452, 310, 452, 295, 434, 295, 434, 310, 452, 310]],\n",
       "  'iscrowd': 0},\n",
       " {'id': 780,\n",
       "  'image_id': 99,\n",
       "  'category_id': 2,\n",
       "  'bbox': [80, 285, 18, 16.25],\n",
       "  'area': 292.5,\n",
       "  'segmentation': [[98, 301.25, 98, 285, 80, 285, 80, 301.25, 98, 301.25]],\n",
       "  'iscrowd': 0},\n",
       " {'id': 781,\n",
       "  'image_id': 100,\n",
       "  'category_id': 2,\n",
       "  'bbox': [0, 258, 104, 88.75],\n",
       "  'area': 9230,\n",
       "  'segmentation': [[0, 346.25, 104, 346.25, 104, 257.5, 0, 257.5, 0, 346.25]],\n",
       "  'iscrowd': 0},\n",
       " {'id': 782,\n",
       "  'image_id': 100,\n",
       "  'category_id': 2,\n",
       "  'bbox': [104, 273, 66, 75],\n",
       "  'area': 4950,\n",
       "  'segmentation': [[170,\n",
       "    347.5,\n",
       "    170,\n",
       "    272.5,\n",
       "    104,\n",
       "    272.5,\n",
       "    104,\n",
       "    347.5,\n",
       "    170,\n",
       "    347.5]],\n",
       "  'iscrowd': 0},\n",
       " {'id': 783,\n",
       "  'image_id': 100,\n",
       "  'category_id': 2,\n",
       "  'bbox': [30, 301, 51, 60],\n",
       "  'area': 3060,\n",
       "  'segmentation': [[81,\n",
       "    361.25,\n",
       "    81,\n",
       "    301.25,\n",
       "    30,\n",
       "    301.25,\n",
       "    30,\n",
       "    361.25,\n",
       "    81,\n",
       "    361.25]],\n",
       "  'iscrowd': 0},\n",
       " {'id': 784,\n",
       "  'image_id': 100,\n",
       "  'category_id': 2,\n",
       "  'bbox': [0, 283, 31, 82.5],\n",
       "  'area': 2557.5,\n",
       "  'segmentation': [[0, 365, 31, 365, 31, 282.5, 0, 282.5, 0, 365]],\n",
       "  'iscrowd': 0},\n",
       " {'id': 785,\n",
       "  'image_id': 100,\n",
       "  'category_id': 2,\n",
       "  'bbox': [170, 275, 39, 68.75],\n",
       "  'area': 2681.25,\n",
       "  'segmentation': [[209,\n",
       "    343.75,\n",
       "    209,\n",
       "    275,\n",
       "    170,\n",
       "    275,\n",
       "    170,\n",
       "    343.75,\n",
       "    209,\n",
       "    343.75]],\n",
       "  'iscrowd': 0},\n",
       " {'id': 786,\n",
       "  'image_id': 100,\n",
       "  'category_id': 4,\n",
       "  'bbox': [340, 278, 18, 37.5],\n",
       "  'area': 675,\n",
       "  'segmentation': [[358, 315, 358, 277.5, 340, 277.5, 340, 315, 358, 315]],\n",
       "  'iscrowd': 0},\n",
       " {'id': 787,\n",
       "  'image_id': 100,\n",
       "  'category_id': 4,\n",
       "  'bbox': [545, 268, 16, 48.75],\n",
       "  'area': 780,\n",
       "  'segmentation': [[561,\n",
       "    316.25,\n",
       "    561,\n",
       "    267.5,\n",
       "    545,\n",
       "    267.5,\n",
       "    545,\n",
       "    316.25,\n",
       "    561,\n",
       "    316.25]],\n",
       "  'iscrowd': 0},\n",
       " {'id': 788,\n",
       "  'image_id': 100,\n",
       "  'category_id': 4,\n",
       "  'bbox': [406, 281, 16, 35],\n",
       "  'area': 560,\n",
       "  'segmentation': [[422,\n",
       "    316.25,\n",
       "    422,\n",
       "    281.25,\n",
       "    406,\n",
       "    281.25,\n",
       "    406,\n",
       "    316.25,\n",
       "    422,\n",
       "    316.25]],\n",
       "  'iscrowd': 0},\n",
       " {'id': 789,\n",
       "  'image_id': 100,\n",
       "  'category_id': 4,\n",
       "  'bbox': [491, 266, 13, 27.5],\n",
       "  'area': 357.5,\n",
       "  'segmentation': [[504,\n",
       "    293.75,\n",
       "    504,\n",
       "    266.25,\n",
       "    491,\n",
       "    266.25,\n",
       "    491,\n",
       "    293.75,\n",
       "    504,\n",
       "    293.75]],\n",
       "  'iscrowd': 0},\n",
       " {'id': 790,\n",
       "  'image_id': 100,\n",
       "  'category_id': 1,\n",
       "  'bbox': [600, 293, 16, 36.25],\n",
       "  'area': 580,\n",
       "  'segmentation': [[616,\n",
       "    328.75,\n",
       "    616,\n",
       "    292.5,\n",
       "    600,\n",
       "    292.5,\n",
       "    600,\n",
       "    328.75,\n",
       "    616,\n",
       "    328.75]],\n",
       "  'iscrowd': 0},\n",
       " {'id': 791,\n",
       "  'image_id': 100,\n",
       "  'category_id': 1,\n",
       "  'bbox': [580, 291, 13, 38.75],\n",
       "  'area': 503.75,\n",
       "  'segmentation': [[593, 330, 593, 291.25, 580, 291.25, 580, 330, 593, 330]],\n",
       "  'iscrowd': 0},\n",
       " {'id': 792,\n",
       "  'image_id': 100,\n",
       "  'category_id': 1,\n",
       "  'bbox': [563, 293, 13, 38.75],\n",
       "  'area': 503.75,\n",
       "  'segmentation': [[576,\n",
       "    331.25,\n",
       "    576,\n",
       "    292.5,\n",
       "    563,\n",
       "    292.5,\n",
       "    563,\n",
       "    331.25,\n",
       "    576,\n",
       "    331.25]],\n",
       "  'iscrowd': 0},\n",
       " {'id': 793,\n",
       "  'image_id': 100,\n",
       "  'category_id': 4,\n",
       "  'bbox': [191, 270, 13, 20],\n",
       "  'area': 260,\n",
       "  'segmentation': [[204, 290, 204, 270, 191, 270, 191, 290, 204, 290]],\n",
       "  'iscrowd': 0},\n",
       " {'id': 794,\n",
       "  'image_id': 100,\n",
       "  'category_id': 1,\n",
       "  'bbox': [211, 286, 15, 43.75],\n",
       "  'area': 656.25,\n",
       "  'segmentation': [[226, 330, 226, 286.25, 211, 286.25, 211, 330, 226, 330]],\n",
       "  'iscrowd': 0},\n",
       " {'id': 795,\n",
       "  'image_id': 100,\n",
       "  'category_id': 1,\n",
       "  'bbox': [227, 294, 14, 36.25],\n",
       "  'area': 507.5,\n",
       "  'segmentation': [[241, 330, 241, 293.75, 227, 293.75, 227, 330, 241, 330]],\n",
       "  'iscrowd': 0},\n",
       " {'id': 796,\n",
       "  'image_id': 101,\n",
       "  'category_id': 2,\n",
       "  'bbox': [250, 291, 94, 76.25],\n",
       "  'area': 7167.5,\n",
       "  'segmentation': [[344,\n",
       "    367.5,\n",
       "    344,\n",
       "    291.25,\n",
       "    250,\n",
       "    291.25,\n",
       "    250,\n",
       "    367.5,\n",
       "    344,\n",
       "    367.5]],\n",
       "  'iscrowd': 0},\n",
       " {'id': 797,\n",
       "  'image_id': 101,\n",
       "  'category_id': 4,\n",
       "  'bbox': [17, 298, 16, 52.5],\n",
       "  'area': 840,\n",
       "  'segmentation': [[33, 350, 33, 297.5, 17, 297.5, 17, 350, 33, 350]],\n",
       "  'iscrowd': 0},\n",
       " {'id': 798,\n",
       "  'image_id': 101,\n",
       "  'category_id': 4,\n",
       "  'bbox': [5, 291, 15, 57.5],\n",
       "  'area': 862.5,\n",
       "  'segmentation': [[20, 348.75, 20, 291.25, 5, 291.25, 5, 348.75, 20, 348.75]],\n",
       "  'iscrowd': 0},\n",
       " {'id': 799,\n",
       "  'image_id': 101,\n",
       "  'category_id': 4,\n",
       "  'bbox': [449, 261, 22, 82.5],\n",
       "  'area': 1815,\n",
       "  'segmentation': [[471,\n",
       "    343.75,\n",
       "    471,\n",
       "    261.25,\n",
       "    449,\n",
       "    261.25,\n",
       "    449,\n",
       "    343.75,\n",
       "    471,\n",
       "    343.75]],\n",
       "  'iscrowd': 0},\n",
       " {'id': 800,\n",
       "  'image_id': 101,\n",
       "  'category_id': 4,\n",
       "  'bbox': [472, 258, 19, 95],\n",
       "  'area': 1805,\n",
       "  'segmentation': [[491,\n",
       "    352.5,\n",
       "    491,\n",
       "    257.5,\n",
       "    472,\n",
       "    257.5,\n",
       "    472,\n",
       "    352.5,\n",
       "    491,\n",
       "    352.5]],\n",
       "  'iscrowd': 0},\n",
       " {'id': 801,\n",
       "  'image_id': 101,\n",
       "  'category_id': 4,\n",
       "  'bbox': [384, 278, 14, 41.25],\n",
       "  'area': 577.5,\n",
       "  'segmentation': [[398,\n",
       "    318.75,\n",
       "    398,\n",
       "    277.5,\n",
       "    384,\n",
       "    277.5,\n",
       "    384,\n",
       "    318.75,\n",
       "    398,\n",
       "    318.75]],\n",
       "  'iscrowd': 0},\n",
       " {'id': 802,\n",
       "  'image_id': 101,\n",
       "  'category_id': 2,\n",
       "  'bbox': [498, 271, 36, 52.5],\n",
       "  'area': 1890,\n",
       "  'segmentation': [[534,\n",
       "    323.75,\n",
       "    534,\n",
       "    271.25,\n",
       "    498,\n",
       "    271.25,\n",
       "    498,\n",
       "    323.75,\n",
       "    534,\n",
       "    323.75]],\n",
       "  'iscrowd': 0},\n",
       " {'id': 803,\n",
       "  'image_id': 101,\n",
       "  'category_id': 2,\n",
       "  'bbox': [548, 243, 91, 90],\n",
       "  'area': 8190,\n",
       "  'segmentation': [[639,\n",
       "    332.5,\n",
       "    639,\n",
       "    242.5,\n",
       "    548,\n",
       "    242.5,\n",
       "    548,\n",
       "    332.5,\n",
       "    639,\n",
       "    332.5]],\n",
       "  'iscrowd': 0},\n",
       " {'id': 804,\n",
       "  'image_id': 101,\n",
       "  'category_id': 2,\n",
       "  'bbox': [579, 273, 60, 76.25],\n",
       "  'area': 4575,\n",
       "  'segmentation': [[639,\n",
       "    348.75,\n",
       "    639,\n",
       "    272.5,\n",
       "    579,\n",
       "    272.5,\n",
       "    579,\n",
       "    348.75,\n",
       "    639,\n",
       "    348.75]],\n",
       "  'iscrowd': 0},\n",
       " {'id': 805,\n",
       "  'image_id': 101,\n",
       "  'category_id': 4,\n",
       "  'bbox': [397, 271, 16, 32.5],\n",
       "  'area': 520,\n",
       "  'segmentation': [[413,\n",
       "    303.75,\n",
       "    413,\n",
       "    271.25,\n",
       "    397,\n",
       "    271.25,\n",
       "    397,\n",
       "    303.75,\n",
       "    413,\n",
       "    303.75]],\n",
       "  'iscrowd': 0},\n",
       " {'id': 806,\n",
       "  'image_id': 101,\n",
       "  'category_id': 2,\n",
       "  'bbox': [403, 276, 17, 17.5],\n",
       "  'area': 297.5,\n",
       "  'segmentation': [[420,\n",
       "    293.75,\n",
       "    420,\n",
       "    276.25,\n",
       "    403,\n",
       "    276.25,\n",
       "    403,\n",
       "    293.75,\n",
       "    420,\n",
       "    293.75]],\n",
       "  'iscrowd': 0},\n",
       " {'id': 807,\n",
       "  'image_id': 101,\n",
       "  'category_id': 4,\n",
       "  'bbox': [72, 303, 15, 20],\n",
       "  'area': 300,\n",
       "  'segmentation': [[87, 322.5, 87, 302.5, 72, 302.5, 72, 322.5, 87, 322.5]],\n",
       "  'iscrowd': 0},\n",
       " {'id': 808,\n",
       "  'image_id': 101,\n",
       "  'category_id': 4,\n",
       "  'bbox': [360, 278, 12, 32.5],\n",
       "  'area': 390,\n",
       "  'segmentation': [[372, 310, 372, 277.5, 360, 277.5, 360, 310, 372, 310]],\n",
       "  'iscrowd': 0},\n",
       " {'id': 809,\n",
       "  'image_id': 101,\n",
       "  'category_id': 4,\n",
       "  'bbox': [351, 279, 12, 28.75],\n",
       "  'area': 345,\n",
       "  'segmentation': [[363,\n",
       "    307.5,\n",
       "    363,\n",
       "    278.75,\n",
       "    351,\n",
       "    278.75,\n",
       "    351,\n",
       "    307.5,\n",
       "    363,\n",
       "    307.5]],\n",
       "  'iscrowd': 0},\n",
       " {'id': 810,\n",
       "  'image_id': 102,\n",
       "  'category_id': 4,\n",
       "  'bbox': [356, 280, 14, 43.75],\n",
       "  'area': 612.5,\n",
       "  'segmentation': [[370,\n",
       "    323.75,\n",
       "    370,\n",
       "    280,\n",
       "    356,\n",
       "    280,\n",
       "    356,\n",
       "    323.75,\n",
       "    370,\n",
       "    323.75]],\n",
       "  'iscrowd': 0},\n",
       " {'id': 811,\n",
       "  'image_id': 102,\n",
       "  'category_id': 4,\n",
       "  'bbox': [348, 285, 15, 42.5],\n",
       "  'area': 637.5,\n",
       "  'segmentation': [[363, 327.5, 363, 285, 348, 285, 348, 327.5, 363, 327.5]],\n",
       "  'iscrowd': 0},\n",
       " {'id': 812,\n",
       "  'image_id': 102,\n",
       "  'category_id': 4,\n",
       "  'bbox': [340, 281, 15, 46.25],\n",
       "  'area': 693.75,\n",
       "  'segmentation': [[355,\n",
       "    327.5,\n",
       "    355,\n",
       "    281.25,\n",
       "    340,\n",
       "    281.25,\n",
       "    340,\n",
       "    327.5,\n",
       "    355,\n",
       "    327.5]],\n",
       "  'iscrowd': 0},\n",
       " {'id': 813,\n",
       "  'image_id': 102,\n",
       "  'category_id': 2,\n",
       "  'bbox': [321, 280, 29, 22.5],\n",
       "  'area': 652.5,\n",
       "  'segmentation': [[350, 302.5, 350, 280, 321, 280, 321, 302.5, 350, 302.5]],\n",
       "  'iscrowd': 0},\n",
       " {'id': 814,\n",
       "  'image_id': 102,\n",
       "  'category_id': 2,\n",
       "  'bbox': [382, 288, 86, 82.5],\n",
       "  'area': 7095,\n",
       "  'segmentation': [[468, 370, 468, 287.5, 382, 287.5, 382, 370, 468, 370]],\n",
       "  'iscrowd': 0},\n",
       " {'id': 815,\n",
       "  'image_id': 102,\n",
       "  'category_id': 2,\n",
       "  'bbox': [449, 331, 116, 118.75],\n",
       "  'area': 13775,\n",
       "  'segmentation': [[565, 450, 565, 331.25, 449, 331.25, 449, 450, 565, 450]],\n",
       "  'iscrowd': 0},\n",
       " {'id': 816,\n",
       "  'image_id': 102,\n",
       "  'category_id': 2,\n",
       "  'bbox': [491, 316, 148, 296.25],\n",
       "  'area': 43845,\n",
       "  'segmentation': [[639,\n",
       "    612.5,\n",
       "    639,\n",
       "    316.25,\n",
       "    491,\n",
       "    316.25,\n",
       "    491,\n",
       "    612.5,\n",
       "    639,\n",
       "    612.5]],\n",
       "  'iscrowd': 0},\n",
       " {'id': 817,\n",
       "  'image_id': 102,\n",
       "  'category_id': 2,\n",
       "  'bbox': [246, 280, 27, 35],\n",
       "  'area': 945,\n",
       "  'segmentation': [[273, 315, 273, 280, 246, 280, 246, 315, 273, 315]],\n",
       "  'iscrowd': 0},\n",
       " {'id': 818,\n",
       "  'image_id': 102,\n",
       "  'category_id': 2,\n",
       "  'bbox': [176, 280, 59, 73.75],\n",
       "  'area': 4351.25,\n",
       "  'segmentation': [[235,\n",
       "    353.75,\n",
       "    235,\n",
       "    280,\n",
       "    176,\n",
       "    280,\n",
       "    176,\n",
       "    353.75,\n",
       "    235,\n",
       "    353.75]],\n",
       "  'iscrowd': 0},\n",
       " {'id': 819,\n",
       "  'image_id': 102,\n",
       "  'category_id': 2,\n",
       "  'bbox': [144, 298, 59, 68.75],\n",
       "  'area': 4056.25,\n",
       "  'segmentation': [[203,\n",
       "    366.25,\n",
       "    203,\n",
       "    297.5,\n",
       "    144,\n",
       "    297.5,\n",
       "    144,\n",
       "    366.25,\n",
       "    203,\n",
       "    366.25]],\n",
       "  'iscrowd': 0},\n",
       " {'id': 820,\n",
       "  'image_id': 102,\n",
       "  'category_id': 2,\n",
       "  'bbox': [93, 314, 74, 82.5],\n",
       "  'area': 6105,\n",
       "  'segmentation': [[167,\n",
       "    396.25,\n",
       "    167,\n",
       "    313.75,\n",
       "    93,\n",
       "    313.75,\n",
       "    93,\n",
       "    396.25,\n",
       "    167,\n",
       "    396.25]],\n",
       "  'iscrowd': 0},\n",
       " {'id': 821,\n",
       "  'image_id': 102,\n",
       "  'category_id': 2,\n",
       "  'bbox': [1, 326, 111, 112.5],\n",
       "  'area': 12487.5,\n",
       "  'segmentation': [[112,\n",
       "    438.75,\n",
       "    112,\n",
       "    326.25,\n",
       "    1,\n",
       "    326.25,\n",
       "    1,\n",
       "    438.75,\n",
       "    112,\n",
       "    438.75]],\n",
       "  'iscrowd': 0},\n",
       " {'id': 822,\n",
       "  'image_id': 102,\n",
       "  'category_id': 2,\n",
       "  'bbox': [0, 360, 29, 113.75],\n",
       "  'area': 3298.75,\n",
       "  'segmentation': [[0, 473.75, 29, 473.75, 29, 360, 0, 360, 0, 473.75]],\n",
       "  'iscrowd': 0},\n",
       " {'id': 823,\n",
       "  'image_id': 102,\n",
       "  'category_id': 2,\n",
       "  'bbox': [5, 285, 40, 25],\n",
       "  'area': 1000,\n",
       "  'segmentation': [[45, 310, 45, 285, 5, 285, 5, 310, 45, 310]],\n",
       "  'iscrowd': 0},\n",
       " {'id': 824,\n",
       "  'image_id': 102,\n",
       "  'category_id': 2,\n",
       "  'bbox': [35, 285, 47, 25],\n",
       "  'area': 1175,\n",
       "  'segmentation': [[82, 310, 82, 285, 35, 285, 35, 310, 82, 310]],\n",
       "  'iscrowd': 0},\n",
       " {'id': 825,\n",
       "  'image_id': 102,\n",
       "  'category_id': 2,\n",
       "  'bbox': [274, 281, 16, 18.75],\n",
       "  'area': 300,\n",
       "  'segmentation': [[290, 300, 290, 281.25, 274, 281.25, 274, 300, 290, 300]],\n",
       "  'iscrowd': 0},\n",
       " {'id': 826,\n",
       "  'image_id': 103,\n",
       "  'category_id': 2,\n",
       "  'bbox': [344, 285, 14, 16.25],\n",
       "  'area': 227.5,\n",
       "  'segmentation': [[358,\n",
       "    301.25,\n",
       "    358,\n",
       "    285,\n",
       "    344,\n",
       "    285,\n",
       "    344,\n",
       "    301.25,\n",
       "    358,\n",
       "    301.25]],\n",
       "  'iscrowd': 0},\n",
       " {'id': 827,\n",
       "  'image_id': 103,\n",
       "  'category_id': 2,\n",
       "  'bbox': [298, 290, 18, 22.5],\n",
       "  'area': 405,\n",
       "  'segmentation': [[316, 312.5, 316, 290, 298, 290, 298, 312.5, 316, 312.5]],\n",
       "  'iscrowd': 0},\n",
       " {'id': 828,\n",
       "  'image_id': 103,\n",
       "  'category_id': 2,\n",
       "  'bbox': [292, 291, 14, 23.75],\n",
       "  'area': 332.5,\n",
       "  'segmentation': [[306, 315, 306, 291.25, 292, 291.25, 292, 315, 306, 315]],\n",
       "  'iscrowd': 0},\n",
       " {'id': 829,\n",
       "  'image_id': 103,\n",
       "  'category_id': 2,\n",
       "  'bbox': [271, 294, 27, 28.75],\n",
       "  'area': 776.25,\n",
       "  'segmentation': [[298,\n",
       "    322.5,\n",
       "    298,\n",
       "    293.75,\n",
       "    271,\n",
       "    293.75,\n",
       "    271,\n",
       "    322.5,\n",
       "    298,\n",
       "    322.5]],\n",
       "  'iscrowd': 0},\n",
       " {'id': 830,\n",
       "  'image_id': 103,\n",
       "  'category_id': 2,\n",
       "  'bbox': [334, 285, 13, 15],\n",
       "  'area': 195,\n",
       "  'segmentation': [[347, 300, 347, 285, 334, 285, 334, 300, 347, 300]],\n",
       "  'iscrowd': 0},\n",
       " {'id': 831,\n",
       "  'image_id': 104,\n",
       "  'category_id': 2,\n",
       "  'bbox': [586, 304, 53, 78.75],\n",
       "  'area': 4173.75,\n",
       "  'segmentation': [[639,\n",
       "    382.5,\n",
       "    639,\n",
       "    303.75,\n",
       "    586,\n",
       "    303.75,\n",
       "    586,\n",
       "    382.5,\n",
       "    639,\n",
       "    382.5]],\n",
       "  'iscrowd': 0},\n",
       " {'id': 832,\n",
       "  'image_id': 104,\n",
       "  'category_id': 4,\n",
       "  'bbox': [537, 328, 101, 227.5],\n",
       "  'area': 22977.5,\n",
       "  'segmentation': [[638, 555, 638, 327.5, 537, 327.5, 537, 555, 638, 555]],\n",
       "  'iscrowd': 0},\n",
       " {'id': 833,\n",
       "  'image_id': 104,\n",
       "  'category_id': 4,\n",
       "  'bbox': [334, 258, 13, 31.25],\n",
       "  'area': 406.25,\n",
       "  'segmentation': [[347,\n",
       "    288.75,\n",
       "    347,\n",
       "    257.5,\n",
       "    334,\n",
       "    257.5,\n",
       "    334,\n",
       "    288.75,\n",
       "    347,\n",
       "    288.75]],\n",
       "  'iscrowd': 0},\n",
       " {'id': 834,\n",
       "  'image_id': 104,\n",
       "  'category_id': 2,\n",
       "  'bbox': [529, 264, 40, 43.75],\n",
       "  'area': 1750,\n",
       "  'segmentation': [[569,\n",
       "    307.5,\n",
       "    569,\n",
       "    263.75,\n",
       "    529,\n",
       "    263.75,\n",
       "    529,\n",
       "    307.5,\n",
       "    569,\n",
       "    307.5]],\n",
       "  'iscrowd': 0},\n",
       " {'id': 835,\n",
       "  'image_id': 104,\n",
       "  'category_id': 2,\n",
       "  'bbox': [575, 260, 40, 47.5],\n",
       "  'area': 1900,\n",
       "  'segmentation': [[615, 307.5, 615, 260, 575, 260, 575, 307.5, 615, 307.5]],\n",
       "  'iscrowd': 0},\n",
       " {'id': 836,\n",
       "  'image_id': 104,\n",
       "  'category_id': 2,\n",
       "  'bbox': [346, 268, 16, 17.5],\n",
       "  'area': 280,\n",
       "  'segmentation': [[362, 285, 362, 267.5, 346, 267.5, 346, 285, 362, 285]],\n",
       "  'iscrowd': 0},\n",
       " {'id': 837,\n",
       "  'image_id': 104,\n",
       "  'category_id': 2,\n",
       "  'bbox': [362, 266, 16, 20],\n",
       "  'area': 320,\n",
       "  'segmentation': [[378,\n",
       "    286.25,\n",
       "    378,\n",
       "    266.25,\n",
       "    362,\n",
       "    266.25,\n",
       "    362,\n",
       "    286.25,\n",
       "    378,\n",
       "    286.25]],\n",
       "  'iscrowd': 0},\n",
       " {'id': 838,\n",
       "  'image_id': 105,\n",
       "  'category_id': 2,\n",
       "  'bbox': [156, 306, 55, 42.5],\n",
       "  'area': 2337.5,\n",
       "  'segmentation': [[211,\n",
       "    348.75,\n",
       "    211,\n",
       "    306.25,\n",
       "    156,\n",
       "    306.25,\n",
       "    156,\n",
       "    348.75,\n",
       "    211,\n",
       "    348.75]],\n",
       "  'iscrowd': 0},\n",
       " {'id': 839,\n",
       "  'image_id': 105,\n",
       "  'category_id': 2,\n",
       "  'bbox': [312, 305, 17, 21.25],\n",
       "  'area': 361.25,\n",
       "  'segmentation': [[329,\n",
       "    326.25,\n",
       "    329,\n",
       "    305,\n",
       "    312,\n",
       "    305,\n",
       "    312,\n",
       "    326.25,\n",
       "    329,\n",
       "    326.25]],\n",
       "  'iscrowd': 0},\n",
       " {'id': 840,\n",
       "  'image_id': 105,\n",
       "  'category_id': 4,\n",
       "  'bbox': [430, 305, 12, 25],\n",
       "  'area': 300,\n",
       "  'segmentation': [[442, 330, 442, 305, 430, 305, 430, 330, 442, 330]],\n",
       "  'iscrowd': 0},\n",
       " {'id': 841,\n",
       "  'image_id': 106,\n",
       "  'category_id': 1,\n",
       "  'bbox': [446, 335, 101, 80],\n",
       "  'area': 8080,\n",
       "  'segmentation': [[547, 415, 547, 335, 446, 335, 446, 415, 547, 415]],\n",
       "  'iscrowd': 0},\n",
       " {'id': 842,\n",
       "  'image_id': 106,\n",
       "  'category_id': 4,\n",
       "  'bbox': [486, 268, 15, 45],\n",
       "  'area': 675,\n",
       "  'segmentation': [[501,\n",
       "    312.5,\n",
       "    501,\n",
       "    267.5,\n",
       "    486,\n",
       "    267.5,\n",
       "    486,\n",
       "    312.5,\n",
       "    501,\n",
       "    312.5]],\n",
       "  'iscrowd': 0},\n",
       " {'id': 843,\n",
       "  'image_id': 106,\n",
       "  'category_id': 4,\n",
       "  'bbox': [585, 303, 19, 60],\n",
       "  'area': 1140,\n",
       "  'segmentation': [[604,\n",
       "    362.5,\n",
       "    604,\n",
       "    302.5,\n",
       "    585,\n",
       "    302.5,\n",
       "    585,\n",
       "    362.5,\n",
       "    604,\n",
       "    362.5]],\n",
       "  'iscrowd': 0},\n",
       " {'id': 844,\n",
       "  'image_id': 106,\n",
       "  'category_id': 4,\n",
       "  'bbox': [588, 301, 28, 65],\n",
       "  'area': 1820,\n",
       "  'segmentation': [[616,\n",
       "    366.25,\n",
       "    616,\n",
       "    301.25,\n",
       "    588,\n",
       "    301.25,\n",
       "    588,\n",
       "    366.25,\n",
       "    616,\n",
       "    366.25]],\n",
       "  'iscrowd': 0},\n",
       " {'id': 845,\n",
       "  'image_id': 106,\n",
       "  'category_id': 4,\n",
       "  'bbox': [102, 294, 29, 72.5],\n",
       "  'area': 2102.5,\n",
       "  'segmentation': [[131,\n",
       "    366.25,\n",
       "    131,\n",
       "    293.75,\n",
       "    102,\n",
       "    293.75,\n",
       "    102,\n",
       "    366.25,\n",
       "    131,\n",
       "    366.25]],\n",
       "  'iscrowd': 0},\n",
       " {'id': 846,\n",
       "  'image_id': 106,\n",
       "  'category_id': 1,\n",
       "  'bbox': [98, 331, 23, 46.25],\n",
       "  'area': 1063.75,\n",
       "  'segmentation': [[121,\n",
       "    377.5,\n",
       "    121,\n",
       "    331.25,\n",
       "    98,\n",
       "    331.25,\n",
       "    98,\n",
       "    377.5,\n",
       "    121,\n",
       "    377.5]],\n",
       "  'iscrowd': 0},\n",
       " {'id': 847,\n",
       "  'image_id': 106,\n",
       "  'category_id': 2,\n",
       "  'bbox': [402, 293, 87, 88.75],\n",
       "  'area': 7721.25,\n",
       "  'segmentation': [[489,\n",
       "    381.25,\n",
       "    489,\n",
       "    292.5,\n",
       "    402,\n",
       "    292.5,\n",
       "    402,\n",
       "    381.25,\n",
       "    489,\n",
       "    381.25]],\n",
       "  'iscrowd': 0},\n",
       " {'id': 848,\n",
       "  'image_id': 106,\n",
       "  'category_id': 2,\n",
       "  'bbox': [381, 293, 39, 53.75],\n",
       "  'area': 2096.25,\n",
       "  'segmentation': [[420,\n",
       "    346.25,\n",
       "    420,\n",
       "    292.5,\n",
       "    381,\n",
       "    292.5,\n",
       "    381,\n",
       "    346.25,\n",
       "    420,\n",
       "    346.25]],\n",
       "  'iscrowd': 0},\n",
       " {'id': 849,\n",
       "  'image_id': 106,\n",
       "  'category_id': 2,\n",
       "  'bbox': [374, 290, 23, 35],\n",
       "  'area': 805,\n",
       "  'segmentation': [[397, 325, 397, 290, 374, 290, 374, 325, 397, 325]],\n",
       "  'iscrowd': 0},\n",
       " {'id': 850,\n",
       "  'image_id': 106,\n",
       "  'category_id': 2,\n",
       "  'bbox': [341, 271, 27, 30],\n",
       "  'area': 810,\n",
       "  'segmentation': [[368,\n",
       "    301.25,\n",
       "    368,\n",
       "    271.25,\n",
       "    341,\n",
       "    271.25,\n",
       "    341,\n",
       "    301.25,\n",
       "    368,\n",
       "    301.25]],\n",
       "  'iscrowd': 0},\n",
       " {'id': 851,\n",
       "  'image_id': 106,\n",
       "  'category_id': 2,\n",
       "  'bbox': [297, 278, 24, 27.5],\n",
       "  'area': 660,\n",
       "  'segmentation': [[321, 305, 321, 277.5, 297, 277.5, 297, 305, 321, 305]],\n",
       "  'iscrowd': 0},\n",
       " {'id': 852,\n",
       "  'image_id': 106,\n",
       "  'category_id': 2,\n",
       "  'bbox': [219, 279, 47, 47.5],\n",
       "  'area': 2232.5,\n",
       "  'segmentation': [[266,\n",
       "    326.25,\n",
       "    266,\n",
       "    278.75,\n",
       "    219,\n",
       "    278.75,\n",
       "    219,\n",
       "    326.25,\n",
       "    266,\n",
       "    326.25]],\n",
       "  'iscrowd': 0},\n",
       " {'id': 853,\n",
       "  'image_id': 106,\n",
       "  'category_id': 1,\n",
       "  'bbox': [605, 385, 22, 67.5],\n",
       "  'area': 1485,\n",
       "  'segmentation': [[627, 452.5, 627, 385, 605, 385, 605, 452.5, 627, 452.5]],\n",
       "  'iscrowd': 0},\n",
       " {'id': 854,\n",
       "  'image_id': 107,\n",
       "  'category_id': 4,\n",
       "  'bbox': [78, 279, 29, 100],\n",
       "  'area': 2900,\n",
       "  'segmentation': [[107,\n",
       "    378.75,\n",
       "    107,\n",
       "    278.75,\n",
       "    78,\n",
       "    278.75,\n",
       "    78,\n",
       "    378.75,\n",
       "    107,\n",
       "    378.75]],\n",
       "  'iscrowd': 0},\n",
       " {'id': 855,\n",
       "  'image_id': 107,\n",
       "  'category_id': 4,\n",
       "  'bbox': [106, 274, 27, 100],\n",
       "  'area': 2700,\n",
       "  'segmentation': [[133,\n",
       "    373.75,\n",
       "    133,\n",
       "    273.75,\n",
       "    106,\n",
       "    273.75,\n",
       "    106,\n",
       "    373.75,\n",
       "    133,\n",
       "    373.75]],\n",
       "  'iscrowd': 0},\n",
       " {'id': 856,\n",
       "  'image_id': 107,\n",
       "  'category_id': 4,\n",
       "  'bbox': [329, 273, 14, 62.5],\n",
       "  'area': 875,\n",
       "  'segmentation': [[343, 335, 343, 272.5, 329, 272.5, 329, 335, 343, 335]],\n",
       "  'iscrowd': 0},\n",
       " {'id': 857,\n",
       "  'image_id': 107,\n",
       "  'category_id': 4,\n",
       "  'bbox': [339, 268, 28, 97.5],\n",
       "  'area': 2730,\n",
       "  'segmentation': [[367, 365, 367, 267.5, 339, 267.5, 339, 365, 367, 365]],\n",
       "  'iscrowd': 0},\n",
       " {'id': 858,\n",
       "  'image_id': 107,\n",
       "  'category_id': 4,\n",
       "  'bbox': [259, 283, 15, 36.25],\n",
       "  'area': 543.75,\n",
       "  'segmentation': [[274,\n",
       "    318.75,\n",
       "    274,\n",
       "    282.5,\n",
       "    259,\n",
       "    282.5,\n",
       "    259,\n",
       "    318.75,\n",
       "    274,\n",
       "    318.75]],\n",
       "  'iscrowd': 0},\n",
       " {'id': 859,\n",
       "  'image_id': 107,\n",
       "  'category_id': 2,\n",
       "  'bbox': [9, 291, 81, 85],\n",
       "  'area': 6885,\n",
       "  'segmentation': [[90, 376.25, 90, 291.25, 9, 291.25, 9, 376.25, 90, 376.25]],\n",
       "  'iscrowd': 0},\n",
       " {'id': 860,\n",
       "  'image_id': 107,\n",
       "  'category_id': 2,\n",
       "  'bbox': [127, 271, 46, 78.75],\n",
       "  'area': 3622.5,\n",
       "  'segmentation': [[173, 350, 173, 271.25, 127, 271.25, 127, 350, 173, 350]],\n",
       "  'iscrowd': 0},\n",
       " {'id': 861,\n",
       "  'image_id': 107,\n",
       "  'category_id': 2,\n",
       "  'bbox': [163, 274, 47, 60],\n",
       "  'area': 2820,\n",
       "  'segmentation': [[210,\n",
       "    333.75,\n",
       "    210,\n",
       "    273.75,\n",
       "    163,\n",
       "    273.75,\n",
       "    163,\n",
       "    333.75,\n",
       "    210,\n",
       "    333.75]],\n",
       "  'iscrowd': 0},\n",
       " {'id': 862,\n",
       "  'image_id': 107,\n",
       "  'category_id': 2,\n",
       "  'bbox': [169, 284, 95, 75],\n",
       "  'area': 7125,\n",
       "  'segmentation': [[264,\n",
       "    358.75,\n",
       "    264,\n",
       "    283.75,\n",
       "    169,\n",
       "    283.75,\n",
       "    169,\n",
       "    358.75,\n",
       "    264,\n",
       "    358.75]],\n",
       "  'iscrowd': 0},\n",
       " {'id': 863,\n",
       "  'image_id': 107,\n",
       "  'category_id': 2,\n",
       "  'bbox': [382, 276, 88, 103.75],\n",
       "  'area': 9130,\n",
       "  'segmentation': [[470, 380, 470, 276.25, 382, 276.25, 382, 380, 470, 380]],\n",
       "  'iscrowd': 0},\n",
       " {'id': 864,\n",
       "  'image_id': 107,\n",
       "  'category_id': 2,\n",
       "  'bbox': [466, 290, 29, 45],\n",
       "  'area': 1305,\n",
       "  'segmentation': [[495, 335, 495, 290, 466, 290, 466, 335, 495, 335]],\n",
       "  'iscrowd': 0},\n",
       " {'id': 865,\n",
       "  'image_id': 107,\n",
       "  'category_id': 2,\n",
       "  'bbox': [597, 283, 40, 72.5],\n",
       "  'area': 2900,\n",
       "  'segmentation': [[637, 355, 637, 282.5, 597, 282.5, 597, 355, 637, 355]],\n",
       "  'iscrowd': 0},\n",
       " {'id': 866,\n",
       "  'image_id': 107,\n",
       "  'category_id': 2,\n",
       "  'bbox': [368, 283, 23, 70],\n",
       "  'area': 1610,\n",
       "  'segmentation': [[391,\n",
       "    352.5,\n",
       "    391,\n",
       "    282.5,\n",
       "    368,\n",
       "    282.5,\n",
       "    368,\n",
       "    352.5,\n",
       "    391,\n",
       "    352.5]],\n",
       "  'iscrowd': 0},\n",
       " {'id': 867,\n",
       "  'image_id': 107,\n",
       "  'category_id': 2,\n",
       "  'bbox': [300, 291, 19, 16.25],\n",
       "  'area': 308.75,\n",
       "  'segmentation': [[319,\n",
       "    307.5,\n",
       "    319,\n",
       "    291.25,\n",
       "    300,\n",
       "    291.25,\n",
       "    300,\n",
       "    307.5,\n",
       "    319,\n",
       "    307.5]],\n",
       "  'iscrowd': 0},\n",
       " {'id': 868,\n",
       "  'image_id': 107,\n",
       "  'category_id': 4,\n",
       "  'bbox': [252, 285, 9, 17.5],\n",
       "  'area': 157.5,\n",
       "  'segmentation': [[261, 302.5, 261, 285, 252, 285, 252, 302.5, 261, 302.5]],\n",
       "  'iscrowd': 0},\n",
       " {'id': 869,\n",
       "  'image_id': 108,\n",
       "  'category_id': 4,\n",
       "  'bbox': [216, 300, 13, 43.75],\n",
       "  'area': 568.75,\n",
       "  'segmentation': [[229,\n",
       "    343.75,\n",
       "    229,\n",
       "    300,\n",
       "    216,\n",
       "    300,\n",
       "    216,\n",
       "    343.75,\n",
       "    229,\n",
       "    343.75]],\n",
       "  'iscrowd': 0},\n",
       " {'id': 870,\n",
       "  'image_id': 108,\n",
       "  'category_id': 4,\n",
       "  'bbox': [225, 296, 14, 46.25],\n",
       "  'area': 647.5,\n",
       "  'segmentation': [[239,\n",
       "    342.5,\n",
       "    239,\n",
       "    296.25,\n",
       "    225,\n",
       "    296.25,\n",
       "    225,\n",
       "    342.5,\n",
       "    239,\n",
       "    342.5]],\n",
       "  'iscrowd': 0},\n",
       " {'id': 871,\n",
       "  'image_id': 109,\n",
       "  'category_id': 2,\n",
       "  'bbox': [360, 296, 51, 40],\n",
       "  'area': 2040,\n",
       "  'segmentation': [[411,\n",
       "    336.25,\n",
       "    411,\n",
       "    296.25,\n",
       "    360,\n",
       "    296.25,\n",
       "    360,\n",
       "    336.25,\n",
       "    411,\n",
       "    336.25]],\n",
       "  'iscrowd': 0},\n",
       " {'id': 872,\n",
       "  'image_id': 109,\n",
       "  'category_id': 2,\n",
       "  'bbox': [160, 286, 52, 46.25],\n",
       "  'area': 2405,\n",
       "  'segmentation': [[212,\n",
       "    332.5,\n",
       "    212,\n",
       "    286.25,\n",
       "    160,\n",
       "    286.25,\n",
       "    160,\n",
       "    332.5,\n",
       "    212,\n",
       "    332.5]],\n",
       "  'iscrowd': 0},\n",
       " {'id': 873,\n",
       "  'image_id': 109,\n",
       "  'category_id': 2,\n",
       "  'bbox': [339, 295, 24, 27.5],\n",
       "  'area': 660,\n",
       "  'segmentation': [[363, 322.5, 363, 295, 339, 295, 339, 322.5, 363, 322.5]],\n",
       "  'iscrowd': 0},\n",
       " {'id': 874,\n",
       "  'image_id': 109,\n",
       "  'category_id': 2,\n",
       "  'bbox': [204, 290, 30, 33.75],\n",
       "  'area': 1012.5,\n",
       "  'segmentation': [[234,\n",
       "    323.75,\n",
       "    234,\n",
       "    290,\n",
       "    204,\n",
       "    290,\n",
       "    204,\n",
       "    323.75,\n",
       "    234,\n",
       "    323.75]],\n",
       "  'iscrowd': 0},\n",
       " {'id': 875,\n",
       "  'image_id': 109,\n",
       "  'category_id': 2,\n",
       "  'bbox': [255, 293, 17, 20],\n",
       "  'area': 340,\n",
       "  'segmentation': [[272,\n",
       "    312.5,\n",
       "    272,\n",
       "    292.5,\n",
       "    255,\n",
       "    292.5,\n",
       "    255,\n",
       "    312.5,\n",
       "    272,\n",
       "    312.5]],\n",
       "  'iscrowd': 0},\n",
       " {'id': 876,\n",
       "  'image_id': 109,\n",
       "  'category_id': 2,\n",
       "  'bbox': [544, 279, 42, 26.25],\n",
       "  'area': 1102.5,\n",
       "  'segmentation': [[586, 305, 586, 278.75, 544, 278.75, 544, 305, 586, 305]],\n",
       "  'iscrowd': 0},\n",
       " {'id': 877,\n",
       "  'image_id': 110,\n",
       "  'category_id': 2,\n",
       "  'bbox': [310, 301, 12, 15],\n",
       "  'area': 180,\n",
       "  'segmentation': [[322,\n",
       "    316.25,\n",
       "    322,\n",
       "    301.25,\n",
       "    310,\n",
       "    301.25,\n",
       "    310,\n",
       "    316.25,\n",
       "    322,\n",
       "    316.25]],\n",
       "  'iscrowd': 0},\n",
       " {'id': 878,\n",
       "  'image_id': 111,\n",
       "  'category_id': 2,\n",
       "  'bbox': [162, 291, 56, 46.25],\n",
       "  'area': 2590,\n",
       "  'segmentation': [[218,\n",
       "    337.5,\n",
       "    218,\n",
       "    291.25,\n",
       "    162,\n",
       "    291.25,\n",
       "    162,\n",
       "    337.5,\n",
       "    218,\n",
       "    337.5]],\n",
       "  'iscrowd': 0},\n",
       " {'id': 879,\n",
       "  'image_id': 112,\n",
       "  'category_id': 2,\n",
       "  'bbox': [212, 310, 48, 48.75],\n",
       "  'area': 2340,\n",
       "  'segmentation': [[260,\n",
       "    358.75,\n",
       "    260,\n",
       "    310,\n",
       "    212,\n",
       "    310,\n",
       "    212,\n",
       "    358.75,\n",
       "    260,\n",
       "    358.75]],\n",
       "  'iscrowd': 0},\n",
       " {'id': 880,\n",
       "  'image_id': 112,\n",
       "  'category_id': 2,\n",
       "  'bbox': [374, 316, 113, 52.5],\n",
       "  'area': 5932.5,\n",
       "  'segmentation': [[487,\n",
       "    368.75,\n",
       "    487,\n",
       "    316.25,\n",
       "    374,\n",
       "    316.25,\n",
       "    374,\n",
       "    368.75,\n",
       "    487,\n",
       "    368.75]],\n",
       "  'iscrowd': 0},\n",
       " {'id': 881,\n",
       "  'image_id': 112,\n",
       "  'category_id': 2,\n",
       "  'bbox': [260, 290, 79, 95],\n",
       "  'area': 7505,\n",
       "  'segmentation': [[339, 385, 339, 290, 260, 290, 260, 385, 339, 385]],\n",
       "  'iscrowd': 0},\n",
       " {'id': 882,\n",
       "  'image_id': 112,\n",
       "  'category_id': 4,\n",
       "  'bbox': [248, 300, 12, 20],\n",
       "  'area': 240,\n",
       "  'segmentation': [[260, 320, 260, 300, 248, 300, 248, 320, 260, 320]],\n",
       "  'iscrowd': 0},\n",
       " {'id': 883,\n",
       "  'image_id': 112,\n",
       "  'category_id': 2,\n",
       "  'bbox': [339, 314, 18, 21.25],\n",
       "  'area': 382.5,\n",
       "  'segmentation': [[357, 335, 357, 313.75, 339, 313.75, 339, 335, 357, 335]],\n",
       "  'iscrowd': 0},\n",
       " {'id': 884,\n",
       "  'image_id': 113,\n",
       "  'category_id': 4,\n",
       "  'bbox': [543, 263, 59, 227.5],\n",
       "  'area': 13422.5,\n",
       "  'segmentation': [[602, 490, 602, 262.5, 543, 262.5, 543, 490, 602, 490]],\n",
       "  'iscrowd': 0},\n",
       " {'id': 885,\n",
       "  'image_id': 113,\n",
       "  'category_id': 4,\n",
       "  'bbox': [424, 274, 19, 45],\n",
       "  'area': 855,\n",
       "  'segmentation': [[443,\n",
       "    318.75,\n",
       "    443,\n",
       "    273.75,\n",
       "    424,\n",
       "    273.75,\n",
       "    424,\n",
       "    318.75,\n",
       "    443,\n",
       "    318.75]],\n",
       "  'iscrowd': 0},\n",
       " {'id': 886,\n",
       "  'image_id': 113,\n",
       "  'category_id': 4,\n",
       "  'bbox': [212, 266, 12, 25],\n",
       "  'area': 300,\n",
       "  'segmentation': [[224,\n",
       "    291.25,\n",
       "    224,\n",
       "    266.25,\n",
       "    212,\n",
       "    266.25,\n",
       "    212,\n",
       "    291.25,\n",
       "    224,\n",
       "    291.25]],\n",
       "  'iscrowd': 0},\n",
       " {'id': 887,\n",
       "  'image_id': 113,\n",
       "  'category_id': 2,\n",
       "  'bbox': [596, 286, 42, 96.25],\n",
       "  'area': 4042.5,\n",
       "  'segmentation': [[638,\n",
       "    382.5,\n",
       "    638,\n",
       "    286.25,\n",
       "    596,\n",
       "    286.25,\n",
       "    596,\n",
       "    382.5,\n",
       "    638,\n",
       "    382.5]],\n",
       "  'iscrowd': 0},\n",
       " {'id': 888,\n",
       "  'image_id': 113,\n",
       "  'category_id': 2,\n",
       "  'bbox': [460, 286, 64, 61.25],\n",
       "  'area': 3920,\n",
       "  'segmentation': [[524,\n",
       "    347.5,\n",
       "    524,\n",
       "    286.25,\n",
       "    460,\n",
       "    286.25,\n",
       "    460,\n",
       "    347.5,\n",
       "    524,\n",
       "    347.5]],\n",
       "  'iscrowd': 0},\n",
       " {'id': 889,\n",
       "  'image_id': 113,\n",
       "  'category_id': 2,\n",
       "  'bbox': [225, 280, 33, 32.5],\n",
       "  'area': 1072.5,\n",
       "  'segmentation': [[258, 312.5, 258, 280, 225, 280, 225, 312.5, 258, 312.5]],\n",
       "  'iscrowd': 0},\n",
       " {'id': 890,\n",
       "  'image_id': 113,\n",
       "  'category_id': 2,\n",
       "  'bbox': [158, 271, 68, 67.5],\n",
       "  'area': 4590,\n",
       "  'segmentation': [[226,\n",
       "    338.75,\n",
       "    226,\n",
       "    271.25,\n",
       "    158,\n",
       "    271.25,\n",
       "    158,\n",
       "    338.75,\n",
       "    226,\n",
       "    338.75]],\n",
       "  'iscrowd': 0},\n",
       " {'id': 891,\n",
       "  'image_id': 113,\n",
       "  'category_id': 2,\n",
       "  'bbox': [114, 276, 56, 41.25],\n",
       "  'area': 2310,\n",
       "  'segmentation': [[170,\n",
       "    317.5,\n",
       "    170,\n",
       "    276.25,\n",
       "    114,\n",
       "    276.25,\n",
       "    114,\n",
       "    317.5,\n",
       "    170,\n",
       "    317.5]],\n",
       "  'iscrowd': 0},\n",
       " {'id': 892,\n",
       "  'image_id': 113,\n",
       "  'category_id': 2,\n",
       "  'bbox': [4, 271, 69, 27.5],\n",
       "  'area': 1897.5,\n",
       "  'segmentation': [[73, 298.75, 73, 271.25, 4, 271.25, 4, 298.75, 73, 298.75]],\n",
       "  'iscrowd': 0},\n",
       " {'id': 893,\n",
       "  'image_id': 113,\n",
       "  'category_id': 2,\n",
       "  'bbox': [245, 274, 28, 35],\n",
       "  'area': 980,\n",
       "  'segmentation': [[273,\n",
       "    308.75,\n",
       "    273,\n",
       "    273.75,\n",
       "    245,\n",
       "    273.75,\n",
       "    245,\n",
       "    308.75,\n",
       "    273,\n",
       "    308.75]],\n",
       "  'iscrowd': 0},\n",
       " {'id': 894,\n",
       "  'image_id': 113,\n",
       "  'category_id': 2,\n",
       "  'bbox': [386, 279, 15, 22.5],\n",
       "  'area': 337.5,\n",
       "  'segmentation': [[401,\n",
       "    301.25,\n",
       "    401,\n",
       "    278.75,\n",
       "    386,\n",
       "    278.75,\n",
       "    386,\n",
       "    301.25,\n",
       "    401,\n",
       "    301.25]],\n",
       "  'iscrowd': 0},\n",
       " {'id': 895,\n",
       "  'image_id': 113,\n",
       "  'category_id': 2,\n",
       "  'bbox': [363, 276, 28, 32.5],\n",
       "  'area': 910,\n",
       "  'segmentation': [[391,\n",
       "    308.75,\n",
       "    391,\n",
       "    276.25,\n",
       "    363,\n",
       "    276.25,\n",
       "    363,\n",
       "    308.75,\n",
       "    391,\n",
       "    308.75]],\n",
       "  'iscrowd': 0},\n",
       " {'id': 896,\n",
       "  'image_id': 113,\n",
       "  'category_id': 2,\n",
       "  'bbox': [345, 275, 12, 15],\n",
       "  'area': 180,\n",
       "  'segmentation': [[357, 290, 357, 275, 345, 275, 345, 290, 357, 290]],\n",
       "  'iscrowd': 0},\n",
       " {'id': 897,\n",
       "  'image_id': 113,\n",
       "  'category_id': 2,\n",
       "  'bbox': [275, 276, 16, 25],\n",
       "  'area': 400,\n",
       "  'segmentation': [[291,\n",
       "    301.25,\n",
       "    291,\n",
       "    276.25,\n",
       "    275,\n",
       "    276.25,\n",
       "    275,\n",
       "    301.25,\n",
       "    291,\n",
       "    301.25]],\n",
       "  'iscrowd': 0},\n",
       " {'id': 898,\n",
       "  'image_id': 113,\n",
       "  'category_id': 2,\n",
       "  'bbox': [294, 273, 15, 20],\n",
       "  'area': 300,\n",
       "  'segmentation': [[309,\n",
       "    292.5,\n",
       "    309,\n",
       "    272.5,\n",
       "    294,\n",
       "    272.5,\n",
       "    294,\n",
       "    292.5,\n",
       "    309,\n",
       "    292.5]],\n",
       "  'iscrowd': 0},\n",
       " {'id': 899,\n",
       "  'image_id': 113,\n",
       "  'category_id': 2,\n",
       "  'bbox': [409, 279, 21, 25],\n",
       "  'area': 525,\n",
       "  'segmentation': [[430,\n",
       "    303.75,\n",
       "    430,\n",
       "    278.75,\n",
       "    409,\n",
       "    278.75,\n",
       "    409,\n",
       "    303.75,\n",
       "    430,\n",
       "    303.75]],\n",
       "  'iscrowd': 0},\n",
       " {'id': 900,\n",
       "  'image_id': 113,\n",
       "  'category_id': 2,\n",
       "  'bbox': [539, 290, 18, 48.75],\n",
       "  'area': 877.5,\n",
       "  'segmentation': [[557,\n",
       "    338.75,\n",
       "    557,\n",
       "    290,\n",
       "    539,\n",
       "    290,\n",
       "    539,\n",
       "    338.75,\n",
       "    557,\n",
       "    338.75]],\n",
       "  'iscrowd': 0},\n",
       " {'id': 901,\n",
       "  'image_id': 115,\n",
       "  'category_id': 4,\n",
       "  'bbox': [603, 294, 23, 73.75],\n",
       "  'area': 1696.25,\n",
       "  'segmentation': [[626,\n",
       "    367.5,\n",
       "    626,\n",
       "    293.75,\n",
       "    603,\n",
       "    293.75,\n",
       "    603,\n",
       "    367.5,\n",
       "    626,\n",
       "    367.5]],\n",
       "  'iscrowd': 0},\n",
       " {'id': 902,\n",
       "  'image_id': 115,\n",
       "  'category_id': 2,\n",
       "  'bbox': [202, 303, 68, 48.75],\n",
       "  'area': 3315,\n",
       "  'segmentation': [[270,\n",
       "    351.25,\n",
       "    270,\n",
       "    302.5,\n",
       "    202,\n",
       "    302.5,\n",
       "    202,\n",
       "    351.25,\n",
       "    270,\n",
       "    351.25]],\n",
       "  'iscrowd': 0},\n",
       " {'id': 903,\n",
       "  'image_id': 115,\n",
       "  'category_id': 4,\n",
       "  'bbox': [121, 288, 15, 22.5],\n",
       "  'area': 337.5,\n",
       "  'segmentation': [[136, 310, 136, 287.5, 121, 287.5, 121, 310, 136, 310]],\n",
       "  'iscrowd': 0},\n",
       " {'id': 904,\n",
       "  'image_id': 115,\n",
       "  'category_id': 4,\n",
       "  'bbox': [156, 288, 13, 21.25],\n",
       "  'area': 276.25,\n",
       "  'segmentation': [[169,\n",
       "    308.75,\n",
       "    169,\n",
       "    287.5,\n",
       "    156,\n",
       "    287.5,\n",
       "    156,\n",
       "    308.75,\n",
       "    169,\n",
       "    308.75]],\n",
       "  'iscrowd': 0},\n",
       " {'id': 905,\n",
       "  'image_id': 116,\n",
       "  'category_id': 2,\n",
       "  'bbox': [495, 310, 143, 176.25],\n",
       "  'area': 25203.75,\n",
       "  'segmentation': [[638,\n",
       "    486.25,\n",
       "    638,\n",
       "    310,\n",
       "    495,\n",
       "    310,\n",
       "    495,\n",
       "    486.25,\n",
       "    638,\n",
       "    486.25]],\n",
       "  'iscrowd': 0},\n",
       " {'id': 906,\n",
       "  'image_id': 116,\n",
       "  'category_id': 2,\n",
       "  'bbox': [480, 298, 86, 47.5],\n",
       "  'area': 4085,\n",
       "  'segmentation': [[566, 345, 566, 297.5, 480, 297.5, 480, 345, 566, 345]],\n",
       "  'iscrowd': 0},\n",
       " {'id': 907,\n",
       "  'image_id': 116,\n",
       "  'category_id': 2,\n",
       "  'bbox': [370, 290, 36, 33.75],\n",
       "  'area': 1215,\n",
       "  'segmentation': [[406,\n",
       "    323.75,\n",
       "    406,\n",
       "    290,\n",
       "    370,\n",
       "    290,\n",
       "    370,\n",
       "    323.75,\n",
       "    406,\n",
       "    323.75]],\n",
       "  'iscrowd': 0},\n",
       " {'id': 908,\n",
       "  'image_id': 116,\n",
       "  'category_id': 2,\n",
       "  'bbox': [362, 283, 23, 28.75],\n",
       "  'area': 661.25,\n",
       "  'segmentation': [[385,\n",
       "    311.25,\n",
       "    385,\n",
       "    282.5,\n",
       "    362,\n",
       "    282.5,\n",
       "    362,\n",
       "    311.25,\n",
       "    385,\n",
       "    311.25]],\n",
       "  'iscrowd': 0},\n",
       " {'id': 909,\n",
       "  'image_id': 116,\n",
       "  'category_id': 2,\n",
       "  'bbox': [313, 278, 19, 15],\n",
       "  'area': 285,\n",
       "  'segmentation': [[332,\n",
       "    292.5,\n",
       "    332,\n",
       "    277.5,\n",
       "    313,\n",
       "    277.5,\n",
       "    313,\n",
       "    292.5,\n",
       "    332,\n",
       "    292.5]],\n",
       "  'iscrowd': 0},\n",
       " {'id': 910,\n",
       "  'image_id': 116,\n",
       "  'category_id': 2,\n",
       "  'bbox': [257, 279, 32, 21.25],\n",
       "  'area': 680,\n",
       "  'segmentation': [[289, 300, 289, 278.75, 257, 278.75, 257, 300, 289, 300]],\n",
       "  'iscrowd': 0},\n",
       " {'id': 911,\n",
       "  'image_id': 116,\n",
       "  'category_id': 4,\n",
       "  'bbox': [410, 281, 15, 37.5],\n",
       "  'area': 562.5,\n",
       "  'segmentation': [[425,\n",
       "    318.75,\n",
       "    425,\n",
       "    281.25,\n",
       "    410,\n",
       "    281.25,\n",
       "    410,\n",
       "    318.75,\n",
       "    425,\n",
       "    318.75]],\n",
       "  'iscrowd': 0},\n",
       " {'id': 912,\n",
       "  'image_id': 116,\n",
       "  'category_id': 4,\n",
       "  'bbox': [224, 280, 12, 32.5],\n",
       "  'area': 390,\n",
       "  'segmentation': [[236, 312.5, 236, 280, 224, 280, 224, 312.5, 236, 312.5]],\n",
       "  'iscrowd': 0},\n",
       " {'id': 913,\n",
       "  'image_id': 116,\n",
       "  'category_id': 4,\n",
       "  'bbox': [218, 278, 12, 32.5],\n",
       "  'area': 390,\n",
       "  'segmentation': [[230, 310, 230, 277.5, 218, 277.5, 218, 310, 230, 310]],\n",
       "  'iscrowd': 0},\n",
       " {'id': 914,\n",
       "  'image_id': 116,\n",
       "  'category_id': 4,\n",
       "  'bbox': [210, 280, 12, 30],\n",
       "  'area': 360,\n",
       "  'segmentation': [[222, 310, 222, 280, 210, 280, 210, 310, 222, 310]],\n",
       "  'iscrowd': 0},\n",
       " {'id': 915,\n",
       "  'image_id': 116,\n",
       "  'category_id': 4,\n",
       "  'bbox': [76, 290, 21, 62.5],\n",
       "  'area': 1312.5,\n",
       "  'segmentation': [[97, 352.5, 97, 290, 76, 290, 76, 352.5, 97, 352.5]],\n",
       "  'iscrowd': 0},\n",
       " {'id': 916,\n",
       "  'image_id': 116,\n",
       "  'category_id': 4,\n",
       "  'bbox': [59, 288, 19, 61.25],\n",
       "  'area': 1163.75,\n",
       "  'segmentation': [[78, 348.75, 78, 287.5, 59, 287.5, 59, 348.75, 78, 348.75]],\n",
       "  'iscrowd': 0},\n",
       " {'id': 917,\n",
       "  'image_id': 116,\n",
       "  'category_id': 4,\n",
       "  'bbox': [38, 285, 19, 67.5],\n",
       "  'area': 1282.5,\n",
       "  'segmentation': [[57, 352.5, 57, 285, 38, 285, 38, 352.5, 57, 352.5]],\n",
       "  'iscrowd': 0},\n",
       " {'id': 918,\n",
       "  'image_id': 116,\n",
       "  'category_id': 4,\n",
       "  'bbox': [248, 280, 13, 25],\n",
       "  'area': 325,\n",
       "  'segmentation': [[261, 305, 261, 280, 248, 280, 248, 305, 261, 305]],\n",
       "  'iscrowd': 0},\n",
       " {'id': 919,\n",
       "  'image_id': 117,\n",
       "  'category_id': 4,\n",
       "  'bbox': [464, 304, 18, 25],\n",
       "  'area': 450,\n",
       "  'segmentation': [[482,\n",
       "    328.75,\n",
       "    482,\n",
       "    303.75,\n",
       "    464,\n",
       "    303.75,\n",
       "    464,\n",
       "    328.75,\n",
       "    482,\n",
       "    328.75]],\n",
       "  'iscrowd': 0},\n",
       " {'id': 920,\n",
       "  'image_id': 117,\n",
       "  'category_id': 4,\n",
       "  'bbox': [484, 305, 16, 22.5],\n",
       "  'area': 360,\n",
       "  'segmentation': [[500, 327.5, 500, 305, 484, 305, 484, 327.5, 500, 327.5]],\n",
       "  'iscrowd': 0},\n",
       " {'id': 921,\n",
       "  'image_id': 117,\n",
       "  'category_id': 4,\n",
       "  'bbox': [133, 300, 15, 27.5],\n",
       "  'area': 412.5,\n",
       "  'segmentation': [[148, 327.5, 148, 300, 133, 300, 133, 327.5, 148, 327.5]],\n",
       "  'iscrowd': 0},\n",
       " {'id': 922,\n",
       "  'image_id': 117,\n",
       "  'category_id': 2,\n",
       "  'bbox': [318, 306, 19, 18.75],\n",
       "  'area': 356.25,\n",
       "  'segmentation': [[337, 325, 337, 306.25, 318, 306.25, 318, 325, 337, 325]],\n",
       "  'iscrowd': 0},\n",
       " {'id': 923,\n",
       "  'image_id': 117,\n",
       "  'category_id': 2,\n",
       "  'bbox': [53, 306, 97, 63.75],\n",
       "  'area': 6183.75,\n",
       "  'segmentation': [[150, 370, 150, 306.25, 53, 306.25, 53, 370, 150, 370]],\n",
       "  'iscrowd': 0},\n",
       " {'id': 924,\n",
       "  'image_id': 117,\n",
       "  'category_id': 4,\n",
       "  'bbox': [438, 301, 14, 30],\n",
       "  'area': 420,\n",
       "  'segmentation': [[452,\n",
       "    331.25,\n",
       "    452,\n",
       "    301.25,\n",
       "    438,\n",
       "    301.25,\n",
       "    438,\n",
       "    331.25,\n",
       "    452,\n",
       "    331.25]],\n",
       "  'iscrowd': 0},\n",
       " {'id': 925,\n",
       "  'image_id': 118,\n",
       "  'category_id': 4,\n",
       "  'bbox': [532, 273, 22, 96.25],\n",
       "  'area': 2117.5,\n",
       "  'segmentation': [[554,\n",
       "    368.75,\n",
       "    554,\n",
       "    272.5,\n",
       "    532,\n",
       "    272.5,\n",
       "    532,\n",
       "    368.75,\n",
       "    554,\n",
       "    368.75]],\n",
       "  'iscrowd': 0},\n",
       " {'id': 926,\n",
       "  'image_id': 118,\n",
       "  'category_id': 4,\n",
       "  'bbox': [483, 279, 27, 78.75],\n",
       "  'area': 2126.25,\n",
       "  'segmentation': [[510,\n",
       "    357.5,\n",
       "    510,\n",
       "    278.75,\n",
       "    483,\n",
       "    278.75,\n",
       "    483,\n",
       "    357.5,\n",
       "    510,\n",
       "    357.5]],\n",
       "  'iscrowd': 0},\n",
       " {'id': 927,\n",
       "  'image_id': 118,\n",
       "  'category_id': 4,\n",
       "  'bbox': [437, 284, 22, 83.75],\n",
       "  'area': 1842.5,\n",
       "  'segmentation': [[459,\n",
       "    367.5,\n",
       "    459,\n",
       "    283.75,\n",
       "    437,\n",
       "    283.75,\n",
       "    437,\n",
       "    367.5,\n",
       "    459,\n",
       "    367.5]],\n",
       "  'iscrowd': 0},\n",
       " {'id': 928,\n",
       "  'image_id': 120,\n",
       "  'category_id': 4,\n",
       "  'bbox': [389, 263, 12, 32.5],\n",
       "  'area': 390,\n",
       "  'segmentation': [[401, 295, 401, 262.5, 389, 262.5, 389, 295, 401, 295]],\n",
       "  'iscrowd': 0},\n",
       " {'id': 929,\n",
       "  'image_id': 120,\n",
       "  'category_id': 2,\n",
       "  'bbox': [342, 280, 45, 41.25],\n",
       "  'area': 1856.25,\n",
       "  'segmentation': [[387,\n",
       "    321.25,\n",
       "    387,\n",
       "    280,\n",
       "    342,\n",
       "    280,\n",
       "    342,\n",
       "    321.25,\n",
       "    387,\n",
       "    321.25]],\n",
       "  'iscrowd': 0},\n",
       " {'id': 930,\n",
       "  'image_id': 120,\n",
       "  'category_id': 2,\n",
       "  'bbox': [324, 270, 28, 30],\n",
       "  'area': 840,\n",
       "  'segmentation': [[352, 300, 352, 270, 324, 270, 324, 300, 352, 300]],\n",
       "  'iscrowd': 0},\n",
       " {'id': 931,\n",
       "  'image_id': 120,\n",
       "  'category_id': 2,\n",
       "  'bbox': [214, 276, 22, 25],\n",
       "  'area': 550,\n",
       "  'segmentation': [[236,\n",
       "    301.25,\n",
       "    236,\n",
       "    276.25,\n",
       "    214,\n",
       "    276.25,\n",
       "    214,\n",
       "    301.25,\n",
       "    236,\n",
       "    301.25]],\n",
       "  'iscrowd': 0},\n",
       " {'id': 932,\n",
       "  'image_id': 120,\n",
       "  'category_id': 2,\n",
       "  'bbox': [150, 284, 48, 50],\n",
       "  'area': 2400,\n",
       "  'segmentation': [[198,\n",
       "    333.75,\n",
       "    198,\n",
       "    283.75,\n",
       "    150,\n",
       "    283.75,\n",
       "    150,\n",
       "    333.75,\n",
       "    198,\n",
       "    333.75]],\n",
       "  'iscrowd': 0},\n",
       " {'id': 933,\n",
       "  'image_id': 121,\n",
       "  'category_id': 2,\n",
       "  'bbox': [189, 291, 28, 25],\n",
       "  'area': 700,\n",
       "  'segmentation': [[217,\n",
       "    316.25,\n",
       "    217,\n",
       "    291.25,\n",
       "    189,\n",
       "    291.25,\n",
       "    189,\n",
       "    316.25,\n",
       "    217,\n",
       "    316.25]],\n",
       "  'iscrowd': 0},\n",
       " {'id': 934,\n",
       "  'image_id': 121,\n",
       "  'category_id': 2,\n",
       "  'bbox': [222, 294, 37, 22.5],\n",
       "  'area': 832.5,\n",
       "  'segmentation': [[259,\n",
       "    316.25,\n",
       "    259,\n",
       "    293.75,\n",
       "    222,\n",
       "    293.75,\n",
       "    222,\n",
       "    316.25,\n",
       "    259,\n",
       "    316.25]],\n",
       "  'iscrowd': 0},\n",
       " {'id': 935,\n",
       "  'image_id': 121,\n",
       "  'category_id': 2,\n",
       "  'bbox': [259, 285, 51, 30],\n",
       "  'area': 1530,\n",
       "  'segmentation': [[310, 315, 310, 285, 259, 285, 259, 315, 310, 315]],\n",
       "  'iscrowd': 0},\n",
       " {'id': 936,\n",
       "  'image_id': 121,\n",
       "  'category_id': 2,\n",
       "  'bbox': [314, 296, 35, 21.25],\n",
       "  'area': 743.75,\n",
       "  'segmentation': [[349,\n",
       "    317.5,\n",
       "    349,\n",
       "    296.25,\n",
       "    314,\n",
       "    296.25,\n",
       "    314,\n",
       "    317.5,\n",
       "    349,\n",
       "    317.5]],\n",
       "  'iscrowd': 0},\n",
       " {'id': 937,\n",
       "  'image_id': 121,\n",
       "  'category_id': 2,\n",
       "  'bbox': [337, 290, 85, 40],\n",
       "  'area': 3400,\n",
       "  'segmentation': [[422, 330, 422, 290, 337, 290, 337, 330, 422, 330]],\n",
       "  'iscrowd': 0},\n",
       " {'id': 938,\n",
       "  'image_id': 121,\n",
       "  'category_id': 2,\n",
       "  'bbox': [458, 308, 88, 35],\n",
       "  'area': 3080,\n",
       "  'segmentation': [[546,\n",
       "    342.5,\n",
       "    546,\n",
       "    307.5,\n",
       "    458,\n",
       "    307.5,\n",
       "    458,\n",
       "    342.5,\n",
       "    546,\n",
       "    342.5]],\n",
       "  'iscrowd': 0},\n",
       " {'id': 939,\n",
       "  'image_id': 121,\n",
       "  'category_id': 2,\n",
       "  'bbox': [418, 291, 35, 32.5],\n",
       "  'area': 1137.5,\n",
       "  'segmentation': [[453,\n",
       "    323.75,\n",
       "    453,\n",
       "    291.25,\n",
       "    418,\n",
       "    291.25,\n",
       "    418,\n",
       "    323.75,\n",
       "    453,\n",
       "    323.75]],\n",
       "  'iscrowd': 0},\n",
       " {'id': 940,\n",
       "  'image_id': 121,\n",
       "  'category_id': 2,\n",
       "  'bbox': [489, 288, 45, 25],\n",
       "  'area': 1125,\n",
       "  'segmentation': [[534,\n",
       "    312.5,\n",
       "    534,\n",
       "    287.5,\n",
       "    489,\n",
       "    287.5,\n",
       "    489,\n",
       "    312.5,\n",
       "    534,\n",
       "    312.5]],\n",
       "  'iscrowd': 0},\n",
       " {'id': 941,\n",
       "  'image_id': 121,\n",
       "  'category_id': 2,\n",
       "  'bbox': [140, 281, 44, 30],\n",
       "  'area': 1320,\n",
       "  'segmentation': [[184,\n",
       "    311.25,\n",
       "    184,\n",
       "    281.25,\n",
       "    140,\n",
       "    281.25,\n",
       "    140,\n",
       "    311.25,\n",
       "    184,\n",
       "    311.25]],\n",
       "  'iscrowd': 0},\n",
       " {'id': 942,\n",
       "  'image_id': 121,\n",
       "  'category_id': 2,\n",
       "  'bbox': [73, 276, 43, 32.5],\n",
       "  'area': 1397.5,\n",
       "  'segmentation': [[116,\n",
       "    308.75,\n",
       "    116,\n",
       "    276.25,\n",
       "    73,\n",
       "    276.25,\n",
       "    73,\n",
       "    308.75,\n",
       "    116,\n",
       "    308.75]],\n",
       "  'iscrowd': 0},\n",
       " {'id': 943,\n",
       "  'image_id': 122,\n",
       "  'category_id': 1,\n",
       "  'bbox': [353, 318, 27, 52.5],\n",
       "  'area': 1417.5,\n",
       "  'segmentation': [[380, 370, 380, 317.5, 353, 317.5, 353, 370, 380, 370]],\n",
       "  'iscrowd': 0},\n",
       " {'id': 944,\n",
       "  'image_id': 122,\n",
       "  'category_id': 1,\n",
       "  'bbox': [386, 324, 28, 38.75],\n",
       "  'area': 1085,\n",
       "  'segmentation': [[414,\n",
       "    362.5,\n",
       "    414,\n",
       "    323.75,\n",
       "    386,\n",
       "    323.75,\n",
       "    386,\n",
       "    362.5,\n",
       "    414,\n",
       "    362.5]],\n",
       "  'iscrowd': 0},\n",
       " {'id': 945,\n",
       "  'image_id': 122,\n",
       "  'category_id': 2,\n",
       "  'bbox': [461, 283, 72, 75],\n",
       "  'area': 5400,\n",
       "  'segmentation': [[533,\n",
       "    357.5,\n",
       "    533,\n",
       "    282.5,\n",
       "    461,\n",
       "    282.5,\n",
       "    461,\n",
       "    357.5,\n",
       "    533,\n",
       "    357.5]],\n",
       "  'iscrowd': 0},\n",
       " {'id': 946,\n",
       "  'image_id': 122,\n",
       "  'category_id': 2,\n",
       "  'bbox': [492, 291, 125, 93.75],\n",
       "  'area': 11718.75,\n",
       "  'segmentation': [[617, 385, 617, 291.25, 492, 291.25, 492, 385, 617, 385]],\n",
       "  'iscrowd': 0},\n",
       " {'id': 947,\n",
       "  'image_id': 122,\n",
       "  'category_id': 4,\n",
       "  'bbox': [335, 280, 27, 83.75],\n",
       "  'area': 2261.25,\n",
       "  'segmentation': [[362,\n",
       "    363.75,\n",
       "    362,\n",
       "    280,\n",
       "    335,\n",
       "    280,\n",
       "    335,\n",
       "    363.75,\n",
       "    362,\n",
       "    363.75]],\n",
       "  'iscrowd': 0},\n",
       " {'id': 948,\n",
       "  'image_id': 122,\n",
       "  'category_id': 4,\n",
       "  'bbox': [366, 299, 32, 67.5],\n",
       "  'area': 2160,\n",
       "  'segmentation': [[398,\n",
       "    366.25,\n",
       "    398,\n",
       "    298.75,\n",
       "    366,\n",
       "    298.75,\n",
       "    366,\n",
       "    366.25,\n",
       "    398,\n",
       "    366.25]],\n",
       "  'iscrowd': 0},\n",
       " {'id': 949,\n",
       "  'image_id': 123,\n",
       "  'category_id': 3,\n",
       "  'bbox': [181, 321, 40, 22.5],\n",
       "  'area': 900,\n",
       "  'segmentation': [[221,\n",
       "    343.75,\n",
       "    221,\n",
       "    321.25,\n",
       "    181,\n",
       "    321.25,\n",
       "    181,\n",
       "    343.75,\n",
       "    221,\n",
       "    343.75]],\n",
       "  'iscrowd': 0},\n",
       " {'id': 950,\n",
       "  'image_id': 123,\n",
       "  'category_id': 4,\n",
       "  'bbox': [606, 276, 14, 55],\n",
       "  'area': 770,\n",
       "  'segmentation': [[620,\n",
       "    331.25,\n",
       "    620,\n",
       "    276.25,\n",
       "    606,\n",
       "    276.25,\n",
       "    606,\n",
       "    331.25,\n",
       "    620,\n",
       "    331.25]],\n",
       "  'iscrowd': 0},\n",
       " {'id': 951,\n",
       "  'image_id': 123,\n",
       "  'category_id': 4,\n",
       "  'bbox': [586, 274, 13, 55],\n",
       "  'area': 715,\n",
       "  'segmentation': [[599,\n",
       "    328.75,\n",
       "    599,\n",
       "    273.75,\n",
       "    586,\n",
       "    273.75,\n",
       "    586,\n",
       "    328.75,\n",
       "    599,\n",
       "    328.75]],\n",
       "  'iscrowd': 0},\n",
       " {'id': 952,\n",
       "  'image_id': 123,\n",
       "  'category_id': 4,\n",
       "  'bbox': [340, 276, 28, 71.25],\n",
       "  'area': 1995,\n",
       "  'segmentation': [[368,\n",
       "    347.5,\n",
       "    368,\n",
       "    276.25,\n",
       "    340,\n",
       "    276.25,\n",
       "    340,\n",
       "    347.5,\n",
       "    368,\n",
       "    347.5]],\n",
       "  'iscrowd': 0},\n",
       " {'id': 953,\n",
       "  'image_id': 123,\n",
       "  'category_id': 4,\n",
       "  'bbox': [0, 276, 12, 47.5],\n",
       "  'area': 570,\n",
       "  'segmentation': [[0, 323.75, 12, 323.75, 12, 276.25, 0, 276.25, 0, 323.75]],\n",
       "  'iscrowd': 0},\n",
       " {'id': 954,\n",
       "  'image_id': 123,\n",
       "  'category_id': 4,\n",
       "  'bbox': [384, 275, 18, 21.25],\n",
       "  'area': 382.5,\n",
       "  'segmentation': [[402,\n",
       "    296.25,\n",
       "    402,\n",
       "    275,\n",
       "    384,\n",
       "    275,\n",
       "    384,\n",
       "    296.25,\n",
       "    402,\n",
       "    296.25]],\n",
       "  'iscrowd': 0},\n",
       " {'id': 955,\n",
       "  'image_id': 123,\n",
       "  'category_id': 4,\n",
       "  'bbox': [13, 281, 16, 27.5],\n",
       "  'area': 440,\n",
       "  'segmentation': [[29,\n",
       "    308.75,\n",
       "    29,\n",
       "    281.25,\n",
       "    13,\n",
       "    281.25,\n",
       "    13,\n",
       "    308.75,\n",
       "    29,\n",
       "    308.75]],\n",
       "  'iscrowd': 0},\n",
       " {'id': 956,\n",
       "  'image_id': 123,\n",
       "  'category_id': 4,\n",
       "  'bbox': [30, 283, 14, 26.25],\n",
       "  'area': 367.5,\n",
       "  'segmentation': [[44, 308.75, 44, 282.5, 30, 282.5, 30, 308.75, 44, 308.75]],\n",
       "  'iscrowd': 0},\n",
       " {'id': 957,\n",
       "  'image_id': 124,\n",
       "  'category_id': 2,\n",
       "  'bbox': [272, 270, 75, 67.5],\n",
       "  'area': 5062.5,\n",
       "  'segmentation': [[347, 337.5, 347, 270, 272, 270, 272, 337.5, 347, 337.5]],\n",
       "  'iscrowd': 0},\n",
       " {'id': 958,\n",
       "  'image_id': 125,\n",
       "  'category_id': 1,\n",
       "  'bbox': [362, 274, 12, 20],\n",
       "  'area': 240,\n",
       "  'segmentation': [[374,\n",
       "    293.75,\n",
       "    374,\n",
       "    273.75,\n",
       "    362,\n",
       "    273.75,\n",
       "    362,\n",
       "    293.75,\n",
       "    374,\n",
       "    293.75]],\n",
       "  'iscrowd': 0},\n",
       " {'id': 959,\n",
       "  'image_id': 125,\n",
       "  'category_id': 2,\n",
       "  'bbox': [342, 264, 16, 20],\n",
       "  'area': 320,\n",
       "  'segmentation': [[358,\n",
       "    283.75,\n",
       "    358,\n",
       "    263.75,\n",
       "    342,\n",
       "    263.75,\n",
       "    342,\n",
       "    283.75,\n",
       "    358,\n",
       "    283.75]],\n",
       "  'iscrowd': 0},\n",
       " {'id': 960,\n",
       "  'image_id': 125,\n",
       "  'category_id': 2,\n",
       "  'bbox': [187, 279, 20, 18.75],\n",
       "  'area': 375,\n",
       "  'segmentation': [[207,\n",
       "    297.5,\n",
       "    207,\n",
       "    278.75,\n",
       "    187,\n",
       "    278.75,\n",
       "    187,\n",
       "    297.5,\n",
       "    207,\n",
       "    297.5]],\n",
       "  'iscrowd': 0},\n",
       " {'id': 961,\n",
       "  'image_id': 125,\n",
       "  'category_id': 2,\n",
       "  'bbox': [169, 284, 15, 15],\n",
       "  'area': 225,\n",
       "  'segmentation': [[184,\n",
       "    298.75,\n",
       "    184,\n",
       "    283.75,\n",
       "    169,\n",
       "    283.75,\n",
       "    169,\n",
       "    298.75,\n",
       "    184,\n",
       "    298.75]],\n",
       "  'iscrowd': 0},\n",
       " {'id': 962,\n",
       "  'image_id': 126,\n",
       "  'category_id': 2,\n",
       "  'bbox': [597, 291, 31, 76.25],\n",
       "  'area': 2363.75,\n",
       "  'segmentation': [[628,\n",
       "    367.5,\n",
       "    628,\n",
       "    291.25,\n",
       "    597,\n",
       "    291.25,\n",
       "    597,\n",
       "    367.5,\n",
       "    628,\n",
       "    367.5]],\n",
       "  'iscrowd': 0},\n",
       " {'id': 963,\n",
       "  'image_id': 126,\n",
       "  'category_id': 2,\n",
       "  'bbox': [550, 296, 29, 61.25],\n",
       "  'area': 1776.25,\n",
       "  'segmentation': [[579,\n",
       "    357.5,\n",
       "    579,\n",
       "    296.25,\n",
       "    550,\n",
       "    296.25,\n",
       "    550,\n",
       "    357.5,\n",
       "    579,\n",
       "    357.5]],\n",
       "  'iscrowd': 0},\n",
       " {'id': 964,\n",
       "  'image_id': 126,\n",
       "  'category_id': 2,\n",
       "  'bbox': [533, 275, 40, 38.75],\n",
       "  'area': 1550,\n",
       "  'segmentation': [[573,\n",
       "    313.75,\n",
       "    573,\n",
       "    275,\n",
       "    533,\n",
       "    275,\n",
       "    533,\n",
       "    313.75,\n",
       "    573,\n",
       "    313.75]],\n",
       "  'iscrowd': 0},\n",
       " {'id': 965,\n",
       "  'image_id': 126,\n",
       "  'category_id': 2,\n",
       "  'bbox': [452, 358, 187, 235],\n",
       "  'area': 43945,\n",
       "  'segmentation': [[639,\n",
       "    592.5,\n",
       "    639,\n",
       "    357.5,\n",
       "    452,\n",
       "    357.5,\n",
       "    452,\n",
       "    592.5,\n",
       "    639,\n",
       "    592.5]],\n",
       "  'iscrowd': 0},\n",
       " {'id': 966,\n",
       "  'image_id': 126,\n",
       "  'category_id': 2,\n",
       "  'bbox': [406, 306, 141, 141.25],\n",
       "  'area': 19916.25,\n",
       "  'segmentation': [[547,\n",
       "    447.5,\n",
       "    547,\n",
       "    306.25,\n",
       "    406,\n",
       "    306.25,\n",
       "    406,\n",
       "    447.5,\n",
       "    547,\n",
       "    447.5]],\n",
       "  'iscrowd': 0},\n",
       " {'id': 967,\n",
       "  'image_id': 126,\n",
       "  'category_id': 2,\n",
       "  'bbox': [366, 293, 67, 76.25],\n",
       "  'area': 5108.75,\n",
       "  'segmentation': [[433,\n",
       "    368.75,\n",
       "    433,\n",
       "    292.5,\n",
       "    366,\n",
       "    292.5,\n",
       "    366,\n",
       "    368.75,\n",
       "    433,\n",
       "    368.75]],\n",
       "  'iscrowd': 0},\n",
       " {'id': 968,\n",
       "  'image_id': 126,\n",
       "  'category_id': 2,\n",
       "  'bbox': [349, 291, 28, 37.5],\n",
       "  'area': 1050,\n",
       "  'segmentation': [[377,\n",
       "    328.75,\n",
       "    377,\n",
       "    291.25,\n",
       "    349,\n",
       "    291.25,\n",
       "    349,\n",
       "    328.75,\n",
       "    377,\n",
       "    328.75]],\n",
       "  'iscrowd': 0},\n",
       " {'id': 969,\n",
       "  'image_id': 126,\n",
       "  'category_id': 2,\n",
       "  'bbox': [257, 285, 23, 16.25],\n",
       "  'area': 373.75,\n",
       "  'segmentation': [[280,\n",
       "    301.25,\n",
       "    280,\n",
       "    285,\n",
       "    257,\n",
       "    285,\n",
       "    257,\n",
       "    301.25,\n",
       "    280,\n",
       "    301.25]],\n",
       "  'iscrowd': 0},\n",
       " {'id': 970,\n",
       "  'image_id': 126,\n",
       "  'category_id': 2,\n",
       "  'bbox': [235, 285, 23, 33.75],\n",
       "  'area': 776.25,\n",
       "  'segmentation': [[258,\n",
       "    318.75,\n",
       "    258,\n",
       "    285,\n",
       "    235,\n",
       "    285,\n",
       "    235,\n",
       "    318.75,\n",
       "    258,\n",
       "    318.75]],\n",
       "  'iscrowd': 0},\n",
       " {'id': 971,\n",
       "  'image_id': 126,\n",
       "  'category_id': 2,\n",
       "  'bbox': [205, 286, 35, 43.75],\n",
       "  'area': 1531.25,\n",
       "  'segmentation': [[240, 330, 240, 286.25, 205, 286.25, 205, 330, 240, 330]],\n",
       "  'iscrowd': 0},\n",
       " {'id': 972,\n",
       "  'image_id': 126,\n",
       "  'category_id': 2,\n",
       "  'bbox': [186, 300, 35, 37.5],\n",
       "  'area': 1312.5,\n",
       "  'segmentation': [[221, 337.5, 221, 300, 186, 300, 186, 337.5, 221, 337.5]],\n",
       "  'iscrowd': 0},\n",
       " {'id': 973,\n",
       "  'image_id': 126,\n",
       "  'category_id': 2,\n",
       "  'bbox': [162, 310, 36, 50],\n",
       "  'area': 1800,\n",
       "  'segmentation': [[198, 360, 198, 310, 162, 310, 162, 360, 198, 360]],\n",
       "  'iscrowd': 0},\n",
       " {'id': 974,\n",
       "  'image_id': 126,\n",
       "  'category_id': 2,\n",
       "  'bbox': [141, 310, 38, 67.5],\n",
       "  'area': 2565,\n",
       "  'segmentation': [[179, 377.5, 179, 310, 141, 310, 141, 377.5, 179, 377.5]],\n",
       "  'iscrowd': 0},\n",
       " {'id': 975,\n",
       "  'image_id': 126,\n",
       "  'category_id': 2,\n",
       "  'bbox': [57, 306, 102, 105],\n",
       "  'area': 10710,\n",
       "  'segmentation': [[159,\n",
       "    411.25,\n",
       "    159,\n",
       "    306.25,\n",
       "    57,\n",
       "    306.25,\n",
       "    57,\n",
       "    411.25,\n",
       "    159,\n",
       "    411.25]],\n",
       "  'iscrowd': 0},\n",
       " {'id': 976,\n",
       "  'image_id': 126,\n",
       "  'category_id': 2,\n",
       "  'bbox': [1, 331, 74, 135],\n",
       "  'area': 9990,\n",
       "  'segmentation': [[75, 466.25, 75, 331.25, 1, 331.25, 1, 466.25, 75, 466.25]],\n",
       "  'iscrowd': 0},\n",
       " {'id': 977,\n",
       "  'image_id': 126,\n",
       "  'category_id': 2,\n",
       "  'bbox': [340, 285, 21, 32.5],\n",
       "  'area': 682.5,\n",
       "  'segmentation': [[361, 317.5, 361, 285, 340, 285, 340, 317.5, 361, 317.5]],\n",
       "  'iscrowd': 0},\n",
       " {'id': 978,\n",
       "  'image_id': 126,\n",
       "  'category_id': 2,\n",
       "  'bbox': [334, 285, 16, 25],\n",
       "  'area': 400,\n",
       "  'segmentation': [[350, 310, 350, 285, 334, 285, 334, 310, 350, 310]],\n",
       "  'iscrowd': 0},\n",
       " {'id': 979,\n",
       "  'image_id': 126,\n",
       "  'category_id': 2,\n",
       "  'bbox': [298, 278, 14, 15],\n",
       "  'area': 210,\n",
       "  'segmentation': [[312,\n",
       "    292.5,\n",
       "    312,\n",
       "    277.5,\n",
       "    298,\n",
       "    277.5,\n",
       "    298,\n",
       "    292.5,\n",
       "    312,\n",
       "    292.5]],\n",
       "  'iscrowd': 0},\n",
       " {'id': 980,\n",
       "  'image_id': 126,\n",
       "  'category_id': 4,\n",
       "  'bbox': [282, 281, 10, 26.25],\n",
       "  'area': 262.5,\n",
       "  'segmentation': [[292,\n",
       "    307.5,\n",
       "    292,\n",
       "    281.25,\n",
       "    282,\n",
       "    281.25,\n",
       "    282,\n",
       "    307.5,\n",
       "    292,\n",
       "    307.5]],\n",
       "  'iscrowd': 0},\n",
       " {'id': 981,\n",
       "  'image_id': 126,\n",
       "  'category_id': 4,\n",
       "  'bbox': [308, 276, 11, 20],\n",
       "  'area': 220,\n",
       "  'segmentation': [[319,\n",
       "    296.25,\n",
       "    319,\n",
       "    276.25,\n",
       "    308,\n",
       "    276.25,\n",
       "    308,\n",
       "    296.25,\n",
       "    319,\n",
       "    296.25]],\n",
       "  'iscrowd': 0},\n",
       " {'id': 982,\n",
       "  'image_id': 127,\n",
       "  'category_id': 2,\n",
       "  'bbox': [0, 278, 68, 113.75],\n",
       "  'area': 7735,\n",
       "  'segmentation': [[0, 391.25, 68, 391.25, 68, 277.5, 0, 277.5, 0, 391.25]],\n",
       "  'iscrowd': 0},\n",
       " {'id': 983,\n",
       "  'image_id': 127,\n",
       "  'category_id': 2,\n",
       "  'bbox': [72, 278, 77, 65],\n",
       "  'area': 5005,\n",
       "  'segmentation': [[149, 342.5, 149, 277.5, 72, 277.5, 72, 342.5, 149, 342.5]],\n",
       "  'iscrowd': 0},\n",
       " {'id': 984,\n",
       "  'image_id': 127,\n",
       "  'category_id': 2,\n",
       "  'bbox': [163, 288, 48, 38.75],\n",
       "  'area': 1860,\n",
       "  'segmentation': [[211,\n",
       "    326.25,\n",
       "    211,\n",
       "    287.5,\n",
       "    163,\n",
       "    287.5,\n",
       "    163,\n",
       "    326.25,\n",
       "    211,\n",
       "    326.25]],\n",
       "  'iscrowd': 0},\n",
       " {'id': 985,\n",
       "  'image_id': 127,\n",
       "  'category_id': 2,\n",
       "  'bbox': [210, 294, 24, 26.25],\n",
       "  'area': 630,\n",
       "  'segmentation': [[234, 320, 234, 293.75, 210, 293.75, 210, 320, 234, 320]],\n",
       "  'iscrowd': 0},\n",
       " {'id': 986,\n",
       "  'image_id': 127,\n",
       "  'category_id': 2,\n",
       "  'bbox': [337, 284, 19, 18.75],\n",
       "  'area': 356.25,\n",
       "  'segmentation': [[356,\n",
       "    302.5,\n",
       "    356,\n",
       "    283.75,\n",
       "    337,\n",
       "    283.75,\n",
       "    337,\n",
       "    302.5,\n",
       "    356,\n",
       "    302.5]],\n",
       "  'iscrowd': 0},\n",
       " {'id': 987,\n",
       "  'image_id': 127,\n",
       "  'category_id': 2,\n",
       "  'bbox': [250, 278, 14, 16.25],\n",
       "  'area': 227.5,\n",
       "  'segmentation': [[264,\n",
       "    293.75,\n",
       "    264,\n",
       "    277.5,\n",
       "    250,\n",
       "    277.5,\n",
       "    250,\n",
       "    293.75,\n",
       "    264,\n",
       "    293.75]],\n",
       "  'iscrowd': 0},\n",
       " {'id': 988,\n",
       "  'image_id': 127,\n",
       "  'category_id': 2,\n",
       "  'bbox': [325, 274, 14, 22.5],\n",
       "  'area': 315,\n",
       "  'segmentation': [[339,\n",
       "    296.25,\n",
       "    339,\n",
       "    273.75,\n",
       "    325,\n",
       "    273.75,\n",
       "    325,\n",
       "    296.25,\n",
       "    339,\n",
       "    296.25]],\n",
       "  'iscrowd': 0},\n",
       " {'id': 989,\n",
       "  'image_id': 128,\n",
       "  'category_id': 2,\n",
       "  'bbox': [70, 303, 78, 53.75],\n",
       "  'area': 4192.5,\n",
       "  'segmentation': [[148,\n",
       "    356.25,\n",
       "    148,\n",
       "    302.5,\n",
       "    70,\n",
       "    302.5,\n",
       "    70,\n",
       "    356.25,\n",
       "    148,\n",
       "    356.25]],\n",
       "  'iscrowd': 0},\n",
       " {'id': 990,\n",
       "  'image_id': 128,\n",
       "  'category_id': 4,\n",
       "  'bbox': [387, 281, 15, 37.5],\n",
       "  'area': 562.5,\n",
       "  'segmentation': [[402,\n",
       "    318.75,\n",
       "    402,\n",
       "    281.25,\n",
       "    387,\n",
       "    281.25,\n",
       "    387,\n",
       "    318.75,\n",
       "    402,\n",
       "    318.75]],\n",
       "  'iscrowd': 0},\n",
       " {'id': 991,\n",
       "  'image_id': 128,\n",
       "  'category_id': 4,\n",
       "  'bbox': [104, 288, 13, 17.5],\n",
       "  'area': 227.5,\n",
       "  'segmentation': [[117, 305, 117, 287.5, 104, 287.5, 104, 305, 117, 305]],\n",
       "  'iscrowd': 0},\n",
       " {'id': 992,\n",
       "  'image_id': 128,\n",
       "  'category_id': 4,\n",
       "  'bbox': [129, 290, 13, 26.25],\n",
       "  'area': 341.25,\n",
       "  'segmentation': [[142,\n",
       "    316.25,\n",
       "    142,\n",
       "    290,\n",
       "    129,\n",
       "    290,\n",
       "    129,\n",
       "    316.25,\n",
       "    142,\n",
       "    316.25]],\n",
       "  'iscrowd': 0},\n",
       " {'id': 993,\n",
       "  'image_id': 128,\n",
       "  'category_id': 2,\n",
       "  'bbox': [146, 285, 92, 48.75],\n",
       "  'area': 4485,\n",
       "  'segmentation': [[238,\n",
       "    333.75,\n",
       "    238,\n",
       "    285,\n",
       "    146,\n",
       "    285,\n",
       "    146,\n",
       "    333.75,\n",
       "    238,\n",
       "    333.75]],\n",
       "  'iscrowd': 0},\n",
       " {'id': 994,\n",
       "  'image_id': 128,\n",
       "  'category_id': 2,\n",
       "  'bbox': [261, 294, 18, 18.75],\n",
       "  'area': 337.5,\n",
       "  'segmentation': [[279,\n",
       "    312.5,\n",
       "    279,\n",
       "    293.75,\n",
       "    261,\n",
       "    293.75,\n",
       "    261,\n",
       "    312.5,\n",
       "    279,\n",
       "    312.5]],\n",
       "  'iscrowd': 0},\n",
       " {'id': 995,\n",
       "  'image_id': 128,\n",
       "  'category_id': 2,\n",
       "  'bbox': [277, 294, 12, 16.25],\n",
       "  'area': 195,\n",
       "  'segmentation': [[289, 310, 289, 293.75, 277, 293.75, 277, 310, 289, 310]],\n",
       "  'iscrowd': 0},\n",
       " {'id': 996,\n",
       "  'image_id': 128,\n",
       "  'category_id': 2,\n",
       "  'bbox': [302, 291, 13, 15],\n",
       "  'area': 195,\n",
       "  'segmentation': [[315,\n",
       "    306.25,\n",
       "    315,\n",
       "    291.25,\n",
       "    302,\n",
       "    291.25,\n",
       "    302,\n",
       "    306.25,\n",
       "    315,\n",
       "    306.25]],\n",
       "  'iscrowd': 0},\n",
       " {'id': 997,\n",
       "  'image_id': 129,\n",
       "  'category_id': 4,\n",
       "  'bbox': [497, 250, 45, 112.5],\n",
       "  'area': 5062.5,\n",
       "  'segmentation': [[542, 362.5, 542, 250, 497, 250, 497, 362.5, 542, 362.5]],\n",
       "  'iscrowd': 0},\n",
       " {'id': 998,\n",
       "  'image_id': 129,\n",
       "  'category_id': 2,\n",
       "  'bbox': [272, 284, 98, 96.25],\n",
       "  'area': 9432.5,\n",
       "  'segmentation': [[370, 380, 370, 283.75, 272, 283.75, 272, 380, 370, 380]],\n",
       "  'iscrowd': 0},\n",
       " {'id': 999,\n",
       "  'image_id': 129,\n",
       "  'category_id': 2,\n",
       "  'bbox': [164, 279, 50, 65],\n",
       "  'area': 3250,\n",
       "  'segmentation': [[214,\n",
       "    343.75,\n",
       "    214,\n",
       "    278.75,\n",
       "    164,\n",
       "    278.75,\n",
       "    164,\n",
       "    343.75,\n",
       "    214,\n",
       "    343.75]],\n",
       "  'iscrowd': 0},\n",
       " ...]"
      ]
     },
     "execution_count": 15,
     "metadata": {},
     "output_type": "execute_result"
    }
   ],
   "source": [
    "ext_train_data[\"annotations\"]"
   ]
  },
  {
   "cell_type": "code",
   "execution_count": 16,
   "id": "c5d9a09e",
   "metadata": {
    "scrolled": true
   },
   "outputs": [
    {
     "data": {
      "application/vnd.jupyter.widget-view+json": {
       "model_id": "c5c191b99bd6495290b32090843aa939",
       "version_major": 2,
       "version_minor": 0
      },
      "text/plain": [
       "Output()"
      ]
     },
     "metadata": {},
     "output_type": "display_data"
    },
    {
     "data": {
      "text/html": [
       "<pre style=\"white-space:pre;overflow-x:auto;line-height:normal;font-family:Menlo,'DejaVu Sans Mono',consolas,'Courier New',monospace\"></pre>\n"
      ],
      "text/plain": []
     },
     "metadata": {},
     "output_type": "display_data"
    },
    {
     "data": {
      "application/vnd.jupyter.widget-view+json": {
       "model_id": "bce1baaecca6447098d973f884973b77",
       "version_major": 2,
       "version_minor": 0
      },
      "text/plain": [
       "Output()"
      ]
     },
     "metadata": {},
     "output_type": "display_data"
    },
    {
     "data": {
      "text/html": [
       "<pre style=\"white-space:pre;overflow-x:auto;line-height:normal;font-family:Menlo,'DejaVu Sans Mono',consolas,'Courier New',monospace\"></pre>\n"
      ],
      "text/plain": []
     },
     "metadata": {},
     "output_type": "display_data"
    },
    {
     "data": {
      "application/vnd.jupyter.widget-view+json": {
       "model_id": "7ae20251b7b64da3b5bea3535eacc48d",
       "version_major": 2,
       "version_minor": 0
      },
      "text/plain": [
       "Output()"
      ]
     },
     "metadata": {},
     "output_type": "display_data"
    },
    {
     "data": {
      "text/html": [
       "<pre style=\"white-space:pre;overflow-x:auto;line-height:normal;font-family:Menlo,'DejaVu Sans Mono',consolas,'Courier New',monospace\"></pre>\n"
      ],
      "text/plain": []
     },
     "metadata": {},
     "output_type": "display_data"
    },
    {
     "data": {
      "application/vnd.jupyter.widget-view+json": {
       "model_id": "bcbcb5ecdced4330b6003810543300ee",
       "version_major": 2,
       "version_minor": 0
      },
      "text/plain": [
       "Output()"
      ]
     },
     "metadata": {},
     "output_type": "display_data"
    },
    {
     "data": {
      "text/html": [
       "<pre style=\"white-space:pre;overflow-x:auto;line-height:normal;font-family:Menlo,'DejaVu Sans Mono',consolas,'Courier New',monospace\"></pre>\n"
      ],
      "text/plain": []
     },
     "metadata": {},
     "output_type": "display_data"
    },
    {
     "data": {
      "application/vnd.jupyter.widget-view+json": {
       "model_id": "304e80bb210d4b43b030b0b5389686b5",
       "version_major": 2,
       "version_minor": 0
      },
      "text/plain": [
       "Output()"
      ]
     },
     "metadata": {},
     "output_type": "display_data"
    },
    {
     "data": {
      "text/html": [
       "<pre style=\"white-space:pre;overflow-x:auto;line-height:normal;font-family:Menlo,'DejaVu Sans Mono',consolas,'Courier New',monospace\"></pre>\n"
      ],
      "text/plain": []
     },
     "metadata": {},
     "output_type": "display_data"
    },
    {
     "data": {
      "application/vnd.jupyter.widget-view+json": {
       "model_id": "f3c20fd4a05a41498bae84872622ed6c",
       "version_major": 2,
       "version_minor": 0
      },
      "text/plain": [
       "Output()"
      ]
     },
     "metadata": {},
     "output_type": "display_data"
    },
    {
     "data": {
      "text/html": [
       "<pre style=\"white-space:pre;overflow-x:auto;line-height:normal;font-family:Menlo,'DejaVu Sans Mono',consolas,'Courier New',monospace\"></pre>\n"
      ],
      "text/plain": []
     },
     "metadata": {},
     "output_type": "display_data"
    },
    {
     "data": {
      "application/vnd.jupyter.widget-view+json": {
       "model_id": "8840a10567544fed9e2beb14d39f1459",
       "version_major": 2,
       "version_minor": 0
      },
      "text/plain": [
       "Output()"
      ]
     },
     "metadata": {},
     "output_type": "display_data"
    },
    {
     "data": {
      "text/html": [
       "<pre style=\"white-space:pre;overflow-x:auto;line-height:normal;font-family:Menlo,'DejaVu Sans Mono',consolas,'Courier New',monospace\"></pre>\n"
      ],
      "text/plain": []
     },
     "metadata": {},
     "output_type": "display_data"
    },
    {
     "data": {
      "application/vnd.jupyter.widget-view+json": {
       "model_id": "dbdd63c17189409fa302a3411a192378",
       "version_major": 2,
       "version_minor": 0
      },
      "text/plain": [
       "Output()"
      ]
     },
     "metadata": {},
     "output_type": "display_data"
    },
    {
     "data": {
      "text/html": [
       "<pre style=\"white-space:pre;overflow-x:auto;line-height:normal;font-family:Menlo,'DejaVu Sans Mono',consolas,'Courier New',monospace\"></pre>\n"
      ],
      "text/plain": []
     },
     "metadata": {},
     "output_type": "display_data"
    },
    {
     "data": {
      "application/vnd.jupyter.widget-view+json": {
       "model_id": "81310f44386d4165beabcf2001039647",
       "version_major": 2,
       "version_minor": 0
      },
      "text/plain": [
       "Output()"
      ]
     },
     "metadata": {},
     "output_type": "display_data"
    },
    {
     "data": {
      "text/html": [
       "<pre style=\"white-space:pre;overflow-x:auto;line-height:normal;font-family:Menlo,'DejaVu Sans Mono',consolas,'Courier New',monospace\"></pre>\n"
      ],
      "text/plain": []
     },
     "metadata": {},
     "output_type": "display_data"
    },
    {
     "data": {
      "application/vnd.jupyter.widget-view+json": {
       "model_id": "da740f997f5d41dc8f54b31a7cdbfb72",
       "version_major": 2,
       "version_minor": 0
      },
      "text/plain": [
       "Output()"
      ]
     },
     "metadata": {},
     "output_type": "display_data"
    },
    {
     "data": {
      "text/html": [
       "<pre style=\"white-space:pre;overflow-x:auto;line-height:normal;font-family:Menlo,'DejaVu Sans Mono',consolas,'Courier New',monospace\"></pre>\n"
      ],
      "text/plain": []
     },
     "metadata": {},
     "output_type": "display_data"
    },
    {
     "data": {
      "application/vnd.jupyter.widget-view+json": {
       "model_id": "32a9a406c0af4905a1da87c1cbfc9456",
       "version_major": 2,
       "version_minor": 0
      },
      "text/plain": [
       "Output()"
      ]
     },
     "metadata": {},
     "output_type": "display_data"
    },
    {
     "data": {
      "text/html": [
       "<pre style=\"white-space:pre;overflow-x:auto;line-height:normal;font-family:Menlo,'DejaVu Sans Mono',consolas,'Courier New',monospace\"></pre>\n"
      ],
      "text/plain": []
     },
     "metadata": {},
     "output_type": "display_data"
    },
    {
     "data": {
      "application/vnd.jupyter.widget-view+json": {
       "model_id": "4efe739cf16a423d848fdad479c088eb",
       "version_major": 2,
       "version_minor": 0
      },
      "text/plain": [
       "Output()"
      ]
     },
     "metadata": {},
     "output_type": "display_data"
    },
    {
     "data": {
      "text/html": [
       "<pre style=\"white-space:pre;overflow-x:auto;line-height:normal;font-family:Menlo,'DejaVu Sans Mono',consolas,'Courier New',monospace\"></pre>\n"
      ],
      "text/plain": []
     },
     "metadata": {},
     "output_type": "display_data"
    },
    {
     "data": {
      "application/vnd.jupyter.widget-view+json": {
       "model_id": "4bbe38ca8c9747f883c23d81a6854f1e",
       "version_major": 2,
       "version_minor": 0
      },
      "text/plain": [
       "Output()"
      ]
     },
     "metadata": {},
     "output_type": "display_data"
    },
    {
     "data": {
      "text/html": [
       "<pre style=\"white-space:pre;overflow-x:auto;line-height:normal;font-family:Menlo,'DejaVu Sans Mono',consolas,'Courier New',monospace\"></pre>\n"
      ],
      "text/plain": []
     },
     "metadata": {},
     "output_type": "display_data"
    },
    {
     "data": {
      "application/vnd.jupyter.widget-view+json": {
       "model_id": "4935d963df254aaca47451ce3dc5979c",
       "version_major": 2,
       "version_minor": 0
      },
      "text/plain": [
       "Output()"
      ]
     },
     "metadata": {},
     "output_type": "display_data"
    },
    {
     "data": {
      "text/html": [
       "<pre style=\"white-space:pre;overflow-x:auto;line-height:normal;font-family:Menlo,'DejaVu Sans Mono',consolas,'Courier New',monospace\"></pre>\n"
      ],
      "text/plain": []
     },
     "metadata": {},
     "output_type": "display_data"
    },
    {
     "data": {
      "application/vnd.jupyter.widget-view+json": {
       "model_id": "abddd4e291b34ac7a8f206d6c5680e42",
       "version_major": 2,
       "version_minor": 0
      },
      "text/plain": [
       "Output()"
      ]
     },
     "metadata": {},
     "output_type": "display_data"
    },
    {
     "data": {
      "text/html": [
       "<pre style=\"white-space:pre;overflow-x:auto;line-height:normal;font-family:Menlo,'DejaVu Sans Mono',consolas,'Courier New',monospace\"></pre>\n"
      ],
      "text/plain": []
     },
     "metadata": {},
     "output_type": "display_data"
    },
    {
     "data": {
      "application/vnd.jupyter.widget-view+json": {
       "model_id": "083389f78b2d4ab1b3ffa866ea534e9c",
       "version_major": 2,
       "version_minor": 0
      },
      "text/plain": [
       "Output()"
      ]
     },
     "metadata": {},
     "output_type": "display_data"
    },
    {
     "data": {
      "text/html": [
       "<pre style=\"white-space:pre;overflow-x:auto;line-height:normal;font-family:Menlo,'DejaVu Sans Mono',consolas,'Courier New',monospace\"></pre>\n"
      ],
      "text/plain": []
     },
     "metadata": {},
     "output_type": "display_data"
    },
    {
     "data": {
      "application/vnd.jupyter.widget-view+json": {
       "model_id": "74ec5269e3464305bb6df01d0a5a5482",
       "version_major": 2,
       "version_minor": 0
      },
      "text/plain": [
       "Output()"
      ]
     },
     "metadata": {},
     "output_type": "display_data"
    },
    {
     "data": {
      "text/html": [
       "<pre style=\"white-space:pre;overflow-x:auto;line-height:normal;font-family:Menlo,'DejaVu Sans Mono',consolas,'Courier New',monospace\"></pre>\n"
      ],
      "text/plain": []
     },
     "metadata": {},
     "output_type": "display_data"
    },
    {
     "data": {
      "application/vnd.jupyter.widget-view+json": {
       "model_id": "ebf1da33c208412b81330a978d0bc159",
       "version_major": 2,
       "version_minor": 0
      },
      "text/plain": [
       "Output()"
      ]
     },
     "metadata": {},
     "output_type": "display_data"
    },
    {
     "data": {
      "text/html": [
       "<pre style=\"white-space:pre;overflow-x:auto;line-height:normal;font-family:Menlo,'DejaVu Sans Mono',consolas,'Courier New',monospace\"></pre>\n"
      ],
      "text/plain": []
     },
     "metadata": {},
     "output_type": "display_data"
    },
    {
     "data": {
      "application/vnd.jupyter.widget-view+json": {
       "model_id": "6a9994d8235140ed846355d0dd663dce",
       "version_major": 2,
       "version_minor": 0
      },
      "text/plain": [
       "Output()"
      ]
     },
     "metadata": {},
     "output_type": "display_data"
    },
    {
     "data": {
      "text/html": [
       "<pre style=\"white-space:pre;overflow-x:auto;line-height:normal;font-family:Menlo,'DejaVu Sans Mono',consolas,'Courier New',monospace\"></pre>\n"
      ],
      "text/plain": []
     },
     "metadata": {},
     "output_type": "display_data"
    },
    {
     "data": {
      "application/vnd.jupyter.widget-view+json": {
       "model_id": "33b6d05ce33a47cb924c95fcf23d3498",
       "version_major": 2,
       "version_minor": 0
      },
      "text/plain": [
       "Output()"
      ]
     },
     "metadata": {},
     "output_type": "display_data"
    },
    {
     "data": {
      "text/html": [
       "<pre style=\"white-space:pre;overflow-x:auto;line-height:normal;font-family:Menlo,'DejaVu Sans Mono',consolas,'Courier New',monospace\"></pre>\n"
      ],
      "text/plain": []
     },
     "metadata": {},
     "output_type": "display_data"
    },
    {
     "data": {
      "application/vnd.jupyter.widget-view+json": {
       "model_id": "ffb731eb49444ed89624a836ecc53096",
       "version_major": 2,
       "version_minor": 0
      },
      "text/plain": [
       "Output()"
      ]
     },
     "metadata": {},
     "output_type": "display_data"
    },
    {
     "data": {
      "text/html": [
       "<pre style=\"white-space:pre;overflow-x:auto;line-height:normal;font-family:Menlo,'DejaVu Sans Mono',consolas,'Courier New',monospace\"></pre>\n"
      ],
      "text/plain": []
     },
     "metadata": {},
     "output_type": "display_data"
    },
    {
     "data": {
      "application/vnd.jupyter.widget-view+json": {
       "model_id": "587921a748d4447e8e2bf620bf19fdde",
       "version_major": 2,
       "version_minor": 0
      },
      "text/plain": [
       "Output()"
      ]
     },
     "metadata": {},
     "output_type": "display_data"
    },
    {
     "data": {
      "text/html": [
       "<pre style=\"white-space:pre;overflow-x:auto;line-height:normal;font-family:Menlo,'DejaVu Sans Mono',consolas,'Courier New',monospace\"></pre>\n"
      ],
      "text/plain": []
     },
     "metadata": {},
     "output_type": "display_data"
    },
    {
     "data": {
      "application/vnd.jupyter.widget-view+json": {
       "model_id": "03ac9891c98b474295d9abd38acb5c0d",
       "version_major": 2,
       "version_minor": 0
      },
      "text/plain": [
       "Output()"
      ]
     },
     "metadata": {},
     "output_type": "display_data"
    },
    {
     "data": {
      "text/html": [
       "<pre style=\"white-space:pre;overflow-x:auto;line-height:normal;font-family:Menlo,'DejaVu Sans Mono',consolas,'Courier New',monospace\"></pre>\n"
      ],
      "text/plain": []
     },
     "metadata": {},
     "output_type": "display_data"
    },
    {
     "data": {
      "application/vnd.jupyter.widget-view+json": {
       "model_id": "9164787115be462b9191d7e0effd42d2",
       "version_major": 2,
       "version_minor": 0
      },
      "text/plain": [
       "Output()"
      ]
     },
     "metadata": {},
     "output_type": "display_data"
    },
    {
     "data": {
      "text/html": [
       "<pre style=\"white-space:pre;overflow-x:auto;line-height:normal;font-family:Menlo,'DejaVu Sans Mono',consolas,'Courier New',monospace\"></pre>\n"
      ],
      "text/plain": []
     },
     "metadata": {},
     "output_type": "display_data"
    },
    {
     "data": {
      "application/vnd.jupyter.widget-view+json": {
       "model_id": "e7a51905a52c4520b4b942a13dedbe06",
       "version_major": 2,
       "version_minor": 0
      },
      "text/plain": [
       "Output()"
      ]
     },
     "metadata": {},
     "output_type": "display_data"
    },
    {
     "data": {
      "text/html": [
       "<pre style=\"white-space:pre;overflow-x:auto;line-height:normal;font-family:Menlo,'DejaVu Sans Mono',consolas,'Courier New',monospace\"></pre>\n"
      ],
      "text/plain": []
     },
     "metadata": {},
     "output_type": "display_data"
    },
    {
     "data": {
      "application/vnd.jupyter.widget-view+json": {
       "model_id": "eb3cf52bdc1c4db8b11c3b703e6088f1",
       "version_major": 2,
       "version_minor": 0
      },
      "text/plain": [
       "Output()"
      ]
     },
     "metadata": {},
     "output_type": "display_data"
    },
    {
     "data": {
      "text/html": [
       "<pre style=\"white-space:pre;overflow-x:auto;line-height:normal;font-family:Menlo,'DejaVu Sans Mono',consolas,'Courier New',monospace\"></pre>\n"
      ],
      "text/plain": []
     },
     "metadata": {},
     "output_type": "display_data"
    },
    {
     "data": {
      "application/vnd.jupyter.widget-view+json": {
       "model_id": "99718b3c56274749bbc9061c8fb3dcf3",
       "version_major": 2,
       "version_minor": 0
      },
      "text/plain": [
       "Output()"
      ]
     },
     "metadata": {},
     "output_type": "display_data"
    },
    {
     "data": {
      "text/html": [
       "<pre style=\"white-space:pre;overflow-x:auto;line-height:normal;font-family:Menlo,'DejaVu Sans Mono',consolas,'Courier New',monospace\"></pre>\n"
      ],
      "text/plain": []
     },
     "metadata": {},
     "output_type": "display_data"
    },
    {
     "data": {
      "application/vnd.jupyter.widget-view+json": {
       "model_id": "2a34486102254582b24d25257faab053",
       "version_major": 2,
       "version_minor": 0
      },
      "text/plain": [
       "Output()"
      ]
     },
     "metadata": {},
     "output_type": "display_data"
    },
    {
     "data": {
      "text/html": [
       "<pre style=\"white-space:pre;overflow-x:auto;line-height:normal;font-family:Menlo,'DejaVu Sans Mono',consolas,'Courier New',monospace\"></pre>\n"
      ],
      "text/plain": []
     },
     "metadata": {},
     "output_type": "display_data"
    },
    {
     "data": {
      "application/vnd.jupyter.widget-view+json": {
       "model_id": "a9d903d43fa94cba8852627271709861",
       "version_major": 2,
       "version_minor": 0
      },
      "text/plain": [
       "Output()"
      ]
     },
     "metadata": {},
     "output_type": "display_data"
    },
    {
     "data": {
      "text/html": [
       "<pre style=\"white-space:pre;overflow-x:auto;line-height:normal;font-family:Menlo,'DejaVu Sans Mono',consolas,'Courier New',monospace\"></pre>\n"
      ],
      "text/plain": []
     },
     "metadata": {},
     "output_type": "display_data"
    },
    {
     "data": {
      "application/vnd.jupyter.widget-view+json": {
       "model_id": "b2614012a0874b4bb4e405642fbaa4d8",
       "version_major": 2,
       "version_minor": 0
      },
      "text/plain": [
       "Output()"
      ]
     },
     "metadata": {},
     "output_type": "display_data"
    },
    {
     "data": {
      "text/html": [
       "<pre style=\"white-space:pre;overflow-x:auto;line-height:normal;font-family:Menlo,'DejaVu Sans Mono',consolas,'Courier New',monospace\"></pre>\n"
      ],
      "text/plain": []
     },
     "metadata": {},
     "output_type": "display_data"
    },
    {
     "data": {
      "application/vnd.jupyter.widget-view+json": {
       "model_id": "7ad6c03dd163478ca1c09d225d869f63",
       "version_major": 2,
       "version_minor": 0
      },
      "text/plain": [
       "Output()"
      ]
     },
     "metadata": {},
     "output_type": "display_data"
    },
    {
     "data": {
      "text/html": [
       "<pre style=\"white-space:pre;overflow-x:auto;line-height:normal;font-family:Menlo,'DejaVu Sans Mono',consolas,'Courier New',monospace\"></pre>\n"
      ],
      "text/plain": []
     },
     "metadata": {},
     "output_type": "display_data"
    },
    {
     "data": {
      "application/vnd.jupyter.widget-view+json": {
       "model_id": "ad6cebb125d948039ac8b256818d46ce",
       "version_major": 2,
       "version_minor": 0
      },
      "text/plain": [
       "Output()"
      ]
     },
     "metadata": {},
     "output_type": "display_data"
    },
    {
     "data": {
      "text/html": [
       "<pre style=\"white-space:pre;overflow-x:auto;line-height:normal;font-family:Menlo,'DejaVu Sans Mono',consolas,'Courier New',monospace\"></pre>\n"
      ],
      "text/plain": []
     },
     "metadata": {},
     "output_type": "display_data"
    },
    {
     "data": {
      "application/vnd.jupyter.widget-view+json": {
       "model_id": "6cf530e3ce4e4c4d8b15f4b600f2c867",
       "version_major": 2,
       "version_minor": 0
      },
      "text/plain": [
       "Output()"
      ]
     },
     "metadata": {},
     "output_type": "display_data"
    },
    {
     "data": {
      "text/html": [
       "<pre style=\"white-space:pre;overflow-x:auto;line-height:normal;font-family:Menlo,'DejaVu Sans Mono',consolas,'Courier New',monospace\"></pre>\n"
      ],
      "text/plain": []
     },
     "metadata": {},
     "output_type": "display_data"
    },
    {
     "data": {
      "application/vnd.jupyter.widget-view+json": {
       "model_id": "fa582f5c8da24f4fa61138f6c5d33b4b",
       "version_major": 2,
       "version_minor": 0
      },
      "text/plain": [
       "Output()"
      ]
     },
     "metadata": {},
     "output_type": "display_data"
    },
    {
     "data": {
      "text/html": [
       "<pre style=\"white-space:pre;overflow-x:auto;line-height:normal;font-family:Menlo,'DejaVu Sans Mono',consolas,'Courier New',monospace\"></pre>\n"
      ],
      "text/plain": []
     },
     "metadata": {},
     "output_type": "display_data"
    },
    {
     "data": {
      "application/vnd.jupyter.widget-view+json": {
       "model_id": "83628a22ce7c43d8b8f7b78c383a1824",
       "version_major": 2,
       "version_minor": 0
      },
      "text/plain": [
       "Output()"
      ]
     },
     "metadata": {},
     "output_type": "display_data"
    },
    {
     "data": {
      "text/html": [
       "<pre style=\"white-space:pre;overflow-x:auto;line-height:normal;font-family:Menlo,'DejaVu Sans Mono',consolas,'Courier New',monospace\"></pre>\n"
      ],
      "text/plain": []
     },
     "metadata": {},
     "output_type": "display_data"
    },
    {
     "data": {
      "application/vnd.jupyter.widget-view+json": {
       "model_id": "1abfa533230144459b5daba216b0b827",
       "version_major": 2,
       "version_minor": 0
      },
      "text/plain": [
       "Output()"
      ]
     },
     "metadata": {},
     "output_type": "display_data"
    },
    {
     "data": {
      "text/html": [
       "<pre style=\"white-space:pre;overflow-x:auto;line-height:normal;font-family:Menlo,'DejaVu Sans Mono',consolas,'Courier New',monospace\"></pre>\n"
      ],
      "text/plain": []
     },
     "metadata": {},
     "output_type": "display_data"
    },
    {
     "data": {
      "application/vnd.jupyter.widget-view+json": {
       "model_id": "2e67f23c9f6d4b44867ac8c80ad0c1ac",
       "version_major": 2,
       "version_minor": 0
      },
      "text/plain": [
       "Output()"
      ]
     },
     "metadata": {},
     "output_type": "display_data"
    },
    {
     "data": {
      "text/html": [
       "<pre style=\"white-space:pre;overflow-x:auto;line-height:normal;font-family:Menlo,'DejaVu Sans Mono',consolas,'Courier New',monospace\"></pre>\n"
      ],
      "text/plain": []
     },
     "metadata": {},
     "output_type": "display_data"
    },
    {
     "data": {
      "application/vnd.jupyter.widget-view+json": {
       "model_id": "c564183f02784c3abf6452c46e5952cf",
       "version_major": 2,
       "version_minor": 0
      },
      "text/plain": [
       "Output()"
      ]
     },
     "metadata": {},
     "output_type": "display_data"
    },
    {
     "data": {
      "text/html": [
       "<pre style=\"white-space:pre;overflow-x:auto;line-height:normal;font-family:Menlo,'DejaVu Sans Mono',consolas,'Courier New',monospace\"></pre>\n"
      ],
      "text/plain": []
     },
     "metadata": {},
     "output_type": "display_data"
    },
    {
     "data": {
      "application/vnd.jupyter.widget-view+json": {
       "model_id": "d76aa535964344fa8af490b4524b2a60",
       "version_major": 2,
       "version_minor": 0
      },
      "text/plain": [
       "Output()"
      ]
     },
     "metadata": {},
     "output_type": "display_data"
    },
    {
     "data": {
      "text/html": [
       "<pre style=\"white-space:pre;overflow-x:auto;line-height:normal;font-family:Menlo,'DejaVu Sans Mono',consolas,'Courier New',monospace\"></pre>\n"
      ],
      "text/plain": []
     },
     "metadata": {},
     "output_type": "display_data"
    },
    {
     "data": {
      "application/vnd.jupyter.widget-view+json": {
       "model_id": "536c8d3faf4041a8bc2bc12dce3eec31",
       "version_major": 2,
       "version_minor": 0
      },
      "text/plain": [
       "Output()"
      ]
     },
     "metadata": {},
     "output_type": "display_data"
    },
    {
     "data": {
      "text/html": [
       "<pre style=\"white-space:pre;overflow-x:auto;line-height:normal;font-family:Menlo,'DejaVu Sans Mono',consolas,'Courier New',monospace\"></pre>\n"
      ],
      "text/plain": []
     },
     "metadata": {},
     "output_type": "display_data"
    },
    {
     "data": {
      "application/vnd.jupyter.widget-view+json": {
       "model_id": "65ec1815a3cf41ebbae04d6b691abbb8",
       "version_major": 2,
       "version_minor": 0
      },
      "text/plain": [
       "Output()"
      ]
     },
     "metadata": {},
     "output_type": "display_data"
    },
    {
     "data": {
      "text/html": [
       "<pre style=\"white-space:pre;overflow-x:auto;line-height:normal;font-family:Menlo,'DejaVu Sans Mono',consolas,'Courier New',monospace\"></pre>\n"
      ],
      "text/plain": []
     },
     "metadata": {},
     "output_type": "display_data"
    },
    {
     "data": {
      "application/vnd.jupyter.widget-view+json": {
       "model_id": "d59769f53ad14a72b3543afc7a3de24e",
       "version_major": 2,
       "version_minor": 0
      },
      "text/plain": [
       "Output()"
      ]
     },
     "metadata": {},
     "output_type": "display_data"
    },
    {
     "data": {
      "text/html": [
       "<pre style=\"white-space:pre;overflow-x:auto;line-height:normal;font-family:Menlo,'DejaVu Sans Mono',consolas,'Courier New',monospace\"></pre>\n"
      ],
      "text/plain": []
     },
     "metadata": {},
     "output_type": "display_data"
    },
    {
     "data": {
      "application/vnd.jupyter.widget-view+json": {
       "model_id": "b80ee3f74e1041bdb50f9416dbec2f7c",
       "version_major": 2,
       "version_minor": 0
      },
      "text/plain": [
       "Output()"
      ]
     },
     "metadata": {},
     "output_type": "display_data"
    },
    {
     "data": {
      "text/html": [
       "<pre style=\"white-space:pre;overflow-x:auto;line-height:normal;font-family:Menlo,'DejaVu Sans Mono',consolas,'Courier New',monospace\"></pre>\n"
      ],
      "text/plain": []
     },
     "metadata": {},
     "output_type": "display_data"
    },
    {
     "data": {
      "application/vnd.jupyter.widget-view+json": {
       "model_id": "1cf58e344081426ea02844c2945d888d",
       "version_major": 2,
       "version_minor": 0
      },
      "text/plain": [
       "Output()"
      ]
     },
     "metadata": {},
     "output_type": "display_data"
    },
    {
     "data": {
      "text/html": [
       "<pre style=\"white-space:pre;overflow-x:auto;line-height:normal;font-family:Menlo,'DejaVu Sans Mono',consolas,'Courier New',monospace\"></pre>\n"
      ],
      "text/plain": []
     },
     "metadata": {},
     "output_type": "display_data"
    },
    {
     "data": {
      "application/vnd.jupyter.widget-view+json": {
       "model_id": "0a40d729483c4b48b4ecfff6a7626e97",
       "version_major": 2,
       "version_minor": 0
      },
      "text/plain": [
       "Output()"
      ]
     },
     "metadata": {},
     "output_type": "display_data"
    },
    {
     "data": {
      "text/html": [
       "<pre style=\"white-space:pre;overflow-x:auto;line-height:normal;font-family:Menlo,'DejaVu Sans Mono',consolas,'Courier New',monospace\"></pre>\n"
      ],
      "text/plain": []
     },
     "metadata": {},
     "output_type": "display_data"
    },
    {
     "data": {
      "application/vnd.jupyter.widget-view+json": {
       "model_id": "1fcfd74b82f0476a9c829cd9e2b9338c",
       "version_major": 2,
       "version_minor": 0
      },
      "text/plain": [
       "Output()"
      ]
     },
     "metadata": {},
     "output_type": "display_data"
    },
    {
     "data": {
      "text/html": [
       "<pre style=\"white-space:pre;overflow-x:auto;line-height:normal;font-family:Menlo,'DejaVu Sans Mono',consolas,'Courier New',monospace\"></pre>\n"
      ],
      "text/plain": []
     },
     "metadata": {},
     "output_type": "display_data"
    },
    {
     "data": {
      "application/vnd.jupyter.widget-view+json": {
       "model_id": "3c5e10650a9d4bc694a965bb7a5203e0",
       "version_major": 2,
       "version_minor": 0
      },
      "text/plain": [
       "Output()"
      ]
     },
     "metadata": {},
     "output_type": "display_data"
    },
    {
     "data": {
      "text/html": [
       "<pre style=\"white-space:pre;overflow-x:auto;line-height:normal;font-family:Menlo,'DejaVu Sans Mono',consolas,'Courier New',monospace\"></pre>\n"
      ],
      "text/plain": []
     },
     "metadata": {},
     "output_type": "display_data"
    },
    {
     "data": {
      "application/vnd.jupyter.widget-view+json": {
       "model_id": "1bb8f4717e44463f933d7ccffd98ca6d",
       "version_major": 2,
       "version_minor": 0
      },
      "text/plain": [
       "Output()"
      ]
     },
     "metadata": {},
     "output_type": "display_data"
    },
    {
     "data": {
      "text/html": [
       "<pre style=\"white-space:pre;overflow-x:auto;line-height:normal;font-family:Menlo,'DejaVu Sans Mono',consolas,'Courier New',monospace\"></pre>\n"
      ],
      "text/plain": []
     },
     "metadata": {},
     "output_type": "display_data"
    },
    {
     "data": {
      "application/vnd.jupyter.widget-view+json": {
       "model_id": "c32341e640e348c2bf422132e9a9aa53",
       "version_major": 2,
       "version_minor": 0
      },
      "text/plain": [
       "Output()"
      ]
     },
     "metadata": {},
     "output_type": "display_data"
    },
    {
     "data": {
      "text/html": [
       "<pre style=\"white-space:pre;overflow-x:auto;line-height:normal;font-family:Menlo,'DejaVu Sans Mono',consolas,'Courier New',monospace\"></pre>\n"
      ],
      "text/plain": []
     },
     "metadata": {},
     "output_type": "display_data"
    },
    {
     "data": {
      "application/vnd.jupyter.widget-view+json": {
       "model_id": "ba12137c540d4c67993fa4e517d6bd5f",
       "version_major": 2,
       "version_minor": 0
      },
      "text/plain": [
       "Output()"
      ]
     },
     "metadata": {},
     "output_type": "display_data"
    },
    {
     "data": {
      "text/html": [
       "<pre style=\"white-space:pre;overflow-x:auto;line-height:normal;font-family:Menlo,'DejaVu Sans Mono',consolas,'Courier New',monospace\"></pre>\n"
      ],
      "text/plain": []
     },
     "metadata": {},
     "output_type": "display_data"
    },
    {
     "data": {
      "application/vnd.jupyter.widget-view+json": {
       "model_id": "7cdfc9b290374e229b5f2356215ec17d",
       "version_major": 2,
       "version_minor": 0
      },
      "text/plain": [
       "Output()"
      ]
     },
     "metadata": {},
     "output_type": "display_data"
    },
    {
     "data": {
      "text/html": [
       "<pre style=\"white-space:pre;overflow-x:auto;line-height:normal;font-family:Menlo,'DejaVu Sans Mono',consolas,'Courier New',monospace\"></pre>\n"
      ],
      "text/plain": []
     },
     "metadata": {},
     "output_type": "display_data"
    },
    {
     "data": {
      "application/vnd.jupyter.widget-view+json": {
       "model_id": "510a97eb13c0497d8f22f5fd370b630d",
       "version_major": 2,
       "version_minor": 0
      },
      "text/plain": [
       "Output()"
      ]
     },
     "metadata": {},
     "output_type": "display_data"
    },
    {
     "data": {
      "text/html": [
       "<pre style=\"white-space:pre;overflow-x:auto;line-height:normal;font-family:Menlo,'DejaVu Sans Mono',consolas,'Courier New',monospace\"></pre>\n"
      ],
      "text/plain": []
     },
     "metadata": {},
     "output_type": "display_data"
    },
    {
     "data": {
      "application/vnd.jupyter.widget-view+json": {
       "model_id": "b5793a2a982e44dfa03ded8c33f744f1",
       "version_major": 2,
       "version_minor": 0
      },
      "text/plain": [
       "Output()"
      ]
     },
     "metadata": {},
     "output_type": "display_data"
    },
    {
     "data": {
      "text/html": [
       "<pre style=\"white-space:pre;overflow-x:auto;line-height:normal;font-family:Menlo,'DejaVu Sans Mono',consolas,'Courier New',monospace\"></pre>\n"
      ],
      "text/plain": []
     },
     "metadata": {},
     "output_type": "display_data"
    },
    {
     "data": {
      "application/vnd.jupyter.widget-view+json": {
       "model_id": "658353235525483cab51e56f1592e348",
       "version_major": 2,
       "version_minor": 0
      },
      "text/plain": [
       "Output()"
      ]
     },
     "metadata": {},
     "output_type": "display_data"
    },
    {
     "data": {
      "text/html": [
       "<pre style=\"white-space:pre;overflow-x:auto;line-height:normal;font-family:Menlo,'DejaVu Sans Mono',consolas,'Courier New',monospace\"></pre>\n"
      ],
      "text/plain": []
     },
     "metadata": {},
     "output_type": "display_data"
    },
    {
     "data": {
      "application/vnd.jupyter.widget-view+json": {
       "model_id": "72529bed0e2c4639abf935cb75df7666",
       "version_major": 2,
       "version_minor": 0
      },
      "text/plain": [
       "Output()"
      ]
     },
     "metadata": {},
     "output_type": "display_data"
    },
    {
     "data": {
      "text/html": [
       "<pre style=\"white-space:pre;overflow-x:auto;line-height:normal;font-family:Menlo,'DejaVu Sans Mono',consolas,'Courier New',monospace\"></pre>\n"
      ],
      "text/plain": []
     },
     "metadata": {},
     "output_type": "display_data"
    },
    {
     "data": {
      "application/vnd.jupyter.widget-view+json": {
       "model_id": "945b012ad0e546b8b589e29aecc825d9",
       "version_major": 2,
       "version_minor": 0
      },
      "text/plain": [
       "Output()"
      ]
     },
     "metadata": {},
     "output_type": "display_data"
    },
    {
     "data": {
      "text/html": [
       "<pre style=\"white-space:pre;overflow-x:auto;line-height:normal;font-family:Menlo,'DejaVu Sans Mono',consolas,'Courier New',monospace\"></pre>\n"
      ],
      "text/plain": []
     },
     "metadata": {},
     "output_type": "display_data"
    },
    {
     "data": {
      "application/vnd.jupyter.widget-view+json": {
       "model_id": "6eb5a5d2f1df439e94158c2ada8d6ef1",
       "version_major": 2,
       "version_minor": 0
      },
      "text/plain": [
       "Output()"
      ]
     },
     "metadata": {},
     "output_type": "display_data"
    },
    {
     "data": {
      "text/html": [
       "<pre style=\"white-space:pre;overflow-x:auto;line-height:normal;font-family:Menlo,'DejaVu Sans Mono',consolas,'Courier New',monospace\"></pre>\n"
      ],
      "text/plain": []
     },
     "metadata": {},
     "output_type": "display_data"
    },
    {
     "data": {
      "application/vnd.jupyter.widget-view+json": {
       "model_id": "64188687110044cf8e75bd2b5ee0e113",
       "version_major": 2,
       "version_minor": 0
      },
      "text/plain": [
       "Output()"
      ]
     },
     "metadata": {},
     "output_type": "display_data"
    },
    {
     "data": {
      "text/html": [
       "<pre style=\"white-space:pre;overflow-x:auto;line-height:normal;font-family:Menlo,'DejaVu Sans Mono',consolas,'Courier New',monospace\"></pre>\n"
      ],
      "text/plain": []
     },
     "metadata": {},
     "output_type": "display_data"
    },
    {
     "data": {
      "application/vnd.jupyter.widget-view+json": {
       "model_id": "9a5775cb6c6f4311b10e4720455e4dfb",
       "version_major": 2,
       "version_minor": 0
      },
      "text/plain": [
       "Output()"
      ]
     },
     "metadata": {},
     "output_type": "display_data"
    },
    {
     "data": {
      "text/html": [
       "<pre style=\"white-space:pre;overflow-x:auto;line-height:normal;font-family:Menlo,'DejaVu Sans Mono',consolas,'Courier New',monospace\"></pre>\n"
      ],
      "text/plain": []
     },
     "metadata": {},
     "output_type": "display_data"
    },
    {
     "data": {
      "application/vnd.jupyter.widget-view+json": {
       "model_id": "8c3ec54332d54cf59afba6923ba6d3e9",
       "version_major": 2,
       "version_minor": 0
      },
      "text/plain": [
       "Output()"
      ]
     },
     "metadata": {},
     "output_type": "display_data"
    },
    {
     "data": {
      "text/html": [
       "<pre style=\"white-space:pre;overflow-x:auto;line-height:normal;font-family:Menlo,'DejaVu Sans Mono',consolas,'Courier New',monospace\"></pre>\n"
      ],
      "text/plain": []
     },
     "metadata": {},
     "output_type": "display_data"
    },
    {
     "data": {
      "application/vnd.jupyter.widget-view+json": {
       "model_id": "a117de6721134003a0b7e79042f3dd3e",
       "version_major": 2,
       "version_minor": 0
      },
      "text/plain": [
       "Output()"
      ]
     },
     "metadata": {},
     "output_type": "display_data"
    },
    {
     "data": {
      "text/html": [
       "<pre style=\"white-space:pre;overflow-x:auto;line-height:normal;font-family:Menlo,'DejaVu Sans Mono',consolas,'Courier New',monospace\"></pre>\n"
      ],
      "text/plain": []
     },
     "metadata": {},
     "output_type": "display_data"
    },
    {
     "data": {
      "application/vnd.jupyter.widget-view+json": {
       "model_id": "5f938f4bcb054375a6ef48d186b99bb2",
       "version_major": 2,
       "version_minor": 0
      },
      "text/plain": [
       "Output()"
      ]
     },
     "metadata": {},
     "output_type": "display_data"
    },
    {
     "data": {
      "text/html": [
       "<pre style=\"white-space:pre;overflow-x:auto;line-height:normal;font-family:Menlo,'DejaVu Sans Mono',consolas,'Courier New',monospace\"></pre>\n"
      ],
      "text/plain": []
     },
     "metadata": {},
     "output_type": "display_data"
    },
    {
     "data": {
      "application/vnd.jupyter.widget-view+json": {
       "model_id": "fa6bda52896647b1b236aa19a151ef49",
       "version_major": 2,
       "version_minor": 0
      },
      "text/plain": [
       "Output()"
      ]
     },
     "metadata": {},
     "output_type": "display_data"
    },
    {
     "data": {
      "text/html": [
       "<pre style=\"white-space:pre;overflow-x:auto;line-height:normal;font-family:Menlo,'DejaVu Sans Mono',consolas,'Courier New',monospace\"></pre>\n"
      ],
      "text/plain": []
     },
     "metadata": {},
     "output_type": "display_data"
    },
    {
     "data": {
      "application/vnd.jupyter.widget-view+json": {
       "model_id": "857b6bce79ec4990b1a852f5ea3255fb",
       "version_major": 2,
       "version_minor": 0
      },
      "text/plain": [
       "Output()"
      ]
     },
     "metadata": {},
     "output_type": "display_data"
    },
    {
     "data": {
      "text/html": [
       "<pre style=\"white-space:pre;overflow-x:auto;line-height:normal;font-family:Menlo,'DejaVu Sans Mono',consolas,'Courier New',monospace\"></pre>\n"
      ],
      "text/plain": []
     },
     "metadata": {},
     "output_type": "display_data"
    },
    {
     "data": {
      "application/vnd.jupyter.widget-view+json": {
       "model_id": "25146094098d43a0ae8582274a34821c",
       "version_major": 2,
       "version_minor": 0
      },
      "text/plain": [
       "Output()"
      ]
     },
     "metadata": {},
     "output_type": "display_data"
    },
    {
     "data": {
      "text/html": [
       "<pre style=\"white-space:pre;overflow-x:auto;line-height:normal;font-family:Menlo,'DejaVu Sans Mono',consolas,'Courier New',monospace\"></pre>\n"
      ],
      "text/plain": []
     },
     "metadata": {},
     "output_type": "display_data"
    },
    {
     "data": {
      "application/vnd.jupyter.widget-view+json": {
       "model_id": "685fe8f560394313855ea7d7323f0906",
       "version_major": 2,
       "version_minor": 0
      },
      "text/plain": [
       "Output()"
      ]
     },
     "metadata": {},
     "output_type": "display_data"
    },
    {
     "data": {
      "text/html": [
       "<pre style=\"white-space:pre;overflow-x:auto;line-height:normal;font-family:Menlo,'DejaVu Sans Mono',consolas,'Courier New',monospace\"></pre>\n"
      ],
      "text/plain": []
     },
     "metadata": {},
     "output_type": "display_data"
    },
    {
     "data": {
      "application/vnd.jupyter.widget-view+json": {
       "model_id": "5b7d63108b704fbb88a8df815861718d",
       "version_major": 2,
       "version_minor": 0
      },
      "text/plain": [
       "Output()"
      ]
     },
     "metadata": {},
     "output_type": "display_data"
    },
    {
     "data": {
      "text/html": [
       "<pre style=\"white-space:pre;overflow-x:auto;line-height:normal;font-family:Menlo,'DejaVu Sans Mono',consolas,'Courier New',monospace\"></pre>\n"
      ],
      "text/plain": []
     },
     "metadata": {},
     "output_type": "display_data"
    },
    {
     "data": {
      "application/vnd.jupyter.widget-view+json": {
       "model_id": "0f54a21c07df42278b15824fd4d85ccc",
       "version_major": 2,
       "version_minor": 0
      },
      "text/plain": [
       "Output()"
      ]
     },
     "metadata": {},
     "output_type": "display_data"
    },
    {
     "data": {
      "text/html": [
       "<pre style=\"white-space:pre;overflow-x:auto;line-height:normal;font-family:Menlo,'DejaVu Sans Mono',consolas,'Courier New',monospace\"></pre>\n"
      ],
      "text/plain": []
     },
     "metadata": {},
     "output_type": "display_data"
    },
    {
     "data": {
      "application/vnd.jupyter.widget-view+json": {
       "model_id": "a58c1c62579c4fc8b037a3f5b36e7ae7",
       "version_major": 2,
       "version_minor": 0
      },
      "text/plain": [
       "Output()"
      ]
     },
     "metadata": {},
     "output_type": "display_data"
    },
    {
     "data": {
      "text/html": [
       "<pre style=\"white-space:pre;overflow-x:auto;line-height:normal;font-family:Menlo,'DejaVu Sans Mono',consolas,'Courier New',monospace\"></pre>\n"
      ],
      "text/plain": []
     },
     "metadata": {},
     "output_type": "display_data"
    },
    {
     "data": {
      "application/vnd.jupyter.widget-view+json": {
       "model_id": "98352dabce8e41e9895683ac8a34c1cb",
       "version_major": 2,
       "version_minor": 0
      },
      "text/plain": [
       "Output()"
      ]
     },
     "metadata": {},
     "output_type": "display_data"
    },
    {
     "data": {
      "text/html": [
       "<pre style=\"white-space:pre;overflow-x:auto;line-height:normal;font-family:Menlo,'DejaVu Sans Mono',consolas,'Courier New',monospace\"></pre>\n"
      ],
      "text/plain": []
     },
     "metadata": {},
     "output_type": "display_data"
    },
    {
     "data": {
      "application/vnd.jupyter.widget-view+json": {
       "model_id": "d6a659ebf7254f0a9eb8acb321208e72",
       "version_major": 2,
       "version_minor": 0
      },
      "text/plain": [
       "Output()"
      ]
     },
     "metadata": {},
     "output_type": "display_data"
    },
    {
     "data": {
      "text/html": [
       "<pre style=\"white-space:pre;overflow-x:auto;line-height:normal;font-family:Menlo,'DejaVu Sans Mono',consolas,'Courier New',monospace\"></pre>\n"
      ],
      "text/plain": []
     },
     "metadata": {},
     "output_type": "display_data"
    },
    {
     "data": {
      "application/vnd.jupyter.widget-view+json": {
       "model_id": "853ebd38313b4b3a907982bed7cb985c",
       "version_major": 2,
       "version_minor": 0
      },
      "text/plain": [
       "Output()"
      ]
     },
     "metadata": {},
     "output_type": "display_data"
    },
    {
     "data": {
      "text/html": [
       "<pre style=\"white-space:pre;overflow-x:auto;line-height:normal;font-family:Menlo,'DejaVu Sans Mono',consolas,'Courier New',monospace\"></pre>\n"
      ],
      "text/plain": []
     },
     "metadata": {},
     "output_type": "display_data"
    },
    {
     "data": {
      "application/vnd.jupyter.widget-view+json": {
       "model_id": "c30e9bb91c92444185b8d228b62c95de",
       "version_major": 2,
       "version_minor": 0
      },
      "text/plain": [
       "Output()"
      ]
     },
     "metadata": {},
     "output_type": "display_data"
    },
    {
     "data": {
      "text/html": [
       "<pre style=\"white-space:pre;overflow-x:auto;line-height:normal;font-family:Menlo,'DejaVu Sans Mono',consolas,'Courier New',monospace\"></pre>\n"
      ],
      "text/plain": []
     },
     "metadata": {},
     "output_type": "display_data"
    },
    {
     "data": {
      "application/vnd.jupyter.widget-view+json": {
       "model_id": "e67271be8a6f420a85dba482f67284c9",
       "version_major": 2,
       "version_minor": 0
      },
      "text/plain": [
       "Output()"
      ]
     },
     "metadata": {},
     "output_type": "display_data"
    },
    {
     "data": {
      "text/html": [
       "<pre style=\"white-space:pre;overflow-x:auto;line-height:normal;font-family:Menlo,'DejaVu Sans Mono',consolas,'Courier New',monospace\"></pre>\n"
      ],
      "text/plain": []
     },
     "metadata": {},
     "output_type": "display_data"
    },
    {
     "data": {
      "application/vnd.jupyter.widget-view+json": {
       "model_id": "625235d02b0d4430a1b4d637d6d6ec58",
       "version_major": 2,
       "version_minor": 0
      },
      "text/plain": [
       "Output()"
      ]
     },
     "metadata": {},
     "output_type": "display_data"
    },
    {
     "data": {
      "text/html": [
       "<pre style=\"white-space:pre;overflow-x:auto;line-height:normal;font-family:Menlo,'DejaVu Sans Mono',consolas,'Courier New',monospace\"></pre>\n"
      ],
      "text/plain": []
     },
     "metadata": {},
     "output_type": "display_data"
    },
    {
     "data": {
      "application/vnd.jupyter.widget-view+json": {
       "model_id": "557125a53f484a0b959079e48e8770fb",
       "version_major": 2,
       "version_minor": 0
      },
      "text/plain": [
       "Output()"
      ]
     },
     "metadata": {},
     "output_type": "display_data"
    },
    {
     "data": {
      "text/html": [
       "<pre style=\"white-space:pre;overflow-x:auto;line-height:normal;font-family:Menlo,'DejaVu Sans Mono',consolas,'Courier New',monospace\"></pre>\n"
      ],
      "text/plain": []
     },
     "metadata": {},
     "output_type": "display_data"
    },
    {
     "data": {
      "application/vnd.jupyter.widget-view+json": {
       "model_id": "3d055109b6404cdbaef8f6fa56cfb5dd",
       "version_major": 2,
       "version_minor": 0
      },
      "text/plain": [
       "Output()"
      ]
     },
     "metadata": {},
     "output_type": "display_data"
    },
    {
     "data": {
      "text/html": [
       "<pre style=\"white-space:pre;overflow-x:auto;line-height:normal;font-family:Menlo,'DejaVu Sans Mono',consolas,'Courier New',monospace\"></pre>\n"
      ],
      "text/plain": []
     },
     "metadata": {},
     "output_type": "display_data"
    },
    {
     "data": {
      "application/vnd.jupyter.widget-view+json": {
       "model_id": "c6021c93ad01402d9e554518435116d6",
       "version_major": 2,
       "version_minor": 0
      },
      "text/plain": [
       "Output()"
      ]
     },
     "metadata": {},
     "output_type": "display_data"
    },
    {
     "data": {
      "text/html": [
       "<pre style=\"white-space:pre;overflow-x:auto;line-height:normal;font-family:Menlo,'DejaVu Sans Mono',consolas,'Courier New',monospace\"></pre>\n"
      ],
      "text/plain": []
     },
     "metadata": {},
     "output_type": "display_data"
    },
    {
     "data": {
      "application/vnd.jupyter.widget-view+json": {
       "model_id": "b7cf824d906e405c878b3d81c1dc142e",
       "version_major": 2,
       "version_minor": 0
      },
      "text/plain": [
       "Output()"
      ]
     },
     "metadata": {},
     "output_type": "display_data"
    },
    {
     "data": {
      "text/html": [
       "<pre style=\"white-space:pre;overflow-x:auto;line-height:normal;font-family:Menlo,'DejaVu Sans Mono',consolas,'Courier New',monospace\"></pre>\n"
      ],
      "text/plain": []
     },
     "metadata": {},
     "output_type": "display_data"
    },
    {
     "data": {
      "application/vnd.jupyter.widget-view+json": {
       "model_id": "b2ac7ed2e7c3456aab780b933683258a",
       "version_major": 2,
       "version_minor": 0
      },
      "text/plain": [
       "Output()"
      ]
     },
     "metadata": {},
     "output_type": "display_data"
    },
    {
     "data": {
      "text/html": [
       "<pre style=\"white-space:pre;overflow-x:auto;line-height:normal;font-family:Menlo,'DejaVu Sans Mono',consolas,'Courier New',monospace\"></pre>\n"
      ],
      "text/plain": []
     },
     "metadata": {},
     "output_type": "display_data"
    },
    {
     "data": {
      "application/vnd.jupyter.widget-view+json": {
       "model_id": "1a38cdd9ea3148719cbdcef854b7054d",
       "version_major": 2,
       "version_minor": 0
      },
      "text/plain": [
       "Output()"
      ]
     },
     "metadata": {},
     "output_type": "display_data"
    },
    {
     "data": {
      "text/html": [
       "<pre style=\"white-space:pre;overflow-x:auto;line-height:normal;font-family:Menlo,'DejaVu Sans Mono',consolas,'Courier New',monospace\"></pre>\n"
      ],
      "text/plain": []
     },
     "metadata": {},
     "output_type": "display_data"
    },
    {
     "data": {
      "application/vnd.jupyter.widget-view+json": {
       "model_id": "e982f23d21aa41a99f9f487877070591",
       "version_major": 2,
       "version_minor": 0
      },
      "text/plain": [
       "Output()"
      ]
     },
     "metadata": {},
     "output_type": "display_data"
    },
    {
     "data": {
      "text/html": [
       "<pre style=\"white-space:pre;overflow-x:auto;line-height:normal;font-family:Menlo,'DejaVu Sans Mono',consolas,'Courier New',monospace\"></pre>\n"
      ],
      "text/plain": []
     },
     "metadata": {},
     "output_type": "display_data"
    },
    {
     "data": {
      "application/vnd.jupyter.widget-view+json": {
       "model_id": "32298b94fd914ce0816459ff723b2168",
       "version_major": 2,
       "version_minor": 0
      },
      "text/plain": [
       "Output()"
      ]
     },
     "metadata": {},
     "output_type": "display_data"
    },
    {
     "data": {
      "text/html": [
       "<pre style=\"white-space:pre;overflow-x:auto;line-height:normal;font-family:Menlo,'DejaVu Sans Mono',consolas,'Courier New',monospace\"></pre>\n"
      ],
      "text/plain": []
     },
     "metadata": {},
     "output_type": "display_data"
    },
    {
     "data": {
      "application/vnd.jupyter.widget-view+json": {
       "model_id": "a31be88852d740b382fe0042c3157738",
       "version_major": 2,
       "version_minor": 0
      },
      "text/plain": [
       "Output()"
      ]
     },
     "metadata": {},
     "output_type": "display_data"
    },
    {
     "data": {
      "text/html": [
       "<pre style=\"white-space:pre;overflow-x:auto;line-height:normal;font-family:Menlo,'DejaVu Sans Mono',consolas,'Courier New',monospace\"></pre>\n"
      ],
      "text/plain": []
     },
     "metadata": {},
     "output_type": "display_data"
    },
    {
     "data": {
      "application/vnd.jupyter.widget-view+json": {
       "model_id": "6cae2fb4e0e545f997b066083300c228",
       "version_major": 2,
       "version_minor": 0
      },
      "text/plain": [
       "Output()"
      ]
     },
     "metadata": {},
     "output_type": "display_data"
    },
    {
     "data": {
      "text/html": [
       "<pre style=\"white-space:pre;overflow-x:auto;line-height:normal;font-family:Menlo,'DejaVu Sans Mono',consolas,'Courier New',monospace\"></pre>\n"
      ],
      "text/plain": []
     },
     "metadata": {},
     "output_type": "display_data"
    },
    {
     "data": {
      "application/vnd.jupyter.widget-view+json": {
       "model_id": "8c073ef90fcf4d87adb80e2eece5674b",
       "version_major": 2,
       "version_minor": 0
      },
      "text/plain": [
       "Output()"
      ]
     },
     "metadata": {},
     "output_type": "display_data"
    },
    {
     "data": {
      "text/html": [
       "<pre style=\"white-space:pre;overflow-x:auto;line-height:normal;font-family:Menlo,'DejaVu Sans Mono',consolas,'Courier New',monospace\"></pre>\n"
      ],
      "text/plain": []
     },
     "metadata": {},
     "output_type": "display_data"
    },
    {
     "data": {
      "application/vnd.jupyter.widget-view+json": {
       "model_id": "803aa92ea6a34f48845177ad0babdb58",
       "version_major": 2,
       "version_minor": 0
      },
      "text/plain": [
       "Output()"
      ]
     },
     "metadata": {},
     "output_type": "display_data"
    },
    {
     "data": {
      "text/html": [
       "<pre style=\"white-space:pre;overflow-x:auto;line-height:normal;font-family:Menlo,'DejaVu Sans Mono',consolas,'Courier New',monospace\"></pre>\n"
      ],
      "text/plain": []
     },
     "metadata": {},
     "output_type": "display_data"
    },
    {
     "data": {
      "application/vnd.jupyter.widget-view+json": {
       "model_id": "e9a5d2aa6cc74e67bdff84aa5c564411",
       "version_major": 2,
       "version_minor": 0
      },
      "text/plain": [
       "Output()"
      ]
     },
     "metadata": {},
     "output_type": "display_data"
    },
    {
     "data": {
      "text/html": [
       "<pre style=\"white-space:pre;overflow-x:auto;line-height:normal;font-family:Menlo,'DejaVu Sans Mono',consolas,'Courier New',monospace\"></pre>\n"
      ],
      "text/plain": []
     },
     "metadata": {},
     "output_type": "display_data"
    },
    {
     "data": {
      "application/vnd.jupyter.widget-view+json": {
       "model_id": "fd1f676ace5b4d36968e2e9b02598577",
       "version_major": 2,
       "version_minor": 0
      },
      "text/plain": [
       "Output()"
      ]
     },
     "metadata": {},
     "output_type": "display_data"
    },
    {
     "data": {
      "text/html": [
       "<pre style=\"white-space:pre;overflow-x:auto;line-height:normal;font-family:Menlo,'DejaVu Sans Mono',consolas,'Courier New',monospace\"></pre>\n"
      ],
      "text/plain": []
     },
     "metadata": {},
     "output_type": "display_data"
    },
    {
     "data": {
      "application/vnd.jupyter.widget-view+json": {
       "model_id": "9a3202c75fae41f6ba6e9f8fc94f7b3b",
       "version_major": 2,
       "version_minor": 0
      },
      "text/plain": [
       "Output()"
      ]
     },
     "metadata": {},
     "output_type": "display_data"
    },
    {
     "data": {
      "text/html": [
       "<pre style=\"white-space:pre;overflow-x:auto;line-height:normal;font-family:Menlo,'DejaVu Sans Mono',consolas,'Courier New',monospace\"></pre>\n"
      ],
      "text/plain": []
     },
     "metadata": {},
     "output_type": "display_data"
    },
    {
     "data": {
      "application/vnd.jupyter.widget-view+json": {
       "model_id": "5dd4654f04f04b739325a9d0a1c64f01",
       "version_major": 2,
       "version_minor": 0
      },
      "text/plain": [
       "Output()"
      ]
     },
     "metadata": {},
     "output_type": "display_data"
    },
    {
     "data": {
      "text/html": [
       "<pre style=\"white-space:pre;overflow-x:auto;line-height:normal;font-family:Menlo,'DejaVu Sans Mono',consolas,'Courier New',monospace\"></pre>\n"
      ],
      "text/plain": []
     },
     "metadata": {},
     "output_type": "display_data"
    },
    {
     "data": {
      "application/vnd.jupyter.widget-view+json": {
       "model_id": "0a676aad7626427d9430d365685302c0",
       "version_major": 2,
       "version_minor": 0
      },
      "text/plain": [
       "Output()"
      ]
     },
     "metadata": {},
     "output_type": "display_data"
    },
    {
     "data": {
      "text/html": [
       "<pre style=\"white-space:pre;overflow-x:auto;line-height:normal;font-family:Menlo,'DejaVu Sans Mono',consolas,'Courier New',monospace\"></pre>\n"
      ],
      "text/plain": []
     },
     "metadata": {},
     "output_type": "display_data"
    },
    {
     "data": {
      "application/vnd.jupyter.widget-view+json": {
       "model_id": "22242c52c04843158664bed2f1de151d",
       "version_major": 2,
       "version_minor": 0
      },
      "text/plain": [
       "Output()"
      ]
     },
     "metadata": {},
     "output_type": "display_data"
    },
    {
     "data": {
      "text/html": [
       "<pre style=\"white-space:pre;overflow-x:auto;line-height:normal;font-family:Menlo,'DejaVu Sans Mono',consolas,'Courier New',monospace\"></pre>\n"
      ],
      "text/plain": []
     },
     "metadata": {},
     "output_type": "display_data"
    },
    {
     "data": {
      "application/vnd.jupyter.widget-view+json": {
       "model_id": "761710653d14439f8374f4a7764406e1",
       "version_major": 2,
       "version_minor": 0
      },
      "text/plain": [
       "Output()"
      ]
     },
     "metadata": {},
     "output_type": "display_data"
    },
    {
     "data": {
      "text/html": [
       "<pre style=\"white-space:pre;overflow-x:auto;line-height:normal;font-family:Menlo,'DejaVu Sans Mono',consolas,'Courier New',monospace\"></pre>\n"
      ],
      "text/plain": []
     },
     "metadata": {},
     "output_type": "display_data"
    },
    {
     "data": {
      "application/vnd.jupyter.widget-view+json": {
       "model_id": "10bb255da0c34963a6193bfa65547a3e",
       "version_major": 2,
       "version_minor": 0
      },
      "text/plain": [
       "Output()"
      ]
     },
     "metadata": {},
     "output_type": "display_data"
    },
    {
     "data": {
      "text/html": [
       "<pre style=\"white-space:pre;overflow-x:auto;line-height:normal;font-family:Menlo,'DejaVu Sans Mono',consolas,'Courier New',monospace\"></pre>\n"
      ],
      "text/plain": []
     },
     "metadata": {},
     "output_type": "display_data"
    },
    {
     "data": {
      "application/vnd.jupyter.widget-view+json": {
       "model_id": "deead9dc159544688ced68adce70357e",
       "version_major": 2,
       "version_minor": 0
      },
      "text/plain": [
       "Output()"
      ]
     },
     "metadata": {},
     "output_type": "display_data"
    },
    {
     "data": {
      "text/html": [
       "<pre style=\"white-space:pre;overflow-x:auto;line-height:normal;font-family:Menlo,'DejaVu Sans Mono',consolas,'Courier New',monospace\"></pre>\n"
      ],
      "text/plain": []
     },
     "metadata": {},
     "output_type": "display_data"
    },
    {
     "data": {
      "application/vnd.jupyter.widget-view+json": {
       "model_id": "635ed97281e342f78bf1cce4bdebc460",
       "version_major": 2,
       "version_minor": 0
      },
      "text/plain": [
       "Output()"
      ]
     },
     "metadata": {},
     "output_type": "display_data"
    },
    {
     "data": {
      "text/html": [
       "<pre style=\"white-space:pre;overflow-x:auto;line-height:normal;font-family:Menlo,'DejaVu Sans Mono',consolas,'Courier New',monospace\"></pre>\n"
      ],
      "text/plain": []
     },
     "metadata": {},
     "output_type": "display_data"
    },
    {
     "data": {
      "application/vnd.jupyter.widget-view+json": {
       "model_id": "b40e5f43ec004346978804232d2b493a",
       "version_major": 2,
       "version_minor": 0
      },
      "text/plain": [
       "Output()"
      ]
     },
     "metadata": {},
     "output_type": "display_data"
    },
    {
     "data": {
      "text/html": [
       "<pre style=\"white-space:pre;overflow-x:auto;line-height:normal;font-family:Menlo,'DejaVu Sans Mono',consolas,'Courier New',monospace\"></pre>\n"
      ],
      "text/plain": []
     },
     "metadata": {},
     "output_type": "display_data"
    },
    {
     "data": {
      "application/vnd.jupyter.widget-view+json": {
       "model_id": "8742537f85ec413589df0de265067013",
       "version_major": 2,
       "version_minor": 0
      },
      "text/plain": [
       "Output()"
      ]
     },
     "metadata": {},
     "output_type": "display_data"
    },
    {
     "data": {
      "text/html": [
       "<pre style=\"white-space:pre;overflow-x:auto;line-height:normal;font-family:Menlo,'DejaVu Sans Mono',consolas,'Courier New',monospace\"></pre>\n"
      ],
      "text/plain": []
     },
     "metadata": {},
     "output_type": "display_data"
    },
    {
     "data": {
      "application/vnd.jupyter.widget-view+json": {
       "model_id": "836bdc5d4cd24761919d617b50dfca39",
       "version_major": 2,
       "version_minor": 0
      },
      "text/plain": [
       "Output()"
      ]
     },
     "metadata": {},
     "output_type": "display_data"
    },
    {
     "data": {
      "text/html": [
       "<pre style=\"white-space:pre;overflow-x:auto;line-height:normal;font-family:Menlo,'DejaVu Sans Mono',consolas,'Courier New',monospace\"></pre>\n"
      ],
      "text/plain": []
     },
     "metadata": {},
     "output_type": "display_data"
    },
    {
     "data": {
      "application/vnd.jupyter.widget-view+json": {
       "model_id": "a73849c83e9f449b88896de166dc9a3f",
       "version_major": 2,
       "version_minor": 0
      },
      "text/plain": [
       "Output()"
      ]
     },
     "metadata": {},
     "output_type": "display_data"
    },
    {
     "data": {
      "text/html": [
       "<pre style=\"white-space:pre;overflow-x:auto;line-height:normal;font-family:Menlo,'DejaVu Sans Mono',consolas,'Courier New',monospace\"></pre>\n"
      ],
      "text/plain": []
     },
     "metadata": {},
     "output_type": "display_data"
    },
    {
     "data": {
      "application/vnd.jupyter.widget-view+json": {
       "model_id": "145b3237ebe844cebd35de6475c1fd35",
       "version_major": 2,
       "version_minor": 0
      },
      "text/plain": [
       "Output()"
      ]
     },
     "metadata": {},
     "output_type": "display_data"
    },
    {
     "data": {
      "text/html": [
       "<pre style=\"white-space:pre;overflow-x:auto;line-height:normal;font-family:Menlo,'DejaVu Sans Mono',consolas,'Courier New',monospace\"></pre>\n"
      ],
      "text/plain": []
     },
     "metadata": {},
     "output_type": "display_data"
    },
    {
     "data": {
      "application/vnd.jupyter.widget-view+json": {
       "model_id": "9d08eccefcfc4937ac7764053a844eed",
       "version_major": 2,
       "version_minor": 0
      },
      "text/plain": [
       "Output()"
      ]
     },
     "metadata": {},
     "output_type": "display_data"
    },
    {
     "data": {
      "text/html": [
       "<pre style=\"white-space:pre;overflow-x:auto;line-height:normal;font-family:Menlo,'DejaVu Sans Mono',consolas,'Courier New',monospace\"></pre>\n"
      ],
      "text/plain": []
     },
     "metadata": {},
     "output_type": "display_data"
    },
    {
     "data": {
      "application/vnd.jupyter.widget-view+json": {
       "model_id": "067f0d7e0f1a4d47b304649fc3fdf1ee",
       "version_major": 2,
       "version_minor": 0
      },
      "text/plain": [
       "Output()"
      ]
     },
     "metadata": {},
     "output_type": "display_data"
    },
    {
     "data": {
      "text/html": [
       "<pre style=\"white-space:pre;overflow-x:auto;line-height:normal;font-family:Menlo,'DejaVu Sans Mono',consolas,'Courier New',monospace\"></pre>\n"
      ],
      "text/plain": []
     },
     "metadata": {},
     "output_type": "display_data"
    },
    {
     "data": {
      "application/vnd.jupyter.widget-view+json": {
       "model_id": "10bcf8208ba2451986ba087e4f3244d4",
       "version_major": 2,
       "version_minor": 0
      },
      "text/plain": [
       "Output()"
      ]
     },
     "metadata": {},
     "output_type": "display_data"
    },
    {
     "data": {
      "text/html": [
       "<pre style=\"white-space:pre;overflow-x:auto;line-height:normal;font-family:Menlo,'DejaVu Sans Mono',consolas,'Courier New',monospace\"></pre>\n"
      ],
      "text/plain": []
     },
     "metadata": {},
     "output_type": "display_data"
    },
    {
     "data": {
      "application/vnd.jupyter.widget-view+json": {
       "model_id": "36c8529cc39c4f54bfc92e84b313d33e",
       "version_major": 2,
       "version_minor": 0
      },
      "text/plain": [
       "Output()"
      ]
     },
     "metadata": {},
     "output_type": "display_data"
    },
    {
     "data": {
      "text/html": [
       "<pre style=\"white-space:pre;overflow-x:auto;line-height:normal;font-family:Menlo,'DejaVu Sans Mono',consolas,'Courier New',monospace\"></pre>\n"
      ],
      "text/plain": []
     },
     "metadata": {},
     "output_type": "display_data"
    },
    {
     "data": {
      "application/vnd.jupyter.widget-view+json": {
       "model_id": "28e341e2d00b4c138919440f903963ba",
       "version_major": 2,
       "version_minor": 0
      },
      "text/plain": [
       "Output()"
      ]
     },
     "metadata": {},
     "output_type": "display_data"
    },
    {
     "data": {
      "text/html": [
       "<pre style=\"white-space:pre;overflow-x:auto;line-height:normal;font-family:Menlo,'DejaVu Sans Mono',consolas,'Courier New',monospace\"></pre>\n"
      ],
      "text/plain": []
     },
     "metadata": {},
     "output_type": "display_data"
    },
    {
     "data": {
      "application/vnd.jupyter.widget-view+json": {
       "model_id": "73bb0f5218c24f0d9aaa3dc2ec0e0c5d",
       "version_major": 2,
       "version_minor": 0
      },
      "text/plain": [
       "Output()"
      ]
     },
     "metadata": {},
     "output_type": "display_data"
    },
    {
     "data": {
      "text/html": [
       "<pre style=\"white-space:pre;overflow-x:auto;line-height:normal;font-family:Menlo,'DejaVu Sans Mono',consolas,'Courier New',monospace\"></pre>\n"
      ],
      "text/plain": []
     },
     "metadata": {},
     "output_type": "display_data"
    },
    {
     "data": {
      "application/vnd.jupyter.widget-view+json": {
       "model_id": "b6eccceaa66a4f5bae73b5fb2acc3347",
       "version_major": 2,
       "version_minor": 0
      },
      "text/plain": [
       "Output()"
      ]
     },
     "metadata": {},
     "output_type": "display_data"
    },
    {
     "data": {
      "text/html": [
       "<pre style=\"white-space:pre;overflow-x:auto;line-height:normal;font-family:Menlo,'DejaVu Sans Mono',consolas,'Courier New',monospace\"></pre>\n"
      ],
      "text/plain": []
     },
     "metadata": {},
     "output_type": "display_data"
    },
    {
     "data": {
      "application/vnd.jupyter.widget-view+json": {
       "model_id": "7461707280b94e809fe0047f1f41df98",
       "version_major": 2,
       "version_minor": 0
      },
      "text/plain": [
       "Output()"
      ]
     },
     "metadata": {},
     "output_type": "display_data"
    },
    {
     "data": {
      "text/html": [
       "<pre style=\"white-space:pre;overflow-x:auto;line-height:normal;font-family:Menlo,'DejaVu Sans Mono',consolas,'Courier New',monospace\"></pre>\n"
      ],
      "text/plain": []
     },
     "metadata": {},
     "output_type": "display_data"
    },
    {
     "data": {
      "application/vnd.jupyter.widget-view+json": {
       "model_id": "58c2afac64e448b3b2e8482df0ce9c3c",
       "version_major": 2,
       "version_minor": 0
      },
      "text/plain": [
       "Output()"
      ]
     },
     "metadata": {},
     "output_type": "display_data"
    },
    {
     "data": {
      "text/html": [
       "<pre style=\"white-space:pre;overflow-x:auto;line-height:normal;font-family:Menlo,'DejaVu Sans Mono',consolas,'Courier New',monospace\"></pre>\n"
      ],
      "text/plain": []
     },
     "metadata": {},
     "output_type": "display_data"
    },
    {
     "data": {
      "application/vnd.jupyter.widget-view+json": {
       "model_id": "2bab94e064ae41cab114bdef7b4718a0",
       "version_major": 2,
       "version_minor": 0
      },
      "text/plain": [
       "Output()"
      ]
     },
     "metadata": {},
     "output_type": "display_data"
    },
    {
     "data": {
      "text/html": [
       "<pre style=\"white-space:pre;overflow-x:auto;line-height:normal;font-family:Menlo,'DejaVu Sans Mono',consolas,'Courier New',monospace\"></pre>\n"
      ],
      "text/plain": []
     },
     "metadata": {},
     "output_type": "display_data"
    },
    {
     "data": {
      "application/vnd.jupyter.widget-view+json": {
       "model_id": "8a3e515a5ac9400c9f460f0eb3bbc226",
       "version_major": 2,
       "version_minor": 0
      },
      "text/plain": [
       "Output()"
      ]
     },
     "metadata": {},
     "output_type": "display_data"
    },
    {
     "data": {
      "text/html": [
       "<pre style=\"white-space:pre;overflow-x:auto;line-height:normal;font-family:Menlo,'DejaVu Sans Mono',consolas,'Courier New',monospace\"></pre>\n"
      ],
      "text/plain": []
     },
     "metadata": {},
     "output_type": "display_data"
    },
    {
     "data": {
      "application/vnd.jupyter.widget-view+json": {
       "model_id": "7f3d352425034898933f37cbd5da2321",
       "version_major": 2,
       "version_minor": 0
      },
      "text/plain": [
       "Output()"
      ]
     },
     "metadata": {},
     "output_type": "display_data"
    },
    {
     "data": {
      "text/html": [
       "<pre style=\"white-space:pre;overflow-x:auto;line-height:normal;font-family:Menlo,'DejaVu Sans Mono',consolas,'Courier New',monospace\"></pre>\n"
      ],
      "text/plain": []
     },
     "metadata": {},
     "output_type": "display_data"
    },
    {
     "data": {
      "application/vnd.jupyter.widget-view+json": {
       "model_id": "be76cb91cfe64df1b40e73ff000006d1",
       "version_major": 2,
       "version_minor": 0
      },
      "text/plain": [
       "Output()"
      ]
     },
     "metadata": {},
     "output_type": "display_data"
    },
    {
     "data": {
      "text/html": [
       "<pre style=\"white-space:pre;overflow-x:auto;line-height:normal;font-family:Menlo,'DejaVu Sans Mono',consolas,'Courier New',monospace\"></pre>\n"
      ],
      "text/plain": []
     },
     "metadata": {},
     "output_type": "display_data"
    },
    {
     "data": {
      "application/vnd.jupyter.widget-view+json": {
       "model_id": "320996867ea0445ba337f6827c3059e0",
       "version_major": 2,
       "version_minor": 0
      },
      "text/plain": [
       "Output()"
      ]
     },
     "metadata": {},
     "output_type": "display_data"
    },
    {
     "data": {
      "text/html": [
       "<pre style=\"white-space:pre;overflow-x:auto;line-height:normal;font-family:Menlo,'DejaVu Sans Mono',consolas,'Courier New',monospace\"></pre>\n"
      ],
      "text/plain": []
     },
     "metadata": {},
     "output_type": "display_data"
    },
    {
     "data": {
      "application/vnd.jupyter.widget-view+json": {
       "model_id": "da6d32aa2f374706998c7b65031a5060",
       "version_major": 2,
       "version_minor": 0
      },
      "text/plain": [
       "Output()"
      ]
     },
     "metadata": {},
     "output_type": "display_data"
    },
    {
     "data": {
      "text/html": [
       "<pre style=\"white-space:pre;overflow-x:auto;line-height:normal;font-family:Menlo,'DejaVu Sans Mono',consolas,'Courier New',monospace\"></pre>\n"
      ],
      "text/plain": []
     },
     "metadata": {},
     "output_type": "display_data"
    },
    {
     "data": {
      "application/vnd.jupyter.widget-view+json": {
       "model_id": "b84643bdf0684c21ab61f5e1de823589",
       "version_major": 2,
       "version_minor": 0
      },
      "text/plain": [
       "Output()"
      ]
     },
     "metadata": {},
     "output_type": "display_data"
    },
    {
     "data": {
      "text/html": [
       "<pre style=\"white-space:pre;overflow-x:auto;line-height:normal;font-family:Menlo,'DejaVu Sans Mono',consolas,'Courier New',monospace\"></pre>\n"
      ],
      "text/plain": []
     },
     "metadata": {},
     "output_type": "display_data"
    },
    {
     "data": {
      "application/vnd.jupyter.widget-view+json": {
       "model_id": "4b7392c9cb8744deab83d01759c55eda",
       "version_major": 2,
       "version_minor": 0
      },
      "text/plain": [
       "Output()"
      ]
     },
     "metadata": {},
     "output_type": "display_data"
    },
    {
     "data": {
      "text/html": [
       "<pre style=\"white-space:pre;overflow-x:auto;line-height:normal;font-family:Menlo,'DejaVu Sans Mono',consolas,'Courier New',monospace\"></pre>\n"
      ],
      "text/plain": []
     },
     "metadata": {},
     "output_type": "display_data"
    },
    {
     "data": {
      "application/vnd.jupyter.widget-view+json": {
       "model_id": "c163074f708a44d198cfddd014dd5cfb",
       "version_major": 2,
       "version_minor": 0
      },
      "text/plain": [
       "Output()"
      ]
     },
     "metadata": {},
     "output_type": "display_data"
    },
    {
     "data": {
      "text/html": [
       "<pre style=\"white-space:pre;overflow-x:auto;line-height:normal;font-family:Menlo,'DejaVu Sans Mono',consolas,'Courier New',monospace\"></pre>\n"
      ],
      "text/plain": []
     },
     "metadata": {},
     "output_type": "display_data"
    },
    {
     "data": {
      "application/vnd.jupyter.widget-view+json": {
       "model_id": "71290e9b474e4f94a5daeab0d7eb18b2",
       "version_major": 2,
       "version_minor": 0
      },
      "text/plain": [
       "Output()"
      ]
     },
     "metadata": {},
     "output_type": "display_data"
    },
    {
     "data": {
      "text/html": [
       "<pre style=\"white-space:pre;overflow-x:auto;line-height:normal;font-family:Menlo,'DejaVu Sans Mono',consolas,'Courier New',monospace\"></pre>\n"
      ],
      "text/plain": []
     },
     "metadata": {},
     "output_type": "display_data"
    },
    {
     "data": {
      "application/vnd.jupyter.widget-view+json": {
       "model_id": "fbfbe0d1ecf6496f8552adf136ed5145",
       "version_major": 2,
       "version_minor": 0
      },
      "text/plain": [
       "Output()"
      ]
     },
     "metadata": {},
     "output_type": "display_data"
    },
    {
     "data": {
      "text/html": [
       "<pre style=\"white-space:pre;overflow-x:auto;line-height:normal;font-family:Menlo,'DejaVu Sans Mono',consolas,'Courier New',monospace\"></pre>\n"
      ],
      "text/plain": []
     },
     "metadata": {},
     "output_type": "display_data"
    },
    {
     "data": {
      "application/vnd.jupyter.widget-view+json": {
       "model_id": "bb0cd593549344c39e352c68a99e9a94",
       "version_major": 2,
       "version_minor": 0
      },
      "text/plain": [
       "Output()"
      ]
     },
     "metadata": {},
     "output_type": "display_data"
    },
    {
     "data": {
      "text/html": [
       "<pre style=\"white-space:pre;overflow-x:auto;line-height:normal;font-family:Menlo,'DejaVu Sans Mono',consolas,'Courier New',monospace\"></pre>\n"
      ],
      "text/plain": []
     },
     "metadata": {},
     "output_type": "display_data"
    },
    {
     "data": {
      "application/vnd.jupyter.widget-view+json": {
       "model_id": "c8501d95e77d49ed988ccd5911e0ea2d",
       "version_major": 2,
       "version_minor": 0
      },
      "text/plain": [
       "Output()"
      ]
     },
     "metadata": {},
     "output_type": "display_data"
    },
    {
     "data": {
      "text/html": [
       "<pre style=\"white-space:pre;overflow-x:auto;line-height:normal;font-family:Menlo,'DejaVu Sans Mono',consolas,'Courier New',monospace\"></pre>\n"
      ],
      "text/plain": []
     },
     "metadata": {},
     "output_type": "display_data"
    },
    {
     "data": {
      "application/vnd.jupyter.widget-view+json": {
       "model_id": "cd11e00896ff4b64aba9ac6e39717042",
       "version_major": 2,
       "version_minor": 0
      },
      "text/plain": [
       "Output()"
      ]
     },
     "metadata": {},
     "output_type": "display_data"
    },
    {
     "data": {
      "text/html": [
       "<pre style=\"white-space:pre;overflow-x:auto;line-height:normal;font-family:Menlo,'DejaVu Sans Mono',consolas,'Courier New',monospace\"></pre>\n"
      ],
      "text/plain": []
     },
     "metadata": {},
     "output_type": "display_data"
    },
    {
     "data": {
      "application/vnd.jupyter.widget-view+json": {
       "model_id": "06baf5d921784c8ca87171ff7a4b8879",
       "version_major": 2,
       "version_minor": 0
      },
      "text/plain": [
       "Output()"
      ]
     },
     "metadata": {},
     "output_type": "display_data"
    },
    {
     "data": {
      "text/html": [
       "<pre style=\"white-space:pre;overflow-x:auto;line-height:normal;font-family:Menlo,'DejaVu Sans Mono',consolas,'Courier New',monospace\"></pre>\n"
      ],
      "text/plain": []
     },
     "metadata": {},
     "output_type": "display_data"
    },
    {
     "data": {
      "application/vnd.jupyter.widget-view+json": {
       "model_id": "8e4655be1ae54287957fb5ad1bf07c45",
       "version_major": 2,
       "version_minor": 0
      },
      "text/plain": [
       "Output()"
      ]
     },
     "metadata": {},
     "output_type": "display_data"
    },
    {
     "data": {
      "text/html": [
       "<pre style=\"white-space:pre;overflow-x:auto;line-height:normal;font-family:Menlo,'DejaVu Sans Mono',consolas,'Courier New',monospace\"></pre>\n"
      ],
      "text/plain": []
     },
     "metadata": {},
     "output_type": "display_data"
    },
    {
     "data": {
      "application/vnd.jupyter.widget-view+json": {
       "model_id": "8ad686fba30044bd8af40d5e767e8e34",
       "version_major": 2,
       "version_minor": 0
      },
      "text/plain": [
       "Output()"
      ]
     },
     "metadata": {},
     "output_type": "display_data"
    },
    {
     "data": {
      "text/html": [
       "<pre style=\"white-space:pre;overflow-x:auto;line-height:normal;font-family:Menlo,'DejaVu Sans Mono',consolas,'Courier New',monospace\"></pre>\n"
      ],
      "text/plain": []
     },
     "metadata": {},
     "output_type": "display_data"
    },
    {
     "data": {
      "application/vnd.jupyter.widget-view+json": {
       "model_id": "98ce5af95d70475ab00d4fbf71595756",
       "version_major": 2,
       "version_minor": 0
      },
      "text/plain": [
       "Output()"
      ]
     },
     "metadata": {},
     "output_type": "display_data"
    },
    {
     "data": {
      "text/html": [
       "<pre style=\"white-space:pre;overflow-x:auto;line-height:normal;font-family:Menlo,'DejaVu Sans Mono',consolas,'Courier New',monospace\"></pre>\n"
      ],
      "text/plain": []
     },
     "metadata": {},
     "output_type": "display_data"
    },
    {
     "data": {
      "application/vnd.jupyter.widget-view+json": {
       "model_id": "6ce8fc6f1a0c4324be53d8ff0d0e0c2a",
       "version_major": 2,
       "version_minor": 0
      },
      "text/plain": [
       "Output()"
      ]
     },
     "metadata": {},
     "output_type": "display_data"
    },
    {
     "data": {
      "text/html": [
       "<pre style=\"white-space:pre;overflow-x:auto;line-height:normal;font-family:Menlo,'DejaVu Sans Mono',consolas,'Courier New',monospace\"></pre>\n"
      ],
      "text/plain": []
     },
     "metadata": {},
     "output_type": "display_data"
    },
    {
     "data": {
      "application/vnd.jupyter.widget-view+json": {
       "model_id": "69d4991d023147caaebe96acffe961d6",
       "version_major": 2,
       "version_minor": 0
      },
      "text/plain": [
       "Output()"
      ]
     },
     "metadata": {},
     "output_type": "display_data"
    },
    {
     "data": {
      "text/html": [
       "<pre style=\"white-space:pre;overflow-x:auto;line-height:normal;font-family:Menlo,'DejaVu Sans Mono',consolas,'Courier New',monospace\"></pre>\n"
      ],
      "text/plain": []
     },
     "metadata": {},
     "output_type": "display_data"
    },
    {
     "data": {
      "application/vnd.jupyter.widget-view+json": {
       "model_id": "e58c122c31c04bd4933d2e22d02b5dfc",
       "version_major": 2,
       "version_minor": 0
      },
      "text/plain": [
       "Output()"
      ]
     },
     "metadata": {},
     "output_type": "display_data"
    },
    {
     "data": {
      "text/html": [
       "<pre style=\"white-space:pre;overflow-x:auto;line-height:normal;font-family:Menlo,'DejaVu Sans Mono',consolas,'Courier New',monospace\"></pre>\n"
      ],
      "text/plain": []
     },
     "metadata": {},
     "output_type": "display_data"
    },
    {
     "data": {
      "application/vnd.jupyter.widget-view+json": {
       "model_id": "0875815e19c0419bb0b6339c680c712a",
       "version_major": 2,
       "version_minor": 0
      },
      "text/plain": [
       "Output()"
      ]
     },
     "metadata": {},
     "output_type": "display_data"
    },
    {
     "data": {
      "text/html": [
       "<pre style=\"white-space:pre;overflow-x:auto;line-height:normal;font-family:Menlo,'DejaVu Sans Mono',consolas,'Courier New',monospace\"></pre>\n"
      ],
      "text/plain": []
     },
     "metadata": {},
     "output_type": "display_data"
    },
    {
     "data": {
      "application/vnd.jupyter.widget-view+json": {
       "model_id": "48c5a67f75ec42d399bddaec9a111364",
       "version_major": 2,
       "version_minor": 0
      },
      "text/plain": [
       "Output()"
      ]
     },
     "metadata": {},
     "output_type": "display_data"
    },
    {
     "data": {
      "text/html": [
       "<pre style=\"white-space:pre;overflow-x:auto;line-height:normal;font-family:Menlo,'DejaVu Sans Mono',consolas,'Courier New',monospace\"></pre>\n"
      ],
      "text/plain": []
     },
     "metadata": {},
     "output_type": "display_data"
    },
    {
     "data": {
      "application/vnd.jupyter.widget-view+json": {
       "model_id": "7669b44b975d49859d28e91700254783",
       "version_major": 2,
       "version_minor": 0
      },
      "text/plain": [
       "Output()"
      ]
     },
     "metadata": {},
     "output_type": "display_data"
    },
    {
     "data": {
      "text/html": [
       "<pre style=\"white-space:pre;overflow-x:auto;line-height:normal;font-family:Menlo,'DejaVu Sans Mono',consolas,'Courier New',monospace\"></pre>\n"
      ],
      "text/plain": []
     },
     "metadata": {},
     "output_type": "display_data"
    },
    {
     "data": {
      "application/vnd.jupyter.widget-view+json": {
       "model_id": "7f3cc8fc22e5428c860821c83920a2db",
       "version_major": 2,
       "version_minor": 0
      },
      "text/plain": [
       "Output()"
      ]
     },
     "metadata": {},
     "output_type": "display_data"
    },
    {
     "data": {
      "text/html": [
       "<pre style=\"white-space:pre;overflow-x:auto;line-height:normal;font-family:Menlo,'DejaVu Sans Mono',consolas,'Courier New',monospace\"></pre>\n"
      ],
      "text/plain": []
     },
     "metadata": {},
     "output_type": "display_data"
    },
    {
     "data": {
      "application/vnd.jupyter.widget-view+json": {
       "model_id": "a080e7caa36e41c8bfcfddf704d5ecd0",
       "version_major": 2,
       "version_minor": 0
      },
      "text/plain": [
       "Output()"
      ]
     },
     "metadata": {},
     "output_type": "display_data"
    },
    {
     "data": {
      "text/html": [
       "<pre style=\"white-space:pre;overflow-x:auto;line-height:normal;font-family:Menlo,'DejaVu Sans Mono',consolas,'Courier New',monospace\"></pre>\n"
      ],
      "text/plain": []
     },
     "metadata": {},
     "output_type": "display_data"
    },
    {
     "data": {
      "application/vnd.jupyter.widget-view+json": {
       "model_id": "913d35a6eb11485ebe20d6c04abbf90f",
       "version_major": 2,
       "version_minor": 0
      },
      "text/plain": [
       "Output()"
      ]
     },
     "metadata": {},
     "output_type": "display_data"
    },
    {
     "data": {
      "text/html": [
       "<pre style=\"white-space:pre;overflow-x:auto;line-height:normal;font-family:Menlo,'DejaVu Sans Mono',consolas,'Courier New',monospace\"></pre>\n"
      ],
      "text/plain": []
     },
     "metadata": {},
     "output_type": "display_data"
    },
    {
     "data": {
      "application/vnd.jupyter.widget-view+json": {
       "model_id": "674b9b6173e8401c9d167ddc3ea6f6d4",
       "version_major": 2,
       "version_minor": 0
      },
      "text/plain": [
       "Output()"
      ]
     },
     "metadata": {},
     "output_type": "display_data"
    },
    {
     "data": {
      "text/html": [
       "<pre style=\"white-space:pre;overflow-x:auto;line-height:normal;font-family:Menlo,'DejaVu Sans Mono',consolas,'Courier New',monospace\"></pre>\n"
      ],
      "text/plain": []
     },
     "metadata": {},
     "output_type": "display_data"
    },
    {
     "data": {
      "application/vnd.jupyter.widget-view+json": {
       "model_id": "aa3e5667ebb64b4fa447374445ee9bd0",
       "version_major": 2,
       "version_minor": 0
      },
      "text/plain": [
       "Output()"
      ]
     },
     "metadata": {},
     "output_type": "display_data"
    },
    {
     "data": {
      "text/html": [
       "<pre style=\"white-space:pre;overflow-x:auto;line-height:normal;font-family:Menlo,'DejaVu Sans Mono',consolas,'Courier New',monospace\"></pre>\n"
      ],
      "text/plain": []
     },
     "metadata": {},
     "output_type": "display_data"
    },
    {
     "data": {
      "application/vnd.jupyter.widget-view+json": {
       "model_id": "a51a714152b74988aeee3510e8b71a08",
       "version_major": 2,
       "version_minor": 0
      },
      "text/plain": [
       "Output()"
      ]
     },
     "metadata": {},
     "output_type": "display_data"
    },
    {
     "data": {
      "text/html": [
       "<pre style=\"white-space:pre;overflow-x:auto;line-height:normal;font-family:Menlo,'DejaVu Sans Mono',consolas,'Courier New',monospace\"></pre>\n"
      ],
      "text/plain": []
     },
     "metadata": {},
     "output_type": "display_data"
    },
    {
     "data": {
      "application/vnd.jupyter.widget-view+json": {
       "model_id": "dcc4f0f9da8241989ff8964712eac9cb",
       "version_major": 2,
       "version_minor": 0
      },
      "text/plain": [
       "Output()"
      ]
     },
     "metadata": {},
     "output_type": "display_data"
    },
    {
     "data": {
      "text/html": [
       "<pre style=\"white-space:pre;overflow-x:auto;line-height:normal;font-family:Menlo,'DejaVu Sans Mono',consolas,'Courier New',monospace\"></pre>\n"
      ],
      "text/plain": []
     },
     "metadata": {},
     "output_type": "display_data"
    },
    {
     "data": {
      "application/vnd.jupyter.widget-view+json": {
       "model_id": "705600b077d849b0bfa62515eb6be531",
       "version_major": 2,
       "version_minor": 0
      },
      "text/plain": [
       "Output()"
      ]
     },
     "metadata": {},
     "output_type": "display_data"
    },
    {
     "data": {
      "text/html": [
       "<pre style=\"white-space:pre;overflow-x:auto;line-height:normal;font-family:Menlo,'DejaVu Sans Mono',consolas,'Courier New',monospace\"></pre>\n"
      ],
      "text/plain": []
     },
     "metadata": {},
     "output_type": "display_data"
    },
    {
     "data": {
      "application/vnd.jupyter.widget-view+json": {
       "model_id": "bc290ff32aef44638eff28b9fbaccfa5",
       "version_major": 2,
       "version_minor": 0
      },
      "text/plain": [
       "Output()"
      ]
     },
     "metadata": {},
     "output_type": "display_data"
    },
    {
     "data": {
      "text/html": [
       "<pre style=\"white-space:pre;overflow-x:auto;line-height:normal;font-family:Menlo,'DejaVu Sans Mono',consolas,'Courier New',monospace\"></pre>\n"
      ],
      "text/plain": []
     },
     "metadata": {},
     "output_type": "display_data"
    },
    {
     "data": {
      "application/vnd.jupyter.widget-view+json": {
       "model_id": "314d7ad75e1f461dbadd076742a462f9",
       "version_major": 2,
       "version_minor": 0
      },
      "text/plain": [
       "Output()"
      ]
     },
     "metadata": {},
     "output_type": "display_data"
    },
    {
     "data": {
      "text/html": [
       "<pre style=\"white-space:pre;overflow-x:auto;line-height:normal;font-family:Menlo,'DejaVu Sans Mono',consolas,'Courier New',monospace\"></pre>\n"
      ],
      "text/plain": []
     },
     "metadata": {},
     "output_type": "display_data"
    },
    {
     "data": {
      "application/vnd.jupyter.widget-view+json": {
       "model_id": "d96a7f34f08f4cf687159036362fc361",
       "version_major": 2,
       "version_minor": 0
      },
      "text/plain": [
       "Output()"
      ]
     },
     "metadata": {},
     "output_type": "display_data"
    },
    {
     "data": {
      "text/html": [
       "<pre style=\"white-space:pre;overflow-x:auto;line-height:normal;font-family:Menlo,'DejaVu Sans Mono',consolas,'Courier New',monospace\"></pre>\n"
      ],
      "text/plain": []
     },
     "metadata": {},
     "output_type": "display_data"
    },
    {
     "data": {
      "application/vnd.jupyter.widget-view+json": {
       "model_id": "38a1023837f9430199047c3132485ed7",
       "version_major": 2,
       "version_minor": 0
      },
      "text/plain": [
       "Output()"
      ]
     },
     "metadata": {},
     "output_type": "display_data"
    },
    {
     "data": {
      "text/html": [
       "<pre style=\"white-space:pre;overflow-x:auto;line-height:normal;font-family:Menlo,'DejaVu Sans Mono',consolas,'Courier New',monospace\"></pre>\n"
      ],
      "text/plain": []
     },
     "metadata": {},
     "output_type": "display_data"
    },
    {
     "data": {
      "application/vnd.jupyter.widget-view+json": {
       "model_id": "83e1d2738c494db0bba4741267e3295a",
       "version_major": 2,
       "version_minor": 0
      },
      "text/plain": [
       "Output()"
      ]
     },
     "metadata": {},
     "output_type": "display_data"
    },
    {
     "data": {
      "text/html": [
       "<pre style=\"white-space:pre;overflow-x:auto;line-height:normal;font-family:Menlo,'DejaVu Sans Mono',consolas,'Courier New',monospace\"></pre>\n"
      ],
      "text/plain": []
     },
     "metadata": {},
     "output_type": "display_data"
    },
    {
     "data": {
      "application/vnd.jupyter.widget-view+json": {
       "model_id": "6e02390d4a7f447ca925a999b4025f9d",
       "version_major": 2,
       "version_minor": 0
      },
      "text/plain": [
       "Output()"
      ]
     },
     "metadata": {},
     "output_type": "display_data"
    },
    {
     "data": {
      "text/html": [
       "<pre style=\"white-space:pre;overflow-x:auto;line-height:normal;font-family:Menlo,'DejaVu Sans Mono',consolas,'Courier New',monospace\"></pre>\n"
      ],
      "text/plain": []
     },
     "metadata": {},
     "output_type": "display_data"
    },
    {
     "data": {
      "application/vnd.jupyter.widget-view+json": {
       "model_id": "d76fa78bc3144698b17f8f37b537b594",
       "version_major": 2,
       "version_minor": 0
      },
      "text/plain": [
       "Output()"
      ]
     },
     "metadata": {},
     "output_type": "display_data"
    },
    {
     "data": {
      "text/html": [
       "<pre style=\"white-space:pre;overflow-x:auto;line-height:normal;font-family:Menlo,'DejaVu Sans Mono',consolas,'Courier New',monospace\"></pre>\n"
      ],
      "text/plain": []
     },
     "metadata": {},
     "output_type": "display_data"
    },
    {
     "data": {
      "application/vnd.jupyter.widget-view+json": {
       "model_id": "24bd42f568ef4de9a63119c03a3a8cbc",
       "version_major": 2,
       "version_minor": 0
      },
      "text/plain": [
       "Output()"
      ]
     },
     "metadata": {},
     "output_type": "display_data"
    },
    {
     "data": {
      "text/html": [
       "<pre style=\"white-space:pre;overflow-x:auto;line-height:normal;font-family:Menlo,'DejaVu Sans Mono',consolas,'Courier New',monospace\"></pre>\n"
      ],
      "text/plain": []
     },
     "metadata": {},
     "output_type": "display_data"
    },
    {
     "data": {
      "application/vnd.jupyter.widget-view+json": {
       "model_id": "adb408f3e3b847329bed9ff4ae5ac4e6",
       "version_major": 2,
       "version_minor": 0
      },
      "text/plain": [
       "Output()"
      ]
     },
     "metadata": {},
     "output_type": "display_data"
    },
    {
     "data": {
      "text/html": [
       "<pre style=\"white-space:pre;overflow-x:auto;line-height:normal;font-family:Menlo,'DejaVu Sans Mono',consolas,'Courier New',monospace\"></pre>\n"
      ],
      "text/plain": []
     },
     "metadata": {},
     "output_type": "display_data"
    },
    {
     "data": {
      "application/vnd.jupyter.widget-view+json": {
       "model_id": "87819e2a76c74d4d8a64e7295950db62",
       "version_major": 2,
       "version_minor": 0
      },
      "text/plain": [
       "Output()"
      ]
     },
     "metadata": {},
     "output_type": "display_data"
    },
    {
     "data": {
      "text/html": [
       "<pre style=\"white-space:pre;overflow-x:auto;line-height:normal;font-family:Menlo,'DejaVu Sans Mono',consolas,'Courier New',monospace\"></pre>\n"
      ],
      "text/plain": []
     },
     "metadata": {},
     "output_type": "display_data"
    },
    {
     "data": {
      "application/vnd.jupyter.widget-view+json": {
       "model_id": "00de37e7d7ee4cd4a8c105ac15c16b43",
       "version_major": 2,
       "version_minor": 0
      },
      "text/plain": [
       "Output()"
      ]
     },
     "metadata": {},
     "output_type": "display_data"
    },
    {
     "data": {
      "text/html": [
       "<pre style=\"white-space:pre;overflow-x:auto;line-height:normal;font-family:Menlo,'DejaVu Sans Mono',consolas,'Courier New',monospace\"></pre>\n"
      ],
      "text/plain": []
     },
     "metadata": {},
     "output_type": "display_data"
    },
    {
     "data": {
      "application/vnd.jupyter.widget-view+json": {
       "model_id": "910eefbeb2824eb8b87939a78c21f450",
       "version_major": 2,
       "version_minor": 0
      },
      "text/plain": [
       "Output()"
      ]
     },
     "metadata": {},
     "output_type": "display_data"
    },
    {
     "data": {
      "text/html": [
       "<pre style=\"white-space:pre;overflow-x:auto;line-height:normal;font-family:Menlo,'DejaVu Sans Mono',consolas,'Courier New',monospace\"></pre>\n"
      ],
      "text/plain": []
     },
     "metadata": {},
     "output_type": "display_data"
    },
    {
     "data": {
      "application/vnd.jupyter.widget-view+json": {
       "model_id": "bcb8aa5b2dad40faa844d094c224cfc4",
       "version_major": 2,
       "version_minor": 0
      },
      "text/plain": [
       "Output()"
      ]
     },
     "metadata": {},
     "output_type": "display_data"
    },
    {
     "data": {
      "text/html": [
       "<pre style=\"white-space:pre;overflow-x:auto;line-height:normal;font-family:Menlo,'DejaVu Sans Mono',consolas,'Courier New',monospace\"></pre>\n"
      ],
      "text/plain": []
     },
     "metadata": {},
     "output_type": "display_data"
    },
    {
     "data": {
      "application/vnd.jupyter.widget-view+json": {
       "model_id": "54ae13ec5514402a800e0d7be95c169e",
       "version_major": 2,
       "version_minor": 0
      },
      "text/plain": [
       "Output()"
      ]
     },
     "metadata": {},
     "output_type": "display_data"
    },
    {
     "data": {
      "text/html": [
       "<pre style=\"white-space:pre;overflow-x:auto;line-height:normal;font-family:Menlo,'DejaVu Sans Mono',consolas,'Courier New',monospace\"></pre>\n"
      ],
      "text/plain": []
     },
     "metadata": {},
     "output_type": "display_data"
    },
    {
     "data": {
      "application/vnd.jupyter.widget-view+json": {
       "model_id": "d08fead0efb84d8f9582032de358c0a5",
       "version_major": 2,
       "version_minor": 0
      },
      "text/plain": [
       "Output()"
      ]
     },
     "metadata": {},
     "output_type": "display_data"
    },
    {
     "data": {
      "text/html": [
       "<pre style=\"white-space:pre;overflow-x:auto;line-height:normal;font-family:Menlo,'DejaVu Sans Mono',consolas,'Courier New',monospace\"></pre>\n"
      ],
      "text/plain": []
     },
     "metadata": {},
     "output_type": "display_data"
    },
    {
     "data": {
      "application/vnd.jupyter.widget-view+json": {
       "model_id": "9f0eabfde23346eba55175dd8efb46ac",
       "version_major": 2,
       "version_minor": 0
      },
      "text/plain": [
       "Output()"
      ]
     },
     "metadata": {},
     "output_type": "display_data"
    },
    {
     "data": {
      "text/html": [
       "<pre style=\"white-space:pre;overflow-x:auto;line-height:normal;font-family:Menlo,'DejaVu Sans Mono',consolas,'Courier New',monospace\"></pre>\n"
      ],
      "text/plain": []
     },
     "metadata": {},
     "output_type": "display_data"
    },
    {
     "data": {
      "application/vnd.jupyter.widget-view+json": {
       "model_id": "c97fe5f45ef84fd9b8942ef397fccabd",
       "version_major": 2,
       "version_minor": 0
      },
      "text/plain": [
       "Output()"
      ]
     },
     "metadata": {},
     "output_type": "display_data"
    },
    {
     "data": {
      "text/html": [
       "<pre style=\"white-space:pre;overflow-x:auto;line-height:normal;font-family:Menlo,'DejaVu Sans Mono',consolas,'Courier New',monospace\"></pre>\n"
      ],
      "text/plain": []
     },
     "metadata": {},
     "output_type": "display_data"
    },
    {
     "data": {
      "application/vnd.jupyter.widget-view+json": {
       "model_id": "a772d3e8700c454e83bbb0778bee239c",
       "version_major": 2,
       "version_minor": 0
      },
      "text/plain": [
       "Output()"
      ]
     },
     "metadata": {},
     "output_type": "display_data"
    },
    {
     "data": {
      "text/html": [
       "<pre style=\"white-space:pre;overflow-x:auto;line-height:normal;font-family:Menlo,'DejaVu Sans Mono',consolas,'Courier New',monospace\"></pre>\n"
      ],
      "text/plain": []
     },
     "metadata": {},
     "output_type": "display_data"
    },
    {
     "data": {
      "application/vnd.jupyter.widget-view+json": {
       "model_id": "a67d8cf01465448aac12c008d00e42e9",
       "version_major": 2,
       "version_minor": 0
      },
      "text/plain": [
       "Output()"
      ]
     },
     "metadata": {},
     "output_type": "display_data"
    },
    {
     "data": {
      "text/html": [
       "<pre style=\"white-space:pre;overflow-x:auto;line-height:normal;font-family:Menlo,'DejaVu Sans Mono',consolas,'Courier New',monospace\"></pre>\n"
      ],
      "text/plain": []
     },
     "metadata": {},
     "output_type": "display_data"
    },
    {
     "data": {
      "application/vnd.jupyter.widget-view+json": {
       "model_id": "403959f43c7c454d92c65ba6528ab8f3",
       "version_major": 2,
       "version_minor": 0
      },
      "text/plain": [
       "Output()"
      ]
     },
     "metadata": {},
     "output_type": "display_data"
    },
    {
     "data": {
      "text/html": [
       "<pre style=\"white-space:pre;overflow-x:auto;line-height:normal;font-family:Menlo,'DejaVu Sans Mono',consolas,'Courier New',monospace\"></pre>\n"
      ],
      "text/plain": []
     },
     "metadata": {},
     "output_type": "display_data"
    },
    {
     "data": {
      "application/vnd.jupyter.widget-view+json": {
       "model_id": "25f6aa9ca8ea4e4198dfe52b6755c303",
       "version_major": 2,
       "version_minor": 0
      },
      "text/plain": [
       "Output()"
      ]
     },
     "metadata": {},
     "output_type": "display_data"
    },
    {
     "data": {
      "text/html": [
       "<pre style=\"white-space:pre;overflow-x:auto;line-height:normal;font-family:Menlo,'DejaVu Sans Mono',consolas,'Courier New',monospace\"></pre>\n"
      ],
      "text/plain": []
     },
     "metadata": {},
     "output_type": "display_data"
    },
    {
     "data": {
      "application/vnd.jupyter.widget-view+json": {
       "model_id": "325e275089f7448fb78b73d724091cf0",
       "version_major": 2,
       "version_minor": 0
      },
      "text/plain": [
       "Output()"
      ]
     },
     "metadata": {},
     "output_type": "display_data"
    },
    {
     "data": {
      "text/html": [
       "<pre style=\"white-space:pre;overflow-x:auto;line-height:normal;font-family:Menlo,'DejaVu Sans Mono',consolas,'Courier New',monospace\"></pre>\n"
      ],
      "text/plain": []
     },
     "metadata": {},
     "output_type": "display_data"
    },
    {
     "data": {
      "application/vnd.jupyter.widget-view+json": {
       "model_id": "b52f1439b846408bb5f9a08299eb96b8",
       "version_major": 2,
       "version_minor": 0
      },
      "text/plain": [
       "Output()"
      ]
     },
     "metadata": {},
     "output_type": "display_data"
    },
    {
     "data": {
      "text/html": [
       "<pre style=\"white-space:pre;overflow-x:auto;line-height:normal;font-family:Menlo,'DejaVu Sans Mono',consolas,'Courier New',monospace\"></pre>\n"
      ],
      "text/plain": []
     },
     "metadata": {},
     "output_type": "display_data"
    },
    {
     "data": {
      "application/vnd.jupyter.widget-view+json": {
       "model_id": "185097b406144eaf99c3d6367f6b6599",
       "version_major": 2,
       "version_minor": 0
      },
      "text/plain": [
       "Output()"
      ]
     },
     "metadata": {},
     "output_type": "display_data"
    },
    {
     "data": {
      "text/html": [
       "<pre style=\"white-space:pre;overflow-x:auto;line-height:normal;font-family:Menlo,'DejaVu Sans Mono',consolas,'Courier New',monospace\"></pre>\n"
      ],
      "text/plain": []
     },
     "metadata": {},
     "output_type": "display_data"
    },
    {
     "data": {
      "application/vnd.jupyter.widget-view+json": {
       "model_id": "367bd18edd584a4fb64d146d56b594f2",
       "version_major": 2,
       "version_minor": 0
      },
      "text/plain": [
       "Output()"
      ]
     },
     "metadata": {},
     "output_type": "display_data"
    },
    {
     "data": {
      "text/html": [
       "<pre style=\"white-space:pre;overflow-x:auto;line-height:normal;font-family:Menlo,'DejaVu Sans Mono',consolas,'Courier New',monospace\"></pre>\n"
      ],
      "text/plain": []
     },
     "metadata": {},
     "output_type": "display_data"
    },
    {
     "data": {
      "application/vnd.jupyter.widget-view+json": {
       "model_id": "4a6617881742432e80f4c48b909eda9d",
       "version_major": 2,
       "version_minor": 0
      },
      "text/plain": [
       "Output()"
      ]
     },
     "metadata": {},
     "output_type": "display_data"
    },
    {
     "data": {
      "text/html": [
       "<pre style=\"white-space:pre;overflow-x:auto;line-height:normal;font-family:Menlo,'DejaVu Sans Mono',consolas,'Courier New',monospace\"></pre>\n"
      ],
      "text/plain": []
     },
     "metadata": {},
     "output_type": "display_data"
    },
    {
     "data": {
      "application/vnd.jupyter.widget-view+json": {
       "model_id": "9052d5241bbc429eb6c3389d2579a862",
       "version_major": 2,
       "version_minor": 0
      },
      "text/plain": [
       "Output()"
      ]
     },
     "metadata": {},
     "output_type": "display_data"
    },
    {
     "data": {
      "text/html": [
       "<pre style=\"white-space:pre;overflow-x:auto;line-height:normal;font-family:Menlo,'DejaVu Sans Mono',consolas,'Courier New',monospace\"></pre>\n"
      ],
      "text/plain": []
     },
     "metadata": {},
     "output_type": "display_data"
    },
    {
     "data": {
      "application/vnd.jupyter.widget-view+json": {
       "model_id": "e6bd7aabb7ed40a898d8c0f7ff74f095",
       "version_major": 2,
       "version_minor": 0
      },
      "text/plain": [
       "Output()"
      ]
     },
     "metadata": {},
     "output_type": "display_data"
    },
    {
     "data": {
      "text/html": [
       "<pre style=\"white-space:pre;overflow-x:auto;line-height:normal;font-family:Menlo,'DejaVu Sans Mono',consolas,'Courier New',monospace\"></pre>\n"
      ],
      "text/plain": []
     },
     "metadata": {},
     "output_type": "display_data"
    },
    {
     "data": {
      "application/vnd.jupyter.widget-view+json": {
       "model_id": "f2e1c26679494a708d51455fccaca6b6",
       "version_major": 2,
       "version_minor": 0
      },
      "text/plain": [
       "Output()"
      ]
     },
     "metadata": {},
     "output_type": "display_data"
    },
    {
     "data": {
      "text/html": [
       "<pre style=\"white-space:pre;overflow-x:auto;line-height:normal;font-family:Menlo,'DejaVu Sans Mono',consolas,'Courier New',monospace\"></pre>\n"
      ],
      "text/plain": []
     },
     "metadata": {},
     "output_type": "display_data"
    },
    {
     "data": {
      "application/vnd.jupyter.widget-view+json": {
       "model_id": "a17a0082cc294cbdaec201f20feb1de0",
       "version_major": 2,
       "version_minor": 0
      },
      "text/plain": [
       "Output()"
      ]
     },
     "metadata": {},
     "output_type": "display_data"
    },
    {
     "data": {
      "text/html": [
       "<pre style=\"white-space:pre;overflow-x:auto;line-height:normal;font-family:Menlo,'DejaVu Sans Mono',consolas,'Courier New',monospace\"></pre>\n"
      ],
      "text/plain": []
     },
     "metadata": {},
     "output_type": "display_data"
    },
    {
     "data": {
      "application/vnd.jupyter.widget-view+json": {
       "model_id": "3e24cb18ace34e558e9cab2bede7b09e",
       "version_major": 2,
       "version_minor": 0
      },
      "text/plain": [
       "Output()"
      ]
     },
     "metadata": {},
     "output_type": "display_data"
    },
    {
     "data": {
      "text/html": [
       "<pre style=\"white-space:pre;overflow-x:auto;line-height:normal;font-family:Menlo,'DejaVu Sans Mono',consolas,'Courier New',monospace\"></pre>\n"
      ],
      "text/plain": []
     },
     "metadata": {},
     "output_type": "display_data"
    },
    {
     "data": {
      "application/vnd.jupyter.widget-view+json": {
       "model_id": "1b28315e51a0480ea179a28f6c3b3fc7",
       "version_major": 2,
       "version_minor": 0
      },
      "text/plain": [
       "Output()"
      ]
     },
     "metadata": {},
     "output_type": "display_data"
    },
    {
     "data": {
      "text/html": [
       "<pre style=\"white-space:pre;overflow-x:auto;line-height:normal;font-family:Menlo,'DejaVu Sans Mono',consolas,'Courier New',monospace\"></pre>\n"
      ],
      "text/plain": []
     },
     "metadata": {},
     "output_type": "display_data"
    },
    {
     "data": {
      "application/vnd.jupyter.widget-view+json": {
       "model_id": "9e7551c80b95426392a9330c94c884f1",
       "version_major": 2,
       "version_minor": 0
      },
      "text/plain": [
       "Output()"
      ]
     },
     "metadata": {},
     "output_type": "display_data"
    },
    {
     "data": {
      "text/html": [
       "<pre style=\"white-space:pre;overflow-x:auto;line-height:normal;font-family:Menlo,'DejaVu Sans Mono',consolas,'Courier New',monospace\"></pre>\n"
      ],
      "text/plain": []
     },
     "metadata": {},
     "output_type": "display_data"
    },
    {
     "data": {
      "application/vnd.jupyter.widget-view+json": {
       "model_id": "dfaa09d87e9c4b50bf0e5799556bf54c",
       "version_major": 2,
       "version_minor": 0
      },
      "text/plain": [
       "Output()"
      ]
     },
     "metadata": {},
     "output_type": "display_data"
    },
    {
     "data": {
      "text/html": [
       "<pre style=\"white-space:pre;overflow-x:auto;line-height:normal;font-family:Menlo,'DejaVu Sans Mono',consolas,'Courier New',monospace\"></pre>\n"
      ],
      "text/plain": []
     },
     "metadata": {},
     "output_type": "display_data"
    },
    {
     "data": {
      "application/vnd.jupyter.widget-view+json": {
       "model_id": "75297a1779a44e9ebbde664459b56250",
       "version_major": 2,
       "version_minor": 0
      },
      "text/plain": [
       "Output()"
      ]
     },
     "metadata": {},
     "output_type": "display_data"
    },
    {
     "data": {
      "text/html": [
       "<pre style=\"white-space:pre;overflow-x:auto;line-height:normal;font-family:Menlo,'DejaVu Sans Mono',consolas,'Courier New',monospace\"></pre>\n"
      ],
      "text/plain": []
     },
     "metadata": {},
     "output_type": "display_data"
    },
    {
     "data": {
      "application/vnd.jupyter.widget-view+json": {
       "model_id": "da44dd00b4d5425ba305270398e5acb2",
       "version_major": 2,
       "version_minor": 0
      },
      "text/plain": [
       "Output()"
      ]
     },
     "metadata": {},
     "output_type": "display_data"
    },
    {
     "data": {
      "text/html": [
       "<pre style=\"white-space:pre;overflow-x:auto;line-height:normal;font-family:Menlo,'DejaVu Sans Mono',consolas,'Courier New',monospace\"></pre>\n"
      ],
      "text/plain": []
     },
     "metadata": {},
     "output_type": "display_data"
    },
    {
     "data": {
      "application/vnd.jupyter.widget-view+json": {
       "model_id": "f5b4695405be4ab3af94e7b2be0f7fe3",
       "version_major": 2,
       "version_minor": 0
      },
      "text/plain": [
       "Output()"
      ]
     },
     "metadata": {},
     "output_type": "display_data"
    },
    {
     "data": {
      "text/html": [
       "<pre style=\"white-space:pre;overflow-x:auto;line-height:normal;font-family:Menlo,'DejaVu Sans Mono',consolas,'Courier New',monospace\"></pre>\n"
      ],
      "text/plain": []
     },
     "metadata": {},
     "output_type": "display_data"
    },
    {
     "data": {
      "application/vnd.jupyter.widget-view+json": {
       "model_id": "bbeab11aa94e419784fcab3f64884ddc",
       "version_major": 2,
       "version_minor": 0
      },
      "text/plain": [
       "Output()"
      ]
     },
     "metadata": {},
     "output_type": "display_data"
    },
    {
     "data": {
      "text/html": [
       "<pre style=\"white-space:pre;overflow-x:auto;line-height:normal;font-family:Menlo,'DejaVu Sans Mono',consolas,'Courier New',monospace\"></pre>\n"
      ],
      "text/plain": []
     },
     "metadata": {},
     "output_type": "display_data"
    },
    {
     "data": {
      "application/vnd.jupyter.widget-view+json": {
       "model_id": "f8bf2154193a4ebbab4598860fc3dad4",
       "version_major": 2,
       "version_minor": 0
      },
      "text/plain": [
       "Output()"
      ]
     },
     "metadata": {},
     "output_type": "display_data"
    },
    {
     "data": {
      "text/html": [
       "<pre style=\"white-space:pre;overflow-x:auto;line-height:normal;font-family:Menlo,'DejaVu Sans Mono',consolas,'Courier New',monospace\"></pre>\n"
      ],
      "text/plain": []
     },
     "metadata": {},
     "output_type": "display_data"
    },
    {
     "data": {
      "application/vnd.jupyter.widget-view+json": {
       "model_id": "308cea3813af44b8ae6365c46efb60ed",
       "version_major": 2,
       "version_minor": 0
      },
      "text/plain": [
       "Output()"
      ]
     },
     "metadata": {},
     "output_type": "display_data"
    },
    {
     "data": {
      "text/html": [
       "<pre style=\"white-space:pre;overflow-x:auto;line-height:normal;font-family:Menlo,'DejaVu Sans Mono',consolas,'Courier New',monospace\"></pre>\n"
      ],
      "text/plain": []
     },
     "metadata": {},
     "output_type": "display_data"
    },
    {
     "data": {
      "application/vnd.jupyter.widget-view+json": {
       "model_id": "58eff354a2f346ef9de00569527e286c",
       "version_major": 2,
       "version_minor": 0
      },
      "text/plain": [
       "Output()"
      ]
     },
     "metadata": {},
     "output_type": "display_data"
    },
    {
     "data": {
      "text/html": [
       "<pre style=\"white-space:pre;overflow-x:auto;line-height:normal;font-family:Menlo,'DejaVu Sans Mono',consolas,'Courier New',monospace\"></pre>\n"
      ],
      "text/plain": []
     },
     "metadata": {},
     "output_type": "display_data"
    },
    {
     "data": {
      "application/vnd.jupyter.widget-view+json": {
       "model_id": "d3ac27dfd5484610870ead269297d214",
       "version_major": 2,
       "version_minor": 0
      },
      "text/plain": [
       "Output()"
      ]
     },
     "metadata": {},
     "output_type": "display_data"
    },
    {
     "data": {
      "text/html": [
       "<pre style=\"white-space:pre;overflow-x:auto;line-height:normal;font-family:Menlo,'DejaVu Sans Mono',consolas,'Courier New',monospace\"></pre>\n"
      ],
      "text/plain": []
     },
     "metadata": {},
     "output_type": "display_data"
    },
    {
     "data": {
      "application/vnd.jupyter.widget-view+json": {
       "model_id": "ad1f94bcc99e4144b7d7e45bed119d0e",
       "version_major": 2,
       "version_minor": 0
      },
      "text/plain": [
       "Output()"
      ]
     },
     "metadata": {},
     "output_type": "display_data"
    },
    {
     "data": {
      "text/html": [
       "<pre style=\"white-space:pre;overflow-x:auto;line-height:normal;font-family:Menlo,'DejaVu Sans Mono',consolas,'Courier New',monospace\"></pre>\n"
      ],
      "text/plain": []
     },
     "metadata": {},
     "output_type": "display_data"
    },
    {
     "data": {
      "application/vnd.jupyter.widget-view+json": {
       "model_id": "76cf993ddcbe47cb987ff67b5b7e4ef8",
       "version_major": 2,
       "version_minor": 0
      },
      "text/plain": [
       "Output()"
      ]
     },
     "metadata": {},
     "output_type": "display_data"
    },
    {
     "data": {
      "text/html": [
       "<pre style=\"white-space:pre;overflow-x:auto;line-height:normal;font-family:Menlo,'DejaVu Sans Mono',consolas,'Courier New',monospace\"></pre>\n"
      ],
      "text/plain": []
     },
     "metadata": {},
     "output_type": "display_data"
    },
    {
     "data": {
      "application/vnd.jupyter.widget-view+json": {
       "model_id": "2d5a456ae2304595823685289e1fb205",
       "version_major": 2,
       "version_minor": 0
      },
      "text/plain": [
       "Output()"
      ]
     },
     "metadata": {},
     "output_type": "display_data"
    },
    {
     "data": {
      "text/html": [
       "<pre style=\"white-space:pre;overflow-x:auto;line-height:normal;font-family:Menlo,'DejaVu Sans Mono',consolas,'Courier New',monospace\"></pre>\n"
      ],
      "text/plain": []
     },
     "metadata": {},
     "output_type": "display_data"
    },
    {
     "data": {
      "application/vnd.jupyter.widget-view+json": {
       "model_id": "61d0c374888d4f93bc4c22f909ca8805",
       "version_major": 2,
       "version_minor": 0
      },
      "text/plain": [
       "Output()"
      ]
     },
     "metadata": {},
     "output_type": "display_data"
    },
    {
     "data": {
      "text/html": [
       "<pre style=\"white-space:pre;overflow-x:auto;line-height:normal;font-family:Menlo,'DejaVu Sans Mono',consolas,'Courier New',monospace\"></pre>\n"
      ],
      "text/plain": []
     },
     "metadata": {},
     "output_type": "display_data"
    },
    {
     "data": {
      "application/vnd.jupyter.widget-view+json": {
       "model_id": "2edd55cd367443eda82318d688b5d2d6",
       "version_major": 2,
       "version_minor": 0
      },
      "text/plain": [
       "Output()"
      ]
     },
     "metadata": {},
     "output_type": "display_data"
    },
    {
     "data": {
      "text/html": [
       "<pre style=\"white-space:pre;overflow-x:auto;line-height:normal;font-family:Menlo,'DejaVu Sans Mono',consolas,'Courier New',monospace\"></pre>\n"
      ],
      "text/plain": []
     },
     "metadata": {},
     "output_type": "display_data"
    },
    {
     "data": {
      "application/vnd.jupyter.widget-view+json": {
       "model_id": "ee14a1e231134328989e8abc1d8bd0fb",
       "version_major": 2,
       "version_minor": 0
      },
      "text/plain": [
       "Output()"
      ]
     },
     "metadata": {},
     "output_type": "display_data"
    },
    {
     "data": {
      "text/html": [
       "<pre style=\"white-space:pre;overflow-x:auto;line-height:normal;font-family:Menlo,'DejaVu Sans Mono',consolas,'Courier New',monospace\"></pre>\n"
      ],
      "text/plain": []
     },
     "metadata": {},
     "output_type": "display_data"
    },
    {
     "data": {
      "application/vnd.jupyter.widget-view+json": {
       "model_id": "bd3aad7621c2432c95a6a39f60a06aa7",
       "version_major": 2,
       "version_minor": 0
      },
      "text/plain": [
       "Output()"
      ]
     },
     "metadata": {},
     "output_type": "display_data"
    },
    {
     "data": {
      "text/html": [
       "<pre style=\"white-space:pre;overflow-x:auto;line-height:normal;font-family:Menlo,'DejaVu Sans Mono',consolas,'Courier New',monospace\"></pre>\n"
      ],
      "text/plain": []
     },
     "metadata": {},
     "output_type": "display_data"
    },
    {
     "data": {
      "application/vnd.jupyter.widget-view+json": {
       "model_id": "05c97085ecba407f9ddf2e1ee4738607",
       "version_major": 2,
       "version_minor": 0
      },
      "text/plain": [
       "Output()"
      ]
     },
     "metadata": {},
     "output_type": "display_data"
    },
    {
     "data": {
      "text/html": [
       "<pre style=\"white-space:pre;overflow-x:auto;line-height:normal;font-family:Menlo,'DejaVu Sans Mono',consolas,'Courier New',monospace\"></pre>\n"
      ],
      "text/plain": []
     },
     "metadata": {},
     "output_type": "display_data"
    },
    {
     "data": {
      "application/vnd.jupyter.widget-view+json": {
       "model_id": "89d32e83246a4e4bacb22812f7b084d1",
       "version_major": 2,
       "version_minor": 0
      },
      "text/plain": [
       "Output()"
      ]
     },
     "metadata": {},
     "output_type": "display_data"
    },
    {
     "data": {
      "text/html": [
       "<pre style=\"white-space:pre;overflow-x:auto;line-height:normal;font-family:Menlo,'DejaVu Sans Mono',consolas,'Courier New',monospace\"></pre>\n"
      ],
      "text/plain": []
     },
     "metadata": {},
     "output_type": "display_data"
    },
    {
     "data": {
      "application/vnd.jupyter.widget-view+json": {
       "model_id": "3aabba33352a4314a9547f1d154f9194",
       "version_major": 2,
       "version_minor": 0
      },
      "text/plain": [
       "Output()"
      ]
     },
     "metadata": {},
     "output_type": "display_data"
    },
    {
     "data": {
      "text/html": [
       "<pre style=\"white-space:pre;overflow-x:auto;line-height:normal;font-family:Menlo,'DejaVu Sans Mono',consolas,'Courier New',monospace\"></pre>\n"
      ],
      "text/plain": []
     },
     "metadata": {},
     "output_type": "display_data"
    },
    {
     "data": {
      "application/vnd.jupyter.widget-view+json": {
       "model_id": "94790c591d2a4c8188e882b28aba46cb",
       "version_major": 2,
       "version_minor": 0
      },
      "text/plain": [
       "Output()"
      ]
     },
     "metadata": {},
     "output_type": "display_data"
    },
    {
     "data": {
      "text/html": [
       "<pre style=\"white-space:pre;overflow-x:auto;line-height:normal;font-family:Menlo,'DejaVu Sans Mono',consolas,'Courier New',monospace\"></pre>\n"
      ],
      "text/plain": []
     },
     "metadata": {},
     "output_type": "display_data"
    },
    {
     "data": {
      "application/vnd.jupyter.widget-view+json": {
       "model_id": "14ea18343e394170853932da6d7e4701",
       "version_major": 2,
       "version_minor": 0
      },
      "text/plain": [
       "Output()"
      ]
     },
     "metadata": {},
     "output_type": "display_data"
    },
    {
     "data": {
      "text/html": [
       "<pre style=\"white-space:pre;overflow-x:auto;line-height:normal;font-family:Menlo,'DejaVu Sans Mono',consolas,'Courier New',monospace\"></pre>\n"
      ],
      "text/plain": []
     },
     "metadata": {},
     "output_type": "display_data"
    },
    {
     "data": {
      "application/vnd.jupyter.widget-view+json": {
       "model_id": "f463b36e06984df6af794ed07e3bc372",
       "version_major": 2,
       "version_minor": 0
      },
      "text/plain": [
       "Output()"
      ]
     },
     "metadata": {},
     "output_type": "display_data"
    },
    {
     "data": {
      "text/html": [
       "<pre style=\"white-space:pre;overflow-x:auto;line-height:normal;font-family:Menlo,'DejaVu Sans Mono',consolas,'Courier New',monospace\"></pre>\n"
      ],
      "text/plain": []
     },
     "metadata": {},
     "output_type": "display_data"
    },
    {
     "data": {
      "application/vnd.jupyter.widget-view+json": {
       "model_id": "931caaeb4c0949dd81d74b9e50f90b30",
       "version_major": 2,
       "version_minor": 0
      },
      "text/plain": [
       "Output()"
      ]
     },
     "metadata": {},
     "output_type": "display_data"
    },
    {
     "data": {
      "text/html": [
       "<pre style=\"white-space:pre;overflow-x:auto;line-height:normal;font-family:Menlo,'DejaVu Sans Mono',consolas,'Courier New',monospace\"></pre>\n"
      ],
      "text/plain": []
     },
     "metadata": {},
     "output_type": "display_data"
    },
    {
     "data": {
      "application/vnd.jupyter.widget-view+json": {
       "model_id": "6b06076763524b1f834d4e9e76df4e7b",
       "version_major": 2,
       "version_minor": 0
      },
      "text/plain": [
       "Output()"
      ]
     },
     "metadata": {},
     "output_type": "display_data"
    },
    {
     "data": {
      "text/html": [
       "<pre style=\"white-space:pre;overflow-x:auto;line-height:normal;font-family:Menlo,'DejaVu Sans Mono',consolas,'Courier New',monospace\"></pre>\n"
      ],
      "text/plain": []
     },
     "metadata": {},
     "output_type": "display_data"
    },
    {
     "data": {
      "application/vnd.jupyter.widget-view+json": {
       "model_id": "132243e1fbb341799b2095625323cbd6",
       "version_major": 2,
       "version_minor": 0
      },
      "text/plain": [
       "Output()"
      ]
     },
     "metadata": {},
     "output_type": "display_data"
    },
    {
     "data": {
      "text/html": [
       "<pre style=\"white-space:pre;overflow-x:auto;line-height:normal;font-family:Menlo,'DejaVu Sans Mono',consolas,'Courier New',monospace\"></pre>\n"
      ],
      "text/plain": []
     },
     "metadata": {},
     "output_type": "display_data"
    },
    {
     "data": {
      "application/vnd.jupyter.widget-view+json": {
       "model_id": "423e0dedf1134c40b51fbca4edf6018e",
       "version_major": 2,
       "version_minor": 0
      },
      "text/plain": [
       "Output()"
      ]
     },
     "metadata": {},
     "output_type": "display_data"
    },
    {
     "data": {
      "text/html": [
       "<pre style=\"white-space:pre;overflow-x:auto;line-height:normal;font-family:Menlo,'DejaVu Sans Mono',consolas,'Courier New',monospace\"></pre>\n"
      ],
      "text/plain": []
     },
     "metadata": {},
     "output_type": "display_data"
    },
    {
     "data": {
      "application/vnd.jupyter.widget-view+json": {
       "model_id": "349650c898b5434c846a16c738661a6f",
       "version_major": 2,
       "version_minor": 0
      },
      "text/plain": [
       "Output()"
      ]
     },
     "metadata": {},
     "output_type": "display_data"
    },
    {
     "data": {
      "text/html": [
       "<pre style=\"white-space:pre;overflow-x:auto;line-height:normal;font-family:Menlo,'DejaVu Sans Mono',consolas,'Courier New',monospace\"></pre>\n"
      ],
      "text/plain": []
     },
     "metadata": {},
     "output_type": "display_data"
    },
    {
     "data": {
      "application/vnd.jupyter.widget-view+json": {
       "model_id": "44364e94f48842aa8c7854148fc18a5e",
       "version_major": 2,
       "version_minor": 0
      },
      "text/plain": [
       "Output()"
      ]
     },
     "metadata": {},
     "output_type": "display_data"
    },
    {
     "data": {
      "text/html": [
       "<pre style=\"white-space:pre;overflow-x:auto;line-height:normal;font-family:Menlo,'DejaVu Sans Mono',consolas,'Courier New',monospace\"></pre>\n"
      ],
      "text/plain": []
     },
     "metadata": {},
     "output_type": "display_data"
    },
    {
     "data": {
      "application/vnd.jupyter.widget-view+json": {
       "model_id": "54bce3aebe664f4ab2aa971d62ea3b11",
       "version_major": 2,
       "version_minor": 0
      },
      "text/plain": [
       "Output()"
      ]
     },
     "metadata": {},
     "output_type": "display_data"
    },
    {
     "data": {
      "text/html": [
       "<pre style=\"white-space:pre;overflow-x:auto;line-height:normal;font-family:Menlo,'DejaVu Sans Mono',consolas,'Courier New',monospace\"></pre>\n"
      ],
      "text/plain": []
     },
     "metadata": {},
     "output_type": "display_data"
    },
    {
     "data": {
      "application/vnd.jupyter.widget-view+json": {
       "model_id": "842ac9b764e84202aea308650fd91856",
       "version_major": 2,
       "version_minor": 0
      },
      "text/plain": [
       "Output()"
      ]
     },
     "metadata": {},
     "output_type": "display_data"
    },
    {
     "data": {
      "text/html": [
       "<pre style=\"white-space:pre;overflow-x:auto;line-height:normal;font-family:Menlo,'DejaVu Sans Mono',consolas,'Courier New',monospace\"></pre>\n"
      ],
      "text/plain": []
     },
     "metadata": {},
     "output_type": "display_data"
    },
    {
     "data": {
      "application/vnd.jupyter.widget-view+json": {
       "model_id": "b78ae5ad11a8403b93a046d1347d0310",
       "version_major": 2,
       "version_minor": 0
      },
      "text/plain": [
       "Output()"
      ]
     },
     "metadata": {},
     "output_type": "display_data"
    },
    {
     "data": {
      "text/html": [
       "<pre style=\"white-space:pre;overflow-x:auto;line-height:normal;font-family:Menlo,'DejaVu Sans Mono',consolas,'Courier New',monospace\"></pre>\n"
      ],
      "text/plain": []
     },
     "metadata": {},
     "output_type": "display_data"
    },
    {
     "data": {
      "application/vnd.jupyter.widget-view+json": {
       "model_id": "54063911e07f4f5c98e0c69298829404",
       "version_major": 2,
       "version_minor": 0
      },
      "text/plain": [
       "Output()"
      ]
     },
     "metadata": {},
     "output_type": "display_data"
    },
    {
     "data": {
      "text/html": [
       "<pre style=\"white-space:pre;overflow-x:auto;line-height:normal;font-family:Menlo,'DejaVu Sans Mono',consolas,'Courier New',monospace\"></pre>\n"
      ],
      "text/plain": []
     },
     "metadata": {},
     "output_type": "display_data"
    },
    {
     "data": {
      "application/vnd.jupyter.widget-view+json": {
       "model_id": "bf3cc0c971844a7f887b124283d09a40",
       "version_major": 2,
       "version_minor": 0
      },
      "text/plain": [
       "Output()"
      ]
     },
     "metadata": {},
     "output_type": "display_data"
    },
    {
     "data": {
      "text/html": [
       "<pre style=\"white-space:pre;overflow-x:auto;line-height:normal;font-family:Menlo,'DejaVu Sans Mono',consolas,'Courier New',monospace\"></pre>\n"
      ],
      "text/plain": []
     },
     "metadata": {},
     "output_type": "display_data"
    },
    {
     "data": {
      "application/vnd.jupyter.widget-view+json": {
       "model_id": "4ca53e7f26194ab2a848e2bf1a8ef148",
       "version_major": 2,
       "version_minor": 0
      },
      "text/plain": [
       "Output()"
      ]
     },
     "metadata": {},
     "output_type": "display_data"
    },
    {
     "data": {
      "text/html": [
       "<pre style=\"white-space:pre;overflow-x:auto;line-height:normal;font-family:Menlo,'DejaVu Sans Mono',consolas,'Courier New',monospace\"></pre>\n"
      ],
      "text/plain": []
     },
     "metadata": {},
     "output_type": "display_data"
    },
    {
     "data": {
      "application/vnd.jupyter.widget-view+json": {
       "model_id": "23c83692e87741a49721c403df437f8a",
       "version_major": 2,
       "version_minor": 0
      },
      "text/plain": [
       "Output()"
      ]
     },
     "metadata": {},
     "output_type": "display_data"
    },
    {
     "data": {
      "text/html": [
       "<pre style=\"white-space:pre;overflow-x:auto;line-height:normal;font-family:Menlo,'DejaVu Sans Mono',consolas,'Courier New',monospace\"></pre>\n"
      ],
      "text/plain": []
     },
     "metadata": {},
     "output_type": "display_data"
    },
    {
     "data": {
      "application/vnd.jupyter.widget-view+json": {
       "model_id": "72032eff78244d589f1ce68afca11dad",
       "version_major": 2,
       "version_minor": 0
      },
      "text/plain": [
       "Output()"
      ]
     },
     "metadata": {},
     "output_type": "display_data"
    },
    {
     "data": {
      "text/html": [
       "<pre style=\"white-space:pre;overflow-x:auto;line-height:normal;font-family:Menlo,'DejaVu Sans Mono',consolas,'Courier New',monospace\"></pre>\n"
      ],
      "text/plain": []
     },
     "metadata": {},
     "output_type": "display_data"
    },
    {
     "data": {
      "application/vnd.jupyter.widget-view+json": {
       "model_id": "85371fab100c4d44b8c1acb1485f5971",
       "version_major": 2,
       "version_minor": 0
      },
      "text/plain": [
       "Output()"
      ]
     },
     "metadata": {},
     "output_type": "display_data"
    },
    {
     "data": {
      "text/html": [
       "<pre style=\"white-space:pre;overflow-x:auto;line-height:normal;font-family:Menlo,'DejaVu Sans Mono',consolas,'Courier New',monospace\"></pre>\n"
      ],
      "text/plain": []
     },
     "metadata": {},
     "output_type": "display_data"
    },
    {
     "data": {
      "application/vnd.jupyter.widget-view+json": {
       "model_id": "4db7f406afca44e29fff9edf47657432",
       "version_major": 2,
       "version_minor": 0
      },
      "text/plain": [
       "Output()"
      ]
     },
     "metadata": {},
     "output_type": "display_data"
    },
    {
     "data": {
      "text/html": [
       "<pre style=\"white-space:pre;overflow-x:auto;line-height:normal;font-family:Menlo,'DejaVu Sans Mono',consolas,'Courier New',monospace\"></pre>\n"
      ],
      "text/plain": []
     },
     "metadata": {},
     "output_type": "display_data"
    },
    {
     "data": {
      "application/vnd.jupyter.widget-view+json": {
       "model_id": "92f2eec41fb543f0a0fdbde735ff8ef5",
       "version_major": 2,
       "version_minor": 0
      },
      "text/plain": [
       "Output()"
      ]
     },
     "metadata": {},
     "output_type": "display_data"
    },
    {
     "data": {
      "text/html": [
       "<pre style=\"white-space:pre;overflow-x:auto;line-height:normal;font-family:Menlo,'DejaVu Sans Mono',consolas,'Courier New',monospace\"></pre>\n"
      ],
      "text/plain": []
     },
     "metadata": {},
     "output_type": "display_data"
    },
    {
     "data": {
      "application/vnd.jupyter.widget-view+json": {
       "model_id": "cbc4abd7af6d40e9967559d43a742c34",
       "version_major": 2,
       "version_minor": 0
      },
      "text/plain": [
       "Output()"
      ]
     },
     "metadata": {},
     "output_type": "display_data"
    },
    {
     "data": {
      "text/html": [
       "<pre style=\"white-space:pre;overflow-x:auto;line-height:normal;font-family:Menlo,'DejaVu Sans Mono',consolas,'Courier New',monospace\"></pre>\n"
      ],
      "text/plain": []
     },
     "metadata": {},
     "output_type": "display_data"
    },
    {
     "data": {
      "application/vnd.jupyter.widget-view+json": {
       "model_id": "2f3f1074358b4bc593b7132a2c715617",
       "version_major": 2,
       "version_minor": 0
      },
      "text/plain": [
       "Output()"
      ]
     },
     "metadata": {},
     "output_type": "display_data"
    },
    {
     "data": {
      "text/html": [
       "<pre style=\"white-space:pre;overflow-x:auto;line-height:normal;font-family:Menlo,'DejaVu Sans Mono',consolas,'Courier New',monospace\"></pre>\n"
      ],
      "text/plain": []
     },
     "metadata": {},
     "output_type": "display_data"
    },
    {
     "data": {
      "application/vnd.jupyter.widget-view+json": {
       "model_id": "db737d544bb94d51a9294e26696e9b8b",
       "version_major": 2,
       "version_minor": 0
      },
      "text/plain": [
       "Output()"
      ]
     },
     "metadata": {},
     "output_type": "display_data"
    },
    {
     "data": {
      "text/html": [
       "<pre style=\"white-space:pre;overflow-x:auto;line-height:normal;font-family:Menlo,'DejaVu Sans Mono',consolas,'Courier New',monospace\"></pre>\n"
      ],
      "text/plain": []
     },
     "metadata": {},
     "output_type": "display_data"
    },
    {
     "data": {
      "application/vnd.jupyter.widget-view+json": {
       "model_id": "bf54ad36879c4b66b8654bf93e57aaa6",
       "version_major": 2,
       "version_minor": 0
      },
      "text/plain": [
       "Output()"
      ]
     },
     "metadata": {},
     "output_type": "display_data"
    },
    {
     "data": {
      "text/html": [
       "<pre style=\"white-space:pre;overflow-x:auto;line-height:normal;font-family:Menlo,'DejaVu Sans Mono',consolas,'Courier New',monospace\"></pre>\n"
      ],
      "text/plain": []
     },
     "metadata": {},
     "output_type": "display_data"
    },
    {
     "data": {
      "application/vnd.jupyter.widget-view+json": {
       "model_id": "994b1029211941bb9986a14c3d29dd92",
       "version_major": 2,
       "version_minor": 0
      },
      "text/plain": [
       "Output()"
      ]
     },
     "metadata": {},
     "output_type": "display_data"
    },
    {
     "data": {
      "text/html": [
       "<pre style=\"white-space:pre;overflow-x:auto;line-height:normal;font-family:Menlo,'DejaVu Sans Mono',consolas,'Courier New',monospace\"></pre>\n"
      ],
      "text/plain": []
     },
     "metadata": {},
     "output_type": "display_data"
    },
    {
     "data": {
      "application/vnd.jupyter.widget-view+json": {
       "model_id": "f829e015ae2345cfbece7b507624e93e",
       "version_major": 2,
       "version_minor": 0
      },
      "text/plain": [
       "Output()"
      ]
     },
     "metadata": {},
     "output_type": "display_data"
    },
    {
     "data": {
      "text/html": [
       "<pre style=\"white-space:pre;overflow-x:auto;line-height:normal;font-family:Menlo,'DejaVu Sans Mono',consolas,'Courier New',monospace\"></pre>\n"
      ],
      "text/plain": []
     },
     "metadata": {},
     "output_type": "display_data"
    },
    {
     "data": {
      "application/vnd.jupyter.widget-view+json": {
       "model_id": "d62cfd342ec04bb798e6c70ca92810c8",
       "version_major": 2,
       "version_minor": 0
      },
      "text/plain": [
       "Output()"
      ]
     },
     "metadata": {},
     "output_type": "display_data"
    },
    {
     "data": {
      "text/html": [
       "<pre style=\"white-space:pre;overflow-x:auto;line-height:normal;font-family:Menlo,'DejaVu Sans Mono',consolas,'Courier New',monospace\"></pre>\n"
      ],
      "text/plain": []
     },
     "metadata": {},
     "output_type": "display_data"
    },
    {
     "data": {
      "application/vnd.jupyter.widget-view+json": {
       "model_id": "afaa8361a9ca4ea19cd8f139aa2d676a",
       "version_major": 2,
       "version_minor": 0
      },
      "text/plain": [
       "Output()"
      ]
     },
     "metadata": {},
     "output_type": "display_data"
    },
    {
     "data": {
      "text/html": [
       "<pre style=\"white-space:pre;overflow-x:auto;line-height:normal;font-family:Menlo,'DejaVu Sans Mono',consolas,'Courier New',monospace\"></pre>\n"
      ],
      "text/plain": []
     },
     "metadata": {},
     "output_type": "display_data"
    },
    {
     "data": {
      "application/vnd.jupyter.widget-view+json": {
       "model_id": "e262ad73a86c4a6a93cd6ab4c6528291",
       "version_major": 2,
       "version_minor": 0
      },
      "text/plain": [
       "Output()"
      ]
     },
     "metadata": {},
     "output_type": "display_data"
    },
    {
     "data": {
      "text/html": [
       "<pre style=\"white-space:pre;overflow-x:auto;line-height:normal;font-family:Menlo,'DejaVu Sans Mono',consolas,'Courier New',monospace\"></pre>\n"
      ],
      "text/plain": []
     },
     "metadata": {},
     "output_type": "display_data"
    },
    {
     "data": {
      "application/vnd.jupyter.widget-view+json": {
       "model_id": "549eeaa30a7946b58fd984c3fd82add4",
       "version_major": 2,
       "version_minor": 0
      },
      "text/plain": [
       "Output()"
      ]
     },
     "metadata": {},
     "output_type": "display_data"
    },
    {
     "data": {
      "text/html": [
       "<pre style=\"white-space:pre;overflow-x:auto;line-height:normal;font-family:Menlo,'DejaVu Sans Mono',consolas,'Courier New',monospace\"></pre>\n"
      ],
      "text/plain": []
     },
     "metadata": {},
     "output_type": "display_data"
    },
    {
     "data": {
      "application/vnd.jupyter.widget-view+json": {
       "model_id": "3d70bb6e75d548d7b4697b1d7fa31a20",
       "version_major": 2,
       "version_minor": 0
      },
      "text/plain": [
       "Output()"
      ]
     },
     "metadata": {},
     "output_type": "display_data"
    },
    {
     "data": {
      "text/html": [
       "<pre style=\"white-space:pre;overflow-x:auto;line-height:normal;font-family:Menlo,'DejaVu Sans Mono',consolas,'Courier New',monospace\"></pre>\n"
      ],
      "text/plain": []
     },
     "metadata": {},
     "output_type": "display_data"
    },
    {
     "data": {
      "application/vnd.jupyter.widget-view+json": {
       "model_id": "904749cc8f46406ea51f543d72e6ac7d",
       "version_major": 2,
       "version_minor": 0
      },
      "text/plain": [
       "Output()"
      ]
     },
     "metadata": {},
     "output_type": "display_data"
    },
    {
     "data": {
      "text/html": [
       "<pre style=\"white-space:pre;overflow-x:auto;line-height:normal;font-family:Menlo,'DejaVu Sans Mono',consolas,'Courier New',monospace\"></pre>\n"
      ],
      "text/plain": []
     },
     "metadata": {},
     "output_type": "display_data"
    },
    {
     "data": {
      "application/vnd.jupyter.widget-view+json": {
       "model_id": "df659eedf3de489d89ef8aebb7452cb8",
       "version_major": 2,
       "version_minor": 0
      },
      "text/plain": [
       "Output()"
      ]
     },
     "metadata": {},
     "output_type": "display_data"
    },
    {
     "data": {
      "text/html": [
       "<pre style=\"white-space:pre;overflow-x:auto;line-height:normal;font-family:Menlo,'DejaVu Sans Mono',consolas,'Courier New',monospace\"></pre>\n"
      ],
      "text/plain": []
     },
     "metadata": {},
     "output_type": "display_data"
    },
    {
     "data": {
      "application/vnd.jupyter.widget-view+json": {
       "model_id": "6ed9431476d34ab88f3d58a1f49f8bf8",
       "version_major": 2,
       "version_minor": 0
      },
      "text/plain": [
       "Output()"
      ]
     },
     "metadata": {},
     "output_type": "display_data"
    },
    {
     "data": {
      "text/html": [
       "<pre style=\"white-space:pre;overflow-x:auto;line-height:normal;font-family:Menlo,'DejaVu Sans Mono',consolas,'Courier New',monospace\"></pre>\n"
      ],
      "text/plain": []
     },
     "metadata": {},
     "output_type": "display_data"
    },
    {
     "data": {
      "application/vnd.jupyter.widget-view+json": {
       "model_id": "f70e9730e9384e3185b1e35ad96bd6a2",
       "version_major": 2,
       "version_minor": 0
      },
      "text/plain": [
       "Output()"
      ]
     },
     "metadata": {},
     "output_type": "display_data"
    },
    {
     "data": {
      "text/html": [
       "<pre style=\"white-space:pre;overflow-x:auto;line-height:normal;font-family:Menlo,'DejaVu Sans Mono',consolas,'Courier New',monospace\"></pre>\n"
      ],
      "text/plain": []
     },
     "metadata": {},
     "output_type": "display_data"
    },
    {
     "data": {
      "application/vnd.jupyter.widget-view+json": {
       "model_id": "32fc5e485001418f9f0473cee24446c1",
       "version_major": 2,
       "version_minor": 0
      },
      "text/plain": [
       "Output()"
      ]
     },
     "metadata": {},
     "output_type": "display_data"
    },
    {
     "data": {
      "text/html": [
       "<pre style=\"white-space:pre;overflow-x:auto;line-height:normal;font-family:Menlo,'DejaVu Sans Mono',consolas,'Courier New',monospace\"></pre>\n"
      ],
      "text/plain": []
     },
     "metadata": {},
     "output_type": "display_data"
    },
    {
     "data": {
      "application/vnd.jupyter.widget-view+json": {
       "model_id": "43b5531ab9c54b5690c56f8b22c042b7",
       "version_major": 2,
       "version_minor": 0
      },
      "text/plain": [
       "Output()"
      ]
     },
     "metadata": {},
     "output_type": "display_data"
    },
    {
     "data": {
      "text/html": [
       "<pre style=\"white-space:pre;overflow-x:auto;line-height:normal;font-family:Menlo,'DejaVu Sans Mono',consolas,'Courier New',monospace\"></pre>\n"
      ],
      "text/plain": []
     },
     "metadata": {},
     "output_type": "display_data"
    },
    {
     "data": {
      "application/vnd.jupyter.widget-view+json": {
       "model_id": "8f58a6f35e0a40e8b86a615ebf204057",
       "version_major": 2,
       "version_minor": 0
      },
      "text/plain": [
       "Output()"
      ]
     },
     "metadata": {},
     "output_type": "display_data"
    },
    {
     "data": {
      "text/html": [
       "<pre style=\"white-space:pre;overflow-x:auto;line-height:normal;font-family:Menlo,'DejaVu Sans Mono',consolas,'Courier New',monospace\"></pre>\n"
      ],
      "text/plain": []
     },
     "metadata": {},
     "output_type": "display_data"
    },
    {
     "data": {
      "application/vnd.jupyter.widget-view+json": {
       "model_id": "4ad80478e3d946ce93e96dad1c2029cb",
       "version_major": 2,
       "version_minor": 0
      },
      "text/plain": [
       "Output()"
      ]
     },
     "metadata": {},
     "output_type": "display_data"
    },
    {
     "data": {
      "text/html": [
       "<pre style=\"white-space:pre;overflow-x:auto;line-height:normal;font-family:Menlo,'DejaVu Sans Mono',consolas,'Courier New',monospace\"></pre>\n"
      ],
      "text/plain": []
     },
     "metadata": {},
     "output_type": "display_data"
    },
    {
     "data": {
      "application/vnd.jupyter.widget-view+json": {
       "model_id": "1638a31fea9f44fe98dc5c5678b01771",
       "version_major": 2,
       "version_minor": 0
      },
      "text/plain": [
       "Output()"
      ]
     },
     "metadata": {},
     "output_type": "display_data"
    },
    {
     "data": {
      "text/html": [
       "<pre style=\"white-space:pre;overflow-x:auto;line-height:normal;font-family:Menlo,'DejaVu Sans Mono',consolas,'Courier New',monospace\"></pre>\n"
      ],
      "text/plain": []
     },
     "metadata": {},
     "output_type": "display_data"
    },
    {
     "data": {
      "application/vnd.jupyter.widget-view+json": {
       "model_id": "2736cfc242294676a17cdef35b3d614d",
       "version_major": 2,
       "version_minor": 0
      },
      "text/plain": [
       "Output()"
      ]
     },
     "metadata": {},
     "output_type": "display_data"
    },
    {
     "data": {
      "text/html": [
       "<pre style=\"white-space:pre;overflow-x:auto;line-height:normal;font-family:Menlo,'DejaVu Sans Mono',consolas,'Courier New',monospace\"></pre>\n"
      ],
      "text/plain": []
     },
     "metadata": {},
     "output_type": "display_data"
    },
    {
     "data": {
      "application/vnd.jupyter.widget-view+json": {
       "model_id": "8e7a0969dcc64a90840a741cd8414787",
       "version_major": 2,
       "version_minor": 0
      },
      "text/plain": [
       "Output()"
      ]
     },
     "metadata": {},
     "output_type": "display_data"
    },
    {
     "data": {
      "text/html": [
       "<pre style=\"white-space:pre;overflow-x:auto;line-height:normal;font-family:Menlo,'DejaVu Sans Mono',consolas,'Courier New',monospace\"></pre>\n"
      ],
      "text/plain": []
     },
     "metadata": {},
     "output_type": "display_data"
    },
    {
     "data": {
      "application/vnd.jupyter.widget-view+json": {
       "model_id": "95567fa2a96e409facc133f994f86cf0",
       "version_major": 2,
       "version_minor": 0
      },
      "text/plain": [
       "Output()"
      ]
     },
     "metadata": {},
     "output_type": "display_data"
    },
    {
     "data": {
      "text/html": [
       "<pre style=\"white-space:pre;overflow-x:auto;line-height:normal;font-family:Menlo,'DejaVu Sans Mono',consolas,'Courier New',monospace\"></pre>\n"
      ],
      "text/plain": []
     },
     "metadata": {},
     "output_type": "display_data"
    },
    {
     "data": {
      "application/vnd.jupyter.widget-view+json": {
       "model_id": "2e9f21eab393469d929e0b4eca5603c8",
       "version_major": 2,
       "version_minor": 0
      },
      "text/plain": [
       "Output()"
      ]
     },
     "metadata": {},
     "output_type": "display_data"
    },
    {
     "data": {
      "text/html": [
       "<pre style=\"white-space:pre;overflow-x:auto;line-height:normal;font-family:Menlo,'DejaVu Sans Mono',consolas,'Courier New',monospace\"></pre>\n"
      ],
      "text/plain": []
     },
     "metadata": {},
     "output_type": "display_data"
    },
    {
     "data": {
      "application/vnd.jupyter.widget-view+json": {
       "model_id": "87f4e51681594ba9919d9ddb9fa9c2d1",
       "version_major": 2,
       "version_minor": 0
      },
      "text/plain": [
       "Output()"
      ]
     },
     "metadata": {},
     "output_type": "display_data"
    },
    {
     "data": {
      "text/html": [
       "<pre style=\"white-space:pre;overflow-x:auto;line-height:normal;font-family:Menlo,'DejaVu Sans Mono',consolas,'Courier New',monospace\"></pre>\n"
      ],
      "text/plain": []
     },
     "metadata": {},
     "output_type": "display_data"
    },
    {
     "data": {
      "application/vnd.jupyter.widget-view+json": {
       "model_id": "18c237d128c34403b4141d0da2d146d7",
       "version_major": 2,
       "version_minor": 0
      },
      "text/plain": [
       "Output()"
      ]
     },
     "metadata": {},
     "output_type": "display_data"
    },
    {
     "data": {
      "text/html": [
       "<pre style=\"white-space:pre;overflow-x:auto;line-height:normal;font-family:Menlo,'DejaVu Sans Mono',consolas,'Courier New',monospace\"></pre>\n"
      ],
      "text/plain": []
     },
     "metadata": {},
     "output_type": "display_data"
    },
    {
     "data": {
      "application/vnd.jupyter.widget-view+json": {
       "model_id": "fe0a84d97d0947df9c065bfd4acbd3fe",
       "version_major": 2,
       "version_minor": 0
      },
      "text/plain": [
       "Output()"
      ]
     },
     "metadata": {},
     "output_type": "display_data"
    },
    {
     "data": {
      "text/html": [
       "<pre style=\"white-space:pre;overflow-x:auto;line-height:normal;font-family:Menlo,'DejaVu Sans Mono',consolas,'Courier New',monospace\"></pre>\n"
      ],
      "text/plain": []
     },
     "metadata": {},
     "output_type": "display_data"
    },
    {
     "data": {
      "application/vnd.jupyter.widget-view+json": {
       "model_id": "3f708590bd05448bbc75c3309b24a9c9",
       "version_major": 2,
       "version_minor": 0
      },
      "text/plain": [
       "Output()"
      ]
     },
     "metadata": {},
     "output_type": "display_data"
    },
    {
     "data": {
      "text/html": [
       "<pre style=\"white-space:pre;overflow-x:auto;line-height:normal;font-family:Menlo,'DejaVu Sans Mono',consolas,'Courier New',monospace\"></pre>\n"
      ],
      "text/plain": []
     },
     "metadata": {},
     "output_type": "display_data"
    },
    {
     "data": {
      "application/vnd.jupyter.widget-view+json": {
       "model_id": "40a2a1ef6e7b4d63a5263a59364dddd3",
       "version_major": 2,
       "version_minor": 0
      },
      "text/plain": [
       "Output()"
      ]
     },
     "metadata": {},
     "output_type": "display_data"
    },
    {
     "data": {
      "text/html": [
       "<pre style=\"white-space:pre;overflow-x:auto;line-height:normal;font-family:Menlo,'DejaVu Sans Mono',consolas,'Courier New',monospace\"></pre>\n"
      ],
      "text/plain": []
     },
     "metadata": {},
     "output_type": "display_data"
    },
    {
     "data": {
      "application/vnd.jupyter.widget-view+json": {
       "model_id": "f2e3e6fb05ad4605a41ceafa3630480f",
       "version_major": 2,
       "version_minor": 0
      },
      "text/plain": [
       "Output()"
      ]
     },
     "metadata": {},
     "output_type": "display_data"
    },
    {
     "data": {
      "text/html": [
       "<pre style=\"white-space:pre;overflow-x:auto;line-height:normal;font-family:Menlo,'DejaVu Sans Mono',consolas,'Courier New',monospace\"></pre>\n"
      ],
      "text/plain": []
     },
     "metadata": {},
     "output_type": "display_data"
    },
    {
     "data": {
      "application/vnd.jupyter.widget-view+json": {
       "model_id": "af55c81b472643a6aab45b2c6567b690",
       "version_major": 2,
       "version_minor": 0
      },
      "text/plain": [
       "Output()"
      ]
     },
     "metadata": {},
     "output_type": "display_data"
    },
    {
     "data": {
      "text/html": [
       "<pre style=\"white-space:pre;overflow-x:auto;line-height:normal;font-family:Menlo,'DejaVu Sans Mono',consolas,'Courier New',monospace\"></pre>\n"
      ],
      "text/plain": []
     },
     "metadata": {},
     "output_type": "display_data"
    },
    {
     "data": {
      "application/vnd.jupyter.widget-view+json": {
       "model_id": "478022a895664392af92b43d904be5dd",
       "version_major": 2,
       "version_minor": 0
      },
      "text/plain": [
       "Output()"
      ]
     },
     "metadata": {},
     "output_type": "display_data"
    },
    {
     "data": {
      "text/html": [
       "<pre style=\"white-space:pre;overflow-x:auto;line-height:normal;font-family:Menlo,'DejaVu Sans Mono',consolas,'Courier New',monospace\"></pre>\n"
      ],
      "text/plain": []
     },
     "metadata": {},
     "output_type": "display_data"
    },
    {
     "data": {
      "application/vnd.jupyter.widget-view+json": {
       "model_id": "9f0e8c9725504029a2e3fa4975865c04",
       "version_major": 2,
       "version_minor": 0
      },
      "text/plain": [
       "Output()"
      ]
     },
     "metadata": {},
     "output_type": "display_data"
    },
    {
     "data": {
      "text/html": [
       "<pre style=\"white-space:pre;overflow-x:auto;line-height:normal;font-family:Menlo,'DejaVu Sans Mono',consolas,'Courier New',monospace\"></pre>\n"
      ],
      "text/plain": []
     },
     "metadata": {},
     "output_type": "display_data"
    },
    {
     "data": {
      "application/vnd.jupyter.widget-view+json": {
       "model_id": "5979baeaeef64fd5995871b3baaa3683",
       "version_major": 2,
       "version_minor": 0
      },
      "text/plain": [
       "Output()"
      ]
     },
     "metadata": {},
     "output_type": "display_data"
    },
    {
     "data": {
      "text/html": [
       "<pre style=\"white-space:pre;overflow-x:auto;line-height:normal;font-family:Menlo,'DejaVu Sans Mono',consolas,'Courier New',monospace\"></pre>\n"
      ],
      "text/plain": []
     },
     "metadata": {},
     "output_type": "display_data"
    },
    {
     "data": {
      "application/vnd.jupyter.widget-view+json": {
       "model_id": "7b1a449a828d45c0ae7a27a7f3e5eb5c",
       "version_major": 2,
       "version_minor": 0
      },
      "text/plain": [
       "Output()"
      ]
     },
     "metadata": {},
     "output_type": "display_data"
    },
    {
     "data": {
      "text/html": [
       "<pre style=\"white-space:pre;overflow-x:auto;line-height:normal;font-family:Menlo,'DejaVu Sans Mono',consolas,'Courier New',monospace\"></pre>\n"
      ],
      "text/plain": []
     },
     "metadata": {},
     "output_type": "display_data"
    },
    {
     "data": {
      "application/vnd.jupyter.widget-view+json": {
       "model_id": "d395149299534773b53b63cf9df8969f",
       "version_major": 2,
       "version_minor": 0
      },
      "text/plain": [
       "Output()"
      ]
     },
     "metadata": {},
     "output_type": "display_data"
    },
    {
     "data": {
      "text/html": [
       "<pre style=\"white-space:pre;overflow-x:auto;line-height:normal;font-family:Menlo,'DejaVu Sans Mono',consolas,'Courier New',monospace\"></pre>\n"
      ],
      "text/plain": []
     },
     "metadata": {},
     "output_type": "display_data"
    },
    {
     "data": {
      "application/vnd.jupyter.widget-view+json": {
       "model_id": "ced0c8c211ea4b5e9a6dbba879cd0d7e",
       "version_major": 2,
       "version_minor": 0
      },
      "text/plain": [
       "Output()"
      ]
     },
     "metadata": {},
     "output_type": "display_data"
    },
    {
     "data": {
      "text/html": [
       "<pre style=\"white-space:pre;overflow-x:auto;line-height:normal;font-family:Menlo,'DejaVu Sans Mono',consolas,'Courier New',monospace\"></pre>\n"
      ],
      "text/plain": []
     },
     "metadata": {},
     "output_type": "display_data"
    },
    {
     "data": {
      "application/vnd.jupyter.widget-view+json": {
       "model_id": "e6f4e1280dd14286831e604806ba6f4a",
       "version_major": 2,
       "version_minor": 0
      },
      "text/plain": [
       "Output()"
      ]
     },
     "metadata": {},
     "output_type": "display_data"
    },
    {
     "data": {
      "text/html": [
       "<pre style=\"white-space:pre;overflow-x:auto;line-height:normal;font-family:Menlo,'DejaVu Sans Mono',consolas,'Courier New',monospace\"></pre>\n"
      ],
      "text/plain": []
     },
     "metadata": {},
     "output_type": "display_data"
    },
    {
     "data": {
      "application/vnd.jupyter.widget-view+json": {
       "model_id": "e19346ac16fa43c194a29c94a4282049",
       "version_major": 2,
       "version_minor": 0
      },
      "text/plain": [
       "Output()"
      ]
     },
     "metadata": {},
     "output_type": "display_data"
    },
    {
     "data": {
      "text/html": [
       "<pre style=\"white-space:pre;overflow-x:auto;line-height:normal;font-family:Menlo,'DejaVu Sans Mono',consolas,'Courier New',monospace\"></pre>\n"
      ],
      "text/plain": []
     },
     "metadata": {},
     "output_type": "display_data"
    },
    {
     "data": {
      "application/vnd.jupyter.widget-view+json": {
       "model_id": "08c353efa51c4f15b754e939df1d903c",
       "version_major": 2,
       "version_minor": 0
      },
      "text/plain": [
       "Output()"
      ]
     },
     "metadata": {},
     "output_type": "display_data"
    },
    {
     "data": {
      "text/html": [
       "<pre style=\"white-space:pre;overflow-x:auto;line-height:normal;font-family:Menlo,'DejaVu Sans Mono',consolas,'Courier New',monospace\"></pre>\n"
      ],
      "text/plain": []
     },
     "metadata": {},
     "output_type": "display_data"
    },
    {
     "data": {
      "application/vnd.jupyter.widget-view+json": {
       "model_id": "d6fea28d6804409fb66cb67e575c4457",
       "version_major": 2,
       "version_minor": 0
      },
      "text/plain": [
       "Output()"
      ]
     },
     "metadata": {},
     "output_type": "display_data"
    },
    {
     "data": {
      "text/html": [
       "<pre style=\"white-space:pre;overflow-x:auto;line-height:normal;font-family:Menlo,'DejaVu Sans Mono',consolas,'Courier New',monospace\"></pre>\n"
      ],
      "text/plain": []
     },
     "metadata": {},
     "output_type": "display_data"
    },
    {
     "data": {
      "application/vnd.jupyter.widget-view+json": {
       "model_id": "5573f26bbe3849f7bca69145a07359eb",
       "version_major": 2,
       "version_minor": 0
      },
      "text/plain": [
       "Output()"
      ]
     },
     "metadata": {},
     "output_type": "display_data"
    },
    {
     "data": {
      "text/html": [
       "<pre style=\"white-space:pre;overflow-x:auto;line-height:normal;font-family:Menlo,'DejaVu Sans Mono',consolas,'Courier New',monospace\"></pre>\n"
      ],
      "text/plain": []
     },
     "metadata": {},
     "output_type": "display_data"
    },
    {
     "data": {
      "application/vnd.jupyter.widget-view+json": {
       "model_id": "2d868c927d9b47b1b4fdd98c94f35a29",
       "version_major": 2,
       "version_minor": 0
      },
      "text/plain": [
       "Output()"
      ]
     },
     "metadata": {},
     "output_type": "display_data"
    },
    {
     "data": {
      "text/html": [
       "<pre style=\"white-space:pre;overflow-x:auto;line-height:normal;font-family:Menlo,'DejaVu Sans Mono',consolas,'Courier New',monospace\"></pre>\n"
      ],
      "text/plain": []
     },
     "metadata": {},
     "output_type": "display_data"
    },
    {
     "data": {
      "application/vnd.jupyter.widget-view+json": {
       "model_id": "eb47475e1b0b44618233852a7bbf9798",
       "version_major": 2,
       "version_minor": 0
      },
      "text/plain": [
       "Output()"
      ]
     },
     "metadata": {},
     "output_type": "display_data"
    },
    {
     "data": {
      "text/html": [
       "<pre style=\"white-space:pre;overflow-x:auto;line-height:normal;font-family:Menlo,'DejaVu Sans Mono',consolas,'Courier New',monospace\"></pre>\n"
      ],
      "text/plain": []
     },
     "metadata": {},
     "output_type": "display_data"
    },
    {
     "data": {
      "application/vnd.jupyter.widget-view+json": {
       "model_id": "ca1565174a56470c8421f4c3b707524b",
       "version_major": 2,
       "version_minor": 0
      },
      "text/plain": [
       "Output()"
      ]
     },
     "metadata": {},
     "output_type": "display_data"
    },
    {
     "data": {
      "text/html": [
       "<pre style=\"white-space:pre;overflow-x:auto;line-height:normal;font-family:Menlo,'DejaVu Sans Mono',consolas,'Courier New',monospace\"></pre>\n"
      ],
      "text/plain": []
     },
     "metadata": {},
     "output_type": "display_data"
    },
    {
     "data": {
      "application/vnd.jupyter.widget-view+json": {
       "model_id": "d97cf681971841328ed5a22ab2492b76",
       "version_major": 2,
       "version_minor": 0
      },
      "text/plain": [
       "Output()"
      ]
     },
     "metadata": {},
     "output_type": "display_data"
    },
    {
     "data": {
      "text/html": [
       "<pre style=\"white-space:pre;overflow-x:auto;line-height:normal;font-family:Menlo,'DejaVu Sans Mono',consolas,'Courier New',monospace\"></pre>\n"
      ],
      "text/plain": []
     },
     "metadata": {},
     "output_type": "display_data"
    },
    {
     "data": {
      "application/vnd.jupyter.widget-view+json": {
       "model_id": "87c8395073ff40468bc0032e635860a0",
       "version_major": 2,
       "version_minor": 0
      },
      "text/plain": [
       "Output()"
      ]
     },
     "metadata": {},
     "output_type": "display_data"
    },
    {
     "data": {
      "text/html": [
       "<pre style=\"white-space:pre;overflow-x:auto;line-height:normal;font-family:Menlo,'DejaVu Sans Mono',consolas,'Courier New',monospace\"></pre>\n"
      ],
      "text/plain": []
     },
     "metadata": {},
     "output_type": "display_data"
    },
    {
     "data": {
      "application/vnd.jupyter.widget-view+json": {
       "model_id": "b4773361e1bc4e4cbd49b70156d21493",
       "version_major": 2,
       "version_minor": 0
      },
      "text/plain": [
       "Output()"
      ]
     },
     "metadata": {},
     "output_type": "display_data"
    },
    {
     "data": {
      "text/html": [
       "<pre style=\"white-space:pre;overflow-x:auto;line-height:normal;font-family:Menlo,'DejaVu Sans Mono',consolas,'Courier New',monospace\"></pre>\n"
      ],
      "text/plain": []
     },
     "metadata": {},
     "output_type": "display_data"
    },
    {
     "data": {
      "application/vnd.jupyter.widget-view+json": {
       "model_id": "56b5aca27be14e70bd41a7daaf382024",
       "version_major": 2,
       "version_minor": 0
      },
      "text/plain": [
       "Output()"
      ]
     },
     "metadata": {},
     "output_type": "display_data"
    },
    {
     "data": {
      "text/html": [
       "<pre style=\"white-space:pre;overflow-x:auto;line-height:normal;font-family:Menlo,'DejaVu Sans Mono',consolas,'Courier New',monospace\"></pre>\n"
      ],
      "text/plain": []
     },
     "metadata": {},
     "output_type": "display_data"
    },
    {
     "data": {
      "application/vnd.jupyter.widget-view+json": {
       "model_id": "0d2de04cc5a64be8bb6d4699f9c6f89e",
       "version_major": 2,
       "version_minor": 0
      },
      "text/plain": [
       "Output()"
      ]
     },
     "metadata": {},
     "output_type": "display_data"
    },
    {
     "data": {
      "text/html": [
       "<pre style=\"white-space:pre;overflow-x:auto;line-height:normal;font-family:Menlo,'DejaVu Sans Mono',consolas,'Courier New',monospace\"></pre>\n"
      ],
      "text/plain": []
     },
     "metadata": {},
     "output_type": "display_data"
    },
    {
     "data": {
      "application/vnd.jupyter.widget-view+json": {
       "model_id": "fbeec0a8830b4ccbb6183ef67335b469",
       "version_major": 2,
       "version_minor": 0
      },
      "text/plain": [
       "Output()"
      ]
     },
     "metadata": {},
     "output_type": "display_data"
    },
    {
     "data": {
      "text/html": [
       "<pre style=\"white-space:pre;overflow-x:auto;line-height:normal;font-family:Menlo,'DejaVu Sans Mono',consolas,'Courier New',monospace\"></pre>\n"
      ],
      "text/plain": []
     },
     "metadata": {},
     "output_type": "display_data"
    },
    {
     "data": {
      "application/vnd.jupyter.widget-view+json": {
       "model_id": "e93b2bcd676848f5bc81298d73d00859",
       "version_major": 2,
       "version_minor": 0
      },
      "text/plain": [
       "Output()"
      ]
     },
     "metadata": {},
     "output_type": "display_data"
    },
    {
     "data": {
      "text/html": [
       "<pre style=\"white-space:pre;overflow-x:auto;line-height:normal;font-family:Menlo,'DejaVu Sans Mono',consolas,'Courier New',monospace\"></pre>\n"
      ],
      "text/plain": []
     },
     "metadata": {},
     "output_type": "display_data"
    },
    {
     "data": {
      "application/vnd.jupyter.widget-view+json": {
       "model_id": "54bc2943eb7641a0bf329689421b56dc",
       "version_major": 2,
       "version_minor": 0
      },
      "text/plain": [
       "Output()"
      ]
     },
     "metadata": {},
     "output_type": "display_data"
    },
    {
     "data": {
      "text/html": [
       "<pre style=\"white-space:pre;overflow-x:auto;line-height:normal;font-family:Menlo,'DejaVu Sans Mono',consolas,'Courier New',monospace\"></pre>\n"
      ],
      "text/plain": []
     },
     "metadata": {},
     "output_type": "display_data"
    },
    {
     "data": {
      "application/vnd.jupyter.widget-view+json": {
       "model_id": "d442a02749344594aaef414659c5c3e0",
       "version_major": 2,
       "version_minor": 0
      },
      "text/plain": [
       "Output()"
      ]
     },
     "metadata": {},
     "output_type": "display_data"
    },
    {
     "data": {
      "text/html": [
       "<pre style=\"white-space:pre;overflow-x:auto;line-height:normal;font-family:Menlo,'DejaVu Sans Mono',consolas,'Courier New',monospace\"></pre>\n"
      ],
      "text/plain": []
     },
     "metadata": {},
     "output_type": "display_data"
    },
    {
     "data": {
      "application/vnd.jupyter.widget-view+json": {
       "model_id": "b5b1dc0bf1894985ae1cc66bc1d0bb6d",
       "version_major": 2,
       "version_minor": 0
      },
      "text/plain": [
       "Output()"
      ]
     },
     "metadata": {},
     "output_type": "display_data"
    },
    {
     "data": {
      "text/html": [
       "<pre style=\"white-space:pre;overflow-x:auto;line-height:normal;font-family:Menlo,'DejaVu Sans Mono',consolas,'Courier New',monospace\"></pre>\n"
      ],
      "text/plain": []
     },
     "metadata": {},
     "output_type": "display_data"
    },
    {
     "data": {
      "application/vnd.jupyter.widget-view+json": {
       "model_id": "d955dae32beb40e5af0e5ecb7f056f30",
       "version_major": 2,
       "version_minor": 0
      },
      "text/plain": [
       "Output()"
      ]
     },
     "metadata": {},
     "output_type": "display_data"
    },
    {
     "data": {
      "text/html": [
       "<pre style=\"white-space:pre;overflow-x:auto;line-height:normal;font-family:Menlo,'DejaVu Sans Mono',consolas,'Courier New',monospace\"></pre>\n"
      ],
      "text/plain": []
     },
     "metadata": {},
     "output_type": "display_data"
    },
    {
     "data": {
      "application/vnd.jupyter.widget-view+json": {
       "model_id": "a0f9085c6a0b4fbab9bf3c9e21cf7159",
       "version_major": 2,
       "version_minor": 0
      },
      "text/plain": [
       "Output()"
      ]
     },
     "metadata": {},
     "output_type": "display_data"
    },
    {
     "data": {
      "text/html": [
       "<pre style=\"white-space:pre;overflow-x:auto;line-height:normal;font-family:Menlo,'DejaVu Sans Mono',consolas,'Courier New',monospace\"></pre>\n"
      ],
      "text/plain": []
     },
     "metadata": {},
     "output_type": "display_data"
    },
    {
     "data": {
      "application/vnd.jupyter.widget-view+json": {
       "model_id": "9ab27c62586c43f68811066df3a7bdf4",
       "version_major": 2,
       "version_minor": 0
      },
      "text/plain": [
       "Output()"
      ]
     },
     "metadata": {},
     "output_type": "display_data"
    },
    {
     "data": {
      "text/html": [
       "<pre style=\"white-space:pre;overflow-x:auto;line-height:normal;font-family:Menlo,'DejaVu Sans Mono',consolas,'Courier New',monospace\"></pre>\n"
      ],
      "text/plain": []
     },
     "metadata": {},
     "output_type": "display_data"
    },
    {
     "data": {
      "application/vnd.jupyter.widget-view+json": {
       "model_id": "c5139c16bfec44579a295d215aaf2ab3",
       "version_major": 2,
       "version_minor": 0
      },
      "text/plain": [
       "Output()"
      ]
     },
     "metadata": {},
     "output_type": "display_data"
    },
    {
     "data": {
      "text/html": [
       "<pre style=\"white-space:pre;overflow-x:auto;line-height:normal;font-family:Menlo,'DejaVu Sans Mono',consolas,'Courier New',monospace\"></pre>\n"
      ],
      "text/plain": []
     },
     "metadata": {},
     "output_type": "display_data"
    },
    {
     "data": {
      "application/vnd.jupyter.widget-view+json": {
       "model_id": "c8ed14f2997d4ad2b304a618a4d21d17",
       "version_major": 2,
       "version_minor": 0
      },
      "text/plain": [
       "Output()"
      ]
     },
     "metadata": {},
     "output_type": "display_data"
    },
    {
     "data": {
      "text/html": [
       "<pre style=\"white-space:pre;overflow-x:auto;line-height:normal;font-family:Menlo,'DejaVu Sans Mono',consolas,'Courier New',monospace\"></pre>\n"
      ],
      "text/plain": []
     },
     "metadata": {},
     "output_type": "display_data"
    },
    {
     "data": {
      "application/vnd.jupyter.widget-view+json": {
       "model_id": "f162e29883254b85a21217cb9de808db",
       "version_major": 2,
       "version_minor": 0
      },
      "text/plain": [
       "Output()"
      ]
     },
     "metadata": {},
     "output_type": "display_data"
    },
    {
     "data": {
      "text/html": [
       "<pre style=\"white-space:pre;overflow-x:auto;line-height:normal;font-family:Menlo,'DejaVu Sans Mono',consolas,'Courier New',monospace\"></pre>\n"
      ],
      "text/plain": []
     },
     "metadata": {},
     "output_type": "display_data"
    },
    {
     "data": {
      "application/vnd.jupyter.widget-view+json": {
       "model_id": "045ab987d27349fc8c4fb953a68bfb1e",
       "version_major": 2,
       "version_minor": 0
      },
      "text/plain": [
       "Output()"
      ]
     },
     "metadata": {},
     "output_type": "display_data"
    },
    {
     "data": {
      "text/html": [
       "<pre style=\"white-space:pre;overflow-x:auto;line-height:normal;font-family:Menlo,'DejaVu Sans Mono',consolas,'Courier New',monospace\"></pre>\n"
      ],
      "text/plain": []
     },
     "metadata": {},
     "output_type": "display_data"
    },
    {
     "data": {
      "application/vnd.jupyter.widget-view+json": {
       "model_id": "f4afed1da96b44459e7f93c80b52f61a",
       "version_major": 2,
       "version_minor": 0
      },
      "text/plain": [
       "Output()"
      ]
     },
     "metadata": {},
     "output_type": "display_data"
    },
    {
     "data": {
      "text/html": [
       "<pre style=\"white-space:pre;overflow-x:auto;line-height:normal;font-family:Menlo,'DejaVu Sans Mono',consolas,'Courier New',monospace\"></pre>\n"
      ],
      "text/plain": []
     },
     "metadata": {},
     "output_type": "display_data"
    },
    {
     "data": {
      "application/vnd.jupyter.widget-view+json": {
       "model_id": "a84ddcbff3fe4c589f5538fec4427e90",
       "version_major": 2,
       "version_minor": 0
      },
      "text/plain": [
       "Output()"
      ]
     },
     "metadata": {},
     "output_type": "display_data"
    },
    {
     "data": {
      "text/html": [
       "<pre style=\"white-space:pre;overflow-x:auto;line-height:normal;font-family:Menlo,'DejaVu Sans Mono',consolas,'Courier New',monospace\"></pre>\n"
      ],
      "text/plain": []
     },
     "metadata": {},
     "output_type": "display_data"
    },
    {
     "data": {
      "application/vnd.jupyter.widget-view+json": {
       "model_id": "412960dd3246477da0010b6ba57df5f9",
       "version_major": 2,
       "version_minor": 0
      },
      "text/plain": [
       "Output()"
      ]
     },
     "metadata": {},
     "output_type": "display_data"
    },
    {
     "data": {
      "text/html": [
       "<pre style=\"white-space:pre;overflow-x:auto;line-height:normal;font-family:Menlo,'DejaVu Sans Mono',consolas,'Courier New',monospace\"></pre>\n"
      ],
      "text/plain": []
     },
     "metadata": {},
     "output_type": "display_data"
    },
    {
     "data": {
      "application/vnd.jupyter.widget-view+json": {
       "model_id": "a417afa0ece54d4298e67febfc1e3ee6",
       "version_major": 2,
       "version_minor": 0
      },
      "text/plain": [
       "Output()"
      ]
     },
     "metadata": {},
     "output_type": "display_data"
    },
    {
     "data": {
      "text/html": [
       "<pre style=\"white-space:pre;overflow-x:auto;line-height:normal;font-family:Menlo,'DejaVu Sans Mono',consolas,'Courier New',monospace\"></pre>\n"
      ],
      "text/plain": []
     },
     "metadata": {},
     "output_type": "display_data"
    },
    {
     "data": {
      "application/vnd.jupyter.widget-view+json": {
       "model_id": "32a85c1c6bda49fd8da711c484bdfe9c",
       "version_major": 2,
       "version_minor": 0
      },
      "text/plain": [
       "Output()"
      ]
     },
     "metadata": {},
     "output_type": "display_data"
    },
    {
     "data": {
      "text/html": [
       "<pre style=\"white-space:pre;overflow-x:auto;line-height:normal;font-family:Menlo,'DejaVu Sans Mono',consolas,'Courier New',monospace\"></pre>\n"
      ],
      "text/plain": []
     },
     "metadata": {},
     "output_type": "display_data"
    },
    {
     "data": {
      "application/vnd.jupyter.widget-view+json": {
       "model_id": "eb325fc04f6b4290a9a40c35414bb271",
       "version_major": 2,
       "version_minor": 0
      },
      "text/plain": [
       "Output()"
      ]
     },
     "metadata": {},
     "output_type": "display_data"
    },
    {
     "data": {
      "text/html": [
       "<pre style=\"white-space:pre;overflow-x:auto;line-height:normal;font-family:Menlo,'DejaVu Sans Mono',consolas,'Courier New',monospace\"></pre>\n"
      ],
      "text/plain": []
     },
     "metadata": {},
     "output_type": "display_data"
    },
    {
     "data": {
      "application/vnd.jupyter.widget-view+json": {
       "model_id": "f6498728b2da4d33b039667f91343142",
       "version_major": 2,
       "version_minor": 0
      },
      "text/plain": [
       "Output()"
      ]
     },
     "metadata": {},
     "output_type": "display_data"
    },
    {
     "data": {
      "text/html": [
       "<pre style=\"white-space:pre;overflow-x:auto;line-height:normal;font-family:Menlo,'DejaVu Sans Mono',consolas,'Courier New',monospace\"></pre>\n"
      ],
      "text/plain": []
     },
     "metadata": {},
     "output_type": "display_data"
    },
    {
     "data": {
      "application/vnd.jupyter.widget-view+json": {
       "model_id": "3d158eac4eaa453290cce439ff0d4eea",
       "version_major": 2,
       "version_minor": 0
      },
      "text/plain": [
       "Output()"
      ]
     },
     "metadata": {},
     "output_type": "display_data"
    },
    {
     "data": {
      "text/html": [
       "<pre style=\"white-space:pre;overflow-x:auto;line-height:normal;font-family:Menlo,'DejaVu Sans Mono',consolas,'Courier New',monospace\"></pre>\n"
      ],
      "text/plain": []
     },
     "metadata": {},
     "output_type": "display_data"
    },
    {
     "data": {
      "application/vnd.jupyter.widget-view+json": {
       "model_id": "0146a0311c4d4e51a13be0574ebbd38c",
       "version_major": 2,
       "version_minor": 0
      },
      "text/plain": [
       "Output()"
      ]
     },
     "metadata": {},
     "output_type": "display_data"
    },
    {
     "data": {
      "text/html": [
       "<pre style=\"white-space:pre;overflow-x:auto;line-height:normal;font-family:Menlo,'DejaVu Sans Mono',consolas,'Courier New',monospace\"></pre>\n"
      ],
      "text/plain": []
     },
     "metadata": {},
     "output_type": "display_data"
    },
    {
     "data": {
      "application/vnd.jupyter.widget-view+json": {
       "model_id": "19b0c375c6954f0bb94fc09d27c59dc0",
       "version_major": 2,
       "version_minor": 0
      },
      "text/plain": [
       "Output()"
      ]
     },
     "metadata": {},
     "output_type": "display_data"
    },
    {
     "data": {
      "text/html": [
       "<pre style=\"white-space:pre;overflow-x:auto;line-height:normal;font-family:Menlo,'DejaVu Sans Mono',consolas,'Courier New',monospace\"></pre>\n"
      ],
      "text/plain": []
     },
     "metadata": {},
     "output_type": "display_data"
    },
    {
     "data": {
      "application/vnd.jupyter.widget-view+json": {
       "model_id": "8372aba687064c7c99498dd4cc29f18c",
       "version_major": 2,
       "version_minor": 0
      },
      "text/plain": [
       "Output()"
      ]
     },
     "metadata": {},
     "output_type": "display_data"
    },
    {
     "data": {
      "text/html": [
       "<pre style=\"white-space:pre;overflow-x:auto;line-height:normal;font-family:Menlo,'DejaVu Sans Mono',consolas,'Courier New',monospace\"></pre>\n"
      ],
      "text/plain": []
     },
     "metadata": {},
     "output_type": "display_data"
    },
    {
     "data": {
      "application/vnd.jupyter.widget-view+json": {
       "model_id": "1097beacdb994b10be09678c2c93c53a",
       "version_major": 2,
       "version_minor": 0
      },
      "text/plain": [
       "Output()"
      ]
     },
     "metadata": {},
     "output_type": "display_data"
    },
    {
     "data": {
      "text/html": [
       "<pre style=\"white-space:pre;overflow-x:auto;line-height:normal;font-family:Menlo,'DejaVu Sans Mono',consolas,'Courier New',monospace\"></pre>\n"
      ],
      "text/plain": []
     },
     "metadata": {},
     "output_type": "display_data"
    },
    {
     "data": {
      "application/vnd.jupyter.widget-view+json": {
       "model_id": "5f734a0c304b4f56bed3b1b95c85c7dd",
       "version_major": 2,
       "version_minor": 0
      },
      "text/plain": [
       "Output()"
      ]
     },
     "metadata": {},
     "output_type": "display_data"
    },
    {
     "data": {
      "text/html": [
       "<pre style=\"white-space:pre;overflow-x:auto;line-height:normal;font-family:Menlo,'DejaVu Sans Mono',consolas,'Courier New',monospace\"></pre>\n"
      ],
      "text/plain": []
     },
     "metadata": {},
     "output_type": "display_data"
    },
    {
     "data": {
      "application/vnd.jupyter.widget-view+json": {
       "model_id": "c4d6235a07d94d8f962511f052ed0e14",
       "version_major": 2,
       "version_minor": 0
      },
      "text/plain": [
       "Output()"
      ]
     },
     "metadata": {},
     "output_type": "display_data"
    },
    {
     "data": {
      "text/html": [
       "<pre style=\"white-space:pre;overflow-x:auto;line-height:normal;font-family:Menlo,'DejaVu Sans Mono',consolas,'Courier New',monospace\"></pre>\n"
      ],
      "text/plain": []
     },
     "metadata": {},
     "output_type": "display_data"
    },
    {
     "data": {
      "application/vnd.jupyter.widget-view+json": {
       "model_id": "27a702b6925349819edff68e384059b4",
       "version_major": 2,
       "version_minor": 0
      },
      "text/plain": [
       "Output()"
      ]
     },
     "metadata": {},
     "output_type": "display_data"
    },
    {
     "data": {
      "text/html": [
       "<pre style=\"white-space:pre;overflow-x:auto;line-height:normal;font-family:Menlo,'DejaVu Sans Mono',consolas,'Courier New',monospace\"></pre>\n"
      ],
      "text/plain": []
     },
     "metadata": {},
     "output_type": "display_data"
    },
    {
     "data": {
      "application/vnd.jupyter.widget-view+json": {
       "model_id": "d3294bb5dd1d4e39a877bdafb2ce0c19",
       "version_major": 2,
       "version_minor": 0
      },
      "text/plain": [
       "Output()"
      ]
     },
     "metadata": {},
     "output_type": "display_data"
    },
    {
     "data": {
      "text/html": [
       "<pre style=\"white-space:pre;overflow-x:auto;line-height:normal;font-family:Menlo,'DejaVu Sans Mono',consolas,'Courier New',monospace\"></pre>\n"
      ],
      "text/plain": []
     },
     "metadata": {},
     "output_type": "display_data"
    },
    {
     "data": {
      "application/vnd.jupyter.widget-view+json": {
       "model_id": "e36fbe3a82614539aa32430f68a2fcef",
       "version_major": 2,
       "version_minor": 0
      },
      "text/plain": [
       "Output()"
      ]
     },
     "metadata": {},
     "output_type": "display_data"
    },
    {
     "data": {
      "text/html": [
       "<pre style=\"white-space:pre;overflow-x:auto;line-height:normal;font-family:Menlo,'DejaVu Sans Mono',consolas,'Courier New',monospace\"></pre>\n"
      ],
      "text/plain": []
     },
     "metadata": {},
     "output_type": "display_data"
    },
    {
     "data": {
      "application/vnd.jupyter.widget-view+json": {
       "model_id": "85beff935d914be3980675a61a5bcf5c",
       "version_major": 2,
       "version_minor": 0
      },
      "text/plain": [
       "Output()"
      ]
     },
     "metadata": {},
     "output_type": "display_data"
    },
    {
     "data": {
      "text/html": [
       "<pre style=\"white-space:pre;overflow-x:auto;line-height:normal;font-family:Menlo,'DejaVu Sans Mono',consolas,'Courier New',monospace\"></pre>\n"
      ],
      "text/plain": []
     },
     "metadata": {},
     "output_type": "display_data"
    },
    {
     "data": {
      "application/vnd.jupyter.widget-view+json": {
       "model_id": "1188e1d87419491fa23435564889688a",
       "version_major": 2,
       "version_minor": 0
      },
      "text/plain": [
       "Output()"
      ]
     },
     "metadata": {},
     "output_type": "display_data"
    },
    {
     "data": {
      "text/html": [
       "<pre style=\"white-space:pre;overflow-x:auto;line-height:normal;font-family:Menlo,'DejaVu Sans Mono',consolas,'Courier New',monospace\"></pre>\n"
      ],
      "text/plain": []
     },
     "metadata": {},
     "output_type": "display_data"
    },
    {
     "data": {
      "application/vnd.jupyter.widget-view+json": {
       "model_id": "2e065aec37644e07adb76f22ca636354",
       "version_major": 2,
       "version_minor": 0
      },
      "text/plain": [
       "Output()"
      ]
     },
     "metadata": {},
     "output_type": "display_data"
    },
    {
     "data": {
      "text/html": [
       "<pre style=\"white-space:pre;overflow-x:auto;line-height:normal;font-family:Menlo,'DejaVu Sans Mono',consolas,'Courier New',monospace\"></pre>\n"
      ],
      "text/plain": []
     },
     "metadata": {},
     "output_type": "display_data"
    },
    {
     "data": {
      "application/vnd.jupyter.widget-view+json": {
       "model_id": "f97ae5de1e0a4ec68daabe0e447eb85d",
       "version_major": 2,
       "version_minor": 0
      },
      "text/plain": [
       "Output()"
      ]
     },
     "metadata": {},
     "output_type": "display_data"
    },
    {
     "data": {
      "text/html": [
       "<pre style=\"white-space:pre;overflow-x:auto;line-height:normal;font-family:Menlo,'DejaVu Sans Mono',consolas,'Courier New',monospace\"></pre>\n"
      ],
      "text/plain": []
     },
     "metadata": {},
     "output_type": "display_data"
    },
    {
     "data": {
      "application/vnd.jupyter.widget-view+json": {
       "model_id": "f422c7fe83ae4d628e582cc767d463a4",
       "version_major": 2,
       "version_minor": 0
      },
      "text/plain": [
       "Output()"
      ]
     },
     "metadata": {},
     "output_type": "display_data"
    },
    {
     "data": {
      "text/html": [
       "<pre style=\"white-space:pre;overflow-x:auto;line-height:normal;font-family:Menlo,'DejaVu Sans Mono',consolas,'Courier New',monospace\"></pre>\n"
      ],
      "text/plain": []
     },
     "metadata": {},
     "output_type": "display_data"
    },
    {
     "data": {
      "application/vnd.jupyter.widget-view+json": {
       "model_id": "af724ec5947f4da480fb443a745e0408",
       "version_major": 2,
       "version_minor": 0
      },
      "text/plain": [
       "Output()"
      ]
     },
     "metadata": {},
     "output_type": "display_data"
    },
    {
     "data": {
      "text/html": [
       "<pre style=\"white-space:pre;overflow-x:auto;line-height:normal;font-family:Menlo,'DejaVu Sans Mono',consolas,'Courier New',monospace\"></pre>\n"
      ],
      "text/plain": []
     },
     "metadata": {},
     "output_type": "display_data"
    },
    {
     "data": {
      "application/vnd.jupyter.widget-view+json": {
       "model_id": "acff069acc1740328763e9df19f794b6",
       "version_major": 2,
       "version_minor": 0
      },
      "text/plain": [
       "Output()"
      ]
     },
     "metadata": {},
     "output_type": "display_data"
    },
    {
     "data": {
      "text/html": [
       "<pre style=\"white-space:pre;overflow-x:auto;line-height:normal;font-family:Menlo,'DejaVu Sans Mono',consolas,'Courier New',monospace\"></pre>\n"
      ],
      "text/plain": []
     },
     "metadata": {},
     "output_type": "display_data"
    },
    {
     "data": {
      "application/vnd.jupyter.widget-view+json": {
       "model_id": "7ddf7dcef11c44db9b8439f47b7c9f13",
       "version_major": 2,
       "version_minor": 0
      },
      "text/plain": [
       "Output()"
      ]
     },
     "metadata": {},
     "output_type": "display_data"
    },
    {
     "data": {
      "text/html": [
       "<pre style=\"white-space:pre;overflow-x:auto;line-height:normal;font-family:Menlo,'DejaVu Sans Mono',consolas,'Courier New',monospace\"></pre>\n"
      ],
      "text/plain": []
     },
     "metadata": {},
     "output_type": "display_data"
    },
    {
     "data": {
      "application/vnd.jupyter.widget-view+json": {
       "model_id": "fe49fe3c2e134bc599a5d24325909a8f",
       "version_major": 2,
       "version_minor": 0
      },
      "text/plain": [
       "Output()"
      ]
     },
     "metadata": {},
     "output_type": "display_data"
    },
    {
     "data": {
      "text/html": [
       "<pre style=\"white-space:pre;overflow-x:auto;line-height:normal;font-family:Menlo,'DejaVu Sans Mono',consolas,'Courier New',monospace\"></pre>\n"
      ],
      "text/plain": []
     },
     "metadata": {},
     "output_type": "display_data"
    },
    {
     "data": {
      "application/vnd.jupyter.widget-view+json": {
       "model_id": "021f20b5ac5f4c4e879c31a2c4dc162e",
       "version_major": 2,
       "version_minor": 0
      },
      "text/plain": [
       "Output()"
      ]
     },
     "metadata": {},
     "output_type": "display_data"
    },
    {
     "data": {
      "text/html": [
       "<pre style=\"white-space:pre;overflow-x:auto;line-height:normal;font-family:Menlo,'DejaVu Sans Mono',consolas,'Courier New',monospace\"></pre>\n"
      ],
      "text/plain": []
     },
     "metadata": {},
     "output_type": "display_data"
    },
    {
     "data": {
      "application/vnd.jupyter.widget-view+json": {
       "model_id": "5f7d5be524c24d288c85ff3eef3bb15c",
       "version_major": 2,
       "version_minor": 0
      },
      "text/plain": [
       "Output()"
      ]
     },
     "metadata": {},
     "output_type": "display_data"
    },
    {
     "data": {
      "text/html": [
       "<pre style=\"white-space:pre;overflow-x:auto;line-height:normal;font-family:Menlo,'DejaVu Sans Mono',consolas,'Courier New',monospace\"></pre>\n"
      ],
      "text/plain": []
     },
     "metadata": {},
     "output_type": "display_data"
    },
    {
     "data": {
      "application/vnd.jupyter.widget-view+json": {
       "model_id": "aeacd13da3cf4e29830fbe37e755d7ee",
       "version_major": 2,
       "version_minor": 0
      },
      "text/plain": [
       "Output()"
      ]
     },
     "metadata": {},
     "output_type": "display_data"
    },
    {
     "data": {
      "text/html": [
       "<pre style=\"white-space:pre;overflow-x:auto;line-height:normal;font-family:Menlo,'DejaVu Sans Mono',consolas,'Courier New',monospace\"></pre>\n"
      ],
      "text/plain": []
     },
     "metadata": {},
     "output_type": "display_data"
    },
    {
     "data": {
      "application/vnd.jupyter.widget-view+json": {
       "model_id": "d87f91898ca743d29d0e17f16553f710",
       "version_major": 2,
       "version_minor": 0
      },
      "text/plain": [
       "Output()"
      ]
     },
     "metadata": {},
     "output_type": "display_data"
    },
    {
     "data": {
      "text/html": [
       "<pre style=\"white-space:pre;overflow-x:auto;line-height:normal;font-family:Menlo,'DejaVu Sans Mono',consolas,'Courier New',monospace\"></pre>\n"
      ],
      "text/plain": []
     },
     "metadata": {},
     "output_type": "display_data"
    },
    {
     "data": {
      "application/vnd.jupyter.widget-view+json": {
       "model_id": "6b285e9fc61643c0b652512831a73963",
       "version_major": 2,
       "version_minor": 0
      },
      "text/plain": [
       "Output()"
      ]
     },
     "metadata": {},
     "output_type": "display_data"
    },
    {
     "data": {
      "text/html": [
       "<pre style=\"white-space:pre;overflow-x:auto;line-height:normal;font-family:Menlo,'DejaVu Sans Mono',consolas,'Courier New',monospace\"></pre>\n"
      ],
      "text/plain": []
     },
     "metadata": {},
     "output_type": "display_data"
    },
    {
     "data": {
      "application/vnd.jupyter.widget-view+json": {
       "model_id": "33fc987531ee4807bfec6a1aeb2cd841",
       "version_major": 2,
       "version_minor": 0
      },
      "text/plain": [
       "Output()"
      ]
     },
     "metadata": {},
     "output_type": "display_data"
    },
    {
     "data": {
      "text/html": [
       "<pre style=\"white-space:pre;overflow-x:auto;line-height:normal;font-family:Menlo,'DejaVu Sans Mono',consolas,'Courier New',monospace\"></pre>\n"
      ],
      "text/plain": []
     },
     "metadata": {},
     "output_type": "display_data"
    },
    {
     "data": {
      "application/vnd.jupyter.widget-view+json": {
       "model_id": "2447ee38208f4272b2c7035098ccec0b",
       "version_major": 2,
       "version_minor": 0
      },
      "text/plain": [
       "Output()"
      ]
     },
     "metadata": {},
     "output_type": "display_data"
    },
    {
     "data": {
      "text/html": [
       "<pre style=\"white-space:pre;overflow-x:auto;line-height:normal;font-family:Menlo,'DejaVu Sans Mono',consolas,'Courier New',monospace\"></pre>\n"
      ],
      "text/plain": []
     },
     "metadata": {},
     "output_type": "display_data"
    },
    {
     "data": {
      "application/vnd.jupyter.widget-view+json": {
       "model_id": "334b918a77614fa6a783982bb679cc90",
       "version_major": 2,
       "version_minor": 0
      },
      "text/plain": [
       "Output()"
      ]
     },
     "metadata": {},
     "output_type": "display_data"
    },
    {
     "data": {
      "text/html": [
       "<pre style=\"white-space:pre;overflow-x:auto;line-height:normal;font-family:Menlo,'DejaVu Sans Mono',consolas,'Courier New',monospace\"></pre>\n"
      ],
      "text/plain": []
     },
     "metadata": {},
     "output_type": "display_data"
    },
    {
     "data": {
      "application/vnd.jupyter.widget-view+json": {
       "model_id": "abbc9603bb234108ac2681d358432e36",
       "version_major": 2,
       "version_minor": 0
      },
      "text/plain": [
       "Output()"
      ]
     },
     "metadata": {},
     "output_type": "display_data"
    },
    {
     "data": {
      "text/html": [
       "<pre style=\"white-space:pre;overflow-x:auto;line-height:normal;font-family:Menlo,'DejaVu Sans Mono',consolas,'Courier New',monospace\"></pre>\n"
      ],
      "text/plain": []
     },
     "metadata": {},
     "output_type": "display_data"
    },
    {
     "data": {
      "application/vnd.jupyter.widget-view+json": {
       "model_id": "4618df3eb7e04023b48ff92a10632e2c",
       "version_major": 2,
       "version_minor": 0
      },
      "text/plain": [
       "Output()"
      ]
     },
     "metadata": {},
     "output_type": "display_data"
    },
    {
     "data": {
      "text/html": [
       "<pre style=\"white-space:pre;overflow-x:auto;line-height:normal;font-family:Menlo,'DejaVu Sans Mono',consolas,'Courier New',monospace\"></pre>\n"
      ],
      "text/plain": []
     },
     "metadata": {},
     "output_type": "display_data"
    },
    {
     "data": {
      "application/vnd.jupyter.widget-view+json": {
       "model_id": "69b9b67e43194cfbac2aa2b900c08cf1",
       "version_major": 2,
       "version_minor": 0
      },
      "text/plain": [
       "Output()"
      ]
     },
     "metadata": {},
     "output_type": "display_data"
    },
    {
     "data": {
      "text/html": [
       "<pre style=\"white-space:pre;overflow-x:auto;line-height:normal;font-family:Menlo,'DejaVu Sans Mono',consolas,'Courier New',monospace\"></pre>\n"
      ],
      "text/plain": []
     },
     "metadata": {},
     "output_type": "display_data"
    },
    {
     "data": {
      "application/vnd.jupyter.widget-view+json": {
       "model_id": "2819ca2c8ae44cd9a1f30aece1e4e685",
       "version_major": 2,
       "version_minor": 0
      },
      "text/plain": [
       "Output()"
      ]
     },
     "metadata": {},
     "output_type": "display_data"
    },
    {
     "data": {
      "text/html": [
       "<pre style=\"white-space:pre;overflow-x:auto;line-height:normal;font-family:Menlo,'DejaVu Sans Mono',consolas,'Courier New',monospace\"></pre>\n"
      ],
      "text/plain": []
     },
     "metadata": {},
     "output_type": "display_data"
    },
    {
     "data": {
      "application/vnd.jupyter.widget-view+json": {
       "model_id": "5cc03ae7b9be40f59d4fb611ddef1acf",
       "version_major": 2,
       "version_minor": 0
      },
      "text/plain": [
       "Output()"
      ]
     },
     "metadata": {},
     "output_type": "display_data"
    },
    {
     "data": {
      "text/html": [
       "<pre style=\"white-space:pre;overflow-x:auto;line-height:normal;font-family:Menlo,'DejaVu Sans Mono',consolas,'Courier New',monospace\"></pre>\n"
      ],
      "text/plain": []
     },
     "metadata": {},
     "output_type": "display_data"
    },
    {
     "data": {
      "application/vnd.jupyter.widget-view+json": {
       "model_id": "0b38e9d711cd485dbcb37ae1d0f6284c",
       "version_major": 2,
       "version_minor": 0
      },
      "text/plain": [
       "Output()"
      ]
     },
     "metadata": {},
     "output_type": "display_data"
    },
    {
     "data": {
      "text/html": [
       "<pre style=\"white-space:pre;overflow-x:auto;line-height:normal;font-family:Menlo,'DejaVu Sans Mono',consolas,'Courier New',monospace\"></pre>\n"
      ],
      "text/plain": []
     },
     "metadata": {},
     "output_type": "display_data"
    },
    {
     "data": {
      "application/vnd.jupyter.widget-view+json": {
       "model_id": "1e84b12357964279a6e081df62dac433",
       "version_major": 2,
       "version_minor": 0
      },
      "text/plain": [
       "Output()"
      ]
     },
     "metadata": {},
     "output_type": "display_data"
    },
    {
     "data": {
      "text/html": [
       "<pre style=\"white-space:pre;overflow-x:auto;line-height:normal;font-family:Menlo,'DejaVu Sans Mono',consolas,'Courier New',monospace\"></pre>\n"
      ],
      "text/plain": []
     },
     "metadata": {},
     "output_type": "display_data"
    },
    {
     "data": {
      "application/vnd.jupyter.widget-view+json": {
       "model_id": "125c27b978404df98fdb55f995a5ed4e",
       "version_major": 2,
       "version_minor": 0
      },
      "text/plain": [
       "Output()"
      ]
     },
     "metadata": {},
     "output_type": "display_data"
    },
    {
     "data": {
      "text/html": [
       "<pre style=\"white-space:pre;overflow-x:auto;line-height:normal;font-family:Menlo,'DejaVu Sans Mono',consolas,'Courier New',monospace\"></pre>\n"
      ],
      "text/plain": []
     },
     "metadata": {},
     "output_type": "display_data"
    },
    {
     "data": {
      "application/vnd.jupyter.widget-view+json": {
       "model_id": "bcc5f48da3da43ee8165be80175d4d52",
       "version_major": 2,
       "version_minor": 0
      },
      "text/plain": [
       "Output()"
      ]
     },
     "metadata": {},
     "output_type": "display_data"
    },
    {
     "data": {
      "text/html": [
       "<pre style=\"white-space:pre;overflow-x:auto;line-height:normal;font-family:Menlo,'DejaVu Sans Mono',consolas,'Courier New',monospace\"></pre>\n"
      ],
      "text/plain": []
     },
     "metadata": {},
     "output_type": "display_data"
    },
    {
     "data": {
      "application/vnd.jupyter.widget-view+json": {
       "model_id": "f8420194bcf14531b66f8f3d3995babf",
       "version_major": 2,
       "version_minor": 0
      },
      "text/plain": [
       "Output()"
      ]
     },
     "metadata": {},
     "output_type": "display_data"
    },
    {
     "data": {
      "text/html": [
       "<pre style=\"white-space:pre;overflow-x:auto;line-height:normal;font-family:Menlo,'DejaVu Sans Mono',consolas,'Courier New',monospace\"></pre>\n"
      ],
      "text/plain": []
     },
     "metadata": {},
     "output_type": "display_data"
    },
    {
     "data": {
      "application/vnd.jupyter.widget-view+json": {
       "model_id": "2569b21936094cb9946dde467c8e24c1",
       "version_major": 2,
       "version_minor": 0
      },
      "text/plain": [
       "Output()"
      ]
     },
     "metadata": {},
     "output_type": "display_data"
    },
    {
     "data": {
      "text/html": [
       "<pre style=\"white-space:pre;overflow-x:auto;line-height:normal;font-family:Menlo,'DejaVu Sans Mono',consolas,'Courier New',monospace\"></pre>\n"
      ],
      "text/plain": []
     },
     "metadata": {},
     "output_type": "display_data"
    },
    {
     "data": {
      "application/vnd.jupyter.widget-view+json": {
       "model_id": "64d1dd19cdda4cc295ed57f2898989ad",
       "version_major": 2,
       "version_minor": 0
      },
      "text/plain": [
       "Output()"
      ]
     },
     "metadata": {},
     "output_type": "display_data"
    },
    {
     "data": {
      "text/html": [
       "<pre style=\"white-space:pre;overflow-x:auto;line-height:normal;font-family:Menlo,'DejaVu Sans Mono',consolas,'Courier New',monospace\"></pre>\n"
      ],
      "text/plain": []
     },
     "metadata": {},
     "output_type": "display_data"
    },
    {
     "data": {
      "application/vnd.jupyter.widget-view+json": {
       "model_id": "b7e5d9542a234dcc8fa07acca0003303",
       "version_major": 2,
       "version_minor": 0
      },
      "text/plain": [
       "Output()"
      ]
     },
     "metadata": {},
     "output_type": "display_data"
    },
    {
     "data": {
      "text/html": [
       "<pre style=\"white-space:pre;overflow-x:auto;line-height:normal;font-family:Menlo,'DejaVu Sans Mono',consolas,'Courier New',monospace\"></pre>\n"
      ],
      "text/plain": []
     },
     "metadata": {},
     "output_type": "display_data"
    },
    {
     "data": {
      "application/vnd.jupyter.widget-view+json": {
       "model_id": "ab54754016394631b7d120215c8273b2",
       "version_major": 2,
       "version_minor": 0
      },
      "text/plain": [
       "Output()"
      ]
     },
     "metadata": {},
     "output_type": "display_data"
    },
    {
     "data": {
      "text/html": [
       "<pre style=\"white-space:pre;overflow-x:auto;line-height:normal;font-family:Menlo,'DejaVu Sans Mono',consolas,'Courier New',monospace\"></pre>\n"
      ],
      "text/plain": []
     },
     "metadata": {},
     "output_type": "display_data"
    },
    {
     "data": {
      "application/vnd.jupyter.widget-view+json": {
       "model_id": "bcd74239e2be44a7b84a31bffc752243",
       "version_major": 2,
       "version_minor": 0
      },
      "text/plain": [
       "Output()"
      ]
     },
     "metadata": {},
     "output_type": "display_data"
    },
    {
     "data": {
      "text/html": [
       "<pre style=\"white-space:pre;overflow-x:auto;line-height:normal;font-family:Menlo,'DejaVu Sans Mono',consolas,'Courier New',monospace\"></pre>\n"
      ],
      "text/plain": []
     },
     "metadata": {},
     "output_type": "display_data"
    },
    {
     "data": {
      "application/vnd.jupyter.widget-view+json": {
       "model_id": "5f416c08640e42a9a75afeefbcc36eaa",
       "version_major": 2,
       "version_minor": 0
      },
      "text/plain": [
       "Output()"
      ]
     },
     "metadata": {},
     "output_type": "display_data"
    },
    {
     "data": {
      "text/html": [
       "<pre style=\"white-space:pre;overflow-x:auto;line-height:normal;font-family:Menlo,'DejaVu Sans Mono',consolas,'Courier New',monospace\"></pre>\n"
      ],
      "text/plain": []
     },
     "metadata": {},
     "output_type": "display_data"
    },
    {
     "data": {
      "application/vnd.jupyter.widget-view+json": {
       "model_id": "c4c1b1ce0acf44f480bff973698d405a",
       "version_major": 2,
       "version_minor": 0
      },
      "text/plain": [
       "Output()"
      ]
     },
     "metadata": {},
     "output_type": "display_data"
    },
    {
     "data": {
      "text/html": [
       "<pre style=\"white-space:pre;overflow-x:auto;line-height:normal;font-family:Menlo,'DejaVu Sans Mono',consolas,'Courier New',monospace\"></pre>\n"
      ],
      "text/plain": []
     },
     "metadata": {},
     "output_type": "display_data"
    },
    {
     "data": {
      "application/vnd.jupyter.widget-view+json": {
       "model_id": "297d342cff734aefbfa4132111227c97",
       "version_major": 2,
       "version_minor": 0
      },
      "text/plain": [
       "Output()"
      ]
     },
     "metadata": {},
     "output_type": "display_data"
    },
    {
     "data": {
      "text/html": [
       "<pre style=\"white-space:pre;overflow-x:auto;line-height:normal;font-family:Menlo,'DejaVu Sans Mono',consolas,'Courier New',monospace\"></pre>\n"
      ],
      "text/plain": []
     },
     "metadata": {},
     "output_type": "display_data"
    },
    {
     "data": {
      "application/vnd.jupyter.widget-view+json": {
       "model_id": "5ded939dfb204876a8d1474f55ad70ef",
       "version_major": 2,
       "version_minor": 0
      },
      "text/plain": [
       "Output()"
      ]
     },
     "metadata": {},
     "output_type": "display_data"
    },
    {
     "data": {
      "text/html": [
       "<pre style=\"white-space:pre;overflow-x:auto;line-height:normal;font-family:Menlo,'DejaVu Sans Mono',consolas,'Courier New',monospace\"></pre>\n"
      ],
      "text/plain": []
     },
     "metadata": {},
     "output_type": "display_data"
    },
    {
     "data": {
      "application/vnd.jupyter.widget-view+json": {
       "model_id": "6a70f8873e254c38bc96bf6aebf182b0",
       "version_major": 2,
       "version_minor": 0
      },
      "text/plain": [
       "Output()"
      ]
     },
     "metadata": {},
     "output_type": "display_data"
    },
    {
     "data": {
      "text/html": [
       "<pre style=\"white-space:pre;overflow-x:auto;line-height:normal;font-family:Menlo,'DejaVu Sans Mono',consolas,'Courier New',monospace\"></pre>\n"
      ],
      "text/plain": []
     },
     "metadata": {},
     "output_type": "display_data"
    },
    {
     "data": {
      "application/vnd.jupyter.widget-view+json": {
       "model_id": "5ddf7e958cad414e8092a7a8f3fe1c81",
       "version_major": 2,
       "version_minor": 0
      },
      "text/plain": [
       "Output()"
      ]
     },
     "metadata": {},
     "output_type": "display_data"
    },
    {
     "data": {
      "text/html": [
       "<pre style=\"white-space:pre;overflow-x:auto;line-height:normal;font-family:Menlo,'DejaVu Sans Mono',consolas,'Courier New',monospace\"></pre>\n"
      ],
      "text/plain": []
     },
     "metadata": {},
     "output_type": "display_data"
    },
    {
     "data": {
      "application/vnd.jupyter.widget-view+json": {
       "model_id": "2fc1b665d59149e78f761ff5724d73ef",
       "version_major": 2,
       "version_minor": 0
      },
      "text/plain": [
       "Output()"
      ]
     },
     "metadata": {},
     "output_type": "display_data"
    },
    {
     "data": {
      "text/html": [
       "<pre style=\"white-space:pre;overflow-x:auto;line-height:normal;font-family:Menlo,'DejaVu Sans Mono',consolas,'Courier New',monospace\"></pre>\n"
      ],
      "text/plain": []
     },
     "metadata": {},
     "output_type": "display_data"
    },
    {
     "data": {
      "application/vnd.jupyter.widget-view+json": {
       "model_id": "af4e7a60580148cb8e31ae0007046a12",
       "version_major": 2,
       "version_minor": 0
      },
      "text/plain": [
       "Output()"
      ]
     },
     "metadata": {},
     "output_type": "display_data"
    },
    {
     "data": {
      "text/html": [
       "<pre style=\"white-space:pre;overflow-x:auto;line-height:normal;font-family:Menlo,'DejaVu Sans Mono',consolas,'Courier New',monospace\"></pre>\n"
      ],
      "text/plain": []
     },
     "metadata": {},
     "output_type": "display_data"
    },
    {
     "data": {
      "application/vnd.jupyter.widget-view+json": {
       "model_id": "ff92eb4f473f431686ba1921208cb9e4",
       "version_major": 2,
       "version_minor": 0
      },
      "text/plain": [
       "Output()"
      ]
     },
     "metadata": {},
     "output_type": "display_data"
    },
    {
     "data": {
      "text/html": [
       "<pre style=\"white-space:pre;overflow-x:auto;line-height:normal;font-family:Menlo,'DejaVu Sans Mono',consolas,'Courier New',monospace\"></pre>\n"
      ],
      "text/plain": []
     },
     "metadata": {},
     "output_type": "display_data"
    },
    {
     "data": {
      "application/vnd.jupyter.widget-view+json": {
       "model_id": "4f53ecf719ef49ee92d219a13c151c27",
       "version_major": 2,
       "version_minor": 0
      },
      "text/plain": [
       "Output()"
      ]
     },
     "metadata": {},
     "output_type": "display_data"
    },
    {
     "data": {
      "text/html": [
       "<pre style=\"white-space:pre;overflow-x:auto;line-height:normal;font-family:Menlo,'DejaVu Sans Mono',consolas,'Courier New',monospace\"></pre>\n"
      ],
      "text/plain": []
     },
     "metadata": {},
     "output_type": "display_data"
    },
    {
     "data": {
      "application/vnd.jupyter.widget-view+json": {
       "model_id": "c62cc41ad1274e9683038c180b0a6178",
       "version_major": 2,
       "version_minor": 0
      },
      "text/plain": [
       "Output()"
      ]
     },
     "metadata": {},
     "output_type": "display_data"
    },
    {
     "data": {
      "text/html": [
       "<pre style=\"white-space:pre;overflow-x:auto;line-height:normal;font-family:Menlo,'DejaVu Sans Mono',consolas,'Courier New',monospace\"></pre>\n"
      ],
      "text/plain": []
     },
     "metadata": {},
     "output_type": "display_data"
    },
    {
     "data": {
      "application/vnd.jupyter.widget-view+json": {
       "model_id": "f7bff4aebd204627a3bffca865a33e10",
       "version_major": 2,
       "version_minor": 0
      },
      "text/plain": [
       "Output()"
      ]
     },
     "metadata": {},
     "output_type": "display_data"
    },
    {
     "data": {
      "text/html": [
       "<pre style=\"white-space:pre;overflow-x:auto;line-height:normal;font-family:Menlo,'DejaVu Sans Mono',consolas,'Courier New',monospace\"></pre>\n"
      ],
      "text/plain": []
     },
     "metadata": {},
     "output_type": "display_data"
    },
    {
     "data": {
      "application/vnd.jupyter.widget-view+json": {
       "model_id": "431acb7ac8e943a4857f98cf872851d6",
       "version_major": 2,
       "version_minor": 0
      },
      "text/plain": [
       "Output()"
      ]
     },
     "metadata": {},
     "output_type": "display_data"
    },
    {
     "data": {
      "text/html": [
       "<pre style=\"white-space:pre;overflow-x:auto;line-height:normal;font-family:Menlo,'DejaVu Sans Mono',consolas,'Courier New',monospace\"></pre>\n"
      ],
      "text/plain": []
     },
     "metadata": {},
     "output_type": "display_data"
    },
    {
     "data": {
      "application/vnd.jupyter.widget-view+json": {
       "model_id": "442788fecb054f0dbd5cf817c68a29d8",
       "version_major": 2,
       "version_minor": 0
      },
      "text/plain": [
       "Output()"
      ]
     },
     "metadata": {},
     "output_type": "display_data"
    },
    {
     "data": {
      "text/html": [
       "<pre style=\"white-space:pre;overflow-x:auto;line-height:normal;font-family:Menlo,'DejaVu Sans Mono',consolas,'Courier New',monospace\"></pre>\n"
      ],
      "text/plain": []
     },
     "metadata": {},
     "output_type": "display_data"
    },
    {
     "data": {
      "application/vnd.jupyter.widget-view+json": {
       "model_id": "7c1cd4d7a9574b9bb90c5c0ef56de6f8",
       "version_major": 2,
       "version_minor": 0
      },
      "text/plain": [
       "Output()"
      ]
     },
     "metadata": {},
     "output_type": "display_data"
    },
    {
     "data": {
      "text/html": [
       "<pre style=\"white-space:pre;overflow-x:auto;line-height:normal;font-family:Menlo,'DejaVu Sans Mono',consolas,'Courier New',monospace\"></pre>\n"
      ],
      "text/plain": []
     },
     "metadata": {},
     "output_type": "display_data"
    },
    {
     "data": {
      "application/vnd.jupyter.widget-view+json": {
       "model_id": "97d1d67d1d234c8fa1ddc8212877afe7",
       "version_major": 2,
       "version_minor": 0
      },
      "text/plain": [
       "Output()"
      ]
     },
     "metadata": {},
     "output_type": "display_data"
    },
    {
     "data": {
      "text/html": [
       "<pre style=\"white-space:pre;overflow-x:auto;line-height:normal;font-family:Menlo,'DejaVu Sans Mono',consolas,'Courier New',monospace\"></pre>\n"
      ],
      "text/plain": []
     },
     "metadata": {},
     "output_type": "display_data"
    },
    {
     "data": {
      "application/vnd.jupyter.widget-view+json": {
       "model_id": "97f10bf471234c6f962263c5d49a3a64",
       "version_major": 2,
       "version_minor": 0
      },
      "text/plain": [
       "Output()"
      ]
     },
     "metadata": {},
     "output_type": "display_data"
    },
    {
     "data": {
      "text/html": [
       "<pre style=\"white-space:pre;overflow-x:auto;line-height:normal;font-family:Menlo,'DejaVu Sans Mono',consolas,'Courier New',monospace\"></pre>\n"
      ],
      "text/plain": []
     },
     "metadata": {},
     "output_type": "display_data"
    },
    {
     "data": {
      "application/vnd.jupyter.widget-view+json": {
       "model_id": "82fce4201fb3470fa02f9fe4653f4f35",
       "version_major": 2,
       "version_minor": 0
      },
      "text/plain": [
       "Output()"
      ]
     },
     "metadata": {},
     "output_type": "display_data"
    },
    {
     "data": {
      "text/html": [
       "<pre style=\"white-space:pre;overflow-x:auto;line-height:normal;font-family:Menlo,'DejaVu Sans Mono',consolas,'Courier New',monospace\"></pre>\n"
      ],
      "text/plain": []
     },
     "metadata": {},
     "output_type": "display_data"
    },
    {
     "data": {
      "application/vnd.jupyter.widget-view+json": {
       "model_id": "4b78080f770b4434ab9aa2837bf2ac07",
       "version_major": 2,
       "version_minor": 0
      },
      "text/plain": [
       "Output()"
      ]
     },
     "metadata": {},
     "output_type": "display_data"
    },
    {
     "data": {
      "text/html": [
       "<pre style=\"white-space:pre;overflow-x:auto;line-height:normal;font-family:Menlo,'DejaVu Sans Mono',consolas,'Courier New',monospace\"></pre>\n"
      ],
      "text/plain": []
     },
     "metadata": {},
     "output_type": "display_data"
    },
    {
     "data": {
      "application/vnd.jupyter.widget-view+json": {
       "model_id": "25c6979400a74ed2a32ceebdb56aa634",
       "version_major": 2,
       "version_minor": 0
      },
      "text/plain": [
       "Output()"
      ]
     },
     "metadata": {},
     "output_type": "display_data"
    },
    {
     "data": {
      "text/html": [
       "<pre style=\"white-space:pre;overflow-x:auto;line-height:normal;font-family:Menlo,'DejaVu Sans Mono',consolas,'Courier New',monospace\"></pre>\n"
      ],
      "text/plain": []
     },
     "metadata": {},
     "output_type": "display_data"
    },
    {
     "data": {
      "application/vnd.jupyter.widget-view+json": {
       "model_id": "366f7505ddae4d52b8930dae884a02e3",
       "version_major": 2,
       "version_minor": 0
      },
      "text/plain": [
       "Output()"
      ]
     },
     "metadata": {},
     "output_type": "display_data"
    },
    {
     "data": {
      "text/html": [
       "<pre style=\"white-space:pre;overflow-x:auto;line-height:normal;font-family:Menlo,'DejaVu Sans Mono',consolas,'Courier New',monospace\"></pre>\n"
      ],
      "text/plain": []
     },
     "metadata": {},
     "output_type": "display_data"
    },
    {
     "data": {
      "application/vnd.jupyter.widget-view+json": {
       "model_id": "87efc74c04ab4382a694b129ede1aa18",
       "version_major": 2,
       "version_minor": 0
      },
      "text/plain": [
       "Output()"
      ]
     },
     "metadata": {},
     "output_type": "display_data"
    },
    {
     "data": {
      "text/html": [
       "<pre style=\"white-space:pre;overflow-x:auto;line-height:normal;font-family:Menlo,'DejaVu Sans Mono',consolas,'Courier New',monospace\"></pre>\n"
      ],
      "text/plain": []
     },
     "metadata": {},
     "output_type": "display_data"
    },
    {
     "data": {
      "application/vnd.jupyter.widget-view+json": {
       "model_id": "0bad077e662642018c7507c268aeb1e0",
       "version_major": 2,
       "version_minor": 0
      },
      "text/plain": [
       "Output()"
      ]
     },
     "metadata": {},
     "output_type": "display_data"
    },
    {
     "data": {
      "text/html": [
       "<pre style=\"white-space:pre;overflow-x:auto;line-height:normal;font-family:Menlo,'DejaVu Sans Mono',consolas,'Courier New',monospace\"></pre>\n"
      ],
      "text/plain": []
     },
     "metadata": {},
     "output_type": "display_data"
    },
    {
     "data": {
      "application/vnd.jupyter.widget-view+json": {
       "model_id": "c5745ed5259344d9b9e6bf1d367dd757",
       "version_major": 2,
       "version_minor": 0
      },
      "text/plain": [
       "Output()"
      ]
     },
     "metadata": {},
     "output_type": "display_data"
    },
    {
     "data": {
      "text/html": [
       "<pre style=\"white-space:pre;overflow-x:auto;line-height:normal;font-family:Menlo,'DejaVu Sans Mono',consolas,'Courier New',monospace\"></pre>\n"
      ],
      "text/plain": []
     },
     "metadata": {},
     "output_type": "display_data"
    },
    {
     "data": {
      "application/vnd.jupyter.widget-view+json": {
       "model_id": "d06a7004770c4158b4830c3fc428d6ff",
       "version_major": 2,
       "version_minor": 0
      },
      "text/plain": [
       "Output()"
      ]
     },
     "metadata": {},
     "output_type": "display_data"
    },
    {
     "data": {
      "text/html": [
       "<pre style=\"white-space:pre;overflow-x:auto;line-height:normal;font-family:Menlo,'DejaVu Sans Mono',consolas,'Courier New',monospace\"></pre>\n"
      ],
      "text/plain": []
     },
     "metadata": {},
     "output_type": "display_data"
    },
    {
     "data": {
      "application/vnd.jupyter.widget-view+json": {
       "model_id": "36e5086c847848ed898cd1a1f7990273",
       "version_major": 2,
       "version_minor": 0
      },
      "text/plain": [
       "Output()"
      ]
     },
     "metadata": {},
     "output_type": "display_data"
    },
    {
     "data": {
      "text/html": [
       "<pre style=\"white-space:pre;overflow-x:auto;line-height:normal;font-family:Menlo,'DejaVu Sans Mono',consolas,'Courier New',monospace\"></pre>\n"
      ],
      "text/plain": []
     },
     "metadata": {},
     "output_type": "display_data"
    },
    {
     "data": {
      "application/vnd.jupyter.widget-view+json": {
       "model_id": "ed39963c330947928325eb22c6e96af9",
       "version_major": 2,
       "version_minor": 0
      },
      "text/plain": [
       "Output()"
      ]
     },
     "metadata": {},
     "output_type": "display_data"
    },
    {
     "data": {
      "text/html": [
       "<pre style=\"white-space:pre;overflow-x:auto;line-height:normal;font-family:Menlo,'DejaVu Sans Mono',consolas,'Courier New',monospace\"></pre>\n"
      ],
      "text/plain": []
     },
     "metadata": {},
     "output_type": "display_data"
    },
    {
     "data": {
      "application/vnd.jupyter.widget-view+json": {
       "model_id": "7b97cd8752474410a4d333bbf209b6d6",
       "version_major": 2,
       "version_minor": 0
      },
      "text/plain": [
       "Output()"
      ]
     },
     "metadata": {},
     "output_type": "display_data"
    },
    {
     "data": {
      "text/html": [
       "<pre style=\"white-space:pre;overflow-x:auto;line-height:normal;font-family:Menlo,'DejaVu Sans Mono',consolas,'Courier New',monospace\"></pre>\n"
      ],
      "text/plain": []
     },
     "metadata": {},
     "output_type": "display_data"
    },
    {
     "data": {
      "application/vnd.jupyter.widget-view+json": {
       "model_id": "44770f7875a043909342e07d1054a15a",
       "version_major": 2,
       "version_minor": 0
      },
      "text/plain": [
       "Output()"
      ]
     },
     "metadata": {},
     "output_type": "display_data"
    },
    {
     "data": {
      "text/html": [
       "<pre style=\"white-space:pre;overflow-x:auto;line-height:normal;font-family:Menlo,'DejaVu Sans Mono',consolas,'Courier New',monospace\"></pre>\n"
      ],
      "text/plain": []
     },
     "metadata": {},
     "output_type": "display_data"
    },
    {
     "data": {
      "application/vnd.jupyter.widget-view+json": {
       "model_id": "67c50571786d4a419b278c03ecfdf4a6",
       "version_major": 2,
       "version_minor": 0
      },
      "text/plain": [
       "Output()"
      ]
     },
     "metadata": {},
     "output_type": "display_data"
    },
    {
     "data": {
      "text/html": [
       "<pre style=\"white-space:pre;overflow-x:auto;line-height:normal;font-family:Menlo,'DejaVu Sans Mono',consolas,'Courier New',monospace\"></pre>\n"
      ],
      "text/plain": []
     },
     "metadata": {},
     "output_type": "display_data"
    },
    {
     "data": {
      "application/vnd.jupyter.widget-view+json": {
       "model_id": "54a7743348f147aa852b7d0346728ec4",
       "version_major": 2,
       "version_minor": 0
      },
      "text/plain": [
       "Output()"
      ]
     },
     "metadata": {},
     "output_type": "display_data"
    },
    {
     "data": {
      "text/html": [
       "<pre style=\"white-space:pre;overflow-x:auto;line-height:normal;font-family:Menlo,'DejaVu Sans Mono',consolas,'Courier New',monospace\"></pre>\n"
      ],
      "text/plain": []
     },
     "metadata": {},
     "output_type": "display_data"
    },
    {
     "data": {
      "application/vnd.jupyter.widget-view+json": {
       "model_id": "2573fdc0deb541f3ae007e911d3ff591",
       "version_major": 2,
       "version_minor": 0
      },
      "text/plain": [
       "Output()"
      ]
     },
     "metadata": {},
     "output_type": "display_data"
    },
    {
     "data": {
      "text/html": [
       "<pre style=\"white-space:pre;overflow-x:auto;line-height:normal;font-family:Menlo,'DejaVu Sans Mono',consolas,'Courier New',monospace\"></pre>\n"
      ],
      "text/plain": []
     },
     "metadata": {},
     "output_type": "display_data"
    },
    {
     "data": {
      "application/vnd.jupyter.widget-view+json": {
       "model_id": "781044884369478a94a2776541f348ac",
       "version_major": 2,
       "version_minor": 0
      },
      "text/plain": [
       "Output()"
      ]
     },
     "metadata": {},
     "output_type": "display_data"
    },
    {
     "data": {
      "text/html": [
       "<pre style=\"white-space:pre;overflow-x:auto;line-height:normal;font-family:Menlo,'DejaVu Sans Mono',consolas,'Courier New',monospace\"></pre>\n"
      ],
      "text/plain": []
     },
     "metadata": {},
     "output_type": "display_data"
    },
    {
     "data": {
      "application/vnd.jupyter.widget-view+json": {
       "model_id": "966cda3b296646808d838d39ba497efa",
       "version_major": 2,
       "version_minor": 0
      },
      "text/plain": [
       "Output()"
      ]
     },
     "metadata": {},
     "output_type": "display_data"
    },
    {
     "data": {
      "text/html": [
       "<pre style=\"white-space:pre;overflow-x:auto;line-height:normal;font-family:Menlo,'DejaVu Sans Mono',consolas,'Courier New',monospace\"></pre>\n"
      ],
      "text/plain": []
     },
     "metadata": {},
     "output_type": "display_data"
    },
    {
     "data": {
      "application/vnd.jupyter.widget-view+json": {
       "model_id": "9a281170712c4a408d8520cf75b5ca24",
       "version_major": 2,
       "version_minor": 0
      },
      "text/plain": [
       "Output()"
      ]
     },
     "metadata": {},
     "output_type": "display_data"
    },
    {
     "data": {
      "text/html": [
       "<pre style=\"white-space:pre;overflow-x:auto;line-height:normal;font-family:Menlo,'DejaVu Sans Mono',consolas,'Courier New',monospace\"></pre>\n"
      ],
      "text/plain": []
     },
     "metadata": {},
     "output_type": "display_data"
    },
    {
     "data": {
      "application/vnd.jupyter.widget-view+json": {
       "model_id": "b6074894ab5346d1b358c3ab6b1cb126",
       "version_major": 2,
       "version_minor": 0
      },
      "text/plain": [
       "Output()"
      ]
     },
     "metadata": {},
     "output_type": "display_data"
    },
    {
     "data": {
      "text/html": [
       "<pre style=\"white-space:pre;overflow-x:auto;line-height:normal;font-family:Menlo,'DejaVu Sans Mono',consolas,'Courier New',monospace\"></pre>\n"
      ],
      "text/plain": []
     },
     "metadata": {},
     "output_type": "display_data"
    },
    {
     "data": {
      "application/vnd.jupyter.widget-view+json": {
       "model_id": "b42396c1efa74bbc98a867dc196896d4",
       "version_major": 2,
       "version_minor": 0
      },
      "text/plain": [
       "Output()"
      ]
     },
     "metadata": {},
     "output_type": "display_data"
    },
    {
     "data": {
      "text/html": [
       "<pre style=\"white-space:pre;overflow-x:auto;line-height:normal;font-family:Menlo,'DejaVu Sans Mono',consolas,'Courier New',monospace\"></pre>\n"
      ],
      "text/plain": []
     },
     "metadata": {},
     "output_type": "display_data"
    },
    {
     "data": {
      "application/vnd.jupyter.widget-view+json": {
       "model_id": "8c30bbbcc9b349b4aedd08b669315db7",
       "version_major": 2,
       "version_minor": 0
      },
      "text/plain": [
       "Output()"
      ]
     },
     "metadata": {},
     "output_type": "display_data"
    },
    {
     "data": {
      "text/html": [
       "<pre style=\"white-space:pre;overflow-x:auto;line-height:normal;font-family:Menlo,'DejaVu Sans Mono',consolas,'Courier New',monospace\"></pre>\n"
      ],
      "text/plain": []
     },
     "metadata": {},
     "output_type": "display_data"
    },
    {
     "data": {
      "application/vnd.jupyter.widget-view+json": {
       "model_id": "d2629735406043a3b92c99576667045c",
       "version_major": 2,
       "version_minor": 0
      },
      "text/plain": [
       "Output()"
      ]
     },
     "metadata": {},
     "output_type": "display_data"
    },
    {
     "data": {
      "text/html": [
       "<pre style=\"white-space:pre;overflow-x:auto;line-height:normal;font-family:Menlo,'DejaVu Sans Mono',consolas,'Courier New',monospace\"></pre>\n"
      ],
      "text/plain": []
     },
     "metadata": {},
     "output_type": "display_data"
    },
    {
     "data": {
      "application/vnd.jupyter.widget-view+json": {
       "model_id": "6d9e26b29f0a4edda294a354e13c4d86",
       "version_major": 2,
       "version_minor": 0
      },
      "text/plain": [
       "Output()"
      ]
     },
     "metadata": {},
     "output_type": "display_data"
    },
    {
     "data": {
      "text/html": [
       "<pre style=\"white-space:pre;overflow-x:auto;line-height:normal;font-family:Menlo,'DejaVu Sans Mono',consolas,'Courier New',monospace\"></pre>\n"
      ],
      "text/plain": []
     },
     "metadata": {},
     "output_type": "display_data"
    },
    {
     "data": {
      "application/vnd.jupyter.widget-view+json": {
       "model_id": "d01886fcfdee46f3897af50d01156fc6",
       "version_major": 2,
       "version_minor": 0
      },
      "text/plain": [
       "Output()"
      ]
     },
     "metadata": {},
     "output_type": "display_data"
    },
    {
     "data": {
      "text/html": [
       "<pre style=\"white-space:pre;overflow-x:auto;line-height:normal;font-family:Menlo,'DejaVu Sans Mono',consolas,'Courier New',monospace\"></pre>\n"
      ],
      "text/plain": []
     },
     "metadata": {},
     "output_type": "display_data"
    },
    {
     "data": {
      "application/vnd.jupyter.widget-view+json": {
       "model_id": "c94d77f45a164df48bee2e6201b14c11",
       "version_major": 2,
       "version_minor": 0
      },
      "text/plain": [
       "Output()"
      ]
     },
     "metadata": {},
     "output_type": "display_data"
    },
    {
     "data": {
      "text/html": [
       "<pre style=\"white-space:pre;overflow-x:auto;line-height:normal;font-family:Menlo,'DejaVu Sans Mono',consolas,'Courier New',monospace\"></pre>\n"
      ],
      "text/plain": []
     },
     "metadata": {},
     "output_type": "display_data"
    },
    {
     "data": {
      "application/vnd.jupyter.widget-view+json": {
       "model_id": "776e66c500254dceaf1df25bf312fba0",
       "version_major": 2,
       "version_minor": 0
      },
      "text/plain": [
       "Output()"
      ]
     },
     "metadata": {},
     "output_type": "display_data"
    },
    {
     "data": {
      "text/html": [
       "<pre style=\"white-space:pre;overflow-x:auto;line-height:normal;font-family:Menlo,'DejaVu Sans Mono',consolas,'Courier New',monospace\"></pre>\n"
      ],
      "text/plain": []
     },
     "metadata": {},
     "output_type": "display_data"
    },
    {
     "data": {
      "application/vnd.jupyter.widget-view+json": {
       "model_id": "434af52abe2642bc9b3bb6e7925a1b61",
       "version_major": 2,
       "version_minor": 0
      },
      "text/plain": [
       "Output()"
      ]
     },
     "metadata": {},
     "output_type": "display_data"
    },
    {
     "data": {
      "text/html": [
       "<pre style=\"white-space:pre;overflow-x:auto;line-height:normal;font-family:Menlo,'DejaVu Sans Mono',consolas,'Courier New',monospace\"></pre>\n"
      ],
      "text/plain": []
     },
     "metadata": {},
     "output_type": "display_data"
    },
    {
     "data": {
      "application/vnd.jupyter.widget-view+json": {
       "model_id": "fccadb81177f4292a48fcf1b0d1b8966",
       "version_major": 2,
       "version_minor": 0
      },
      "text/plain": [
       "Output()"
      ]
     },
     "metadata": {},
     "output_type": "display_data"
    },
    {
     "data": {
      "text/html": [
       "<pre style=\"white-space:pre;overflow-x:auto;line-height:normal;font-family:Menlo,'DejaVu Sans Mono',consolas,'Courier New',monospace\"></pre>\n"
      ],
      "text/plain": []
     },
     "metadata": {},
     "output_type": "display_data"
    },
    {
     "data": {
      "application/vnd.jupyter.widget-view+json": {
       "model_id": "bbaee0dad84e48cfb34a2cc0db87d105",
       "version_major": 2,
       "version_minor": 0
      },
      "text/plain": [
       "Output()"
      ]
     },
     "metadata": {},
     "output_type": "display_data"
    },
    {
     "data": {
      "text/html": [
       "<pre style=\"white-space:pre;overflow-x:auto;line-height:normal;font-family:Menlo,'DejaVu Sans Mono',consolas,'Courier New',monospace\"></pre>\n"
      ],
      "text/plain": []
     },
     "metadata": {},
     "output_type": "display_data"
    },
    {
     "data": {
      "application/vnd.jupyter.widget-view+json": {
       "model_id": "ccccb5c11a214e3fa1d7cd54d12b8007",
       "version_major": 2,
       "version_minor": 0
      },
      "text/plain": [
       "Output()"
      ]
     },
     "metadata": {},
     "output_type": "display_data"
    },
    {
     "data": {
      "text/html": [
       "<pre style=\"white-space:pre;overflow-x:auto;line-height:normal;font-family:Menlo,'DejaVu Sans Mono',consolas,'Courier New',monospace\"></pre>\n"
      ],
      "text/plain": []
     },
     "metadata": {},
     "output_type": "display_data"
    },
    {
     "data": {
      "application/vnd.jupyter.widget-view+json": {
       "model_id": "4a2133a831424f06b6b76658b36b7379",
       "version_major": 2,
       "version_minor": 0
      },
      "text/plain": [
       "Output()"
      ]
     },
     "metadata": {},
     "output_type": "display_data"
    },
    {
     "data": {
      "text/html": [
       "<pre style=\"white-space:pre;overflow-x:auto;line-height:normal;font-family:Menlo,'DejaVu Sans Mono',consolas,'Courier New',monospace\"></pre>\n"
      ],
      "text/plain": []
     },
     "metadata": {},
     "output_type": "display_data"
    },
    {
     "data": {
      "application/vnd.jupyter.widget-view+json": {
       "model_id": "08b248f6fa864633b34f326d996c8d19",
       "version_major": 2,
       "version_minor": 0
      },
      "text/plain": [
       "Output()"
      ]
     },
     "metadata": {},
     "output_type": "display_data"
    },
    {
     "data": {
      "text/html": [
       "<pre style=\"white-space:pre;overflow-x:auto;line-height:normal;font-family:Menlo,'DejaVu Sans Mono',consolas,'Courier New',monospace\"></pre>\n"
      ],
      "text/plain": []
     },
     "metadata": {},
     "output_type": "display_data"
    },
    {
     "data": {
      "application/vnd.jupyter.widget-view+json": {
       "model_id": "ba2d431a4b844743b15cc15c2d95b098",
       "version_major": 2,
       "version_minor": 0
      },
      "text/plain": [
       "Output()"
      ]
     },
     "metadata": {},
     "output_type": "display_data"
    },
    {
     "data": {
      "text/html": [
       "<pre style=\"white-space:pre;overflow-x:auto;line-height:normal;font-family:Menlo,'DejaVu Sans Mono',consolas,'Courier New',monospace\"></pre>\n"
      ],
      "text/plain": []
     },
     "metadata": {},
     "output_type": "display_data"
    },
    {
     "data": {
      "application/vnd.jupyter.widget-view+json": {
       "model_id": "bc8fd463f1e647d4bbb74dd6c4d12938",
       "version_major": 2,
       "version_minor": 0
      },
      "text/plain": [
       "Output()"
      ]
     },
     "metadata": {},
     "output_type": "display_data"
    },
    {
     "data": {
      "text/html": [
       "<pre style=\"white-space:pre;overflow-x:auto;line-height:normal;font-family:Menlo,'DejaVu Sans Mono',consolas,'Courier New',monospace\"></pre>\n"
      ],
      "text/plain": []
     },
     "metadata": {},
     "output_type": "display_data"
    },
    {
     "data": {
      "application/vnd.jupyter.widget-view+json": {
       "model_id": "b9b585c2824c4336aecff320380df7ae",
       "version_major": 2,
       "version_minor": 0
      },
      "text/plain": [
       "Output()"
      ]
     },
     "metadata": {},
     "output_type": "display_data"
    },
    {
     "data": {
      "text/html": [
       "<pre style=\"white-space:pre;overflow-x:auto;line-height:normal;font-family:Menlo,'DejaVu Sans Mono',consolas,'Courier New',monospace\"></pre>\n"
      ],
      "text/plain": []
     },
     "metadata": {},
     "output_type": "display_data"
    },
    {
     "data": {
      "application/vnd.jupyter.widget-view+json": {
       "model_id": "cab4346596254fd98fd6d8071b2f775c",
       "version_major": 2,
       "version_minor": 0
      },
      "text/plain": [
       "Output()"
      ]
     },
     "metadata": {},
     "output_type": "display_data"
    },
    {
     "data": {
      "text/html": [
       "<pre style=\"white-space:pre;overflow-x:auto;line-height:normal;font-family:Menlo,'DejaVu Sans Mono',consolas,'Courier New',monospace\"></pre>\n"
      ],
      "text/plain": []
     },
     "metadata": {},
     "output_type": "display_data"
    },
    {
     "data": {
      "application/vnd.jupyter.widget-view+json": {
       "model_id": "b7e848da57a5489283632026e824c138",
       "version_major": 2,
       "version_minor": 0
      },
      "text/plain": [
       "Output()"
      ]
     },
     "metadata": {},
     "output_type": "display_data"
    },
    {
     "data": {
      "text/html": [
       "<pre style=\"white-space:pre;overflow-x:auto;line-height:normal;font-family:Menlo,'DejaVu Sans Mono',consolas,'Courier New',monospace\"></pre>\n"
      ],
      "text/plain": []
     },
     "metadata": {},
     "output_type": "display_data"
    },
    {
     "data": {
      "application/vnd.jupyter.widget-view+json": {
       "model_id": "14eeca98d4744ad69835e36ef608cd47",
       "version_major": 2,
       "version_minor": 0
      },
      "text/plain": [
       "Output()"
      ]
     },
     "metadata": {},
     "output_type": "display_data"
    },
    {
     "data": {
      "text/html": [
       "<pre style=\"white-space:pre;overflow-x:auto;line-height:normal;font-family:Menlo,'DejaVu Sans Mono',consolas,'Courier New',monospace\"></pre>\n"
      ],
      "text/plain": []
     },
     "metadata": {},
     "output_type": "display_data"
    },
    {
     "data": {
      "application/vnd.jupyter.widget-view+json": {
       "model_id": "612f1d034cdb425b98387d3a08aac737",
       "version_major": 2,
       "version_minor": 0
      },
      "text/plain": [
       "Output()"
      ]
     },
     "metadata": {},
     "output_type": "display_data"
    },
    {
     "data": {
      "text/html": [
       "<pre style=\"white-space:pre;overflow-x:auto;line-height:normal;font-family:Menlo,'DejaVu Sans Mono',consolas,'Courier New',monospace\"></pre>\n"
      ],
      "text/plain": []
     },
     "metadata": {},
     "output_type": "display_data"
    },
    {
     "data": {
      "application/vnd.jupyter.widget-view+json": {
       "model_id": "36d2267894a6472c9baa2cf55fd74d37",
       "version_major": 2,
       "version_minor": 0
      },
      "text/plain": [
       "Output()"
      ]
     },
     "metadata": {},
     "output_type": "display_data"
    },
    {
     "data": {
      "text/html": [
       "<pre style=\"white-space:pre;overflow-x:auto;line-height:normal;font-family:Menlo,'DejaVu Sans Mono',consolas,'Courier New',monospace\"></pre>\n"
      ],
      "text/plain": []
     },
     "metadata": {},
     "output_type": "display_data"
    },
    {
     "data": {
      "application/vnd.jupyter.widget-view+json": {
       "model_id": "7de27f72ce914a528d66312808a7d52d",
       "version_major": 2,
       "version_minor": 0
      },
      "text/plain": [
       "Output()"
      ]
     },
     "metadata": {},
     "output_type": "display_data"
    },
    {
     "data": {
      "text/html": [
       "<pre style=\"white-space:pre;overflow-x:auto;line-height:normal;font-family:Menlo,'DejaVu Sans Mono',consolas,'Courier New',monospace\"></pre>\n"
      ],
      "text/plain": []
     },
     "metadata": {},
     "output_type": "display_data"
    },
    {
     "data": {
      "application/vnd.jupyter.widget-view+json": {
       "model_id": "300f3f5f91584c97a9cc32a1a70663a5",
       "version_major": 2,
       "version_minor": 0
      },
      "text/plain": [
       "Output()"
      ]
     },
     "metadata": {},
     "output_type": "display_data"
    },
    {
     "data": {
      "text/html": [
       "<pre style=\"white-space:pre;overflow-x:auto;line-height:normal;font-family:Menlo,'DejaVu Sans Mono',consolas,'Courier New',monospace\"></pre>\n"
      ],
      "text/plain": []
     },
     "metadata": {},
     "output_type": "display_data"
    },
    {
     "data": {
      "application/vnd.jupyter.widget-view+json": {
       "model_id": "865fc84f14d349f2b731f402159dec3e",
       "version_major": 2,
       "version_minor": 0
      },
      "text/plain": [
       "Output()"
      ]
     },
     "metadata": {},
     "output_type": "display_data"
    },
    {
     "data": {
      "text/html": [
       "<pre style=\"white-space:pre;overflow-x:auto;line-height:normal;font-family:Menlo,'DejaVu Sans Mono',consolas,'Courier New',monospace\"></pre>\n"
      ],
      "text/plain": []
     },
     "metadata": {},
     "output_type": "display_data"
    },
    {
     "data": {
      "application/vnd.jupyter.widget-view+json": {
       "model_id": "56e07ba47b44425fac048e431d81520b",
       "version_major": 2,
       "version_minor": 0
      },
      "text/plain": [
       "Output()"
      ]
     },
     "metadata": {},
     "output_type": "display_data"
    },
    {
     "data": {
      "text/html": [
       "<pre style=\"white-space:pre;overflow-x:auto;line-height:normal;font-family:Menlo,'DejaVu Sans Mono',consolas,'Courier New',monospace\"></pre>\n"
      ],
      "text/plain": []
     },
     "metadata": {},
     "output_type": "display_data"
    },
    {
     "data": {
      "application/vnd.jupyter.widget-view+json": {
       "model_id": "d6c7a0d82c2e47d6839233cbf16e3480",
       "version_major": 2,
       "version_minor": 0
      },
      "text/plain": [
       "Output()"
      ]
     },
     "metadata": {},
     "output_type": "display_data"
    },
    {
     "data": {
      "text/html": [
       "<pre style=\"white-space:pre;overflow-x:auto;line-height:normal;font-family:Menlo,'DejaVu Sans Mono',consolas,'Courier New',monospace\"></pre>\n"
      ],
      "text/plain": []
     },
     "metadata": {},
     "output_type": "display_data"
    },
    {
     "data": {
      "application/vnd.jupyter.widget-view+json": {
       "model_id": "a5a49ef1cf4048e59d34e090b36a7982",
       "version_major": 2,
       "version_minor": 0
      },
      "text/plain": [
       "Output()"
      ]
     },
     "metadata": {},
     "output_type": "display_data"
    },
    {
     "data": {
      "text/html": [
       "<pre style=\"white-space:pre;overflow-x:auto;line-height:normal;font-family:Menlo,'DejaVu Sans Mono',consolas,'Courier New',monospace\"></pre>\n"
      ],
      "text/plain": []
     },
     "metadata": {},
     "output_type": "display_data"
    },
    {
     "data": {
      "application/vnd.jupyter.widget-view+json": {
       "model_id": "eda51cf7e8cf4a23a14a034f4dbeba8b",
       "version_major": 2,
       "version_minor": 0
      },
      "text/plain": [
       "Output()"
      ]
     },
     "metadata": {},
     "output_type": "display_data"
    },
    {
     "data": {
      "text/html": [
       "<pre style=\"white-space:pre;overflow-x:auto;line-height:normal;font-family:Menlo,'DejaVu Sans Mono',consolas,'Courier New',monospace\"></pre>\n"
      ],
      "text/plain": []
     },
     "metadata": {},
     "output_type": "display_data"
    },
    {
     "data": {
      "application/vnd.jupyter.widget-view+json": {
       "model_id": "0efbc7acecf946ecb8c4eefb6684caf2",
       "version_major": 2,
       "version_minor": 0
      },
      "text/plain": [
       "Output()"
      ]
     },
     "metadata": {},
     "output_type": "display_data"
    },
    {
     "data": {
      "text/html": [
       "<pre style=\"white-space:pre;overflow-x:auto;line-height:normal;font-family:Menlo,'DejaVu Sans Mono',consolas,'Courier New',monospace\"></pre>\n"
      ],
      "text/plain": []
     },
     "metadata": {},
     "output_type": "display_data"
    },
    {
     "data": {
      "application/vnd.jupyter.widget-view+json": {
       "model_id": "e10016b0ac7e4945a2368ee2bd94a5aa",
       "version_major": 2,
       "version_minor": 0
      },
      "text/plain": [
       "Output()"
      ]
     },
     "metadata": {},
     "output_type": "display_data"
    },
    {
     "data": {
      "text/html": [
       "<pre style=\"white-space:pre;overflow-x:auto;line-height:normal;font-family:Menlo,'DejaVu Sans Mono',consolas,'Courier New',monospace\"></pre>\n"
      ],
      "text/plain": []
     },
     "metadata": {},
     "output_type": "display_data"
    },
    {
     "data": {
      "application/vnd.jupyter.widget-view+json": {
       "model_id": "016c76b8a21f47d5a60cf1fb5424a168",
       "version_major": 2,
       "version_minor": 0
      },
      "text/plain": [
       "Output()"
      ]
     },
     "metadata": {},
     "output_type": "display_data"
    },
    {
     "data": {
      "text/html": [
       "<pre style=\"white-space:pre;overflow-x:auto;line-height:normal;font-family:Menlo,'DejaVu Sans Mono',consolas,'Courier New',monospace\"></pre>\n"
      ],
      "text/plain": []
     },
     "metadata": {},
     "output_type": "display_data"
    },
    {
     "data": {
      "application/vnd.jupyter.widget-view+json": {
       "model_id": "35883f62c2774ae68d9f6640d3d8910a",
       "version_major": 2,
       "version_minor": 0
      },
      "text/plain": [
       "Output()"
      ]
     },
     "metadata": {},
     "output_type": "display_data"
    },
    {
     "data": {
      "text/html": [
       "<pre style=\"white-space:pre;overflow-x:auto;line-height:normal;font-family:Menlo,'DejaVu Sans Mono',consolas,'Courier New',monospace\"></pre>\n"
      ],
      "text/plain": []
     },
     "metadata": {},
     "output_type": "display_data"
    },
    {
     "data": {
      "application/vnd.jupyter.widget-view+json": {
       "model_id": "39b3621ff3314e1a96cdef96676fc0fb",
       "version_major": 2,
       "version_minor": 0
      },
      "text/plain": [
       "Output()"
      ]
     },
     "metadata": {},
     "output_type": "display_data"
    },
    {
     "data": {
      "text/html": [
       "<pre style=\"white-space:pre;overflow-x:auto;line-height:normal;font-family:Menlo,'DejaVu Sans Mono',consolas,'Courier New',monospace\"></pre>\n"
      ],
      "text/plain": []
     },
     "metadata": {},
     "output_type": "display_data"
    },
    {
     "data": {
      "application/vnd.jupyter.widget-view+json": {
       "model_id": "801b11c77e55433e8a247666132e11b8",
       "version_major": 2,
       "version_minor": 0
      },
      "text/plain": [
       "Output()"
      ]
     },
     "metadata": {},
     "output_type": "display_data"
    },
    {
     "data": {
      "text/html": [
       "<pre style=\"white-space:pre;overflow-x:auto;line-height:normal;font-family:Menlo,'DejaVu Sans Mono',consolas,'Courier New',monospace\"></pre>\n"
      ],
      "text/plain": []
     },
     "metadata": {},
     "output_type": "display_data"
    },
    {
     "data": {
      "application/vnd.jupyter.widget-view+json": {
       "model_id": "b4eddb8d16e4440b91494283c8490abe",
       "version_major": 2,
       "version_minor": 0
      },
      "text/plain": [
       "Output()"
      ]
     },
     "metadata": {},
     "output_type": "display_data"
    },
    {
     "data": {
      "text/html": [
       "<pre style=\"white-space:pre;overflow-x:auto;line-height:normal;font-family:Menlo,'DejaVu Sans Mono',consolas,'Courier New',monospace\"></pre>\n"
      ],
      "text/plain": []
     },
     "metadata": {},
     "output_type": "display_data"
    },
    {
     "data": {
      "application/vnd.jupyter.widget-view+json": {
       "model_id": "4755abc98403402ebc7e20375c8b8667",
       "version_major": 2,
       "version_minor": 0
      },
      "text/plain": [
       "Output()"
      ]
     },
     "metadata": {},
     "output_type": "display_data"
    },
    {
     "data": {
      "text/html": [
       "<pre style=\"white-space:pre;overflow-x:auto;line-height:normal;font-family:Menlo,'DejaVu Sans Mono',consolas,'Courier New',monospace\"></pre>\n"
      ],
      "text/plain": []
     },
     "metadata": {},
     "output_type": "display_data"
    },
    {
     "data": {
      "application/vnd.jupyter.widget-view+json": {
       "model_id": "c0d84ff2b0484545b63cf33b3bc3b3bc",
       "version_major": 2,
       "version_minor": 0
      },
      "text/plain": [
       "Output()"
      ]
     },
     "metadata": {},
     "output_type": "display_data"
    },
    {
     "data": {
      "text/html": [
       "<pre style=\"white-space:pre;overflow-x:auto;line-height:normal;font-family:Menlo,'DejaVu Sans Mono',consolas,'Courier New',monospace\"></pre>\n"
      ],
      "text/plain": []
     },
     "metadata": {},
     "output_type": "display_data"
    },
    {
     "data": {
      "application/vnd.jupyter.widget-view+json": {
       "model_id": "5031ff74399648afa4375abdd08bd6d4",
       "version_major": 2,
       "version_minor": 0
      },
      "text/plain": [
       "Output()"
      ]
     },
     "metadata": {},
     "output_type": "display_data"
    },
    {
     "data": {
      "text/html": [
       "<pre style=\"white-space:pre;overflow-x:auto;line-height:normal;font-family:Menlo,'DejaVu Sans Mono',consolas,'Courier New',monospace\"></pre>\n"
      ],
      "text/plain": []
     },
     "metadata": {},
     "output_type": "display_data"
    },
    {
     "data": {
      "application/vnd.jupyter.widget-view+json": {
       "model_id": "753a2e5ef76048868abbb9f0455765f6",
       "version_major": 2,
       "version_minor": 0
      },
      "text/plain": [
       "Output()"
      ]
     },
     "metadata": {},
     "output_type": "display_data"
    },
    {
     "data": {
      "text/html": [
       "<pre style=\"white-space:pre;overflow-x:auto;line-height:normal;font-family:Menlo,'DejaVu Sans Mono',consolas,'Courier New',monospace\"></pre>\n"
      ],
      "text/plain": []
     },
     "metadata": {},
     "output_type": "display_data"
    },
    {
     "data": {
      "application/vnd.jupyter.widget-view+json": {
       "model_id": "2f7434e9470e49f78285409e99c3cf10",
       "version_major": 2,
       "version_minor": 0
      },
      "text/plain": [
       "Output()"
      ]
     },
     "metadata": {},
     "output_type": "display_data"
    },
    {
     "data": {
      "text/html": [
       "<pre style=\"white-space:pre;overflow-x:auto;line-height:normal;font-family:Menlo,'DejaVu Sans Mono',consolas,'Courier New',monospace\"></pre>\n"
      ],
      "text/plain": []
     },
     "metadata": {},
     "output_type": "display_data"
    },
    {
     "data": {
      "application/vnd.jupyter.widget-view+json": {
       "model_id": "d0fb84c14fb34a1199d47bf9e5a22b7a",
       "version_major": 2,
       "version_minor": 0
      },
      "text/plain": [
       "Output()"
      ]
     },
     "metadata": {},
     "output_type": "display_data"
    },
    {
     "data": {
      "text/html": [
       "<pre style=\"white-space:pre;overflow-x:auto;line-height:normal;font-family:Menlo,'DejaVu Sans Mono',consolas,'Courier New',monospace\"></pre>\n"
      ],
      "text/plain": []
     },
     "metadata": {},
     "output_type": "display_data"
    },
    {
     "data": {
      "application/vnd.jupyter.widget-view+json": {
       "model_id": "4362c8d8a6464e8396c7942c0db91d68",
       "version_major": 2,
       "version_minor": 0
      },
      "text/plain": [
       "Output()"
      ]
     },
     "metadata": {},
     "output_type": "display_data"
    },
    {
     "data": {
      "text/html": [
       "<pre style=\"white-space:pre;overflow-x:auto;line-height:normal;font-family:Menlo,'DejaVu Sans Mono',consolas,'Courier New',monospace\"></pre>\n"
      ],
      "text/plain": []
     },
     "metadata": {},
     "output_type": "display_data"
    },
    {
     "data": {
      "application/vnd.jupyter.widget-view+json": {
       "model_id": "140f4b03793b42e8a9bdc72e81c5e049",
       "version_major": 2,
       "version_minor": 0
      },
      "text/plain": [
       "Output()"
      ]
     },
     "metadata": {},
     "output_type": "display_data"
    },
    {
     "data": {
      "text/html": [
       "<pre style=\"white-space:pre;overflow-x:auto;line-height:normal;font-family:Menlo,'DejaVu Sans Mono',consolas,'Courier New',monospace\"></pre>\n"
      ],
      "text/plain": []
     },
     "metadata": {},
     "output_type": "display_data"
    },
    {
     "data": {
      "application/vnd.jupyter.widget-view+json": {
       "model_id": "7922818b8d74428ca0ced89d320c4856",
       "version_major": 2,
       "version_minor": 0
      },
      "text/plain": [
       "Output()"
      ]
     },
     "metadata": {},
     "output_type": "display_data"
    },
    {
     "data": {
      "text/html": [
       "<pre style=\"white-space:pre;overflow-x:auto;line-height:normal;font-family:Menlo,'DejaVu Sans Mono',consolas,'Courier New',monospace\"></pre>\n"
      ],
      "text/plain": []
     },
     "metadata": {},
     "output_type": "display_data"
    },
    {
     "data": {
      "application/vnd.jupyter.widget-view+json": {
       "model_id": "439e812f7a3f480eb2189ba34033ea64",
       "version_major": 2,
       "version_minor": 0
      },
      "text/plain": [
       "Output()"
      ]
     },
     "metadata": {},
     "output_type": "display_data"
    },
    {
     "data": {
      "text/html": [
       "<pre style=\"white-space:pre;overflow-x:auto;line-height:normal;font-family:Menlo,'DejaVu Sans Mono',consolas,'Courier New',monospace\"></pre>\n"
      ],
      "text/plain": []
     },
     "metadata": {},
     "output_type": "display_data"
    },
    {
     "data": {
      "application/vnd.jupyter.widget-view+json": {
       "model_id": "5e485f2104fa4bf3a9344e6a38cef1d9",
       "version_major": 2,
       "version_minor": 0
      },
      "text/plain": [
       "Output()"
      ]
     },
     "metadata": {},
     "output_type": "display_data"
    },
    {
     "data": {
      "text/html": [
       "<pre style=\"white-space:pre;overflow-x:auto;line-height:normal;font-family:Menlo,'DejaVu Sans Mono',consolas,'Courier New',monospace\"></pre>\n"
      ],
      "text/plain": []
     },
     "metadata": {},
     "output_type": "display_data"
    },
    {
     "data": {
      "application/vnd.jupyter.widget-view+json": {
       "model_id": "153e71ff275244448050038bc4458db7",
       "version_major": 2,
       "version_minor": 0
      },
      "text/plain": [
       "Output()"
      ]
     },
     "metadata": {},
     "output_type": "display_data"
    },
    {
     "data": {
      "text/html": [
       "<pre style=\"white-space:pre;overflow-x:auto;line-height:normal;font-family:Menlo,'DejaVu Sans Mono',consolas,'Courier New',monospace\"></pre>\n"
      ],
      "text/plain": []
     },
     "metadata": {},
     "output_type": "display_data"
    },
    {
     "data": {
      "application/vnd.jupyter.widget-view+json": {
       "model_id": "a7b70bb4c5d543c2ab4fd51cb94a8602",
       "version_major": 2,
       "version_minor": 0
      },
      "text/plain": [
       "Output()"
      ]
     },
     "metadata": {},
     "output_type": "display_data"
    },
    {
     "data": {
      "text/html": [
       "<pre style=\"white-space:pre;overflow-x:auto;line-height:normal;font-family:Menlo,'DejaVu Sans Mono',consolas,'Courier New',monospace\"></pre>\n"
      ],
      "text/plain": []
     },
     "metadata": {},
     "output_type": "display_data"
    },
    {
     "data": {
      "application/vnd.jupyter.widget-view+json": {
       "model_id": "46041162dce445268465b5f20a82c265",
       "version_major": 2,
       "version_minor": 0
      },
      "text/plain": [
       "Output()"
      ]
     },
     "metadata": {},
     "output_type": "display_data"
    },
    {
     "data": {
      "text/html": [
       "<pre style=\"white-space:pre;overflow-x:auto;line-height:normal;font-family:Menlo,'DejaVu Sans Mono',consolas,'Courier New',monospace\"></pre>\n"
      ],
      "text/plain": []
     },
     "metadata": {},
     "output_type": "display_data"
    },
    {
     "data": {
      "application/vnd.jupyter.widget-view+json": {
       "model_id": "325691b0630243e088c0965e44e8102d",
       "version_major": 2,
       "version_minor": 0
      },
      "text/plain": [
       "Output()"
      ]
     },
     "metadata": {},
     "output_type": "display_data"
    },
    {
     "data": {
      "text/html": [
       "<pre style=\"white-space:pre;overflow-x:auto;line-height:normal;font-family:Menlo,'DejaVu Sans Mono',consolas,'Courier New',monospace\"></pre>\n"
      ],
      "text/plain": []
     },
     "metadata": {},
     "output_type": "display_data"
    },
    {
     "data": {
      "application/vnd.jupyter.widget-view+json": {
       "model_id": "0f481a474d034a5b8c9dbc545f5664d3",
       "version_major": 2,
       "version_minor": 0
      },
      "text/plain": [
       "Output()"
      ]
     },
     "metadata": {},
     "output_type": "display_data"
    },
    {
     "data": {
      "text/html": [
       "<pre style=\"white-space:pre;overflow-x:auto;line-height:normal;font-family:Menlo,'DejaVu Sans Mono',consolas,'Courier New',monospace\"></pre>\n"
      ],
      "text/plain": []
     },
     "metadata": {},
     "output_type": "display_data"
    },
    {
     "data": {
      "application/vnd.jupyter.widget-view+json": {
       "model_id": "88a1abb0f9f242f1b108da12e6d7d598",
       "version_major": 2,
       "version_minor": 0
      },
      "text/plain": [
       "Output()"
      ]
     },
     "metadata": {},
     "output_type": "display_data"
    },
    {
     "data": {
      "text/html": [
       "<pre style=\"white-space:pre;overflow-x:auto;line-height:normal;font-family:Menlo,'DejaVu Sans Mono',consolas,'Courier New',monospace\"></pre>\n"
      ],
      "text/plain": []
     },
     "metadata": {},
     "output_type": "display_data"
    },
    {
     "data": {
      "application/vnd.jupyter.widget-view+json": {
       "model_id": "193d274986914feea456b9ab776ec25e",
       "version_major": 2,
       "version_minor": 0
      },
      "text/plain": [
       "Output()"
      ]
     },
     "metadata": {},
     "output_type": "display_data"
    },
    {
     "data": {
      "text/html": [
       "<pre style=\"white-space:pre;overflow-x:auto;line-height:normal;font-family:Menlo,'DejaVu Sans Mono',consolas,'Courier New',monospace\"></pre>\n"
      ],
      "text/plain": []
     },
     "metadata": {},
     "output_type": "display_data"
    },
    {
     "data": {
      "application/vnd.jupyter.widget-view+json": {
       "model_id": "8fa25f310bfa46cfbd29801ccf9dc94f",
       "version_major": 2,
       "version_minor": 0
      },
      "text/plain": [
       "Output()"
      ]
     },
     "metadata": {},
     "output_type": "display_data"
    },
    {
     "data": {
      "text/html": [
       "<pre style=\"white-space:pre;overflow-x:auto;line-height:normal;font-family:Menlo,'DejaVu Sans Mono',consolas,'Courier New',monospace\"></pre>\n"
      ],
      "text/plain": []
     },
     "metadata": {},
     "output_type": "display_data"
    },
    {
     "data": {
      "application/vnd.jupyter.widget-view+json": {
       "model_id": "fa993e1c6bcd450d87e111d7a1e3a6c3",
       "version_major": 2,
       "version_minor": 0
      },
      "text/plain": [
       "Output()"
      ]
     },
     "metadata": {},
     "output_type": "display_data"
    },
    {
     "data": {
      "text/html": [
       "<pre style=\"white-space:pre;overflow-x:auto;line-height:normal;font-family:Menlo,'DejaVu Sans Mono',consolas,'Courier New',monospace\"></pre>\n"
      ],
      "text/plain": []
     },
     "metadata": {},
     "output_type": "display_data"
    },
    {
     "data": {
      "application/vnd.jupyter.widget-view+json": {
       "model_id": "7f32e065982240319f809f6b368cb3f2",
       "version_major": 2,
       "version_minor": 0
      },
      "text/plain": [
       "Output()"
      ]
     },
     "metadata": {},
     "output_type": "display_data"
    },
    {
     "data": {
      "text/html": [
       "<pre style=\"white-space:pre;overflow-x:auto;line-height:normal;font-family:Menlo,'DejaVu Sans Mono',consolas,'Courier New',monospace\"></pre>\n"
      ],
      "text/plain": []
     },
     "metadata": {},
     "output_type": "display_data"
    },
    {
     "data": {
      "application/vnd.jupyter.widget-view+json": {
       "model_id": "8609205809f54b218c9ea098564d4bfe",
       "version_major": 2,
       "version_minor": 0
      },
      "text/plain": [
       "Output()"
      ]
     },
     "metadata": {},
     "output_type": "display_data"
    },
    {
     "data": {
      "text/html": [
       "<pre style=\"white-space:pre;overflow-x:auto;line-height:normal;font-family:Menlo,'DejaVu Sans Mono',consolas,'Courier New',monospace\"></pre>\n"
      ],
      "text/plain": []
     },
     "metadata": {},
     "output_type": "display_data"
    },
    {
     "data": {
      "application/vnd.jupyter.widget-view+json": {
       "model_id": "1a24ac75d2154606bbaf472517119736",
       "version_major": 2,
       "version_minor": 0
      },
      "text/plain": [
       "Output()"
      ]
     },
     "metadata": {},
     "output_type": "display_data"
    },
    {
     "data": {
      "text/html": [
       "<pre style=\"white-space:pre;overflow-x:auto;line-height:normal;font-family:Menlo,'DejaVu Sans Mono',consolas,'Courier New',monospace\"></pre>\n"
      ],
      "text/plain": []
     },
     "metadata": {},
     "output_type": "display_data"
    },
    {
     "data": {
      "application/vnd.jupyter.widget-view+json": {
       "model_id": "cdc141e28b7943349d933501f5f369a8",
       "version_major": 2,
       "version_minor": 0
      },
      "text/plain": [
       "Output()"
      ]
     },
     "metadata": {},
     "output_type": "display_data"
    },
    {
     "data": {
      "text/html": [
       "<pre style=\"white-space:pre;overflow-x:auto;line-height:normal;font-family:Menlo,'DejaVu Sans Mono',consolas,'Courier New',monospace\"></pre>\n"
      ],
      "text/plain": []
     },
     "metadata": {},
     "output_type": "display_data"
    },
    {
     "data": {
      "application/vnd.jupyter.widget-view+json": {
       "model_id": "492109ff839f4b01a074aeb06751cfbe",
       "version_major": 2,
       "version_minor": 0
      },
      "text/plain": [
       "Output()"
      ]
     },
     "metadata": {},
     "output_type": "display_data"
    },
    {
     "data": {
      "text/html": [
       "<pre style=\"white-space:pre;overflow-x:auto;line-height:normal;font-family:Menlo,'DejaVu Sans Mono',consolas,'Courier New',monospace\"></pre>\n"
      ],
      "text/plain": []
     },
     "metadata": {},
     "output_type": "display_data"
    },
    {
     "data": {
      "application/vnd.jupyter.widget-view+json": {
       "model_id": "9fd3390eb2344e56aafcacf169ef69c4",
       "version_major": 2,
       "version_minor": 0
      },
      "text/plain": [
       "Output()"
      ]
     },
     "metadata": {},
     "output_type": "display_data"
    },
    {
     "data": {
      "text/html": [
       "<pre style=\"white-space:pre;overflow-x:auto;line-height:normal;font-family:Menlo,'DejaVu Sans Mono',consolas,'Courier New',monospace\"></pre>\n"
      ],
      "text/plain": []
     },
     "metadata": {},
     "output_type": "display_data"
    },
    {
     "data": {
      "application/vnd.jupyter.widget-view+json": {
       "model_id": "0c69f2d32f484bc19ab0cea4d8526e8d",
       "version_major": 2,
       "version_minor": 0
      },
      "text/plain": [
       "Output()"
      ]
     },
     "metadata": {},
     "output_type": "display_data"
    },
    {
     "data": {
      "text/html": [
       "<pre style=\"white-space:pre;overflow-x:auto;line-height:normal;font-family:Menlo,'DejaVu Sans Mono',consolas,'Courier New',monospace\"></pre>\n"
      ],
      "text/plain": []
     },
     "metadata": {},
     "output_type": "display_data"
    },
    {
     "data": {
      "application/vnd.jupyter.widget-view+json": {
       "model_id": "e5163bad679a4591ac2f81882058fcab",
       "version_major": 2,
       "version_minor": 0
      },
      "text/plain": [
       "Output()"
      ]
     },
     "metadata": {},
     "output_type": "display_data"
    },
    {
     "data": {
      "text/html": [
       "<pre style=\"white-space:pre;overflow-x:auto;line-height:normal;font-family:Menlo,'DejaVu Sans Mono',consolas,'Courier New',monospace\"></pre>\n"
      ],
      "text/plain": []
     },
     "metadata": {},
     "output_type": "display_data"
    },
    {
     "data": {
      "application/vnd.jupyter.widget-view+json": {
       "model_id": "82955dcef4a0466bb43968880e675c4c",
       "version_major": 2,
       "version_minor": 0
      },
      "text/plain": [
       "Output()"
      ]
     },
     "metadata": {},
     "output_type": "display_data"
    },
    {
     "data": {
      "text/html": [
       "<pre style=\"white-space:pre;overflow-x:auto;line-height:normal;font-family:Menlo,'DejaVu Sans Mono',consolas,'Courier New',monospace\"></pre>\n"
      ],
      "text/plain": []
     },
     "metadata": {},
     "output_type": "display_data"
    },
    {
     "data": {
      "application/vnd.jupyter.widget-view+json": {
       "model_id": "92c759004ee74c96a50fe8b8d462a852",
       "version_major": 2,
       "version_minor": 0
      },
      "text/plain": [
       "Output()"
      ]
     },
     "metadata": {},
     "output_type": "display_data"
    },
    {
     "data": {
      "text/html": [
       "<pre style=\"white-space:pre;overflow-x:auto;line-height:normal;font-family:Menlo,'DejaVu Sans Mono',consolas,'Courier New',monospace\"></pre>\n"
      ],
      "text/plain": []
     },
     "metadata": {},
     "output_type": "display_data"
    },
    {
     "data": {
      "application/vnd.jupyter.widget-view+json": {
       "model_id": "803fda472b174e06a89ee50185fe060d",
       "version_major": 2,
       "version_minor": 0
      },
      "text/plain": [
       "Output()"
      ]
     },
     "metadata": {},
     "output_type": "display_data"
    },
    {
     "data": {
      "text/html": [
       "<pre style=\"white-space:pre;overflow-x:auto;line-height:normal;font-family:Menlo,'DejaVu Sans Mono',consolas,'Courier New',monospace\"></pre>\n"
      ],
      "text/plain": []
     },
     "metadata": {},
     "output_type": "display_data"
    },
    {
     "data": {
      "application/vnd.jupyter.widget-view+json": {
       "model_id": "2de59a3e993049b6a5cf57f1f46917a1",
       "version_major": 2,
       "version_minor": 0
      },
      "text/plain": [
       "Output()"
      ]
     },
     "metadata": {},
     "output_type": "display_data"
    },
    {
     "data": {
      "text/html": [
       "<pre style=\"white-space:pre;overflow-x:auto;line-height:normal;font-family:Menlo,'DejaVu Sans Mono',consolas,'Courier New',monospace\"></pre>\n"
      ],
      "text/plain": []
     },
     "metadata": {},
     "output_type": "display_data"
    },
    {
     "data": {
      "application/vnd.jupyter.widget-view+json": {
       "model_id": "fa87bada5cc042a4bd609ba167b3df16",
       "version_major": 2,
       "version_minor": 0
      },
      "text/plain": [
       "Output()"
      ]
     },
     "metadata": {},
     "output_type": "display_data"
    },
    {
     "data": {
      "text/html": [
       "<pre style=\"white-space:pre;overflow-x:auto;line-height:normal;font-family:Menlo,'DejaVu Sans Mono',consolas,'Courier New',monospace\"></pre>\n"
      ],
      "text/plain": []
     },
     "metadata": {},
     "output_type": "display_data"
    },
    {
     "data": {
      "application/vnd.jupyter.widget-view+json": {
       "model_id": "63927fbbd3044a87ae599f96e7952964",
       "version_major": 2,
       "version_minor": 0
      },
      "text/plain": [
       "Output()"
      ]
     },
     "metadata": {},
     "output_type": "display_data"
    },
    {
     "data": {
      "text/html": [
       "<pre style=\"white-space:pre;overflow-x:auto;line-height:normal;font-family:Menlo,'DejaVu Sans Mono',consolas,'Courier New',monospace\"></pre>\n"
      ],
      "text/plain": []
     },
     "metadata": {},
     "output_type": "display_data"
    },
    {
     "data": {
      "application/vnd.jupyter.widget-view+json": {
       "model_id": "86b01aa5bc5040f5b54450390537bb99",
       "version_major": 2,
       "version_minor": 0
      },
      "text/plain": [
       "Output()"
      ]
     },
     "metadata": {},
     "output_type": "display_data"
    },
    {
     "data": {
      "text/html": [
       "<pre style=\"white-space:pre;overflow-x:auto;line-height:normal;font-family:Menlo,'DejaVu Sans Mono',consolas,'Courier New',monospace\"></pre>\n"
      ],
      "text/plain": []
     },
     "metadata": {},
     "output_type": "display_data"
    },
    {
     "data": {
      "application/vnd.jupyter.widget-view+json": {
       "model_id": "49d3d18662a34827b95c301481377826",
       "version_major": 2,
       "version_minor": 0
      },
      "text/plain": [
       "Output()"
      ]
     },
     "metadata": {},
     "output_type": "display_data"
    },
    {
     "data": {
      "text/html": [
       "<pre style=\"white-space:pre;overflow-x:auto;line-height:normal;font-family:Menlo,'DejaVu Sans Mono',consolas,'Courier New',monospace\"></pre>\n"
      ],
      "text/plain": []
     },
     "metadata": {},
     "output_type": "display_data"
    },
    {
     "data": {
      "application/vnd.jupyter.widget-view+json": {
       "model_id": "54eb7343c3c842f094b98220ed5715b2",
       "version_major": 2,
       "version_minor": 0
      },
      "text/plain": [
       "Output()"
      ]
     },
     "metadata": {},
     "output_type": "display_data"
    },
    {
     "data": {
      "text/html": [
       "<pre style=\"white-space:pre;overflow-x:auto;line-height:normal;font-family:Menlo,'DejaVu Sans Mono',consolas,'Courier New',monospace\"></pre>\n"
      ],
      "text/plain": []
     },
     "metadata": {},
     "output_type": "display_data"
    },
    {
     "data": {
      "application/vnd.jupyter.widget-view+json": {
       "model_id": "93eee39c96f64a71922888e838ba28fa",
       "version_major": 2,
       "version_minor": 0
      },
      "text/plain": [
       "Output()"
      ]
     },
     "metadata": {},
     "output_type": "display_data"
    },
    {
     "data": {
      "text/html": [
       "<pre style=\"white-space:pre;overflow-x:auto;line-height:normal;font-family:Menlo,'DejaVu Sans Mono',consolas,'Courier New',monospace\"></pre>\n"
      ],
      "text/plain": []
     },
     "metadata": {},
     "output_type": "display_data"
    },
    {
     "data": {
      "application/vnd.jupyter.widget-view+json": {
       "model_id": "82a7a29b8a4e4db6b955461a911570db",
       "version_major": 2,
       "version_minor": 0
      },
      "text/plain": [
       "Output()"
      ]
     },
     "metadata": {},
     "output_type": "display_data"
    },
    {
     "data": {
      "text/html": [
       "<pre style=\"white-space:pre;overflow-x:auto;line-height:normal;font-family:Menlo,'DejaVu Sans Mono',consolas,'Courier New',monospace\"></pre>\n"
      ],
      "text/plain": []
     },
     "metadata": {},
     "output_type": "display_data"
    },
    {
     "data": {
      "application/vnd.jupyter.widget-view+json": {
       "model_id": "6a29b0d697ae4e5d868e058a837fad5d",
       "version_major": 2,
       "version_minor": 0
      },
      "text/plain": [
       "Output()"
      ]
     },
     "metadata": {},
     "output_type": "display_data"
    },
    {
     "data": {
      "text/html": [
       "<pre style=\"white-space:pre;overflow-x:auto;line-height:normal;font-family:Menlo,'DejaVu Sans Mono',consolas,'Courier New',monospace\"></pre>\n"
      ],
      "text/plain": []
     },
     "metadata": {},
     "output_type": "display_data"
    },
    {
     "data": {
      "application/vnd.jupyter.widget-view+json": {
       "model_id": "cf3941b3690949549a7d8c2ea0e48212",
       "version_major": 2,
       "version_minor": 0
      },
      "text/plain": [
       "Output()"
      ]
     },
     "metadata": {},
     "output_type": "display_data"
    },
    {
     "data": {
      "text/html": [
       "<pre style=\"white-space:pre;overflow-x:auto;line-height:normal;font-family:Menlo,'DejaVu Sans Mono',consolas,'Courier New',monospace\"></pre>\n"
      ],
      "text/plain": []
     },
     "metadata": {},
     "output_type": "display_data"
    },
    {
     "data": {
      "application/vnd.jupyter.widget-view+json": {
       "model_id": "4e0aec983b83438282f33ee6ef0a49eb",
       "version_major": 2,
       "version_minor": 0
      },
      "text/plain": [
       "Output()"
      ]
     },
     "metadata": {},
     "output_type": "display_data"
    },
    {
     "data": {
      "text/html": [
       "<pre style=\"white-space:pre;overflow-x:auto;line-height:normal;font-family:Menlo,'DejaVu Sans Mono',consolas,'Courier New',monospace\"></pre>\n"
      ],
      "text/plain": []
     },
     "metadata": {},
     "output_type": "display_data"
    },
    {
     "data": {
      "application/vnd.jupyter.widget-view+json": {
       "model_id": "d42f2cfe17c14050a466864fb90bc901",
       "version_major": 2,
       "version_minor": 0
      },
      "text/plain": [
       "Output()"
      ]
     },
     "metadata": {},
     "output_type": "display_data"
    },
    {
     "data": {
      "text/html": [
       "<pre style=\"white-space:pre;overflow-x:auto;line-height:normal;font-family:Menlo,'DejaVu Sans Mono',consolas,'Courier New',monospace\"></pre>\n"
      ],
      "text/plain": []
     },
     "metadata": {},
     "output_type": "display_data"
    },
    {
     "data": {
      "application/vnd.jupyter.widget-view+json": {
       "model_id": "256f92f44a3544648468ced3b0364ee1",
       "version_major": 2,
       "version_minor": 0
      },
      "text/plain": [
       "Output()"
      ]
     },
     "metadata": {},
     "output_type": "display_data"
    },
    {
     "data": {
      "text/html": [
       "<pre style=\"white-space:pre;overflow-x:auto;line-height:normal;font-family:Menlo,'DejaVu Sans Mono',consolas,'Courier New',monospace\"></pre>\n"
      ],
      "text/plain": []
     },
     "metadata": {},
     "output_type": "display_data"
    },
    {
     "data": {
      "application/vnd.jupyter.widget-view+json": {
       "model_id": "15181cc55be94c7590b859e2cbbe3d38",
       "version_major": 2,
       "version_minor": 0
      },
      "text/plain": [
       "Output()"
      ]
     },
     "metadata": {},
     "output_type": "display_data"
    },
    {
     "data": {
      "text/html": [
       "<pre style=\"white-space:pre;overflow-x:auto;line-height:normal;font-family:Menlo,'DejaVu Sans Mono',consolas,'Courier New',monospace\"></pre>\n"
      ],
      "text/plain": []
     },
     "metadata": {},
     "output_type": "display_data"
    },
    {
     "data": {
      "application/vnd.jupyter.widget-view+json": {
       "model_id": "98101ebedfbe47339f6cb41f593f5580",
       "version_major": 2,
       "version_minor": 0
      },
      "text/plain": [
       "Output()"
      ]
     },
     "metadata": {},
     "output_type": "display_data"
    },
    {
     "data": {
      "text/html": [
       "<pre style=\"white-space:pre;overflow-x:auto;line-height:normal;font-family:Menlo,'DejaVu Sans Mono',consolas,'Courier New',monospace\"></pre>\n"
      ],
      "text/plain": []
     },
     "metadata": {},
     "output_type": "display_data"
    },
    {
     "data": {
      "application/vnd.jupyter.widget-view+json": {
       "model_id": "272de68511ce4664818f90b259e61f7a",
       "version_major": 2,
       "version_minor": 0
      },
      "text/plain": [
       "Output()"
      ]
     },
     "metadata": {},
     "output_type": "display_data"
    },
    {
     "data": {
      "text/html": [
       "<pre style=\"white-space:pre;overflow-x:auto;line-height:normal;font-family:Menlo,'DejaVu Sans Mono',consolas,'Courier New',monospace\"></pre>\n"
      ],
      "text/plain": []
     },
     "metadata": {},
     "output_type": "display_data"
    },
    {
     "data": {
      "application/vnd.jupyter.widget-view+json": {
       "model_id": "a698039d87774193bf4739204c04b769",
       "version_major": 2,
       "version_minor": 0
      },
      "text/plain": [
       "Output()"
      ]
     },
     "metadata": {},
     "output_type": "display_data"
    },
    {
     "data": {
      "text/html": [
       "<pre style=\"white-space:pre;overflow-x:auto;line-height:normal;font-family:Menlo,'DejaVu Sans Mono',consolas,'Courier New',monospace\"></pre>\n"
      ],
      "text/plain": []
     },
     "metadata": {},
     "output_type": "display_data"
    },
    {
     "data": {
      "application/vnd.jupyter.widget-view+json": {
       "model_id": "b9d173cf619c4621aadeaefb28d005dc",
       "version_major": 2,
       "version_minor": 0
      },
      "text/plain": [
       "Output()"
      ]
     },
     "metadata": {},
     "output_type": "display_data"
    },
    {
     "data": {
      "text/html": [
       "<pre style=\"white-space:pre;overflow-x:auto;line-height:normal;font-family:Menlo,'DejaVu Sans Mono',consolas,'Courier New',monospace\"></pre>\n"
      ],
      "text/plain": []
     },
     "metadata": {},
     "output_type": "display_data"
    },
    {
     "data": {
      "application/vnd.jupyter.widget-view+json": {
       "model_id": "8f8188dcaa394e54be0f218e93f1d7e2",
       "version_major": 2,
       "version_minor": 0
      },
      "text/plain": [
       "Output()"
      ]
     },
     "metadata": {},
     "output_type": "display_data"
    },
    {
     "data": {
      "text/html": [
       "<pre style=\"white-space:pre;overflow-x:auto;line-height:normal;font-family:Menlo,'DejaVu Sans Mono',consolas,'Courier New',monospace\"></pre>\n"
      ],
      "text/plain": []
     },
     "metadata": {},
     "output_type": "display_data"
    },
    {
     "data": {
      "application/vnd.jupyter.widget-view+json": {
       "model_id": "21573355ffa947b28a31af3a1a641dad",
       "version_major": 2,
       "version_minor": 0
      },
      "text/plain": [
       "Output()"
      ]
     },
     "metadata": {},
     "output_type": "display_data"
    },
    {
     "data": {
      "text/html": [
       "<pre style=\"white-space:pre;overflow-x:auto;line-height:normal;font-family:Menlo,'DejaVu Sans Mono',consolas,'Courier New',monospace\"></pre>\n"
      ],
      "text/plain": []
     },
     "metadata": {},
     "output_type": "display_data"
    },
    {
     "data": {
      "application/vnd.jupyter.widget-view+json": {
       "model_id": "b415f5ae36ca4859ba43405d713d8eac",
       "version_major": 2,
       "version_minor": 0
      },
      "text/plain": [
       "Output()"
      ]
     },
     "metadata": {},
     "output_type": "display_data"
    },
    {
     "data": {
      "text/html": [
       "<pre style=\"white-space:pre;overflow-x:auto;line-height:normal;font-family:Menlo,'DejaVu Sans Mono',consolas,'Courier New',monospace\"></pre>\n"
      ],
      "text/plain": []
     },
     "metadata": {},
     "output_type": "display_data"
    },
    {
     "data": {
      "application/vnd.jupyter.widget-view+json": {
       "model_id": "ab122df9273844e098da0ccb3d6e6026",
       "version_major": 2,
       "version_minor": 0
      },
      "text/plain": [
       "Output()"
      ]
     },
     "metadata": {},
     "output_type": "display_data"
    },
    {
     "data": {
      "text/html": [
       "<pre style=\"white-space:pre;overflow-x:auto;line-height:normal;font-family:Menlo,'DejaVu Sans Mono',consolas,'Courier New',monospace\"></pre>\n"
      ],
      "text/plain": []
     },
     "metadata": {},
     "output_type": "display_data"
    },
    {
     "data": {
      "application/vnd.jupyter.widget-view+json": {
       "model_id": "b7cb6b746cea4aa2b1d08bb085c41b4f",
       "version_major": 2,
       "version_minor": 0
      },
      "text/plain": [
       "Output()"
      ]
     },
     "metadata": {},
     "output_type": "display_data"
    },
    {
     "data": {
      "text/html": [
       "<pre style=\"white-space:pre;overflow-x:auto;line-height:normal;font-family:Menlo,'DejaVu Sans Mono',consolas,'Courier New',monospace\"></pre>\n"
      ],
      "text/plain": []
     },
     "metadata": {},
     "output_type": "display_data"
    },
    {
     "data": {
      "application/vnd.jupyter.widget-view+json": {
       "model_id": "446830d98cce44799523e3632eb13859",
       "version_major": 2,
       "version_minor": 0
      },
      "text/plain": [
       "Output()"
      ]
     },
     "metadata": {},
     "output_type": "display_data"
    },
    {
     "data": {
      "text/html": [
       "<pre style=\"white-space:pre;overflow-x:auto;line-height:normal;font-family:Menlo,'DejaVu Sans Mono',consolas,'Courier New',monospace\"></pre>\n"
      ],
      "text/plain": []
     },
     "metadata": {},
     "output_type": "display_data"
    },
    {
     "data": {
      "application/vnd.jupyter.widget-view+json": {
       "model_id": "f6283485047b4f1097144450f4ecbf7b",
       "version_major": 2,
       "version_minor": 0
      },
      "text/plain": [
       "Output()"
      ]
     },
     "metadata": {},
     "output_type": "display_data"
    },
    {
     "data": {
      "text/html": [
       "<pre style=\"white-space:pre;overflow-x:auto;line-height:normal;font-family:Menlo,'DejaVu Sans Mono',consolas,'Courier New',monospace\"></pre>\n"
      ],
      "text/plain": []
     },
     "metadata": {},
     "output_type": "display_data"
    },
    {
     "data": {
      "application/vnd.jupyter.widget-view+json": {
       "model_id": "3a742f63b99440809e0206a34bc5397b",
       "version_major": 2,
       "version_minor": 0
      },
      "text/plain": [
       "Output()"
      ]
     },
     "metadata": {},
     "output_type": "display_data"
    },
    {
     "data": {
      "text/html": [
       "<pre style=\"white-space:pre;overflow-x:auto;line-height:normal;font-family:Menlo,'DejaVu Sans Mono',consolas,'Courier New',monospace\"></pre>\n"
      ],
      "text/plain": []
     },
     "metadata": {},
     "output_type": "display_data"
    },
    {
     "data": {
      "application/vnd.jupyter.widget-view+json": {
       "model_id": "b92467becd564b50beaa3916b8b12903",
       "version_major": 2,
       "version_minor": 0
      },
      "text/plain": [
       "Output()"
      ]
     },
     "metadata": {},
     "output_type": "display_data"
    },
    {
     "data": {
      "text/html": [
       "<pre style=\"white-space:pre;overflow-x:auto;line-height:normal;font-family:Menlo,'DejaVu Sans Mono',consolas,'Courier New',monospace\"></pre>\n"
      ],
      "text/plain": []
     },
     "metadata": {},
     "output_type": "display_data"
    },
    {
     "data": {
      "application/vnd.jupyter.widget-view+json": {
       "model_id": "97973b1f32b8401891c94ea16b61872c",
       "version_major": 2,
       "version_minor": 0
      },
      "text/plain": [
       "Output()"
      ]
     },
     "metadata": {},
     "output_type": "display_data"
    },
    {
     "data": {
      "text/html": [
       "<pre style=\"white-space:pre;overflow-x:auto;line-height:normal;font-family:Menlo,'DejaVu Sans Mono',consolas,'Courier New',monospace\"></pre>\n"
      ],
      "text/plain": []
     },
     "metadata": {},
     "output_type": "display_data"
    },
    {
     "data": {
      "application/vnd.jupyter.widget-view+json": {
       "model_id": "d3b32dfec9ef4728b8adde4c0aa75c95",
       "version_major": 2,
       "version_minor": 0
      },
      "text/plain": [
       "Output()"
      ]
     },
     "metadata": {},
     "output_type": "display_data"
    },
    {
     "data": {
      "text/html": [
       "<pre style=\"white-space:pre;overflow-x:auto;line-height:normal;font-family:Menlo,'DejaVu Sans Mono',consolas,'Courier New',monospace\"></pre>\n"
      ],
      "text/plain": []
     },
     "metadata": {},
     "output_type": "display_data"
    },
    {
     "data": {
      "application/vnd.jupyter.widget-view+json": {
       "model_id": "de2d6ffd089944a2a4e5153ead05530c",
       "version_major": 2,
       "version_minor": 0
      },
      "text/plain": [
       "Output()"
      ]
     },
     "metadata": {},
     "output_type": "display_data"
    },
    {
     "data": {
      "text/html": [
       "<pre style=\"white-space:pre;overflow-x:auto;line-height:normal;font-family:Menlo,'DejaVu Sans Mono',consolas,'Courier New',monospace\"></pre>\n"
      ],
      "text/plain": []
     },
     "metadata": {},
     "output_type": "display_data"
    },
    {
     "data": {
      "application/vnd.jupyter.widget-view+json": {
       "model_id": "ea48780bca2a469fad719b4c2e4aac04",
       "version_major": 2,
       "version_minor": 0
      },
      "text/plain": [
       "Output()"
      ]
     },
     "metadata": {},
     "output_type": "display_data"
    },
    {
     "data": {
      "text/html": [
       "<pre style=\"white-space:pre;overflow-x:auto;line-height:normal;font-family:Menlo,'DejaVu Sans Mono',consolas,'Courier New',monospace\"></pre>\n"
      ],
      "text/plain": []
     },
     "metadata": {},
     "output_type": "display_data"
    },
    {
     "data": {
      "application/vnd.jupyter.widget-view+json": {
       "model_id": "f2e70fa8142b462ba9f5054beeeeeda2",
       "version_major": 2,
       "version_minor": 0
      },
      "text/plain": [
       "Output()"
      ]
     },
     "metadata": {},
     "output_type": "display_data"
    },
    {
     "data": {
      "text/html": [
       "<pre style=\"white-space:pre;overflow-x:auto;line-height:normal;font-family:Menlo,'DejaVu Sans Mono',consolas,'Courier New',monospace\"></pre>\n"
      ],
      "text/plain": []
     },
     "metadata": {},
     "output_type": "display_data"
    },
    {
     "data": {
      "application/vnd.jupyter.widget-view+json": {
       "model_id": "62c7efe8719245c68ec7fc68ebf361be",
       "version_major": 2,
       "version_minor": 0
      },
      "text/plain": [
       "Output()"
      ]
     },
     "metadata": {},
     "output_type": "display_data"
    },
    {
     "data": {
      "text/html": [
       "<pre style=\"white-space:pre;overflow-x:auto;line-height:normal;font-family:Menlo,'DejaVu Sans Mono',consolas,'Courier New',monospace\"></pre>\n"
      ],
      "text/plain": []
     },
     "metadata": {},
     "output_type": "display_data"
    },
    {
     "data": {
      "application/vnd.jupyter.widget-view+json": {
       "model_id": "7f86c72b854c46f48fd0c1a4c2cebc78",
       "version_major": 2,
       "version_minor": 0
      },
      "text/plain": [
       "Output()"
      ]
     },
     "metadata": {},
     "output_type": "display_data"
    },
    {
     "data": {
      "text/html": [
       "<pre style=\"white-space:pre;overflow-x:auto;line-height:normal;font-family:Menlo,'DejaVu Sans Mono',consolas,'Courier New',monospace\"></pre>\n"
      ],
      "text/plain": []
     },
     "metadata": {},
     "output_type": "display_data"
    },
    {
     "data": {
      "application/vnd.jupyter.widget-view+json": {
       "model_id": "2d99cf39ba0d450caa010181bca4218a",
       "version_major": 2,
       "version_minor": 0
      },
      "text/plain": [
       "Output()"
      ]
     },
     "metadata": {},
     "output_type": "display_data"
    },
    {
     "data": {
      "text/html": [
       "<pre style=\"white-space:pre;overflow-x:auto;line-height:normal;font-family:Menlo,'DejaVu Sans Mono',consolas,'Courier New',monospace\"></pre>\n"
      ],
      "text/plain": []
     },
     "metadata": {},
     "output_type": "display_data"
    },
    {
     "data": {
      "application/vnd.jupyter.widget-view+json": {
       "model_id": "9b36989a0eca49708303221814bd9b90",
       "version_major": 2,
       "version_minor": 0
      },
      "text/plain": [
       "Output()"
      ]
     },
     "metadata": {},
     "output_type": "display_data"
    },
    {
     "data": {
      "text/html": [
       "<pre style=\"white-space:pre;overflow-x:auto;line-height:normal;font-family:Menlo,'DejaVu Sans Mono',consolas,'Courier New',monospace\"></pre>\n"
      ],
      "text/plain": []
     },
     "metadata": {},
     "output_type": "display_data"
    },
    {
     "data": {
      "application/vnd.jupyter.widget-view+json": {
       "model_id": "a983b25569364a7cbc9cf5012750d440",
       "version_major": 2,
       "version_minor": 0
      },
      "text/plain": [
       "Output()"
      ]
     },
     "metadata": {},
     "output_type": "display_data"
    },
    {
     "data": {
      "text/html": [
       "<pre style=\"white-space:pre;overflow-x:auto;line-height:normal;font-family:Menlo,'DejaVu Sans Mono',consolas,'Courier New',monospace\"></pre>\n"
      ],
      "text/plain": []
     },
     "metadata": {},
     "output_type": "display_data"
    },
    {
     "data": {
      "application/vnd.jupyter.widget-view+json": {
       "model_id": "7a56ff86fa7d4a1da029cc4bfb42efba",
       "version_major": 2,
       "version_minor": 0
      },
      "text/plain": [
       "Output()"
      ]
     },
     "metadata": {},
     "output_type": "display_data"
    },
    {
     "data": {
      "text/html": [
       "<pre style=\"white-space:pre;overflow-x:auto;line-height:normal;font-family:Menlo,'DejaVu Sans Mono',consolas,'Courier New',monospace\"></pre>\n"
      ],
      "text/plain": []
     },
     "metadata": {},
     "output_type": "display_data"
    },
    {
     "data": {
      "application/vnd.jupyter.widget-view+json": {
       "model_id": "21731211b9e1407d8ba42945b425b588",
       "version_major": 2,
       "version_minor": 0
      },
      "text/plain": [
       "Output()"
      ]
     },
     "metadata": {},
     "output_type": "display_data"
    },
    {
     "data": {
      "text/html": [
       "<pre style=\"white-space:pre;overflow-x:auto;line-height:normal;font-family:Menlo,'DejaVu Sans Mono',consolas,'Courier New',monospace\"></pre>\n"
      ],
      "text/plain": []
     },
     "metadata": {},
     "output_type": "display_data"
    },
    {
     "data": {
      "application/vnd.jupyter.widget-view+json": {
       "model_id": "c61f7ddd44db4fb6a97e623d5a7398b6",
       "version_major": 2,
       "version_minor": 0
      },
      "text/plain": [
       "Output()"
      ]
     },
     "metadata": {},
     "output_type": "display_data"
    },
    {
     "data": {
      "text/html": [
       "<pre style=\"white-space:pre;overflow-x:auto;line-height:normal;font-family:Menlo,'DejaVu Sans Mono',consolas,'Courier New',monospace\"></pre>\n"
      ],
      "text/plain": []
     },
     "metadata": {},
     "output_type": "display_data"
    },
    {
     "data": {
      "application/vnd.jupyter.widget-view+json": {
       "model_id": "d6accfe5cc5140daadc1b1bac38c1e32",
       "version_major": 2,
       "version_minor": 0
      },
      "text/plain": [
       "Output()"
      ]
     },
     "metadata": {},
     "output_type": "display_data"
    },
    {
     "data": {
      "text/html": [
       "<pre style=\"white-space:pre;overflow-x:auto;line-height:normal;font-family:Menlo,'DejaVu Sans Mono',consolas,'Courier New',monospace\"></pre>\n"
      ],
      "text/plain": []
     },
     "metadata": {},
     "output_type": "display_data"
    },
    {
     "data": {
      "application/vnd.jupyter.widget-view+json": {
       "model_id": "5096ecaf37574e15baf9857b6092c03c",
       "version_major": 2,
       "version_minor": 0
      },
      "text/plain": [
       "Output()"
      ]
     },
     "metadata": {},
     "output_type": "display_data"
    },
    {
     "data": {
      "text/html": [
       "<pre style=\"white-space:pre;overflow-x:auto;line-height:normal;font-family:Menlo,'DejaVu Sans Mono',consolas,'Courier New',monospace\"></pre>\n"
      ],
      "text/plain": []
     },
     "metadata": {},
     "output_type": "display_data"
    },
    {
     "data": {
      "application/vnd.jupyter.widget-view+json": {
       "model_id": "8ca8a0511c7143e2a5365b1d7518da89",
       "version_major": 2,
       "version_minor": 0
      },
      "text/plain": [
       "Output()"
      ]
     },
     "metadata": {},
     "output_type": "display_data"
    },
    {
     "data": {
      "text/html": [
       "<pre style=\"white-space:pre;overflow-x:auto;line-height:normal;font-family:Menlo,'DejaVu Sans Mono',consolas,'Courier New',monospace\"></pre>\n"
      ],
      "text/plain": []
     },
     "metadata": {},
     "output_type": "display_data"
    },
    {
     "data": {
      "application/vnd.jupyter.widget-view+json": {
       "model_id": "53d110d633b844a5b90fca7373bc1207",
       "version_major": 2,
       "version_minor": 0
      },
      "text/plain": [
       "Output()"
      ]
     },
     "metadata": {},
     "output_type": "display_data"
    },
    {
     "data": {
      "text/html": [
       "<pre style=\"white-space:pre;overflow-x:auto;line-height:normal;font-family:Menlo,'DejaVu Sans Mono',consolas,'Courier New',monospace\"></pre>\n"
      ],
      "text/plain": []
     },
     "metadata": {},
     "output_type": "display_data"
    },
    {
     "data": {
      "application/vnd.jupyter.widget-view+json": {
       "model_id": "8e637222965b4c689d2851d041379236",
       "version_major": 2,
       "version_minor": 0
      },
      "text/plain": [
       "Output()"
      ]
     },
     "metadata": {},
     "output_type": "display_data"
    },
    {
     "data": {
      "text/html": [
       "<pre style=\"white-space:pre;overflow-x:auto;line-height:normal;font-family:Menlo,'DejaVu Sans Mono',consolas,'Courier New',monospace\"></pre>\n"
      ],
      "text/plain": []
     },
     "metadata": {},
     "output_type": "display_data"
    },
    {
     "data": {
      "application/vnd.jupyter.widget-view+json": {
       "model_id": "cfbe0d5510914a96b51a1589022e3472",
       "version_major": 2,
       "version_minor": 0
      },
      "text/plain": [
       "Output()"
      ]
     },
     "metadata": {},
     "output_type": "display_data"
    },
    {
     "data": {
      "text/html": [
       "<pre style=\"white-space:pre;overflow-x:auto;line-height:normal;font-family:Menlo,'DejaVu Sans Mono',consolas,'Courier New',monospace\"></pre>\n"
      ],
      "text/plain": []
     },
     "metadata": {},
     "output_type": "display_data"
    },
    {
     "data": {
      "application/vnd.jupyter.widget-view+json": {
       "model_id": "20a79c01954d4700be272066099e408d",
       "version_major": 2,
       "version_minor": 0
      },
      "text/plain": [
       "Output()"
      ]
     },
     "metadata": {},
     "output_type": "display_data"
    },
    {
     "data": {
      "text/html": [
       "<pre style=\"white-space:pre;overflow-x:auto;line-height:normal;font-family:Menlo,'DejaVu Sans Mono',consolas,'Courier New',monospace\"></pre>\n"
      ],
      "text/plain": []
     },
     "metadata": {},
     "output_type": "display_data"
    },
    {
     "data": {
      "application/vnd.jupyter.widget-view+json": {
       "model_id": "e7b6b37cccd84a36ab0ebcdf4e12b44f",
       "version_major": 2,
       "version_minor": 0
      },
      "text/plain": [
       "Output()"
      ]
     },
     "metadata": {},
     "output_type": "display_data"
    },
    {
     "data": {
      "text/html": [
       "<pre style=\"white-space:pre;overflow-x:auto;line-height:normal;font-family:Menlo,'DejaVu Sans Mono',consolas,'Courier New',monospace\"></pre>\n"
      ],
      "text/plain": []
     },
     "metadata": {},
     "output_type": "display_data"
    },
    {
     "data": {
      "application/vnd.jupyter.widget-view+json": {
       "model_id": "04e897413b264ae984538292a29efadd",
       "version_major": 2,
       "version_minor": 0
      },
      "text/plain": [
       "Output()"
      ]
     },
     "metadata": {},
     "output_type": "display_data"
    },
    {
     "data": {
      "text/html": [
       "<pre style=\"white-space:pre;overflow-x:auto;line-height:normal;font-family:Menlo,'DejaVu Sans Mono',consolas,'Courier New',monospace\"></pre>\n"
      ],
      "text/plain": []
     },
     "metadata": {},
     "output_type": "display_data"
    },
    {
     "data": {
      "application/vnd.jupyter.widget-view+json": {
       "model_id": "ebe1ec2b256446fc8351f8ded8179455",
       "version_major": 2,
       "version_minor": 0
      },
      "text/plain": [
       "Output()"
      ]
     },
     "metadata": {},
     "output_type": "display_data"
    },
    {
     "data": {
      "text/html": [
       "<pre style=\"white-space:pre;overflow-x:auto;line-height:normal;font-family:Menlo,'DejaVu Sans Mono',consolas,'Courier New',monospace\"></pre>\n"
      ],
      "text/plain": []
     },
     "metadata": {},
     "output_type": "display_data"
    },
    {
     "data": {
      "application/vnd.jupyter.widget-view+json": {
       "model_id": "b8ac89ff54c84349ab417a649994d24b",
       "version_major": 2,
       "version_minor": 0
      },
      "text/plain": [
       "Output()"
      ]
     },
     "metadata": {},
     "output_type": "display_data"
    },
    {
     "data": {
      "text/html": [
       "<pre style=\"white-space:pre;overflow-x:auto;line-height:normal;font-family:Menlo,'DejaVu Sans Mono',consolas,'Courier New',monospace\"></pre>\n"
      ],
      "text/plain": []
     },
     "metadata": {},
     "output_type": "display_data"
    },
    {
     "data": {
      "application/vnd.jupyter.widget-view+json": {
       "model_id": "23331974dbb14c7d98d06f872e90f28e",
       "version_major": 2,
       "version_minor": 0
      },
      "text/plain": [
       "Output()"
      ]
     },
     "metadata": {},
     "output_type": "display_data"
    },
    {
     "data": {
      "text/html": [
       "<pre style=\"white-space:pre;overflow-x:auto;line-height:normal;font-family:Menlo,'DejaVu Sans Mono',consolas,'Courier New',monospace\"></pre>\n"
      ],
      "text/plain": []
     },
     "metadata": {},
     "output_type": "display_data"
    },
    {
     "data": {
      "application/vnd.jupyter.widget-view+json": {
       "model_id": "c5d6844b4983440d885fd4563c812054",
       "version_major": 2,
       "version_minor": 0
      },
      "text/plain": [
       "Output()"
      ]
     },
     "metadata": {},
     "output_type": "display_data"
    },
    {
     "data": {
      "text/html": [
       "<pre style=\"white-space:pre;overflow-x:auto;line-height:normal;font-family:Menlo,'DejaVu Sans Mono',consolas,'Courier New',monospace\"></pre>\n"
      ],
      "text/plain": []
     },
     "metadata": {},
     "output_type": "display_data"
    },
    {
     "data": {
      "application/vnd.jupyter.widget-view+json": {
       "model_id": "c323bbf56f8449b58e45f7227d7905fd",
       "version_major": 2,
       "version_minor": 0
      },
      "text/plain": [
       "Output()"
      ]
     },
     "metadata": {},
     "output_type": "display_data"
    },
    {
     "data": {
      "text/html": [
       "<pre style=\"white-space:pre;overflow-x:auto;line-height:normal;font-family:Menlo,'DejaVu Sans Mono',consolas,'Courier New',monospace\"></pre>\n"
      ],
      "text/plain": []
     },
     "metadata": {},
     "output_type": "display_data"
    },
    {
     "data": {
      "application/vnd.jupyter.widget-view+json": {
       "model_id": "3cab60f845444ac3ac65f10daf680daf",
       "version_major": 2,
       "version_minor": 0
      },
      "text/plain": [
       "Output()"
      ]
     },
     "metadata": {},
     "output_type": "display_data"
    },
    {
     "data": {
      "text/html": [
       "<pre style=\"white-space:pre;overflow-x:auto;line-height:normal;font-family:Menlo,'DejaVu Sans Mono',consolas,'Courier New',monospace\"></pre>\n"
      ],
      "text/plain": []
     },
     "metadata": {},
     "output_type": "display_data"
    },
    {
     "data": {
      "application/vnd.jupyter.widget-view+json": {
       "model_id": "1ca4aaae6fa447fb88011d2110d4f8ed",
       "version_major": 2,
       "version_minor": 0
      },
      "text/plain": [
       "Output()"
      ]
     },
     "metadata": {},
     "output_type": "display_data"
    },
    {
     "data": {
      "text/html": [
       "<pre style=\"white-space:pre;overflow-x:auto;line-height:normal;font-family:Menlo,'DejaVu Sans Mono',consolas,'Courier New',monospace\"></pre>\n"
      ],
      "text/plain": []
     },
     "metadata": {},
     "output_type": "display_data"
    },
    {
     "data": {
      "application/vnd.jupyter.widget-view+json": {
       "model_id": "24029bb54dcc475d97b24ca9f40fabe1",
       "version_major": 2,
       "version_minor": 0
      },
      "text/plain": [
       "Output()"
      ]
     },
     "metadata": {},
     "output_type": "display_data"
    },
    {
     "data": {
      "text/html": [
       "<pre style=\"white-space:pre;overflow-x:auto;line-height:normal;font-family:Menlo,'DejaVu Sans Mono',consolas,'Courier New',monospace\"></pre>\n"
      ],
      "text/plain": []
     },
     "metadata": {},
     "output_type": "display_data"
    },
    {
     "data": {
      "application/vnd.jupyter.widget-view+json": {
       "model_id": "5b29ce8335a24c438b44a37dba070125",
       "version_major": 2,
       "version_minor": 0
      },
      "text/plain": [
       "Output()"
      ]
     },
     "metadata": {},
     "output_type": "display_data"
    },
    {
     "data": {
      "text/html": [
       "<pre style=\"white-space:pre;overflow-x:auto;line-height:normal;font-family:Menlo,'DejaVu Sans Mono',consolas,'Courier New',monospace\"></pre>\n"
      ],
      "text/plain": []
     },
     "metadata": {},
     "output_type": "display_data"
    },
    {
     "data": {
      "application/vnd.jupyter.widget-view+json": {
       "model_id": "ae55dc277a3144cfaf3bcc2c77bb6c0a",
       "version_major": 2,
       "version_minor": 0
      },
      "text/plain": [
       "Output()"
      ]
     },
     "metadata": {},
     "output_type": "display_data"
    },
    {
     "data": {
      "text/html": [
       "<pre style=\"white-space:pre;overflow-x:auto;line-height:normal;font-family:Menlo,'DejaVu Sans Mono',consolas,'Courier New',monospace\"></pre>\n"
      ],
      "text/plain": []
     },
     "metadata": {},
     "output_type": "display_data"
    },
    {
     "data": {
      "application/vnd.jupyter.widget-view+json": {
       "model_id": "b55c99f334bc4e3b8556f9b5ebcb3314",
       "version_major": 2,
       "version_minor": 0
      },
      "text/plain": [
       "Output()"
      ]
     },
     "metadata": {},
     "output_type": "display_data"
    },
    {
     "data": {
      "text/html": [
       "<pre style=\"white-space:pre;overflow-x:auto;line-height:normal;font-family:Menlo,'DejaVu Sans Mono',consolas,'Courier New',monospace\"></pre>\n"
      ],
      "text/plain": []
     },
     "metadata": {},
     "output_type": "display_data"
    },
    {
     "data": {
      "application/vnd.jupyter.widget-view+json": {
       "model_id": "a714db1ec83b465e8ec5111faaf06027",
       "version_major": 2,
       "version_minor": 0
      },
      "text/plain": [
       "Output()"
      ]
     },
     "metadata": {},
     "output_type": "display_data"
    },
    {
     "data": {
      "text/html": [
       "<pre style=\"white-space:pre;overflow-x:auto;line-height:normal;font-family:Menlo,'DejaVu Sans Mono',consolas,'Courier New',monospace\"></pre>\n"
      ],
      "text/plain": []
     },
     "metadata": {},
     "output_type": "display_data"
    },
    {
     "data": {
      "application/vnd.jupyter.widget-view+json": {
       "model_id": "59b5a96e65b14e3bb0dcc68039dba48d",
       "version_major": 2,
       "version_minor": 0
      },
      "text/plain": [
       "Output()"
      ]
     },
     "metadata": {},
     "output_type": "display_data"
    },
    {
     "data": {
      "text/html": [
       "<pre style=\"white-space:pre;overflow-x:auto;line-height:normal;font-family:Menlo,'DejaVu Sans Mono',consolas,'Courier New',monospace\"></pre>\n"
      ],
      "text/plain": []
     },
     "metadata": {},
     "output_type": "display_data"
    },
    {
     "data": {
      "application/vnd.jupyter.widget-view+json": {
       "model_id": "65d0bcdc9c8f4a33b2c9c097126ff3bc",
       "version_major": 2,
       "version_minor": 0
      },
      "text/plain": [
       "Output()"
      ]
     },
     "metadata": {},
     "output_type": "display_data"
    },
    {
     "data": {
      "text/html": [
       "<pre style=\"white-space:pre;overflow-x:auto;line-height:normal;font-family:Menlo,'DejaVu Sans Mono',consolas,'Courier New',monospace\"></pre>\n"
      ],
      "text/plain": []
     },
     "metadata": {},
     "output_type": "display_data"
    },
    {
     "data": {
      "application/vnd.jupyter.widget-view+json": {
       "model_id": "35e167bb06944dbc9c88e42eaee1dfd5",
       "version_major": 2,
       "version_minor": 0
      },
      "text/plain": [
       "Output()"
      ]
     },
     "metadata": {},
     "output_type": "display_data"
    },
    {
     "data": {
      "text/html": [
       "<pre style=\"white-space:pre;overflow-x:auto;line-height:normal;font-family:Menlo,'DejaVu Sans Mono',consolas,'Courier New',monospace\"></pre>\n"
      ],
      "text/plain": []
     },
     "metadata": {},
     "output_type": "display_data"
    },
    {
     "data": {
      "application/vnd.jupyter.widget-view+json": {
       "model_id": "e9593c4bac6842d5a6a3e3e773dcf86f",
       "version_major": 2,
       "version_minor": 0
      },
      "text/plain": [
       "Output()"
      ]
     },
     "metadata": {},
     "output_type": "display_data"
    },
    {
     "data": {
      "text/html": [
       "<pre style=\"white-space:pre;overflow-x:auto;line-height:normal;font-family:Menlo,'DejaVu Sans Mono',consolas,'Courier New',monospace\"></pre>\n"
      ],
      "text/plain": []
     },
     "metadata": {},
     "output_type": "display_data"
    },
    {
     "data": {
      "application/vnd.jupyter.widget-view+json": {
       "model_id": "683b50e93e55435891798e5386651aec",
       "version_major": 2,
       "version_minor": 0
      },
      "text/plain": [
       "Output()"
      ]
     },
     "metadata": {},
     "output_type": "display_data"
    },
    {
     "data": {
      "text/html": [
       "<pre style=\"white-space:pre;overflow-x:auto;line-height:normal;font-family:Menlo,'DejaVu Sans Mono',consolas,'Courier New',monospace\"></pre>\n"
      ],
      "text/plain": []
     },
     "metadata": {},
     "output_type": "display_data"
    },
    {
     "data": {
      "application/vnd.jupyter.widget-view+json": {
       "model_id": "1e5f114465434037b9cc59447626cb87",
       "version_major": 2,
       "version_minor": 0
      },
      "text/plain": [
       "Output()"
      ]
     },
     "metadata": {},
     "output_type": "display_data"
    },
    {
     "data": {
      "text/html": [
       "<pre style=\"white-space:pre;overflow-x:auto;line-height:normal;font-family:Menlo,'DejaVu Sans Mono',consolas,'Courier New',monospace\"></pre>\n"
      ],
      "text/plain": []
     },
     "metadata": {},
     "output_type": "display_data"
    },
    {
     "data": {
      "application/vnd.jupyter.widget-view+json": {
       "model_id": "55ba2d795a114210b5829eef902be556",
       "version_major": 2,
       "version_minor": 0
      },
      "text/plain": [
       "Output()"
      ]
     },
     "metadata": {},
     "output_type": "display_data"
    },
    {
     "data": {
      "text/html": [
       "<pre style=\"white-space:pre;overflow-x:auto;line-height:normal;font-family:Menlo,'DejaVu Sans Mono',consolas,'Courier New',monospace\"></pre>\n"
      ],
      "text/plain": []
     },
     "metadata": {},
     "output_type": "display_data"
    },
    {
     "data": {
      "application/vnd.jupyter.widget-view+json": {
       "model_id": "cdc648594065423896fb8d27f6772135",
       "version_major": 2,
       "version_minor": 0
      },
      "text/plain": [
       "Output()"
      ]
     },
     "metadata": {},
     "output_type": "display_data"
    },
    {
     "data": {
      "text/html": [
       "<pre style=\"white-space:pre;overflow-x:auto;line-height:normal;font-family:Menlo,'DejaVu Sans Mono',consolas,'Courier New',monospace\"></pre>\n"
      ],
      "text/plain": []
     },
     "metadata": {},
     "output_type": "display_data"
    },
    {
     "data": {
      "application/vnd.jupyter.widget-view+json": {
       "model_id": "47b6b1d3a8674cb988a161ddcf35588d",
       "version_major": 2,
       "version_minor": 0
      },
      "text/plain": [
       "Output()"
      ]
     },
     "metadata": {},
     "output_type": "display_data"
    },
    {
     "data": {
      "text/html": [
       "<pre style=\"white-space:pre;overflow-x:auto;line-height:normal;font-family:Menlo,'DejaVu Sans Mono',consolas,'Courier New',monospace\"></pre>\n"
      ],
      "text/plain": []
     },
     "metadata": {},
     "output_type": "display_data"
    },
    {
     "data": {
      "application/vnd.jupyter.widget-view+json": {
       "model_id": "bce862ad1a444aa28fab5464c121b045",
       "version_major": 2,
       "version_minor": 0
      },
      "text/plain": [
       "Output()"
      ]
     },
     "metadata": {},
     "output_type": "display_data"
    },
    {
     "data": {
      "text/html": [
       "<pre style=\"white-space:pre;overflow-x:auto;line-height:normal;font-family:Menlo,'DejaVu Sans Mono',consolas,'Courier New',monospace\"></pre>\n"
      ],
      "text/plain": []
     },
     "metadata": {},
     "output_type": "display_data"
    },
    {
     "data": {
      "application/vnd.jupyter.widget-view+json": {
       "model_id": "a87c1c333b6f4583b28ce5eb4f5e5386",
       "version_major": 2,
       "version_minor": 0
      },
      "text/plain": [
       "Output()"
      ]
     },
     "metadata": {},
     "output_type": "display_data"
    },
    {
     "data": {
      "text/html": [
       "<pre style=\"white-space:pre;overflow-x:auto;line-height:normal;font-family:Menlo,'DejaVu Sans Mono',consolas,'Courier New',monospace\"></pre>\n"
      ],
      "text/plain": []
     },
     "metadata": {},
     "output_type": "display_data"
    },
    {
     "data": {
      "application/vnd.jupyter.widget-view+json": {
       "model_id": "c676372f67f443c98d81cf8f65056f55",
       "version_major": 2,
       "version_minor": 0
      },
      "text/plain": [
       "Output()"
      ]
     },
     "metadata": {},
     "output_type": "display_data"
    },
    {
     "data": {
      "text/html": [
       "<pre style=\"white-space:pre;overflow-x:auto;line-height:normal;font-family:Menlo,'DejaVu Sans Mono',consolas,'Courier New',monospace\"></pre>\n"
      ],
      "text/plain": []
     },
     "metadata": {},
     "output_type": "display_data"
    },
    {
     "data": {
      "application/vnd.jupyter.widget-view+json": {
       "model_id": "5eee95c24fa541bfbe2f7c20f0b7581b",
       "version_major": 2,
       "version_minor": 0
      },
      "text/plain": [
       "Output()"
      ]
     },
     "metadata": {},
     "output_type": "display_data"
    },
    {
     "data": {
      "text/html": [
       "<pre style=\"white-space:pre;overflow-x:auto;line-height:normal;font-family:Menlo,'DejaVu Sans Mono',consolas,'Courier New',monospace\"></pre>\n"
      ],
      "text/plain": []
     },
     "metadata": {},
     "output_type": "display_data"
    }
   ],
   "source": [
    "total_num=0\n",
    "ret_list=[]\n",
    "for idx,info in enumerate(ext_train_data[\"annotations\"]):\n",
    "    file_name = ext_train_data[\"images\"][info[\"image_id\"]][\"file_name\"]\n",
    "    image_path = os.path.join(image_path_prefix,file_name)\n",
    "    results = inferencer(image_path)\n",
    "    \n",
    "    if total_num>extra_image_num:\n",
    "        break\n",
    "    total_num+=1\n",
    "    for ret_idx,bbox in enumerate(results[\"predictions\"][0][\"bboxes\"]):\n",
    "        if results['predictions'][0][\"scores\"][ret_idx] > pseudo_thres:\n",
    "            min_x, min_y, max_x, max_y = bbox\n",
    "            ret = {\n",
    "                    \"image_id\" : file_name,\n",
    "                    \"category_id\" : results['predictions'][0][\"labels\"][ret_idx],\n",
    "                    \"bbox\":[\n",
    "                        min_x,\n",
    "                        min_y,\n",
    "                        max_x-min_x,\n",
    "                        max_y-min_y\n",
    "                    ],\n",
    "                    \"score\":results['predictions'][0][\"scores\"][ret_idx],\n",
    "                }\n",
    "            ret_list.append(ret)\n",
    "        \n",
    "    \n"
   ]
  },
  {
   "cell_type": "code",
   "execution_count": 17,
   "id": "7861f846",
   "metadata": {},
   "outputs": [],
   "source": [
    "with open(os.path.join(save_prefix,\"extra_pseudo_ann.txt\"), \"w\") as file:\n",
    "    json.dump(ret_list, file, indent=4)"
   ]
  },
  {
   "cell_type": "code",
   "execution_count": null,
   "id": "01817e6d",
   "metadata": {},
   "outputs": [],
   "source": []
  }
 ],
 "metadata": {
  "kernelspec": {
   "display_name": "Python 3 (ipykernel)",
   "language": "python",
   "name": "python3"
  },
  "language_info": {
   "codemirror_mode": {
    "name": "ipython",
    "version": 3
   },
   "file_extension": ".py",
   "mimetype": "text/x-python",
   "name": "python",
   "nbconvert_exporter": "python",
   "pygments_lexer": "ipython3",
   "version": "3.7.10"
  }
 },
 "nbformat": 4,
 "nbformat_minor": 5
}
