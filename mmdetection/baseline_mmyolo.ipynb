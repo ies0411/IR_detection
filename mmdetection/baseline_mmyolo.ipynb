{
 "cells": [
  {
   "cell_type": "code",
   "execution_count": 1,
   "id": "0c2d2a56",
   "metadata": {},
   "outputs": [],
   "source": [
    "import os\n",
    "os.environ[\"CUDA_VISIBLE_DEVICES\"]=\"2\""
   ]
  },
  {
   "cell_type": "code",
   "execution_count": 2,
   "id": "6aa1aeac",
   "metadata": {},
   "outputs": [],
   "source": [
    "# Copyright (c) OpenMMLab. All rights reserved.\n",
    "import os\n",
    "from argparse import ArgumentParser\n",
    "from pathlib import Path\n",
    "\n",
    "import mmcv\n",
    "from mmdet.apis import inference_detector, init_detector\n",
    "from mmengine.config import Config, ConfigDict\n",
    "from mmengine.logging import print_log\n",
    "from mmengine.utils import ProgressBar, path\n",
    "\n",
    "from mmyolo.registry import VISUALIZERS\n",
    "from mmyolo.utils import switch_to_deploy\n",
    "from mmyolo.utils.labelme_utils import LabelmeFormat\n",
    "from mmyolo.utils.misc import get_file_list, show_data_classes\n",
    "\n",
    "from PIL import Image\n",
    "from natsort import natsorted\n",
    "import json\n",
    "\n"
   ]
  },
  {
   "cell_type": "code",
   "execution_count": 3,
   "id": "2ac51590",
   "metadata": {},
   "outputs": [],
   "source": [
    "config = \"./mmyolo/configs/ppyoloe/mymodel_big.py\"\n",
    "checkpoint = \"./mmyolo/work_dir/ppy/big/epoch_2.pth\"\n",
    "tta_flag=False\n",
    "device = 'cuda:0'\n",
    "out_dir = \"./mmyolo/out_dir\"\n",
    "score_thr = 0.3\n",
    "\n",
    "norm_scale=640\n",
    "# img_scale = (640, 640)"
   ]
  },
  {
   "cell_type": "code",
   "execution_count": 4,
   "id": "e1177a4a",
   "metadata": {},
   "outputs": [],
   "source": [
    "config = Config.fromfile(config)\n",
    "if 'init_cfg' in config.model.backbone:\n",
    "    config.model.backbone.init_cfg = None\n",
    "    \n",
    "if tta_flag:\n",
    "    assert 'tta_model' in config, 'Cannot find ``tta_model`` in config.' \\\n",
    "        \" Can't use tta !\"\n",
    "    assert 'tta_pipeline' in config, 'Cannot find ``tta_pipeline`` ' \\\n",
    "        \"in config. Can't use tta !\"\n",
    "    config.model = ConfigDict(**config.tta_model, module=config.model)\n",
    "    test_data_cfg = config.test_dataloader.dataset\n",
    "    while 'dataset' in test_data_cfg:\n",
    "        test_data_cfg = test_data_cfg['dataset']\n",
    "\n",
    "    # batch_shapes_cfg will force control the size of the output image,\n",
    "    # it is not compatible with tta.\n",
    "    if 'batch_shapes_cfg' in test_data_cfg:\n",
    "        test_data_cfg.batch_shapes_cfg = None\n",
    "    test_data_cfg.pipeline = config.tta_pipeline\n",
    "# print(test_data_cfg.pipeline)\n",
    "# test_data_cfg"
   ]
  },
  {
   "cell_type": "code",
   "execution_count": 5,
   "id": "b3402243",
   "metadata": {},
   "outputs": [],
   "source": [
    "# config.test_dataloader.dataset"
   ]
  },
  {
   "cell_type": "code",
   "execution_count": 6,
   "id": "c977abf4",
   "metadata": {},
   "outputs": [],
   "source": [
    "# config.test_dataloader.dataset.pipeline[1].width = 800\n",
    "# config.test_dataloader.dataset.pipeline[1].height = 800\n",
    "# config.test_dataloader.dataset.pipeline[1].keep_ratio = False\n",
    "# # config.test_dataloader.dataset.pipeline[1]"
   ]
  },
  {
   "cell_type": "code",
   "execution_count": 7,
   "id": "9df6341d",
   "metadata": {},
   "outputs": [],
   "source": [
    "# config"
   ]
  },
  {
   "cell_type": "code",
   "execution_count": null,
   "id": "74fcf3a1",
   "metadata": {},
   "outputs": [
    {
     "name": "stderr",
     "output_type": "stream",
     "text": [
      "/opt/conda/lib/python3.7/site-packages/mmcv/cnn/bricks/hsigmoid.py:36: UserWarning: In MMCV v1.4.4, we modified the default value of args to align with PyTorch official. Previous Implementation: Hsigmoid(x) = min(max((x + 1) / 2, 0), 1). Current Implementation: Hsigmoid(x) = min(max((x + 3) / 6, 0), 1).\n",
      "  'In MMCV v1.4.4, we modified the default value of args to align '\n"
     ]
    },
    {
     "name": "stdout",
     "output_type": "stream",
     "text": [
      "Loads checkpoint by local backend from path: ./mmyolo/work_dir/ppy/big/epoch_2.pth\n"
     ]
    }
   ],
   "source": [
    "model = init_detector(config, checkpoint, device=device, cfg_options={})\n",
    "switch_to_deploy(model)\n",
    "path.mkdir_or_exist(out_dir)\n",
    "\n",
    "visualizer = VISUALIZERS.build(model.cfg.visualizer)\n",
    "visualizer.dataset_meta = model.dataset_meta"
   ]
  },
  {
   "cell_type": "code",
   "execution_count": null,
   "id": "4e1da5c9",
   "metadata": {},
   "outputs": [],
   "source": [
    "file = './mmyolo/data/all_dataset/test/test_open_115.png'\n",
    "\n",
    "result = inference_detector(model, file)\n",
    "\n",
    "img = mmcv.imread(file)\n",
    "img = mmcv.imconvert(img, \"bgr\", \"rgb\")\n",
    "\n",
    "filename = os.path.basename(file)\n",
    "out_file = os.path.join(out_dir, filename)\n",
    "\n",
    "# progress_bar.update()\n",
    "\n",
    "# Get candidate predict info with score threshold\n",
    "pred_instances = result.pred_instances[\n",
    "    result.pred_instances.scores > score_thr\n",
    "]\n",
    "\n",
    "\n",
    "visualizer.add_datasample(\n",
    "    filename,\n",
    "    img,\n",
    "    data_sample=result,\n",
    "    draw_gt=False,\n",
    "    show=False,\n",
    "    wait_time=0,\n",
    "    out_file=out_file,\n",
    "    pred_score_thr=score_thr,\n",
    ")\n",
    "Image.open(\"mmyolo/out_dir/\"+file.split(\"/\")[-1])"
   ]
  },
  {
   "cell_type": "code",
   "execution_count": null,
   "id": "9525db63",
   "metadata": {},
   "outputs": [],
   "source": []
  },
  {
   "cell_type": "code",
   "execution_count": 10,
   "id": "f318083e",
   "metadata": {},
   "outputs": [],
   "source": [
    "\n",
    "test_dir_prefix = \"mmyolo/data/all_dataset/test/\"\n",
    "images = os.listdir(test_dir_prefix)\n",
    "sorted_images = natsorted(images)\n"
   ]
  },
  {
   "cell_type": "code",
   "execution_count": 11,
   "id": "18167038",
   "metadata": {},
   "outputs": [],
   "source": [
    "sub_results = []\n",
    "sub_results_for_fusion=[]\n",
    "# total_num = 0\n",
    "for image_dir in sorted_images:\n",
    "    result = inference_detector(model, os.path.join(test_dir_prefix,image_dir))\n",
    "#     with Image.open(os.path.join(test_dir_prefix,image_dir)) as img:\n",
    "#         image_width, image_height = img.size  # Get width and height of the image\n",
    "    bboxes = result.get(\"pred_instances\").get(\"bboxes\").tolist()\n",
    "    scores = result.get(\"pred_instances\").get(\"scores\").tolist()\n",
    "    labels = result.get(\"pred_instances\").get(\"labels\").tolist()\n",
    "    obj_num = len(bboxes)\n",
    "    for idx in range(obj_num):\n",
    "#         if labels[idx] > 8:\n",
    "#             print(result['predictions'][0][\"labels\"][idx])\n",
    "        min_x, min_y, max_x, max_y = bboxes[idx]\n",
    "        \n",
    "        normalized_min_x = min_x / norm_scale\n",
    "        normalized_min_y = min_y / norm_scale\n",
    "        normalized_max_x = max_x / norm_scale\n",
    "        normalized_max_y = max_y / norm_scale\n",
    "        \n",
    "        ret = {\n",
    "            \"image_id\" : str(image_dir.split(\".\")[0]),\n",
    "            \"category_id\" : labels[idx],\n",
    "            \"bbox\":[\n",
    "                min_x,\n",
    "                min_y,\n",
    "                max_x-min_x,\n",
    "                max_y-min_y\n",
    "            ],\n",
    "            \"score\":scores[idx],\n",
    "        }\n",
    "        ret_fusion={\n",
    "            \"image_id\" : str(image_dir.split(\".\")[0]),\n",
    "            \"category_id\" : labels[idx],\n",
    "            \"bbox\":[\n",
    "                normalized_min_x,\n",
    "                normalized_min_y,\n",
    "                normalized_max_x,\n",
    "                normalized_max_y\n",
    "            ],\n",
    "            \"score\":scores[idx],\n",
    "        }\n",
    "\n",
    "        sub_results.append(ret)\n",
    "        sub_results_for_fusion.append(ret_fusion)\n",
    "#     break\n",
    "#     total_num+=1\n",
    "#     print(total_num)\n",
    "with open(\"/home/eslim/workspace/comp/results/sub_results_ppy_ps.txt\", \"w\") as file:\n",
    "    json.dump(sub_results, file, indent=4)\n",
    "\n",
    "\n",
    "with open(\"/home/eslim/workspace/comp/results/sub_results_ppy_ps_fusion.txt\", \"w\") as file:\n",
    "    json.dump(sub_results_for_fusion, file, indent=4)"
   ]
  },
  {
   "cell_type": "code",
   "execution_count": null,
   "id": "b9ac9f8c",
   "metadata": {},
   "outputs": [],
   "source": []
  }
 ],
 "metadata": {
  "kernelspec": {
   "display_name": "Python 3 (ipykernel)",
   "language": "python",
   "name": "python3"
  },
  "language_info": {
   "codemirror_mode": {
    "name": "ipython",
    "version": 3
   },
   "file_extension": ".py",
   "mimetype": "text/x-python",
   "name": "python",
   "nbconvert_exporter": "python",
   "pygments_lexer": "ipython3",
   "version": "3.7.10"
  }
 },
 "nbformat": 4,
 "nbformat_minor": 5
}
